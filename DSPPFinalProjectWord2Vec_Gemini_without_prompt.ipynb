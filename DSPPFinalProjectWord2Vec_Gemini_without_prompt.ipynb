{
  "cells": [
    {
      "cell_type": "code",
      "execution_count": null,
      "metadata": {
        "id": "wP5AkNllFfSj",
        "colab": {
          "base_uri": "https://localhost:8080/",
          "height": 433
        },
        "outputId": "8ec2c146-999b-4c20-c7d0-02ddd37dd2ba"
      },
      "outputs": [
        {
          "output_type": "execute_result",
          "data": {
            "text/plain": [
              "                                               original  \\\n",
              "0     Tampio researches the history of political tho...   \n",
              "1     He has been a practicing Dentist for 11 years....   \n",
              "2     Mr. Miserez devotes a substantial portion of h...   \n",
              "3     She holds a master’s degree in nutrition educa...   \n",
              "4     She received her Ph.D. in 2013 from Florida In...   \n",
              "...                                                 ...   \n",
              "9995  He grew up in an artist household where his pa...   \n",
              "9996  He has done a study on the death of Jesus and ...   \n",
              "9997  He is passionate about building up DC's queer ...   \n",
              "9998  In the last years she is enjoying part-time mo...   \n",
              "9999  Mr. Tartarilla practices medicine in Fort Walt...   \n",
              "\n",
              "                                     modified_sentences  \n",
              "0     Tampio researches the history of political tho...  \n",
              "1     Book an appointment online with Dr. Nitendra S...  \n",
              "2     Mr. Miserez's practice focuses on representing...  \n",
              "3     She holds an M.S. in nutrition education from ...  \n",
              "4     She earned her Ph.D. from Florida Internationa...  \n",
              "...                                                 ...  \n",
              "9995  He grew up in an artist household where his pa...  \n",
              "9996  If the arms were outstretched at a 60-70 degre...  \n",
              "9997  Passionate about fostering DC's queer undergro...  \n",
              "9998  She enjoys part-time modeling to build her por...  \n",
              "9999  Mr. Tartarilla, who practices Family Medicine ...  \n",
              "\n",
              "[10000 rows x 2 columns]"
            ],
            "text/html": [
              "\n",
              "  <div id=\"df-7606917d-72a0-4e79-b3dc-7b7c798a3523\" class=\"colab-df-container\">\n",
              "    <div>\n",
              "<style scoped>\n",
              "    .dataframe tbody tr th:only-of-type {\n",
              "        vertical-align: middle;\n",
              "    }\n",
              "\n",
              "    .dataframe tbody tr th {\n",
              "        vertical-align: top;\n",
              "    }\n",
              "\n",
              "    .dataframe thead th {\n",
              "        text-align: right;\n",
              "    }\n",
              "</style>\n",
              "<table border=\"1\" class=\"dataframe\">\n",
              "  <thead>\n",
              "    <tr style=\"text-align: right;\">\n",
              "      <th></th>\n",
              "      <th>original</th>\n",
              "      <th>modified_sentences</th>\n",
              "    </tr>\n",
              "  </thead>\n",
              "  <tbody>\n",
              "    <tr>\n",
              "      <th>0</th>\n",
              "      <td>Tampio researches the history of political tho...</td>\n",
              "      <td>Tampio researches the history of political tho...</td>\n",
              "    </tr>\n",
              "    <tr>\n",
              "      <th>1</th>\n",
              "      <td>He has been a practicing Dentist for 11 years....</td>\n",
              "      <td>Book an appointment online with Dr. Nitendra S...</td>\n",
              "    </tr>\n",
              "    <tr>\n",
              "      <th>2</th>\n",
              "      <td>Mr. Miserez devotes a substantial portion of h...</td>\n",
              "      <td>Mr. Miserez's practice focuses on representing...</td>\n",
              "    </tr>\n",
              "    <tr>\n",
              "      <th>3</th>\n",
              "      <td>She holds a master’s degree in nutrition educa...</td>\n",
              "      <td>She holds an M.S. in nutrition education from ...</td>\n",
              "    </tr>\n",
              "    <tr>\n",
              "      <th>4</th>\n",
              "      <td>She received her Ph.D. in 2013 from Florida In...</td>\n",
              "      <td>She earned her Ph.D. from Florida Internationa...</td>\n",
              "    </tr>\n",
              "    <tr>\n",
              "      <th>...</th>\n",
              "      <td>...</td>\n",
              "      <td>...</td>\n",
              "    </tr>\n",
              "    <tr>\n",
              "      <th>9995</th>\n",
              "      <td>He grew up in an artist household where his pa...</td>\n",
              "      <td>He grew up in an artist household where his pa...</td>\n",
              "    </tr>\n",
              "    <tr>\n",
              "      <th>9996</th>\n",
              "      <td>He has done a study on the death of Jesus and ...</td>\n",
              "      <td>If the arms were outstretched at a 60-70 degre...</td>\n",
              "    </tr>\n",
              "    <tr>\n",
              "      <th>9997</th>\n",
              "      <td>He is passionate about building up DC's queer ...</td>\n",
              "      <td>Passionate about fostering DC's queer undergro...</td>\n",
              "    </tr>\n",
              "    <tr>\n",
              "      <th>9998</th>\n",
              "      <td>In the last years she is enjoying part-time mo...</td>\n",
              "      <td>She enjoys part-time modeling to build her por...</td>\n",
              "    </tr>\n",
              "    <tr>\n",
              "      <th>9999</th>\n",
              "      <td>Mr. Tartarilla practices medicine in Fort Walt...</td>\n",
              "      <td>Mr. Tartarilla, who practices Family Medicine ...</td>\n",
              "    </tr>\n",
              "  </tbody>\n",
              "</table>\n",
              "<p>10000 rows × 2 columns</p>\n",
              "</div>\n",
              "    <div class=\"colab-df-buttons\">\n",
              "\n",
              "  <div class=\"colab-df-container\">\n",
              "    <button class=\"colab-df-convert\" onclick=\"convertToInteractive('df-7606917d-72a0-4e79-b3dc-7b7c798a3523')\"\n",
              "            title=\"Convert this dataframe to an interactive table.\"\n",
              "            style=\"display:none;\">\n",
              "\n",
              "  <svg xmlns=\"http://www.w3.org/2000/svg\" height=\"24px\" viewBox=\"0 -960 960 960\">\n",
              "    <path d=\"M120-120v-720h720v720H120Zm60-500h600v-160H180v160Zm220 220h160v-160H400v160Zm0 220h160v-160H400v160ZM180-400h160v-160H180v160Zm440 0h160v-160H620v160ZM180-180h160v-160H180v160Zm440 0h160v-160H620v160Z\"/>\n",
              "  </svg>\n",
              "    </button>\n",
              "\n",
              "  <style>\n",
              "    .colab-df-container {\n",
              "      display:flex;\n",
              "      gap: 12px;\n",
              "    }\n",
              "\n",
              "    .colab-df-convert {\n",
              "      background-color: #E8F0FE;\n",
              "      border: none;\n",
              "      border-radius: 50%;\n",
              "      cursor: pointer;\n",
              "      display: none;\n",
              "      fill: #1967D2;\n",
              "      height: 32px;\n",
              "      padding: 0 0 0 0;\n",
              "      width: 32px;\n",
              "    }\n",
              "\n",
              "    .colab-df-convert:hover {\n",
              "      background-color: #E2EBFA;\n",
              "      box-shadow: 0px 1px 2px rgba(60, 64, 67, 0.3), 0px 1px 3px 1px rgba(60, 64, 67, 0.15);\n",
              "      fill: #174EA6;\n",
              "    }\n",
              "\n",
              "    .colab-df-buttons div {\n",
              "      margin-bottom: 4px;\n",
              "    }\n",
              "\n",
              "    [theme=dark] .colab-df-convert {\n",
              "      background-color: #3B4455;\n",
              "      fill: #D2E3FC;\n",
              "    }\n",
              "\n",
              "    [theme=dark] .colab-df-convert:hover {\n",
              "      background-color: #434B5C;\n",
              "      box-shadow: 0px 1px 3px 1px rgba(0, 0, 0, 0.15);\n",
              "      filter: drop-shadow(0px 1px 2px rgba(0, 0, 0, 0.3));\n",
              "      fill: #FFFFFF;\n",
              "    }\n",
              "  </style>\n",
              "\n",
              "    <script>\n",
              "      const buttonEl =\n",
              "        document.querySelector('#df-7606917d-72a0-4e79-b3dc-7b7c798a3523 button.colab-df-convert');\n",
              "      buttonEl.style.display =\n",
              "        google.colab.kernel.accessAllowed ? 'block' : 'none';\n",
              "\n",
              "      async function convertToInteractive(key) {\n",
              "        const element = document.querySelector('#df-7606917d-72a0-4e79-b3dc-7b7c798a3523');\n",
              "        const dataTable =\n",
              "          await google.colab.kernel.invokeFunction('convertToInteractive',\n",
              "                                                    [key], {});\n",
              "        if (!dataTable) return;\n",
              "\n",
              "        const docLinkHtml = 'Like what you see? Visit the ' +\n",
              "          '<a target=\"_blank\" href=https://colab.research.google.com/notebooks/data_table.ipynb>data table notebook</a>'\n",
              "          + ' to learn more about interactive tables.';\n",
              "        element.innerHTML = '';\n",
              "        dataTable['output_type'] = 'display_data';\n",
              "        await google.colab.output.renderOutput(dataTable, element);\n",
              "        const docLink = document.createElement('div');\n",
              "        docLink.innerHTML = docLinkHtml;\n",
              "        element.appendChild(docLink);\n",
              "      }\n",
              "    </script>\n",
              "  </div>\n",
              "\n",
              "\n",
              "<div id=\"df-014f896a-5f73-4fc7-8212-41848ac3a0e4\">\n",
              "  <button class=\"colab-df-quickchart\" onclick=\"quickchart('df-014f896a-5f73-4fc7-8212-41848ac3a0e4')\"\n",
              "            title=\"Suggest charts\"\n",
              "            style=\"display:none;\">\n",
              "\n",
              "<svg xmlns=\"http://www.w3.org/2000/svg\" height=\"24px\"viewBox=\"0 0 24 24\"\n",
              "     width=\"24px\">\n",
              "    <g>\n",
              "        <path d=\"M19 3H5c-1.1 0-2 .9-2 2v14c0 1.1.9 2 2 2h14c1.1 0 2-.9 2-2V5c0-1.1-.9-2-2-2zM9 17H7v-7h2v7zm4 0h-2V7h2v10zm4 0h-2v-4h2v4z\"/>\n",
              "    </g>\n",
              "</svg>\n",
              "  </button>\n",
              "\n",
              "<style>\n",
              "  .colab-df-quickchart {\n",
              "      --bg-color: #E8F0FE;\n",
              "      --fill-color: #1967D2;\n",
              "      --hover-bg-color: #E2EBFA;\n",
              "      --hover-fill-color: #174EA6;\n",
              "      --disabled-fill-color: #AAA;\n",
              "      --disabled-bg-color: #DDD;\n",
              "  }\n",
              "\n",
              "  [theme=dark] .colab-df-quickchart {\n",
              "      --bg-color: #3B4455;\n",
              "      --fill-color: #D2E3FC;\n",
              "      --hover-bg-color: #434B5C;\n",
              "      --hover-fill-color: #FFFFFF;\n",
              "      --disabled-bg-color: #3B4455;\n",
              "      --disabled-fill-color: #666;\n",
              "  }\n",
              "\n",
              "  .colab-df-quickchart {\n",
              "    background-color: var(--bg-color);\n",
              "    border: none;\n",
              "    border-radius: 50%;\n",
              "    cursor: pointer;\n",
              "    display: none;\n",
              "    fill: var(--fill-color);\n",
              "    height: 32px;\n",
              "    padding: 0;\n",
              "    width: 32px;\n",
              "  }\n",
              "\n",
              "  .colab-df-quickchart:hover {\n",
              "    background-color: var(--hover-bg-color);\n",
              "    box-shadow: 0 1px 2px rgba(60, 64, 67, 0.3), 0 1px 3px 1px rgba(60, 64, 67, 0.15);\n",
              "    fill: var(--button-hover-fill-color);\n",
              "  }\n",
              "\n",
              "  .colab-df-quickchart-complete:disabled,\n",
              "  .colab-df-quickchart-complete:disabled:hover {\n",
              "    background-color: var(--disabled-bg-color);\n",
              "    fill: var(--disabled-fill-color);\n",
              "    box-shadow: none;\n",
              "  }\n",
              "\n",
              "  .colab-df-spinner {\n",
              "    border: 2px solid var(--fill-color);\n",
              "    border-color: transparent;\n",
              "    border-bottom-color: var(--fill-color);\n",
              "    animation:\n",
              "      spin 1s steps(1) infinite;\n",
              "  }\n",
              "\n",
              "  @keyframes spin {\n",
              "    0% {\n",
              "      border-color: transparent;\n",
              "      border-bottom-color: var(--fill-color);\n",
              "      border-left-color: var(--fill-color);\n",
              "    }\n",
              "    20% {\n",
              "      border-color: transparent;\n",
              "      border-left-color: var(--fill-color);\n",
              "      border-top-color: var(--fill-color);\n",
              "    }\n",
              "    30% {\n",
              "      border-color: transparent;\n",
              "      border-left-color: var(--fill-color);\n",
              "      border-top-color: var(--fill-color);\n",
              "      border-right-color: var(--fill-color);\n",
              "    }\n",
              "    40% {\n",
              "      border-color: transparent;\n",
              "      border-right-color: var(--fill-color);\n",
              "      border-top-color: var(--fill-color);\n",
              "    }\n",
              "    60% {\n",
              "      border-color: transparent;\n",
              "      border-right-color: var(--fill-color);\n",
              "    }\n",
              "    80% {\n",
              "      border-color: transparent;\n",
              "      border-right-color: var(--fill-color);\n",
              "      border-bottom-color: var(--fill-color);\n",
              "    }\n",
              "    90% {\n",
              "      border-color: transparent;\n",
              "      border-bottom-color: var(--fill-color);\n",
              "    }\n",
              "  }\n",
              "</style>\n",
              "\n",
              "  <script>\n",
              "    async function quickchart(key) {\n",
              "      const quickchartButtonEl =\n",
              "        document.querySelector('#' + key + ' button');\n",
              "      quickchartButtonEl.disabled = true;  // To prevent multiple clicks.\n",
              "      quickchartButtonEl.classList.add('colab-df-spinner');\n",
              "      try {\n",
              "        const charts = await google.colab.kernel.invokeFunction(\n",
              "            'suggestCharts', [key], {});\n",
              "      } catch (error) {\n",
              "        console.error('Error during call to suggestCharts:', error);\n",
              "      }\n",
              "      quickchartButtonEl.classList.remove('colab-df-spinner');\n",
              "      quickchartButtonEl.classList.add('colab-df-quickchart-complete');\n",
              "    }\n",
              "    (() => {\n",
              "      let quickchartButtonEl =\n",
              "        document.querySelector('#df-014f896a-5f73-4fc7-8212-41848ac3a0e4 button');\n",
              "      quickchartButtonEl.style.display =\n",
              "        google.colab.kernel.accessAllowed ? 'block' : 'none';\n",
              "    })();\n",
              "  </script>\n",
              "</div>\n",
              "    </div>\n",
              "  </div>\n"
            ],
            "application/vnd.google.colaboratory.intrinsic+json": {
              "type": "dataframe",
              "variable_name": "df",
              "summary": "{\n  \"name\": \"df\",\n  \"rows\": 10000,\n  \"fields\": [\n    {\n      \"column\": \"original\",\n      \"properties\": {\n        \"dtype\": \"string\",\n        \"num_unique_values\": 9996,\n        \"samples\": [\n          \"He practiced in rural Mississippi for nine years. In 2007, he left Mississippi to pursue an academic career in Minnesota. Now he teaches family medicine residents and does research in health policy to improve access and care in the rural U.S.\",\n          \"He is currently associated with 32 Dental Spa in Baner, Pune. Don\\u2019t wait in a queue, book an instant appointment online with Dr. Aniruddha Kajale on Lybrate.com.\",\n          \"She has had her business over 9 years and as one of the top contemporary, family lifestyle photographers in the UK she produces images of pregnancy, newborn, babies of all sizes, children, families, teenagers (seniors), dogs and also has a commercial photography side to her business which is predominantly headshots as well as formal but approachable portraits for annual reports or PR purposes and lifestyle images for SME\\u2019s portfolios and website.\"\n        ],\n        \"semantic_type\": \"\",\n        \"description\": \"\"\n      }\n    },\n    {\n      \"column\": \"modified_sentences\",\n      \"properties\": {\n        \"dtype\": \"string\",\n        \"num_unique_values\": 9788,\n        \"samples\": [\n          \"A molecular biotechnology engineer (Universidad de Chile, 2007) with a PhD in chemical and bio-processes engineering (University College Dublin, 2010) is currently working in the Computational Biology Laboratory on molecular dynamics simulations and free-energy calculations.\",\n          \"She is a woman with refugee experiences who has not only benefited from the Woman-at-Risk program but has also contributed to refugee studies through her critical engagement with various perspectives on the topic.\",\n          \"Seigyoung's research interests span frontline employee customer orientation diversity, fit in climate and its impact on frontline employee attitude and performance, service innovation, service leadership, knowledge sharing/transfer in sales teams, sales team learning and conflict.\"\n        ],\n        \"semantic_type\": \"\",\n        \"description\": \"\"\n      }\n    }\n  ]\n}"
            }
          },
          "metadata": {},
          "execution_count": 1
        }
      ],
      "source": [
        "import pandas as pd\n",
        "df = pd.read_csv('/content/Gemini without prompt.csv', index_col=0)\n",
        "df"
      ]
    },
    {
      "cell_type": "code",
      "execution_count": null,
      "metadata": {
        "id": "FYJlbN1H8Ru7",
        "colab": {
          "base_uri": "https://localhost:8080/"
        },
        "outputId": "34b5aba2-83f8-4ea4-db57-f51995521139"
      },
      "outputs": [
        {
          "output_type": "stream",
          "name": "stdout",
          "text": [
            "                                            original  \\\n",
            "0  Tampio researches the history of political tho...   \n",
            "1  He has been a practicing Dentist for 11 years....   \n",
            "2  Mr. Miserez devotes a substantial portion of h...   \n",
            "3  She holds a master’s degree in nutrition educa...   \n",
            "4  She received her Ph.D. in 2013 from Florida In...   \n",
            "\n",
            "                                  modified_sentences  \n",
            "0  Tampio researches the history of political tho...  \n",
            "1  Book an appointment online with Dr. Nitendra S...  \n",
            "2  Mr. Miserez's practice focuses on representing...  \n",
            "3  She holds an M.S. in nutrition education from ...  \n",
            "4  She earned her Ph.D. from Florida Internationa...  \n"
          ]
        }
      ],
      "source": [
        "# Combine the three DataFrames into one DataFrame\n",
        "#combined_df = pd.concat([train_df, test_df, dev_df], axis=0)\n",
        "#combined_df = pd.concat([test_df, dev_df], axis=0)\n",
        "combined_df = pd.concat([df], axis=0)\n",
        "\n",
        "# Reset the index of the new combined DataFrame\n",
        "combined_df.reset_index(drop=True, inplace=True)\n",
        "\n",
        "# View the combined DataFrame\n",
        "print(combined_df.head())"
      ]
    },
    {
      "cell_type": "code",
      "execution_count": null,
      "metadata": {
        "id": "f5BX-pTj9s97",
        "colab": {
          "base_uri": "https://localhost:8080/",
          "height": 433
        },
        "outputId": "fd0fe498-75f3-48c8-cc2a-6dec1f232f0e"
      },
      "outputs": [
        {
          "output_type": "execute_result",
          "data": {
            "text/plain": [
              "                                               original  \\\n",
              "0     Tampio researches the history of political tho...   \n",
              "1     He has been a practicing Dentist for 11 years....   \n",
              "2     Mr. Miserez devotes a substantial portion of h...   \n",
              "3     She holds a master’s degree in nutrition educa...   \n",
              "4     She received her Ph.D. in 2013 from Florida In...   \n",
              "...                                                 ...   \n",
              "9995  He grew up in an artist household where his pa...   \n",
              "9996  He has done a study on the death of Jesus and ...   \n",
              "9997  He is passionate about building up DC's queer ...   \n",
              "9998  In the last years she is enjoying part-time mo...   \n",
              "9999  Mr. Tartarilla practices medicine in Fort Walt...   \n",
              "\n",
              "                                     modified_sentences  \n",
              "0     Tampio researches the history of political tho...  \n",
              "1     Book an appointment online with Dr. Nitendra S...  \n",
              "2     Mr. Miserez's practice focuses on representing...  \n",
              "3     She holds an M.S. in nutrition education from ...  \n",
              "4     She earned her Ph.D. from Florida Internationa...  \n",
              "...                                                 ...  \n",
              "9995  He grew up in an artist household where his pa...  \n",
              "9996  If the arms were outstretched at a 60-70 degre...  \n",
              "9997  Passionate about fostering DC's queer undergro...  \n",
              "9998  She enjoys part-time modeling to build her por...  \n",
              "9999  Mr. Tartarilla, who practices Family Medicine ...  \n",
              "\n",
              "[10000 rows x 2 columns]"
            ],
            "text/html": [
              "\n",
              "  <div id=\"df-9b05fabd-9ec2-4afb-a058-9ff6645a8da5\" class=\"colab-df-container\">\n",
              "    <div>\n",
              "<style scoped>\n",
              "    .dataframe tbody tr th:only-of-type {\n",
              "        vertical-align: middle;\n",
              "    }\n",
              "\n",
              "    .dataframe tbody tr th {\n",
              "        vertical-align: top;\n",
              "    }\n",
              "\n",
              "    .dataframe thead th {\n",
              "        text-align: right;\n",
              "    }\n",
              "</style>\n",
              "<table border=\"1\" class=\"dataframe\">\n",
              "  <thead>\n",
              "    <tr style=\"text-align: right;\">\n",
              "      <th></th>\n",
              "      <th>original</th>\n",
              "      <th>modified_sentences</th>\n",
              "    </tr>\n",
              "  </thead>\n",
              "  <tbody>\n",
              "    <tr>\n",
              "      <th>0</th>\n",
              "      <td>Tampio researches the history of political tho...</td>\n",
              "      <td>Tampio researches the history of political tho...</td>\n",
              "    </tr>\n",
              "    <tr>\n",
              "      <th>1</th>\n",
              "      <td>He has been a practicing Dentist for 11 years....</td>\n",
              "      <td>Book an appointment online with Dr. Nitendra S...</td>\n",
              "    </tr>\n",
              "    <tr>\n",
              "      <th>2</th>\n",
              "      <td>Mr. Miserez devotes a substantial portion of h...</td>\n",
              "      <td>Mr. Miserez's practice focuses on representing...</td>\n",
              "    </tr>\n",
              "    <tr>\n",
              "      <th>3</th>\n",
              "      <td>She holds a master’s degree in nutrition educa...</td>\n",
              "      <td>She holds an M.S. in nutrition education from ...</td>\n",
              "    </tr>\n",
              "    <tr>\n",
              "      <th>4</th>\n",
              "      <td>She received her Ph.D. in 2013 from Florida In...</td>\n",
              "      <td>She earned her Ph.D. from Florida Internationa...</td>\n",
              "    </tr>\n",
              "    <tr>\n",
              "      <th>...</th>\n",
              "      <td>...</td>\n",
              "      <td>...</td>\n",
              "    </tr>\n",
              "    <tr>\n",
              "      <th>9995</th>\n",
              "      <td>He grew up in an artist household where his pa...</td>\n",
              "      <td>He grew up in an artist household where his pa...</td>\n",
              "    </tr>\n",
              "    <tr>\n",
              "      <th>9996</th>\n",
              "      <td>He has done a study on the death of Jesus and ...</td>\n",
              "      <td>If the arms were outstretched at a 60-70 degre...</td>\n",
              "    </tr>\n",
              "    <tr>\n",
              "      <th>9997</th>\n",
              "      <td>He is passionate about building up DC's queer ...</td>\n",
              "      <td>Passionate about fostering DC's queer undergro...</td>\n",
              "    </tr>\n",
              "    <tr>\n",
              "      <th>9998</th>\n",
              "      <td>In the last years she is enjoying part-time mo...</td>\n",
              "      <td>She enjoys part-time modeling to build her por...</td>\n",
              "    </tr>\n",
              "    <tr>\n",
              "      <th>9999</th>\n",
              "      <td>Mr. Tartarilla practices medicine in Fort Walt...</td>\n",
              "      <td>Mr. Tartarilla, who practices Family Medicine ...</td>\n",
              "    </tr>\n",
              "  </tbody>\n",
              "</table>\n",
              "<p>10000 rows × 2 columns</p>\n",
              "</div>\n",
              "    <div class=\"colab-df-buttons\">\n",
              "\n",
              "  <div class=\"colab-df-container\">\n",
              "    <button class=\"colab-df-convert\" onclick=\"convertToInteractive('df-9b05fabd-9ec2-4afb-a058-9ff6645a8da5')\"\n",
              "            title=\"Convert this dataframe to an interactive table.\"\n",
              "            style=\"display:none;\">\n",
              "\n",
              "  <svg xmlns=\"http://www.w3.org/2000/svg\" height=\"24px\" viewBox=\"0 -960 960 960\">\n",
              "    <path d=\"M120-120v-720h720v720H120Zm60-500h600v-160H180v160Zm220 220h160v-160H400v160Zm0 220h160v-160H400v160ZM180-400h160v-160H180v160Zm440 0h160v-160H620v160ZM180-180h160v-160H180v160Zm440 0h160v-160H620v160Z\"/>\n",
              "  </svg>\n",
              "    </button>\n",
              "\n",
              "  <style>\n",
              "    .colab-df-container {\n",
              "      display:flex;\n",
              "      gap: 12px;\n",
              "    }\n",
              "\n",
              "    .colab-df-convert {\n",
              "      background-color: #E8F0FE;\n",
              "      border: none;\n",
              "      border-radius: 50%;\n",
              "      cursor: pointer;\n",
              "      display: none;\n",
              "      fill: #1967D2;\n",
              "      height: 32px;\n",
              "      padding: 0 0 0 0;\n",
              "      width: 32px;\n",
              "    }\n",
              "\n",
              "    .colab-df-convert:hover {\n",
              "      background-color: #E2EBFA;\n",
              "      box-shadow: 0px 1px 2px rgba(60, 64, 67, 0.3), 0px 1px 3px 1px rgba(60, 64, 67, 0.15);\n",
              "      fill: #174EA6;\n",
              "    }\n",
              "\n",
              "    .colab-df-buttons div {\n",
              "      margin-bottom: 4px;\n",
              "    }\n",
              "\n",
              "    [theme=dark] .colab-df-convert {\n",
              "      background-color: #3B4455;\n",
              "      fill: #D2E3FC;\n",
              "    }\n",
              "\n",
              "    [theme=dark] .colab-df-convert:hover {\n",
              "      background-color: #434B5C;\n",
              "      box-shadow: 0px 1px 3px 1px rgba(0, 0, 0, 0.15);\n",
              "      filter: drop-shadow(0px 1px 2px rgba(0, 0, 0, 0.3));\n",
              "      fill: #FFFFFF;\n",
              "    }\n",
              "  </style>\n",
              "\n",
              "    <script>\n",
              "      const buttonEl =\n",
              "        document.querySelector('#df-9b05fabd-9ec2-4afb-a058-9ff6645a8da5 button.colab-df-convert');\n",
              "      buttonEl.style.display =\n",
              "        google.colab.kernel.accessAllowed ? 'block' : 'none';\n",
              "\n",
              "      async function convertToInteractive(key) {\n",
              "        const element = document.querySelector('#df-9b05fabd-9ec2-4afb-a058-9ff6645a8da5');\n",
              "        const dataTable =\n",
              "          await google.colab.kernel.invokeFunction('convertToInteractive',\n",
              "                                                    [key], {});\n",
              "        if (!dataTable) return;\n",
              "\n",
              "        const docLinkHtml = 'Like what you see? Visit the ' +\n",
              "          '<a target=\"_blank\" href=https://colab.research.google.com/notebooks/data_table.ipynb>data table notebook</a>'\n",
              "          + ' to learn more about interactive tables.';\n",
              "        element.innerHTML = '';\n",
              "        dataTable['output_type'] = 'display_data';\n",
              "        await google.colab.output.renderOutput(dataTable, element);\n",
              "        const docLink = document.createElement('div');\n",
              "        docLink.innerHTML = docLinkHtml;\n",
              "        element.appendChild(docLink);\n",
              "      }\n",
              "    </script>\n",
              "  </div>\n",
              "\n",
              "\n",
              "<div id=\"df-533a899e-6e14-43c9-a7a9-0d8c63b31702\">\n",
              "  <button class=\"colab-df-quickchart\" onclick=\"quickchart('df-533a899e-6e14-43c9-a7a9-0d8c63b31702')\"\n",
              "            title=\"Suggest charts\"\n",
              "            style=\"display:none;\">\n",
              "\n",
              "<svg xmlns=\"http://www.w3.org/2000/svg\" height=\"24px\"viewBox=\"0 0 24 24\"\n",
              "     width=\"24px\">\n",
              "    <g>\n",
              "        <path d=\"M19 3H5c-1.1 0-2 .9-2 2v14c0 1.1.9 2 2 2h14c1.1 0 2-.9 2-2V5c0-1.1-.9-2-2-2zM9 17H7v-7h2v7zm4 0h-2V7h2v10zm4 0h-2v-4h2v4z\"/>\n",
              "    </g>\n",
              "</svg>\n",
              "  </button>\n",
              "\n",
              "<style>\n",
              "  .colab-df-quickchart {\n",
              "      --bg-color: #E8F0FE;\n",
              "      --fill-color: #1967D2;\n",
              "      --hover-bg-color: #E2EBFA;\n",
              "      --hover-fill-color: #174EA6;\n",
              "      --disabled-fill-color: #AAA;\n",
              "      --disabled-bg-color: #DDD;\n",
              "  }\n",
              "\n",
              "  [theme=dark] .colab-df-quickchart {\n",
              "      --bg-color: #3B4455;\n",
              "      --fill-color: #D2E3FC;\n",
              "      --hover-bg-color: #434B5C;\n",
              "      --hover-fill-color: #FFFFFF;\n",
              "      --disabled-bg-color: #3B4455;\n",
              "      --disabled-fill-color: #666;\n",
              "  }\n",
              "\n",
              "  .colab-df-quickchart {\n",
              "    background-color: var(--bg-color);\n",
              "    border: none;\n",
              "    border-radius: 50%;\n",
              "    cursor: pointer;\n",
              "    display: none;\n",
              "    fill: var(--fill-color);\n",
              "    height: 32px;\n",
              "    padding: 0;\n",
              "    width: 32px;\n",
              "  }\n",
              "\n",
              "  .colab-df-quickchart:hover {\n",
              "    background-color: var(--hover-bg-color);\n",
              "    box-shadow: 0 1px 2px rgba(60, 64, 67, 0.3), 0 1px 3px 1px rgba(60, 64, 67, 0.15);\n",
              "    fill: var(--button-hover-fill-color);\n",
              "  }\n",
              "\n",
              "  .colab-df-quickchart-complete:disabled,\n",
              "  .colab-df-quickchart-complete:disabled:hover {\n",
              "    background-color: var(--disabled-bg-color);\n",
              "    fill: var(--disabled-fill-color);\n",
              "    box-shadow: none;\n",
              "  }\n",
              "\n",
              "  .colab-df-spinner {\n",
              "    border: 2px solid var(--fill-color);\n",
              "    border-color: transparent;\n",
              "    border-bottom-color: var(--fill-color);\n",
              "    animation:\n",
              "      spin 1s steps(1) infinite;\n",
              "  }\n",
              "\n",
              "  @keyframes spin {\n",
              "    0% {\n",
              "      border-color: transparent;\n",
              "      border-bottom-color: var(--fill-color);\n",
              "      border-left-color: var(--fill-color);\n",
              "    }\n",
              "    20% {\n",
              "      border-color: transparent;\n",
              "      border-left-color: var(--fill-color);\n",
              "      border-top-color: var(--fill-color);\n",
              "    }\n",
              "    30% {\n",
              "      border-color: transparent;\n",
              "      border-left-color: var(--fill-color);\n",
              "      border-top-color: var(--fill-color);\n",
              "      border-right-color: var(--fill-color);\n",
              "    }\n",
              "    40% {\n",
              "      border-color: transparent;\n",
              "      border-right-color: var(--fill-color);\n",
              "      border-top-color: var(--fill-color);\n",
              "    }\n",
              "    60% {\n",
              "      border-color: transparent;\n",
              "      border-right-color: var(--fill-color);\n",
              "    }\n",
              "    80% {\n",
              "      border-color: transparent;\n",
              "      border-right-color: var(--fill-color);\n",
              "      border-bottom-color: var(--fill-color);\n",
              "    }\n",
              "    90% {\n",
              "      border-color: transparent;\n",
              "      border-bottom-color: var(--fill-color);\n",
              "    }\n",
              "  }\n",
              "</style>\n",
              "\n",
              "  <script>\n",
              "    async function quickchart(key) {\n",
              "      const quickchartButtonEl =\n",
              "        document.querySelector('#' + key + ' button');\n",
              "      quickchartButtonEl.disabled = true;  // To prevent multiple clicks.\n",
              "      quickchartButtonEl.classList.add('colab-df-spinner');\n",
              "      try {\n",
              "        const charts = await google.colab.kernel.invokeFunction(\n",
              "            'suggestCharts', [key], {});\n",
              "      } catch (error) {\n",
              "        console.error('Error during call to suggestCharts:', error);\n",
              "      }\n",
              "      quickchartButtonEl.classList.remove('colab-df-spinner');\n",
              "      quickchartButtonEl.classList.add('colab-df-quickchart-complete');\n",
              "    }\n",
              "    (() => {\n",
              "      let quickchartButtonEl =\n",
              "        document.querySelector('#df-533a899e-6e14-43c9-a7a9-0d8c63b31702 button');\n",
              "      quickchartButtonEl.style.display =\n",
              "        google.colab.kernel.accessAllowed ? 'block' : 'none';\n",
              "    })();\n",
              "  </script>\n",
              "</div>\n",
              "    </div>\n",
              "  </div>\n"
            ],
            "application/vnd.google.colaboratory.intrinsic+json": {
              "type": "dataframe",
              "variable_name": "combined_df",
              "summary": "{\n  \"name\": \"combined_df\",\n  \"rows\": 10000,\n  \"fields\": [\n    {\n      \"column\": \"original\",\n      \"properties\": {\n        \"dtype\": \"string\",\n        \"num_unique_values\": 9996,\n        \"samples\": [\n          \"He practiced in rural Mississippi for nine years. In 2007, he left Mississippi to pursue an academic career in Minnesota. Now he teaches family medicine residents and does research in health policy to improve access and care in the rural U.S.\",\n          \"He is currently associated with 32 Dental Spa in Baner, Pune. Don\\u2019t wait in a queue, book an instant appointment online with Dr. Aniruddha Kajale on Lybrate.com.\",\n          \"She has had her business over 9 years and as one of the top contemporary, family lifestyle photographers in the UK she produces images of pregnancy, newborn, babies of all sizes, children, families, teenagers (seniors), dogs and also has a commercial photography side to her business which is predominantly headshots as well as formal but approachable portraits for annual reports or PR purposes and lifestyle images for SME\\u2019s portfolios and website.\"\n        ],\n        \"semantic_type\": \"\",\n        \"description\": \"\"\n      }\n    },\n    {\n      \"column\": \"modified_sentences\",\n      \"properties\": {\n        \"dtype\": \"string\",\n        \"num_unique_values\": 9788,\n        \"samples\": [\n          \"A molecular biotechnology engineer (Universidad de Chile, 2007) with a PhD in chemical and bio-processes engineering (University College Dublin, 2010) is currently working in the Computational Biology Laboratory on molecular dynamics simulations and free-energy calculations.\",\n          \"She is a woman with refugee experiences who has not only benefited from the Woman-at-Risk program but has also contributed to refugee studies through her critical engagement with various perspectives on the topic.\",\n          \"Seigyoung's research interests span frontline employee customer orientation diversity, fit in climate and its impact on frontline employee attitude and performance, service innovation, service leadership, knowledge sharing/transfer in sales teams, sales team learning and conflict.\"\n        ],\n        \"semantic_type\": \"\",\n        \"description\": \"\"\n      }\n    }\n  ]\n}"
            }
          },
          "metadata": {},
          "execution_count": 3
        }
      ],
      "source": [
        "combined_df"
      ]
    },
    {
      "cell_type": "code",
      "execution_count": null,
      "metadata": {
        "id": "qVMn22Zn-KBp"
      },
      "outputs": [],
      "source": [
        "# Combine all Modified Sentences entries into a single string with <EOS> at the end of each entry\n",
        "text = ' <EOS> '.join(combined_df['modified_sentences'].astype(str)) + ' <EOS>'"
      ]
    },
    {
      "cell_type": "code",
      "execution_count": null,
      "metadata": {
        "id": "QhQvdg535O7y",
        "colab": {
          "base_uri": "https://localhost:8080/"
        },
        "outputId": "e89e5be5-cdf5-4aa2-f560-bfa94fa57581"
      },
      "outputs": [
        {
          "output_type": "stream",
          "name": "stdout",
          "text": [
            "about fostering DC's queer underground scene, [subject] is an active member of The NeedlExchange (TNX), a DJ collective and party that also features Bil Todd, Baronhawk, and DJ Lisa Frank. <EOS> She enjoys part-time modeling to build her portfolio, experience, and shape her modeling style while living in Redding. <EOS> Mr. Tartarilla, who practices Family Medicine in Fort Walton Beach, FL, is affiliated with Fort Walton Beach Medical Center and speaks English, French, Chinese, and Spanish. <EOS>\n",
            "2883358\n"
          ]
        }
      ],
      "source": [
        "# This is our corpus for training Skip-gram Word2Vec\n",
        "print(text[-500:])\n",
        "print(len(text))"
      ]
    },
    {
      "cell_type": "code",
      "execution_count": null,
      "metadata": {
        "id": "0nqDjuI-toJV",
        "colab": {
          "base_uri": "https://localhost:8080/",
          "height": 73
        },
        "outputId": "a00ea3f7-cc77-48a5-f2cf-98da4dd955e5"
      },
      "outputs": [
        {
          "output_type": "execute_result",
          "data": {
            "text/plain": [
              "'Tampio researches the history of political thought, contemporary political theory, and education policy. His first book, Kantian Courage, explored how Anglo-American, Continental, and Islamic politica'"
            ],
            "application/vnd.google.colaboratory.intrinsic+json": {
              "type": "string"
            }
          },
          "metadata": {},
          "execution_count": 6
        }
      ],
      "source": [
        "text[0:200]"
      ]
    },
    {
      "cell_type": "code",
      "execution_count": null,
      "metadata": {
        "id": "uLCO8V6W7Ao7"
      },
      "outputs": [],
      "source": [
        "import time\n",
        "import torch\n",
        "from torch.utils.data import DataLoader, TensorDataset\n",
        "from torchtext.data.utils import get_tokenizer\n",
        "from torchtext.datasets import DATASETS\n",
        "from torchtext.vocab import build_vocab_from_iterator\n",
        "import torch.nn as nn\n",
        "from tqdm import tqdm\n",
        "import pickle\n",
        "import random\n",
        "import numpy as np\n",
        "from collections import Counter, defaultdict\n",
        "import numpy as np\n",
        "import matplotlib.pyplot as plt\n",
        "from sklearn.decomposition import PCA\n",
        "from gensim.test.utils import datapath, get_tmpfile\n",
        "from gensim.models import KeyedVectors\n",
        "import gensim.downloader\n",
        "from torch import FloatTensor as FT"
      ]
    },
    {
      "cell_type": "code",
      "execution_count": null,
      "metadata": {
        "id": "31b412ca"
      },
      "outputs": [],
      "source": [
        "# Where do I want to run my job. You can do \"cuda\" on linux machines.\n",
        "DEVICE = \"cuda\" if torch.cuda.is_available() else  \"cpu\"\n",
        "# The batch size in Adam or SGD.\n",
        "BATCH_SIZE = 256\n",
        "# Number of epochs.\n",
        "NUM_EPOCHS = 5\n",
        "# Predict from 2 words the inner word for CBOW.\n",
        "# I.e. I'll have a window like [\"a\", \"b\", \"c\"] of continuous text (each is a word).\n",
        "# We'll predict each of wc = [\"a\", \"c\"] from \"b\" = wc for Skip-Gram.\n",
        "# For CBOW, we'll use [\"a\", \"c\"] to predict \"b\" = wo.\n",
        "\n",
        "# This is *NOT* used. This is \"m\" in lecture. It is random for each center word. See below.\n",
        "WINDOW = 1\n",
        "\n",
        "# Negative samples.\n",
        "K = 4"
      ]
    },
    {
      "cell_type": "code",
      "execution_count": null,
      "metadata": {
        "id": "f1e88237",
        "colab": {
          "base_uri": "https://localhost:8080/"
        },
        "outputId": "9a033884-9e68-4191-8d89-93b55c36051a"
      },
      "outputs": [
        {
          "output_type": "stream",
          "name": "stdout",
          "text": [
            "cuda\n"
          ]
        }
      ],
      "source": [
        "print(DEVICE)"
      ]
    },
    {
      "cell_type": "code",
      "execution_count": null,
      "metadata": {
        "id": "1ac4e787"
      },
      "outputs": [],
      "source": [
        "punc = '!\"#$%&()*+,-./:;=?@[\\\\]^_\\'{|}~\\t\\n'\n",
        "\n",
        "# Can do regular expressions here too.\n",
        "for c in punc:\n",
        "    if c in text:\n",
        "        text = text.replace(c, '')"
      ]
    },
    {
      "cell_type": "code",
      "execution_count": null,
      "metadata": {
        "id": "vTOaLeN47NZR",
        "colab": {
          "base_uri": "https://localhost:8080/",
          "height": 73
        },
        "outputId": "235b5c4f-8ad6-4341-be0e-e18e9d0c7f44"
      },
      "outputs": [
        {
          "output_type": "execute_result",
          "data": {
            "text/plain": [
              "'Tampio researches the history of political thought contemporary political theory and education policy His first book Kantian Courage explored how AngloAmerican Continental and Islamic political theori'"
            ],
            "application/vnd.google.colaboratory.intrinsic+json": {
              "type": "string"
            }
          },
          "metadata": {},
          "execution_count": 11
        }
      ],
      "source": [
        "text[0:200]"
      ]
    },
    {
      "cell_type": "code",
      "execution_count": null,
      "metadata": {
        "id": "f3f2f4d4"
      },
      "outputs": [],
      "source": [
        "# A very crude tokenizer you get for free: lower case and also split on spaces.\n",
        "TOKENIZER = get_tokenizer(\"basic_english\")"
      ]
    },
    {
      "cell_type": "code",
      "execution_count": null,
      "metadata": {
        "id": "a7695b95"
      },
      "outputs": [],
      "source": [
        "words = TOKENIZER(text)\n",
        "f = Counter(words)"
      ]
    },
    {
      "cell_type": "code",
      "execution_count": null,
      "metadata": {
        "id": "2c5f9ce8",
        "colab": {
          "base_uri": "https://localhost:8080/"
        },
        "outputId": "29c4069d-713b-4a47-f989-797851f76a47"
      },
      "outputs": [
        {
          "output_type": "execute_result",
          "data": {
            "text/plain": [
              "427994"
            ]
          },
          "metadata": {},
          "execution_count": 14
        }
      ],
      "source": [
        "len(words)"
      ]
    },
    {
      "cell_type": "code",
      "execution_count": null,
      "metadata": {
        "id": "6128f0aa"
      },
      "outputs": [],
      "source": [
        "# Do a very crude filter on the text\n",
        "text = [word for word in words if f[word] > 2]\n",
        "text = [word if word != '<eos>' else '<EOS>' for word in text]"
      ]
    },
    {
      "cell_type": "code",
      "execution_count": null,
      "metadata": {
        "id": "d089d13d",
        "colab": {
          "base_uri": "https://localhost:8080/"
        },
        "outputId": "42a2637b-c353-403b-c9a0-458aa57197a8"
      },
      "outputs": [
        {
          "output_type": "execute_result",
          "data": {
            "text/plain": [
              "['researches',\n",
              " 'the',\n",
              " 'history',\n",
              " 'of',\n",
              " 'political',\n",
              " 'thought',\n",
              " 'contemporary',\n",
              " 'political',\n",
              " 'theory',\n",
              " 'and']"
            ]
          },
          "metadata": {},
          "execution_count": 16
        }
      ],
      "source": [
        "text[0:10]"
      ]
    },
    {
      "cell_type": "code",
      "execution_count": null,
      "metadata": {
        "id": "11f47bda"
      },
      "outputs": [],
      "source": [
        "VOCAB = build_vocab_from_iterator([text], specials=[\"<EOS>\"])"
      ]
    },
    {
      "cell_type": "code",
      "execution_count": null,
      "metadata": {
        "id": "BvtWROj7cN10",
        "colab": {
          "base_uri": "https://localhost:8080/"
        },
        "outputId": "506f3186-4db6-4deb-cff1-39f61ff67467"
      },
      "outputs": [
        {
          "output_type": "execute_result",
          "data": {
            "text/plain": [
              "9973"
            ]
          },
          "metadata": {},
          "execution_count": 18
        }
      ],
      "source": [
        "len(VOCAB)"
      ]
    },
    {
      "cell_type": "code",
      "execution_count": null,
      "metadata": {
        "id": "UNl7ACxCbM17"
      },
      "outputs": [],
      "source": [
        "# word -> int hash map.\n",
        "stoi = VOCAB.get_stoi()\n",
        "# int -> word hash map.\n",
        "itos = VOCAB.get_itos()"
      ]
    },
    {
      "cell_type": "code",
      "execution_count": null,
      "metadata": {
        "id": "PFZKt5rFHIXV",
        "colab": {
          "base_uri": "https://localhost:8080/"
        },
        "outputId": "d1895a57-0829-4a2e-cad9-3d64de7e322b"
      },
      "outputs": [
        {
          "output_type": "execute_result",
          "data": {
            "text/plain": [
              "0"
            ]
          },
          "metadata": {},
          "execution_count": 20
        }
      ],
      "source": [
        "stoi['<EOS>']"
      ]
    },
    {
      "cell_type": "code",
      "execution_count": null,
      "metadata": {
        "id": "53bba0d1",
        "colab": {
          "base_uri": "https://localhost:8080/"
        },
        "outputId": "a8173cc7-cc8d-474e-df5d-1e8cea8c0976"
      },
      "outputs": [
        {
          "output_type": "execute_result",
          "data": {
            "text/plain": [
              "19"
            ]
          },
          "metadata": {},
          "execution_count": 21
        }
      ],
      "source": [
        "stoi['as']"
      ]
    },
    {
      "cell_type": "code",
      "execution_count": null,
      "metadata": {
        "id": "8e2ff447",
        "colab": {
          "base_uri": "https://localhost:8080/"
        },
        "outputId": "91795600-67f2-47a9-c62e-adfa59949fce"
      },
      "outputs": [
        {
          "output_type": "execute_result",
          "data": {
            "text/plain": [
              "9973"
            ]
          },
          "metadata": {},
          "execution_count": 22
        }
      ],
      "source": [
        "# Total number of words.\n",
        "len(stoi)"
      ]
    },
    {
      "cell_type": "code",
      "execution_count": null,
      "metadata": {
        "id": "b4f4d652"
      },
      "outputs": [],
      "source": [
        "f = Counter(text)\n",
        "# This is the probability that we pick a word in the corpus.\n",
        "z = {word: f[word] / len(text) for word in f}"
      ]
    },
    {
      "cell_type": "code",
      "execution_count": null,
      "metadata": {
        "id": "13c8c565"
      },
      "outputs": [],
      "source": [
        "threshold = 1e-5\n",
        "# Probability that word is kept while subsampling.\n",
        "# This is explained here and sightly differet from the paper: http://mccormickml.com/2017/01/11/word2vec-tutorial-part-2-negative-sampling/\n",
        "p_keep = {word: (np.sqrt(z[word] / 0.001) + 1)*(0.0001 / z[word]) for word in f}"
      ]
    },
    {
      "cell_type": "code",
      "execution_count": null,
      "metadata": {
        "id": "368bb139"
      },
      "outputs": [],
      "source": [
        "# This is in the integer space.\n",
        "train_dataset = [word for word in text if random.random() < p_keep[word]]\n",
        "\n",
        "# Rebuild the vocabulary.\n",
        "VOCAB = build_vocab_from_iterator([train_dataset], specials=[\"<EOS>\"])"
      ]
    },
    {
      "cell_type": "code",
      "execution_count": null,
      "metadata": {
        "id": "bcf29691",
        "colab": {
          "base_uri": "https://localhost:8080/"
        },
        "outputId": "37c54a3b-8984-4631-99af-47fa8c75f87c"
      },
      "outputs": [
        {
          "output_type": "execute_result",
          "data": {
            "text/plain": [
              "157195"
            ]
          },
          "metadata": {},
          "execution_count": 26
        }
      ],
      "source": [
        "len(train_dataset)"
      ]
    },
    {
      "cell_type": "code",
      "execution_count": null,
      "metadata": {
        "id": "507940fc"
      },
      "outputs": [],
      "source": [
        "# word -> int mapping.\n",
        "stoi = VOCAB.get_stoi()\n",
        "# int -> word mapping.\n",
        "itos = VOCAB.get_itos()"
      ]
    },
    {
      "cell_type": "code",
      "execution_count": null,
      "metadata": {
        "id": "Wqr-yvTDgemC",
        "colab": {
          "base_uri": "https://localhost:8080/"
        },
        "outputId": "9823b295-e884-4959-fd40-aaed5cd508fe"
      },
      "outputs": [
        {
          "output_type": "execute_result",
          "data": {
            "text/plain": [
              "0"
            ]
          },
          "metadata": {},
          "execution_count": 28
        }
      ],
      "source": [
        "stoi['<EOS>']"
      ]
    },
    {
      "cell_type": "code",
      "execution_count": null,
      "metadata": {
        "id": "3a444e83",
        "colab": {
          "base_uri": "https://localhost:8080/"
        },
        "outputId": "e15cad92-3bf1-496b-b736-3860f65fbe0a"
      },
      "outputs": [
        {
          "output_type": "execute_result",
          "data": {
            "text/plain": [
              "9973"
            ]
          },
          "metadata": {},
          "execution_count": 29
        }
      ],
      "source": [
        "# The vocabulary size after we do all the filters.\n",
        "len(VOCAB)"
      ]
    },
    {
      "cell_type": "code",
      "execution_count": null,
      "metadata": {
        "id": "41cbbc14"
      },
      "outputs": [],
      "source": [
        "# The probability we draw something for negative sampling.\n",
        "f = Counter(train_dataset)\n",
        "p = torch.zeros(len(VOCAB))\n",
        "\n",
        "# Downsample frequent words and upsample less frequent.\n",
        "s = sum([np.power(freq, 0.75) for word, freq in f.items()])\n",
        "\n",
        "for word in f:\n",
        "    p[stoi[word]] = np.power(f[word], 0.75) / s"
      ]
    },
    {
      "cell_type": "code",
      "execution_count": null,
      "metadata": {
        "id": "4a2e7296"
      },
      "outputs": [],
      "source": [
        "# Map everything to integers.\n",
        "train_dataset = [stoi[word] for word in text]"
      ]
    },
    {
      "cell_type": "code",
      "execution_count": null,
      "metadata": {
        "id": "8e96c0c4"
      },
      "outputs": [],
      "source": [
        "# This just gets the (wc, wo) pairs that are positive - they are seen together!\n",
        "def get_tokenized_dataset(dataset, verbose=False):\n",
        "    x_list = []\n",
        "    sentence = []  # Temporary list to hold words of the current sentence\n",
        "\n",
        "    for i, token in enumerate(dataset):\n",
        "        if token == stoi['<EOS>'] or i == len(dataset) - 1:  # End of sentence or end of dataset\n",
        "            # Process the accumulated sentence\n",
        "            for j, wc in enumerate(sentence):\n",
        "                # Pick a random window size for each center word\n",
        "                m = random.randint(1, 5)\n",
        "\n",
        "                # Calculate start and end indices for context words within the sentence\n",
        "                start = max(0, j - m)\n",
        "                end = min(j + m + 1, len(sentence))\n",
        "\n",
        "                # Gather context words, excluding the center word itself\n",
        "                target_tokens = sentence[start:j] + sentence[j + 1:end]\n",
        "                if verbose:\n",
        "                  print(m)\n",
        "                  print(target_tokens)\n",
        "                # Extend x_list with (center word, context word) pairs\n",
        "                for wo in target_tokens:\n",
        "                    x_list.append([wc, wo])\n",
        "                    if verbose:\n",
        "                        print(f\"[{wc}, {wo}]\")\n",
        "\n",
        "            # Reset the sentence list after processing\n",
        "            sentence = []\n",
        "        else:\n",
        "            # Accumulate words of the current sentence\n",
        "            sentence.append(token)\n",
        "\n",
        "    return x_list\n"
      ]
    },
    {
      "cell_type": "code",
      "execution_count": null,
      "metadata": {
        "id": "F0PGvetQqKnU"
      },
      "outputs": [],
      "source": [
        "def get_tokenized_dataset(dataset, verbose=False):\n",
        "    x_list = []\n",
        "    sentence = []  # Temporary list to hold words (indices) of the current sentence\n",
        "\n",
        "    for i, token in enumerate(dataset):  # Iterate through the dataset\n",
        "        if token == stoi['<EOS>']:  # Check for end of sentence marker using its index\n",
        "            if verbose:\n",
        "                # When printing, you might want to convert indices back to words using `itos` for readability\n",
        "                readable_sentence = [itos[token] for token in sentence]\n",
        "                print(f\"Current sentence: {readable_sentence}\")\n",
        "            # Process the accumulated sentence\n",
        "            for j, wc in enumerate(sentence):\n",
        "                # Pick a random window size for each center word\n",
        "                #m = random.randint(1, int(len(sentence)/2))\n",
        "                m = int(len(sentence)/2)\n",
        "                # Calculate start and end indices for context words within the sentence\n",
        "                start = max(0, j - m)\n",
        "                end = min(j + m + 1, len(sentence))\n",
        "\n",
        "                # Gather context words, excluding the center word itself\n",
        "                target_tokens = sentence[start:j] + sentence[j + 1:end]\n",
        "\n",
        "                if verbose:\n",
        "                    readable_context = [itos[token] for token in target_tokens]\n",
        "                    print(f\"Center word: {itos[wc]}, Context: {readable_context}\")\n",
        "\n",
        "                # Extend x_list with (center word, context word) pairs\n",
        "                for wo in target_tokens:\n",
        "                    x_list.append([wc, wo])\n",
        "\n",
        "            # Reset the sentence list after processing\n",
        "            sentence = []\n",
        "        else:\n",
        "            # Accumulate words (indices) of the current sentence\n",
        "            sentence.append(token)\n",
        "\n",
        "    return x_list"
      ]
    },
    {
      "cell_type": "code",
      "execution_count": null,
      "metadata": {
        "id": "3eb82aad"
      },
      "outputs": [],
      "source": [
        "train_x_list = get_tokenized_dataset(train_dataset, verbose=False)"
      ]
    },
    {
      "cell_type": "code",
      "execution_count": null,
      "metadata": {
        "id": "utPARrdip8nB",
        "colab": {
          "base_uri": "https://localhost:8080/"
        },
        "outputId": "e5a7c246-b91a-4fae-ec21-979050d1d30e"
      },
      "outputs": [
        {
          "output_type": "execute_result",
          "data": {
            "text/plain": [
              "['fort',\n",
              " 'walton',\n",
              " 'beach',\n",
              " 'fl',\n",
              " 'is',\n",
              " 'affiliated',\n",
              " 'with',\n",
              " 'fort',\n",
              " 'walton',\n",
              " 'beach',\n",
              " 'medical',\n",
              " 'center',\n",
              " 'and',\n",
              " 'speaks',\n",
              " 'english',\n",
              " 'french',\n",
              " 'chinese',\n",
              " 'and',\n",
              " 'spanish',\n",
              " '<EOS>']"
            ]
          },
          "metadata": {},
          "execution_count": 35
        }
      ],
      "source": [
        "text[-20:]"
      ]
    },
    {
      "cell_type": "code",
      "execution_count": null,
      "metadata": {
        "id": "8412ee4d"
      },
      "outputs": [],
      "source": [
        "pickle.dump(train_x_list, open('train_x_list.pkl', 'wb'))"
      ]
    },
    {
      "cell_type": "code",
      "execution_count": null,
      "metadata": {
        "id": "3fd54caf"
      },
      "outputs": [],
      "source": [
        "train_x_list = pickle.load(open('train_x_list.pkl', 'rb'))"
      ]
    },
    {
      "cell_type": "code",
      "execution_count": null,
      "metadata": {
        "colab": {
          "base_uri": "https://localhost:8080/"
        },
        "id": "576765f3",
        "outputId": "cc0b1bb5-b4d0-40da-ce80-ed842e129780"
      },
      "outputs": [
        {
          "output_type": "execute_result",
          "data": {
            "text/plain": [
              "[[83, 6549],\n",
              " [83, 1452],\n",
              " [83, 22],\n",
              " [83, 25],\n",
              " [83, 1],\n",
              " [83, 202],\n",
              " [83, 137],\n",
              " [83, 578],\n",
              " [83, 473],\n",
              " [83, 1]]"
            ]
          },
          "metadata": {},
          "execution_count": 38
        }
      ],
      "source": [
        "# These are (wc, wo) pairs. All are y = +1 by design.\n",
        "train_x_list[-10:]"
      ]
    },
    {
      "cell_type": "code",
      "execution_count": null,
      "metadata": {
        "colab": {
          "base_uri": "https://localhost:8080/"
        },
        "id": "8137dbd6",
        "outputId": "9706153b-f894-4226-fc33-17eed703dc92"
      },
      "outputs": [
        {
          "output_type": "execute_result",
          "data": {
            "text/plain": [
              "58600"
            ]
          },
          "metadata": {},
          "execution_count": 39
        }
      ],
      "source": [
        "# The number of things of BATCH_SIZE = 512.\n",
        "len(train_x_list) // BATCH_SIZE"
      ]
    },
    {
      "cell_type": "code",
      "execution_count": null,
      "metadata": {
        "id": "9952d8d5"
      },
      "outputs": [],
      "source": []
    },
    {
      "cell_type": "markdown",
      "metadata": {
        "id": "77f04be5"
      },
      "source": [
        "### Set up the dataloader."
      ]
    },
    {
      "cell_type": "code",
      "execution_count": null,
      "metadata": {
        "id": "2e31ae4b"
      },
      "outputs": [],
      "source": [
        "train_dl = DataLoader(\n",
        "    TensorDataset(\n",
        "        torch.tensor(train_x_list).to(DEVICE),\n",
        "    ),\n",
        "    batch_size=BATCH_SIZE,\n",
        "    shuffle=True\n",
        ")"
      ]
    },
    {
      "cell_type": "markdown",
      "metadata": {
        "id": "12d93d22"
      },
      "source": [
        "### Words we'll use to asses the quality of the model ..."
      ]
    },
    {
      "cell_type": "code",
      "execution_count": null,
      "metadata": {
        "id": "ffada8d0"
      },
      "outputs": [],
      "source": [
        "valid_ids = torch.tensor([\n",
        "    stoi['women'],\n",
        "    stoi['men'],\n",
        "    stoi['nurse'],\n",
        "    stoi['doctor'],\n",
        "    stoi['engineer'],\n",
        "    stoi['teacher'],\n",
        "    stoi['dietitian'],\n",
        "])"
      ]
    },
    {
      "cell_type": "code",
      "execution_count": null,
      "metadata": {
        "id": "13f64b87"
      },
      "outputs": [],
      "source": []
    },
    {
      "cell_type": "markdown",
      "metadata": {
        "id": "64096cd8"
      },
      "source": [
        "### Get the model\n",
        "- See docs for nn.Embedding: https://pytorch.org/docs/stable/generated/torch.nn.Embedding.html\n",
        "- The same: nn.Embedding (2) = nn.Embedding.weight * oneHot(2)"
      ]
    },
    {
      "cell_type": "code",
      "execution_count": null,
      "metadata": {
        "id": "dc51c359"
      },
      "outputs": [],
      "source": [
        "class SkipGramNegativeSampling(nn.Module):\n",
        "    def __init__(self, vocab_size, embed_dim):\n",
        "        super(SkipGramNegativeSampling, self).__init__()\n",
        "        self.A = nn.Embedding(vocab_size, embed_dim) # Context vectors - center word.\n",
        "        self.B = nn.Embedding(vocab_size, embed_dim) # Output vectors - words around the center word.\n",
        "        self.init_weights()\n",
        "\n",
        "    def init_weights(self):\n",
        "        # Is this the best way? Not sure.\n",
        "        initrange = 0.5\n",
        "        self.A.weight.data.uniform_(-initrange, initrange)\n",
        "        self.B.weight.data.uniform_(-initrange, initrange)\n",
        "\n",
        "    def forward(self, x):\n",
        "        # N is the batch size.\n",
        "        # x is (N, 2)\n",
        "\n",
        "        # Each of these is (N, 1)\n",
        "        wc, wo = x[:, 0], x[:, 1]\n",
        "\n",
        "        # Each of these is (N, 1, D) since each context has 1 word.\n",
        "        a = self.A(wc)\n",
        "\n",
        "        # Each of these is (N, 1, D) since each target has 1 word.\n",
        "        b = self.B(wo)\n",
        "\n",
        "        # The product between each context and target vector.\n",
        "        # Each of these is (N, 1, D) since each batch has 1 word.\n",
        "        # The logits is now (N, 1) since we sum across the final dimension.\n",
        "        logits = (a * b).sum(axis=-1)\n",
        "\n",
        "        return logits"
      ]
    },
    {
      "cell_type": "code",
      "execution_count": null,
      "metadata": {
        "id": "7ae817c1"
      },
      "outputs": [],
      "source": []
    },
    {
      "cell_type": "code",
      "execution_count": null,
      "metadata": {
        "id": "ed9c509d"
      },
      "outputs": [],
      "source": [
        "@torch.no_grad()\n",
        "def validate_embeddings(\n",
        "    model,\n",
        "    valid_ids,\n",
        "    itos\n",
        "):\n",
        "    \"\"\" Validation logic \"\"\"\n",
        "\n",
        "    # We will use context embeddings to get the most similar words\n",
        "    # Other strategies include: using target embeddings, mean embeddings after avaraging context/target\n",
        "    embedding_weights = model.A.weight\n",
        "\n",
        "    normalized_embeddings = embedding_weights.cpu() / np.sqrt(\n",
        "        np.sum(embedding_weights.cpu().numpy()**2, axis=1, keepdims=True)\n",
        "    )\n",
        "\n",
        "    # Get the embeddings corresponding to valid_term_ids\n",
        "    valid_embeddings = normalized_embeddings[valid_ids, :]\n",
        "\n",
        "    # Compute the similarity between valid_term_ids (S) and all the embeddings (V).\n",
        "    # We do S x d (d x V) => S x D and sort by negative similarity.\n",
        "    top_k = 10 # Top k items will be displayed.\n",
        "    similarity = np.dot(valid_embeddings.cpu().numpy(), normalized_embeddings.cpu().numpy().T)\n",
        "\n",
        "    # Invert similarity matrix to negative\n",
        "    # Ignore the first one because that would be the same word as the probe word\n",
        "    similarity_top_k = np.argsort(-similarity, axis=1)[:, 1: top_k+1]\n",
        "\n",
        "    # Print the output.\n",
        "    for i, word_id in enumerate(valid_ids):\n",
        "        # j >= 1 here since we don't want to include the word itself.\n",
        "        similar_word_str = ', '.join([itos[j] for j in similarity_top_k[i, :] if j >= 1])\n",
        "        print(f\"{itos[word_id]}: {similar_word_str}\")\n",
        "\n",
        "    print('\\n')"
      ]
    },
    {
      "cell_type": "code",
      "execution_count": null,
      "metadata": {
        "id": "b0c194b8"
      },
      "outputs": [],
      "source": []
    },
    {
      "cell_type": "markdown",
      "metadata": {
        "id": "3b3c6ed5"
      },
      "source": [
        "### Set up the model"
      ]
    },
    {
      "cell_type": "code",
      "execution_count": null,
      "metadata": {
        "id": "95118499"
      },
      "outputs": [],
      "source": [
        "LR = 10.0\n",
        "NUM_EPOCHS = 5\n",
        "EMBED_DIM = 300"
      ]
    },
    {
      "cell_type": "code",
      "execution_count": null,
      "metadata": {
        "id": "cef585f4"
      },
      "outputs": [],
      "source": [
        "model = SkipGramNegativeSampling(len(VOCAB), EMBED_DIM).to(DEVICE)\n",
        "optimizer = torch.optim.SGD(model.parameters(), lr=LR)\n",
        "# The learning rate is lowered every epoch by 1/10.\n",
        "# Is this a good idea?\n",
        "scheduler = torch.optim.lr_scheduler.StepLR(optimizer, step_size=1, gamma=0.1)"
      ]
    },
    {
      "cell_type": "code",
      "execution_count": null,
      "metadata": {
        "colab": {
          "base_uri": "https://localhost:8080/"
        },
        "id": "f8a642bf",
        "outputId": "a51531e8-f986-4db9-f105-5fa9ff32b144"
      },
      "outputs": [
        {
          "output_type": "execute_result",
          "data": {
            "text/plain": [
              "SkipGramNegativeSampling(\n",
              "  (A): Embedding(9973, 300)\n",
              "  (B): Embedding(9973, 300)\n",
              ")"
            ]
          },
          "metadata": {},
          "execution_count": 46
        }
      ],
      "source": [
        "model"
      ]
    },
    {
      "cell_type": "code",
      "execution_count": null,
      "metadata": {
        "colab": {
          "base_uri": "https://localhost:8080/"
        },
        "id": "85773616",
        "outputId": "21d38d73-7acd-41a7-dacc-4a23d899048f"
      },
      "outputs": [
        {
          "output_type": "stream",
          "name": "stdout",
          "text": [
            "women: ethiopia, invited, ob, 2004, promoting, client, scientists, kyle, won, morgan\n",
            "men: ranging, propaganda, vcu, aligns, vary, kym, cvi, practices, finland, tn\n",
            "nurse: businesses, seasoned, photo, responsibility, interacts, negotiator, supervisor, enabling, due, advice\n",
            "doctor: cad, zine, power, psychosis, amherst, watercolor, cycling, assessment, inputs, recognitions\n",
            "engineer: gate, unmet, metastatic, encounter, metaphysics, recovery, apparel, integration, stems, residing\n",
            "teacher: torrance, daily, secret, coming, congenital, philosophical, registry, prophet, environmentally, options\n",
            "dietitian: dissertation, guardianships, 20122013, academia, microscopy, femininity, crop, appellate, aspiring, fractal\n",
            "\n",
            "\n"
          ]
        }
      ],
      "source": [
        "validate_embeddings(model, valid_ids, itos)"
      ]
    },
    {
      "cell_type": "code",
      "execution_count": null,
      "metadata": {
        "id": "7867ee3c"
      },
      "outputs": [],
      "source": []
    },
    {
      "cell_type": "markdown",
      "metadata": {
        "id": "86476e2a"
      },
      "source": [
        "### Train the model"
      ]
    },
    {
      "cell_type": "code",
      "execution_count": null,
      "metadata": {
        "id": "24950481"
      },
      "outputs": [],
      "source": [
        "def train(dataloader, model, optimizer, epoch):\n",
        "    model.train()\n",
        "    total_acc, total_count, total_loss, total_batches = 0, 0, 0.0, 0.0\n",
        "    log_interval = 500\n",
        "\n",
        "    for idx, x_batch in tqdm(enumerate(dataloader)):\n",
        "\n",
        "        x_batch = x_batch[0]\n",
        "\n",
        "        batch_size = x_batch.shape[0]\n",
        "\n",
        "        optimizer.zero_grad()\n",
        "\n",
        "        logits = model(x_batch)\n",
        "\n",
        "        # Get the positive samples loss. Notice we use weights here\n",
        "        positive_loss = torch.nn.BCEWithLogitsLoss()(input=logits, target=torch.ones(batch_size).to(DEVICE).float())\n",
        "\n",
        "        # For each batch, get some negative samples\n",
        "        # We need a total of B * 2 * WINDOW * K samples across a batch\n",
        "        # We then reshape this batch\n",
        "        # These are effectively the output words\n",
        "        negative_samples = torch.multinomial(p, batch_size * K, replacement=True)\n",
        "\n",
        "        # Repeat the center word enough times so we can merge as needed\n",
        "        # Repeat does not work on MPS apparently\n",
        "        wc = x_batch[:, 0].to(\"cpu\").repeat(K).sort().values\n",
        "        wo = negative_samples\n",
        "\n",
        "        # Get the negative samples\n",
        "        x_batch_negative = torch.stack([wc, wo], axis=1).to(DEVICE)\n",
        "\n",
        "        \"\"\"\n",
        "        Note the way we formulated the targets: they are all 0 since these are negative samples.\n",
        "        We do the BCEWithLogitsLoss by hand basically here.\n",
        "        Notice we sum across the negative samples, per positive word.\n",
        "\n",
        "        This is literally the equation in the lecture notes.\n",
        "        \"\"\"\n",
        "        negative_loss = model(x_batch_negative).neg().sigmoid().log().reshape(\n",
        "            batch_size, K\n",
        "        ).sum(1).mean().neg().to(DEVICE)\n",
        "\n",
        "        loss = (positive_loss + negative_loss).mean()\n",
        "\n",
        "        # Get the gradients via back propagation\n",
        "        loss.backward()\n",
        "\n",
        "        # Clip the gradients? Generally a good idea\n",
        "        torch.nn.utils.clip_grad_norm_(model.parameters(), 0.1)\n",
        "\n",
        "        # Do an optimization step. Update the parameters A and B\n",
        "        optimizer.step()\n",
        "        total_loss += loss.item()\n",
        "        total_batches += 1\n",
        "\n",
        "        if idx % log_interval == 0:\n",
        "            print(\n",
        "                \"| epoch {:3d} | {:5d}/{:5d} batches \"\n",
        "                \"| loss {:8.3f} \".format(\n",
        "                    epoch,\n",
        "                    idx,\n",
        "                    len(dataloader),\n",
        "                    total_loss / total_batches\n",
        "                )\n",
        "            )\n",
        "            validate_embeddings(model, valid_ids, itos)\n",
        "            total_loss, total_batches = 0.0, 0.0"
      ]
    },
    {
      "cell_type": "markdown",
      "metadata": {
        "id": "61fe7e0d"
      },
      "source": [
        "### Some results from the run look like below:"
      ]
    },
    {
      "cell_type": "code",
      "execution_count": null,
      "metadata": {
        "colab": {
          "base_uri": "https://localhost:8080/"
        },
        "id": "a9e02c09",
        "outputId": "b879a6b2-e9e5-4759-f630-32bf4655388f"
      },
      "outputs": [
        {
          "metadata": {
            "tags": null
          },
          "name": "stderr",
          "output_type": "stream",
          "text": [
            "6it [00:02,  2.79it/s]"
          ]
        },
        {
          "metadata": {
            "tags": null
          },
          "name": "stdout",
          "output_type": "stream",
          "text": [
            "| epoch   1 |     0/58601 batches | loss    4.580 \n",
            "women: ethiopia, invited, ob, 2004, promoting, client, scientists, kyle, won, morgan\n",
            "men: ranging, propaganda, vcu, aligns, vary, kym, cvi, practices, finland, tn\n",
            "nurse: businesses, seasoned, photo, responsibility, interacts, negotiator, supervisor, enabling, due, advice\n",
            "doctor: cad, zine, power, psychosis, amherst, watercolor, cycling, assessment, inputs, recognitions\n",
            "engineer: gate, unmet, metastatic, encounter, metaphysics, recovery, apparel, integration, stems, residing\n",
            "teacher: torrance, daily, secret, coming, congenital, philosophical, registry, prophet, environmentally, options\n",
            "dietitian: dissertation, guardianships, 20122013, academia, microscopy, femininity, crop, appellate, aspiring, fractal\n",
            "\n",
            "\n"
          ]
        },
        {
          "metadata": {
            "tags": null
          },
          "name": "stderr",
          "output_type": "stream",
          "text": [
            "517it [00:04, 223.54it/s]"
          ]
        },
        {
          "metadata": {
            "tags": null
          },
          "name": "stdout",
          "output_type": "stream",
          "text": [
            "| epoch   1 |   500/58601 batches | loss    4.118 \n",
            "women: invited, ethiopia, promoting, won, scientists, kyle, client, orchestras, 2004, marquette\n",
            "men: ranging, vcu, propaganda, aligns, vary, kym, cvi, finland, tn, reach\n",
            "nurse: businesses, seasoned, photo, responsibility, negotiator, supervisor, lifes, advice, asian, cannes\n",
            "doctor: cad, zine, amherst, power, cycling, psychosis, watercolor, inputs, assessment, dietetics\n",
            "engineer: gate, unmet, metastatic, encounter, metaphysics, integration, apparel, stems, recovery, residing\n",
            "teacher: torrance, daily, coming, registry, philosophical, secret, prophet, options, environmentally, congenital\n",
            "dietitian: dissertation, guardianships, 20122013, femininity, academia, microscopy, crop, fractal, arena, theda\n",
            "\n",
            "\n"
          ]
        },
        {
          "metadata": {
            "tags": null
          },
          "name": "stderr",
          "output_type": "stream",
          "text": [
            "1023it [00:06, 211.86it/s]"
          ]
        },
        {
          "metadata": {
            "tags": null
          },
          "name": "stdout",
          "output_type": "stream",
          "text": [
            "| epoch   1 |  1000/58601 batches | loss    3.660 \n",
            "women: tupelo, invited, 2004, ethiopia, promoting, won, kyle, marquette, scanning, morgan\n",
            "men: ranging, vcu, propaganda, aligns, vary, kym, cvi, finland, tn, casa\n",
            "nurse: businesses, seasoned, lifes, photo, moritz, caste, responsibility, asian, coopers, lang\n",
            "doctor: cad, zine, power, amherst, psychosis, cycling, watercolor, 2012, dietetics, inputs\n",
            "engineer: gate, unmet, her, metastatic, national, encounter, recovery, metaphysics, st, integration\n",
            "teacher: torrance, daily, registry, options, coming, environmentally, congenital, philosophical, secret, india\n",
            "dietitian: 20122013, guardianships, dissertation, academia, femininity, crop, microscopy, arena, appellate, fractal\n",
            "\n",
            "\n"
          ]
        },
        {
          "metadata": {
            "tags": null
          },
          "name": "stderr",
          "output_type": "stream",
          "text": [
            "1531it [00:08, 227.50it/s]"
          ]
        },
        {
          "metadata": {
            "tags": null
          },
          "name": "stdout",
          "output_type": "stream",
          "text": [
            "| epoch   1 |  1500/58601 batches | loss    3.269 \n",
            "women: 2004, tupelo, promoting, won, kyle, invited, marquette, scanning, ethiopia, morgan\n",
            "men: ranging, vcu, propaganda, aligns, vary, kym, cvi, finland, tn, casa\n",
            "nurse: is, his, an, has, a, the, hospital, and, businesses, dr\n",
            "doctor: cad, zine, power, cycling, amherst, 2012, psychosis, watercolor, assessment, recognitions\n",
            "engineer: national, her, gate, unmet, metastatic, earned, degree, st, university, encounter\n",
            "teacher: torrance, national, daily, doctorate, india, options, undergraduate, registry, or, coming\n",
            "dietitian: 20122013, guardianships, academia, dissertation, crop, microscopy, femininity, arena, appellate, theda\n",
            "\n",
            "\n"
          ]
        },
        {
          "metadata": {
            "tags": null
          },
          "name": "stderr",
          "output_type": "stream",
          "text": [
            "2028it [00:10, 225.61it/s]"
          ]
        },
        {
          "metadata": {
            "tags": null
          },
          "name": "stdout",
          "output_type": "stream",
          "text": [
            "| epoch   1 |  2000/58601 batches | loss    3.021 \n",
            "women: 2004, won, tupelo, promoting, kyle, protection, science, invited, marquette, ethiopia\n",
            "men: ranging, propaganda, vcu, aligns, vary, kym, cvi, finland, casa, tanner\n",
            "nurse: is, has, and, university, dr, medical, his, in, of, center\n",
            "doctor: cad, 2012, zine, power, cycling, amherst, psychosis, work, assessment, dietetics\n",
            "engineer: national, earned, university, is, completed, gate, have, degree, unmet, he\n",
            "teacher: national, law, or, undergraduate, where, india, torrance, doctorate, has, daily\n",
            "dietitian: 20122013, guardianships, dissertation, academia, crop, microscopy, arena, femininity, aspiring, appellate\n",
            "\n",
            "\n"
          ]
        },
        {
          "metadata": {
            "tags": null
          },
          "name": "stderr",
          "output_type": "stream",
          "text": [
            "2523it [00:12, 227.59it/s]"
          ]
        },
        {
          "metadata": {
            "tags": null
          },
          "name": "stdout",
          "output_type": "stream",
          "text": [
            "| epoch   1 |  2500/58601 batches | loss    2.837 \n",
            "women: science, 2004, won, fellow, book, promoting, no, computer, center, where\n",
            "men: ranging, propaganda, vcu, vary, aligns, kym, cvi, tn, finland, tanner\n",
            "nurse: has, in, university, as, of, his, at, she, a, on\n",
            "doctor: 2012, cad, work, holds, at, and, he, bs, insurance, in\n",
            "engineer: national, earned, completed, is, have, york, university, from, st, in\n",
            "teacher: national, or, undergraduate, where, law, new, school, completed, program, was\n",
            "dietitian: 20122013, dissertation, guardianships, academia, crop, microscopy, arena, femininity, often, appellate\n",
            "\n",
            "\n"
          ]
        },
        {
          "metadata": {
            "tags": null
          },
          "name": "stderr",
          "output_type": "stream",
          "text": [
            "3030it [00:14, 228.00it/s]"
          ]
        },
        {
          "metadata": {
            "tags": null
          },
          "name": "stdout",
          "output_type": "stream",
          "text": [
            "| epoch   1 |  3000/58601 batches | loss    2.693 \n",
            "women: science, the, 2004, center, where, program, as, book, working, this\n",
            "men: ranging, propaganda, vcu, aligns, vary, kym, cvi, finland, tn, tanner\n",
            "nurse: at, university, as, she, dr, health, his, in, an, has\n",
            "doctor: 2012, holds, at, work, with, and, he, insurance, research, including\n",
            "engineer: national, from, earned, completed, york, have, university, degree, obtained, his\n",
            "teacher: national, where, or, undergraduate, department, law, program, students, university, completed\n",
            "dietitian: 20122013, dissertation, guardianships, academia, crop, microscopy, often, appellate, arena, femininity\n",
            "\n",
            "\n"
          ]
        },
        {
          "metadata": {
            "tags": null
          },
          "name": "stderr",
          "output_type": "stream",
          "text": [
            "3519it [00:16, 227.48it/s]"
          ]
        },
        {
          "metadata": {
            "tags": null
          },
          "name": "stdout",
          "output_type": "stream",
          "text": [
            "| epoch   1 |  3500/58601 batches | loss    2.568 \n",
            "women: science, working, has, this, degree, 2004, center, where, fellow, journal\n",
            "men: ranging, propaganda, vcu, vary, aligns, kym, tn, represented, tanner, finland\n",
            "nurse: and, university, at, dr, is, has, health, his, the, he\n",
            "doctor: 2012, holds, he, at, international, of, from, including, insurance, work\n",
            "engineer: national, earned, completed, york, degree, from, have, obtained, health, his\n",
            "teacher: national, where, school, or, undergraduate, received, law, students, shield, technology\n",
            "dietitian: 20122013, dissertation, guardianships, academia, crop, appellate, femininity, often, consistently, arena\n",
            "\n",
            "\n"
          ]
        },
        {
          "metadata": {
            "tags": null
          },
          "name": "stderr",
          "output_type": "stream",
          "text": [
            "4031it [00:18, 226.88it/s]"
          ]
        },
        {
          "metadata": {
            "tags": null
          },
          "name": "stdout",
          "output_type": "stream",
          "text": [
            "| epoch   1 |  4000/58601 batches | loss    2.489 \n",
            "women: science, he, on, working, fellow, 2004, center, degree, this, where\n",
            "men: ranging, vcu, propaganda, vary, aligns, kym, finland, represented, tn, worker\n",
            "nurse: university, is, he, school, a, dr, has, an, of, health\n",
            "doctor: 2012, he, holds, from, international, at, including, insurance, in, his\n",
            "engineer: national, degree, earned, york, from, university, in, completed, health, have\n",
            "teacher: national, school, where, undergraduate, students, program, shield, new, law, science\n",
            "dietitian: dissertation, 20122013, academia, guardianships, appellate, crop, often, arena, microscopy, femininity\n",
            "\n",
            "\n"
          ]
        },
        {
          "metadata": {
            "tags": null
          },
          "name": "stderr",
          "output_type": "stream",
          "text": [
            "4517it [00:20, 227.29it/s]"
          ]
        },
        {
          "metadata": {
            "tags": null
          },
          "name": "stdout",
          "output_type": "stream",
          "text": [
            "| epoch   1 |  4500/58601 batches | loss    2.417 \n",
            "women: science, working, and, fellow, for, he, degree, media, years, on\n",
            "men: ranging, vcu, vary, propaganda, aligns, kym, finland, tn, represented, reach\n",
            "nurse: university, has, dr, including, a, school, as, for, health, center\n",
            "doctor: 2012, holds, and, international, his, with, bs, he, insurance, is\n",
            "engineer: and, national, earned, university, degree, from, york, hospital, years, graduated\n",
            "teacher: national, undergraduate, received, technology, school, science, program, in, earned, has\n",
            "dietitian: dissertation, 20122013, academia, often, guardianships, crop, appellate, spent, consistently, arena\n",
            "\n",
            "\n"
          ]
        },
        {
          "metadata": {
            "tags": null
          },
          "name": "stderr",
          "output_type": "stream",
          "text": [
            "5027it [00:22, 219.96it/s]"
          ]
        },
        {
          "metadata": {
            "tags": null
          },
          "name": "stdout",
          "output_type": "stream",
          "text": [
            "| epoch   1 |  5000/58601 batches | loss    2.343 \n",
            "women: science, he, working, fellow, and, for, years, this, 2004, journal\n",
            "men: ranging, vcu, propaganda, vary, kym, aligns, tn, –, finland, represented\n",
            "nurse: has, university, as, including, school, for, health, dr, with, center\n",
            "doctor: holds, 2012, international, experience, in, including, as, of, bs, for\n",
            "engineer: earned, degree, he, national, university, from, health, york, in, science\n",
            "teacher: national, received, undergraduate, program, her, students, earned, technology, where, department\n",
            "dietitian: dissertation, often, 20122013, academia, appellate, patients, guardianships, previously, spent, rock\n",
            "\n",
            "\n"
          ]
        },
        {
          "metadata": {
            "tags": null
          },
          "name": "stderr",
          "output_type": "stream",
          "text": [
            "5515it [00:24, 226.20it/s]"
          ]
        },
        {
          "metadata": {
            "tags": null
          },
          "name": "stdout",
          "output_type": "stream",
          "text": [
            "| epoch   1 |  5500/58601 batches | loss    2.295 \n",
            "women: science, he, the, has, from, and, this, fellow, for, working\n",
            "men: ranging, vcu, propaganda, vary, kym, aligns, –, tn, rush, represented\n",
            "nurse: has, school, for, university, including, center, dr, is, health, as\n",
            "doctor: 2012, holds, international, he, his, in, bs, at, received, of\n",
            "engineer: in, earned, degree, university, national, a, at, from, years, york\n",
            "teacher: national, undergraduate, new, is, program, where, technology, earned, students, received\n",
            "dietitian: dissertation, often, patients, spent, previously, united, appellate, 20122013, academia, families\n",
            "\n",
            "\n"
          ]
        },
        {
          "metadata": {
            "tags": null
          },
          "name": "stderr",
          "output_type": "stream",
          "text": [
            "6009it [00:26, 229.53it/s]"
          ]
        },
        {
          "metadata": {
            "tags": null
          },
          "name": "stdout",
          "output_type": "stream",
          "text": [
            "| epoch   1 |  6000/58601 batches | loss    2.248 \n",
            "women: science, has, he, a, his, in, on, working, years, her\n",
            "men: ranging, vcu, propaganda, vary, kym, aligns, –, rush, represented, finland\n",
            "nurse: school, including, at, has, is, with, center, and, health, of\n",
            "doctor: at, 2012, received, holds, with, her, international, on, in, for\n",
            "engineer: degree, national, earned, in, of, st, phd, at, york, years\n",
            "teacher: national, undergraduate, new, she, program, where, earned, technology, students, received\n",
            "dietitian: dissertation, united, often, spent, patients, appellate, previously, specializes, positions, 20122013\n",
            "\n",
            "\n"
          ]
        },
        {
          "metadata": {
            "tags": null
          },
          "name": "stderr",
          "output_type": "stream",
          "text": [
            "6528it [00:28, 232.72it/s]"
          ]
        },
        {
          "metadata": {
            "tags": null
          },
          "name": "stdout",
          "output_type": "stream",
          "text": [
            "| epoch   1 |  6500/58601 batches | loss    2.206 \n",
            "women: a, science, he, by, and, has, is, working, film, from\n",
            "men: ranging, vcu, –, vary, propaganda, aligns, kym, gender, rush, within\n",
            "nurse: school, a, is, including, health, medicine, center, dr, experience, of\n",
            "doctor: received, at, with, 2012, holds, her, bs, on, insurance, university\n",
            "engineer: degree, national, in, earned, university, york, st, a, years, his\n",
            "teacher: undergraduate, national, new, program, is, the, she, students, where, technology\n",
            "dietitian: dissertation, united, patients, often, spent, previously, positions, families, appellate, using\n",
            "\n",
            "\n"
          ]
        },
        {
          "metadata": {
            "tags": null
          },
          "name": "stderr",
          "output_type": "stream",
          "text": [
            "7029it [00:30, 233.50it/s]"
          ]
        },
        {
          "metadata": {
            "tags": null
          },
          "name": "stdout",
          "output_type": "stream",
          "text": [
            "| epoch   1 |  7000/58601 batches | loss    2.168 \n",
            "women: by, and, the, science, a, on, film, 2004, work, working\n",
            "men: ranging, vcu, –, vary, gender, propaganda, kym, represented, aligns, rush\n",
            "nurse: medicine, has, including, and, school, with, for, experience, hospital, dr\n",
            "doctor: received, holds, 2012, at, in, bs, with, has, from, insurance\n",
            "engineer: national, degree, earned, university, in, york, from, st, obtained, phd\n",
            "teacher: undergraduate, national, earned, to, she, students, program, in, computer, new\n",
            "dietitian: dissertation, united, often, spent, patients, previously, using, positions, needs, families\n",
            "\n",
            "\n"
          ]
        },
        {
          "metadata": {
            "tags": null
          },
          "name": "stderr",
          "output_type": "stream",
          "text": [
            "7513it [00:32, 229.69it/s]"
          ]
        },
        {
          "metadata": {
            "tags": null
          },
          "name": "stdout",
          "output_type": "stream",
          "text": [
            "| epoch   1 |  7500/58601 batches | loss    2.143 \n",
            "women: science, by, on, has, film, and, media, for, 2004, this\n",
            "men: ranging, vcu, –, vary, propaganda, rush, kym, gender, aligns, represented\n",
            "nurse: with, for, hospital, is, center, school, experience, medicine, including, she\n",
            "doctor: holds, received, 2012, and, an, on, in, has, from, a\n",
            "engineer: earned, university, degree, national, years, science, completed, york, st, of\n",
            "teacher: undergraduate, is, for, the, program, to, national, students, new, earned\n",
            "dietitian: dissertation, united, often, spent, previously, families, patients, positions, needs, using\n",
            "\n",
            "\n"
          ]
        },
        {
          "metadata": {
            "tags": null
          },
          "name": "stderr",
          "output_type": "stream",
          "text": [
            "8026it [00:34, 228.32it/s]"
          ]
        },
        {
          "metadata": {
            "tags": null
          },
          "name": "stdout",
          "output_type": "stream",
          "text": [
            "| epoch   1 |  8000/58601 batches | loss    2.113 \n",
            "women: science, on, by, to, has, working, published, for, media, her\n",
            "men: ranging, –, vcu, within, practices, gender, represented, use, vary, rush\n",
            "nurse: center, hospital, is, experience, school, medical, with, health, medicine, including\n",
            "doctor: at, holds, 2012, received, medical, on, his, has, bs, he\n",
            "engineer: earned, the, york, national, degree, phd, in, science, completed, years\n",
            "teacher: program, for, her, undergraduate, students, where, national, new, the, is\n",
            "dietitian: dissertation, united, often, for, spent, previously, needs, patients, families, positions\n",
            "\n",
            "\n"
          ]
        },
        {
          "metadata": {
            "tags": null
          },
          "name": "stderr",
          "output_type": "stream",
          "text": [
            "8518it [00:36, 228.13it/s]"
          ]
        },
        {
          "metadata": {
            "tags": null
          },
          "name": "stdout",
          "output_type": "stream",
          "text": [
            "| epoch   1 |  8500/58601 batches | loss    2.084 \n",
            "women: science, by, has, on, film, his, media, work, fellow, a\n",
            "men: ranging, –, practices, within, gender, vcu, represented, use, justice, office\n",
            "nurse: center, school, experience, medical, she, health, hospital, including, with, medicine\n",
            "doctor: on, at, he, holds, his, received, 2012, as, university, medical\n",
            "engineer: earned, degree, national, school, phd, york, of, completed, at, st\n",
            "teacher: program, for, undergraduate, new, her, where, and, students, his, national\n",
            "dietitian: dissertation, united, often, needs, previously, for, spent, patients, positions, using\n",
            "\n",
            "\n"
          ]
        },
        {
          "metadata": {
            "tags": null
          },
          "name": "stderr",
          "output_type": "stream",
          "text": [
            "9028it [00:38, 212.01it/s]"
          ]
        },
        {
          "metadata": {
            "tags": null
          },
          "name": "stdout",
          "output_type": "stream",
          "text": [
            "| epoch   1 |  9000/58601 batches | loss    2.063 \n",
            "women: the, science, has, by, and, to, media, in, on, his\n",
            "men: ranging, –, practices, office, gender, use, represented, within, justice, vcu\n",
            "nurse: center, experience, school, hospital, medicine, with, medical, years, health, over\n",
            "doctor: holds, at, he, 2012, and, his, is, medicine, received, on\n",
            "engineer: earned, at, national, of, university, completed, in, school, york, phd\n",
            "teacher: program, for, undergraduate, of, where, and, students, doctorate, in, new\n",
            "dietitian: dissertation, united, often, using, needs, spent, families, previously, positions, patients\n",
            "\n",
            "\n"
          ]
        },
        {
          "metadata": {
            "tags": null
          },
          "name": "stderr",
          "output_type": "stream",
          "text": [
            "9516it [00:39, 227.59it/s]"
          ]
        },
        {
          "metadata": {
            "tags": null
          },
          "name": "stdout",
          "output_type": "stream",
          "text": [
            "| epoch   1 |  9500/58601 batches | loss    2.045 \n",
            "women: the, as, to, fellow, film, science, on, by, journal, media\n",
            "men: ranging, practices, –, office, gender, use, represented, justice, vcu, joseph\n",
            "nurse: experience, years, hospital, with, center, over, affiliated, medical, school, medicine\n",
            "doctor: holds, he, 2012, of, as, received, at, his, and, on\n",
            "engineer: earned, completed, national, at, he, university, school, assistant, science, phd\n",
            "teacher: program, where, her, undergraduate, national, the, development, students, a, doctorate\n",
            "dietitian: dissertation, united, often, spent, using, families, needs, previously, patients, positions\n",
            "\n",
            "\n"
          ]
        },
        {
          "metadata": {
            "tags": null
          },
          "name": "stderr",
          "output_type": "stream",
          "text": [
            "10026it [00:41, 224.47it/s]"
          ]
        },
        {
          "metadata": {
            "tags": null
          },
          "name": "stdout",
          "output_type": "stream",
          "text": [
            "| epoch   1 | 10000/58601 batches | loss    2.022 \n",
            "women: on, was, a, media, of, film, in, published, for, journal\n",
            "men: ranging, –, office, represented, use, practices, justice, gender, joseph, rush\n",
            "nurse: experience, center, years, hospital, medicine, affiliated, over, medical, health, other\n",
            "doctor: holds, 2012, he, of, in, medicine, at, received, as, university\n",
            "engineer: earned, completed, national, science, at, school, university, in, state, phd\n",
            "teacher: a, the, where, her, program, undergraduate, students, national, technology, doctorate\n",
            "dietitian: dissertation, united, often, he, spent, patients, families, previously, needs, using\n",
            "\n",
            "\n"
          ]
        },
        {
          "metadata": {
            "tags": null
          },
          "name": "stderr",
          "output_type": "stream",
          "text": [
            "10516it [00:43, 225.28it/s]"
          ]
        },
        {
          "metadata": {
            "tags": null
          },
          "name": "stdout",
          "output_type": "stream",
          "text": [
            "| epoch   1 | 10500/58601 batches | loss    2.003 \n",
            "women: on, for, media, a, she, of, journal, film, science, by\n",
            "men: ranging, –, represented, use, office, justice, within, joseph, rush, gender\n",
            "nurse: experience, center, years, hospital, medicine, with, medical, affiliated, health, over\n",
            "doctor: holds, 2012, received, of, completed, he, medicine, university, in, his\n",
            "engineer: earned, completed, an, science, at, a, york, national, assistant, he\n",
            "teacher: where, a, in, to, undergraduate, program, national, the, doctorate, students\n",
            "dietitian: dissertation, united, often, patients, life, needs, families, spent, best, he\n",
            "\n",
            "\n"
          ]
        },
        {
          "metadata": {
            "tags": null
          },
          "name": "stderr",
          "output_type": "stream",
          "text": [
            "11034it [00:45, 229.40it/s]"
          ]
        },
        {
          "metadata": {
            "tags": null
          },
          "name": "stdout",
          "output_type": "stream",
          "text": [
            "| epoch   1 | 11000/58601 batches | loss    1.999 \n",
            "women: on, media, she, journal, has, for, won, american, by, editor\n",
            "men: ranging, –, office, represented, use, justice, joseph, rush, within, magazines\n",
            "nurse: experience, center, hospital, years, over, affiliated, medical, health, with, other\n",
            "doctor: holds, he, 2012, received, in, completed, medicine, for, degree, the\n",
            "engineer: earned, completed, university, at, york, assistant, dr, postdoctoral, the, national\n",
            "teacher: where, her, doctorate, undergraduate, program, has, an, a, national, university\n",
            "dietitian: dissertation, united, he, often, families, needs, spent, life, best, using\n",
            "\n",
            "\n"
          ]
        },
        {
          "metadata": {
            "tags": null
          },
          "name": "stderr",
          "output_type": "stream",
          "text": [
            "11525it [00:47, 223.86it/s]"
          ]
        },
        {
          "metadata": {
            "tags": null
          },
          "name": "stdout",
          "output_type": "stream",
          "text": [
            "| epoch   1 | 11500/58601 batches | loss    1.985 \n",
            "women: on, media, work, his, in, by, journal, film, a, she\n",
            "men: ranging, –, justice, use, within, represented, office, joseph, gender, oxford\n",
            "nurse: center, experience, hospital, affiliated, medical, years, she, other, over, with\n",
            "doctor: he, 2012, a, holds, completed, at, received, his, dr, degree\n",
            "engineer: completed, earned, postdoctoral, he, in, national, assistant, york, dr, of\n",
            "teacher: her, doctorate, where, has, program, undergraduate, national, a, technology, students\n",
            "dietitian: dissertation, united, to, often, families, previously, life, patients, needs, best\n",
            "\n",
            "\n"
          ]
        },
        {
          "metadata": {
            "tags": null
          },
          "name": "stderr",
          "output_type": "stream",
          "text": [
            "12035it [00:49, 228.58it/s]"
          ]
        },
        {
          "metadata": {
            "tags": null
          },
          "name": "stdout",
          "output_type": "stream",
          "text": [
            "| epoch   1 | 12000/58601 batches | loss    1.967 \n",
            "women: media, his, journal, on, work, by, film, science, to, working\n",
            "men: ranging, he, justice, within, –, use, office, represented, joseph, gender\n",
            "nurse: experience, with, over, center, medical, hospital, affiliated, she, other, years\n",
            "doctor: 2012, holds, at, received, completed, dr, his, in, degree, university\n",
            "engineer: completed, university, earned, postdoctoral, assistant, his, national, science, obtained, state\n",
            "teacher: where, doctorate, her, education, in, students, national, technology, by, program\n",
            "dietitian: united, dissertation, often, his, patients, life, families, previously, needs, using\n",
            "\n",
            "\n"
          ]
        },
        {
          "metadata": {
            "tags": null
          },
          "name": "stderr",
          "output_type": "stream",
          "text": [
            "12527it [00:51, 232.40it/s]"
          ]
        },
        {
          "metadata": {
            "tags": null
          },
          "name": "stdout",
          "output_type": "stream",
          "text": [
            "| epoch   1 | 12500/58601 batches | loss    1.952 \n",
            "women: media, on, journal, film, work, won, by, published, working, the\n",
            "men: ranging, –, justice, use, within, office, represented, gender, family, joseph\n",
            "nurse: experience, hospital, over, center, affiliated, medical, other, with, graduated, years\n",
            "doctor: holds, 2012, received, and, at, completed, in, dr, from, where\n",
            "engineer: university, completed, earned, at, a, assistant, national, postdoctoral, york, worked\n",
            "teacher: doctorate, where, to, education, national, an, program, technology, students, worked\n",
            "dietitian: united, dissertation, patients, often, best, life, to, also, previously, families\n",
            "\n",
            "\n"
          ]
        },
        {
          "metadata": {
            "tags": null
          },
          "name": "stderr",
          "output_type": "stream",
          "text": [
            "13021it [00:53, 227.75it/s]"
          ]
        },
        {
          "metadata": {
            "tags": null
          },
          "name": "stdout",
          "output_type": "stream",
          "text": [
            "| epoch   1 | 13000/58601 batches | loss    1.947 \n",
            "women: media, journal, on, work, published, won, and, development, film, by\n",
            "men: ranging, justice, use, –, by, within, represented, office, gender, prestigious\n",
            "nurse: experience, hospital, affiliated, over, medical, graduated, center, with, other, years\n",
            "doctor: holds, received, 2012, completed, at, college, dr, state, as, york\n",
            "engineer: university, earned, phd, holds, postdoctoral, completed, assistant, national, york, for\n",
            "teacher: doctorate, where, her, undergraduate, the, by, education, has, students, to\n",
            "dietitian: united, dissertation, patients, often, families, to, using, seeking, more, spent\n",
            "\n",
            "\n"
          ]
        },
        {
          "metadata": {
            "tags": null
          },
          "name": "stderr",
          "output_type": "stream",
          "text": [
            "13528it [00:55, 226.80it/s]"
          ]
        },
        {
          "metadata": {
            "tags": null
          },
          "name": "stdout",
          "output_type": "stream",
          "text": [
            "| epoch   1 | 13500/58601 batches | loss    1.940 \n",
            "women: media, journal, work, published, won, the, was, on, editor, time\n",
            "men: ranging, use, represented, justice, –, office, within, by, prestigious, gender\n",
            "nurse: experience, affiliated, hospital, center, medical, graduated, over, other, years, with\n",
            "doctor: holds, 2012, completed, received, is, of, college, dr, at, state\n",
            "engineer: university, earned, postdoctoral, assistant, from, national, at, holds, phd, completed\n",
            "teacher: where, doctorate, students, undergraduate, her, national, education, the, worked, an\n",
            "dietitian: united, dissertation, patients, families, for, often, more, using, previously, has\n",
            "\n",
            "\n"
          ]
        },
        {
          "metadata": {
            "tags": null
          },
          "name": "stderr",
          "output_type": "stream",
          "text": [
            "14019it [00:57, 227.27it/s]"
          ]
        },
        {
          "metadata": {
            "tags": null
          },
          "name": "stdout",
          "output_type": "stream",
          "text": [
            "| epoch   1 | 14000/58601 batches | loss    1.937 \n",
            "women: media, journal, work, published, won, was, been, time, to, the\n",
            "men: ranging, to, he, represented, use, office, within, –, justice, family\n",
            "nurse: hospital, affiliated, experience, graduated, center, other, medical, years, including, over\n",
            "doctor: completed, holds, 2012, university, received, at, school, of, college, dr\n",
            "engineer: from, earned, postdoctoral, completed, phd, national, the, holds, assistant, he\n",
            "teacher: where, doctorate, students, education, for, technology, to, an, the, undergraduate\n",
            "dietitian: united, dissertation, patients, families, often, more, previously, needs, seeking, group\n",
            "\n",
            "\n"
          ]
        },
        {
          "metadata": {
            "tags": null
          },
          "name": "stderr",
          "output_type": "stream",
          "text": [
            "14526it [00:59, 224.02it/s]"
          ]
        },
        {
          "metadata": {
            "tags": null
          },
          "name": "stdout",
          "output_type": "stream",
          "text": [
            "| epoch   1 | 14500/58601 batches | loss    1.922 \n",
            "women: journal, media, work, published, was, won, studies, been, by, time\n",
            "men: ranging, to, use, represented, office, within, –, justice, rush, family\n",
            "nurse: hospital, graduated, affiliated, center, medical, experience, over, with, other, including\n",
            "doctor: completed, 2012, holds, university, he, is, at, of, received, in\n",
            "engineer: earned, national, in, phd, from, at, of, holds, assistant, completed\n",
            "teacher: where, education, doctorate, students, technology, of, her, program, teaching, for\n",
            "dietitian: united, patients, dissertation, more, often, experience, needs, and, families, for\n",
            "\n",
            "\n"
          ]
        },
        {
          "metadata": {
            "tags": null
          },
          "name": "stderr",
          "output_type": "stream",
          "text": [
            "15035it [01:01, 225.97it/s]"
          ]
        },
        {
          "metadata": {
            "tags": null
          },
          "name": "stdout",
          "output_type": "stream",
          "text": [
            "| epoch   1 | 15000/58601 batches | loss    1.914 \n",
            "women: journal, media, published, work, the, been, studies, was, won, a\n",
            "men: ranging, represented, office, to, use, within, family, rush, –, justice\n",
            "nurse: hospital, affiliated, graduated, experience, center, years, over, medical, other, with\n",
            "doctor: holds, completed, at, in, received, he, university, 2012, his, school\n",
            "engineer: earned, national, from, phd, postdoctoral, assistant, holds, management, completed, at\n",
            "teacher: where, to, education, technology, students, doctorate, the, for, undergraduate, in\n",
            "dietitian: united, a, dissertation, patients, often, needs, but, previously, life, families\n",
            "\n",
            "\n"
          ]
        },
        {
          "metadata": {
            "tags": null
          },
          "name": "stderr",
          "output_type": "stream",
          "text": [
            "15519it [01:03, 229.32it/s]"
          ]
        },
        {
          "metadata": {
            "tags": null
          },
          "name": "stdout",
          "output_type": "stream",
          "text": [
            "| epoch   1 | 15500/58601 batches | loss    1.909 \n",
            "women: media, journal, work, published, her, where, been, while, time, working\n",
            "men: ranging, represented, within, office, use, family, rush, justice, media, –\n",
            "nurse: hospital, experience, graduated, affiliated, years, center, over, other, practitioner, medical\n",
            "doctor: completed, holds, he, at, 2012, medicine, in, residency, school, received\n",
            "engineer: earned, phd, national, postdoctoral, holds, assistant, his, management, technology, completed\n",
            "teacher: where, to, students, doctorate, education, for, technology, a, undergraduate, program\n",
            "dietitian: a, united, patients, experience, dissertation, with, often, more, but, needs\n",
            "\n",
            "\n"
          ]
        },
        {
          "metadata": {
            "tags": null
          },
          "name": "stderr",
          "output_type": "stream",
          "text": [
            "16027it [01:05, 224.65it/s]"
          ]
        },
        {
          "metadata": {
            "tags": null
          },
          "name": "stdout",
          "output_type": "stream",
          "text": [
            "| epoch   1 | 16000/58601 batches | loss    1.897 \n",
            "women: media, journal, published, the, where, work, science, studies, while, her\n",
            "men: ranging, of, within, use, represented, office, family, justice, the, media\n",
            "nurse: hospital, experience, graduated, affiliated, center, practitioner, is, medical, years, other\n",
            "doctor: completed, of, holds, 2012, university, new, dr, college, residency, school\n",
            "engineer: phd, postdoctoral, national, earned, completed, assistant, from, holds, the, in\n",
            "teacher: where, students, education, doctorate, her, technology, and, for, worked, undergraduate\n",
            "dietitian: a, united, more, experience, dissertation, patients, often, including, for, needs\n",
            "\n",
            "\n"
          ]
        },
        {
          "metadata": {
            "tags": null
          },
          "name": "stderr",
          "output_type": "stream",
          "text": [
            "16534it [01:07, 226.90it/s]"
          ]
        },
        {
          "metadata": {
            "tags": null
          },
          "name": "stdout",
          "output_type": "stream",
          "text": [
            "| epoch   1 | 16500/58601 batches | loss    1.886 \n",
            "women: media, journal, published, where, while, studies, work, of, american, served\n",
            "men: ranging, use, within, represented, office, justice, media, by, family, oxford\n",
            "nurse: hospital, experience, graduated, affiliated, with, practitioner, other, years, medical, center\n",
            "doctor: completed, 2012, college, holds, at, from, received, dr, phd, where\n",
            "engineer: phd, assistant, postdoctoral, national, earned, university, holds, from, degree, technology\n",
            "teacher: where, education, students, her, doctorate, program, worked, undergraduate, teaching, technology\n",
            "dietitian: united, patients, more, dissertation, often, over, for, but, specialists, that\n",
            "\n",
            "\n"
          ]
        },
        {
          "metadata": {
            "tags": null
          },
          "name": "stderr",
          "output_type": "stream",
          "text": [
            "17019it [01:09, 228.68it/s]"
          ]
        },
        {
          "metadata": {
            "tags": null
          },
          "name": "stdout",
          "output_type": "stream",
          "text": [
            "| epoch   1 | 17000/58601 batches | loss    1.888 \n",
            "women: media, journal, been, published, while, science, development, work, book, working\n",
            "men: ranging, he, office, within, use, by, represented, justice, rush, oxford\n",
            "nurse: hospital, experience, graduated, with, practitioner, affiliated, center, over, honors, medical\n",
            "doctor: holds, completed, in, college, 2012, from, residency, at, received, university\n",
            "engineer: phd, earned, assistant, postdoctoral, holds, from, national, degree, science, university\n",
            "teacher: education, students, teaching, doctorate, where, undergraduate, she, worked, an, program\n",
            "dietitian: more, experience, with, united, patients, dissertation, often, that, life, specialists\n",
            "\n",
            "\n"
          ]
        },
        {
          "metadata": {
            "tags": null
          },
          "name": "stderr",
          "output_type": "stream",
          "text": [
            "17535it [01:11, 228.09it/s]"
          ]
        },
        {
          "metadata": {
            "tags": null
          },
          "name": "stdout",
          "output_type": "stream",
          "text": [
            "| epoch   1 | 17500/58601 batches | loss    1.874 \n",
            "women: media, journal, while, her, been, working, book, time, published, by\n",
            "men: ranging, to, use, within, office, represented, by, justice, in, family\n",
            "nurse: with, hospital, practitioner, affiliated, years, experience, graduated, center, medical, is\n",
            "doctor: at, holds, from, completed, 2012, received, his, school, residency, university\n",
            "engineer: assistant, earned, university, postdoctoral, phd, national, science, his, holds, degree\n",
            "teacher: teaching, students, education, doctorate, undergraduate, where, worked, courses, technology, program\n",
            "dietitian: experience, more, with, patients, that, united, life, dissertation, often, patient\n",
            "\n",
            "\n"
          ]
        },
        {
          "metadata": {
            "tags": null
          },
          "name": "stderr",
          "output_type": "stream",
          "text": [
            "18019it [01:13, 224.79it/s]"
          ]
        },
        {
          "metadata": {
            "tags": null
          },
          "name": "stdout",
          "output_type": "stream",
          "text": [
            "| epoch   1 | 18000/58601 batches | loss    1.874 \n",
            "women: media, journal, while, been, working, work, editor, book, time, served\n",
            "men: ranging, office, family, within, use, justice, represented, by, oxford, for\n",
            "nurse: hospital, practitioner, with, affiliated, years, graduated, medical, center, honors, experience\n",
            "doctor: completed, holds, 2012, state, received, at, texas, residency, of, dr\n",
            "engineer: assistant, earned, phd, postdoctoral, national, university, as, from, management, degree\n",
            "teacher: teaching, students, education, doctorate, undergraduate, courses, where, technology, phd, worked\n",
            "dietitian: more, with, patients, to, patient, specialists, dissertation, for, united, experience\n",
            "\n",
            "\n"
          ]
        },
        {
          "metadata": {
            "tags": null
          },
          "name": "stderr",
          "output_type": "stream",
          "text": [
            "18532it [01:15, 232.75it/s]"
          ]
        },
        {
          "metadata": {
            "tags": null
          },
          "name": "stdout",
          "output_type": "stream",
          "text": [
            "| epoch   1 | 18500/58601 batches | loss    1.865 \n",
            "women: media, journal, working, book, by, published, while, she, served, 2004\n",
            "men: ranging, by, within, their, represented, to, justice, well, office, rush\n",
            "nurse: practitioner, years, hospital, graduated, affiliated, medical, experience, honors, center, with\n",
            "doctor: completed, of, holds, his, 2012, at, he, received, degree, texas\n",
            "engineer: university, assistant, earned, his, postdoctoral, national, degree, he, at, management\n",
            "teacher: teaching, students, education, doctorate, undergraduate, where, courses, development, technology, phd\n",
            "dietitian: more, united, experience, dissertation, patients, specialists, patient, that, but, school\n",
            "\n",
            "\n"
          ]
        },
        {
          "metadata": {
            "tags": null
          },
          "name": "stderr",
          "output_type": "stream",
          "text": [
            "19034it [01:17, 230.65it/s]"
          ]
        },
        {
          "metadata": {
            "tags": null
          },
          "name": "stdout",
          "output_type": "stream",
          "text": [
            "| epoch   1 | 19000/58601 batches | loss    1.860 \n",
            "women: media, journal, working, been, she, while, academic, book, has, by\n",
            "men: ranging, by, within, represented, justice, office, homes, rush, oxford, –\n",
            "nurse: practitioner, with, graduated, medical, years, affiliated, hospital, honors, experience, clinical\n",
            "doctor: completed, received, at, 2012, holds, degree, school, california, texas, earned\n",
            "engineer: assistant, university, earned, at, worked, postdoctoral, received, phd, national, degree\n",
            "teacher: teaching, education, students, doctorate, undergraduate, courses, technology, where, phd, program\n",
            "dietitian: more, of, with, including, united, to, that, patients, group, dissertation\n",
            "\n",
            "\n"
          ]
        },
        {
          "metadata": {
            "tags": null
          },
          "name": "stderr",
          "output_type": "stream",
          "text": [
            "19521it [01:19, 224.46it/s]"
          ]
        },
        {
          "metadata": {
            "tags": null
          },
          "name": "stdout",
          "output_type": "stream",
          "text": [
            "| epoch   1 | 19500/58601 batches | loss    1.857 \n",
            "women: media, journal, she, book, been, has, working, while, served, won\n",
            "men: ranging, of, within, family, represented, justice, homes, office, rush, a\n",
            "nurse: practitioner, medical, graduated, years, hospital, affiliated, honors, experience, clinical, with\n",
            "doctor: completed, 2012, in, university, texas, received, degree, earned, holds, his\n",
            "engineer: assistant, earned, degree, at, postdoctoral, worked, he, from, received, engineering\n",
            "teacher: teaching, education, students, courses, doctorate, undergraduate, where, technology, program, development\n",
            "dietitian: more, patients, dissertation, united, specialists, specializes, patient, that, years, experience\n",
            "\n",
            "\n"
          ]
        },
        {
          "metadata": {
            "tags": null
          },
          "name": "stderr",
          "output_type": "stream",
          "text": [
            "20029it [01:21, 227.42it/s]"
          ]
        },
        {
          "metadata": {
            "tags": null
          },
          "name": "stdout",
          "output_type": "stream",
          "text": [
            "| epoch   1 | 20000/58601 batches | loss    1.853 \n",
            "women: media, book, journal, and, through, published, by, been, while, working\n",
            "men: ranging, of, within, including, office, homes, family, justice, new, represented\n",
            "nurse: practitioner, years, medical, graduated, hospital, honors, experience, affiliated, with, healthcare\n",
            "doctor: 2012, university, completed, holds, at, in, earned, texas, degree, received\n",
            "engineer: assistant, earned, at, received, he, postdoctoral, degree, phd, prior, engineering\n",
            "teacher: teaching, students, courses, education, doctorate, undergraduate, program, as, where, teaches\n",
            "dietitian: more, a, for, but, group, patients, specialists, specializes, life, years\n",
            "\n",
            "\n"
          ]
        },
        {
          "metadata": {
            "tags": null
          },
          "name": "stderr",
          "output_type": "stream",
          "text": [
            "20516it [01:23, 215.61it/s]"
          ]
        },
        {
          "metadata": {
            "tags": null
          },
          "name": "stdout",
          "output_type": "stream",
          "text": [
            "| epoch   1 | 20500/58601 batches | loss    1.847 \n",
            "women: the, journal, media, book, published, working, been, served, won, international\n",
            "men: ranging, of, within, family, office, represented, homes, patients, rush, justice\n",
            "nurse: practitioner, experience, graduated, years, honors, medical, with, over, hospital, affiliated\n",
            "doctor: completed, university, 2012, at, holds, earned, bs, california, texas, dr\n",
            "engineer: assistant, earned, postdoctoral, phd, from, received, engineering, at, worked, management\n",
            "teacher: teaching, students, education, doctorate, courses, undergraduate, as, program, graduate, where\n",
            "dietitian: more, but, patients, specializes, with, experience, patient, who, specialists, group\n",
            "\n",
            "\n"
          ]
        },
        {
          "metadata": {
            "tags": null
          },
          "name": "stderr",
          "output_type": "stream",
          "text": [
            "21024it [01:25, 216.70it/s]"
          ]
        },
        {
          "metadata": {
            "tags": null
          },
          "name": "stdout",
          "output_type": "stream",
          "text": [
            "| epoch   1 | 21000/58601 batches | loss    1.841 \n",
            "women: media, journal, book, working, served, a, director, won, by, and\n",
            "men: ranging, their, and, office, within, by, homes, family, justice, patients\n",
            "nurse: practitioner, experience, years, graduated, honors, medical, hospital, affiliated, with, care\n",
            "doctor: completed, degree, university, at, 2012, holds, earned, texas, california, received\n",
            "engineer: from, assistant, at, phd, earned, engineering, postdoctoral, a, prior, management\n",
            "teacher: teaching, students, education, doctorate, where, courses, undergraduate, teaches, for, communication\n",
            "dietitian: with, more, but, patients, that, patient, specialists, a, experience, specializes\n",
            "\n",
            "\n"
          ]
        },
        {
          "metadata": {
            "tags": null
          },
          "name": "stderr",
          "output_type": "stream",
          "text": [
            "21528it [01:27, 223.98it/s]"
          ]
        },
        {
          "metadata": {
            "tags": null
          },
          "name": "stdout",
          "output_type": "stream",
          "text": [
            "| epoch   1 | 21500/58601 batches | loss    1.842 \n",
            "women: media, journal, working, while, published, book, director, has, won, through\n",
            "men: ranging, by, office, their, of, within, homes, residency, joseph, how\n",
            "nurse: practitioner, experience, graduated, years, medical, honors, affiliated, over, care, center\n",
            "doctor: university, completed, degree, holds, from, 2012, earned, he, texas, school\n",
            "engineer: assistant, from, phd, earned, postdoctoral, received, engineering, worked, focused, prior\n",
            "teacher: teaching, students, education, doctorate, undergraduate, where, courses, communication, has, program\n",
            "dietitian: more, with, but, patients, patient, group, a, including, dr, specialists\n",
            "\n",
            "\n"
          ]
        },
        {
          "metadata": {
            "tags": null
          },
          "name": "stderr",
          "output_type": "stream",
          "text": [
            "22026it [01:28, 224.30it/s]"
          ]
        },
        {
          "metadata": {
            "tags": null
          },
          "name": "stdout",
          "output_type": "stream",
          "text": [
            "| epoch   1 | 22000/58601 batches | loss    1.839 \n",
            "women: media, journal, served, working, published, book, through, of, time, works\n",
            "men: ranging, of, within, homes, their, residency, vcu, joseph, rush, office\n",
            "nurse: practitioner, graduated, experience, medical, affiliated, years, center, honors, hospital, over\n",
            "doctor: from, university, degree, received, completed, holds, he, texas, 2012, earned\n",
            "engineer: assistant, phd, from, engineering, received, postdoctoral, worked, earned, focused, university\n",
            "teacher: teaching, students, education, doctorate, undergraduate, courses, communication, program, teaches, development\n",
            "dietitian: more, his, with, who, patient, but, patients, specialists, over, to\n",
            "\n",
            "\n"
          ]
        },
        {
          "metadata": {
            "tags": null
          },
          "name": "stderr",
          "output_type": "stream",
          "text": [
            "22513it [01:30, 232.98it/s]"
          ]
        },
        {
          "metadata": {
            "tags": null
          },
          "name": "stdout",
          "output_type": "stream",
          "text": [
            "| epoch   1 | 22500/58601 batches | loss    1.836 \n",
            "women: media, working, book, the, served, published, editor, during, journal, time\n",
            "men: ranging, by, residency, within, homes, how, vcu, for, their, rush\n",
            "nurse: practitioner, experience, graduated, medical, years, honors, affiliated, care, with, over\n",
            "doctor: received, degree, from, earned, an, holds, he, texas, 2012, bs\n",
            "engineer: assistant, phd, postdoctoral, received, engineering, focused, his, earned, worked, technology\n",
            "teacher: teaching, students, education, courses, doctorate, undergraduate, communication, teaches, program, special\n",
            "dietitian: more, but, patients, patient, with, specialists, group, who, specializes, his\n",
            "\n",
            "\n"
          ]
        },
        {
          "metadata": {
            "tags": null
          },
          "name": "stderr",
          "output_type": "stream",
          "text": [
            "23021it [01:32, 211.91it/s]"
          ]
        },
        {
          "metadata": {
            "tags": null
          },
          "name": "stdout",
          "output_type": "stream",
          "text": [
            "| epoch   1 | 23000/58601 batches | loss    1.829 \n",
            "women: media, working, her, journal, book, served, american, by, while, has\n",
            "men: ranging, within, homes, how, vcu, diversity, patients, media, office, rush\n",
            "nurse: practitioner, graduated, experience, honors, medical, affiliated, years, with, over, hospital\n",
            "doctor: degree, earned, completed, from, received, texas, bs, holds, 2012, surgery\n",
            "engineer: assistant, phd, received, postdoctoral, engineering, earned, focused, worked, university, his\n",
            "teacher: students, teaching, education, courses, doctorate, program, teaches, undergraduate, development, has\n",
            "dietitian: more, patients, who, group, over, specialists, but, patient, specializes, family\n",
            "\n",
            "\n"
          ]
        },
        {
          "metadata": {
            "tags": null
          },
          "name": "stderr",
          "output_type": "stream",
          "text": [
            "23523it [01:34, 216.27it/s]"
          ]
        },
        {
          "metadata": {
            "tags": null
          },
          "name": "stdout",
          "output_type": "stream",
          "text": [
            "| epoch   1 | 23500/58601 batches | loss    1.825 \n",
            "women: her, media, by, journal, working, south, editor, book, which, she\n",
            "men: ranging, within, homes, vcu, their, how, justice, and, diversity, rush\n",
            "nurse: practitioner, experience, graduated, honors, affiliated, years, hospital, over, doctors, medical\n",
            "doctor: of, completed, degree, earned, received, texas, college, university, from, holds\n",
            "engineer: assistant, from, university, engineering, earned, phd, worked, postdoctoral, focused, 2001\n",
            "teacher: students, teaching, education, doctorate, courses, where, program, graduate, spent, teaches\n",
            "dietitian: more, but, with, specialists, patients, patient, over, who, specializes, group\n",
            "\n",
            "\n"
          ]
        },
        {
          "output_type": "stream",
          "name": "stderr",
          "text": [
            "24033it [01:36, 224.15it/s]"
          ]
        },
        {
          "output_type": "stream",
          "name": "stdout",
          "text": [
            "| epoch   1 | 24000/58601 batches | loss    1.820 \n",
            "women: her, a, working, journal, media, the, editor, academic, south, book\n",
            "men: ranging, within, who, justice, vcu, homes, include, how, also, patients\n",
            "nurse: practitioner, experience, graduated, honors, medical, hospital, affiliated, years, care, doctors\n",
            "doctor: degree, received, earned, from, texas, surgery, completed, college, in, bs\n",
            "engineer: assistant, from, postdoctoral, engineering, earned, 2001, focused, phd, prior, university\n",
            "teacher: students, teaching, education, courses, doctorate, program, where, teaches, undergraduate, communication\n",
            "dietitian: more, but, patients, specialists, who, patient, group, specializes, dr, healthcare\n",
            "\n",
            "\n"
          ]
        },
        {
          "output_type": "stream",
          "name": "stderr",
          "text": [
            "24514it [01:38, 222.26it/s]"
          ]
        },
        {
          "output_type": "stream",
          "name": "stdout",
          "text": [
            "| epoch   1 | 24500/58601 batches | loss    1.817 \n",
            "women: her, the, american, working, on, south, by, in, during, she\n",
            "men: ranging, the, of, how, within, who, which, also, their, homes\n",
            "nurse: practitioner, experience, graduated, honors, affiliated, medical, hospital, years, over, doctors\n",
            "doctor: degree, texas, in, received, earned, surgery, completed, from, school, sciences\n",
            "engineer: assistant, engineering, postdoctoral, from, focused, phd, earned, worked, prior, science\n",
            "teacher: teaching, students, education, courses, doctorate, where, teaches, undergraduate, science, program\n",
            "dietitian: more, specialists, patients, patient, but, healthcare, with, who, professional, nurse\n",
            "\n",
            "\n"
          ]
        },
        {
          "output_type": "stream",
          "name": "stderr",
          "text": [
            "25022it [01:40, 222.36it/s]"
          ]
        },
        {
          "output_type": "stream",
          "name": "stdout",
          "text": [
            "| epoch   1 | 25000/58601 batches | loss    1.819 \n",
            "women: by, working, she, her, american, south, book, is, during, served\n",
            "men: ranging, their, within, vcu, homes, joseph, justice, magazines, by, family\n",
            "nurse: practitioner, graduated, honors, experience, affiliated, hospital, over, diverse, years, specialists\n",
            "doctor: from, degree, received, texas, earned, completed, surgery, college, member, bs\n",
            "engineer: assistant, postdoctoral, focused, science, earned, engineering, from, university, phd, worked\n",
            "teacher: teaching, students, education, courses, doctorate, graduate, working, program, undergraduate, a\n",
            "dietitian: more, been, specialists, patient, but, professional, group, patients, other, as\n",
            "\n",
            "\n"
          ]
        },
        {
          "output_type": "stream",
          "name": "stderr",
          "text": [
            "25533it [01:42, 228.55it/s]"
          ]
        },
        {
          "output_type": "stream",
          "name": "stdout",
          "text": [
            "| epoch   1 | 25500/58601 batches | loss    1.810 \n",
            "women: by, working, book, her, during, media, south, the, american, new\n",
            "men: ranging, within, vcu, homes, media, justice, joseph, providing, rush, magazines\n",
            "nurse: practitioner, graduated, honors, hospital, over, experience, affiliated, years, diverse, specialists\n",
            "doctor: from, earned, texas, received, degree, college, school, member, at, completed\n",
            "engineer: assistant, engineering, postdoctoral, from, focused, earned, phd, prior, he, 2001\n",
            "teacher: teaching, students, education, courses, doctorate, the, special, undergraduate, working, program\n",
            "dietitian: more, specialists, but, patient, patients, experience, professional, other, been, healthcare\n",
            "\n",
            "\n"
          ]
        },
        {
          "output_type": "stream",
          "name": "stderr",
          "text": [
            "26021it [01:44, 224.22it/s]"
          ]
        },
        {
          "output_type": "stream",
          "name": "stdout",
          "text": [
            "| epoch   1 | 26000/58601 batches | loss    1.809 \n",
            "women: by, working, book, the, during, south, her, will, since, media\n",
            "men: ranging, within, homes, justice, media, joseph, by, vcu, providing, how\n",
            "nurse: practitioner, graduated, honors, affiliated, over, experience, hospital, diverse, years, specialists\n",
            "doctor: degree, texas, from, earned, received, college, completed, bachelor, member, school\n",
            "engineer: assistant, engineering, postdoctoral, earned, phd, focused, prior, science, computer, 2001\n",
            "teacher: teaching, students, education, courses, special, doctorate, been, working, graduate, undergraduate\n",
            "dietitian: more, specialists, but, professional, patients, patient, healthcare, including, nurse, families\n",
            "\n",
            "\n"
          ]
        },
        {
          "output_type": "stream",
          "name": "stderr",
          "text": [
            "26531it [01:46, 220.19it/s]"
          ]
        },
        {
          "output_type": "stream",
          "name": "stdout",
          "text": [
            "| epoch   1 | 26500/58601 batches | loss    1.811 \n",
            "women: working, by, her, book, since, also, will, which, media, time\n",
            "men: ranging, the, social, within, justice, homes, vcu, of, joseph, media\n",
            "nurse: practitioner, graduated, over, affiliated, honors, diverse, experience, specialists, years, hospital\n",
            "doctor: degree, texas, earned, college, completed, school, bachelor, member, received, general\n",
            "engineer: assistant, engineering, postdoctoral, earned, a, computer, focused, prior, worked, phd\n",
            "teacher: teaching, students, education, courses, doctorate, special, working, been, studies, graduate\n",
            "dietitian: more, specialists, patients, healthcare, patient, professional, with, but, including, nurse\n",
            "\n",
            "\n"
          ]
        },
        {
          "output_type": "stream",
          "name": "stderr",
          "text": [
            "27022it [01:48, 218.81it/s]"
          ]
        },
        {
          "output_type": "stream",
          "name": "stdout",
          "text": [
            "| epoch   1 | 27000/58601 batches | loss    1.806 \n",
            "women: by, working, the, media, she, since, which, her, during, book\n",
            "men: ranging, how, justice, homes, vcu, within, media, social, also, providing\n",
            "nurse: practitioner, graduated, honors, over, affiliated, experience, hospital, diverse, specialists, care\n",
            "doctor: of, college, texas, degree, earned, bachelor, received, school, from, completed\n",
            "engineer: assistant, engineering, postdoctoral, in, at, earned, focused, worked, prior, computer\n",
            "teacher: teaching, students, education, courses, working, doctorate, special, been, teachers, has\n",
            "dietitian: more, patients, specialists, years, patient, healthcare, experience, but, with, graduated\n",
            "\n",
            "\n"
          ]
        },
        {
          "output_type": "stream",
          "name": "stderr",
          "text": [
            "27512it [01:50, 230.29it/s]"
          ]
        },
        {
          "output_type": "stream",
          "name": "stdout",
          "text": [
            "| epoch   1 | 27500/58601 batches | loss    1.801 \n",
            "women: by, working, book, for, and, her, during, director, which, project\n",
            "men: ranging, justice, within, homes, vcu, how, rush, also, been, the\n",
            "nurse: practitioner, graduated, years, honors, over, experience, hospital, diverse, doctors, specialists\n",
            "doctor: degree, college, earned, bachelor, of, from, texas, university, received, completed\n",
            "engineer: engineering, assistant, postdoctoral, earned, focused, at, computer, phd, worked, prior\n",
            "teacher: students, education, teaching, courses, working, doctorate, special, teachers, where, program\n",
            "dietitian: more, specialists, graduated, experience, patients, years, but, patient, healthcare, nurse\n",
            "\n",
            "\n"
          ]
        },
        {
          "output_type": "stream",
          "name": "stderr",
          "text": [
            "28026it [01:52, 224.29it/s]"
          ]
        },
        {
          "output_type": "stream",
          "name": "stdout",
          "text": [
            "| epoch   1 | 28000/58601 batches | loss    1.795 \n",
            "women: working, by, book, director, her, which, media, african, academic, early\n",
            "men: ranging, also, homes, within, vcu, justice, providing, been, rush, how\n",
            "nurse: practitioner, graduated, honors, experience, over, years, doctors, affiliated, diverse, specialists\n",
            "doctor: degree, from, earned, college, bachelor, of, completed, member, faculty, school\n",
            "engineer: engineering, postdoctoral, assistant, from, at, earned, computer, phd, degree, focused\n",
            "teacher: students, teaching, education, courses, working, teachers, special, doctorate, undergraduate, where\n",
            "dietitian: more, but, specialists, patients, healthcare, years, graduated, patient, professional, or\n",
            "\n",
            "\n"
          ]
        },
        {
          "output_type": "stream",
          "name": "stderr",
          "text": [
            "28537it [01:54, 229.15it/s]"
          ]
        },
        {
          "output_type": "stream",
          "name": "stdout",
          "text": [
            "| epoch   1 | 28500/58601 batches | loss    1.803 \n",
            "women: working, by, media, african, director, journal, project, book, which, writing\n",
            "men: ranging, for, justice, vcu, homes, within, providing, how, their, media\n",
            "nurse: practitioner, graduated, honors, years, over, doctors, diverse, nursing, experience, hospital\n",
            "doctor: from, degree, college, bachelor, earned, school, member, general, at, faculty\n",
            "engineer: engineering, assistant, postdoctoral, earned, prior, phd, computer, focused, professor, 2001\n",
            "teacher: teaching, students, education, courses, working, teachers, special, undergraduate, doctorate, a\n",
            "dietitian: more, but, specialists, professional, graduated, experience, patients, patient, healthcare, honors\n",
            "\n",
            "\n"
          ]
        },
        {
          "output_type": "stream",
          "name": "stderr",
          "text": [
            "29022it [01:56, 224.48it/s]"
          ]
        },
        {
          "output_type": "stream",
          "name": "stdout",
          "text": [
            "| epoch   1 | 29000/58601 batches | loss    1.791 \n",
            "women: by, which, project, media, african, working, journal, while, writing, book\n",
            "men: ranging, also, for, vcu, homes, justice, rush, media, providing, within\n",
            "nurse: practitioner, graduated, honors, years, nursing, affiliated, doctors, hospital, over, care\n",
            "doctor: from, degree, college, member, earned, school, of, bachelor, general, faculty\n",
            "engineer: engineering, earned, assistant, computer, university, postdoctoral, phd, 2001, professor, focused\n",
            "teacher: students, teaching, education, courses, working, for, special, teachers, undergraduate, year\n",
            "dietitian: more, experience, professional, but, specialists, graduated, patients, healthcare, with, honors\n",
            "\n",
            "\n"
          ]
        },
        {
          "output_type": "stream",
          "name": "stderr",
          "text": [
            "29535it [01:58, 231.95it/s]"
          ]
        },
        {
          "output_type": "stream",
          "name": "stdout",
          "text": [
            "| epoch   1 | 29500/58601 batches | loss    1.788 \n",
            "women: media, project, will, working, african, by, journal, which, while, writing\n",
            "men: ranging, justice, homes, providing, how, vcu, st, within, media, rush\n",
            "nurse: practitioner, graduated, honors, years, doctors, affiliated, hospital, over, specialists, nursing\n",
            "doctor: from, earned, college, degree, bachelor, school, university, a, received, general\n",
            "engineer: engineering, computer, earned, phd, postdoctoral, assistant, focused, prior, technology, 2001\n",
            "teacher: students, teaching, for, courses, working, education, teachers, special, doctorate, learning\n",
            "dietitian: more, professional, but, specialists, experience, graduated, with, families, patients, healthcare\n",
            "\n",
            "\n"
          ]
        },
        {
          "output_type": "stream",
          "name": "stderr",
          "text": [
            "30027it [02:00, 230.57it/s]"
          ]
        },
        {
          "output_type": "stream",
          "name": "stdout",
          "text": [
            "| epoch   1 | 30000/58601 batches | loss    1.786 \n",
            "women: media, project, journal, african, will, working, while, editor, which, international\n",
            "men: ranging, the, justice, homes, providing, how, vcu, media, st, which\n",
            "nurse: practitioner, graduated, honors, doctors, nursing, years, affiliated, hospital, experience, diverse\n",
            "doctor: from, earned, degree, college, school, university, bachelor, of, surgery, general\n",
            "engineer: engineering, computer, earned, prior, postdoctoral, phd, university, assistant, 2001, technology\n",
            "teacher: students, teaching, courses, education, working, special, teachers, a, undergraduate, doctorate\n",
            "dietitian: more, but, specialists, professional, patients, or, experience, families, healthcare, nurse\n",
            "\n",
            "\n"
          ]
        },
        {
          "output_type": "stream",
          "name": "stderr",
          "text": [
            "30520it [02:02, 226.84it/s]"
          ]
        },
        {
          "output_type": "stream",
          "name": "stdout",
          "text": [
            "| epoch   1 | 30500/58601 batches | loss    1.790 \n",
            "women: media, working, the, journal, project, will, while, african, time, by\n",
            "men: ranging, to, justice, homes, within, vcu, of, providing, how, which\n",
            "nurse: practitioner, graduated, honors, nursing, doctors, years, with, hospitals, diverse, affiliated\n",
            "doctor: degree, from, earned, college, university, 2012, bachelor, general, completed, obtained\n",
            "engineer: computer, engineering, earned, postdoctoral, phd, assistant, prior, technology, 2001, 2006\n",
            "teacher: students, teaching, courses, working, education, teachers, special, doctorate, program, year\n",
            "dietitian: more, but, specialists, with, experience, professional, patients, healthcare, graduated, diverse\n",
            "\n",
            "\n"
          ]
        },
        {
          "output_type": "stream",
          "name": "stderr",
          "text": [
            "31029it [02:04, 224.17it/s]"
          ]
        },
        {
          "output_type": "stream",
          "name": "stdout",
          "text": [
            "| epoch   1 | 31000/58601 batches | loss    1.787 \n",
            "women: while, working, media, also, journal, by, african, project, will, history\n",
            "men: ranging, by, for, justice, how, homes, which, vcu, providing, within\n",
            "nurse: practitioner, graduated, honors, years, doctors, nursing, hospitals, affiliated, specialists, hospital\n",
            "doctor: degree, from, earned, university, college, completed, general, dr, bachelor, faculty\n",
            "engineer: engineering, computer, prior, phd, postdoctoral, university, technology, assistant, earned, bs\n",
            "teacher: students, education, teaching, courses, teachers, working, doctorate, taught, special, student\n",
            "dietitian: more, but, specialists, including, patients, experience, professional, honors, healthcare, families\n",
            "\n",
            "\n"
          ]
        },
        {
          "output_type": "stream",
          "name": "stderr",
          "text": [
            "31521it [02:06, 227.41it/s]"
          ]
        },
        {
          "output_type": "stream",
          "name": "stdout",
          "text": [
            "| epoch   1 | 31500/58601 batches | loss    1.780 \n",
            "women: journal, on, media, working, while, book, also, global, african, history\n",
            "men: ranging, justice, how, vcu, providing, homes, which, reach, recently, for\n",
            "nurse: practitioner, graduated, honors, nursing, years, experience, affiliated, hospitals, doctors, diverse\n",
            "doctor: from, earned, degree, general, completed, college, 2012, university, bachelor, science\n",
            "engineer: computer, engineering, phd, assistant, prior, technology, earned, 2001, at, bs\n",
            "teacher: students, teaching, education, courses, teachers, working, special, doctorate, taught, undergraduate\n",
            "dietitian: more, experience, specialists, with, professional, but, patients, diverse, and, honors\n",
            "\n",
            "\n"
          ]
        },
        {
          "output_type": "stream",
          "name": "stderr",
          "text": [
            "32031it [02:08, 225.48it/s]"
          ]
        },
        {
          "output_type": "stream",
          "name": "stdout",
          "text": [
            "| epoch   1 | 32000/58601 batches | loss    1.775 \n",
            "women: journal, the, working, while, which, global, social, media, also, project\n",
            "men: ranging, justice, how, vcu, homes, providing, which, reach, recently, within\n",
            "nurse: practitioner, graduated, honors, affiliated, nursing, doctors, hospitals, experience, specialists, diverse\n",
            "doctor: earned, degree, university, bachelor, from, general, 2012, college, school, completed\n",
            "engineer: computer, engineering, prior, assistant, technology, phd, postdoctoral, 2001, bs, 2006\n",
            "teacher: students, teaching, education, courses, doctorate, working, taught, program, teachers, special\n",
            "dietitian: more, experience, but, specialists, patients, professional, patient, nutrition, family, nurse\n",
            "\n",
            "\n"
          ]
        },
        {
          "output_type": "stream",
          "name": "stderr",
          "text": [
            "32519it [02:10, 221.92it/s]"
          ]
        },
        {
          "output_type": "stream",
          "name": "stdout",
          "text": [
            "| epoch   1 | 32500/58601 batches | loss    1.774 \n",
            "women: while, on, history, journal, working, project, african, global, studies, which\n",
            "men: ranging, justice, which, providing, homes, vcu, reach, within, their, explores\n",
            "nurse: practitioner, graduated, honors, nursing, affiliated, doctors, hospitals, hospital, care, experience\n",
            "doctor: earned, degree, bachelor, general, university, college, texas, completed, obtained, 2012\n",
            "engineer: computer, engineering, prior, phd, technology, focused, assistant, he, postdoctoral, bs\n",
            "teacher: students, teaching, education, courses, taught, program, special, working, doctorate, teachers\n",
            "dietitian: more, but, experience, a, specialists, patients, with, graduated, care, professional\n",
            "\n",
            "\n"
          ]
        },
        {
          "output_type": "stream",
          "name": "stderr",
          "text": [
            "33012it [02:11, 232.59it/s]"
          ]
        },
        {
          "output_type": "stream",
          "name": "stdout",
          "text": [
            "| epoch   1 | 33000/58601 batches | loss    1.778 \n",
            "women: african, project, studies, journal, while, on, media, history, culture, american\n",
            "men: ranging, justice, their, providing, explores, vcu, homes, reach, the, rush\n",
            "nurse: practitioner, graduated, honors, nursing, affiliated, care, doctors, hospitals, over, clinical\n",
            "doctor: earned, degree, bachelor, california, general, received, is, member, texas, obtained\n",
            "engineer: engineering, computer, he, prior, technology, worked, assistant, phd, focused, 2006\n",
            "teacher: students, teaching, courses, education, taught, teachers, special, doctorate, year, program\n",
            "dietitian: more, specialists, patients, but, experience, graduated, honors, care, with, nurse\n",
            "\n",
            "\n"
          ]
        },
        {
          "output_type": "stream",
          "name": "stderr",
          "text": [
            "33517it [02:13, 224.19it/s]"
          ]
        },
        {
          "output_type": "stream",
          "name": "stdout",
          "text": [
            "| epoch   1 | 33500/58601 batches | loss    1.781 \n",
            "women: african, on, journal, during, culture, studies, which, american, about, project\n",
            "men: ranging, justice, which, explores, their, how, recently, reach, providing, vcu\n",
            "nurse: practitioner, graduated, honors, nursing, over, experience, doctors, affiliated, hospitals, clinical\n",
            "doctor: in, earned, bachelor, general, texas, degree, california, college, science, faculty\n",
            "engineer: computer, engineering, prior, postdoctoral, phd, technology, bs, 2006, electrical, assistant\n",
            "teacher: students, education, courses, teaching, year, taught, doctorate, program, special, teachers\n",
            "dietitian: more, with, experience, specialists, patients, family, honors, graduated, nutrition, diverse\n",
            "\n",
            "\n"
          ]
        },
        {
          "output_type": "stream",
          "name": "stderr",
          "text": [
            "34028it [02:15, 228.13it/s]"
          ]
        },
        {
          "output_type": "stream",
          "name": "stdout",
          "text": [
            "| epoch   1 | 34000/58601 batches | loss    1.771 \n",
            "women: about, culture, which, african, history, journal, on, media, project, during\n",
            "men: ranging, justice, their, which, explores, providing, reach, homes, vcu, how\n",
            "nurse: practitioner, graduated, honors, nursing, care, clinical, over, doctors, experience, hospitals\n",
            "doctor: earned, bachelor, university, general, texas, member, degree, california, at, science\n",
            "engineer: computer, engineering, prior, phd, bs, postdoctoral, worked, assistant, professor, focused\n",
            "teacher: students, courses, education, year, taught, program, teaching, doctorate, special, where\n",
            "dietitian: more, patients, specialists, experience, but, with, family, diverse, care, nutrition\n",
            "\n",
            "\n"
          ]
        },
        {
          "output_type": "stream",
          "name": "stderr",
          "text": [
            "34516it [02:17, 226.67it/s]"
          ]
        },
        {
          "output_type": "stream",
          "name": "stdout",
          "text": [
            "| epoch   1 | 34500/58601 batches | loss    1.767 \n",
            "women: about, culture, which, african, global, american, history, project, media, while\n",
            "men: ranging, justice, their, of, explores, providing, reach, how, vcu, which\n",
            "nurse: practitioner, graduated, affiliated, honors, clinical, care, over, doctors, hospitals, nursing\n",
            "doctor: earned, university, bachelor, general, member, association, degree, texas, obtained, college\n",
            "engineer: computer, engineering, prior, bs, postdoctoral, phd, focused, assistant, electrical, 2004\n",
            "teacher: students, education, courses, year, teaching, taught, program, doctorate, as, student\n",
            "dietitian: more, experience, patients, but, specialists, nutrition, nurse, care, family, with\n",
            "\n",
            "\n"
          ]
        },
        {
          "output_type": "stream",
          "name": "stderr",
          "text": [
            "35028it [02:19, 226.39it/s]"
          ]
        },
        {
          "output_type": "stream",
          "name": "stdout",
          "text": [
            "| epoch   1 | 35000/58601 batches | loss    1.772 \n",
            "women: about, african, american, culture, through, on, global, which, studies, two\n",
            "men: ranging, justice, their, explores, vcu, homes, how, providing, reach, rush\n",
            "nurse: practitioner, graduated, over, honors, clinical, experience, nursing, affiliated, diverse, hospitals\n",
            "doctor: earned, degree, general, association, member, bachelor, obtained, in, college, texas\n",
            "engineer: computer, engineering, prior, technology, electrical, assistant, phd, bs, postdoctoral, focused\n",
            "teacher: students, teaching, courses, education, year, taught, doctorate, teachers, program, special\n",
            "dietitian: more, but, patients, experience, specialists, nurse, with, nutrition, diverse, healthcare\n",
            "\n",
            "\n"
          ]
        },
        {
          "output_type": "stream",
          "name": "stderr",
          "text": [
            "35532it [02:21, 223.18it/s]"
          ]
        },
        {
          "output_type": "stream",
          "name": "stdout",
          "text": [
            "| epoch   1 | 35500/58601 batches | loss    1.763 \n",
            "women: about, culture, african, history, global, american, media, will, working, studies\n",
            "men: ranging, to, justice, of, explores, providing, vcu, how, recently, homes\n",
            "nurse: practitioner, graduated, honors, over, nursing, affiliated, experience, specialists, hospitals, doctors\n",
            "doctor: earned, degree, general, bachelor, member, in, association, obtained, texas, university\n",
            "engineer: computer, engineering, prior, assistant, postdoctoral, electrical, bs, technology, systems, phd\n",
            "teacher: students, teaching, education, courses, taught, year, teachers, doctorate, program, special\n",
            "dietitian: more, patients, specialists, but, nutrition, family, honors, with, diverse, nurse\n",
            "\n",
            "\n"
          ]
        },
        {
          "output_type": "stream",
          "name": "stderr",
          "text": [
            "36015it [02:23, 225.59it/s]"
          ]
        },
        {
          "output_type": "stream",
          "name": "stdout",
          "text": [
            "| epoch   1 | 36000/58601 batches | loss    1.766 \n",
            "women: about, culture, history, global, african, american, two, will, which, studies\n",
            "men: ranging, justice, explores, to, joseph, vcu, about, –, homes, how\n",
            "nurse: practitioner, graduated, honors, over, nursing, experience, clinical, affiliated, hospitals, care\n",
            "doctor: earned, general, degree, bachelor, member, from, college, obtained, texas, association\n",
            "engineer: computer, engineering, postdoctoral, prior, electrical, systems, technology, focused, bs, from\n",
            "teacher: students, teaching, education, courses, taught, year, teachers, teaches, doctorate, special\n",
            "dietitian: more, with, patients, specialists, nutrition, but, honors, diverse, practitioner, family\n",
            "\n",
            "\n"
          ]
        },
        {
          "output_type": "stream",
          "name": "stderr",
          "text": [
            "36525it [02:25, 218.04it/s]"
          ]
        },
        {
          "output_type": "stream",
          "name": "stdout",
          "text": [
            "| epoch   1 | 36500/58601 batches | loss    1.766 \n",
            "women: about, culture, african, global, which, history, will, american, through, explores\n",
            "men: ranging, justice, explores, recently, joseph, –, vcu, which, rush, about\n",
            "nurse: practitioner, graduated, experience, honors, over, nursing, care, clinical, years, affiliated\n",
            "doctor: general, earned, degree, bachelor, member, university, school, of, texas, association\n",
            "engineer: computer, engineering, prior, postdoctoral, electrical, systems, focused, bs, from, technology\n",
            "teacher: students, teaching, education, courses, taught, year, teachers, teaches, special, study\n",
            "dietitian: with, patients, more, nutrition, specialists, but, practitioner, honors, family, graduated\n",
            "\n",
            "\n"
          ]
        },
        {
          "output_type": "stream",
          "name": "stderr",
          "text": [
            "37019it [02:27, 225.85it/s]"
          ]
        },
        {
          "output_type": "stream",
          "name": "stdout",
          "text": [
            "| epoch   1 | 37000/58601 batches | loss    1.761 \n",
            "women: culture, the, american, african, about, history, two, middle, journal, global\n",
            "men: ranging, justice, explores, joseph, recently, vcu, –, homes, of, patients\n",
            "nurse: practitioner, graduated, honors, nursing, experience, clinical, care, over, years, diverse\n",
            "doctor: from, general, earned, bachelor, degree, school, at, association, member, university\n",
            "engineer: computer, engineering, prior, postdoctoral, systems, electrical, bs, focused, technology, 2006\n",
            "teacher: students, education, teaching, taught, courses, teachers, teaches, master, doctorate, year\n",
            "dietitian: patients, with, more, nutrition, specialists, honors, practitioner, but, graduated, family\n",
            "\n",
            "\n"
          ]
        },
        {
          "output_type": "stream",
          "name": "stderr",
          "text": [
            "37526it [02:29, 226.73it/s]"
          ]
        },
        {
          "output_type": "stream",
          "name": "stdout",
          "text": [
            "| epoch   1 | 37500/58601 batches | loss    1.758 \n",
            "women: culture, about, african, which, middle, global, american, book, working, history\n",
            "men: ranging, justice, explores, –, vcu, joseph, homes, recently, which, providing\n",
            "nurse: practitioner, graduated, honors, care, nursing, experience, clinical, over, years, diverse\n",
            "doctor: earned, general, bachelor, degree, member, college, of, association, from, obtained\n",
            "engineer: computer, engineering, prior, electrical, postdoctoral, bs, technology, systems, worked, focused\n",
            "teacher: students, teaching, education, taught, courses, teachers, teaches, doctorate, master, working\n",
            "dietitian: patients, nutrition, honors, but, more, care, specialists, practitioner, family, graduated\n",
            "\n",
            "\n"
          ]
        },
        {
          "output_type": "stream",
          "name": "stderr",
          "text": [
            "38014it [02:31, 219.10it/s]"
          ]
        },
        {
          "output_type": "stream",
          "name": "stdout",
          "text": [
            "| epoch   1 | 38000/58601 batches | loss    1.759 \n",
            "women: culture, about, work, while, global, which, american, working, african, middle\n",
            "men: ranging, justice, explores, which, joseph, vcu, –, people, homes, their\n",
            "nurse: practitioner, graduated, experience, honors, affiliated, care, nursing, diverse, over, years\n",
            "doctor: earned, general, college, bachelor, degree, from, association, university, member, obtained\n",
            "engineer: computer, engineering, prior, systems, electrical, technology, bs, postdoctoral, phd, focused\n",
            "teacher: students, education, teaching, courses, taught, teachers, teaches, master, doctorate, special\n",
            "dietitian: patients, honors, nutrition, specialists, but, graduated, more, care, diverse, family\n",
            "\n",
            "\n"
          ]
        },
        {
          "output_type": "stream",
          "name": "stderr",
          "text": [
            "38522it [02:33, 219.91it/s]"
          ]
        },
        {
          "output_type": "stream",
          "name": "stdout",
          "text": [
            "| epoch   1 | 38500/58601 batches | loss    1.760 \n",
            "women: about, culture, american, work, working, education, global, during, african, relationship\n",
            "men: ranging, justice, their, explores, providing, people, vcu, –, homes, joseph\n",
            "nurse: practitioner, graduated, affiliated, honors, care, years, experience, nursing, over, hospitals\n",
            "doctor: university, degree, bachelor, college, from, general, earned, association, member, obtained\n",
            "engineer: computer, engineering, prior, systems, electrical, postdoctoral, bs, technology, focused, 2001\n",
            "teacher: students, teaching, education, courses, teachers, taught, teaches, master, writing, doctorate\n",
            "dietitian: patients, nutrition, honors, specialists, more, practitioner, care, graduated, over, professional\n",
            "\n",
            "\n"
          ]
        },
        {
          "output_type": "stream",
          "name": "stderr",
          "text": [
            "39030it [02:35, 228.28it/s]"
          ]
        },
        {
          "output_type": "stream",
          "name": "stdout",
          "text": [
            "| epoch   1 | 39000/58601 batches | loss    1.762 \n",
            "women: culture, american, about, working, education, african, during, relationship, history, social\n",
            "men: ranging, justice, explores, providing, people, homes, their, vcu, recently, joseph\n",
            "nurse: practitioner, graduated, affiliated, care, honors, nursing, over, specialists, hospital, hospitals\n",
            "doctor: bachelor, college, association, degree, general, member, earned, obtained, from, 2012\n",
            "engineer: computer, engineering, prior, systems, bs, electrical, postdoctoral, worked, department, technology\n",
            "teacher: students, teaching, education, courses, teachers, taught, teaches, master, working, special\n",
            "dietitian: patients, more, nutrition, honors, specialists, care, practitioner, graduated, nurse, but\n",
            "\n",
            "\n"
          ]
        },
        {
          "output_type": "stream",
          "name": "stderr",
          "text": [
            "39534it [02:37, 229.28it/s]"
          ]
        },
        {
          "output_type": "stream",
          "name": "stdout",
          "text": [
            "| epoch   1 | 39500/58601 batches | loss    1.758 \n",
            "women: american, about, culture, education, their, african, studies, middle, social, during\n",
            "men: ranging, justice, explores, people, recently, homes, joseph, providing, vcu, rush\n",
            "nurse: practitioner, graduated, honors, affiliated, care, nursing, over, specialists, hospital, hospitals\n",
            "doctor: degree, from, member, bachelor, association, college, earned, 2012, obtained, general\n",
            "engineer: engineering, computer, prior, systems, bs, technology, electrical, 2006, department, postdoctoral\n",
            "teacher: teaching, students, education, courses, taught, teachers, master, writing, teaches, special\n",
            "dietitian: patients, nutrition, honors, specialists, more, practitioner, nurse, but, care, family\n",
            "\n",
            "\n"
          ]
        },
        {
          "output_type": "stream",
          "name": "stderr",
          "text": [
            "40018it [02:39, 223.50it/s]"
          ]
        },
        {
          "output_type": "stream",
          "name": "stdout",
          "text": [
            "| epoch   1 | 40000/58601 batches | loss    1.753 \n",
            "women: culture, american, about, education, studies, social, middle, relationship, project, working\n",
            "men: ranging, justice, explores, people, homes, joseph, vcu, recently, rush, reach\n",
            "nurse: practitioner, graduated, honors, nursing, affiliated, hospital, care, specialists, hospitals, medical\n",
            "doctor: member, degree, bachelor, 2012, college, association, obtained, earned, from, masters\n",
            "engineer: computer, engineering, systems, prior, bs, electrical, software, 2006, department, technology\n",
            "teacher: education, students, teaching, courses, taught, teachers, working, master, leadership, special\n",
            "dietitian: nutrition, with, patients, specialists, honors, practitioner, graduated, nurse, more, hospitals\n",
            "\n",
            "\n"
          ]
        },
        {
          "output_type": "stream",
          "name": "stderr",
          "text": [
            "40527it [02:41, 221.46it/s]"
          ]
        },
        {
          "output_type": "stream",
          "name": "stdout",
          "text": [
            "| epoch   1 | 40500/58601 batches | loss    1.756 \n",
            "women: culture, about, american, relationship, studies, education, african, working, social, project\n",
            "men: ranging, justice, explores, people, homes, vcu, joseph, recently, reach, youth\n",
            "nurse: practitioner, honors, nursing, graduated, affiliated, care, specialists, hospital, hospitals, diverse\n",
            "doctor: degree, member, bachelor, association, obtained, earned, 2012, masters, college, from\n",
            "engineer: computer, engineering, systems, prior, electrical, bs, 2006, software, technical, focused\n",
            "teacher: education, students, teaching, courses, taught, teachers, special, leadership, writing, teaches\n",
            "dietitian: nutrition, patients, specialists, with, honors, practitioner, graduated, hospitals, more, but\n",
            "\n",
            "\n"
          ]
        },
        {
          "output_type": "stream",
          "name": "stderr",
          "text": [
            "41012it [02:43, 229.34it/s]"
          ]
        },
        {
          "output_type": "stream",
          "name": "stdout",
          "text": [
            "| epoch   1 | 41000/58601 batches | loss    1.746 \n",
            "women: culture, relationship, about, american, african, education, will, project, working, journal\n",
            "men: ranging, justice, explores, will, people, vcu, homes, joseph, reach, youth\n",
            "nurse: practitioner, nursing, graduated, honors, care, affiliated, hospital, specialists, experience, over\n",
            "doctor: member, association, degree, bachelor, 2012, obtained, from, college, earned, masters\n",
            "engineer: engineering, computer, prior, systems, electrical, software, technology, bs, technical, 2006\n",
            "teacher: education, teaching, students, courses, taught, teachers, special, leadership, teaches, master\n",
            "dietitian: nutrition, patients, specialists, honors, but, practitioner, graduated, family, over, nurse\n",
            "\n",
            "\n"
          ]
        },
        {
          "output_type": "stream",
          "name": "stderr",
          "text": [
            "41523it [02:45, 222.56it/s]"
          ]
        },
        {
          "output_type": "stream",
          "name": "stdout",
          "text": [
            "| epoch   1 | 41500/58601 batches | loss    1.753 \n",
            "women: culture, american, relationship, about, african, studies, will, her, project, on\n",
            "men: ranging, justice, explores, will, people, vcu, women, recently, homes, reach\n",
            "nurse: practitioner, graduated, honors, nursing, affiliated, experience, care, doctors, specialists, hospital\n",
            "doctor: member, college, bachelor, association, degree, obtained, earned, 2012, received, general\n",
            "engineer: engineering, computer, prior, systems, electrical, phd, software, bs, technology, 2006\n",
            "teacher: education, teaching, students, courses, taught, special, teachers, master, teaches, leadership\n",
            "dietitian: nutrition, patients, specialists, graduated, with, but, honors, practitioner, family, nurse\n",
            "\n",
            "\n"
          ]
        },
        {
          "output_type": "stream",
          "name": "stderr",
          "text": [
            "42032it [02:47, 226.58it/s]"
          ]
        },
        {
          "output_type": "stream",
          "name": "stdout",
          "text": [
            "| epoch   1 | 42000/58601 batches | loss    1.751 \n",
            "women: the, culture, about, american, social, studies, relationship, african, on, middle\n",
            "men: ranging, justice, explores, women, vcu, people, social, reach, homes, neighborhood\n",
            "nurse: practitioner, graduated, nursing, honors, affiliated, experience, hospital, doctors, specialists, medical\n",
            "doctor: member, degree, bachelor, from, association, college, obtained, received, earned, texas\n",
            "engineer: engineering, prior, systems, computer, electrical, phd, bs, software, technology, technical\n",
            "teacher: education, students, teaching, courses, teachers, special, taught, teaches, master, writing\n",
            "dietitian: nutrition, specialists, graduated, patients, but, honors, with, practitioner, years, nurse\n",
            "\n",
            "\n"
          ]
        },
        {
          "output_type": "stream",
          "name": "stderr",
          "text": [
            "42515it [02:49, 228.72it/s]"
          ]
        },
        {
          "output_type": "stream",
          "name": "stdout",
          "text": [
            "| epoch   1 | 42500/58601 batches | loss    1.751 \n",
            "women: about, culture, studies, relationship, education, on, african, working, american, the\n",
            "men: ranging, justice, explores, vcu, women, people, neighborhood, their, youth, homes\n",
            "nurse: practitioner, graduated, nursing, honors, affiliated, doctors, hospital, specialists, medical, hospitals\n",
            "doctor: association, member, bachelor, degree, college, from, obtained, received, 2012, general\n",
            "engineer: engineering, prior, computer, systems, phd, electrical, software, bs, technical, technology\n",
            "teacher: education, students, teaching, courses, teachers, taught, special, master, teaches, year\n",
            "dietitian: nutrition, with, specialists, graduated, practitioner, honors, patients, but, over, nurse\n",
            "\n",
            "\n"
          ]
        },
        {
          "output_type": "stream",
          "name": "stderr",
          "text": [
            "43024it [02:51, 220.31it/s]"
          ]
        },
        {
          "output_type": "stream",
          "name": "stdout",
          "text": [
            "| epoch   1 | 43000/58601 batches | loss    1.743 \n",
            "women: about, culture, education, relationship, studies, youth, african, american, explores, working\n",
            "men: ranging, justice, women, explores, about, vcu, neighborhood, people, social, homes\n",
            "nurse: practitioner, graduated, nursing, honors, affiliated, doctors, hospital, specialists, medical, experience\n",
            "doctor: member, bachelor, college, association, degree, obtained, earned, general, completed, from\n",
            "engineer: engineering, prior, computer, phd, systems, electrical, software, bs, science, technology\n",
            "teacher: education, teaching, students, teachers, courses, taught, special, master, year, teaches\n",
            "dietitian: with, nutrition, specialists, graduated, but, practitioner, honors, patients, over, experience\n",
            "\n",
            "\n"
          ]
        },
        {
          "output_type": "stream",
          "name": "stderr",
          "text": [
            "43532it [02:53, 220.33it/s]"
          ]
        },
        {
          "output_type": "stream",
          "name": "stdout",
          "text": [
            "| epoch   1 | 43500/58601 batches | loss    1.747 \n",
            "women: about, education, culture, working, studies, youth, on, relationship, her, middle\n",
            "men: ranging, justice, women, which, vcu, neighborhood, explores, about, youth, homes\n",
            "nurse: practitioner, graduated, nursing, honors, affiliated, doctors, hospital, hospitals, specialists, medical\n",
            "doctor: member, association, college, bachelor, obtained, degree, earned, received, denture, completed\n",
            "engineer: engineering, prior, computer, systems, phd, electrical, software, bs, technology, science\n",
            "teacher: education, teaching, students, teachers, courses, taught, teaches, master, leadership, special\n",
            "dietitian: but, specialists, nutrition, graduated, with, practitioner, patients, experience, honors, hospitals\n",
            "\n",
            "\n"
          ]
        },
        {
          "output_type": "stream",
          "name": "stderr",
          "text": [
            "44018it [02:55, 224.26it/s]"
          ]
        },
        {
          "output_type": "stream",
          "name": "stdout",
          "text": [
            "| epoch   1 | 44000/58601 batches | loss    1.745 \n",
            "women: about, studies, education, culture, the, working, youth, relationship, history, while\n",
            "men: ranging, justice, which, women, vcu, people, explores, youth, neighborhood, homes\n",
            "nurse: practitioner, graduated, nursing, honors, affiliated, doctors, hospital, medical, specialists, years\n",
            "doctor: association, college, member, bachelor, earned, obtained, degree, completed, denture, university\n",
            "engineer: engineering, systems, computer, prior, electrical, software, bs, phd, technical, science\n",
            "teacher: education, teaching, students, teachers, courses, taught, teaches, leadership, master, year\n",
            "dietitian: nutrition, specialists, with, graduated, practitioner, but, patients, honors, experience, hospitals\n",
            "\n",
            "\n"
          ]
        },
        {
          "output_type": "stream",
          "name": "stderr",
          "text": [
            "44525it [02:57, 220.03it/s]"
          ]
        },
        {
          "output_type": "stream",
          "name": "stdout",
          "text": [
            "| epoch   1 | 44500/58601 batches | loss    1.741 \n",
            "women: about, studies, culture, middle, youth, the, education, african, working, explores\n",
            "men: ranging, justice, which, women, explores, vcu, youth, homes, local, people\n",
            "nurse: practitioner, graduated, honors, nursing, affiliated, doctors, specialists, hospital, m, medical\n",
            "doctor: college, bachelor, association, earned, obtained, member, degree, from, denture, completed\n",
            "engineer: engineering, computer, prior, systems, software, phd, electrical, bs, technical, technology\n",
            "teacher: education, teaching, students, teachers, courses, taught, leadership, year, teaches, master\n",
            "dietitian: nutrition, specialists, with, honors, but, experience, graduated, practitioner, patients, hospitals\n",
            "\n",
            "\n"
          ]
        },
        {
          "output_type": "stream",
          "name": "stderr",
          "text": [
            "45036it [02:59, 232.23it/s]"
          ]
        },
        {
          "output_type": "stream",
          "name": "stdout",
          "text": [
            "| epoch   1 | 45000/58601 batches | loss    1.741 \n",
            "women: about, culture, studies, middle, during, working, youth, history, explores, education\n",
            "men: ranging, which, justice, women, explores, vcu, homes, youth, local, reach\n",
            "nurse: practitioner, graduated, honors, nursing, affiliated, doctors, experience, specialists, hospitals, inc\n",
            "doctor: from, college, association, obtained, earned, bachelor, completed, degree, member, denture\n",
            "engineer: engineering, computer, prior, systems, phd, software, electrical, bs, technical, focused\n",
            "teacher: education, teaching, students, teachers, courses, taught, leadership, master, year, teaches\n",
            "dietitian: nutrition, specialists, honors, but, practitioner, experience, hospitals, patients, graduated, with\n",
            "\n",
            "\n"
          ]
        },
        {
          "output_type": "stream",
          "name": "stderr",
          "text": [
            "45526it [03:01, 222.15it/s]"
          ]
        },
        {
          "output_type": "stream",
          "name": "stdout",
          "text": [
            "| epoch   1 | 45500/58601 batches | loss    1.739 \n",
            "women: studies, culture, about, middle, education, during, explores, youth, history, working\n",
            "men: ranging, justice, which, women, explores, homes, their, vcu, local, recently\n",
            "nurse: practitioner, honors, nursing, graduated, affiliated, doctors, experience, m, specialists, hospitals\n",
            "doctor: from, obtained, college, bachelor, earned, association, degree, member, completed, denture\n",
            "engineer: engineering, computer, prior, phd, software, bs, electrical, systems, technical, technology\n",
            "teacher: education, teaching, students, courses, teachers, taught, master, leadership, year, teaches\n",
            "dietitian: nutrition, specialists, but, honors, experience, practitioner, with, graduated, hospitals, health\n",
            "\n",
            "\n"
          ]
        },
        {
          "output_type": "stream",
          "name": "stderr",
          "text": [
            "46033it [03:03, 224.93it/s]"
          ]
        },
        {
          "output_type": "stream",
          "name": "stdout",
          "text": [
            "| epoch   1 | 46000/58601 batches | loss    1.741 \n",
            "women: culture, studies, about, middle, youth, working, history, justice, children, explores\n",
            "men: ranging, justice, which, women, their, explores, local, homes, vcu, recently\n",
            "nurse: practitioner, graduated, honors, nursing, doctors, affiliated, care, experience, m, specialists\n",
            "doctor: from, college, obtained, association, bachelor, member, earned, degree, denture, completed\n",
            "engineer: engineering, computer, prior, phd, systems, electrical, software, bs, technical, technology\n",
            "teacher: education, students, teaching, teachers, taught, courses, leadership, master, coordinator, year\n",
            "dietitian: honors, specialists, but, nutrition, practitioner, graduated, experience, hospitals, more, diverse\n",
            "\n",
            "\n"
          ]
        },
        {
          "output_type": "stream",
          "name": "stderr",
          "text": [
            "46523it [03:05, 217.90it/s]"
          ]
        },
        {
          "output_type": "stream",
          "name": "stdout",
          "text": [
            "| epoch   1 | 46500/58601 batches | loss    1.736 \n",
            "women: about, culture, middle, studies, youth, during, people, explores, education, justice\n",
            "men: ranging, justice, women, their, people, explores, vcu, homes, neighborhood, past\n",
            "nurse: practitioner, graduated, honors, nursing, affiliated, experience, doctors, care, m, specialists\n",
            "doctor: from, association, obtained, college, earned, degree, bachelor, member, completed, university\n",
            "engineer: computer, engineering, prior, phd, systems, electrical, software, technology, bs, degree\n",
            "teacher: education, students, teaching, teachers, courses, taught, leadership, coordinator, year, programs\n",
            "dietitian: nutrition, specialists, honors, experience, practitioner, diverse, but, graduated, hospitals, nurse\n",
            "\n",
            "\n"
          ]
        },
        {
          "output_type": "stream",
          "name": "stderr",
          "text": [
            "47036it [03:07, 233.13it/s]"
          ]
        },
        {
          "output_type": "stream",
          "name": "stdout",
          "text": [
            "| epoch   1 | 47000/58601 batches | loss    1.740 \n",
            "women: culture, about, studies, middle, education, youth, working, justice, african, during\n",
            "men: ranging, justice, women, explores, which, neighborhood, vcu, recently, people, their\n",
            "nurse: practitioner, graduated, honors, nursing, affiliated, experience, doctors, specialists, m, hospitals\n",
            "doctor: college, from, association, bachelor, obtained, earned, degree, received, member, implant\n",
            "engineer: engineering, systems, computer, prior, software, electrical, phd, technology, technical, bs\n",
            "teacher: education, teaching, students, teachers, courses, taught, leadership, coordinator, year, master\n",
            "dietitian: honors, nutrition, specialists, experience, but, practitioner, graduated, nurse, or, hospitals\n",
            "\n",
            "\n"
          ]
        },
        {
          "output_type": "stream",
          "name": "stderr",
          "text": [
            "47522it [03:08, 226.17it/s]"
          ]
        },
        {
          "output_type": "stream",
          "name": "stdout",
          "text": [
            "| epoch   1 | 47500/58601 batches | loss    1.737 \n",
            "women: culture, about, studies, middle, youth, children, african, working, education, relationship\n",
            "men: ranging, justice, women, recently, which, explores, local, their, vcu, neighborhood\n",
            "nurse: practitioner, graduated, honors, nursing, experience, affiliated, diverse, doctors, m, specialists\n",
            "doctor: college, association, from, bachelor, obtained, degree, earned, member, denture, implant\n",
            "engineer: engineering, computer, prior, software, systems, electrical, technology, technical, bs, postdoctoral\n",
            "teacher: education, teaching, students, teachers, courses, taught, year, teaches, leadership, coordinator\n",
            "dietitian: nutrition, honors, specialists, experience, but, practitioner, nurse, more, diverse, hospitals\n",
            "\n",
            "\n"
          ]
        },
        {
          "output_type": "stream",
          "name": "stderr",
          "text": [
            "48016it [03:10, 226.47it/s]"
          ]
        },
        {
          "output_type": "stream",
          "name": "stdout",
          "text": [
            "| epoch   1 | 48000/58601 batches | loss    1.737 \n",
            "women: about, culture, studies, youth, african, education, middle, children, relationship, black\n",
            "men: ranging, justice, women, which, recently, explores, people, vcu, neighborhood, youth\n",
            "nurse: practitioner, graduated, honors, nursing, affiliated, experience, diverse, specialists, hospitals, doctors\n",
            "doctor: college, bachelor, association, degree, obtained, earned, from, denture, of, implant\n",
            "engineer: engineering, computer, prior, software, systems, electrical, technology, phd, technical, bs\n",
            "teacher: education, students, teachers, teaching, courses, taught, coordinator, teaches, leadership, year\n",
            "dietitian: nutrition, specialists, honors, experience, but, practitioner, nurse, hospitals, more, diverse\n",
            "\n",
            "\n"
          ]
        },
        {
          "output_type": "stream",
          "name": "stderr",
          "text": [
            "48531it [03:12, 227.66it/s]"
          ]
        },
        {
          "output_type": "stream",
          "name": "stdout",
          "text": [
            "| epoch   1 | 48500/58601 batches | loss    1.736 \n",
            "women: about, culture, studies, children, youth, relationship, middle, people, african, justice\n",
            "men: ranging, justice, women, recently, people, explores, vcu, which, –, neighborhood\n",
            "nurse: practitioner, graduated, honors, nursing, affiliated, hospitals, specialists, diverse, collaborates, doctors\n",
            "doctor: college, bachelor, degree, earned, association, obtained, texas, from, graduated, medicine\n",
            "engineer: computer, engineering, prior, software, systems, electrical, phd, bs, technology, technical\n",
            "teacher: teaching, education, students, teachers, taught, courses, coordinator, teaches, year, development\n",
            "dietitian: nutrition, experience, specialists, but, honors, practitioner, with, hospitals, nurse, more\n",
            "\n",
            "\n"
          ]
        },
        {
          "output_type": "stream",
          "name": "stderr",
          "text": [
            "49021it [03:14, 224.65it/s]"
          ]
        },
        {
          "output_type": "stream",
          "name": "stdout",
          "text": [
            "| epoch   1 | 49000/58601 batches | loss    1.735 \n",
            "women: about, culture, studies, youth, middle, children, relationship, her, african, justice\n",
            "men: ranging, justice, women, which, recently, vcu, people, local, past, their\n",
            "nurse: practitioner, graduated, honors, nursing, affiliated, hospitals, diverse, specialists, medical, doctors\n",
            "doctor: college, bachelor, degree, from, earned, obtained, texas, association, member, of\n",
            "engineer: computer, engineering, prior, software, systems, electrical, bs, phd, technology, postdoctoral\n",
            "teacher: teaching, education, students, teachers, courses, taught, coordinator, development, year, teaches\n",
            "dietitian: nutrition, specialists, but, experience, honors, practitioner, more, hospitals, nurse, with\n",
            "\n",
            "\n"
          ]
        },
        {
          "output_type": "stream",
          "name": "stderr",
          "text": [
            "49536it [03:16, 230.89it/s]"
          ]
        },
        {
          "output_type": "stream",
          "name": "stdout",
          "text": [
            "| epoch   1 | 49500/58601 batches | loss    1.730 \n",
            "women: about, culture, african, studies, justice, stories, youth, middle, people, author\n",
            "men: ranging, justice, people, women, recently, past, music, vcu, which, youth\n",
            "nurse: practitioner, graduated, honors, nursing, affiliated, hospitals, diverse, specialists, doctors, m\n",
            "doctor: college, degree, earned, obtained, bachelor, association, from, graduated, implant, texas\n",
            "engineer: engineering, computer, prior, software, electrical, systems, bs, phd, technical, postdoctoral\n",
            "teacher: education, teaching, students, teachers, taught, development, courses, coordinator, teaches, student\n",
            "dietitian: nutrition, specialists, experience, honors, practitioner, nurse, but, hospitals, diverse, or\n",
            "\n",
            "\n"
          ]
        },
        {
          "output_type": "stream",
          "name": "stderr",
          "text": [
            "50021it [03:18, 223.22it/s]"
          ]
        },
        {
          "output_type": "stream",
          "name": "stdout",
          "text": [
            "| epoch   1 | 50000/58601 batches | loss    1.734 \n",
            "women: about, stories, people, culture, youth, african, middle, children, studies, author\n",
            "men: ranging, justice, which, people, their, youth, recently, women, vcu, music\n",
            "nurse: practitioner, honors, nursing, graduated, affiliated, hospitals, diverse, medical, experience, doctors\n",
            "doctor: college, degree, obtained, bachelor, earned, graduated, member, association, university, state\n",
            "engineer: computer, engineering, software, prior, electrical, systems, bs, technical, phd, degree\n",
            "teacher: education, teachers, students, teaching, taught, coordinator, courses, development, teaches, student\n",
            "dietitian: nutrition, experience, honors, specialists, but, practitioner, nurse, hospitals, with, more\n",
            "\n",
            "\n"
          ]
        },
        {
          "output_type": "stream",
          "name": "stderr",
          "text": [
            "50533it [03:20, 231.43it/s]"
          ]
        },
        {
          "output_type": "stream",
          "name": "stdout",
          "text": [
            "| epoch   1 | 50500/58601 batches | loss    1.730 \n",
            "women: about, studies, stories, education, she, african, black, culture, youth, children\n",
            "men: ranging, which, justice, people, women, recently, local, youth, explores, neighborhood\n",
            "nurse: practitioner, nursing, graduated, honors, affiliated, hospitals, diverse, medical, hospital, m\n",
            "doctor: college, earned, obtained, bachelor, degree, from, graduated, association, completed, university\n",
            "engineer: computer, engineering, prior, software, electrical, systems, bs, technology, degree, phd\n",
            "teacher: education, students, teachers, teaching, taught, coordinator, courses, development, student, teaches\n",
            "dietitian: nutrition, experience, honors, specialists, practitioner, but, nurse, hospitals, with, not\n",
            "\n",
            "\n"
          ]
        },
        {
          "output_type": "stream",
          "name": "stderr",
          "text": [
            "51022it [03:22, 233.06it/s]"
          ]
        },
        {
          "output_type": "stream",
          "name": "stdout",
          "text": [
            "| epoch   1 | 51000/58601 batches | loss    1.725 \n",
            "women: about, stories, studies, youth, african, people, project, middle, black, justice\n",
            "men: ranging, justice, which, people, local, recent, women, youth, neighborhood, vcu\n",
            "nurse: practitioner, graduated, honors, nursing, experience, affiliated, hospitals, diverse, m, specialists\n",
            "doctor: earned, bachelor, college, degree, from, obtained, completed, medicine, graduated, school\n",
            "engineer: computer, engineering, software, prior, systems, electrical, technology, bs, degree, postdoctoral\n",
            "teacher: education, teachers, students, teaching, taught, courses, coordinator, development, program, schools\n",
            "dietitian: nutrition, experience, honors, specialists, practitioner, but, nurse, hospitals, collaborates, registered\n",
            "\n",
            "\n"
          ]
        },
        {
          "output_type": "stream",
          "name": "stderr",
          "text": [
            "51518it [03:24, 228.73it/s]"
          ]
        },
        {
          "output_type": "stream",
          "name": "stdout",
          "text": [
            "| epoch   1 | 51500/58601 batches | loss    1.725 \n",
            "women: about, studies, stories, youth, african, middle, author, working, education, project\n",
            "men: ranging, justice, local, youth, recent, people, which, into, will, past\n",
            "nurse: practitioner, honors, nursing, graduated, affiliated, hospitals, experience, diverse, specialists, m\n",
            "doctor: college, earned, obtained, degree, bachelor, from, completed, graduated, general, school\n",
            "engineer: computer, engineering, software, prior, systems, electrical, phd, technology, bs, technical\n",
            "teacher: education, teachers, students, teaching, courses, program, coordinator, development, taught, teaches\n",
            "dietitian: nutrition, experience, honors, specialists, practitioner, nurse, but, hospitals, or, registered\n",
            "\n",
            "\n"
          ]
        },
        {
          "output_type": "stream",
          "name": "stderr",
          "text": [
            "52026it [03:26, 225.70it/s]"
          ]
        },
        {
          "output_type": "stream",
          "name": "stdout",
          "text": [
            "| epoch   1 | 52000/58601 batches | loss    1.727 \n",
            "women: about, studies, stories, african, youth, politics, black, middle, study, author\n",
            "men: ranging, justice, people, which, local, youth, music, recent, neighborhood, vcu\n",
            "nurse: practitioner, honors, nursing, graduated, affiliated, experience, hospitals, specialists, m, diverse\n",
            "doctor: college, earned, obtained, bachelor, degree, surgery, general, from, completed, received\n",
            "engineer: computer, engineering, software, systems, prior, electrical, phd, degree, bs, worked\n",
            "teacher: education, teachers, teaching, students, courses, teaches, taught, program, coordinator, schools\n",
            "dietitian: nutrition, honors, experience, specialists, practitioner, but, nurse, hospitals, with, or\n",
            "\n",
            "\n"
          ]
        },
        {
          "output_type": "stream",
          "name": "stderr",
          "text": [
            "52532it [03:28, 228.65it/s]"
          ]
        },
        {
          "output_type": "stream",
          "name": "stdout",
          "text": [
            "| epoch   1 | 52500/58601 batches | loss    1.726 \n",
            "women: about, stories, her, author, working, studies, study, project, black, african\n",
            "men: ranging, justice, which, people, local, the, also, past, neighborhood, youth\n",
            "nurse: practitioner, nursing, honors, graduated, experience, affiliated, hospitals, m, specialists, medical\n",
            "doctor: college, obtained, bachelor, degree, earned, from, general, completed, surgery, school\n",
            "engineer: computer, engineering, software, prior, systems, electrical, phd, bs, technical, technology\n",
            "teacher: teachers, teaching, education, students, courses, taught, schools, program, coordinator, teaches\n",
            "dietitian: nutrition, experience, honors, specialists, practitioner, nurse, hospitals, collaborates, but, any\n",
            "\n",
            "\n"
          ]
        },
        {
          "output_type": "stream",
          "name": "stderr",
          "text": [
            "53024it [03:30, 223.85it/s]"
          ]
        },
        {
          "output_type": "stream",
          "name": "stdout",
          "text": [
            "| epoch   1 | 53000/58601 batches | loss    1.725 \n",
            "women: about, stories, working, author, studies, black, culture, project, study, african\n",
            "men: ranging, justice, which, of, music, people, local, recently, neighborhood, past\n",
            "nurse: practitioner, nursing, honors, graduated, affiliated, hospitals, m, diverse, affiliates, specialists\n",
            "doctor: college, earned, obtained, general, bachelor, degree, school, member, oral, association\n",
            "engineer: computer, engineering, systems, software, prior, electrical, bs, phd, technology, technical\n",
            "teacher: teachers, teaching, students, education, taught, program, teaches, courses, coordinator, schools\n",
            "dietitian: nutrition, honors, specialists, practitioner, nurse, but, collaborates, experience, any, experiences\n",
            "\n",
            "\n"
          ]
        },
        {
          "output_type": "stream",
          "name": "stderr",
          "text": [
            "53515it [03:32, 233.46it/s]"
          ]
        },
        {
          "output_type": "stream",
          "name": "stdout",
          "text": [
            "| epoch   1 | 53500/58601 batches | loss    1.726 \n",
            "women: about, working, stories, author, youth, african, culture, studies, black, on\n",
            "men: ranging, justice, which, also, people, local, past, neighborhood, recently, first\n",
            "nurse: practitioner, nursing, honors, graduated, affiliated, specialists, affiliates, hospitals, hospital, m\n",
            "doctor: college, earned, obtained, degree, general, bachelor, member, oral, of, association\n",
            "engineer: computer, engineering, systems, prior, software, electrical, technical, technology, phd, degree\n",
            "teacher: teachers, students, education, teaching, coordinator, teaches, program, schools, courses, writing\n",
            "dietitian: nutrition, honors, specialists, practitioner, nurse, but, collaborates, experience, experiences, hospitals\n",
            "\n",
            "\n"
          ]
        },
        {
          "output_type": "stream",
          "name": "stderr",
          "text": [
            "54027it [03:34, 223.34it/s]"
          ]
        },
        {
          "output_type": "stream",
          "name": "stdout",
          "text": [
            "| epoch   1 | 54000/58601 batches | loss    1.720 \n",
            "women: about, stories, people, african, author, studies, relationship, working, black, series\n",
            "men: ranging, people, justice, which, recently, past, also, neighborhood, local, first\n",
            "nurse: practitioner, honors, nursing, graduated, affiliated, hospitals, affiliates, specialists, doctors, hospital\n",
            "doctor: college, earned, degree, bachelor, obtained, member, general, oral, association, university\n",
            "engineer: computer, engineering, software, prior, systems, electrical, technical, phd, degree, bs\n",
            "teacher: teachers, students, teaching, education, courses, coordinator, teaches, taught, program, writing\n",
            "dietitian: nutrition, honors, specialists, practitioner, but, experience, hospitals, registered, nurse, collaborates\n",
            "\n",
            "\n"
          ]
        },
        {
          "output_type": "stream",
          "name": "stderr",
          "text": [
            "54521it [03:36, 220.03it/s]"
          ]
        },
        {
          "output_type": "stream",
          "name": "stdout",
          "text": [
            "| epoch   1 | 54500/58601 batches | loss    1.720 \n",
            "women: about, stories, african, author, people, studies, relationship, youth, identity, working\n",
            "men: ranging, people, justice, past, which, recently, also, make, neighborhood, will\n",
            "nurse: practitioner, nursing, honors, graduated, affiliated, hospitals, experience, affiliates, doctors, specialists\n",
            "doctor: college, earned, degree, bachelor, member, association, obtained, university, general, oral\n",
            "engineer: engineering, software, computer, systems, prior, technical, electrical, phd, senior, design\n",
            "teacher: teachers, teaching, students, education, coordinator, teaches, courses, programs, taught, leadership\n",
            "dietitian: nutrition, honors, but, experience, specialists, practitioner, hospitals, registered, nurse, with\n",
            "\n",
            "\n"
          ]
        },
        {
          "output_type": "stream",
          "name": "stderr",
          "text": [
            "55030it [03:38, 223.97it/s]"
          ]
        },
        {
          "output_type": "stream",
          "name": "stdout",
          "text": [
            "| epoch   1 | 55000/58601 batches | loss    1.723 \n",
            "women: about, stories, african, people, studies, author, relationship, black, youth, culture\n",
            "men: ranging, justice, also, people, past, which, will, recently, make, into\n",
            "nurse: practitioner, nursing, honors, affiliated, graduated, hospitals, experience, doctors, affiliates, specialists\n",
            "doctor: college, association, member, obtained, earned, from, degree, completed, bachelor, oral\n",
            "engineer: engineering, computer, software, prior, systems, technical, electrical, phd, senior, degree\n",
            "teacher: teachers, students, teaching, education, coordinator, teaches, courses, programs, schools, taught\n",
            "dietitian: nutrition, experience, specialists, practitioner, hospitals, honors, nurse, diverse, but, with\n",
            "\n",
            "\n"
          ]
        },
        {
          "output_type": "stream",
          "name": "stderr",
          "text": [
            "55518it [03:40, 228.63it/s]"
          ]
        },
        {
          "output_type": "stream",
          "name": "stdout",
          "text": [
            "| epoch   1 | 55500/58601 batches | loss    1.720 \n",
            "women: about, stories, author, studies, culture, african, relationship, people, black, youth\n",
            "men: ranging, justice, which, people, into, past, will, patients, following, make\n",
            "nurse: practitioner, nursing, honors, affiliated, hospitals, graduated, doctors, affiliates, hospital, specialists\n",
            "doctor: college, association, obtained, earned, member, bachelor, oral, denture, implant, completed\n",
            "engineer: engineering, computer, software, systems, prior, technical, electrical, phd, senior, operations\n",
            "teacher: teachers, students, education, teaching, courses, coordinator, teaches, schools, leadership, taught\n",
            "dietitian: nutrition, specialists, nurse, diverse, honors, with, hospitals, practitioner, experience, but\n",
            "\n",
            "\n"
          ]
        },
        {
          "output_type": "stream",
          "name": "stderr",
          "text": [
            "56029it [03:42, 226.21it/s]"
          ]
        },
        {
          "output_type": "stream",
          "name": "stdout",
          "text": [
            "| epoch   1 | 56000/58601 batches | loss    1.718 \n",
            "women: about, stories, she, studies, culture, author, people, african, black, identity\n",
            "men: ranging, people, justice, which, will, into, patients, make, following, women\n",
            "nurse: practitioner, nursing, honors, affiliated, graduated, hospitals, specialists, affiliates, doctors, hospital\n",
            "doctor: college, earned, obtained, oral, association, member, bachelor, implant, from, degree\n",
            "engineer: engineering, computer, software, prior, systems, technical, electrical, senior, operations, bs\n",
            "teacher: teachers, students, education, teaching, coordinator, teaches, courses, schools, programs, leadership\n",
            "dietitian: nutrition, specialists, nurse, honors, hospitals, diverse, any, practitioner, experience, collaborates\n",
            "\n",
            "\n"
          ]
        },
        {
          "output_type": "stream",
          "name": "stderr",
          "text": [
            "56516it [03:44, 230.81it/s]"
          ]
        },
        {
          "output_type": "stream",
          "name": "stdout",
          "text": [
            "| epoch   1 | 56500/58601 batches | loss    1.724 \n",
            "women: about, stories, author, people, culture, series, african, america, identity, youth\n",
            "men: ranging, people, justice, into, make, will, them, women, following, which\n",
            "nurse: practitioner, nursing, honors, affiliated, graduated, hospitals, specialists, doctors, m, affiliates\n",
            "doctor: college, oral, obtained, association, implant, member, bachelor, dental, denture, earned\n",
            "engineer: software, engineering, computer, prior, systems, technical, electrical, senior, operations, bs\n",
            "teacher: teachers, students, teaching, education, teaches, coordinator, courses, programs, schools, taught\n",
            "dietitian: nutrition, specialists, diverse, hospitals, nurse, practitioner, honors, any, experience, registered\n",
            "\n",
            "\n"
          ]
        },
        {
          "output_type": "stream",
          "name": "stderr",
          "text": [
            "57027it [03:46, 218.65it/s]"
          ]
        },
        {
          "output_type": "stream",
          "name": "stdout",
          "text": [
            "| epoch   1 | 57000/58601 batches | loss    1.717 \n",
            "women: about, stories, author, african, culture, studies, people, identity, middle, black\n",
            "men: justice, ranging, people, make, will, which, them, women, neighborhood, following\n",
            "nurse: practitioner, nursing, honors, affiliated, graduated, hospitals, experience, specialists, doctors, affiliates\n",
            "doctor: implant, college, obtained, bachelor, oral, completed, dental, association, denture, earned\n",
            "engineer: software, engineering, computer, prior, systems, technical, electrical, senior, operations, worked\n",
            "teacher: teachers, students, teaching, education, coordinator, teaches, courses, schools, programs, leadership\n",
            "dietitian: nutrition, specialists, nurse, diverse, hospitals, with, experience, honors, practitioner, any\n",
            "\n",
            "\n"
          ]
        },
        {
          "output_type": "stream",
          "name": "stderr",
          "text": [
            "57513it [03:47, 232.55it/s]"
          ]
        },
        {
          "output_type": "stream",
          "name": "stdout",
          "text": [
            "| epoch   1 | 57500/58601 batches | loss    1.722 \n",
            "women: about, stories, african, author, working, study, culture, people, black, youth\n",
            "men: justice, ranging, people, will, make, women, into, also, them, neighborhood\n",
            "nurse: practitioner, nursing, honors, affiliated, hospitals, graduated, inc, specialists, affiliates, hospital\n",
            "doctor: bachelor, obtained, implant, oral, association, dental, denture, extraction, earned, degree\n",
            "engineer: software, engineering, prior, computer, systems, technical, electrical, senior, operations, bs\n",
            "teacher: teachers, students, teaching, education, coordinator, teaches, courses, student, schools, leadership\n",
            "dietitian: nutrition, specialists, diverse, hospitals, nurse, honors, with, any, registered, psychologist\n",
            "\n",
            "\n"
          ]
        },
        {
          "output_type": "stream",
          "name": "stderr",
          "text": [
            "58024it [03:49, 221.11it/s]"
          ]
        },
        {
          "output_type": "stream",
          "name": "stdout",
          "text": [
            "| epoch   1 | 58000/58601 batches | loss    1.715 \n",
            "women: about, working, african, stories, black, america, author, culture, middle, series\n",
            "men: justice, ranging, the, people, make, will, them, into, also, which\n",
            "nurse: practitioner, nursing, honors, affiliated, hospitals, graduated, specialists, inc, affiliates, doctors\n",
            "doctor: bachelor, college, implant, oral, association, obtained, general, extraction, denture, crowns\n",
            "engineer: software, engineering, computer, prior, systems, technical, electrical, senior, operations, spent\n",
            "teacher: teachers, students, teaching, education, coordinator, teaches, taught, schools, leadership, programs\n",
            "dietitian: nutrition, specialists, diverse, hospitals, with, honors, nurse, any, registered, psychologist\n",
            "\n",
            "\n"
          ]
        },
        {
          "output_type": "stream",
          "name": "stderr",
          "text": [
            "58537it [03:51, 232.41it/s]"
          ]
        },
        {
          "output_type": "stream",
          "name": "stdout",
          "text": [
            "| epoch   1 | 58500/58601 batches | loss    1.717 \n",
            "women: about, stories, african, working, youth, people, america, author, middle, gender\n",
            "men: justice, ranging, people, them, make, will, gender, also, women, youth\n",
            "nurse: practitioner, nursing, honors, affiliated, graduated, inc, hospitals, specialists, m, doctors\n",
            "doctor: bachelor, college, implant, degree, extraction, oral, crowns, denture, member, tooth\n",
            "engineer: software, engineering, computer, systems, prior, technical, electrical, senior, operations, spent\n",
            "teacher: teachers, students, teaching, education, coordinator, teaches, schools, taught, courses, leadership\n",
            "dietitian: nutrition, specialists, with, diverse, nurse, hospitals, honors, any, registered, psychologist\n",
            "\n",
            "\n"
          ]
        },
        {
          "output_type": "stream",
          "name": "stderr",
          "text": [
            "58601it [03:53, 250.50it/s]\n",
            "2it [00:01,  1.43it/s]"
          ]
        },
        {
          "output_type": "stream",
          "name": "stdout",
          "text": [
            "| epoch   2 |     0/58601 batches | loss    1.611 \n",
            "women: about, stories, african, youth, people, working, america, middle, author, series\n",
            "men: justice, ranging, people, them, make, will, gender, women, youth, about\n",
            "nurse: practitioner, nursing, honors, affiliated, specialists, hospitals, inc, m, doctors, affiliates\n",
            "doctor: bachelor, implant, degree, college, oral, extraction, crowns, denture, member, earned\n",
            "engineer: software, engineering, computer, systems, prior, technical, electrical, technology, operations, spent\n",
            "teacher: teachers, students, teaching, education, coordinator, teaches, schools, taught, leadership, courses\n",
            "dietitian: nutrition, specialists, hospitals, diverse, with, nurse, registered, any, honors, experience\n",
            "\n",
            "\n"
          ]
        },
        {
          "output_type": "stream",
          "name": "stderr",
          "text": [
            "518it [00:03, 224.29it/s]"
          ]
        },
        {
          "output_type": "stream",
          "name": "stdout",
          "text": [
            "| epoch   2 |   500/58601 batches | loss    1.661 \n",
            "women: about, stories, african, youth, people, working, america, middle, author, series\n",
            "men: justice, ranging, people, them, make, will, women, gender, youth, about\n",
            "nurse: practitioner, nursing, honors, affiliated, specialists, inc, hospitals, m, doctors, affiliates\n",
            "doctor: bachelor, implant, degree, college, oral, extraction, crowns, denture, member, dental\n",
            "engineer: software, engineering, computer, systems, prior, technical, electrical, technology, operations, design\n",
            "teacher: teachers, students, teaching, education, coordinator, teaches, schools, taught, leadership, courses\n",
            "dietitian: nutrition, specialists, with, diverse, hospitals, nurse, registered, any, honors, experience\n",
            "\n",
            "\n"
          ]
        },
        {
          "output_type": "stream",
          "name": "stderr",
          "text": [
            "1035it [00:05, 227.19it/s]"
          ]
        },
        {
          "output_type": "stream",
          "name": "stdout",
          "text": [
            "| epoch   2 |  1000/58601 batches | loss    1.671 \n",
            "women: about, stories, african, youth, people, working, america, author, middle, gender\n",
            "men: justice, ranging, people, them, make, will, women, gender, youth, the\n",
            "nurse: practitioner, nursing, honors, affiliated, specialists, hospitals, inc, m, doctors, graduated\n",
            "doctor: bachelor, implant, college, degree, oral, extraction, crowns, denture, member, earned\n",
            "engineer: software, engineering, computer, systems, prior, technical, electrical, technology, operations, phd\n",
            "teacher: teachers, students, teaching, education, coordinator, teaches, schools, taught, leadership, courses\n",
            "dietitian: nutrition, specialists, with, hospitals, nurse, diverse, registered, any, honors, experience\n",
            "\n",
            "\n"
          ]
        },
        {
          "output_type": "stream",
          "name": "stderr",
          "text": [
            "1515it [00:07, 229.64it/s]"
          ]
        },
        {
          "output_type": "stream",
          "name": "stdout",
          "text": [
            "| epoch   2 |  1500/58601 batches | loss    1.662 \n",
            "women: about, stories, african, youth, people, working, america, middle, author, gender\n",
            "men: justice, ranging, people, them, make, will, the, women, youth, gender\n",
            "nurse: practitioner, nursing, honors, affiliated, specialists, hospitals, inc, m, doctors, graduated\n",
            "doctor: bachelor, implant, college, degree, oral, extraction, crowns, denture, member, earned\n",
            "engineer: software, engineering, computer, systems, prior, technical, electrical, technology, operations, phd\n",
            "teacher: teachers, students, teaching, education, coordinator, teaches, schools, taught, leadership, courses\n",
            "dietitian: nutrition, specialists, with, hospitals, diverse, nurse, honors, registered, any, experience\n",
            "\n",
            "\n"
          ]
        },
        {
          "output_type": "stream",
          "name": "stderr",
          "text": [
            "2025it [00:09, 223.92it/s]"
          ]
        },
        {
          "output_type": "stream",
          "name": "stdout",
          "text": [
            "| epoch   2 |  2000/58601 batches | loss    1.661 \n",
            "women: about, stories, african, the, youth, people, working, america, author, middle\n",
            "men: justice, ranging, people, make, them, the, will, women, youth, gender\n",
            "nurse: practitioner, nursing, honors, affiliated, specialists, hospitals, inc, m, doctors, graduated\n",
            "doctor: bachelor, implant, college, degree, oral, extraction, denture, crowns, member, earned\n",
            "engineer: software, engineering, computer, systems, prior, technical, electrical, technology, operations, phd\n",
            "teacher: teachers, students, teaching, education, coordinator, teaches, schools, taught, leadership, courses\n",
            "dietitian: nutrition, specialists, with, hospitals, diverse, nurse, honors, registered, any, experience\n",
            "\n",
            "\n"
          ]
        },
        {
          "output_type": "stream",
          "name": "stderr",
          "text": [
            "2535it [00:11, 229.77it/s]"
          ]
        },
        {
          "output_type": "stream",
          "name": "stdout",
          "text": [
            "| epoch   2 |  2500/58601 batches | loss    1.659 \n",
            "women: about, stories, the, african, youth, people, working, author, middle, america\n",
            "men: justice, ranging, people, the, make, them, will, women, youth, gender\n",
            "nurse: practitioner, nursing, honors, affiliated, specialists, hospitals, inc, m, doctors, graduated\n",
            "doctor: bachelor, implant, college, degree, oral, of, extraction, member, crowns, denture\n",
            "engineer: software, engineering, computer, systems, prior, technical, electrical, technology, operations, phd\n",
            "teacher: teachers, students, teaching, education, coordinator, teaches, schools, taught, writing, leadership\n",
            "dietitian: nutrition, specialists, with, diverse, hospitals, nurse, honors, registered, any, experience\n",
            "\n",
            "\n"
          ]
        },
        {
          "output_type": "stream",
          "name": "stderr",
          "text": [
            "3019it [00:13, 226.43it/s]"
          ]
        },
        {
          "output_type": "stream",
          "name": "stdout",
          "text": [
            "| epoch   2 |  3000/58601 batches | loss    1.660 \n",
            "women: about, the, stories, african, youth, people, working, author, middle, america\n",
            "men: justice, ranging, people, the, make, them, will, youth, women, gender\n",
            "nurse: practitioner, nursing, honors, affiliated, specialists, hospitals, inc, m, doctors, graduated\n",
            "doctor: bachelor, implant, college, degree, of, oral, extraction, member, crowns, denture\n",
            "engineer: software, engineering, computer, systems, prior, technical, electrical, technology, operations, phd\n",
            "teacher: teachers, students, teaching, education, coordinator, teaches, schools, taught, writing, leadership\n",
            "dietitian: nutrition, with, specialists, diverse, hospitals, nurse, honors, registered, any, experience\n",
            "\n",
            "\n"
          ]
        },
        {
          "output_type": "stream",
          "name": "stderr",
          "text": [
            "3526it [00:15, 219.76it/s]"
          ]
        },
        {
          "output_type": "stream",
          "name": "stdout",
          "text": [
            "| epoch   2 |  3500/58601 batches | loss    1.658 \n",
            "women: about, the, stories, african, youth, people, working, author, middle, america\n",
            "men: justice, ranging, people, the, make, them, will, women, of, youth\n",
            "nurse: practitioner, nursing, honors, affiliated, specialists, hospitals, m, graduated, inc, medical\n",
            "doctor: bachelor, of, implant, college, in, degree, oral, earned, member, extraction\n",
            "engineer: software, engineering, computer, systems, prior, technical, electrical, technology, operations, phd\n",
            "teacher: teachers, students, teaching, education, coordinator, schools, teaches, taught, writing, leadership\n",
            "dietitian: nutrition, with, specialists, hospitals, diverse, nurse, honors, registered, any, experience\n",
            "\n",
            "\n"
          ]
        },
        {
          "output_type": "stream",
          "name": "stderr",
          "text": [
            "4035it [00:17, 225.48it/s]"
          ]
        },
        {
          "output_type": "stream",
          "name": "stdout",
          "text": [
            "| epoch   2 |  4000/58601 batches | loss    1.659 \n",
            "women: about, the, stories, african, youth, people, working, author, america, middle\n",
            "men: justice, ranging, the, people, make, them, will, of, women, youth\n",
            "nurse: practitioner, nursing, honors, affiliated, specialists, hospitals, graduated, m, inc, doctors\n",
            "doctor: bachelor, implant, college, of, degree, in, oral, earned, extraction, member\n",
            "engineer: software, engineering, computer, systems, prior, technical, electrical, technology, operations, phd\n",
            "teacher: teachers, students, teaching, education, coordinator, teaches, schools, taught, writing, leadership\n",
            "dietitian: nutrition, with, specialists, hospitals, diverse, nurse, honors, registered, any, experience\n",
            "\n",
            "\n"
          ]
        },
        {
          "output_type": "stream",
          "name": "stderr",
          "text": [
            "4513it [00:19, 216.87it/s]"
          ]
        },
        {
          "output_type": "stream",
          "name": "stdout",
          "text": [
            "| epoch   2 |  4500/58601 batches | loss    1.650 \n",
            "women: about, the, stories, african, youth, working, people, middle, author, america\n",
            "men: justice, ranging, the, people, make, them, will, of, women, youth\n",
            "nurse: practitioner, nursing, honors, affiliated, specialists, hospitals, medical, inc, graduated, m\n",
            "doctor: of, in, bachelor, implant, college, degree, oral, earned, member, extraction\n",
            "engineer: software, engineering, computer, systems, prior, technical, electrical, technology, operations, phd\n",
            "teacher: teachers, students, teaching, education, coordinator, teaches, schools, taught, leadership, writing\n",
            "dietitian: nutrition, with, specialists, hospitals, nurse, diverse, registered, honors, experience, any\n",
            "\n",
            "\n"
          ]
        },
        {
          "output_type": "stream",
          "name": "stderr",
          "text": [
            "5026it [00:21, 229.88it/s]"
          ]
        },
        {
          "output_type": "stream",
          "name": "stdout",
          "text": [
            "| epoch   2 |  5000/58601 batches | loss    1.657 \n",
            "women: about, the, stories, african, youth, working, people, author, middle, america\n",
            "men: justice, ranging, people, the, make, them, will, of, women, youth\n",
            "nurse: practitioner, nursing, honors, affiliated, specialists, medical, hospitals, inc, m, graduated\n",
            "doctor: in, bachelor, of, implant, college, degree, oral, earned, member, extraction\n",
            "engineer: software, engineering, computer, systems, prior, technical, electrical, technology, operations, phd\n",
            "teacher: teachers, students, teaching, education, coordinator, teaches, schools, taught, leadership, high\n",
            "dietitian: nutrition, with, specialists, hospitals, nurse, diverse, registered, experience, honors, any\n",
            "\n",
            "\n"
          ]
        },
        {
          "output_type": "stream",
          "name": "stderr",
          "text": [
            "5536it [00:25, 227.70it/s]"
          ]
        },
        {
          "output_type": "stream",
          "name": "stdout",
          "text": [
            "| epoch   2 |  5500/58601 batches | loss    1.661 \n",
            "women: about, the, stories, african, youth, working, people, author, middle, america\n",
            "men: justice, ranging, people, the, make, them, will, of, women, youth\n",
            "nurse: practitioner, nursing, honors, affiliated, specialists, medical, hospitals, inc, m, graduated\n",
            "doctor: in, of, bachelor, college, implant, degree, earned, oral, member, extraction\n",
            "engineer: software, engineering, computer, prior, systems, technical, electrical, technology, operations, phd\n",
            "teacher: teachers, students, teaching, education, coordinator, teaches, schools, taught, high, leadership\n",
            "dietitian: nutrition, with, specialists, hospitals, nurse, diverse, experience, registered, honors, any\n",
            "\n",
            "\n"
          ]
        },
        {
          "output_type": "stream",
          "name": "stderr",
          "text": [
            "6023it [00:27, 222.50it/s]"
          ]
        },
        {
          "output_type": "stream",
          "name": "stdout",
          "text": [
            "| epoch   2 |  6000/58601 batches | loss    1.657 \n",
            "women: about, the, stories, african, youth, working, people, her, middle, author\n",
            "men: justice, ranging, people, the, make, them, will, women, of, youth\n",
            "nurse: practitioner, nursing, honors, affiliated, specialists, medical, hospitals, inc, doctors, m\n",
            "doctor: in, bachelor, college, of, implant, degree, earned, oral, member, extraction\n",
            "engineer: software, engineering, computer, prior, systems, technical, electrical, technology, operations, phd\n",
            "teacher: teachers, students, teaching, education, coordinator, teaches, schools, taught, writing, high\n",
            "dietitian: nutrition, with, specialists, hospitals, nurse, diverse, experience, registered, honors, any\n",
            "\n",
            "\n"
          ]
        },
        {
          "output_type": "stream",
          "name": "stderr",
          "text": [
            "6531it [00:29, 226.95it/s]"
          ]
        },
        {
          "output_type": "stream",
          "name": "stdout",
          "text": [
            "| epoch   2 |  6500/58601 batches | loss    1.659 \n",
            "women: about, the, stories, african, youth, working, people, her, middle, america\n",
            "men: justice, ranging, people, make, them, will, the, women, youth, gender\n",
            "nurse: practitioner, nursing, honors, affiliated, medical, specialists, hospitals, inc, graduated, doctors\n",
            "doctor: in, of, bachelor, college, implant, degree, earned, oral, extraction, member\n",
            "engineer: software, engineering, computer, prior, systems, technical, electrical, technology, operations, design\n",
            "teacher: teachers, students, teaching, education, coordinator, teaches, schools, taught, writing, high\n",
            "dietitian: nutrition, with, specialists, hospitals, nurse, diverse, experience, registered, honors, any\n",
            "\n",
            "\n"
          ]
        },
        {
          "output_type": "stream",
          "name": "stderr",
          "text": [
            "7016it [00:31, 228.47it/s]"
          ]
        },
        {
          "output_type": "stream",
          "name": "stdout",
          "text": [
            "| epoch   2 |  7000/58601 batches | loss    1.653 \n",
            "women: about, the, stories, african, youth, people, working, her, author, middle\n",
            "men: justice, ranging, people, make, them, will, of, the, women, youth\n",
            "nurse: practitioner, nursing, honors, affiliated, specialists, medical, hospitals, inc, experience, doctors\n",
            "doctor: of, in, bachelor, implant, college, degree, earned, oral, member, extraction\n",
            "engineer: software, engineering, computer, prior, systems, technical, electrical, technology, operations, design\n",
            "teacher: teachers, students, teaching, education, coordinator, teaches, schools, taught, writing, high\n",
            "dietitian: with, nutrition, specialists, hospitals, nurse, experience, diverse, honors, registered, any\n",
            "\n",
            "\n"
          ]
        },
        {
          "output_type": "stream",
          "name": "stderr",
          "text": [
            "7527it [00:33, 221.40it/s]"
          ]
        },
        {
          "output_type": "stream",
          "name": "stdout",
          "text": [
            "| epoch   2 |  7500/58601 batches | loss    1.657 \n",
            "women: about, the, stories, african, youth, working, her, people, of, author\n",
            "men: justice, ranging, people, make, the, of, them, will, women, youth\n",
            "nurse: practitioner, nursing, honors, affiliated, specialists, medical, hospitals, graduated, inc, doctors\n",
            "doctor: in, of, bachelor, college, implant, degree, earned, oral, member, extraction\n",
            "engineer: software, engineering, computer, prior, systems, technical, electrical, technology, operations, design\n",
            "teacher: teachers, students, teaching, education, coordinator, teaches, schools, taught, writing, high\n",
            "dietitian: nutrition, with, specialists, hospitals, experience, nurse, diverse, registered, honors, any\n",
            "\n",
            "\n"
          ]
        },
        {
          "output_type": "stream",
          "name": "stderr",
          "text": [
            "8014it [00:35, 230.77it/s]"
          ]
        },
        {
          "output_type": "stream",
          "name": "stdout",
          "text": [
            "| epoch   2 |  8000/58601 batches | loss    1.655 \n",
            "women: about, the, stories, african, youth, working, her, people, author, middle\n",
            "men: justice, ranging, people, the, make, of, will, them, women, youth\n",
            "nurse: practitioner, nursing, honors, affiliated, specialists, medical, hospitals, graduated, inc, doctors\n",
            "doctor: of, in, bachelor, college, degree, implant, earned, from, member, oral\n",
            "engineer: software, engineering, computer, prior, systems, technical, electrical, technology, operations, design\n",
            "teacher: teachers, students, teaching, education, coordinator, schools, teaches, taught, writing, high\n",
            "dietitian: nutrition, with, specialists, hospitals, experience, nurse, diverse, honors, registered, any\n",
            "\n",
            "\n"
          ]
        },
        {
          "output_type": "stream",
          "name": "stderr",
          "text": [
            "8512it [00:37, 233.85it/s]"
          ]
        },
        {
          "output_type": "stream",
          "name": "stdout",
          "text": [
            "| epoch   2 |  8500/58601 batches | loss    1.651 \n",
            "women: about, stories, african, the, youth, working, people, her, she, of\n",
            "men: justice, ranging, people, the, of, make, will, them, women, youth\n",
            "nurse: practitioner, nursing, honors, affiliated, specialists, medical, hospitals, graduated, inc, doctors\n",
            "doctor: in, of, bachelor, college, degree, implant, earned, from, member, oral\n",
            "engineer: software, engineering, computer, systems, prior, technical, electrical, technology, operations, phd\n",
            "teacher: teachers, students, teaching, education, coordinator, schools, teaches, taught, high, writing\n",
            "dietitian: nutrition, with, specialists, hospitals, experience, nurse, diverse, honors, registered, any\n",
            "\n",
            "\n"
          ]
        },
        {
          "output_type": "stream",
          "name": "stderr",
          "text": [
            "9028it [00:39, 224.93it/s]"
          ]
        },
        {
          "output_type": "stream",
          "name": "stdout",
          "text": [
            "| epoch   2 |  9000/58601 batches | loss    1.653 \n",
            "women: about, stories, african, the, working, youth, she, people, author, her\n",
            "men: justice, ranging, people, the, of, make, will, them, women, youth\n",
            "nurse: practitioner, nursing, honors, affiliated, specialists, medical, hospitals, graduated, inc, doctors\n",
            "doctor: of, in, college, bachelor, earned, implant, degree, oral, member, from\n",
            "engineer: software, engineering, computer, systems, prior, technical, electrical, technology, phd, operations\n",
            "teacher: teachers, students, teaching, education, coordinator, schools, teaches, taught, high, writing\n",
            "dietitian: nutrition, with, specialists, hospitals, nurse, experience, diverse, honors, registered, any\n",
            "\n",
            "\n"
          ]
        },
        {
          "output_type": "stream",
          "name": "stderr",
          "text": [
            "9519it [00:40, 227.35it/s]"
          ]
        },
        {
          "output_type": "stream",
          "name": "stdout",
          "text": [
            "| epoch   2 |  9500/58601 batches | loss    1.654 \n",
            "women: about, stories, african, working, the, youth, she, people, author, her\n",
            "men: justice, ranging, people, of, the, make, will, them, women, youth\n",
            "nurse: practitioner, nursing, honors, affiliated, specialists, medical, graduated, hospitals, doctors, hospital\n",
            "doctor: of, in, college, bachelor, degree, earned, implant, member, oral, from\n",
            "engineer: software, engineering, computer, systems, prior, technical, electrical, technology, phd, operations\n",
            "teacher: teachers, students, teaching, education, coordinator, teaches, schools, taught, high, writing\n",
            "dietitian: with, nutrition, specialists, hospitals, nurse, diverse, experience, registered, honors, any\n",
            "\n",
            "\n"
          ]
        },
        {
          "output_type": "stream",
          "name": "stderr",
          "text": [
            "10029it [00:42, 226.20it/s]"
          ]
        },
        {
          "output_type": "stream",
          "name": "stdout",
          "text": [
            "| epoch   2 | 10000/58601 batches | loss    1.651 \n",
            "women: about, stories, african, working, youth, she, the, people, author, middle\n",
            "men: justice, ranging, people, of, the, make, them, will, women, youth\n",
            "nurse: practitioner, nursing, honors, affiliated, specialists, medical, hospitals, graduated, doctors, inc\n",
            "doctor: of, college, bachelor, in, degree, earned, implant, member, from, oral\n",
            "engineer: software, engineering, computer, systems, prior, technical, electrical, technology, phd, worked\n",
            "teacher: teachers, students, teaching, education, coordinator, teaches, schools, taught, high, courses\n",
            "dietitian: with, nutrition, specialists, hospitals, nurse, diverse, experience, honors, registered, any\n",
            "\n",
            "\n"
          ]
        },
        {
          "output_type": "stream",
          "name": "stderr",
          "text": [
            "10516it [00:44, 224.99it/s]"
          ]
        },
        {
          "output_type": "stream",
          "name": "stdout",
          "text": [
            "| epoch   2 | 10500/58601 batches | loss    1.651 \n",
            "women: about, stories, african, the, working, youth, she, people, author, middle\n",
            "men: the, justice, ranging, people, of, make, them, will, women, youth\n",
            "nurse: practitioner, nursing, honors, affiliated, specialists, medical, graduated, hospitals, doctors, experience\n",
            "doctor: of, college, bachelor, degree, earned, in, implant, from, member, oral\n",
            "engineer: software, engineering, computer, systems, prior, technical, electrical, technology, phd, worked\n",
            "teacher: teachers, students, teaching, education, coordinator, teaches, schools, taught, high, writing\n",
            "dietitian: with, nutrition, specialists, hospitals, diverse, nurse, experience, honors, registered, any\n",
            "\n",
            "\n"
          ]
        },
        {
          "output_type": "stream",
          "name": "stderr",
          "text": [
            "11030it [00:46, 226.49it/s]"
          ]
        },
        {
          "output_type": "stream",
          "name": "stdout",
          "text": [
            "| epoch   2 | 11000/58601 batches | loss    1.650 \n",
            "women: about, african, stories, she, working, the, youth, people, her, author\n",
            "men: the, justice, ranging, people, make, of, them, will, to, women\n",
            "nurse: practitioner, nursing, honors, affiliated, medical, specialists, graduated, hospitals, doctors, experience\n",
            "doctor: of, college, bachelor, degree, earned, implant, member, from, oral, obtained\n",
            "engineer: software, engineering, computer, systems, prior, technical, electrical, technology, worked, phd\n",
            "teacher: teachers, students, education, teaching, coordinator, schools, teaches, taught, high, for\n",
            "dietitian: with, nutrition, specialists, hospitals, diverse, nurse, experience, honors, registered, any\n",
            "\n",
            "\n"
          ]
        },
        {
          "output_type": "stream",
          "name": "stderr",
          "text": [
            "11525it [00:48, 225.95it/s]"
          ]
        },
        {
          "output_type": "stream",
          "name": "stdout",
          "text": [
            "| epoch   2 | 11500/58601 batches | loss    1.653 \n",
            "women: about, african, stories, she, working, youth, the, people, her, author\n",
            "men: justice, the, ranging, people, make, them, will, of, to, women\n",
            "nurse: practitioner, nursing, honors, affiliated, specialists, medical, graduated, hospitals, doctors, experience\n",
            "doctor: of, college, bachelor, degree, earned, implant, from, member, obtained, oral\n",
            "engineer: software, engineering, computer, systems, prior, technical, electrical, technology, phd, worked\n",
            "teacher: teachers, students, education, teaching, coordinator, schools, teaches, taught, high, courses\n",
            "dietitian: with, nutrition, specialists, hospitals, nurse, diverse, experience, honors, registered, any\n",
            "\n",
            "\n"
          ]
        },
        {
          "output_type": "stream",
          "name": "stderr",
          "text": [
            "12034it [00:50, 230.09it/s]"
          ]
        },
        {
          "output_type": "stream",
          "name": "stdout",
          "text": [
            "| epoch   2 | 12000/58601 batches | loss    1.653 \n",
            "women: about, african, stories, she, the, working, youth, people, her, middle\n",
            "men: justice, the, ranging, people, and, make, them, to, will, women\n",
            "nurse: practitioner, nursing, honors, affiliated, medical, specialists, hospitals, graduated, experience, doctors\n",
            "doctor: of, college, degree, bachelor, earned, implant, member, from, in, obtained\n",
            "engineer: software, engineering, computer, systems, prior, technical, electrical, technology, phd, worked\n",
            "teacher: teachers, students, education, teaching, coordinator, schools, teaches, taught, high, writing\n",
            "dietitian: with, nutrition, specialists, hospitals, experience, nurse, diverse, registered, honors, any\n",
            "\n",
            "\n"
          ]
        },
        {
          "output_type": "stream",
          "name": "stderr",
          "text": [
            "12525it [00:52, 224.39it/s]"
          ]
        },
        {
          "output_type": "stream",
          "name": "stdout",
          "text": [
            "| epoch   2 | 12500/58601 batches | loss    1.646 \n",
            "women: about, stories, she, african, the, her, working, youth, people, author\n",
            "men: justice, ranging, people, the, make, them, will, to, women, also\n",
            "nurse: practitioner, nursing, honors, affiliated, medical, specialists, hospitals, graduated, doctors, experience\n",
            "doctor: of, college, degree, bachelor, from, earned, implant, in, member, obtained\n",
            "engineer: software, engineering, computer, systems, prior, technical, electrical, technology, phd, worked\n",
            "teacher: teachers, students, education, teaching, coordinator, schools, teaches, taught, high, writing\n",
            "dietitian: with, nutrition, specialists, hospitals, experience, nurse, diverse, honors, registered, any\n",
            "\n",
            "\n"
          ]
        },
        {
          "output_type": "stream",
          "name": "stderr",
          "text": [
            "13011it [00:54, 232.34it/s]"
          ]
        },
        {
          "output_type": "stream",
          "name": "stdout",
          "text": [
            "| epoch   2 | 13000/58601 batches | loss    1.654 \n",
            "women: about, stories, african, she, the, youth, her, working, people, author\n",
            "men: justice, ranging, people, make, the, them, will, to, women, also\n",
            "nurse: practitioner, nursing, honors, affiliated, medical, specialists, hospitals, doctors, graduated, experience\n",
            "doctor: of, college, degree, from, bachelor, in, earned, implant, member, obtained\n",
            "engineer: software, engineering, computer, systems, prior, technical, electrical, technology, phd, worked\n",
            "teacher: teachers, students, education, teaching, coordinator, schools, teaches, taught, high, for\n",
            "dietitian: with, nutrition, specialists, hospitals, nurse, experience, diverse, registered, honors, any\n",
            "\n",
            "\n"
          ]
        },
        {
          "output_type": "stream",
          "name": "stderr",
          "text": [
            "13525it [00:56, 221.14it/s]"
          ]
        },
        {
          "output_type": "stream",
          "name": "stdout",
          "text": [
            "| epoch   2 | 13500/58601 batches | loss    1.651 \n",
            "women: about, she, stories, african, her, youth, working, the, people, middle\n",
            "men: justice, ranging, people, make, them, will, the, to, women, and\n",
            "nurse: practitioner, nursing, honors, affiliated, medical, specialists, hospitals, doctors, graduated, experience\n",
            "doctor: of, college, from, in, bachelor, earned, degree, implant, member, obtained\n",
            "engineer: software, engineering, computer, systems, prior, technical, electrical, technology, worked, phd\n",
            "teacher: teachers, students, education, teaching, coordinator, schools, teaches, taught, high, for\n",
            "dietitian: with, nutrition, specialists, hospitals, nurse, experience, diverse, registered, honors, any\n",
            "\n",
            "\n"
          ]
        },
        {
          "output_type": "stream",
          "name": "stderr",
          "text": [
            "14013it [00:58, 231.14it/s]"
          ]
        },
        {
          "output_type": "stream",
          "name": "stdout",
          "text": [
            "| epoch   2 | 14000/58601 batches | loss    1.647 \n",
            "women: about, african, stories, youth, she, her, working, people, middle, author\n",
            "men: justice, ranging, people, make, them, will, and, the, women, to\n",
            "nurse: practitioner, nursing, honors, affiliated, medical, specialists, graduated, hospitals, doctors, inc\n",
            "doctor: of, in, college, from, bachelor, degree, earned, implant, member, obtained\n",
            "engineer: software, engineering, computer, systems, prior, technical, electrical, technology, phd, worked\n",
            "teacher: teachers, students, education, teaching, coordinator, schools, teaches, taught, high, writing\n",
            "dietitian: with, nutrition, specialists, hospitals, experience, diverse, nurse, honors, registered, any\n",
            "\n",
            "\n"
          ]
        },
        {
          "output_type": "stream",
          "name": "stderr",
          "text": [
            "14524it [01:00, 220.29it/s]"
          ]
        },
        {
          "output_type": "stream",
          "name": "stdout",
          "text": [
            "| epoch   2 | 14500/58601 batches | loss    1.652 \n",
            "women: about, african, stories, she, youth, working, her, people, the, middle\n",
            "men: justice, ranging, people, make, will, them, of, women, and, the\n",
            "nurse: practitioner, nursing, honors, affiliated, medical, specialists, graduated, hospitals, doctors, experience\n",
            "doctor: in, of, college, from, bachelor, degree, earned, implant, member, obtained\n",
            "engineer: software, engineering, computer, systems, prior, technical, electrical, technology, phd, worked\n",
            "teacher: teachers, students, education, teaching, coordinator, schools, teaches, taught, high, writing\n",
            "dietitian: with, nutrition, specialists, hospitals, experience, nurse, diverse, registered, honors, any\n",
            "\n",
            "\n"
          ]
        },
        {
          "output_type": "stream",
          "name": "stderr",
          "text": [
            "15012it [01:02, 234.68it/s]"
          ]
        },
        {
          "output_type": "stream",
          "name": "stdout",
          "text": [
            "| epoch   2 | 15000/58601 batches | loss    1.654 \n",
            "women: about, african, stories, she, youth, working, the, her, people, middle\n",
            "men: justice, ranging, people, make, of, them, will, women, the, also\n",
            "nurse: practitioner, nursing, honors, affiliated, medical, specialists, graduated, doctors, hospitals, experience\n",
            "doctor: of, in, college, from, degree, bachelor, earned, implant, member, obtained\n",
            "engineer: software, engineering, computer, systems, prior, technical, electrical, technology, phd, worked\n",
            "teacher: teachers, students, education, teaching, coordinator, schools, teaches, taught, for, high\n",
            "dietitian: with, nutrition, specialists, hospitals, experience, nurse, diverse, registered, honors, any\n",
            "\n",
            "\n"
          ]
        },
        {
          "output_type": "stream",
          "name": "stderr",
          "text": [
            "15525it [01:04, 220.75it/s]"
          ]
        },
        {
          "output_type": "stream",
          "name": "stdout",
          "text": [
            "| epoch   2 | 15500/58601 batches | loss    1.655 \n",
            "women: about, african, stories, the, she, working, youth, her, people, middle\n",
            "men: justice, ranging, people, the, make, them, will, of, women, also\n",
            "nurse: practitioner, nursing, honors, affiliated, medical, specialists, doctors, graduated, hospitals, inc\n",
            "doctor: from, of, college, in, bachelor, degree, earned, implant, member, obtained\n",
            "engineer: software, engineering, computer, systems, prior, technical, electrical, technology, phd, worked\n",
            "teacher: teachers, students, education, teaching, coordinator, schools, teaches, taught, writing, high\n",
            "dietitian: with, nutrition, specialists, hospitals, experience, nurse, diverse, registered, honors, practitioner\n",
            "\n",
            "\n"
          ]
        },
        {
          "output_type": "stream",
          "name": "stderr",
          "text": [
            "16036it [01:06, 230.14it/s]"
          ]
        },
        {
          "output_type": "stream",
          "name": "stdout",
          "text": [
            "| epoch   2 | 16000/58601 batches | loss    1.644 \n",
            "women: about, the, african, stories, her, youth, working, she, people, middle\n",
            "men: justice, ranging, people, the, make, them, will, women, of, also\n",
            "nurse: practitioner, nursing, honors, affiliated, medical, specialists, graduated, doctors, hospitals, experience\n",
            "doctor: college, from, in, of, degree, bachelor, earned, implant, member, obtained\n",
            "engineer: software, engineering, computer, systems, prior, technical, electrical, technology, phd, worked\n",
            "teacher: teachers, students, education, teaching, coordinator, schools, teaches, taught, high, for\n",
            "dietitian: with, nutrition, specialists, experience, hospitals, nurse, diverse, registered, honors, practitioner\n",
            "\n",
            "\n"
          ]
        },
        {
          "output_type": "stream",
          "name": "stderr",
          "text": [
            "16519it [01:08, 224.35it/s]"
          ]
        },
        {
          "output_type": "stream",
          "name": "stdout",
          "text": [
            "| epoch   2 | 16500/58601 batches | loss    1.651 \n",
            "women: about, african, stories, the, her, working, she, youth, people, middle\n",
            "men: justice, ranging, people, the, make, will, them, women, also, youth\n",
            "nurse: practitioner, nursing, honors, affiliated, specialists, medical, graduated, doctors, hospitals, experience\n",
            "doctor: college, from, of, degree, bachelor, earned, implant, member, in, obtained\n",
            "engineer: software, engineering, computer, systems, prior, technical, electrical, technology, phd, worked\n",
            "teacher: teachers, students, education, teaching, coordinator, schools, teaches, taught, high, a\n",
            "dietitian: with, nutrition, specialists, experience, hospitals, nurse, diverse, registered, honors, practitioner\n",
            "\n",
            "\n"
          ]
        },
        {
          "output_type": "stream",
          "name": "stderr",
          "text": [
            "17030it [01:10, 225.53it/s]"
          ]
        },
        {
          "output_type": "stream",
          "name": "stdout",
          "text": [
            "| epoch   2 | 17000/58601 batches | loss    1.652 \n",
            "women: about, african, stories, her, the, she, working, youth, people, middle\n",
            "men: justice, people, ranging, the, make, them, will, women, of, also\n",
            "nurse: practitioner, nursing, honors, affiliated, specialists, medical, graduated, doctors, hospitals, experience\n",
            "doctor: in, college, from, degree, bachelor, earned, implant, member, of, obtained\n",
            "engineer: software, engineering, computer, systems, prior, technical, electrical, technology, phd, worked\n",
            "teacher: teachers, students, education, teaching, coordinator, schools, teaches, a, for, taught\n",
            "dietitian: with, nutrition, specialists, experience, hospitals, nurse, diverse, registered, honors, practitioner\n",
            "\n",
            "\n"
          ]
        },
        {
          "output_type": "stream",
          "name": "stderr",
          "text": [
            "17534it [01:12, 225.68it/s]"
          ]
        },
        {
          "output_type": "stream",
          "name": "stdout",
          "text": [
            "| epoch   2 | 17500/58601 batches | loss    1.652 \n",
            "women: about, african, stories, youth, the, her, she, working, people, middle\n",
            "men: justice, people, ranging, the, make, them, will, women, also, youth\n",
            "nurse: practitioner, nursing, honors, affiliated, medical, specialists, graduated, doctors, hospitals, experience\n",
            "doctor: in, college, from, degree, bachelor, earned, implant, member, of, obtained\n",
            "engineer: software, engineering, computer, systems, prior, technical, electrical, technology, phd, worked\n",
            "teacher: teachers, education, students, teaching, coordinator, schools, teaches, a, taught, for\n",
            "dietitian: with, nutrition, specialists, experience, hospitals, nurse, registered, diverse, honors, practitioner\n",
            "\n",
            "\n"
          ]
        },
        {
          "output_type": "stream",
          "name": "stderr",
          "text": [
            "18023it [01:14, 221.96it/s]"
          ]
        },
        {
          "output_type": "stream",
          "name": "stdout",
          "text": [
            "| epoch   2 | 18000/58601 batches | loss    1.652 \n",
            "women: about, african, stories, the, youth, she, her, working, people, author\n",
            "men: justice, the, people, ranging, make, them, will, women, also, youth\n",
            "nurse: practitioner, nursing, honors, affiliated, medical, graduated, specialists, doctors, experience, hospitals\n",
            "doctor: college, of, in, from, degree, bachelor, earned, implant, member, obtained\n",
            "engineer: software, engineering, computer, systems, prior, technical, electrical, technology, phd, worked\n",
            "teacher: teachers, education, students, teaching, coordinator, schools, teaches, a, taught, for\n",
            "dietitian: with, nutrition, specialists, hospitals, experience, nurse, registered, honors, diverse, practitioner\n",
            "\n",
            "\n"
          ]
        },
        {
          "output_type": "stream",
          "name": "stderr",
          "text": [
            "18533it [01:16, 225.74it/s]"
          ]
        },
        {
          "output_type": "stream",
          "name": "stdout",
          "text": [
            "| epoch   2 | 18500/58601 batches | loss    1.648 \n",
            "women: about, the, stories, african, she, youth, her, working, people, author\n",
            "men: justice, people, ranging, the, make, them, will, women, also, youth\n",
            "nurse: practitioner, nursing, honors, affiliated, graduated, specialists, experience, medical, doctors, hospitals\n",
            "doctor: college, from, in, of, degree, earned, bachelor, implant, member, obtained\n",
            "engineer: software, engineering, computer, systems, prior, technical, electrical, technology, phd, worked\n",
            "teacher: teachers, education, students, teaching, coordinator, a, schools, teaches, taught, for\n",
            "dietitian: with, nutrition, specialists, experience, hospitals, nurse, registered, honors, diverse, practitioner\n",
            "\n",
            "\n"
          ]
        },
        {
          "output_type": "stream",
          "name": "stderr",
          "text": [
            "19019it [01:18, 226.81it/s]"
          ]
        },
        {
          "output_type": "stream",
          "name": "stdout",
          "text": [
            "| epoch   2 | 19000/58601 batches | loss    1.647 \n",
            "women: the, about, stories, african, she, her, youth, people, working, author\n",
            "men: justice, the, people, ranging, make, them, will, women, also, youth\n",
            "nurse: practitioner, nursing, honors, affiliated, graduated, specialists, experience, medical, doctors, hospitals\n",
            "doctor: college, from, degree, of, earned, bachelor, implant, in, member, obtained\n",
            "engineer: software, engineering, computer, systems, prior, technical, electrical, technology, phd, worked\n",
            "teacher: teachers, education, students, teaching, coordinator, a, schools, teaches, for, taught\n",
            "dietitian: with, nutrition, specialists, experience, hospitals, nurse, registered, honors, diverse, practitioner\n",
            "\n",
            "\n"
          ]
        },
        {
          "output_type": "stream",
          "name": "stderr",
          "text": [
            "19514it [01:19, 233.58it/s]"
          ]
        },
        {
          "output_type": "stream",
          "name": "stdout",
          "text": [
            "| epoch   2 | 19500/58601 batches | loss    1.646 \n",
            "women: the, about, stories, african, her, she, youth, working, people, author\n",
            "men: the, justice, people, ranging, make, them, will, also, women, youth\n",
            "nurse: practitioner, nursing, honors, affiliated, graduated, specialists, medical, experience, doctors, hospitals\n",
            "doctor: college, from, degree, of, earned, bachelor, in, implant, member, obtained\n",
            "engineer: software, engineering, computer, systems, prior, technical, electrical, technology, phd, worked\n",
            "teacher: teachers, education, students, teaching, coordinator, schools, teaches, a, taught, for\n",
            "dietitian: with, nutrition, specialists, experience, hospitals, nurse, registered, honors, diverse, practitioner\n",
            "\n",
            "\n"
          ]
        },
        {
          "output_type": "stream",
          "name": "stderr",
          "text": [
            "20033it [01:21, 229.85it/s]"
          ]
        },
        {
          "output_type": "stream",
          "name": "stdout",
          "text": [
            "| epoch   2 | 20000/58601 batches | loss    1.649 \n",
            "women: the, about, african, stories, her, she, youth, working, people, author\n",
            "men: the, justice, people, ranging, make, them, also, will, women, about\n",
            "nurse: practitioner, nursing, honors, affiliated, graduated, specialists, experience, doctors, medical, hospitals\n",
            "doctor: college, from, degree, earned, in, bachelor, implant, of, member, obtained\n",
            "engineer: software, engineering, computer, systems, prior, technical, electrical, technology, phd, worked\n",
            "teacher: teachers, education, students, teaching, coordinator, schools, teaches, for, taught, writing\n",
            "dietitian: with, nutrition, specialists, experience, hospitals, nurse, registered, honors, diverse, practitioner\n",
            "\n",
            "\n"
          ]
        },
        {
          "output_type": "stream",
          "name": "stderr",
          "text": [
            "20520it [01:23, 218.65it/s]"
          ]
        },
        {
          "output_type": "stream",
          "name": "stdout",
          "text": [
            "| epoch   2 | 20500/58601 batches | loss    1.644 \n",
            "women: the, about, stories, african, her, she, youth, working, people, author\n",
            "men: justice, the, people, ranging, make, them, will, also, women, youth\n",
            "nurse: practitioner, nursing, honors, affiliated, graduated, specialists, experience, doctors, medical, hospitals\n",
            "doctor: college, from, degree, earned, in, of, bachelor, implant, member, obtained\n",
            "engineer: software, engineering, computer, systems, prior, technical, electrical, technology, phd, worked\n",
            "teacher: teachers, education, students, teaching, coordinator, schools, for, teaches, taught, writing\n",
            "dietitian: with, nutrition, specialists, experience, hospitals, nurse, registered, honors, diverse, practitioner\n",
            "\n",
            "\n"
          ]
        },
        {
          "output_type": "stream",
          "name": "stderr",
          "text": [
            "21031it [01:25, 228.32it/s]"
          ]
        },
        {
          "output_type": "stream",
          "name": "stdout",
          "text": [
            "| epoch   2 | 21000/58601 batches | loss    1.652 \n",
            "women: about, the, african, stories, her, youth, she, people, working, author\n",
            "men: justice, the, people, ranging, make, them, will, also, women, about\n",
            "nurse: practitioner, nursing, honors, affiliated, graduated, specialists, doctors, experience, medical, hospitals\n",
            "doctor: college, from, in, degree, earned, bachelor, implant, of, member, obtained\n",
            "engineer: software, engineering, computer, systems, prior, technical, electrical, technology, phd, worked\n",
            "teacher: teachers, education, students, teaching, coordinator, schools, teaches, for, taught, a\n",
            "dietitian: with, nutrition, specialists, experience, hospitals, nurse, registered, diverse, honors, practitioner\n",
            "\n",
            "\n"
          ]
        },
        {
          "output_type": "stream",
          "name": "stderr",
          "text": [
            "21533it [01:27, 223.01it/s]"
          ]
        },
        {
          "output_type": "stream",
          "name": "stdout",
          "text": [
            "| epoch   2 | 21500/58601 batches | loss    1.649 \n",
            "women: about, the, african, stories, she, youth, working, people, her, culture\n",
            "men: justice, people, the, ranging, make, them, will, women, also, about\n",
            "nurse: practitioner, nursing, honors, affiliated, graduated, specialists, doctors, experience, medical, hospitals\n",
            "doctor: college, from, of, degree, earned, bachelor, implant, in, member, obtained\n",
            "engineer: software, engineering, computer, prior, systems, technical, electrical, technology, phd, worked\n",
            "teacher: teachers, education, students, teaching, coordinator, schools, for, teaches, taught, writing\n",
            "dietitian: with, nutrition, specialists, experience, hospitals, nurse, registered, diverse, honors, psychologist\n",
            "\n",
            "\n"
          ]
        },
        {
          "output_type": "stream",
          "name": "stderr",
          "text": [
            "22018it [01:29, 225.93it/s]"
          ]
        },
        {
          "output_type": "stream",
          "name": "stdout",
          "text": [
            "| epoch   2 | 22000/58601 batches | loss    1.649 \n",
            "women: about, african, stories, the, youth, she, people, working, her, culture\n",
            "men: justice, people, ranging, the, make, them, will, also, women, about\n",
            "nurse: practitioner, nursing, honors, affiliated, graduated, specialists, doctors, experience, hospitals, hospital\n",
            "doctor: from, college, of, degree, earned, bachelor, implant, in, member, obtained\n",
            "engineer: software, engineering, computer, prior, systems, technical, electrical, technology, phd, worked\n",
            "teacher: teachers, education, students, teaching, coordinator, schools, teaches, for, taught, a\n",
            "dietitian: with, nutrition, specialists, experience, hospitals, nurse, registered, diverse, honors, practitioner\n",
            "\n",
            "\n"
          ]
        },
        {
          "output_type": "stream",
          "name": "stderr",
          "text": [
            "22527it [01:31, 220.32it/s]"
          ]
        },
        {
          "output_type": "stream",
          "name": "stdout",
          "text": [
            "| epoch   2 | 22500/58601 batches | loss    1.648 \n",
            "women: about, stories, the, african, youth, people, working, she, her, author\n",
            "men: justice, people, ranging, the, make, them, will, also, women, to\n",
            "nurse: practitioner, nursing, honors, affiliated, graduated, specialists, experience, doctors, medical, hospital\n",
            "doctor: college, from, of, degree, earned, bachelor, implant, member, obtained, in\n",
            "engineer: software, engineering, computer, systems, prior, technical, electrical, technology, phd, worked\n",
            "teacher: teachers, education, students, teaching, coordinator, schools, teaches, a, taught, for\n",
            "dietitian: with, nutrition, specialists, experience, hospitals, nurse, registered, diverse, honors, practitioner\n",
            "\n",
            "\n"
          ]
        },
        {
          "output_type": "stream",
          "name": "stderr",
          "text": [
            "23012it [01:33, 231.94it/s]"
          ]
        },
        {
          "output_type": "stream",
          "name": "stdout",
          "text": [
            "| epoch   2 | 23000/58601 batches | loss    1.647 \n",
            "women: about, stories, african, the, youth, working, people, her, culture, author\n",
            "men: justice, people, ranging, make, them, will, women, the, also, of\n",
            "nurse: practitioner, nursing, honors, affiliated, graduated, experience, specialists, doctors, medical, hospitals\n",
            "doctor: college, from, of, bachelor, earned, degree, implant, member, obtained, in\n",
            "engineer: software, engineering, computer, systems, prior, technical, electrical, technology, phd, worked\n",
            "teacher: teachers, education, students, teaching, coordinator, schools, teaches, a, for, taught\n",
            "dietitian: with, nutrition, specialists, experience, hospitals, nurse, registered, diverse, honors, practitioner\n",
            "\n",
            "\n"
          ]
        },
        {
          "output_type": "stream",
          "name": "stderr",
          "text": [
            "23523it [01:35, 223.14it/s]"
          ]
        },
        {
          "output_type": "stream",
          "name": "stdout",
          "text": [
            "| epoch   2 | 23500/58601 batches | loss    1.646 \n",
            "women: about, stories, the, african, working, youth, people, her, she, culture\n",
            "men: justice, people, ranging, make, them, will, to, also, women, of\n",
            "nurse: practitioner, nursing, honors, affiliated, graduated, experience, specialists, doctors, hospital, hospitals\n",
            "doctor: college, from, of, earned, bachelor, degree, implant, member, obtained, association\n",
            "engineer: software, engineering, computer, systems, prior, technical, electrical, technology, worked, phd\n",
            "teacher: teachers, education, students, teaching, coordinator, schools, teaches, courses, taught, for\n",
            "dietitian: with, nutrition, specialists, experience, hospitals, nurse, registered, diverse, honors, practitioner\n",
            "\n",
            "\n"
          ]
        },
        {
          "output_type": "stream",
          "name": "stderr",
          "text": [
            "24032it [01:37, 221.65it/s]"
          ]
        },
        {
          "output_type": "stream",
          "name": "stdout",
          "text": [
            "| epoch   2 | 24000/58601 batches | loss    1.650 \n",
            "women: about, stories, african, working, the, youth, people, her, she, culture\n",
            "men: justice, people, ranging, make, them, will, of, women, the, also\n",
            "nurse: practitioner, nursing, honors, affiliated, graduated, specialists, experience, doctors, hospital, medical\n",
            "doctor: college, from, of, earned, bachelor, degree, implant, member, obtained, association\n",
            "engineer: software, engineering, computer, systems, prior, technical, electrical, technology, worked, phd\n",
            "teacher: teachers, education, students, teaching, coordinator, schools, teaches, courses, for, taught\n",
            "dietitian: with, nutrition, specialists, experience, hospitals, nurse, registered, diverse, honors, practitioner\n",
            "\n",
            "\n"
          ]
        },
        {
          "output_type": "stream",
          "name": "stderr",
          "text": [
            "24521it [01:39, 222.36it/s]"
          ]
        },
        {
          "output_type": "stream",
          "name": "stdout",
          "text": [
            "| epoch   2 | 24500/58601 batches | loss    1.651 \n",
            "women: about, stories, african, working, youth, people, her, the, she, culture\n",
            "men: justice, people, ranging, make, them, will, the, of, women, to\n",
            "nurse: practitioner, nursing, honors, affiliated, graduated, experience, specialists, doctors, hospital, hospitals\n",
            "doctor: college, from, of, earned, bachelor, degree, implant, in, member, obtained\n",
            "engineer: software, engineering, computer, systems, prior, technical, electrical, technology, worked, phd\n",
            "teacher: teachers, education, students, teaching, coordinator, schools, teaches, a, courses, taught\n",
            "dietitian: with, nutrition, specialists, experience, hospitals, nurse, registered, diverse, honors, practitioner\n",
            "\n",
            "\n"
          ]
        },
        {
          "output_type": "stream",
          "name": "stderr",
          "text": [
            "25033it [01:41, 226.74it/s]"
          ]
        },
        {
          "output_type": "stream",
          "name": "stdout",
          "text": [
            "| epoch   2 | 25000/58601 batches | loss    1.650 \n",
            "women: about, stories, african, working, youth, people, she, her, culture, author\n",
            "men: justice, people, ranging, make, them, will, the, to, women, also\n",
            "nurse: practitioner, nursing, honors, affiliated, experience, graduated, specialists, doctors, medical, hospital\n",
            "doctor: college, from, of, earned, bachelor, degree, implant, university, member, obtained\n",
            "engineer: software, engineering, computer, systems, prior, technical, electrical, technology, worked, phd\n",
            "teacher: teachers, education, students, teaching, coordinator, schools, teaches, a, courses, taught\n",
            "dietitian: with, nutrition, specialists, experience, hospitals, nurse, registered, diverse, honors, practitioner\n",
            "\n",
            "\n"
          ]
        },
        {
          "output_type": "stream",
          "name": "stderr",
          "text": [
            "25520it [01:43, 225.57it/s]"
          ]
        },
        {
          "output_type": "stream",
          "name": "stdout",
          "text": [
            "| epoch   2 | 25500/58601 batches | loss    1.652 \n",
            "women: about, the, stories, african, working, she, youth, people, her, culture\n",
            "men: justice, people, ranging, the, make, them, will, to, women, also\n",
            "nurse: practitioner, nursing, honors, affiliated, experience, graduated, specialists, doctors, hospital, medical\n",
            "doctor: college, from, of, earned, bachelor, degree, implant, in, obtained, member\n",
            "engineer: software, engineering, computer, systems, prior, technical, electrical, technology, worked, phd\n",
            "teacher: teachers, education, students, teaching, coordinator, schools, a, teaches, courses, for\n",
            "dietitian: with, nutrition, specialists, experience, hospitals, nurse, registered, diverse, honors, psychologist\n",
            "\n",
            "\n"
          ]
        },
        {
          "output_type": "stream",
          "name": "stderr",
          "text": [
            "26029it [01:45, 228.11it/s]"
          ]
        },
        {
          "output_type": "stream",
          "name": "stdout",
          "text": [
            "| epoch   2 | 26000/58601 batches | loss    1.645 \n",
            "women: about, stories, african, she, working, the, youth, people, her, author\n",
            "men: justice, people, the, ranging, make, them, will, to, women, about\n",
            "nurse: practitioner, nursing, honors, affiliated, graduated, experience, specialists, hospital, doctors, medical\n",
            "doctor: college, from, earned, of, bachelor, degree, implant, obtained, member, oral\n",
            "engineer: software, engineering, computer, systems, prior, technical, electrical, phd, technology, worked\n",
            "teacher: teachers, education, students, teaching, coordinator, schools, a, teaches, for, courses\n",
            "dietitian: with, nutrition, specialists, experience, hospitals, nurse, registered, diverse, honors, psychologist\n",
            "\n",
            "\n"
          ]
        },
        {
          "output_type": "stream",
          "name": "stderr",
          "text": [
            "26518it [01:47, 228.33it/s]"
          ]
        },
        {
          "output_type": "stream",
          "name": "stdout",
          "text": [
            "| epoch   2 | 26500/58601 batches | loss    1.650 \n",
            "women: about, african, stories, the, she, working, youth, people, author, culture\n",
            "men: the, justice, people, ranging, make, will, them, to, women, about\n",
            "nurse: practitioner, nursing, honors, affiliated, experience, graduated, specialists, doctors, hospital, medical\n",
            "doctor: college, from, earned, bachelor, degree, implant, of, obtained, in, university\n",
            "engineer: software, engineering, computer, systems, prior, technical, electrical, technology, phd, worked\n",
            "teacher: teachers, education, students, teaching, coordinator, schools, teaches, a, courses, writing\n",
            "dietitian: with, nutrition, specialists, experience, hospitals, nurse, registered, diverse, honors, psychologist\n",
            "\n",
            "\n"
          ]
        },
        {
          "output_type": "stream",
          "name": "stderr",
          "text": [
            "27027it [01:49, 218.80it/s]"
          ]
        },
        {
          "output_type": "stream",
          "name": "stdout",
          "text": [
            "| epoch   2 | 27000/58601 batches | loss    1.653 \n",
            "women: about, african, stories, she, the, working, youth, people, author, her\n",
            "men: the, justice, people, ranging, make, will, them, to, women, also\n",
            "nurse: practitioner, nursing, honors, affiliated, experience, graduated, specialists, doctors, hospital, hospitals\n",
            "doctor: college, from, earned, bachelor, of, degree, implant, obtained, oral, member\n",
            "engineer: software, engineering, computer, systems, prior, technical, electrical, technology, phd, worked\n",
            "teacher: teachers, education, students, teaching, coordinator, schools, teaches, courses, taught, writing\n",
            "dietitian: with, nutrition, experience, specialists, hospitals, nurse, registered, diverse, honors, psychologist\n",
            "\n",
            "\n"
          ]
        },
        {
          "output_type": "stream",
          "name": "stderr",
          "text": [
            "27537it [01:51, 230.25it/s]"
          ]
        },
        {
          "output_type": "stream",
          "name": "stdout",
          "text": [
            "| epoch   2 | 27500/58601 batches | loss    1.648 \n",
            "women: about, stories, african, working, she, her, youth, the, people, author\n",
            "men: the, justice, people, ranging, make, them, will, women, also, about\n",
            "nurse: practitioner, nursing, honors, affiliated, graduated, experience, specialists, hospital, doctors, hospitals\n",
            "doctor: college, from, earned, bachelor, degree, implant, of, member, association, obtained\n",
            "engineer: software, engineering, computer, systems, technical, prior, electrical, technology, phd, worked\n",
            "teacher: teachers, education, students, teaching, coordinator, schools, teaches, courses, writing, taught\n",
            "dietitian: with, nutrition, experience, specialists, hospitals, nurse, registered, diverse, honors, practitioner\n",
            "\n",
            "\n"
          ]
        },
        {
          "output_type": "stream",
          "name": "stderr",
          "text": [
            "28023it [01:53, 218.96it/s]"
          ]
        },
        {
          "output_type": "stream",
          "name": "stdout",
          "text": [
            "| epoch   2 | 28000/58601 batches | loss    1.648 \n",
            "women: about, african, stories, working, youth, her, people, she, author, culture\n",
            "men: justice, the, people, ranging, make, them, will, also, women, about\n",
            "nurse: practitioner, nursing, honors, affiliated, graduated, experience, specialists, hospital, doctors, hospitals\n",
            "doctor: from, college, earned, degree, of, bachelor, implant, member, association, obtained\n",
            "engineer: software, engineering, computer, systems, prior, technical, electrical, technology, phd, worked\n",
            "teacher: teachers, education, students, teaching, coordinator, schools, teaches, writing, courses, taught\n",
            "dietitian: with, nutrition, experience, specialists, hospitals, nurse, registered, diverse, honors, practitioner\n",
            "\n",
            "\n"
          ]
        },
        {
          "output_type": "stream",
          "name": "stderr",
          "text": [
            "28535it [01:55, 230.41it/s]"
          ]
        },
        {
          "output_type": "stream",
          "name": "stdout",
          "text": [
            "| epoch   2 | 28500/58601 batches | loss    1.642 \n",
            "women: about, african, stories, working, youth, she, her, the, people, culture\n",
            "men: justice, the, people, ranging, make, them, will, women, also, about\n",
            "nurse: practitioner, nursing, honors, affiliated, graduated, experience, specialists, hospital, doctors, medical\n",
            "doctor: from, college, of, earned, degree, bachelor, implant, member, in, university\n",
            "engineer: software, engineering, computer, systems, prior, technical, electrical, technology, phd, worked\n",
            "teacher: teachers, education, students, teaching, coordinator, schools, teaches, writing, courses, taught\n",
            "dietitian: with, nutrition, experience, specialists, hospitals, nurse, registered, diverse, honors, practitioner\n",
            "\n",
            "\n"
          ]
        },
        {
          "output_type": "stream",
          "name": "stderr",
          "text": [
            "29022it [01:57, 223.61it/s]"
          ]
        },
        {
          "output_type": "stream",
          "name": "stdout",
          "text": [
            "| epoch   2 | 29000/58601 batches | loss    1.647 \n",
            "women: about, african, stories, working, her, youth, people, she, the, culture\n",
            "men: the, justice, people, ranging, make, them, will, women, also, to\n",
            "nurse: practitioner, nursing, honors, affiliated, graduated, specialists, experience, hospital, doctors, medical\n",
            "doctor: college, of, from, earned, degree, bachelor, implant, in, member, obtained\n",
            "engineer: software, engineering, computer, systems, prior, technical, electrical, technology, worked, phd\n",
            "teacher: teachers, education, students, teaching, coordinator, schools, teaches, writing, courses, taught\n",
            "dietitian: with, nutrition, specialists, experience, hospitals, nurse, registered, diverse, honors, practitioner\n",
            "\n",
            "\n"
          ]
        },
        {
          "output_type": "stream",
          "name": "stderr",
          "text": [
            "29534it [01:59, 228.38it/s]"
          ]
        },
        {
          "output_type": "stream",
          "name": "stdout",
          "text": [
            "| epoch   2 | 29500/58601 batches | loss    1.642 \n",
            "women: about, african, stories, working, the, youth, she, people, her, culture\n",
            "men: justice, the, people, ranging, and, make, them, will, women, also\n",
            "nurse: practitioner, nursing, honors, affiliated, graduated, experience, specialists, hospital, doctors, medical\n",
            "doctor: of, college, from, earned, degree, bachelor, in, implant, member, obtained\n",
            "engineer: software, engineering, computer, systems, prior, technical, electrical, technology, worked, design\n",
            "teacher: teachers, education, students, teaching, coordinator, schools, teaches, writing, courses, has\n",
            "dietitian: with, nutrition, experience, specialists, nurse, hospitals, registered, honors, diverse, practitioner\n",
            "\n",
            "\n"
          ]
        },
        {
          "output_type": "stream",
          "name": "stderr",
          "text": [
            "30019it [02:01, 208.19it/s]"
          ]
        },
        {
          "output_type": "stream",
          "name": "stdout",
          "text": [
            "| epoch   2 | 30000/58601 batches | loss    1.648 \n",
            "women: about, african, stories, working, youth, her, people, she, culture, author\n",
            "men: justice, people, the, ranging, and, make, them, will, also, to\n",
            "nurse: practitioner, nursing, honors, affiliated, graduated, experience, specialists, hospital, medical, doctors\n",
            "doctor: of, college, from, degree, earned, bachelor, in, implant, member, obtained\n",
            "engineer: software, engineering, computer, systems, prior, technical, electrical, technology, worked, design\n",
            "teacher: teachers, education, students, teaching, coordinator, schools, teaches, has, taught, courses\n",
            "dietitian: with, nutrition, experience, specialists, hospitals, nurse, registered, honors, diverse, practitioner\n",
            "\n",
            "\n"
          ]
        },
        {
          "output_type": "stream",
          "name": "stderr",
          "text": [
            "30530it [02:03, 230.06it/s]"
          ]
        },
        {
          "output_type": "stream",
          "name": "stdout",
          "text": [
            "| epoch   2 | 30500/58601 batches | loss    1.646 \n",
            "women: about, african, stories, working, youth, she, people, her, the, culture\n",
            "men: justice, people, ranging, the, make, them, and, will, to, also\n",
            "nurse: practitioner, nursing, honors, affiliated, graduated, experience, specialists, hospital, medical, doctors\n",
            "doctor: college, from, of, earned, degree, bachelor, in, implant, member, oral\n",
            "engineer: software, engineering, computer, systems, prior, technical, electrical, technology, worked, phd\n",
            "teacher: teachers, education, students, teaching, coordinator, schools, teaches, has, taught, courses\n",
            "dietitian: with, nutrition, experience, specialists, hospitals, nurse, honors, registered, diverse, practitioner\n",
            "\n",
            "\n"
          ]
        },
        {
          "output_type": "stream",
          "name": "stderr",
          "text": [
            "31015it [02:04, 221.67it/s]"
          ]
        },
        {
          "output_type": "stream",
          "name": "stdout",
          "text": [
            "| epoch   2 | 31000/58601 batches | loss    1.648 \n",
            "women: about, african, stories, working, the, youth, she, people, her, culture\n",
            "men: justice, people, ranging, the, make, and, them, will, also, women\n",
            "nurse: practitioner, nursing, honors, affiliated, graduated, experience, specialists, medical, hospital, doctors\n",
            "doctor: college, from, of, degree, earned, bachelor, in, implant, member, university\n",
            "engineer: software, engineering, computer, systems, prior, technical, electrical, technology, worked, phd\n",
            "teacher: teachers, education, students, teaching, coordinator, schools, teaches, has, taught, courses\n",
            "dietitian: with, nutrition, experience, specialists, hospitals, nurse, honors, registered, practitioner, diverse\n",
            "\n",
            "\n"
          ]
        },
        {
          "output_type": "stream",
          "name": "stderr",
          "text": [
            "31526it [02:06, 221.53it/s]"
          ]
        },
        {
          "output_type": "stream",
          "name": "stdout",
          "text": [
            "| epoch   2 | 31500/58601 batches | loss    1.645 \n",
            "women: about, african, stories, working, youth, people, her, the, she, culture\n",
            "men: justice, people, ranging, the, make, them, will, to, women, also\n",
            "nurse: practitioner, nursing, honors, affiliated, graduated, experience, specialists, hospital, doctors, medical\n",
            "doctor: college, from, in, earned, of, degree, bachelor, implant, member, university\n",
            "engineer: software, engineering, computer, systems, prior, technical, electrical, technology, phd, design\n",
            "teacher: teachers, education, students, teaching, coordinator, schools, teaches, has, courses, taught\n",
            "dietitian: with, nutrition, experience, specialists, hospitals, nurse, honors, registered, practitioner, diverse\n",
            "\n",
            "\n"
          ]
        },
        {
          "output_type": "stream",
          "name": "stderr",
          "text": [
            "32034it [02:09, 225.77it/s]"
          ]
        },
        {
          "output_type": "stream",
          "name": "stdout",
          "text": [
            "| epoch   2 | 32000/58601 batches | loss    1.648 \n",
            "women: about, african, stories, working, she, youth, people, the, her, culture\n",
            "men: justice, people, the, ranging, make, them, will, to, and, also\n",
            "nurse: practitioner, nursing, honors, affiliated, graduated, experience, specialists, hospital, doctors, hospitals\n",
            "doctor: college, from, of, earned, degree, in, bachelor, implant, member, university\n",
            "engineer: software, engineering, computer, systems, prior, technical, electrical, technology, phd, worked\n",
            "teacher: teachers, education, students, teaching, coordinator, schools, teaches, taught, has, courses\n",
            "dietitian: with, nutrition, experience, specialists, hospitals, nurse, honors, registered, practitioner, diverse\n",
            "\n",
            "\n"
          ]
        },
        {
          "output_type": "stream",
          "name": "stderr",
          "text": [
            "32526it [02:10, 226.61it/s]"
          ]
        },
        {
          "output_type": "stream",
          "name": "stdout",
          "text": [
            "| epoch   2 | 32500/58601 batches | loss    1.650 \n",
            "women: about, the, stories, african, working, she, youth, people, her, culture\n",
            "men: the, justice, people, ranging, make, will, them, to, women, also\n",
            "nurse: practitioner, nursing, honors, affiliated, graduated, specialists, experience, hospital, doctors, hospitals\n",
            "doctor: college, of, earned, from, in, bachelor, degree, implant, member, university\n",
            "engineer: software, engineering, computer, systems, prior, technical, electrical, technology, phd, worked\n",
            "teacher: teachers, education, students, teaching, coordinator, schools, teaches, taught, courses, writing\n",
            "dietitian: with, nutrition, experience, specialists, hospitals, nurse, honors, registered, practitioner, diverse\n",
            "\n",
            "\n"
          ]
        },
        {
          "output_type": "stream",
          "name": "stderr",
          "text": [
            "33035it [02:12, 228.23it/s]"
          ]
        },
        {
          "output_type": "stream",
          "name": "stdout",
          "text": [
            "| epoch   2 | 33000/58601 batches | loss    1.647 \n",
            "women: about, the, african, stories, she, working, youth, people, culture, her\n",
            "men: the, justice, people, ranging, make, and, them, will, to, women\n",
            "nurse: practitioner, nursing, honors, affiliated, graduated, experience, specialists, hospital, doctors, medical\n",
            "doctor: college, from, of, in, earned, bachelor, degree, implant, university, member\n",
            "engineer: software, engineering, computer, systems, technical, prior, electrical, technology, worked, design\n",
            "teacher: teachers, education, students, teaching, coordinator, schools, teaches, taught, courses, writing\n",
            "dietitian: with, nutrition, experience, specialists, hospitals, nurse, honors, registered, practitioner, diverse\n",
            "\n",
            "\n"
          ]
        },
        {
          "output_type": "stream",
          "name": "stderr",
          "text": [
            "33523it [02:14, 217.49it/s]"
          ]
        },
        {
          "output_type": "stream",
          "name": "stdout",
          "text": [
            "| epoch   2 | 33500/58601 batches | loss    1.649 \n",
            "women: about, stories, african, the, she, working, youth, people, her, culture\n",
            "men: justice, people, ranging, the, make, them, will, to, also, women\n",
            "nurse: practitioner, nursing, honors, affiliated, graduated, specialists, experience, hospital, doctors, hospitals\n",
            "doctor: college, from, earned, of, bachelor, degree, university, implant, member, in\n",
            "engineer: software, engineering, computer, systems, technical, prior, electrical, technology, worked, design\n",
            "teacher: teachers, education, students, teaching, coordinator, schools, teaches, taught, courses, writing\n",
            "dietitian: with, nutrition, experience, specialists, hospitals, nurse, honors, registered, practitioner, diverse\n",
            "\n",
            "\n"
          ]
        },
        {
          "output_type": "stream",
          "name": "stderr",
          "text": [
            "34013it [02:16, 234.94it/s]"
          ]
        },
        {
          "output_type": "stream",
          "name": "stdout",
          "text": [
            "| epoch   2 | 34000/58601 batches | loss    1.651 \n",
            "women: about, stories, the, she, african, working, youth, people, culture, america\n",
            "men: justice, people, the, ranging, make, them, will, to, women, also\n",
            "nurse: practitioner, nursing, honors, affiliated, experience, specialists, graduated, hospital, doctors, hospitals\n",
            "doctor: college, from, degree, earned, bachelor, of, implant, member, a, university\n",
            "engineer: software, engineering, computer, systems, technical, prior, electrical, technology, worked, design\n",
            "teacher: teachers, education, students, teaching, coordinator, schools, teaches, taught, courses, has\n",
            "dietitian: with, nutrition, experience, specialists, hospitals, nurse, honors, registered, practitioner, diverse\n",
            "\n",
            "\n"
          ]
        },
        {
          "output_type": "stream",
          "name": "stderr",
          "text": [
            "34526it [02:18, 230.64it/s]"
          ]
        },
        {
          "output_type": "stream",
          "name": "stdout",
          "text": [
            "| epoch   2 | 34500/58601 batches | loss    1.645 \n",
            "women: about, stories, she, the, african, working, youth, people, her, culture\n",
            "men: justice, people, ranging, the, make, them, will, women, to, also\n",
            "nurse: practitioner, nursing, honors, affiliated, experience, graduated, specialists, hospital, doctors, medical\n",
            "doctor: college, from, earned, degree, bachelor, of, implant, member, oral, obtained\n",
            "engineer: software, engineering, computer, systems, technical, prior, electrical, technology, worked, design\n",
            "teacher: teachers, education, students, teaching, coordinator, schools, teaches, has, taught, courses\n",
            "dietitian: with, nutrition, experience, specialists, hospitals, nurse, honors, registered, practitioner, diverse\n",
            "\n",
            "\n"
          ]
        },
        {
          "output_type": "stream",
          "name": "stderr",
          "text": [
            "35033it [02:20, 224.40it/s]"
          ]
        },
        {
          "output_type": "stream",
          "name": "stdout",
          "text": [
            "| epoch   2 | 35000/58601 batches | loss    1.649 \n",
            "women: about, the, stories, african, she, youth, working, people, her, america\n",
            "men: justice, people, the, ranging, make, them, to, will, also, youth\n",
            "nurse: practitioner, nursing, honors, affiliated, experience, graduated, specialists, hospital, doctors, hospitals\n",
            "doctor: college, from, degree, earned, bachelor, implant, of, a, member, oral\n",
            "engineer: software, engineering, computer, systems, technical, prior, electrical, technology, worked, design\n",
            "teacher: teachers, education, teaching, students, coordinator, schools, teaches, taught, courses, high\n",
            "dietitian: with, nutrition, specialists, experience, hospitals, nurse, honors, registered, diverse, practitioner\n",
            "\n",
            "\n"
          ]
        },
        {
          "output_type": "stream",
          "name": "stderr",
          "text": [
            "35519it [02:22, 204.22it/s]"
          ]
        },
        {
          "output_type": "stream",
          "name": "stdout",
          "text": [
            "| epoch   2 | 35500/58601 batches | loss    1.649 \n",
            "women: about, the, stories, she, african, youth, working, people, america, culture\n",
            "men: justice, people, ranging, the, to, make, them, will, of, which\n",
            "nurse: practitioner, nursing, honors, affiliated, experience, graduated, specialists, hospital, doctors, hospitals\n",
            "doctor: college, from, degree, earned, bachelor, in, of, implant, member, obtained\n",
            "engineer: software, engineering, computer, systems, technical, prior, electrical, technology, phd, worked\n",
            "teacher: teachers, education, teaching, students, coordinator, schools, teaches, courses, taught, writing\n",
            "dietitian: with, nutrition, specialists, experience, hospitals, nurse, honors, diverse, registered, practitioner\n",
            "\n",
            "\n"
          ]
        },
        {
          "output_type": "stream",
          "name": "stderr",
          "text": [
            "36023it [02:24, 222.46it/s]"
          ]
        },
        {
          "output_type": "stream",
          "name": "stdout",
          "text": [
            "| epoch   2 | 36000/58601 batches | loss    1.645 \n",
            "women: about, stories, african, the, she, youth, people, working, her, america\n",
            "men: justice, people, ranging, make, them, the, to, will, also, which\n",
            "nurse: practitioner, nursing, honors, affiliated, experience, specialists, graduated, hospital, doctors, hospitals\n",
            "doctor: college, from, degree, earned, of, in, bachelor, implant, member, obtained\n",
            "engineer: software, engineering, computer, systems, technical, prior, electrical, technology, phd, worked\n",
            "teacher: teachers, education, teaching, students, coordinator, schools, teaches, taught, courses, has\n",
            "dietitian: with, nutrition, experience, specialists, hospitals, nurse, honors, registered, diverse, practitioner\n",
            "\n",
            "\n"
          ]
        },
        {
          "output_type": "stream",
          "name": "stderr",
          "text": [
            "36536it [02:26, 230.08it/s]"
          ]
        },
        {
          "output_type": "stream",
          "name": "stdout",
          "text": [
            "| epoch   2 | 36500/58601 batches | loss    1.647 \n",
            "women: about, stories, african, she, youth, people, the, working, her, culture\n",
            "men: justice, people, ranging, make, the, them, also, which, to, will\n",
            "nurse: practitioner, nursing, honors, affiliated, experience, specialists, graduated, hospital, doctors, hospitals\n",
            "doctor: from, college, of, degree, in, earned, bachelor, implant, member, obtained\n",
            "engineer: software, engineering, computer, systems, technical, prior, electrical, technology, phd, worked\n",
            "teacher: teachers, education, students, teaching, coordinator, schools, teaches, taught, courses, writing\n",
            "dietitian: nutrition, with, specialists, experience, hospitals, nurse, honors, registered, diverse, practitioner\n",
            "\n",
            "\n"
          ]
        },
        {
          "output_type": "stream",
          "name": "stderr",
          "text": [
            "37021it [02:28, 227.95it/s]"
          ]
        },
        {
          "output_type": "stream",
          "name": "stdout",
          "text": [
            "| epoch   2 | 37000/58601 batches | loss    1.641 \n",
            "women: about, stories, the, african, she, youth, people, working, her, culture\n",
            "men: justice, people, ranging, make, them, the, which, also, to, will\n",
            "nurse: practitioner, nursing, honors, affiliated, experience, specialists, graduated, hospital, doctors, hospitals\n",
            "doctor: college, from, of, degree, in, earned, bachelor, implant, member, obtained\n",
            "engineer: software, engineering, computer, systems, prior, technical, electrical, technology, phd, worked\n",
            "teacher: teachers, education, teaching, students, coordinator, schools, teaches, taught, courses, high\n",
            "dietitian: nutrition, with, specialists, experience, hospitals, nurse, honors, registered, diverse, practitioner\n",
            "\n",
            "\n"
          ]
        },
        {
          "output_type": "stream",
          "name": "stderr",
          "text": [
            "37534it [02:30, 231.42it/s]"
          ]
        },
        {
          "output_type": "stream",
          "name": "stdout",
          "text": [
            "| epoch   2 | 37500/58601 batches | loss    1.649 \n",
            "women: about, stories, african, she, youth, people, working, the, her, culture\n",
            "men: justice, people, ranging, make, them, also, which, the, to, will\n",
            "nurse: practitioner, nursing, honors, affiliated, experience, graduated, specialists, hospital, hospitals, doctors\n",
            "doctor: from, college, of, degree, earned, bachelor, in, implant, obtained, member\n",
            "engineer: software, engineering, computer, systems, prior, technical, electrical, technology, worked, phd\n",
            "teacher: teachers, education, teaching, students, coordinator, schools, teaches, has, high, taught\n",
            "dietitian: nutrition, with, experience, specialists, hospitals, nurse, honors, registered, diverse, practitioner\n",
            "\n",
            "\n"
          ]
        },
        {
          "output_type": "stream",
          "name": "stderr",
          "text": [
            "38024it [02:32, 220.95it/s]"
          ]
        },
        {
          "output_type": "stream",
          "name": "stdout",
          "text": [
            "| epoch   2 | 38000/58601 batches | loss    1.646 \n",
            "women: about, stories, african, she, her, youth, people, the, working, culture\n",
            "men: justice, people, ranging, make, them, which, also, the, will, to\n",
            "nurse: practitioner, nursing, honors, affiliated, experience, specialists, graduated, hospital, hospitals, doctors\n",
            "doctor: from, college, degree, of, earned, bachelor, in, implant, university, member\n",
            "engineer: software, engineering, computer, systems, prior, technical, electrical, technology, worked, phd\n",
            "teacher: teachers, education, teaching, students, coordinator, schools, teaches, has, taught, courses\n",
            "dietitian: nutrition, with, experience, specialists, nurse, hospitals, honors, registered, diverse, practitioner\n",
            "\n",
            "\n"
          ]
        },
        {
          "output_type": "stream",
          "name": "stderr",
          "text": [
            "38506it [02:34, 224.39it/s]"
          ]
        },
        {
          "output_type": "stream",
          "name": "stdout",
          "text": [
            "| epoch   2 | 38500/58601 batches | loss    1.646 \n",
            "women: about, stories, african, she, her, the, youth, people, working, culture\n",
            "men: justice, people, ranging, make, them, which, also, the, to, will\n",
            "nurse: practitioner, nursing, honors, affiliated, experience, specialists, graduated, hospital, doctors, hospitals\n",
            "doctor: from, college, degree, of, earned, bachelor, in, university, implant, member\n",
            "engineer: software, engineering, computer, systems, technical, prior, electrical, technology, worked, phd\n",
            "teacher: teachers, education, teaching, students, coordinator, schools, teaches, has, taught, high\n",
            "dietitian: nutrition, with, specialists, experience, nurse, hospitals, honors, registered, diverse, practitioner\n",
            "\n",
            "\n"
          ]
        },
        {
          "output_type": "stream",
          "name": "stderr",
          "text": [
            "39014it [02:36, 231.46it/s]"
          ]
        },
        {
          "output_type": "stream",
          "name": "stdout",
          "text": [
            "| epoch   2 | 39000/58601 batches | loss    1.644 \n",
            "women: about, stories, she, african, her, people, youth, working, the, culture\n",
            "men: justice, people, ranging, make, to, them, which, also, will, women\n",
            "nurse: practitioner, nursing, honors, affiliated, experience, graduated, specialists, hospital, doctors, hospitals\n",
            "doctor: from, college, degree, of, earned, bachelor, in, university, implant, member\n",
            "engineer: software, engineering, computer, systems, technical, prior, electrical, technology, worked, phd\n",
            "teacher: teachers, education, students, teaching, coordinator, schools, teaches, has, taught, courses\n",
            "dietitian: nutrition, with, specialists, experience, nurse, hospitals, honors, registered, diverse, practitioner\n",
            "\n",
            "\n"
          ]
        },
        {
          "output_type": "stream",
          "name": "stderr",
          "text": [
            "39522it [02:38, 223.88it/s]"
          ]
        },
        {
          "output_type": "stream",
          "name": "stdout",
          "text": [
            "| epoch   2 | 39500/58601 batches | loss    1.647 \n",
            "women: about, she, stories, the, african, her, people, youth, working, culture\n",
            "men: justice, people, ranging, the, to, make, them, also, which, will\n",
            "nurse: practitioner, nursing, honors, affiliated, experience, graduated, specialists, hospital, doctors, hospitals\n",
            "doctor: from, college, degree, of, earned, bachelor, in, university, implant, member\n",
            "engineer: software, engineering, computer, systems, prior, technical, electrical, technology, worked, phd\n",
            "teacher: teachers, education, students, teaching, coordinator, schools, teaches, taught, courses, high\n",
            "dietitian: nutrition, with, specialists, experience, nurse, hospitals, honors, registered, diverse, practitioner\n",
            "\n",
            "\n"
          ]
        },
        {
          "output_type": "stream",
          "name": "stderr",
          "text": [
            "40031it [02:40, 226.44it/s]"
          ]
        },
        {
          "output_type": "stream",
          "name": "stdout",
          "text": [
            "| epoch   2 | 40000/58601 batches | loss    1.647 \n",
            "women: about, stories, the, she, her, african, people, youth, working, culture\n",
            "men: justice, people, ranging, the, to, make, them, which, also, will\n",
            "nurse: practitioner, nursing, honors, affiliated, experience, specialists, graduated, hospital, doctors, hospitals\n",
            "doctor: from, college, degree, earned, of, bachelor, in, implant, university, member\n",
            "engineer: software, engineering, computer, systems, technical, prior, electrical, technology, worked, phd\n",
            "teacher: teachers, education, students, teaching, coordinator, schools, teaches, taught, courses, high\n",
            "dietitian: nutrition, with, specialists, experience, nurse, honors, hospitals, registered, diverse, practitioner\n",
            "\n",
            "\n"
          ]
        },
        {
          "output_type": "stream",
          "name": "stderr",
          "text": [
            "40525it [02:42, 225.60it/s]"
          ]
        },
        {
          "output_type": "stream",
          "name": "stdout",
          "text": [
            "| epoch   2 | 40500/58601 batches | loss    1.647 \n",
            "women: about, stories, the, african, she, youth, her, people, working, culture\n",
            "men: justice, people, ranging, make, the, them, which, to, will, also\n",
            "nurse: practitioner, nursing, honors, affiliated, graduated, experience, specialists, doctors, hospital, hospitals\n",
            "doctor: from, college, of, degree, earned, in, bachelor, implant, university, member\n",
            "engineer: software, engineering, computer, systems, technical, prior, electrical, technology, worked, senior\n",
            "teacher: teachers, education, students, teaching, coordinator, schools, teaches, taught, high, courses\n",
            "dietitian: nutrition, with, specialists, experience, nurse, honors, hospitals, registered, diverse, practitioner\n",
            "\n",
            "\n"
          ]
        },
        {
          "output_type": "stream",
          "name": "stderr",
          "text": [
            "41022it [02:44, 224.76it/s]"
          ]
        },
        {
          "output_type": "stream",
          "name": "stdout",
          "text": [
            "| epoch   2 | 41000/58601 batches | loss    1.647 \n",
            "women: about, stories, the, african, she, youth, her, people, working, culture\n",
            "men: justice, people, ranging, the, make, to, them, which, will, women\n",
            "nurse: practitioner, nursing, honors, affiliated, experience, graduated, specialists, doctors, hospital, hospitals\n",
            "doctor: from, of, college, degree, earned, in, bachelor, university, implant, member\n",
            "engineer: software, engineering, computer, systems, technical, prior, electrical, technology, worked, phd\n",
            "teacher: teachers, education, students, teaching, coordinator, schools, teaches, taught, high, courses\n",
            "dietitian: nutrition, with, specialists, experience, nurse, honors, hospitals, registered, diverse, psychologist\n",
            "\n",
            "\n"
          ]
        },
        {
          "output_type": "stream",
          "name": "stderr",
          "text": [
            "41531it [02:46, 221.07it/s]"
          ]
        },
        {
          "output_type": "stream",
          "name": "stdout",
          "text": [
            "| epoch   2 | 41500/58601 batches | loss    1.642 \n",
            "women: about, stories, she, african, the, her, youth, people, working, culture\n",
            "men: justice, people, ranging, the, make, which, them, will, to, women\n",
            "nurse: practitioner, nursing, honors, affiliated, experience, specialists, graduated, doctors, hospital, hospitals\n",
            "doctor: from, college, of, degree, earned, bachelor, in, member, implant, university\n",
            "engineer: software, engineering, computer, systems, technical, prior, electrical, technology, worked, senior\n",
            "teacher: teachers, education, students, teaching, coordinator, schools, teaches, taught, has, high\n",
            "dietitian: nutrition, with, specialists, experience, nurse, honors, hospitals, registered, diverse, psychologist\n",
            "\n",
            "\n"
          ]
        },
        {
          "output_type": "stream",
          "name": "stderr",
          "text": [
            "42021it [02:48, 231.84it/s]"
          ]
        },
        {
          "output_type": "stream",
          "name": "stdout",
          "text": [
            "| epoch   2 | 42000/58601 batches | loss    1.645 \n",
            "women: about, stories, she, african, her, the, people, youth, working, culture\n",
            "men: justice, people, ranging, make, the, them, which, of, will, women\n",
            "nurse: practitioner, nursing, honors, affiliated, experience, specialists, graduated, hospital, doctors, hospitals\n",
            "doctor: from, college, degree, earned, of, in, bachelor, university, implant, member\n",
            "engineer: software, engineering, computer, systems, technical, prior, electrical, technology, worked, phd\n",
            "teacher: teachers, education, students, teaching, coordinator, schools, teaches, taught, has, courses\n",
            "dietitian: nutrition, with, specialists, experience, nurse, honors, hospitals, registered, diverse, psychologist\n",
            "\n",
            "\n"
          ]
        },
        {
          "output_type": "stream",
          "name": "stderr",
          "text": [
            "42532it [02:50, 225.55it/s]"
          ]
        },
        {
          "output_type": "stream",
          "name": "stdout",
          "text": [
            "| epoch   2 | 42500/58601 batches | loss    1.640 \n",
            "women: about, she, stories, african, her, people, youth, working, the, culture\n",
            "men: justice, people, ranging, make, which, them, the, will, women, of\n",
            "nurse: practitioner, nursing, honors, affiliated, experience, specialists, graduated, hospital, doctors, medical\n",
            "doctor: from, college, degree, of, earned, bachelor, university, implant, in, obtained\n",
            "engineer: software, engineering, computer, systems, technical, prior, electrical, technology, worked, phd\n",
            "teacher: teachers, education, students, teaching, coordinator, schools, teaches, taught, has, courses\n",
            "dietitian: nutrition, with, specialists, experience, nurse, honors, hospitals, registered, diverse, psychologist\n",
            "\n",
            "\n"
          ]
        },
        {
          "output_type": "stream",
          "name": "stderr",
          "text": [
            "43017it [02:52, 223.77it/s]"
          ]
        },
        {
          "output_type": "stream",
          "name": "stdout",
          "text": [
            "| epoch   2 | 43000/58601 batches | loss    1.642 \n",
            "women: about, she, her, african, stories, youth, people, working, the, culture\n",
            "men: justice, people, ranging, make, which, them, will, women, of, youth\n",
            "nurse: practitioner, nursing, honors, affiliated, experience, specialists, graduated, hospital, doctors, medical\n",
            "doctor: from, college, degree, earned, of, in, bachelor, university, implant, member\n",
            "engineer: software, engineering, computer, systems, technical, prior, electrical, technology, worked, phd\n",
            "teacher: teachers, education, students, teaching, coordinator, schools, teaches, has, taught, writing\n",
            "dietitian: nutrition, with, specialists, experience, nurse, honors, hospitals, registered, diverse, practitioner\n",
            "\n",
            "\n"
          ]
        },
        {
          "output_type": "stream",
          "name": "stderr",
          "text": [
            "43525it [02:54, 223.72it/s]"
          ]
        },
        {
          "output_type": "stream",
          "name": "stdout",
          "text": [
            "| epoch   2 | 43500/58601 batches | loss    1.646 \n",
            "women: about, she, stories, african, her, the, people, youth, working, culture\n",
            "men: justice, people, ranging, make, which, them, women, will, of, the\n",
            "nurse: practitioner, nursing, honors, affiliated, experience, graduated, specialists, hospital, doctors, hospitals\n",
            "doctor: from, college, degree, earned, of, bachelor, in, university, implant, member\n",
            "engineer: software, engineering, computer, systems, technical, prior, electrical, technology, worked, phd\n",
            "teacher: teachers, education, students, teaching, coordinator, schools, teaches, has, taught, writing\n",
            "dietitian: nutrition, with, specialists, experience, nurse, honors, hospitals, registered, diverse, practitioner\n",
            "\n",
            "\n"
          ]
        },
        {
          "output_type": "stream",
          "name": "stderr",
          "text": [
            "44035it [02:56, 229.72it/s]"
          ]
        },
        {
          "output_type": "stream",
          "name": "stdout",
          "text": [
            "| epoch   2 | 44000/58601 batches | loss    1.644 \n",
            "women: about, african, stories, she, her, people, the, youth, working, culture\n",
            "men: justice, people, ranging, make, which, them, will, women, of, youth\n",
            "nurse: practitioner, nursing, honors, affiliated, experience, graduated, specialists, hospital, doctors, hospitals\n",
            "doctor: from, college, degree, of, earned, in, bachelor, university, implant, member\n",
            "engineer: software, engineering, computer, systems, technical, prior, electrical, technology, worked, phd\n",
            "teacher: teachers, education, students, teaching, coordinator, schools, has, teaches, taught, writing\n",
            "dietitian: nutrition, with, specialists, experience, nurse, honors, hospitals, registered, diverse, practitioner\n",
            "\n",
            "\n"
          ]
        },
        {
          "output_type": "stream",
          "name": "stderr",
          "text": [
            "44523it [02:57, 222.38it/s]"
          ]
        },
        {
          "output_type": "stream",
          "name": "stdout",
          "text": [
            "| epoch   2 | 44500/58601 batches | loss    1.647 \n",
            "women: about, her, african, stories, she, people, youth, working, the, culture\n",
            "men: justice, people, ranging, make, them, which, of, will, women, youth\n",
            "nurse: practitioner, nursing, honors, affiliated, experience, graduated, specialists, hospital, doctors, medical\n",
            "doctor: from, college, degree, of, earned, in, bachelor, university, implant, a\n",
            "engineer: software, engineering, computer, systems, prior, technical, electrical, technology, worked, phd\n",
            "teacher: teachers, education, students, teaching, coordinator, schools, has, teaches, taught, writing\n",
            "dietitian: nutrition, with, specialists, experience, nurse, honors, hospitals, registered, diverse, practitioner\n",
            "\n",
            "\n"
          ]
        },
        {
          "output_type": "stream",
          "name": "stderr",
          "text": [
            "45032it [02:59, 228.26it/s]"
          ]
        },
        {
          "output_type": "stream",
          "name": "stdout",
          "text": [
            "| epoch   2 | 45000/58601 batches | loss    1.647 \n",
            "women: about, she, stories, her, african, the, youth, working, people, culture\n",
            "men: justice, people, ranging, the, make, which, them, will, women, of\n",
            "nurse: practitioner, nursing, honors, affiliated, experience, graduated, specialists, hospital, doctors, medical\n",
            "doctor: from, college, degree, of, earned, bachelor, in, university, implant, member\n",
            "engineer: software, engineering, computer, systems, prior, technical, electrical, technology, worked, phd\n",
            "teacher: teachers, education, students, teaching, coordinator, schools, teaches, has, taught, writing\n",
            "dietitian: nutrition, with, specialists, experience, nurse, honors, hospitals, registered, diverse, practitioner\n",
            "\n",
            "\n"
          ]
        },
        {
          "output_type": "stream",
          "name": "stderr",
          "text": [
            "45519it [03:01, 228.56it/s]"
          ]
        },
        {
          "output_type": "stream",
          "name": "stdout",
          "text": [
            "| epoch   2 | 45500/58601 batches | loss    1.647 \n",
            "women: about, stories, african, she, her, people, working, youth, the, culture\n",
            "men: justice, people, ranging, the, which, make, of, them, will, women\n",
            "nurse: practitioner, nursing, honors, affiliated, graduated, specialists, hospital, experience, doctors, medical\n",
            "doctor: from, college, degree, in, earned, bachelor, university, of, implant, member\n",
            "engineer: software, engineering, computer, systems, prior, technical, electrical, technology, phd, worked\n",
            "teacher: teachers, education, students, teaching, coordinator, schools, teaches, taught, writing, high\n",
            "dietitian: nutrition, with, specialists, experience, nurse, honors, hospitals, registered, diverse, practitioner\n",
            "\n",
            "\n"
          ]
        },
        {
          "output_type": "stream",
          "name": "stderr",
          "text": [
            "46030it [03:03, 226.29it/s]"
          ]
        },
        {
          "output_type": "stream",
          "name": "stdout",
          "text": [
            "| epoch   2 | 46000/58601 batches | loss    1.645 \n",
            "women: about, she, stories, african, the, working, people, youth, her, culture\n",
            "men: justice, people, ranging, the, make, which, them, will, women, by\n",
            "nurse: practitioner, nursing, honors, affiliated, graduated, hospital, specialists, experience, doctors, medical\n",
            "doctor: from, college, degree, earned, bachelor, of, university, in, implant, member\n",
            "engineer: software, engineering, computer, prior, systems, technical, electrical, technology, worked, phd\n",
            "teacher: teachers, education, students, teaching, coordinator, schools, teaches, taught, writing, has\n",
            "dietitian: nutrition, with, specialists, experience, nurse, honors, hospitals, registered, diverse, practitioner\n",
            "\n",
            "\n"
          ]
        },
        {
          "output_type": "stream",
          "name": "stderr",
          "text": [
            "46513it [03:05, 221.67it/s]"
          ]
        },
        {
          "output_type": "stream",
          "name": "stdout",
          "text": [
            "| epoch   2 | 46500/58601 batches | loss    1.641 \n",
            "women: about, stories, african, youth, working, people, she, the, her, culture\n",
            "men: justice, the, people, ranging, make, which, them, will, women, by\n",
            "nurse: practitioner, nursing, honors, affiliated, hospital, graduated, specialists, experience, doctors, medical\n",
            "doctor: from, college, degree, earned, in, bachelor, university, of, implant, obtained\n",
            "engineer: software, engineering, computer, systems, prior, technical, electrical, technology, phd, worked\n",
            "teacher: teachers, education, students, teaching, coordinator, schools, teaches, taught, writing, high\n",
            "dietitian: nutrition, with, specialists, experience, nurse, honors, hospitals, registered, practitioner, diverse\n",
            "\n",
            "\n"
          ]
        },
        {
          "output_type": "stream",
          "name": "stderr",
          "text": [
            "47024it [03:07, 210.55it/s]"
          ]
        },
        {
          "output_type": "stream",
          "name": "stdout",
          "text": [
            "| epoch   2 | 47000/58601 batches | loss    1.647 \n",
            "women: about, african, stories, she, youth, working, the, people, her, culture\n",
            "men: justice, the, people, ranging, make, which, them, will, women, by\n",
            "nurse: practitioner, nursing, honors, affiliated, graduated, hospital, specialists, experience, doctors, medical\n",
            "doctor: from, college, of, degree, earned, bachelor, in, university, implant, member\n",
            "engineer: software, engineering, computer, prior, systems, technical, electrical, technology, phd, worked\n",
            "teacher: teachers, education, students, teaching, coordinator, schools, teaches, taught, writing, high\n",
            "dietitian: nutrition, with, experience, specialists, nurse, honors, registered, hospitals, diverse, practitioner\n",
            "\n",
            "\n"
          ]
        },
        {
          "output_type": "stream",
          "name": "stderr",
          "text": [
            "47533it [03:09, 222.84it/s]"
          ]
        },
        {
          "output_type": "stream",
          "name": "stdout",
          "text": [
            "| epoch   2 | 47500/58601 batches | loss    1.647 \n",
            "women: about, stories, african, she, the, youth, working, people, her, culture\n",
            "men: justice, the, people, ranging, make, which, them, will, women, by\n",
            "nurse: practitioner, nursing, honors, affiliated, hospital, graduated, specialists, experience, medical, doctors\n",
            "doctor: from, college, degree, earned, of, bachelor, in, university, implant, member\n",
            "engineer: software, engineering, computer, prior, systems, technical, electrical, technology, phd, worked\n",
            "teacher: teachers, education, students, teaching, coordinator, schools, teaches, taught, writing, high\n",
            "dietitian: nutrition, with, experience, specialists, nurse, honors, registered, hospitals, diverse, practitioner\n",
            "\n",
            "\n"
          ]
        },
        {
          "output_type": "stream",
          "name": "stderr",
          "text": [
            "48019it [03:11, 223.46it/s]"
          ]
        },
        {
          "output_type": "stream",
          "name": "stdout",
          "text": [
            "| epoch   2 | 48000/58601 batches | loss    1.645 \n",
            "women: about, african, stories, the, she, youth, her, people, working, and\n",
            "men: justice, people, ranging, make, which, the, them, will, women, youth\n",
            "nurse: practitioner, nursing, honors, affiliated, graduated, hospital, specialists, experience, doctors, medical\n",
            "doctor: from, college, degree, in, earned, of, bachelor, member, implant, university\n",
            "engineer: software, engineering, computer, systems, prior, technical, electrical, technology, phd, worked\n",
            "teacher: teachers, education, students, teaching, coordinator, schools, teaches, taught, writing, high\n",
            "dietitian: nutrition, with, experience, specialists, nurse, honors, registered, diverse, hospitals, practitioner\n",
            "\n",
            "\n"
          ]
        },
        {
          "output_type": "stream",
          "name": "stderr",
          "text": [
            "48526it [03:13, 228.95it/s]"
          ]
        },
        {
          "output_type": "stream",
          "name": "stdout",
          "text": [
            "| epoch   2 | 48500/58601 batches | loss    1.646 \n",
            "women: about, african, stories, she, her, youth, people, working, the, culture\n",
            "men: justice, people, ranging, make, which, them, women, will, the, by\n",
            "nurse: practitioner, nursing, honors, affiliated, graduated, hospital, specialists, experience, medical, doctors\n",
            "doctor: college, from, degree, of, earned, bachelor, in, member, implant, obtained\n",
            "engineer: software, engineering, computer, systems, technical, prior, electrical, technology, phd, worked\n",
            "teacher: teachers, education, students, teaching, coordinator, schools, teaches, writing, taught, high\n",
            "dietitian: nutrition, with, experience, specialists, nurse, honors, registered, diverse, hospitals, practitioner\n",
            "\n",
            "\n"
          ]
        },
        {
          "output_type": "stream",
          "name": "stderr",
          "text": [
            "49014it [03:15, 229.36it/s]"
          ]
        },
        {
          "output_type": "stream",
          "name": "stdout",
          "text": [
            "| epoch   2 | 49000/58601 batches | loss    1.638 \n",
            "women: about, african, stories, her, people, youth, working, she, culture, america\n",
            "men: justice, people, ranging, make, which, them, will, women, the, by\n",
            "nurse: practitioner, nursing, honors, affiliated, graduated, hospital, specialists, experience, medical, doctors\n",
            "doctor: college, from, degree, earned, of, in, bachelor, university, implant, member\n",
            "engineer: software, engineering, computer, systems, prior, technical, electrical, technology, phd, worked\n",
            "teacher: teachers, education, students, teaching, coordinator, schools, teaches, writing, taught, high\n",
            "dietitian: nutrition, with, experience, specialists, nurse, honors, registered, diverse, hospitals, practitioner\n",
            "\n",
            "\n"
          ]
        },
        {
          "output_type": "stream",
          "name": "stderr",
          "text": [
            "49529it [03:17, 227.26it/s]"
          ]
        },
        {
          "output_type": "stream",
          "name": "stdout",
          "text": [
            "| epoch   2 | 49500/58601 batches | loss    1.652 \n",
            "women: about, african, stories, her, working, people, youth, she, culture, america\n",
            "men: justice, people, ranging, make, the, them, which, women, will, by\n",
            "nurse: practitioner, nursing, honors, affiliated, graduated, hospital, specialists, experience, medical, doctors\n",
            "doctor: college, from, degree, earned, of, bachelor, in, member, implant, obtained\n",
            "engineer: software, engineering, computer, systems, prior, technical, electrical, technology, phd, worked\n",
            "teacher: teachers, education, students, teaching, coordinator, schools, teaches, writing, taught, high\n",
            "dietitian: nutrition, with, experience, specialists, nurse, honors, registered, hospitals, diverse, practitioner\n",
            "\n",
            "\n"
          ]
        },
        {
          "output_type": "stream",
          "name": "stderr",
          "text": [
            "50020it [03:19, 227.41it/s]"
          ]
        },
        {
          "output_type": "stream",
          "name": "stdout",
          "text": [
            "| epoch   2 | 50000/58601 batches | loss    1.645 \n",
            "women: about, african, stories, she, her, people, youth, working, culture, america\n",
            "men: justice, people, ranging, the, make, them, which, women, will, by\n",
            "nurse: practitioner, nursing, honors, affiliated, graduated, specialists, hospital, experience, medical, doctors\n",
            "doctor: college, from, degree, of, earned, bachelor, in, member, implant, obtained\n",
            "engineer: software, engineering, computer, systems, prior, technical, electrical, technology, worked, phd\n",
            "teacher: teachers, education, students, teaching, coordinator, schools, teaches, taught, writing, high\n",
            "dietitian: nutrition, with, experience, specialists, nurse, honors, registered, diverse, hospitals, practitioner\n",
            "\n",
            "\n"
          ]
        },
        {
          "output_type": "stream",
          "name": "stderr",
          "text": [
            "50532it [03:21, 230.69it/s]"
          ]
        },
        {
          "output_type": "stream",
          "name": "stdout",
          "text": [
            "| epoch   2 | 50500/58601 batches | loss    1.645 \n",
            "women: about, african, stories, she, her, youth, working, people, culture, america\n",
            "men: justice, people, the, ranging, make, which, them, women, will, by\n",
            "nurse: practitioner, nursing, honors, affiliated, graduated, hospital, specialists, experience, doctors, medical\n",
            "doctor: of, college, from, degree, earned, bachelor, in, member, implant, obtained\n",
            "engineer: software, engineering, computer, systems, prior, technical, electrical, technology, worked, phd\n",
            "teacher: teachers, education, students, teaching, coordinator, schools, teaches, writing, taught, has\n",
            "dietitian: nutrition, with, experience, specialists, nurse, registered, honors, diverse, hospitals, practitioner\n",
            "\n",
            "\n"
          ]
        },
        {
          "output_type": "stream",
          "name": "stderr",
          "text": [
            "51017it [03:23, 224.30it/s]"
          ]
        },
        {
          "output_type": "stream",
          "name": "stdout",
          "text": [
            "| epoch   2 | 51000/58601 batches | loss    1.646 \n",
            "women: about, african, stories, she, youth, her, working, people, a, culture\n",
            "men: justice, people, ranging, make, the, which, them, women, will, youth\n",
            "nurse: practitioner, nursing, honors, affiliated, graduated, hospital, specialists, experience, doctors, medical\n",
            "doctor: college, from, degree, of, earned, bachelor, in, member, implant, obtained\n",
            "engineer: software, engineering, computer, systems, technical, prior, electrical, technology, phd, worked\n",
            "teacher: teachers, education, students, teaching, coordinator, schools, teaches, writing, has, taught\n",
            "dietitian: nutrition, with, specialists, experience, nurse, registered, honors, diverse, hospitals, practitioner\n",
            "\n",
            "\n"
          ]
        },
        {
          "output_type": "stream",
          "name": "stderr",
          "text": [
            "51525it [03:25, 221.58it/s]"
          ]
        },
        {
          "output_type": "stream",
          "name": "stdout",
          "text": [
            "| epoch   2 | 51500/58601 batches | loss    1.646 \n",
            "women: about, she, african, stories, youth, her, working, people, culture, america\n",
            "men: justice, people, ranging, which, make, them, women, will, by, youth\n",
            "nurse: practitioner, nursing, honors, affiliated, graduated, specialists, hospital, doctors, experience, medical\n",
            "doctor: college, from, degree, of, earned, bachelor, in, member, implant, obtained\n",
            "engineer: software, engineering, computer, systems, prior, technical, electrical, technology, phd, worked\n",
            "teacher: teachers, education, students, teaching, coordinator, schools, teaches, writing, taught, has\n",
            "dietitian: nutrition, with, specialists, experience, nurse, registered, honors, hospitals, practitioner, diverse\n",
            "\n",
            "\n"
          ]
        },
        {
          "output_type": "stream",
          "name": "stderr",
          "text": [
            "52013it [03:27, 224.93it/s]"
          ]
        },
        {
          "output_type": "stream",
          "name": "stdout",
          "text": [
            "| epoch   2 | 52000/58601 batches | loss    1.639 \n",
            "women: about, she, african, stories, youth, working, her, people, culture, a\n",
            "men: justice, people, ranging, which, make, them, women, will, youth, by\n",
            "nurse: practitioner, nursing, honors, affiliated, graduated, hospital, specialists, experience, doctors, medical\n",
            "doctor: college, from, of, degree, earned, bachelor, in, member, implant, received\n",
            "engineer: software, engineering, computer, systems, prior, technical, electrical, technology, phd, worked\n",
            "teacher: teachers, education, students, teaching, coordinator, schools, has, teaches, writing, taught\n",
            "dietitian: nutrition, with, experience, specialists, nurse, registered, honors, hospitals, practitioner, diverse\n",
            "\n",
            "\n"
          ]
        },
        {
          "output_type": "stream",
          "name": "stderr",
          "text": [
            "52520it [03:29, 218.71it/s]"
          ]
        },
        {
          "output_type": "stream",
          "name": "stdout",
          "text": [
            "| epoch   2 | 52500/58601 batches | loss    1.649 \n",
            "women: about, african, stories, she, the, working, youth, people, her, culture\n",
            "men: justice, people, ranging, which, make, them, women, will, the, youth\n",
            "nurse: practitioner, nursing, honors, affiliated, graduated, specialists, hospital, medical, experience, doctors\n",
            "doctor: college, from, degree, earned, bachelor, of, member, implant, obtained, in\n",
            "engineer: software, engineering, computer, systems, technical, prior, electrical, technology, phd, worked\n",
            "teacher: teachers, education, students, teaching, coordinator, schools, has, teaches, writing, taught\n",
            "dietitian: nutrition, with, specialists, experience, nurse, registered, honors, practitioner, hospitals, diverse\n",
            "\n",
            "\n"
          ]
        },
        {
          "output_type": "stream",
          "name": "stderr",
          "text": [
            "53028it [03:31, 225.13it/s]"
          ]
        },
        {
          "output_type": "stream",
          "name": "stdout",
          "text": [
            "| epoch   2 | 53000/58601 batches | loss    1.642 \n",
            "women: about, the, african, she, stories, working, youth, people, her, culture\n",
            "men: justice, people, ranging, which, make, them, women, will, the, youth\n",
            "nurse: practitioner, nursing, honors, affiliated, graduated, specialists, hospital, medical, experience, doctors\n",
            "doctor: from, college, degree, earned, of, bachelor, in, implant, member, obtained\n",
            "engineer: software, engineering, computer, systems, technical, prior, electrical, technology, phd, operations\n",
            "teacher: teachers, education, students, teaching, coordinator, schools, teaches, writing, taught, has\n",
            "dietitian: nutrition, with, specialists, experience, nurse, registered, honors, diverse, practitioner, hospitals\n",
            "\n",
            "\n"
          ]
        },
        {
          "output_type": "stream",
          "name": "stderr",
          "text": [
            "53516it [03:33, 226.90it/s]"
          ]
        },
        {
          "output_type": "stream",
          "name": "stdout",
          "text": [
            "| epoch   2 | 53500/58601 batches | loss    1.647 \n",
            "women: about, african, the, stories, she, youth, working, people, culture, her\n",
            "men: justice, people, ranging, which, make, them, women, will, the, by\n",
            "nurse: practitioner, nursing, honors, affiliated, graduated, specialists, hospital, experience, medical, doctors\n",
            "doctor: college, from, degree, earned, of, bachelor, implant, member, obtained, received\n",
            "engineer: software, engineering, computer, systems, technical, prior, electrical, technology, phd, operations\n",
            "teacher: teachers, education, students, teaching, coordinator, schools, teaches, writing, taught, has\n",
            "dietitian: nutrition, with, experience, specialists, nurse, registered, honors, diverse, practitioner, hospitals\n",
            "\n",
            "\n"
          ]
        },
        {
          "output_type": "stream",
          "name": "stderr",
          "text": [
            "54023it [03:35, 224.35it/s]"
          ]
        },
        {
          "output_type": "stream",
          "name": "stdout",
          "text": [
            "| epoch   2 | 54000/58601 batches | loss    1.644 \n",
            "women: about, the, african, stories, working, youth, she, people, culture, her\n",
            "men: justice, people, ranging, which, them, make, will, women, the, youth\n",
            "nurse: practitioner, nursing, honors, affiliated, graduated, specialists, hospital, medical, experience, doctors\n",
            "doctor: from, college, degree, of, earned, bachelor, member, in, implant, obtained\n",
            "engineer: software, engineering, computer, systems, technical, prior, electrical, technology, phd, operations\n",
            "teacher: teachers, education, students, teaching, coordinator, schools, teaches, taught, writing, has\n",
            "dietitian: nutrition, with, experience, specialists, nurse, registered, honors, diverse, practitioner, hospitals\n",
            "\n",
            "\n"
          ]
        },
        {
          "output_type": "stream",
          "name": "stderr",
          "text": [
            "54532it [03:37, 226.57it/s]"
          ]
        },
        {
          "output_type": "stream",
          "name": "stdout",
          "text": [
            "| epoch   2 | 54500/58601 batches | loss    1.648 \n",
            "women: about, african, stories, the, working, youth, people, she, culture, middle\n",
            "men: justice, people, ranging, which, make, them, will, women, and, by\n",
            "nurse: practitioner, nursing, honors, affiliated, graduated, specialists, hospital, medical, experience, doctors\n",
            "doctor: college, from, degree, earned, bachelor, of, member, university, in, implant\n",
            "engineer: software, engineering, computer, systems, technical, prior, electrical, technology, phd, operations\n",
            "teacher: teachers, education, students, teaching, coordinator, schools, teaches, taught, writing, has\n",
            "dietitian: nutrition, with, experience, specialists, nurse, registered, honors, diverse, practitioner, hospitals\n",
            "\n",
            "\n"
          ]
        },
        {
          "output_type": "stream",
          "name": "stderr",
          "text": [
            "55021it [03:39, 222.17it/s]"
          ]
        },
        {
          "output_type": "stream",
          "name": "stdout",
          "text": [
            "| epoch   2 | 55000/58601 batches | loss    1.642 \n",
            "women: about, african, stories, working, she, people, the, youth, culture, her\n",
            "men: justice, people, ranging, which, them, make, will, women, the, by\n",
            "nurse: practitioner, nursing, honors, affiliated, graduated, specialists, hospital, medical, doctors, experience\n",
            "doctor: college, from, degree, earned, of, bachelor, in, member, university, implant\n",
            "engineer: software, engineering, computer, systems, technical, prior, electrical, technology, phd, operations\n",
            "teacher: teachers, education, students, teaching, coordinator, schools, teaches, taught, writing, has\n",
            "dietitian: nutrition, with, experience, specialists, nurse, registered, honors, diverse, practitioner, hospitals\n",
            "\n",
            "\n"
          ]
        },
        {
          "output_type": "stream",
          "name": "stderr",
          "text": [
            "55530it [03:41, 225.35it/s]"
          ]
        },
        {
          "output_type": "stream",
          "name": "stdout",
          "text": [
            "| epoch   2 | 55500/58601 batches | loss    1.641 \n",
            "women: about, african, stories, she, working, people, youth, the, culture, middle\n",
            "men: justice, people, ranging, which, make, them, will, women, the, youth\n",
            "nurse: practitioner, nursing, honors, affiliated, graduated, specialists, hospital, medical, experience, doctors\n",
            "doctor: college, from, of, degree, earned, in, bachelor, member, implant, university\n",
            "engineer: software, engineering, computer, systems, technical, prior, electrical, technology, phd, operations\n",
            "teacher: teachers, education, students, teaching, coordinator, schools, teaches, has, taught, writing\n",
            "dietitian: nutrition, with, experience, specialists, nurse, registered, diverse, honors, practitioner, hospitals\n",
            "\n",
            "\n"
          ]
        },
        {
          "output_type": "stream",
          "name": "stderr",
          "text": [
            "56015it [03:42, 225.64it/s]"
          ]
        },
        {
          "output_type": "stream",
          "name": "stdout",
          "text": [
            "| epoch   2 | 56000/58601 batches | loss    1.639 \n",
            "women: about, african, the, stories, she, working, people, youth, culture, middle\n",
            "men: justice, people, ranging, which, make, them, the, will, women, youth\n",
            "nurse: practitioner, nursing, honors, affiliated, graduated, hospital, specialists, experience, doctors, medical\n",
            "doctor: college, from, in, of, degree, earned, bachelor, member, university, implant\n",
            "engineer: software, engineering, computer, systems, technical, prior, electrical, technology, phd, senior\n",
            "teacher: teachers, education, students, teaching, coordinator, schools, teaches, taught, writing, has\n",
            "dietitian: nutrition, with, experience, specialists, nurse, diverse, registered, honors, practitioner, hospitals\n",
            "\n",
            "\n"
          ]
        },
        {
          "output_type": "stream",
          "name": "stderr",
          "text": [
            "56523it [03:44, 224.88it/s]"
          ]
        },
        {
          "output_type": "stream",
          "name": "stdout",
          "text": [
            "| epoch   2 | 56500/58601 batches | loss    1.642 \n",
            "women: about, african, stories, the, she, working, people, youth, culture, middle\n",
            "men: justice, people, ranging, which, make, them, the, will, women, youth\n",
            "nurse: practitioner, nursing, honors, affiliated, graduated, hospital, specialists, experience, doctors, medical\n",
            "doctor: college, in, of, from, degree, earned, bachelor, member, obtained, implant\n",
            "engineer: software, engineering, computer, systems, technical, prior, electrical, technology, phd, senior\n",
            "teacher: teachers, education, students, teaching, coordinator, schools, teaches, has, taught, writing\n",
            "dietitian: nutrition, with, experience, specialists, nurse, diverse, registered, honors, practitioner, hospitals\n",
            "\n",
            "\n"
          ]
        },
        {
          "output_type": "stream",
          "name": "stderr",
          "text": [
            "57034it [03:46, 227.53it/s]"
          ]
        },
        {
          "output_type": "stream",
          "name": "stdout",
          "text": [
            "| epoch   2 | 57000/58601 batches | loss    1.647 \n",
            "women: about, the, african, stories, she, working, people, youth, culture, middle\n",
            "men: justice, people, ranging, which, make, them, will, women, the, youth\n",
            "nurse: practitioner, nursing, honors, affiliated, hospital, graduated, specialists, experience, doctors, medical\n",
            "doctor: college, of, from, earned, degree, in, bachelor, member, obtained, implant\n",
            "engineer: software, engineering, computer, systems, technical, prior, electrical, technology, phd, senior\n",
            "teacher: teachers, education, students, teaching, coordinator, schools, teaches, has, taught, writing\n",
            "dietitian: nutrition, with, experience, specialists, nurse, diverse, registered, honors, practitioner, hospitals\n",
            "\n",
            "\n"
          ]
        },
        {
          "output_type": "stream",
          "name": "stderr",
          "text": [
            "57517it [03:48, 224.64it/s]"
          ]
        },
        {
          "output_type": "stream",
          "name": "stdout",
          "text": [
            "| epoch   2 | 57500/58601 batches | loss    1.648 \n",
            "women: about, african, stories, the, she, people, working, youth, culture, middle\n",
            "men: justice, people, ranging, which, make, them, the, will, women, youth\n",
            "nurse: practitioner, nursing, honors, affiliated, hospital, graduated, specialists, experience, doctors, medical\n",
            "doctor: college, from, of, degree, earned, in, bachelor, member, obtained, implant\n",
            "engineer: software, engineering, computer, systems, technical, prior, electrical, technology, phd, senior\n",
            "teacher: teachers, education, students, teaching, coordinator, schools, teaches, has, taught, writing\n",
            "dietitian: nutrition, with, experience, specialists, nurse, diverse, registered, honors, practitioner, hospitals\n",
            "\n",
            "\n"
          ]
        },
        {
          "output_type": "stream",
          "name": "stderr",
          "text": [
            "58023it [03:50, 222.10it/s]"
          ]
        },
        {
          "output_type": "stream",
          "name": "stdout",
          "text": [
            "| epoch   2 | 58000/58601 batches | loss    1.648 \n",
            "women: about, the, african, stories, she, people, working, youth, culture, middle\n",
            "men: justice, people, ranging, which, make, them, the, women, will, youth\n",
            "nurse: practitioner, nursing, honors, affiliated, hospital, specialists, graduated, experience, doctors, medical\n",
            "doctor: college, from, degree, earned, in, of, bachelor, member, obtained, implant\n",
            "engineer: software, engineering, computer, systems, technical, prior, electrical, technology, phd, senior\n",
            "teacher: teachers, education, students, teaching, coordinator, schools, teaches, taught, has, writing\n",
            "dietitian: nutrition, with, experience, specialists, nurse, diverse, registered, honors, hospitals, practitioner\n",
            "\n",
            "\n"
          ]
        },
        {
          "output_type": "stream",
          "name": "stderr",
          "text": [
            "58512it [03:52, 232.86it/s]"
          ]
        },
        {
          "output_type": "stream",
          "name": "stdout",
          "text": [
            "| epoch   2 | 58500/58601 batches | loss    1.639 \n",
            "women: about, the, african, she, stories, working, people, youth, culture, her\n",
            "men: justice, people, ranging, which, the, make, them, women, will, their\n",
            "nurse: practitioner, nursing, honors, affiliated, hospital, graduated, specialists, experience, doctors, medical\n",
            "doctor: college, from, degree, earned, of, in, bachelor, member, obtained, implant\n",
            "engineer: software, engineering, computer, systems, technical, prior, electrical, technology, phd, senior\n",
            "teacher: teachers, education, students, teaching, coordinator, schools, teaches, taught, has, writing\n",
            "dietitian: nutrition, with, experience, specialists, nurse, diverse, registered, honors, hospitals, practitioner\n",
            "\n",
            "\n"
          ]
        },
        {
          "output_type": "stream",
          "name": "stderr",
          "text": [
            "58601it [03:54, 249.59it/s]\n",
            "1it [00:01,  1.52s/it]"
          ]
        },
        {
          "output_type": "stream",
          "name": "stdout",
          "text": [
            "| epoch   3 |     0/58601 batches | loss    1.530 \n",
            "women: about, the, african, she, stories, working, people, youth, culture, middle\n",
            "men: justice, people, ranging, the, which, make, them, women, will, their\n",
            "nurse: practitioner, nursing, honors, affiliated, hospital, specialists, graduated, experience, doctors, medical\n",
            "doctor: college, from, degree, earned, in, of, bachelor, member, obtained, implant\n",
            "engineer: software, engineering, computer, systems, technical, prior, electrical, technology, phd, operations\n",
            "teacher: teachers, education, students, teaching, coordinator, schools, teaches, has, taught, writing\n",
            "dietitian: nutrition, with, experience, specialists, nurse, diverse, registered, honors, hospitals, practitioner\n",
            "\n",
            "\n"
          ]
        },
        {
          "output_type": "stream",
          "name": "stderr",
          "text": [
            "528it [00:03, 228.79it/s]"
          ]
        },
        {
          "output_type": "stream",
          "name": "stdout",
          "text": [
            "| epoch   3 |   500/58601 batches | loss    1.626 \n",
            "women: about, the, african, she, stories, working, people, youth, culture, middle\n",
            "men: justice, people, ranging, which, the, make, them, women, will, their\n",
            "nurse: practitioner, nursing, honors, affiliated, hospital, specialists, graduated, experience, doctors, medical\n",
            "doctor: college, from, degree, earned, in, of, bachelor, member, obtained, implant\n",
            "engineer: software, engineering, computer, systems, technical, prior, electrical, technology, phd, operations\n",
            "teacher: teachers, education, students, teaching, coordinator, schools, teaches, has, taught, writing\n",
            "dietitian: nutrition, with, experience, specialists, nurse, diverse, registered, honors, hospitals, practitioner\n",
            "\n",
            "\n"
          ]
        },
        {
          "output_type": "stream",
          "name": "stderr",
          "text": [
            "1015it [00:05, 227.19it/s]"
          ]
        },
        {
          "output_type": "stream",
          "name": "stdout",
          "text": [
            "| epoch   3 |  1000/58601 batches | loss    1.634 \n",
            "women: about, the, african, she, stories, working, people, youth, culture, her\n",
            "men: justice, people, ranging, which, make, them, the, women, will, their\n",
            "nurse: practitioner, nursing, honors, affiliated, hospital, specialists, graduated, experience, doctors, medical\n",
            "doctor: college, from, degree, earned, in, of, bachelor, member, obtained, implant\n",
            "engineer: software, engineering, computer, systems, technical, prior, electrical, technology, phd, worked\n",
            "teacher: teachers, education, students, teaching, coordinator, schools, teaches, has, taught, writing\n",
            "dietitian: nutrition, with, experience, specialists, nurse, diverse, registered, honors, hospitals, practitioner\n",
            "\n",
            "\n"
          ]
        },
        {
          "output_type": "stream",
          "name": "stderr",
          "text": [
            "1525it [00:07, 223.12it/s]"
          ]
        },
        {
          "output_type": "stream",
          "name": "stdout",
          "text": [
            "| epoch   3 |  1500/58601 batches | loss    1.633 \n",
            "women: about, the, african, she, stories, working, people, youth, culture, her\n",
            "men: justice, people, ranging, which, the, make, them, women, will, their\n",
            "nurse: practitioner, nursing, honors, affiliated, hospital, specialists, experience, graduated, doctors, medical\n",
            "doctor: college, from, degree, earned, in, of, bachelor, member, obtained, implant\n",
            "engineer: software, engineering, computer, systems, technical, prior, electrical, technology, phd, senior\n",
            "teacher: teachers, education, students, teaching, coordinator, schools, teaches, has, taught, writing\n",
            "dietitian: nutrition, with, experience, specialists, nurse, diverse, registered, honors, hospitals, practitioner\n",
            "\n",
            "\n"
          ]
        },
        {
          "output_type": "stream",
          "name": "stderr",
          "text": [
            "2013it [00:09, 226.92it/s]"
          ]
        },
        {
          "output_type": "stream",
          "name": "stdout",
          "text": [
            "| epoch   3 |  2000/58601 batches | loss    1.635 \n",
            "women: about, the, african, stories, she, working, people, youth, culture, her\n",
            "men: justice, people, ranging, which, the, make, them, women, will, their\n",
            "nurse: practitioner, nursing, honors, affiliated, hospital, specialists, experience, graduated, doctors, medical\n",
            "doctor: college, from, degree, earned, in, of, bachelor, member, obtained, implant\n",
            "engineer: software, engineering, computer, systems, technical, prior, electrical, technology, phd, worked\n",
            "teacher: teachers, education, students, teaching, coordinator, schools, teaches, has, taught, writing\n",
            "dietitian: nutrition, with, experience, specialists, nurse, diverse, registered, honors, hospitals, practitioner\n",
            "\n",
            "\n"
          ]
        },
        {
          "output_type": "stream",
          "name": "stderr",
          "text": [
            "2521it [00:11, 225.07it/s]"
          ]
        },
        {
          "output_type": "stream",
          "name": "stdout",
          "text": [
            "| epoch   3 |  2500/58601 batches | loss    1.635 \n",
            "women: about, the, african, stories, she, working, people, youth, culture, her\n",
            "men: justice, people, ranging, which, make, them, the, women, will, their\n",
            "nurse: practitioner, nursing, honors, affiliated, hospital, specialists, experience, graduated, doctors, medical\n",
            "doctor: college, from, degree, in, earned, of, bachelor, member, obtained, implant\n",
            "engineer: software, engineering, computer, systems, technical, prior, electrical, technology, phd, senior\n",
            "teacher: teachers, education, students, teaching, coordinator, schools, teaches, has, taught, writing\n",
            "dietitian: nutrition, with, experience, specialists, nurse, diverse, registered, honors, hospitals, practitioner\n",
            "\n",
            "\n"
          ]
        },
        {
          "output_type": "stream",
          "name": "stderr",
          "text": [
            "3028it [00:13, 227.12it/s]"
          ]
        },
        {
          "output_type": "stream",
          "name": "stdout",
          "text": [
            "| epoch   3 |  3000/58601 batches | loss    1.630 \n",
            "women: about, the, african, stories, she, working, people, youth, culture, her\n",
            "men: justice, people, ranging, which, the, make, them, women, will, their\n",
            "nurse: practitioner, nursing, honors, affiliated, hospital, specialists, experience, graduated, doctors, medical\n",
            "doctor: college, from, degree, in, earned, of, bachelor, member, obtained, implant\n",
            "engineer: software, engineering, computer, systems, technical, prior, electrical, technology, phd, senior\n",
            "teacher: teachers, education, students, teaching, coordinator, schools, teaches, has, taught, writing\n",
            "dietitian: nutrition, with, experience, specialists, nurse, diverse, registered, honors, hospitals, practitioner\n",
            "\n",
            "\n"
          ]
        },
        {
          "output_type": "stream",
          "name": "stderr",
          "text": [
            "3514it [00:15, 227.82it/s]"
          ]
        },
        {
          "output_type": "stream",
          "name": "stdout",
          "text": [
            "| epoch   3 |  3500/58601 batches | loss    1.637 \n",
            "women: about, the, african, stories, she, working, people, youth, her, culture\n",
            "men: justice, people, ranging, which, the, make, them, women, will, their\n",
            "nurse: practitioner, nursing, honors, affiliated, hospital, specialists, experience, graduated, doctors, medical\n",
            "doctor: college, from, degree, in, earned, of, bachelor, member, obtained, implant\n",
            "engineer: software, engineering, computer, systems, technical, prior, electrical, technology, phd, senior\n",
            "teacher: teachers, education, students, teaching, coordinator, schools, teaches, has, taught, writing\n",
            "dietitian: nutrition, with, experience, specialists, nurse, diverse, registered, honors, hospitals, practitioner\n",
            "\n",
            "\n"
          ]
        },
        {
          "output_type": "stream",
          "name": "stderr",
          "text": [
            "4024it [00:17, 222.71it/s]"
          ]
        },
        {
          "output_type": "stream",
          "name": "stdout",
          "text": [
            "| epoch   3 |  4000/58601 batches | loss    1.636 \n",
            "women: about, the, african, stories, she, working, people, youth, her, culture\n",
            "men: justice, people, ranging, which, make, the, them, women, will, their\n",
            "nurse: practitioner, nursing, honors, affiliated, hospital, specialists, experience, graduated, doctors, medical\n",
            "doctor: college, from, degree, earned, in, of, bachelor, member, obtained, implant\n",
            "engineer: software, engineering, computer, systems, technical, prior, electrical, technology, phd, senior\n",
            "teacher: teachers, education, students, teaching, coordinator, schools, teaches, has, taught, writing\n",
            "dietitian: nutrition, with, experience, specialists, nurse, diverse, registered, honors, hospitals, practitioner\n",
            "\n",
            "\n"
          ]
        },
        {
          "output_type": "stream",
          "name": "stderr",
          "text": [
            "4534it [00:19, 227.57it/s]"
          ]
        },
        {
          "output_type": "stream",
          "name": "stdout",
          "text": [
            "| epoch   3 |  4500/58601 batches | loss    1.640 \n",
            "women: about, the, african, stories, she, working, people, her, youth, culture\n",
            "men: justice, people, ranging, which, make, the, them, women, will, their\n",
            "nurse: practitioner, nursing, honors, affiliated, hospital, specialists, experience, graduated, doctors, medical\n",
            "doctor: college, from, degree, in, earned, of, bachelor, member, obtained, implant\n",
            "engineer: software, engineering, computer, systems, technical, prior, electrical, technology, phd, senior\n",
            "teacher: teachers, education, students, teaching, coordinator, schools, teaches, has, taught, writing\n",
            "dietitian: nutrition, with, experience, specialists, nurse, registered, diverse, honors, hospitals, practitioner\n",
            "\n",
            "\n"
          ]
        },
        {
          "output_type": "stream",
          "name": "stderr",
          "text": [
            "5033it [00:21, 218.45it/s]"
          ]
        },
        {
          "output_type": "stream",
          "name": "stdout",
          "text": [
            "| epoch   3 |  5000/58601 batches | loss    1.630 \n",
            "women: about, the, african, stories, she, working, people, her, youth, culture\n",
            "men: justice, people, ranging, which, make, the, them, women, will, their\n",
            "nurse: practitioner, nursing, honors, affiliated, hospital, specialists, experience, graduated, doctors, medical\n",
            "doctor: college, from, degree, in, earned, of, bachelor, member, obtained, implant\n",
            "engineer: software, engineering, computer, systems, technical, prior, electrical, technology, phd, senior\n",
            "teacher: teachers, education, students, teaching, coordinator, schools, teaches, has, taught, writing\n",
            "dietitian: nutrition, with, experience, specialists, nurse, diverse, registered, honors, hospitals, practitioner\n",
            "\n",
            "\n"
          ]
        },
        {
          "output_type": "stream",
          "name": "stderr",
          "text": [
            "5518it [00:23, 226.11it/s]"
          ]
        },
        {
          "output_type": "stream",
          "name": "stdout",
          "text": [
            "| epoch   3 |  5500/58601 batches | loss    1.637 \n",
            "women: about, the, african, stories, she, working, people, her, youth, culture\n",
            "men: justice, people, ranging, which, the, make, them, women, will, their\n",
            "nurse: practitioner, nursing, honors, affiliated, hospital, specialists, experience, graduated, doctors, medical\n",
            "doctor: college, from, degree, in, earned, of, bachelor, member, obtained, implant\n",
            "engineer: software, engineering, computer, systems, technical, prior, electrical, technology, phd, senior\n",
            "teacher: teachers, education, students, teaching, coordinator, schools, teaches, has, taught, writing\n",
            "dietitian: nutrition, with, experience, specialists, nurse, diverse, registered, honors, hospitals, practitioner\n",
            "\n",
            "\n"
          ]
        },
        {
          "output_type": "stream",
          "name": "stderr",
          "text": [
            "6028it [00:25, 225.21it/s]"
          ]
        },
        {
          "output_type": "stream",
          "name": "stdout",
          "text": [
            "| epoch   3 |  6000/58601 batches | loss    1.637 \n",
            "women: about, the, african, stories, she, working, people, her, youth, culture\n",
            "men: justice, people, ranging, which, make, the, them, women, will, their\n",
            "nurse: practitioner, nursing, honors, affiliated, hospital, specialists, experience, graduated, doctors, medical\n",
            "doctor: college, from, degree, in, earned, of, bachelor, member, obtained, implant\n",
            "engineer: software, engineering, computer, systems, technical, prior, electrical, technology, phd, senior\n",
            "teacher: teachers, education, students, teaching, coordinator, schools, teaches, has, taught, writing\n",
            "dietitian: nutrition, with, experience, specialists, nurse, diverse, registered, honors, hospitals, practitioner\n",
            "\n",
            "\n"
          ]
        },
        {
          "output_type": "stream",
          "name": "stderr",
          "text": [
            "6536it [00:27, 228.21it/s]"
          ]
        },
        {
          "output_type": "stream",
          "name": "stdout",
          "text": [
            "| epoch   3 |  6500/58601 batches | loss    1.635 \n",
            "women: about, the, african, stories, she, working, people, her, youth, culture\n",
            "men: justice, people, ranging, which, make, the, them, women, will, their\n",
            "nurse: practitioner, nursing, honors, affiliated, hospital, experience, specialists, graduated, doctors, medical\n",
            "doctor: college, from, degree, in, earned, of, bachelor, member, obtained, implant\n",
            "engineer: software, engineering, computer, systems, technical, prior, electrical, technology, phd, senior\n",
            "teacher: teachers, education, students, teaching, coordinator, schools, teaches, has, taught, writing\n",
            "dietitian: nutrition, with, experience, specialists, nurse, registered, diverse, honors, hospitals, practitioner\n",
            "\n",
            "\n"
          ]
        },
        {
          "output_type": "stream",
          "name": "stderr",
          "text": [
            "7029it [00:29, 230.70it/s]"
          ]
        },
        {
          "output_type": "stream",
          "name": "stdout",
          "text": [
            "| epoch   3 |  7000/58601 batches | loss    1.635 \n",
            "women: about, the, african, stories, she, working, people, youth, her, culture\n",
            "men: justice, people, ranging, which, make, the, them, women, will, their\n",
            "nurse: practitioner, nursing, honors, affiliated, hospital, experience, specialists, graduated, doctors, medical\n",
            "doctor: college, from, degree, in, earned, of, bachelor, member, obtained, implant\n",
            "engineer: software, engineering, computer, systems, technical, prior, electrical, technology, phd, senior\n",
            "teacher: teachers, education, students, teaching, coordinator, schools, teaches, has, taught, writing\n",
            "dietitian: nutrition, with, experience, specialists, nurse, registered, diverse, honors, hospitals, practitioner\n",
            "\n",
            "\n"
          ]
        },
        {
          "output_type": "stream",
          "name": "stderr",
          "text": [
            "7514it [00:31, 232.68it/s]"
          ]
        },
        {
          "output_type": "stream",
          "name": "stdout",
          "text": [
            "| epoch   3 |  7500/58601 batches | loss    1.634 \n",
            "women: about, the, african, stories, she, working, people, youth, her, culture\n",
            "men: justice, people, ranging, which, make, the, them, women, will, their\n",
            "nurse: practitioner, nursing, honors, affiliated, hospital, experience, specialists, graduated, doctors, medical\n",
            "doctor: college, from, degree, earned, in, of, bachelor, member, obtained, implant\n",
            "engineer: software, engineering, computer, systems, technical, prior, electrical, technology, phd, worked\n",
            "teacher: teachers, education, students, teaching, coordinator, schools, teaches, has, taught, writing\n",
            "dietitian: nutrition, with, experience, specialists, nurse, registered, diverse, honors, hospitals, practitioner\n",
            "\n",
            "\n"
          ]
        },
        {
          "output_type": "stream",
          "name": "stderr",
          "text": [
            "8024it [00:33, 212.19it/s]"
          ]
        },
        {
          "output_type": "stream",
          "name": "stdout",
          "text": [
            "| epoch   3 |  8000/58601 batches | loss    1.631 \n",
            "women: about, the, african, stories, she, working, people, youth, her, culture\n",
            "men: justice, people, ranging, which, make, them, the, women, will, their\n",
            "nurse: practitioner, nursing, honors, affiliated, hospital, experience, specialists, graduated, doctors, medical\n",
            "doctor: college, from, degree, earned, in, of, bachelor, member, obtained, implant\n",
            "engineer: software, engineering, computer, systems, technical, prior, electrical, technology, phd, worked\n",
            "teacher: teachers, education, students, teaching, coordinator, schools, teaches, has, taught, writing\n",
            "dietitian: nutrition, with, experience, specialists, nurse, registered, diverse, honors, hospitals, practitioner\n",
            "\n",
            "\n"
          ]
        },
        {
          "output_type": "stream",
          "name": "stderr",
          "text": [
            "8536it [00:35, 225.84it/s]"
          ]
        },
        {
          "output_type": "stream",
          "name": "stdout",
          "text": [
            "| epoch   3 |  8500/58601 batches | loss    1.637 \n",
            "women: about, the, african, stories, she, working, people, youth, her, culture\n",
            "men: justice, people, ranging, which, the, make, them, women, will, their\n",
            "nurse: practitioner, nursing, honors, affiliated, hospital, experience, specialists, graduated, doctors, medical\n",
            "doctor: college, from, degree, in, earned, of, bachelor, member, obtained, implant\n",
            "engineer: software, engineering, computer, systems, technical, prior, electrical, technology, phd, worked\n",
            "teacher: teachers, education, students, teaching, coordinator, schools, teaches, has, taught, writing\n",
            "dietitian: nutrition, with, experience, specialists, nurse, registered, diverse, honors, hospitals, practitioner\n",
            "\n",
            "\n"
          ]
        },
        {
          "output_type": "stream",
          "name": "stderr",
          "text": [
            "9021it [00:36, 220.20it/s]"
          ]
        },
        {
          "output_type": "stream",
          "name": "stdout",
          "text": [
            "| epoch   3 |  9000/58601 batches | loss    1.632 \n",
            "women: about, the, african, stories, she, working, people, youth, her, culture\n",
            "men: justice, people, ranging, which, the, make, them, women, will, their\n",
            "nurse: practitioner, nursing, honors, affiliated, hospital, experience, specialists, graduated, doctors, medical\n",
            "doctor: college, from, degree, in, earned, of, bachelor, member, obtained, implant\n",
            "engineer: software, engineering, computer, systems, technical, prior, electrical, technology, phd, worked\n",
            "teacher: teachers, education, students, teaching, coordinator, schools, teaches, has, taught, writing\n",
            "dietitian: nutrition, with, experience, specialists, nurse, registered, diverse, honors, hospitals, practitioner\n",
            "\n",
            "\n"
          ]
        },
        {
          "output_type": "stream",
          "name": "stderr",
          "text": [
            "9514it [00:38, 233.16it/s]"
          ]
        },
        {
          "output_type": "stream",
          "name": "stdout",
          "text": [
            "| epoch   3 |  9500/58601 batches | loss    1.633 \n",
            "women: about, the, african, stories, she, working, people, her, youth, culture\n",
            "men: justice, people, ranging, which, the, make, them, women, will, their\n",
            "nurse: practitioner, nursing, honors, affiliated, hospital, experience, specialists, graduated, doctors, medical\n",
            "doctor: college, from, degree, earned, in, of, bachelor, member, obtained, implant\n",
            "engineer: software, engineering, computer, systems, technical, prior, electrical, technology, phd, senior\n",
            "teacher: teachers, education, students, teaching, coordinator, schools, teaches, has, taught, writing\n",
            "dietitian: nutrition, with, experience, specialists, nurse, registered, diverse, honors, hospitals, practitioner\n",
            "\n",
            "\n"
          ]
        },
        {
          "output_type": "stream",
          "name": "stderr",
          "text": [
            "10024it [00:40, 222.98it/s]"
          ]
        },
        {
          "output_type": "stream",
          "name": "stdout",
          "text": [
            "| epoch   3 | 10000/58601 batches | loss    1.631 \n",
            "women: about, african, the, stories, she, working, people, her, youth, culture\n",
            "men: justice, people, ranging, which, make, the, them, women, will, youth\n",
            "nurse: practitioner, nursing, honors, affiliated, hospital, experience, specialists, graduated, doctors, medical\n",
            "doctor: college, from, degree, earned, of, in, bachelor, member, obtained, implant\n",
            "engineer: software, engineering, computer, systems, technical, prior, electrical, technology, phd, senior\n",
            "teacher: teachers, education, students, teaching, coordinator, schools, teaches, has, taught, writing\n",
            "dietitian: nutrition, with, experience, specialists, nurse, registered, diverse, honors, hospitals, practitioner\n",
            "\n",
            "\n"
          ]
        },
        {
          "output_type": "stream",
          "name": "stderr",
          "text": [
            "10531it [00:42, 216.01it/s]"
          ]
        },
        {
          "output_type": "stream",
          "name": "stdout",
          "text": [
            "| epoch   3 | 10500/58601 batches | loss    1.637 \n",
            "women: about, african, the, stories, she, working, people, youth, her, culture\n",
            "men: justice, people, ranging, which, make, the, them, women, will, youth\n",
            "nurse: practitioner, nursing, honors, affiliated, hospital, experience, specialists, graduated, doctors, medical\n",
            "doctor: college, from, degree, in, of, earned, bachelor, member, obtained, implant\n",
            "engineer: software, engineering, computer, systems, technical, prior, electrical, technology, phd, senior\n",
            "teacher: teachers, education, students, teaching, coordinator, schools, teaches, has, taught, writing\n",
            "dietitian: nutrition, with, experience, specialists, nurse, registered, diverse, honors, hospitals, practitioner\n",
            "\n",
            "\n"
          ]
        },
        {
          "output_type": "stream",
          "name": "stderr",
          "text": [
            "11015it [00:46, 190.83it/s]"
          ]
        },
        {
          "output_type": "stream",
          "name": "stdout",
          "text": [
            "| epoch   3 | 11000/58601 batches | loss    1.623 \n",
            "women: about, african, the, stories, she, working, people, her, youth, culture\n",
            "men: justice, people, ranging, which, make, them, the, women, will, youth\n",
            "nurse: practitioner, nursing, honors, affiliated, hospital, experience, specialists, graduated, doctors, medical\n",
            "doctor: college, from, degree, in, of, earned, bachelor, member, obtained, implant\n",
            "engineer: software, engineering, computer, systems, technical, prior, electrical, technology, phd, senior\n",
            "teacher: teachers, education, students, teaching, coordinator, schools, teaches, has, taught, writing\n",
            "dietitian: nutrition, with, experience, specialists, nurse, registered, diverse, honors, hospitals, practitioner\n",
            "\n",
            "\n"
          ]
        },
        {
          "output_type": "stream",
          "name": "stderr",
          "text": [
            "11526it [00:48, 230.04it/s]"
          ]
        },
        {
          "output_type": "stream",
          "name": "stdout",
          "text": [
            "| epoch   3 | 11500/58601 batches | loss    1.635 \n",
            "women: about, african, the, stories, she, working, people, her, youth, culture\n",
            "men: justice, people, ranging, which, make, the, them, women, will, youth\n",
            "nurse: practitioner, nursing, honors, affiliated, hospital, specialists, experience, graduated, doctors, medical\n",
            "doctor: college, from, degree, of, earned, in, bachelor, member, obtained, implant\n",
            "engineer: software, engineering, computer, systems, technical, prior, electrical, technology, phd, senior\n",
            "teacher: teachers, education, students, teaching, coordinator, schools, teaches, has, taught, writing\n",
            "dietitian: nutrition, with, experience, specialists, nurse, registered, diverse, honors, hospitals, practitioner\n",
            "\n",
            "\n"
          ]
        },
        {
          "output_type": "stream",
          "name": "stderr",
          "text": [
            "12033it [00:50, 226.65it/s]"
          ]
        },
        {
          "output_type": "stream",
          "name": "stdout",
          "text": [
            "| epoch   3 | 12000/58601 batches | loss    1.634 \n",
            "women: about, the, african, stories, she, working, people, her, youth, culture\n",
            "men: justice, people, ranging, which, the, make, them, women, will, youth\n",
            "nurse: practitioner, nursing, honors, affiliated, hospital, specialists, experience, graduated, doctors, medical\n",
            "doctor: college, from, degree, of, in, earned, bachelor, member, obtained, implant\n",
            "engineer: software, engineering, computer, systems, technical, prior, electrical, technology, phd, senior\n",
            "teacher: teachers, education, students, teaching, coordinator, schools, teaches, has, taught, writing\n",
            "dietitian: nutrition, with, experience, specialists, nurse, registered, diverse, honors, hospitals, practitioner\n",
            "\n",
            "\n"
          ]
        },
        {
          "output_type": "stream",
          "name": "stderr",
          "text": [
            "12515it [00:52, 227.90it/s]"
          ]
        },
        {
          "output_type": "stream",
          "name": "stdout",
          "text": [
            "| epoch   3 | 12500/58601 batches | loss    1.637 \n",
            "women: about, the, african, stories, working, she, people, her, youth, culture\n",
            "men: justice, people, ranging, which, make, the, them, women, will, youth\n",
            "nurse: practitioner, nursing, honors, affiliated, hospital, specialists, experience, graduated, doctors, medical\n",
            "doctor: college, from, degree, of, in, earned, bachelor, member, obtained, implant\n",
            "engineer: software, engineering, computer, systems, technical, prior, electrical, technology, phd, senior\n",
            "teacher: teachers, education, students, teaching, coordinator, schools, teaches, has, taught, writing\n",
            "dietitian: nutrition, with, experience, specialists, nurse, registered, diverse, honors, hospitals, practitioner\n",
            "\n",
            "\n"
          ]
        },
        {
          "output_type": "stream",
          "name": "stderr",
          "text": [
            "13025it [00:54, 219.79it/s]"
          ]
        },
        {
          "output_type": "stream",
          "name": "stdout",
          "text": [
            "| epoch   3 | 13000/58601 batches | loss    1.634 \n",
            "women: about, the, african, stories, she, working, people, her, youth, culture\n",
            "men: justice, people, ranging, which, the, make, them, women, will, youth\n",
            "nurse: practitioner, nursing, honors, affiliated, hospital, specialists, experience, graduated, doctors, medical\n",
            "doctor: college, from, of, degree, in, earned, bachelor, member, obtained, implant\n",
            "engineer: software, engineering, computer, systems, technical, prior, electrical, technology, phd, senior\n",
            "teacher: teachers, education, students, teaching, coordinator, schools, teaches, has, taught, writing\n",
            "dietitian: nutrition, with, experience, specialists, nurse, registered, diverse, honors, hospitals, practitioner\n",
            "\n",
            "\n"
          ]
        },
        {
          "output_type": "stream",
          "name": "stderr",
          "text": [
            "13514it [00:56, 228.18it/s]"
          ]
        },
        {
          "output_type": "stream",
          "name": "stdout",
          "text": [
            "| epoch   3 | 13500/58601 batches | loss    1.634 \n",
            "women: about, the, african, stories, she, working, people, her, youth, culture\n",
            "men: justice, people, ranging, which, the, make, them, women, will, youth\n",
            "nurse: practitioner, nursing, honors, affiliated, hospital, specialists, experience, graduated, doctors, medical\n",
            "doctor: college, from, degree, of, in, earned, bachelor, member, obtained, implant\n",
            "engineer: software, engineering, computer, systems, technical, prior, electrical, technology, phd, senior\n",
            "teacher: teachers, education, students, teaching, coordinator, schools, teaches, has, taught, writing\n",
            "dietitian: nutrition, with, experience, specialists, nurse, registered, diverse, honors, hospitals, practitioner\n",
            "\n",
            "\n"
          ]
        },
        {
          "output_type": "stream",
          "name": "stderr",
          "text": [
            "14021it [00:58, 218.23it/s]"
          ]
        },
        {
          "output_type": "stream",
          "name": "stdout",
          "text": [
            "| epoch   3 | 14000/58601 batches | loss    1.630 \n",
            "women: about, the, african, stories, she, working, people, her, youth, culture\n",
            "men: justice, people, ranging, which, the, make, them, women, will, youth\n",
            "nurse: practitioner, nursing, honors, affiliated, hospital, specialists, graduated, experience, doctors, medical\n",
            "doctor: college, from, of, degree, in, earned, bachelor, member, obtained, implant\n",
            "engineer: software, engineering, computer, systems, technical, prior, electrical, technology, phd, senior\n",
            "teacher: teachers, education, students, teaching, coordinator, schools, teaches, has, taught, writing\n",
            "dietitian: nutrition, with, experience, specialists, nurse, registered, diverse, honors, hospitals, practitioner\n",
            "\n",
            "\n"
          ]
        },
        {
          "output_type": "stream",
          "name": "stderr",
          "text": [
            "14532it [01:00, 224.94it/s]"
          ]
        },
        {
          "output_type": "stream",
          "name": "stdout",
          "text": [
            "| epoch   3 | 14500/58601 batches | loss    1.635 \n",
            "women: about, the, african, stories, she, working, people, youth, her, culture\n",
            "men: justice, people, ranging, which, the, make, them, women, will, youth\n",
            "nurse: practitioner, nursing, honors, affiliated, hospital, specialists, graduated, experience, doctors, medical\n",
            "doctor: college, from, degree, of, in, earned, bachelor, member, obtained, implant\n",
            "engineer: software, engineering, computer, systems, technical, prior, electrical, technology, phd, senior\n",
            "teacher: teachers, education, students, teaching, coordinator, schools, teaches, has, taught, writing\n",
            "dietitian: nutrition, with, experience, specialists, nurse, registered, diverse, honors, hospitals, practitioner\n",
            "\n",
            "\n"
          ]
        },
        {
          "output_type": "stream",
          "name": "stderr",
          "text": [
            "15019it [01:02, 223.17it/s]"
          ]
        },
        {
          "output_type": "stream",
          "name": "stdout",
          "text": [
            "| epoch   3 | 15000/58601 batches | loss    1.636 \n",
            "women: about, the, african, stories, she, working, people, her, youth, culture\n",
            "men: justice, people, ranging, which, the, make, them, women, will, youth\n",
            "nurse: practitioner, nursing, honors, affiliated, hospital, specialists, graduated, experience, doctors, medical\n",
            "doctor: college, from, degree, in, of, earned, bachelor, member, obtained, implant\n",
            "engineer: software, engineering, computer, systems, technical, prior, electrical, technology, phd, senior\n",
            "teacher: teachers, education, students, teaching, coordinator, schools, teaches, has, taught, writing\n",
            "dietitian: nutrition, with, experience, specialists, nurse, registered, diverse, honors, hospitals, practitioner\n",
            "\n",
            "\n"
          ]
        },
        {
          "output_type": "stream",
          "name": "stderr",
          "text": [
            "15527it [01:04, 219.31it/s]"
          ]
        },
        {
          "output_type": "stream",
          "name": "stdout",
          "text": [
            "| epoch   3 | 15500/58601 batches | loss    1.633 \n",
            "women: about, the, african, stories, she, working, people, her, youth, culture\n",
            "men: justice, people, ranging, which, the, make, them, women, will, youth\n",
            "nurse: practitioner, nursing, honors, affiliated, hospital, specialists, experience, graduated, doctors, medical\n",
            "doctor: college, from, degree, in, of, earned, bachelor, member, obtained, implant\n",
            "engineer: software, engineering, computer, systems, technical, prior, electrical, technology, phd, senior\n",
            "teacher: teachers, education, students, teaching, coordinator, schools, teaches, has, taught, writing\n",
            "dietitian: nutrition, with, experience, specialists, nurse, registered, diverse, honors, hospitals, practitioner\n",
            "\n",
            "\n"
          ]
        },
        {
          "output_type": "stream",
          "name": "stderr",
          "text": [
            "16014it [01:06, 228.46it/s]"
          ]
        },
        {
          "output_type": "stream",
          "name": "stdout",
          "text": [
            "| epoch   3 | 16000/58601 batches | loss    1.633 \n",
            "women: about, the, african, stories, she, working, people, her, youth, culture\n",
            "men: justice, people, ranging, which, the, make, them, women, will, youth\n",
            "nurse: practitioner, nursing, honors, affiliated, hospital, specialists, experience, graduated, doctors, medical\n",
            "doctor: college, from, degree, in, of, earned, bachelor, member, obtained, implant\n",
            "engineer: software, engineering, computer, systems, technical, prior, electrical, technology, phd, senior\n",
            "teacher: teachers, education, students, teaching, coordinator, schools, teaches, has, taught, writing\n",
            "dietitian: nutrition, with, experience, specialists, nurse, registered, diverse, honors, hospitals, practitioner\n",
            "\n",
            "\n"
          ]
        },
        {
          "output_type": "stream",
          "name": "stderr",
          "text": [
            "16525it [01:08, 224.99it/s]"
          ]
        },
        {
          "output_type": "stream",
          "name": "stdout",
          "text": [
            "| epoch   3 | 16500/58601 batches | loss    1.639 \n",
            "women: about, the, african, stories, she, working, people, her, youth, culture\n",
            "men: justice, people, ranging, which, the, make, them, women, will, youth\n",
            "nurse: practitioner, nursing, honors, affiliated, hospital, specialists, experience, graduated, doctors, medical\n",
            "doctor: college, from, degree, of, in, earned, bachelor, member, obtained, implant\n",
            "engineer: software, engineering, computer, systems, technical, prior, electrical, technology, phd, senior\n",
            "teacher: teachers, education, students, teaching, coordinator, schools, teaches, has, taught, writing\n",
            "dietitian: nutrition, with, experience, specialists, nurse, registered, diverse, honors, hospitals, practitioner\n",
            "\n",
            "\n"
          ]
        },
        {
          "output_type": "stream",
          "name": "stderr",
          "text": [
            "17034it [01:10, 225.64it/s]"
          ]
        },
        {
          "output_type": "stream",
          "name": "stdout",
          "text": [
            "| epoch   3 | 17000/58601 batches | loss    1.634 \n",
            "women: about, the, african, stories, she, working, people, her, youth, culture\n",
            "men: justice, people, ranging, the, which, make, them, women, will, youth\n",
            "nurse: practitioner, nursing, honors, affiliated, hospital, specialists, experience, graduated, doctors, medical\n",
            "doctor: college, from, in, degree, of, earned, bachelor, member, obtained, implant\n",
            "engineer: software, engineering, computer, systems, technical, prior, electrical, technology, phd, senior\n",
            "teacher: teachers, education, students, teaching, coordinator, schools, teaches, has, taught, writing\n",
            "dietitian: nutrition, with, experience, specialists, nurse, registered, diverse, honors, hospitals, practitioner\n",
            "\n",
            "\n"
          ]
        },
        {
          "output_type": "stream",
          "name": "stderr",
          "text": [
            "17518it [01:12, 227.71it/s]"
          ]
        },
        {
          "output_type": "stream",
          "name": "stdout",
          "text": [
            "| epoch   3 | 17500/58601 batches | loss    1.634 \n",
            "women: about, the, african, stories, she, working, people, her, youth, culture\n",
            "men: justice, people, ranging, the, which, make, them, women, will, youth\n",
            "nurse: practitioner, nursing, honors, affiliated, hospital, specialists, experience, graduated, doctors, medical\n",
            "doctor: college, from, in, degree, of, earned, bachelor, member, obtained, implant\n",
            "engineer: software, engineering, computer, systems, technical, prior, electrical, technology, phd, senior\n",
            "teacher: teachers, education, students, teaching, coordinator, schools, teaches, has, taught, writing\n",
            "dietitian: nutrition, with, experience, specialists, nurse, registered, diverse, honors, hospitals, practitioner\n",
            "\n",
            "\n"
          ]
        },
        {
          "output_type": "stream",
          "name": "stderr",
          "text": [
            "18032it [01:14, 230.83it/s]"
          ]
        },
        {
          "output_type": "stream",
          "name": "stdout",
          "text": [
            "| epoch   3 | 18000/58601 batches | loss    1.636 \n",
            "women: about, the, african, stories, she, working, people, her, youth, culture\n",
            "men: justice, people, ranging, the, which, make, them, women, will, youth\n",
            "nurse: practitioner, nursing, honors, affiliated, hospital, specialists, graduated, experience, doctors, medical\n",
            "doctor: college, from, in, degree, of, earned, bachelor, member, obtained, implant\n",
            "engineer: software, engineering, computer, systems, technical, prior, electrical, technology, phd, senior\n",
            "teacher: teachers, education, students, teaching, coordinator, schools, teaches, has, taught, writing\n",
            "dietitian: nutrition, with, experience, specialists, nurse, registered, diverse, honors, hospitals, practitioner\n",
            "\n",
            "\n"
          ]
        },
        {
          "output_type": "stream",
          "name": "stderr",
          "text": [
            "18528it [01:16, 230.29it/s]"
          ]
        },
        {
          "output_type": "stream",
          "name": "stdout",
          "text": [
            "| epoch   3 | 18500/58601 batches | loss    1.636 \n",
            "women: about, the, african, stories, she, working, her, people, youth, culture\n",
            "men: justice, people, ranging, the, which, make, them, women, will, youth\n",
            "nurse: practitioner, nursing, honors, affiliated, hospital, specialists, graduated, experience, doctors, medical\n",
            "doctor: college, from, in, degree, of, earned, bachelor, member, obtained, implant\n",
            "engineer: software, engineering, computer, systems, technical, prior, electrical, technology, phd, senior\n",
            "teacher: teachers, education, students, teaching, coordinator, schools, teaches, has, taught, writing\n",
            "dietitian: nutrition, with, experience, specialists, nurse, registered, diverse, honors, hospitals, practitioner\n",
            "\n",
            "\n"
          ]
        },
        {
          "output_type": "stream",
          "name": "stderr",
          "text": [
            "19007it [01:18, 225.00it/s]"
          ]
        },
        {
          "output_type": "stream",
          "name": "stdout",
          "text": [
            "| epoch   3 | 19000/58601 batches | loss    1.633 \n",
            "women: about, the, african, stories, she, working, her, people, youth, culture\n",
            "men: justice, people, ranging, the, which, make, them, women, will, youth\n",
            "nurse: practitioner, nursing, honors, affiliated, hospital, specialists, graduated, experience, doctors, medical\n",
            "doctor: college, from, in, degree, of, earned, bachelor, member, obtained, implant\n",
            "engineer: software, engineering, computer, systems, technical, prior, electrical, technology, phd, senior\n",
            "teacher: teachers, education, students, teaching, coordinator, schools, teaches, has, taught, writing\n",
            "dietitian: nutrition, with, experience, specialists, nurse, registered, diverse, honors, hospitals, practitioner\n",
            "\n",
            "\n"
          ]
        },
        {
          "output_type": "stream",
          "name": "stderr",
          "text": [
            "19514it [01:20, 224.16it/s]"
          ]
        },
        {
          "output_type": "stream",
          "name": "stdout",
          "text": [
            "| epoch   3 | 19500/58601 batches | loss    1.633 \n",
            "women: about, the, african, stories, she, working, her, people, youth, culture\n",
            "men: justice, people, ranging, the, which, make, them, women, will, youth\n",
            "nurse: practitioner, nursing, honors, affiliated, hospital, specialists, graduated, experience, doctors, medical\n",
            "doctor: college, from, in, degree, of, earned, bachelor, member, obtained, implant\n",
            "engineer: software, engineering, computer, systems, technical, prior, electrical, technology, phd, senior\n",
            "teacher: teachers, education, students, teaching, coordinator, schools, teaches, has, taught, writing\n",
            "dietitian: nutrition, with, experience, specialists, nurse, registered, diverse, honors, hospitals, practitioner\n",
            "\n",
            "\n"
          ]
        },
        {
          "output_type": "stream",
          "name": "stderr",
          "text": [
            "20027it [01:22, 222.93it/s]"
          ]
        },
        {
          "output_type": "stream",
          "name": "stdout",
          "text": [
            "| epoch   3 | 20000/58601 batches | loss    1.636 \n",
            "women: about, african, the, stories, she, working, her, people, youth, culture\n",
            "men: justice, people, ranging, which, the, make, them, women, will, youth\n",
            "nurse: practitioner, nursing, honors, affiliated, hospital, specialists, graduated, experience, doctors, medical\n",
            "doctor: college, from, in, degree, of, earned, bachelor, member, obtained, implant\n",
            "engineer: software, engineering, computer, systems, technical, prior, electrical, technology, phd, senior\n",
            "teacher: teachers, education, students, teaching, coordinator, schools, teaches, has, taught, writing\n",
            "dietitian: nutrition, with, experience, specialists, nurse, registered, diverse, honors, hospitals, practitioner\n",
            "\n",
            "\n"
          ]
        },
        {
          "output_type": "stream",
          "name": "stderr",
          "text": [
            "20518it [01:24, 222.72it/s]"
          ]
        },
        {
          "output_type": "stream",
          "name": "stdout",
          "text": [
            "| epoch   3 | 20500/58601 batches | loss    1.637 \n",
            "women: about, african, the, stories, she, working, her, people, youth, culture\n",
            "men: justice, people, ranging, which, the, make, them, women, will, youth\n",
            "nurse: practitioner, nursing, honors, affiliated, hospital, specialists, graduated, experience, doctors, medical\n",
            "doctor: college, from, in, degree, of, earned, bachelor, member, obtained, implant\n",
            "engineer: software, engineering, computer, systems, technical, prior, electrical, technology, phd, senior\n",
            "teacher: teachers, education, students, teaching, coordinator, schools, teaches, has, taught, writing\n",
            "dietitian: nutrition, with, experience, specialists, nurse, registered, diverse, honors, hospitals, practitioner\n",
            "\n",
            "\n"
          ]
        },
        {
          "output_type": "stream",
          "name": "stderr",
          "text": [
            "21029it [01:26, 223.97it/s]"
          ]
        },
        {
          "output_type": "stream",
          "name": "stdout",
          "text": [
            "| epoch   3 | 21000/58601 batches | loss    1.641 \n",
            "women: about, the, african, stories, she, working, her, people, youth, culture\n",
            "men: justice, people, ranging, which, the, make, them, women, will, youth\n",
            "nurse: practitioner, nursing, honors, affiliated, hospital, specialists, graduated, experience, doctors, medical\n",
            "doctor: college, from, in, of, degree, earned, bachelor, member, obtained, implant\n",
            "engineer: software, engineering, computer, systems, technical, prior, electrical, technology, phd, senior\n",
            "teacher: teachers, education, students, teaching, coordinator, schools, teaches, has, taught, writing\n",
            "dietitian: nutrition, with, experience, specialists, nurse, registered, diverse, honors, hospitals, practitioner\n",
            "\n",
            "\n"
          ]
        },
        {
          "output_type": "stream",
          "name": "stderr",
          "text": [
            "21518it [01:28, 225.98it/s]"
          ]
        },
        {
          "output_type": "stream",
          "name": "stdout",
          "text": [
            "| epoch   3 | 21500/58601 batches | loss    1.636 \n",
            "women: about, the, african, stories, she, working, her, people, youth, culture\n",
            "men: justice, people, ranging, the, which, make, them, women, will, youth\n",
            "nurse: practitioner, nursing, honors, affiliated, hospital, specialists, graduated, experience, doctors, medical\n",
            "doctor: college, from, in, of, degree, earned, bachelor, member, obtained, implant\n",
            "engineer: software, engineering, computer, systems, technical, prior, electrical, technology, phd, senior\n",
            "teacher: teachers, education, students, teaching, coordinator, schools, teaches, has, taught, writing\n",
            "dietitian: nutrition, with, experience, specialists, nurse, registered, diverse, honors, hospitals, practitioner\n",
            "\n",
            "\n"
          ]
        },
        {
          "output_type": "stream",
          "name": "stderr",
          "text": [
            "22026it [01:30, 226.49it/s]"
          ]
        },
        {
          "output_type": "stream",
          "name": "stdout",
          "text": [
            "| epoch   3 | 22000/58601 batches | loss    1.629 \n",
            "women: about, the, african, stories, she, working, her, people, youth, culture\n",
            "men: justice, people, ranging, the, which, make, them, women, will, youth\n",
            "nurse: practitioner, nursing, honors, affiliated, hospital, specialists, graduated, experience, doctors, medical\n",
            "doctor: from, college, in, of, degree, earned, bachelor, member, obtained, implant\n",
            "engineer: software, engineering, computer, systems, technical, prior, electrical, technology, phd, senior\n",
            "teacher: teachers, education, students, teaching, coordinator, schools, teaches, has, taught, writing\n",
            "dietitian: nutrition, with, experience, specialists, nurse, registered, diverse, honors, hospitals, practitioner\n",
            "\n",
            "\n"
          ]
        },
        {
          "output_type": "stream",
          "name": "stderr",
          "text": [
            "22534it [01:32, 224.31it/s]"
          ]
        },
        {
          "output_type": "stream",
          "name": "stdout",
          "text": [
            "| epoch   3 | 22500/58601 batches | loss    1.635 \n",
            "women: about, the, african, stories, she, working, her, people, youth, culture\n",
            "men: justice, people, ranging, which, the, make, them, women, will, youth\n",
            "nurse: practitioner, nursing, honors, affiliated, hospital, specialists, graduated, experience, doctors, medical\n",
            "doctor: college, from, in, degree, of, earned, bachelor, member, obtained, implant\n",
            "engineer: software, engineering, computer, systems, technical, prior, electrical, technology, phd, senior\n",
            "teacher: teachers, education, students, teaching, coordinator, schools, teaches, has, taught, writing\n",
            "dietitian: nutrition, with, experience, specialists, nurse, registered, diverse, honors, hospitals, practitioner\n",
            "\n",
            "\n"
          ]
        },
        {
          "output_type": "stream",
          "name": "stderr",
          "text": [
            "23017it [01:34, 226.10it/s]"
          ]
        },
        {
          "output_type": "stream",
          "name": "stdout",
          "text": [
            "| epoch   3 | 23000/58601 batches | loss    1.631 \n",
            "women: about, the, african, stories, she, working, her, people, youth, culture\n",
            "men: justice, people, ranging, which, the, make, them, women, will, youth\n",
            "nurse: practitioner, nursing, honors, affiliated, hospital, specialists, graduated, experience, doctors, medical\n",
            "doctor: college, from, in, of, degree, earned, bachelor, member, obtained, implant\n",
            "engineer: software, engineering, computer, systems, technical, prior, electrical, technology, phd, senior\n",
            "teacher: teachers, education, students, teaching, coordinator, schools, teaches, has, taught, writing\n",
            "dietitian: nutrition, with, experience, specialists, nurse, registered, diverse, honors, hospitals, practitioner\n",
            "\n",
            "\n"
          ]
        },
        {
          "output_type": "stream",
          "name": "stderr",
          "text": [
            "23536it [01:36, 235.34it/s]"
          ]
        },
        {
          "output_type": "stream",
          "name": "stdout",
          "text": [
            "| epoch   3 | 23500/58601 batches | loss    1.637 \n",
            "women: about, the, african, stories, she, working, her, people, youth, culture\n",
            "men: justice, people, ranging, which, the, make, them, women, will, youth\n",
            "nurse: practitioner, nursing, honors, affiliated, hospital, specialists, graduated, experience, doctors, medical\n",
            "doctor: college, from, in, degree, of, earned, bachelor, member, obtained, implant\n",
            "engineer: software, engineering, computer, systems, technical, prior, electrical, technology, phd, senior\n",
            "teacher: teachers, education, students, teaching, coordinator, schools, teaches, has, taught, writing\n",
            "dietitian: nutrition, with, experience, specialists, nurse, registered, diverse, honors, hospitals, practitioner\n",
            "\n",
            "\n"
          ]
        },
        {
          "output_type": "stream",
          "name": "stderr",
          "text": [
            "24026it [01:37, 223.18it/s]"
          ]
        },
        {
          "output_type": "stream",
          "name": "stdout",
          "text": [
            "| epoch   3 | 24000/58601 batches | loss    1.638 \n",
            "women: about, the, african, stories, she, working, her, people, youth, culture\n",
            "men: justice, people, ranging, which, the, make, them, women, will, youth\n",
            "nurse: practitioner, nursing, honors, affiliated, hospital, specialists, graduated, experience, doctors, medical\n",
            "doctor: college, from, in, of, degree, earned, bachelor, member, obtained, implant\n",
            "engineer: software, engineering, computer, systems, technical, prior, electrical, technology, phd, senior\n",
            "teacher: teachers, education, students, teaching, coordinator, schools, teaches, has, taught, writing\n",
            "dietitian: nutrition, with, experience, specialists, nurse, registered, diverse, honors, hospitals, practitioner\n",
            "\n",
            "\n"
          ]
        },
        {
          "output_type": "stream",
          "name": "stderr",
          "text": [
            "24510it [01:39, 215.44it/s]"
          ]
        },
        {
          "output_type": "stream",
          "name": "stdout",
          "text": [
            "| epoch   3 | 24500/58601 batches | loss    1.632 \n",
            "women: about, the, african, stories, she, working, her, people, youth, culture\n",
            "men: justice, people, ranging, which, the, make, them, women, will, youth\n",
            "nurse: practitioner, nursing, honors, affiliated, hospital, specialists, graduated, experience, doctors, medical\n",
            "doctor: college, from, in, of, degree, earned, bachelor, member, obtained, implant\n",
            "engineer: software, engineering, computer, systems, technical, prior, electrical, technology, phd, senior\n",
            "teacher: teachers, education, students, teaching, coordinator, schools, teaches, has, taught, writing\n",
            "dietitian: nutrition, with, experience, specialists, nurse, registered, diverse, honors, hospitals, practitioner\n",
            "\n",
            "\n"
          ]
        },
        {
          "output_type": "stream",
          "name": "stderr",
          "text": [
            "25022it [01:41, 219.99it/s]"
          ]
        },
        {
          "output_type": "stream",
          "name": "stdout",
          "text": [
            "| epoch   3 | 25000/58601 batches | loss    1.637 \n",
            "women: about, the, african, stories, she, working, her, people, youth, culture\n",
            "men: justice, people, ranging, which, the, make, them, women, will, youth\n",
            "nurse: practitioner, nursing, honors, affiliated, hospital, specialists, graduated, experience, doctors, medical\n",
            "doctor: college, from, in, of, degree, earned, bachelor, member, obtained, implant\n",
            "engineer: software, engineering, computer, systems, technical, prior, electrical, technology, phd, senior\n",
            "teacher: teachers, education, students, teaching, coordinator, schools, teaches, has, taught, writing\n",
            "dietitian: nutrition, with, experience, specialists, nurse, registered, diverse, honors, hospitals, practitioner\n",
            "\n",
            "\n"
          ]
        },
        {
          "output_type": "stream",
          "name": "stderr",
          "text": [
            "25530it [01:43, 225.34it/s]"
          ]
        },
        {
          "output_type": "stream",
          "name": "stdout",
          "text": [
            "| epoch   3 | 25500/58601 batches | loss    1.632 \n",
            "women: about, the, african, stories, she, working, people, her, youth, culture\n",
            "men: justice, people, ranging, which, the, make, them, women, will, youth\n",
            "nurse: practitioner, nursing, honors, affiliated, hospital, specialists, graduated, experience, doctors, medical\n",
            "doctor: college, from, in, degree, of, earned, bachelor, member, obtained, implant\n",
            "engineer: software, engineering, computer, systems, technical, prior, electrical, technology, phd, senior\n",
            "teacher: teachers, education, students, teaching, coordinator, schools, teaches, has, taught, writing\n",
            "dietitian: nutrition, with, experience, specialists, nurse, registered, diverse, honors, hospitals, practitioner\n",
            "\n",
            "\n"
          ]
        },
        {
          "output_type": "stream",
          "name": "stderr",
          "text": [
            "26015it [01:45, 225.05it/s]"
          ]
        },
        {
          "output_type": "stream",
          "name": "stdout",
          "text": [
            "| epoch   3 | 26000/58601 batches | loss    1.633 \n",
            "women: about, the, african, stories, working, she, her, people, youth, culture\n",
            "men: justice, people, ranging, which, the, make, them, women, will, youth\n",
            "nurse: practitioner, nursing, honors, affiliated, hospital, specialists, graduated, experience, doctors, medical\n",
            "doctor: college, from, in, degree, of, earned, bachelor, member, obtained, implant\n",
            "engineer: software, engineering, computer, systems, technical, prior, electrical, technology, phd, senior\n",
            "teacher: teachers, education, students, teaching, coordinator, schools, teaches, has, taught, writing\n",
            "dietitian: nutrition, with, experience, specialists, nurse, registered, diverse, honors, practitioner, hospitals\n",
            "\n",
            "\n"
          ]
        },
        {
          "output_type": "stream",
          "name": "stderr",
          "text": [
            "26522it [01:47, 220.88it/s]"
          ]
        },
        {
          "output_type": "stream",
          "name": "stdout",
          "text": [
            "| epoch   3 | 26500/58601 batches | loss    1.636 \n",
            "women: about, the, african, stories, she, working, her, people, youth, culture\n",
            "men: justice, people, ranging, which, the, make, them, women, will, youth\n",
            "nurse: practitioner, nursing, honors, affiliated, hospital, specialists, graduated, experience, doctors, medical\n",
            "doctor: college, from, in, of, degree, earned, bachelor, member, obtained, implant\n",
            "engineer: software, engineering, computer, systems, technical, prior, electrical, technology, phd, senior\n",
            "teacher: teachers, education, students, teaching, coordinator, schools, teaches, has, taught, writing\n",
            "dietitian: nutrition, with, experience, specialists, nurse, registered, diverse, honors, practitioner, hospitals\n",
            "\n",
            "\n"
          ]
        },
        {
          "output_type": "stream",
          "name": "stderr",
          "text": [
            "27029it [01:49, 222.94it/s]"
          ]
        },
        {
          "output_type": "stream",
          "name": "stdout",
          "text": [
            "| epoch   3 | 27000/58601 batches | loss    1.629 \n",
            "women: about, the, african, stories, working, she, her, people, youth, culture\n",
            "men: justice, people, ranging, which, the, make, them, women, will, youth\n",
            "nurse: practitioner, nursing, honors, affiliated, hospital, specialists, graduated, experience, doctors, medical\n",
            "doctor: college, from, in, of, degree, earned, bachelor, member, obtained, implant\n",
            "engineer: software, engineering, computer, systems, technical, prior, electrical, technology, phd, senior\n",
            "teacher: teachers, education, students, teaching, coordinator, schools, teaches, has, taught, writing\n",
            "dietitian: nutrition, with, experience, specialists, nurse, registered, diverse, honors, practitioner, hospitals\n",
            "\n",
            "\n"
          ]
        },
        {
          "output_type": "stream",
          "name": "stderr",
          "text": [
            "27515it [01:51, 221.70it/s]"
          ]
        },
        {
          "output_type": "stream",
          "name": "stdout",
          "text": [
            "| epoch   3 | 27500/58601 batches | loss    1.632 \n",
            "women: about, the, african, stories, working, she, her, people, youth, culture\n",
            "men: justice, people, ranging, which, the, make, them, women, will, youth\n",
            "nurse: practitioner, nursing, honors, affiliated, hospital, specialists, graduated, experience, doctors, medical\n",
            "doctor: college, in, from, degree, of, earned, bachelor, member, obtained, implant\n",
            "engineer: software, engineering, computer, systems, technical, prior, electrical, technology, phd, senior\n",
            "teacher: teachers, education, students, teaching, coordinator, schools, teaches, has, taught, writing\n",
            "dietitian: nutrition, with, experience, specialists, nurse, registered, diverse, honors, practitioner, hospitals\n",
            "\n",
            "\n"
          ]
        },
        {
          "output_type": "stream",
          "name": "stderr",
          "text": [
            "28024it [01:53, 221.87it/s]"
          ]
        },
        {
          "output_type": "stream",
          "name": "stdout",
          "text": [
            "| epoch   3 | 28000/58601 batches | loss    1.631 \n",
            "women: about, the, african, stories, she, working, her, people, youth, culture\n",
            "men: justice, people, ranging, which, the, make, them, women, will, youth\n",
            "nurse: practitioner, nursing, honors, affiliated, hospital, specialists, graduated, experience, doctors, medical\n",
            "doctor: college, from, in, of, degree, earned, bachelor, member, obtained, implant\n",
            "engineer: software, engineering, computer, systems, technical, prior, electrical, technology, phd, senior\n",
            "teacher: teachers, education, students, teaching, coordinator, schools, teaches, has, taught, writing\n",
            "dietitian: nutrition, with, experience, specialists, nurse, registered, diverse, honors, practitioner, hospitals\n",
            "\n",
            "\n"
          ]
        },
        {
          "output_type": "stream",
          "name": "stderr",
          "text": [
            "28531it [01:55, 226.18it/s]"
          ]
        },
        {
          "output_type": "stream",
          "name": "stdout",
          "text": [
            "| epoch   3 | 28500/58601 batches | loss    1.630 \n",
            "women: about, the, african, stories, she, working, her, people, youth, culture\n",
            "men: justice, people, ranging, the, which, make, them, women, will, youth\n",
            "nurse: practitioner, nursing, honors, affiliated, hospital, specialists, graduated, experience, doctors, medical\n",
            "doctor: college, from, in, of, degree, earned, bachelor, member, obtained, implant\n",
            "engineer: software, engineering, computer, systems, technical, prior, electrical, technology, phd, senior\n",
            "teacher: teachers, education, students, teaching, coordinator, schools, teaches, has, taught, writing\n",
            "dietitian: nutrition, with, experience, specialists, nurse, registered, diverse, honors, practitioner, hospitals\n",
            "\n",
            "\n"
          ]
        },
        {
          "output_type": "stream",
          "name": "stderr",
          "text": [
            "29016it [01:57, 232.22it/s]"
          ]
        },
        {
          "output_type": "stream",
          "name": "stdout",
          "text": [
            "| epoch   3 | 29000/58601 batches | loss    1.631 \n",
            "women: about, the, african, stories, she, working, her, people, youth, culture\n",
            "men: justice, people, ranging, the, which, make, them, women, will, youth\n",
            "nurse: practitioner, nursing, honors, affiliated, hospital, specialists, graduated, experience, doctors, medical\n",
            "doctor: college, from, in, of, degree, earned, bachelor, member, obtained, implant\n",
            "engineer: software, engineering, computer, systems, technical, prior, electrical, technology, phd, senior\n",
            "teacher: teachers, education, students, teaching, coordinator, schools, teaches, has, taught, writing\n",
            "dietitian: nutrition, with, experience, specialists, nurse, registered, diverse, honors, practitioner, hospitals\n",
            "\n",
            "\n"
          ]
        },
        {
          "output_type": "stream",
          "name": "stderr",
          "text": [
            "29523it [01:59, 223.53it/s]"
          ]
        },
        {
          "output_type": "stream",
          "name": "stdout",
          "text": [
            "| epoch   3 | 29500/58601 batches | loss    1.632 \n",
            "women: about, the, african, stories, she, working, her, people, youth, culture\n",
            "men: justice, people, ranging, the, which, make, them, women, will, by\n",
            "nurse: practitioner, nursing, honors, affiliated, hospital, specialists, graduated, experience, doctors, medical\n",
            "doctor: college, from, in, of, degree, earned, bachelor, member, obtained, implant\n",
            "engineer: software, engineering, computer, systems, technical, prior, electrical, technology, phd, senior\n",
            "teacher: teachers, education, students, teaching, coordinator, schools, teaches, has, taught, writing\n",
            "dietitian: nutrition, with, experience, specialists, nurse, registered, diverse, honors, practitioner, hospitals\n",
            "\n",
            "\n"
          ]
        },
        {
          "output_type": "stream",
          "name": "stderr",
          "text": [
            "30032it [02:01, 229.25it/s]"
          ]
        },
        {
          "output_type": "stream",
          "name": "stdout",
          "text": [
            "| epoch   3 | 30000/58601 batches | loss    1.629 \n",
            "women: about, the, african, stories, she, working, her, people, youth, culture\n",
            "men: justice, people, ranging, the, which, make, them, women, will, by\n",
            "nurse: practitioner, nursing, honors, affiliated, hospital, specialists, graduated, experience, doctors, medical\n",
            "doctor: college, from, in, of, degree, earned, bachelor, member, obtained, implant\n",
            "engineer: software, engineering, computer, systems, technical, prior, electrical, technology, phd, senior\n",
            "teacher: teachers, education, students, teaching, coordinator, schools, teaches, has, taught, writing\n",
            "dietitian: nutrition, with, experience, specialists, nurse, registered, diverse, honors, practitioner, hospitals\n",
            "\n",
            "\n"
          ]
        },
        {
          "output_type": "stream",
          "name": "stderr",
          "text": [
            "30520it [02:03, 227.45it/s]"
          ]
        },
        {
          "output_type": "stream",
          "name": "stdout",
          "text": [
            "| epoch   3 | 30500/58601 batches | loss    1.629 \n",
            "women: about, the, african, stories, she, working, her, people, youth, culture\n",
            "men: justice, people, ranging, the, which, make, them, women, will, by\n",
            "nurse: practitioner, nursing, honors, affiliated, hospital, specialists, graduated, experience, doctors, medical\n",
            "doctor: college, from, in, of, degree, earned, bachelor, member, obtained, implant\n",
            "engineer: software, engineering, computer, systems, technical, prior, electrical, technology, phd, senior\n",
            "teacher: teachers, education, students, teaching, coordinator, schools, teaches, has, taught, writing\n",
            "dietitian: nutrition, with, experience, specialists, nurse, registered, diverse, honors, practitioner, hospitals\n",
            "\n",
            "\n"
          ]
        },
        {
          "output_type": "stream",
          "name": "stderr",
          "text": [
            "31028it [02:05, 225.63it/s]"
          ]
        },
        {
          "output_type": "stream",
          "name": "stdout",
          "text": [
            "| epoch   3 | 31000/58601 batches | loss    1.634 \n",
            "women: about, the, african, stories, she, working, her, people, youth, culture\n",
            "men: justice, people, ranging, which, the, them, make, women, will, by\n",
            "nurse: practitioner, nursing, honors, affiliated, hospital, specialists, graduated, experience, doctors, medical\n",
            "doctor: college, from, of, in, degree, earned, bachelor, member, obtained, implant\n",
            "engineer: software, engineering, computer, systems, technical, prior, electrical, technology, phd, senior\n",
            "teacher: teachers, education, students, teaching, coordinator, schools, teaches, has, taught, writing\n",
            "dietitian: nutrition, with, experience, specialists, nurse, registered, diverse, honors, practitioner, hospitals\n",
            "\n",
            "\n"
          ]
        },
        {
          "output_type": "stream",
          "name": "stderr",
          "text": [
            "31512it [02:07, 230.59it/s]"
          ]
        },
        {
          "output_type": "stream",
          "name": "stdout",
          "text": [
            "| epoch   3 | 31500/58601 batches | loss    1.632 \n",
            "women: about, the, african, stories, she, working, her, people, youth, culture\n",
            "men: justice, people, ranging, which, the, make, them, women, will, youth\n",
            "nurse: practitioner, nursing, honors, affiliated, hospital, specialists, graduated, experience, doctors, medical\n",
            "doctor: college, from, of, degree, in, earned, bachelor, member, obtained, implant\n",
            "engineer: software, engineering, computer, systems, technical, prior, electrical, technology, phd, senior\n",
            "teacher: teachers, education, students, teaching, coordinator, schools, teaches, has, taught, writing\n",
            "dietitian: nutrition, with, experience, specialists, nurse, registered, diverse, honors, practitioner, hospitals\n",
            "\n",
            "\n"
          ]
        },
        {
          "output_type": "stream",
          "name": "stderr",
          "text": [
            "32022it [02:09, 224.08it/s]"
          ]
        },
        {
          "output_type": "stream",
          "name": "stdout",
          "text": [
            "| epoch   3 | 32000/58601 batches | loss    1.632 \n",
            "women: about, the, african, stories, she, working, her, people, youth, culture\n",
            "men: justice, people, ranging, the, which, make, them, women, will, by\n",
            "nurse: practitioner, nursing, honors, affiliated, hospital, specialists, graduated, experience, doctors, medical\n",
            "doctor: college, from, of, degree, in, earned, bachelor, member, obtained, implant\n",
            "engineer: software, engineering, computer, systems, technical, prior, electrical, technology, phd, senior\n",
            "teacher: teachers, education, students, teaching, coordinator, schools, teaches, has, taught, writing\n",
            "dietitian: nutrition, with, experience, specialists, nurse, registered, diverse, honors, practitioner, hospitals\n",
            "\n",
            "\n"
          ]
        },
        {
          "output_type": "stream",
          "name": "stderr",
          "text": [
            "32528it [02:11, 224.41it/s]"
          ]
        },
        {
          "output_type": "stream",
          "name": "stdout",
          "text": [
            "| epoch   3 | 32500/58601 batches | loss    1.632 \n",
            "women: about, the, african, stories, she, working, her, people, youth, culture\n",
            "men: justice, people, ranging, the, which, make, them, women, will, youth\n",
            "nurse: practitioner, nursing, honors, affiliated, hospital, specialists, graduated, experience, doctors, medical\n",
            "doctor: college, from, of, degree, in, earned, bachelor, member, obtained, implant\n",
            "engineer: software, engineering, computer, systems, technical, prior, electrical, technology, phd, senior\n",
            "teacher: teachers, education, students, teaching, coordinator, schools, teaches, has, taught, writing\n",
            "dietitian: nutrition, with, experience, specialists, nurse, registered, diverse, honors, hospitals, practitioner\n",
            "\n",
            "\n"
          ]
        },
        {
          "output_type": "stream",
          "name": "stderr",
          "text": [
            "33036it [02:13, 229.31it/s]"
          ]
        },
        {
          "output_type": "stream",
          "name": "stdout",
          "text": [
            "| epoch   3 | 33000/58601 batches | loss    1.633 \n",
            "women: about, the, african, stories, she, working, her, people, youth, culture\n",
            "men: justice, people, ranging, the, which, make, them, women, will, youth\n",
            "nurse: practitioner, nursing, honors, affiliated, hospital, specialists, graduated, experience, doctors, medical\n",
            "doctor: college, from, of, degree, in, earned, bachelor, member, obtained, implant\n",
            "engineer: software, engineering, computer, systems, technical, prior, electrical, technology, phd, senior\n",
            "teacher: teachers, education, students, teaching, coordinator, schools, teaches, has, taught, writing\n",
            "dietitian: nutrition, with, experience, specialists, nurse, registered, diverse, honors, hospitals, practitioner\n",
            "\n",
            "\n"
          ]
        },
        {
          "output_type": "stream",
          "name": "stderr",
          "text": [
            "33516it [02:15, 222.05it/s]"
          ]
        },
        {
          "output_type": "stream",
          "name": "stdout",
          "text": [
            "| epoch   3 | 33500/58601 batches | loss    1.634 \n",
            "women: about, the, african, stories, she, working, her, people, youth, culture\n",
            "men: justice, people, ranging, the, which, make, them, women, will, youth\n",
            "nurse: practitioner, nursing, honors, affiliated, hospital, specialists, graduated, experience, doctors, medical\n",
            "doctor: college, from, of, in, degree, earned, bachelor, member, obtained, implant\n",
            "engineer: software, engineering, computer, systems, technical, prior, electrical, technology, phd, senior\n",
            "teacher: teachers, education, students, teaching, coordinator, schools, has, teaches, taught, writing\n",
            "dietitian: nutrition, with, experience, specialists, nurse, registered, diverse, honors, hospitals, practitioner\n",
            "\n",
            "\n"
          ]
        },
        {
          "output_type": "stream",
          "name": "stderr",
          "text": [
            "34033it [02:17, 229.47it/s]"
          ]
        },
        {
          "output_type": "stream",
          "name": "stdout",
          "text": [
            "| epoch   3 | 34000/58601 batches | loss    1.632 \n",
            "women: about, the, african, stories, she, working, her, people, youth, culture\n",
            "men: justice, people, ranging, the, which, make, them, women, will, youth\n",
            "nurse: practitioner, nursing, honors, affiliated, hospital, specialists, graduated, experience, doctors, medical\n",
            "doctor: college, from, of, degree, in, earned, bachelor, member, obtained, implant\n",
            "engineer: software, engineering, computer, systems, technical, prior, electrical, technology, phd, senior\n",
            "teacher: teachers, education, students, teaching, coordinator, schools, teaches, has, taught, writing\n",
            "dietitian: nutrition, with, experience, specialists, nurse, registered, diverse, honors, hospitals, practitioner\n",
            "\n",
            "\n"
          ]
        },
        {
          "output_type": "stream",
          "name": "stderr",
          "text": [
            "34523it [02:19, 220.45it/s]"
          ]
        },
        {
          "output_type": "stream",
          "name": "stdout",
          "text": [
            "| epoch   3 | 34500/58601 batches | loss    1.634 \n",
            "women: about, the, african, stories, she, working, her, people, youth, culture\n",
            "men: justice, people, ranging, the, which, make, them, women, will, youth\n",
            "nurse: practitioner, nursing, honors, affiliated, hospital, specialists, graduated, experience, doctors, medical\n",
            "doctor: college, from, of, degree, in, earned, bachelor, member, obtained, implant\n",
            "engineer: software, engineering, computer, systems, technical, prior, electrical, technology, phd, senior\n",
            "teacher: teachers, education, students, teaching, coordinator, schools, teaches, has, taught, writing\n",
            "dietitian: nutrition, with, experience, specialists, nurse, registered, diverse, honors, hospitals, practitioner\n",
            "\n",
            "\n"
          ]
        },
        {
          "output_type": "stream",
          "name": "stderr",
          "text": [
            "35032it [02:21, 229.21it/s]"
          ]
        },
        {
          "output_type": "stream",
          "name": "stdout",
          "text": [
            "| epoch   3 | 35000/58601 batches | loss    1.630 \n",
            "women: about, the, african, stories, she, working, her, people, youth, culture\n",
            "men: justice, people, ranging, the, which, make, them, women, will, youth\n",
            "nurse: practitioner, nursing, honors, affiliated, hospital, specialists, graduated, experience, doctors, medical\n",
            "doctor: college, from, of, in, degree, earned, bachelor, member, obtained, implant\n",
            "engineer: software, engineering, computer, systems, technical, prior, electrical, technology, phd, senior\n",
            "teacher: teachers, education, students, teaching, coordinator, schools, teaches, has, taught, writing\n",
            "dietitian: nutrition, with, experience, specialists, nurse, registered, diverse, honors, hospitals, practitioner\n",
            "\n",
            "\n"
          ]
        },
        {
          "output_type": "stream",
          "name": "stderr",
          "text": [
            "35515it [02:23, 224.00it/s]"
          ]
        },
        {
          "output_type": "stream",
          "name": "stdout",
          "text": [
            "| epoch   3 | 35500/58601 batches | loss    1.633 \n",
            "women: about, the, african, stories, she, working, her, people, youth, culture\n",
            "men: justice, people, the, ranging, which, make, them, women, will, youth\n",
            "nurse: practitioner, nursing, honors, affiliated, hospital, specialists, graduated, experience, doctors, medical\n",
            "doctor: college, from, of, in, degree, earned, bachelor, member, obtained, implant\n",
            "engineer: software, engineering, computer, systems, technical, prior, electrical, technology, phd, senior\n",
            "teacher: teachers, education, students, teaching, coordinator, schools, teaches, has, taught, writing\n",
            "dietitian: nutrition, with, experience, specialists, nurse, registered, diverse, honors, practitioner, hospitals\n",
            "\n",
            "\n"
          ]
        },
        {
          "output_type": "stream",
          "name": "stderr",
          "text": [
            "36025it [02:25, 219.61it/s]"
          ]
        },
        {
          "output_type": "stream",
          "name": "stdout",
          "text": [
            "| epoch   3 | 36000/58601 batches | loss    1.632 \n",
            "women: about, the, african, stories, she, working, her, people, youth, culture\n",
            "men: justice, people, the, ranging, which, make, them, women, will, youth\n",
            "nurse: practitioner, nursing, honors, affiliated, hospital, specialists, graduated, experience, doctors, medical\n",
            "doctor: college, from, of, degree, in, earned, bachelor, member, obtained, implant\n",
            "engineer: software, engineering, computer, systems, technical, prior, electrical, technology, phd, senior\n",
            "teacher: teachers, education, students, teaching, coordinator, schools, teaches, has, taught, writing\n",
            "dietitian: nutrition, with, experience, specialists, nurse, registered, diverse, honors, practitioner, hospitals\n",
            "\n",
            "\n"
          ]
        },
        {
          "output_type": "stream",
          "name": "stderr",
          "text": [
            "36530it [02:27, 224.32it/s]"
          ]
        },
        {
          "output_type": "stream",
          "name": "stdout",
          "text": [
            "| epoch   3 | 36500/58601 batches | loss    1.636 \n",
            "women: about, the, african, stories, she, working, her, people, youth, culture\n",
            "men: justice, people, the, ranging, which, them, make, women, will, youth\n",
            "nurse: practitioner, nursing, honors, affiliated, hospital, specialists, graduated, experience, doctors, medical\n",
            "doctor: college, from, of, degree, in, earned, bachelor, member, obtained, implant\n",
            "engineer: software, engineering, computer, systems, technical, prior, electrical, technology, phd, senior\n",
            "teacher: teachers, education, students, teaching, coordinator, schools, teaches, has, taught, writing\n",
            "dietitian: nutrition, with, experience, specialists, nurse, registered, diverse, honors, practitioner, hospitals\n",
            "\n",
            "\n"
          ]
        },
        {
          "output_type": "stream",
          "name": "stderr",
          "text": [
            "37025it [02:29, 220.88it/s]"
          ]
        },
        {
          "output_type": "stream",
          "name": "stdout",
          "text": [
            "| epoch   3 | 37000/58601 batches | loss    1.640 \n",
            "women: about, the, african, stories, she, working, her, people, youth, culture\n",
            "men: justice, people, ranging, the, which, make, them, women, will, youth\n",
            "nurse: practitioner, nursing, honors, affiliated, hospital, specialists, graduated, experience, doctors, medical\n",
            "doctor: college, from, in, of, degree, earned, bachelor, member, obtained, implant\n",
            "engineer: software, engineering, computer, systems, technical, prior, electrical, technology, phd, senior\n",
            "teacher: teachers, education, students, teaching, coordinator, schools, teaches, has, taught, writing\n",
            "dietitian: nutrition, with, experience, specialists, nurse, registered, diverse, honors, practitioner, hospitals\n",
            "\n",
            "\n"
          ]
        },
        {
          "output_type": "stream",
          "name": "stderr",
          "text": [
            "37514it [02:31, 231.64it/s]"
          ]
        },
        {
          "output_type": "stream",
          "name": "stdout",
          "text": [
            "| epoch   3 | 37500/58601 batches | loss    1.636 \n",
            "women: about, the, african, stories, she, working, her, people, youth, culture\n",
            "men: justice, people, ranging, the, which, make, them, women, will, youth\n",
            "nurse: practitioner, nursing, honors, affiliated, hospital, specialists, graduated, experience, doctors, medical\n",
            "doctor: college, from, of, in, degree, earned, bachelor, member, obtained, implant\n",
            "engineer: software, engineering, computer, systems, technical, prior, electrical, technology, phd, senior\n",
            "teacher: teachers, education, students, teaching, coordinator, schools, teaches, has, taught, writing\n",
            "dietitian: nutrition, with, experience, specialists, nurse, registered, diverse, honors, practitioner, hospitals\n",
            "\n",
            "\n"
          ]
        },
        {
          "output_type": "stream",
          "name": "stderr",
          "text": [
            "38024it [02:33, 226.14it/s]"
          ]
        },
        {
          "output_type": "stream",
          "name": "stdout",
          "text": [
            "| epoch   3 | 38000/58601 batches | loss    1.632 \n",
            "women: about, the, african, stories, she, working, her, people, youth, culture\n",
            "men: justice, people, ranging, the, which, make, them, women, will, youth\n",
            "nurse: practitioner, nursing, honors, affiliated, hospital, specialists, graduated, experience, doctors, medical\n",
            "doctor: college, from, of, in, degree, earned, bachelor, member, obtained, implant\n",
            "engineer: software, engineering, computer, systems, technical, prior, electrical, technology, phd, senior\n",
            "teacher: teachers, education, students, teaching, coordinator, schools, teaches, has, taught, writing\n",
            "dietitian: nutrition, with, experience, specialists, nurse, registered, diverse, honors, practitioner, hospitals\n",
            "\n",
            "\n"
          ]
        },
        {
          "output_type": "stream",
          "name": "stderr",
          "text": [
            "38535it [02:35, 231.16it/s]"
          ]
        },
        {
          "output_type": "stream",
          "name": "stdout",
          "text": [
            "| epoch   3 | 38500/58601 batches | loss    1.632 \n",
            "women: about, the, african, stories, she, working, her, people, youth, culture\n",
            "men: justice, people, ranging, which, the, make, them, women, will, by\n",
            "nurse: practitioner, nursing, honors, affiliated, hospital, specialists, graduated, experience, doctors, medical\n",
            "doctor: college, from, of, in, degree, earned, bachelor, member, obtained, implant\n",
            "engineer: software, engineering, computer, systems, technical, prior, electrical, technology, phd, senior\n",
            "teacher: teachers, education, students, teaching, coordinator, schools, teaches, has, taught, writing\n",
            "dietitian: nutrition, with, experience, specialists, nurse, registered, diverse, honors, practitioner, hospitals\n",
            "\n",
            "\n"
          ]
        },
        {
          "output_type": "stream",
          "name": "stderr",
          "text": [
            "39020it [02:36, 218.26it/s]"
          ]
        },
        {
          "output_type": "stream",
          "name": "stdout",
          "text": [
            "| epoch   3 | 39000/58601 batches | loss    1.636 \n",
            "women: about, the, african, stories, she, working, her, people, youth, culture\n",
            "men: justice, people, ranging, which, the, make, them, women, will, by\n",
            "nurse: practitioner, nursing, honors, affiliated, hospital, specialists, graduated, experience, doctors, medical\n",
            "doctor: college, from, of, in, degree, earned, bachelor, member, obtained, implant\n",
            "engineer: software, engineering, computer, systems, technical, prior, electrical, technology, phd, senior\n",
            "teacher: teachers, education, students, teaching, coordinator, schools, teaches, has, taught, writing\n",
            "dietitian: nutrition, with, experience, specialists, nurse, registered, diverse, honors, hospitals, practitioner\n",
            "\n",
            "\n"
          ]
        },
        {
          "output_type": "stream",
          "name": "stderr",
          "text": [
            "39528it [02:38, 224.90it/s]"
          ]
        },
        {
          "output_type": "stream",
          "name": "stdout",
          "text": [
            "| epoch   3 | 39500/58601 batches | loss    1.632 \n",
            "women: about, the, african, stories, she, working, her, people, youth, culture\n",
            "men: justice, people, ranging, which, the, make, them, women, will, youth\n",
            "nurse: practitioner, nursing, honors, affiliated, hospital, specialists, graduated, experience, doctors, medical\n",
            "doctor: college, from, of, degree, in, earned, bachelor, member, obtained, implant\n",
            "engineer: software, engineering, computer, systems, technical, prior, electrical, technology, phd, senior\n",
            "teacher: teachers, education, students, teaching, coordinator, schools, teaches, has, taught, writing\n",
            "dietitian: nutrition, with, experience, specialists, nurse, registered, diverse, honors, hospitals, practitioner\n",
            "\n",
            "\n"
          ]
        },
        {
          "output_type": "stream",
          "name": "stderr",
          "text": [
            "40018it [02:40, 224.47it/s]"
          ]
        },
        {
          "output_type": "stream",
          "name": "stdout",
          "text": [
            "| epoch   3 | 40000/58601 batches | loss    1.632 \n",
            "women: about, the, african, stories, she, working, her, people, youth, culture\n",
            "men: justice, people, ranging, the, which, make, them, women, will, by\n",
            "nurse: practitioner, nursing, honors, affiliated, hospital, specialists, graduated, experience, doctors, medical\n",
            "doctor: college, from, of, degree, in, earned, bachelor, member, obtained, implant\n",
            "engineer: software, engineering, computer, systems, technical, prior, electrical, technology, phd, senior\n",
            "teacher: teachers, education, students, teaching, coordinator, schools, teaches, has, taught, writing\n",
            "dietitian: nutrition, with, experience, specialists, nurse, registered, diverse, honors, practitioner, hospitals\n",
            "\n",
            "\n"
          ]
        },
        {
          "output_type": "stream",
          "name": "stderr",
          "text": [
            "40531it [02:42, 221.95it/s]"
          ]
        },
        {
          "output_type": "stream",
          "name": "stdout",
          "text": [
            "| epoch   3 | 40500/58601 batches | loss    1.635 \n",
            "women: about, the, african, stories, she, working, her, people, youth, culture\n",
            "men: justice, people, ranging, which, the, make, them, women, will, by\n",
            "nurse: practitioner, nursing, honors, affiliated, hospital, specialists, graduated, experience, doctors, medical\n",
            "doctor: college, from, of, degree, in, earned, bachelor, member, obtained, implant\n",
            "engineer: software, engineering, computer, systems, technical, prior, electrical, technology, phd, senior\n",
            "teacher: teachers, education, students, teaching, coordinator, schools, teaches, has, taught, writing\n",
            "dietitian: nutrition, with, experience, specialists, nurse, registered, diverse, honors, practitioner, hospitals\n",
            "\n",
            "\n"
          ]
        },
        {
          "output_type": "stream",
          "name": "stderr",
          "text": [
            "41016it [02:44, 227.12it/s]"
          ]
        },
        {
          "output_type": "stream",
          "name": "stdout",
          "text": [
            "| epoch   3 | 41000/58601 batches | loss    1.634 \n",
            "women: about, the, african, stories, she, working, her, people, youth, culture\n",
            "men: justice, people, ranging, which, the, make, them, women, will, by\n",
            "nurse: practitioner, nursing, honors, affiliated, hospital, specialists, graduated, experience, doctors, medical\n",
            "doctor: college, of, from, degree, in, earned, bachelor, member, obtained, implant\n",
            "engineer: software, engineering, computer, systems, technical, prior, electrical, technology, phd, senior\n",
            "teacher: teachers, education, students, teaching, coordinator, schools, teaches, has, taught, writing\n",
            "dietitian: nutrition, with, experience, specialists, nurse, registered, diverse, honors, practitioner, hospitals\n",
            "\n",
            "\n"
          ]
        },
        {
          "output_type": "stream",
          "name": "stderr",
          "text": [
            "41524it [02:46, 220.20it/s]"
          ]
        },
        {
          "output_type": "stream",
          "name": "stdout",
          "text": [
            "| epoch   3 | 41500/58601 batches | loss    1.635 \n",
            "women: about, the, african, stories, she, working, her, people, youth, culture\n",
            "men: justice, people, ranging, which, the, make, them, women, will, by\n",
            "nurse: practitioner, nursing, honors, affiliated, hospital, specialists, graduated, experience, doctors, medical\n",
            "doctor: college, of, from, degree, in, earned, bachelor, member, obtained, implant\n",
            "engineer: software, engineering, computer, systems, technical, prior, electrical, technology, phd, senior\n",
            "teacher: teachers, education, students, teaching, coordinator, schools, teaches, has, taught, writing\n",
            "dietitian: nutrition, with, experience, specialists, nurse, registered, diverse, honors, practitioner, hospitals\n",
            "\n",
            "\n"
          ]
        },
        {
          "output_type": "stream",
          "name": "stderr",
          "text": [
            "42035it [02:48, 229.13it/s]"
          ]
        },
        {
          "output_type": "stream",
          "name": "stdout",
          "text": [
            "| epoch   3 | 42000/58601 batches | loss    1.632 \n",
            "women: about, the, african, stories, she, working, her, people, youth, culture\n",
            "men: justice, people, ranging, which, the, make, them, women, will, by\n",
            "nurse: practitioner, nursing, honors, affiliated, hospital, specialists, graduated, experience, doctors, medical\n",
            "doctor: college, of, from, degree, in, earned, bachelor, member, obtained, implant\n",
            "engineer: software, engineering, computer, systems, technical, prior, electrical, technology, phd, senior\n",
            "teacher: teachers, education, students, teaching, coordinator, schools, teaches, has, taught, writing\n",
            "dietitian: nutrition, with, experience, specialists, nurse, registered, diverse, honors, practitioner, hospitals\n",
            "\n",
            "\n"
          ]
        },
        {
          "output_type": "stream",
          "name": "stderr",
          "text": [
            "42522it [02:50, 222.31it/s]"
          ]
        },
        {
          "output_type": "stream",
          "name": "stdout",
          "text": [
            "| epoch   3 | 42500/58601 batches | loss    1.636 \n",
            "women: about, the, african, stories, she, working, her, people, youth, culture\n",
            "men: justice, people, ranging, the, which, make, them, women, will, by\n",
            "nurse: practitioner, nursing, honors, affiliated, hospital, specialists, graduated, experience, doctors, hospitals\n",
            "doctor: college, of, from, degree, in, earned, bachelor, member, obtained, implant\n",
            "engineer: software, engineering, computer, systems, technical, prior, electrical, technology, phd, senior\n",
            "teacher: teachers, education, students, teaching, coordinator, schools, teaches, has, taught, writing\n",
            "dietitian: nutrition, with, experience, specialists, nurse, registered, diverse, honors, practitioner, hospitals\n",
            "\n",
            "\n"
          ]
        },
        {
          "output_type": "stream",
          "name": "stderr",
          "text": [
            "43013it [02:52, 232.59it/s]"
          ]
        },
        {
          "output_type": "stream",
          "name": "stdout",
          "text": [
            "| epoch   3 | 43000/58601 batches | loss    1.635 \n",
            "women: about, the, african, stories, she, working, her, people, youth, culture\n",
            "men: justice, people, ranging, which, the, make, them, women, will, by\n",
            "nurse: practitioner, nursing, honors, affiliated, hospital, specialists, graduated, experience, doctors, medical\n",
            "doctor: college, of, from, degree, in, earned, bachelor, member, obtained, implant\n",
            "engineer: software, engineering, computer, systems, technical, prior, electrical, technology, phd, senior\n",
            "teacher: teachers, education, students, teaching, coordinator, schools, teaches, has, taught, writing\n",
            "dietitian: nutrition, with, experience, specialists, nurse, registered, diverse, honors, practitioner, hospitals\n",
            "\n",
            "\n"
          ]
        },
        {
          "output_type": "stream",
          "name": "stderr",
          "text": [
            "43526it [02:54, 221.92it/s]"
          ]
        },
        {
          "output_type": "stream",
          "name": "stdout",
          "text": [
            "| epoch   3 | 43500/58601 batches | loss    1.635 \n",
            "women: about, the, african, stories, she, working, her, people, youth, culture\n",
            "men: justice, people, ranging, which, the, make, them, women, will, by\n",
            "nurse: practitioner, nursing, honors, affiliated, hospital, specialists, graduated, experience, doctors, medical\n",
            "doctor: college, of, from, degree, in, earned, bachelor, member, obtained, implant\n",
            "engineer: software, engineering, computer, systems, technical, prior, electrical, technology, phd, senior\n",
            "teacher: teachers, education, students, teaching, coordinator, schools, teaches, taught, has, writing\n",
            "dietitian: nutrition, with, experience, specialists, nurse, registered, diverse, honors, practitioner, hospitals\n",
            "\n",
            "\n"
          ]
        },
        {
          "output_type": "stream",
          "name": "stderr",
          "text": [
            "44035it [02:56, 229.64it/s]"
          ]
        },
        {
          "output_type": "stream",
          "name": "stdout",
          "text": [
            "| epoch   3 | 44000/58601 batches | loss    1.631 \n",
            "women: about, the, african, stories, she, working, her, people, youth, culture\n",
            "men: justice, people, ranging, which, the, make, them, women, will, by\n",
            "nurse: practitioner, nursing, honors, affiliated, hospital, specialists, graduated, experience, doctors, medical\n",
            "doctor: college, of, from, in, degree, earned, bachelor, member, obtained, implant\n",
            "engineer: software, engineering, computer, systems, technical, prior, electrical, technology, phd, senior\n",
            "teacher: teachers, education, students, teaching, coordinator, schools, teaches, taught, has, writing\n",
            "dietitian: nutrition, with, experience, specialists, nurse, registered, diverse, honors, practitioner, hospitals\n",
            "\n",
            "\n"
          ]
        },
        {
          "output_type": "stream",
          "name": "stderr",
          "text": [
            "44523it [02:58, 222.81it/s]"
          ]
        },
        {
          "output_type": "stream",
          "name": "stdout",
          "text": [
            "| epoch   3 | 44500/58601 batches | loss    1.636 \n",
            "women: about, the, african, stories, she, working, her, people, youth, culture\n",
            "men: justice, people, ranging, which, the, make, them, women, will, by\n",
            "nurse: practitioner, nursing, honors, affiliated, hospital, specialists, graduated, experience, doctors, medical\n",
            "doctor: college, from, of, degree, in, earned, bachelor, member, obtained, implant\n",
            "engineer: software, engineering, computer, systems, technical, prior, electrical, technology, phd, senior\n",
            "teacher: teachers, education, students, teaching, coordinator, schools, teaches, taught, has, writing\n",
            "dietitian: nutrition, with, experience, specialists, nurse, registered, diverse, honors, practitioner, hospitals\n",
            "\n",
            "\n"
          ]
        },
        {
          "output_type": "stream",
          "name": "stderr",
          "text": [
            "45026it [03:00, 216.87it/s]"
          ]
        },
        {
          "output_type": "stream",
          "name": "stdout",
          "text": [
            "| epoch   3 | 45000/58601 batches | loss    1.633 \n",
            "women: about, the, african, stories, she, working, her, people, youth, culture\n",
            "men: justice, people, ranging, which, the, make, them, women, will, by\n",
            "nurse: practitioner, nursing, honors, affiliated, hospital, specialists, graduated, experience, doctors, medical\n",
            "doctor: college, from, of, degree, in, earned, bachelor, obtained, member, implant\n",
            "engineer: software, engineering, computer, systems, technical, prior, electrical, technology, phd, senior\n",
            "teacher: teachers, education, students, teaching, coordinator, schools, teaches, taught, has, writing\n",
            "dietitian: nutrition, with, experience, specialists, nurse, registered, diverse, honors, practitioner, hospitals\n",
            "\n",
            "\n"
          ]
        },
        {
          "output_type": "stream",
          "name": "stderr",
          "text": [
            "45533it [03:02, 224.64it/s]"
          ]
        },
        {
          "output_type": "stream",
          "name": "stdout",
          "text": [
            "| epoch   3 | 45500/58601 batches | loss    1.625 \n",
            "women: about, the, african, stories, she, working, her, people, youth, culture\n",
            "men: justice, people, ranging, which, the, make, them, women, will, by\n",
            "nurse: practitioner, nursing, honors, affiliated, hospital, specialists, graduated, experience, doctors, medical\n",
            "doctor: college, from, of, in, degree, earned, bachelor, obtained, member, implant\n",
            "engineer: software, engineering, computer, systems, technical, prior, electrical, technology, phd, senior\n",
            "teacher: teachers, education, students, teaching, coordinator, schools, teaches, taught, has, writing\n",
            "dietitian: nutrition, with, experience, specialists, nurse, registered, diverse, honors, practitioner, hospitals\n",
            "\n",
            "\n"
          ]
        },
        {
          "output_type": "stream",
          "name": "stderr",
          "text": [
            "46016it [03:04, 225.07it/s]"
          ]
        },
        {
          "output_type": "stream",
          "name": "stdout",
          "text": [
            "| epoch   3 | 46000/58601 batches | loss    1.634 \n",
            "women: about, the, african, stories, she, working, her, people, youth, culture\n",
            "men: justice, people, ranging, which, the, make, them, women, will, by\n",
            "nurse: practitioner, nursing, honors, affiliated, hospital, specialists, graduated, experience, doctors, medical\n",
            "doctor: college, from, of, in, degree, earned, bachelor, obtained, member, implant\n",
            "engineer: software, engineering, computer, systems, technical, prior, electrical, technology, phd, senior\n",
            "teacher: teachers, education, students, teaching, coordinator, schools, teaches, taught, has, writing\n",
            "dietitian: nutrition, with, experience, specialists, nurse, registered, diverse, honors, practitioner, hospitals\n",
            "\n",
            "\n"
          ]
        },
        {
          "output_type": "stream",
          "name": "stderr",
          "text": [
            "46526it [03:06, 224.60it/s]"
          ]
        },
        {
          "output_type": "stream",
          "name": "stdout",
          "text": [
            "| epoch   3 | 46500/58601 batches | loss    1.631 \n",
            "women: about, the, african, stories, she, working, her, people, youth, culture\n",
            "men: justice, people, ranging, which, the, make, them, women, will, by\n",
            "nurse: practitioner, nursing, honors, affiliated, hospital, specialists, graduated, experience, doctors, medical\n",
            "doctor: college, from, of, in, degree, earned, bachelor, obtained, member, implant\n",
            "engineer: software, engineering, computer, systems, technical, prior, electrical, technology, phd, senior\n",
            "teacher: teachers, education, students, teaching, coordinator, schools, teaches, taught, has, writing\n",
            "dietitian: nutrition, with, experience, specialists, nurse, registered, diverse, honors, practitioner, hospitals\n",
            "\n",
            "\n"
          ]
        },
        {
          "output_type": "stream",
          "name": "stderr",
          "text": [
            "47018it [03:08, 227.38it/s]"
          ]
        },
        {
          "output_type": "stream",
          "name": "stdout",
          "text": [
            "| epoch   3 | 47000/58601 batches | loss    1.630 \n",
            "women: about, the, african, she, stories, working, her, people, youth, culture\n",
            "men: justice, people, ranging, which, the, make, them, women, will, by\n",
            "nurse: practitioner, nursing, honors, affiliated, hospital, specialists, graduated, experience, doctors, medical\n",
            "doctor: college, from, of, in, degree, earned, bachelor, obtained, member, implant\n",
            "engineer: software, engineering, computer, systems, technical, prior, electrical, technology, phd, senior\n",
            "teacher: teachers, education, students, teaching, coordinator, schools, teaches, has, taught, writing\n",
            "dietitian: nutrition, with, experience, specialists, nurse, registered, diverse, honors, practitioner, hospitals\n",
            "\n",
            "\n"
          ]
        },
        {
          "output_type": "stream",
          "name": "stderr",
          "text": [
            "47524it [03:10, 222.47it/s]"
          ]
        },
        {
          "output_type": "stream",
          "name": "stdout",
          "text": [
            "| epoch   3 | 47500/58601 batches | loss    1.637 \n",
            "women: about, the, african, stories, she, working, her, people, youth, culture\n",
            "men: justice, people, ranging, the, which, make, them, women, will, by\n",
            "nurse: practitioner, nursing, honors, affiliated, hospital, specialists, graduated, experience, doctors, medical\n",
            "doctor: college, from, of, in, degree, earned, bachelor, obtained, member, implant\n",
            "engineer: software, engineering, computer, systems, technical, prior, electrical, technology, phd, senior\n",
            "teacher: teachers, education, students, teaching, coordinator, schools, teaches, has, taught, writing\n",
            "dietitian: nutrition, with, experience, specialists, nurse, registered, diverse, honors, practitioner, hospitals\n",
            "\n",
            "\n"
          ]
        },
        {
          "output_type": "stream",
          "name": "stderr",
          "text": [
            "48032it [03:12, 225.48it/s]"
          ]
        },
        {
          "output_type": "stream",
          "name": "stdout",
          "text": [
            "| epoch   3 | 48000/58601 batches | loss    1.633 \n",
            "women: about, the, african, stories, she, working, her, people, youth, culture\n",
            "men: justice, people, ranging, the, which, make, them, women, will, by\n",
            "nurse: practitioner, nursing, honors, affiliated, hospital, specialists, graduated, experience, doctors, medical\n",
            "doctor: college, from, of, degree, in, earned, bachelor, obtained, member, implant\n",
            "engineer: software, engineering, computer, systems, technical, prior, electrical, technology, phd, senior\n",
            "teacher: teachers, education, students, teaching, coordinator, schools, teaches, has, taught, writing\n",
            "dietitian: nutrition, with, experience, specialists, nurse, registered, diverse, honors, practitioner, hospitals\n",
            "\n",
            "\n"
          ]
        },
        {
          "output_type": "stream",
          "name": "stderr",
          "text": [
            "48513it [03:14, 233.90it/s]"
          ]
        },
        {
          "output_type": "stream",
          "name": "stdout",
          "text": [
            "| epoch   3 | 48500/58601 batches | loss    1.632 \n",
            "women: about, the, african, stories, she, working, her, people, youth, culture\n",
            "men: justice, people, ranging, the, which, make, them, women, will, by\n",
            "nurse: practitioner, nursing, honors, affiliated, hospital, specialists, graduated, experience, doctors, medical\n",
            "doctor: college, of, from, degree, in, earned, bachelor, obtained, member, implant\n",
            "engineer: software, engineering, computer, systems, technical, prior, electrical, technology, phd, senior\n",
            "teacher: teachers, education, students, teaching, coordinator, schools, teaches, has, taught, writing\n",
            "dietitian: nutrition, with, experience, specialists, nurse, registered, diverse, honors, practitioner, hospitals\n",
            "\n",
            "\n"
          ]
        },
        {
          "output_type": "stream",
          "name": "stderr",
          "text": [
            "49018it [03:16, 220.02it/s]"
          ]
        },
        {
          "output_type": "stream",
          "name": "stdout",
          "text": [
            "| epoch   3 | 49000/58601 batches | loss    1.631 \n",
            "women: about, the, african, she, stories, working, her, people, youth, culture\n",
            "men: justice, people, ranging, the, which, make, them, women, will, by\n",
            "nurse: practitioner, nursing, honors, affiliated, hospital, specialists, graduated, experience, doctors, medical\n",
            "doctor: college, of, from, degree, in, earned, bachelor, obtained, implant, member\n",
            "engineer: software, engineering, computer, systems, technical, prior, electrical, technology, phd, senior\n",
            "teacher: teachers, education, students, teaching, coordinator, schools, teaches, has, taught, writing\n",
            "dietitian: nutrition, with, experience, specialists, nurse, registered, diverse, honors, practitioner, hospitals\n",
            "\n",
            "\n"
          ]
        },
        {
          "output_type": "stream",
          "name": "stderr",
          "text": [
            "49525it [03:18, 224.43it/s]"
          ]
        },
        {
          "output_type": "stream",
          "name": "stdout",
          "text": [
            "| epoch   3 | 49500/58601 batches | loss    1.630 \n",
            "women: about, the, african, she, stories, working, her, people, youth, culture\n",
            "men: justice, people, ranging, the, which, make, them, women, will, by\n",
            "nurse: practitioner, nursing, honors, affiliated, hospital, specialists, graduated, experience, doctors, medical\n",
            "doctor: college, of, from, degree, in, earned, bachelor, obtained, member, implant\n",
            "engineer: software, engineering, computer, systems, technical, prior, electrical, technology, phd, senior\n",
            "teacher: teachers, education, students, teaching, coordinator, schools, teaches, has, taught, writing\n",
            "dietitian: nutrition, with, experience, specialists, nurse, registered, diverse, honors, practitioner, hospitals\n",
            "\n",
            "\n"
          ]
        },
        {
          "output_type": "stream",
          "name": "stderr",
          "text": [
            "50036it [03:20, 230.09it/s]"
          ]
        },
        {
          "output_type": "stream",
          "name": "stdout",
          "text": [
            "| epoch   3 | 50000/58601 batches | loss    1.631 \n",
            "women: about, the, african, she, stories, working, her, people, youth, culture\n",
            "men: justice, people, ranging, which, the, make, them, women, will, by\n",
            "nurse: practitioner, nursing, honors, affiliated, hospital, specialists, graduated, experience, doctors, hospitals\n",
            "doctor: college, from, of, degree, in, earned, bachelor, obtained, implant, member\n",
            "engineer: software, engineering, computer, systems, technical, prior, electrical, technology, phd, senior\n",
            "teacher: teachers, education, students, teaching, coordinator, schools, teaches, has, taught, writing\n",
            "dietitian: nutrition, with, experience, specialists, nurse, registered, diverse, honors, practitioner, hospitals\n",
            "\n",
            "\n"
          ]
        },
        {
          "output_type": "stream",
          "name": "stderr",
          "text": [
            "50527it [03:22, 228.17it/s]"
          ]
        },
        {
          "output_type": "stream",
          "name": "stdout",
          "text": [
            "| epoch   3 | 50500/58601 batches | loss    1.633 \n",
            "women: about, the, african, she, stories, working, her, people, youth, culture\n",
            "men: justice, people, ranging, the, which, make, them, women, will, by\n",
            "nurse: practitioner, nursing, honors, affiliated, hospital, specialists, graduated, experience, doctors, medical\n",
            "doctor: college, from, of, degree, in, earned, bachelor, obtained, implant, member\n",
            "engineer: software, engineering, computer, systems, technical, prior, electrical, technology, phd, senior\n",
            "teacher: teachers, education, students, teaching, coordinator, schools, teaches, has, taught, writing\n",
            "dietitian: nutrition, with, experience, specialists, nurse, registered, diverse, honors, practitioner, hospitals\n",
            "\n",
            "\n"
          ]
        },
        {
          "output_type": "stream",
          "name": "stderr",
          "text": [
            "51019it [03:24, 226.14it/s]"
          ]
        },
        {
          "output_type": "stream",
          "name": "stdout",
          "text": [
            "| epoch   3 | 51000/58601 batches | loss    1.625 \n",
            "women: about, the, african, she, stories, working, her, people, youth, culture\n",
            "men: justice, people, ranging, which, the, make, them, will, women, by\n",
            "nurse: practitioner, nursing, honors, affiliated, hospital, specialists, graduated, experience, doctors, medical\n",
            "doctor: college, from, of, degree, in, earned, bachelor, obtained, implant, member\n",
            "engineer: software, engineering, computer, systems, technical, prior, electrical, technology, phd, senior\n",
            "teacher: teachers, education, students, teaching, coordinator, schools, teaches, has, taught, writing\n",
            "dietitian: nutrition, with, experience, specialists, nurse, registered, diverse, honors, practitioner, hospitals\n",
            "\n",
            "\n"
          ]
        },
        {
          "output_type": "stream",
          "name": "stderr",
          "text": [
            "51512it [03:25, 230.88it/s]"
          ]
        },
        {
          "output_type": "stream",
          "name": "stdout",
          "text": [
            "| epoch   3 | 51500/58601 batches | loss    1.635 \n",
            "women: about, the, african, she, stories, working, her, people, youth, culture\n",
            "men: justice, people, ranging, which, the, make, them, will, women, by\n",
            "nurse: practitioner, nursing, honors, affiliated, hospital, specialists, graduated, experience, doctors, medical\n",
            "doctor: college, from, of, degree, in, earned, bachelor, obtained, member, implant\n",
            "engineer: software, engineering, computer, systems, technical, prior, electrical, technology, phd, senior\n",
            "teacher: teachers, education, students, teaching, coordinator, schools, teaches, has, taught, writing\n",
            "dietitian: nutrition, with, experience, specialists, nurse, registered, diverse, honors, practitioner, hospitals\n",
            "\n",
            "\n"
          ]
        },
        {
          "output_type": "stream",
          "name": "stderr",
          "text": [
            "52026it [03:27, 218.93it/s]"
          ]
        },
        {
          "output_type": "stream",
          "name": "stdout",
          "text": [
            "| epoch   3 | 52000/58601 batches | loss    1.631 \n",
            "women: about, the, african, she, stories, working, her, people, youth, culture\n",
            "men: justice, people, ranging, which, the, make, them, will, women, by\n",
            "nurse: practitioner, nursing, honors, affiliated, hospital, specialists, graduated, experience, doctors, medical\n",
            "doctor: college, from, of, degree, in, earned, bachelor, obtained, member, implant\n",
            "engineer: software, engineering, computer, systems, technical, prior, electrical, technology, phd, senior\n",
            "teacher: teachers, education, students, teaching, coordinator, schools, teaches, has, taught, writing\n",
            "dietitian: nutrition, with, experience, specialists, nurse, registered, diverse, honors, practitioner, hospitals\n",
            "\n",
            "\n"
          ]
        },
        {
          "output_type": "stream",
          "name": "stderr",
          "text": [
            "52534it [03:29, 226.75it/s]"
          ]
        },
        {
          "output_type": "stream",
          "name": "stdout",
          "text": [
            "| epoch   3 | 52500/58601 batches | loss    1.631 \n",
            "women: about, the, african, she, stories, working, her, people, youth, culture\n",
            "men: justice, people, ranging, which, the, make, them, women, will, by\n",
            "nurse: practitioner, nursing, honors, affiliated, hospital, specialists, graduated, experience, doctors, medical\n",
            "doctor: college, from, of, in, degree, earned, bachelor, obtained, member, implant\n",
            "engineer: software, engineering, computer, systems, technical, prior, electrical, technology, phd, senior\n",
            "teacher: teachers, education, students, teaching, coordinator, schools, teaches, has, taught, writing\n",
            "dietitian: nutrition, with, experience, specialists, nurse, registered, diverse, honors, practitioner, hospitals\n",
            "\n",
            "\n"
          ]
        },
        {
          "output_type": "stream",
          "name": "stderr",
          "text": [
            "53021it [03:31, 223.78it/s]"
          ]
        },
        {
          "output_type": "stream",
          "name": "stdout",
          "text": [
            "| epoch   3 | 53000/58601 batches | loss    1.632 \n",
            "women: about, the, african, she, stories, working, her, people, youth, culture\n",
            "men: justice, people, ranging, which, the, make, them, will, women, by\n",
            "nurse: practitioner, nursing, honors, affiliated, hospital, specialists, graduated, experience, doctors, medical\n",
            "doctor: college, from, of, degree, in, earned, bachelor, obtained, member, implant\n",
            "engineer: software, engineering, computer, systems, technical, prior, electrical, technology, phd, senior\n",
            "teacher: teachers, education, students, teaching, coordinator, schools, teaches, has, taught, writing\n",
            "dietitian: nutrition, with, experience, specialists, nurse, registered, diverse, honors, practitioner, hospitals\n",
            "\n",
            "\n"
          ]
        },
        {
          "output_type": "stream",
          "name": "stderr",
          "text": [
            "53526it [03:33, 222.49it/s]"
          ]
        },
        {
          "output_type": "stream",
          "name": "stdout",
          "text": [
            "| epoch   3 | 53500/58601 batches | loss    1.630 \n",
            "women: about, the, african, she, stories, working, her, people, youth, culture\n",
            "men: justice, people, ranging, which, the, make, them, women, will, by\n",
            "nurse: practitioner, nursing, honors, affiliated, hospital, specialists, graduated, experience, doctors, medical\n",
            "doctor: college, from, of, degree, in, earned, bachelor, obtained, member, implant\n",
            "engineer: software, engineering, computer, systems, technical, prior, electrical, technology, phd, senior\n",
            "teacher: teachers, education, students, teaching, coordinator, schools, teaches, has, taught, writing\n",
            "dietitian: nutrition, with, experience, specialists, nurse, registered, diverse, honors, practitioner, hospitals\n",
            "\n",
            "\n"
          ]
        },
        {
          "output_type": "stream",
          "name": "stderr",
          "text": [
            "54032it [03:35, 221.34it/s]"
          ]
        },
        {
          "output_type": "stream",
          "name": "stdout",
          "text": [
            "| epoch   3 | 54000/58601 batches | loss    1.633 \n",
            "women: about, african, the, she, stories, working, her, people, youth, culture\n",
            "men: justice, people, ranging, which, the, make, them, will, women, by\n",
            "nurse: practitioner, nursing, honors, affiliated, hospital, specialists, graduated, experience, doctors, medical\n",
            "doctor: college, from, of, degree, in, earned, bachelor, obtained, member, implant\n",
            "engineer: software, engineering, computer, systems, technical, prior, electrical, technology, phd, senior\n",
            "teacher: teachers, education, students, teaching, coordinator, schools, teaches, has, taught, writing\n",
            "dietitian: nutrition, with, experience, specialists, nurse, registered, diverse, honors, practitioner, hospitals\n",
            "\n",
            "\n"
          ]
        },
        {
          "output_type": "stream",
          "name": "stderr",
          "text": [
            "54517it [03:37, 226.21it/s]"
          ]
        },
        {
          "output_type": "stream",
          "name": "stdout",
          "text": [
            "| epoch   3 | 54500/58601 batches | loss    1.635 \n",
            "women: about, african, she, the, stories, working, her, people, youth, culture\n",
            "men: justice, people, ranging, which, the, make, them, will, women, by\n",
            "nurse: practitioner, nursing, honors, affiliated, hospital, specialists, graduated, experience, doctors, medical\n",
            "doctor: college, from, of, degree, in, earned, bachelor, member, obtained, implant\n",
            "engineer: software, engineering, computer, systems, technical, prior, electrical, technology, phd, senior\n",
            "teacher: teachers, education, students, teaching, coordinator, schools, teaches, has, taught, writing\n",
            "dietitian: nutrition, with, experience, specialists, nurse, registered, diverse, honors, practitioner, hospitals\n",
            "\n",
            "\n"
          ]
        },
        {
          "output_type": "stream",
          "name": "stderr",
          "text": [
            "55030it [03:39, 229.35it/s]"
          ]
        },
        {
          "output_type": "stream",
          "name": "stdout",
          "text": [
            "| epoch   3 | 55000/58601 batches | loss    1.633 \n",
            "women: about, african, the, she, stories, working, her, people, youth, culture\n",
            "men: justice, people, ranging, which, the, make, them, will, women, by\n",
            "nurse: practitioner, nursing, honors, affiliated, hospital, specialists, graduated, experience, doctors, medical\n",
            "doctor: college, from, of, degree, earned, in, bachelor, member, obtained, implant\n",
            "engineer: software, engineering, computer, systems, technical, prior, electrical, technology, phd, senior\n",
            "teacher: teachers, education, students, teaching, coordinator, schools, teaches, has, taught, writing\n",
            "dietitian: nutrition, with, experience, specialists, nurse, registered, diverse, honors, practitioner, hospitals\n",
            "\n",
            "\n"
          ]
        },
        {
          "output_type": "stream",
          "name": "stderr",
          "text": [
            "55513it [03:41, 224.98it/s]"
          ]
        },
        {
          "output_type": "stream",
          "name": "stdout",
          "text": [
            "| epoch   3 | 55500/58601 batches | loss    1.630 \n",
            "women: about, african, the, she, stories, working, her, people, youth, culture\n",
            "men: justice, people, ranging, which, the, make, them, will, women, by\n",
            "nurse: practitioner, nursing, honors, affiliated, hospital, specialists, graduated, experience, doctors, medical\n",
            "doctor: college, from, of, degree, earned, in, bachelor, member, obtained, implant\n",
            "engineer: software, engineering, computer, systems, technical, prior, electrical, technology, phd, senior\n",
            "teacher: teachers, education, students, teaching, coordinator, schools, teaches, has, taught, writing\n",
            "dietitian: nutrition, with, experience, specialists, nurse, registered, diverse, honors, practitioner, hospitals\n",
            "\n",
            "\n"
          ]
        },
        {
          "output_type": "stream",
          "name": "stderr",
          "text": [
            "56024it [03:43, 223.42it/s]"
          ]
        },
        {
          "output_type": "stream",
          "name": "stdout",
          "text": [
            "| epoch   3 | 56000/58601 batches | loss    1.633 \n",
            "women: about, african, the, she, stories, working, her, people, youth, culture\n",
            "men: justice, people, ranging, which, the, make, them, will, women, by\n",
            "nurse: practitioner, nursing, honors, affiliated, hospital, specialists, graduated, experience, doctors, medical\n",
            "doctor: college, from, of, degree, earned, in, bachelor, member, obtained, implant\n",
            "engineer: software, engineering, computer, systems, technical, prior, electrical, technology, phd, senior\n",
            "teacher: teachers, education, students, teaching, coordinator, schools, teaches, has, taught, writing\n",
            "dietitian: nutrition, with, experience, specialists, nurse, registered, diverse, honors, practitioner, hospitals\n",
            "\n",
            "\n"
          ]
        },
        {
          "output_type": "stream",
          "name": "stderr",
          "text": [
            "56532it [03:45, 225.40it/s]"
          ]
        },
        {
          "output_type": "stream",
          "name": "stdout",
          "text": [
            "| epoch   3 | 56500/58601 batches | loss    1.631 \n",
            "women: about, african, the, she, stories, working, her, people, youth, culture\n",
            "men: justice, people, ranging, which, the, make, them, will, women, by\n",
            "nurse: practitioner, nursing, honors, affiliated, hospital, specialists, graduated, experience, doctors, hospitals\n",
            "doctor: college, from, of, degree, earned, in, bachelor, member, obtained, implant\n",
            "engineer: software, engineering, computer, systems, technical, prior, electrical, technology, phd, senior\n",
            "teacher: teachers, education, students, teaching, coordinator, schools, teaches, has, taught, writing\n",
            "dietitian: nutrition, with, experience, specialists, nurse, registered, diverse, honors, practitioner, hospitals\n",
            "\n",
            "\n"
          ]
        },
        {
          "output_type": "stream",
          "name": "stderr",
          "text": [
            "57017it [03:47, 224.13it/s]"
          ]
        },
        {
          "output_type": "stream",
          "name": "stdout",
          "text": [
            "| epoch   3 | 57000/58601 batches | loss    1.633 \n",
            "women: about, african, the, she, stories, working, her, people, youth, culture\n",
            "men: justice, people, ranging, which, the, make, them, will, women, by\n",
            "nurse: practitioner, nursing, honors, affiliated, hospital, specialists, graduated, experience, doctors, medical\n",
            "doctor: college, from, of, degree, earned, in, bachelor, member, obtained, implant\n",
            "engineer: software, engineering, computer, systems, technical, prior, electrical, technology, phd, senior\n",
            "teacher: teachers, education, students, teaching, coordinator, schools, teaches, has, taught, writing\n",
            "dietitian: nutrition, with, experience, specialists, nurse, registered, diverse, honors, practitioner, hospitals\n",
            "\n",
            "\n"
          ]
        },
        {
          "output_type": "stream",
          "name": "stderr",
          "text": [
            "57526it [03:49, 222.85it/s]"
          ]
        },
        {
          "output_type": "stream",
          "name": "stdout",
          "text": [
            "| epoch   3 | 57500/58601 batches | loss    1.634 \n",
            "women: about, african, the, she, stories, working, her, people, youth, culture\n",
            "men: justice, people, ranging, the, which, make, them, will, women, by\n",
            "nurse: practitioner, nursing, honors, affiliated, hospital, specialists, graduated, experience, doctors, medical\n",
            "doctor: from, college, of, degree, earned, in, bachelor, member, obtained, implant\n",
            "engineer: software, engineering, computer, systems, technical, prior, electrical, technology, phd, senior\n",
            "teacher: teachers, education, students, teaching, coordinator, schools, teaches, taught, has, writing\n",
            "dietitian: nutrition, with, experience, specialists, nurse, registered, diverse, honors, practitioner, hospitals\n",
            "\n",
            "\n"
          ]
        },
        {
          "output_type": "stream",
          "name": "stderr",
          "text": [
            "58034it [03:51, 229.37it/s]"
          ]
        },
        {
          "output_type": "stream",
          "name": "stdout",
          "text": [
            "| epoch   3 | 58000/58601 batches | loss    1.633 \n",
            "women: about, african, the, she, stories, her, working, people, youth, culture\n",
            "men: justice, people, ranging, the, which, make, them, will, women, by\n",
            "nurse: practitioner, nursing, honors, affiliated, hospital, specialists, graduated, experience, doctors, medical\n",
            "doctor: college, from, of, degree, earned, in, bachelor, member, obtained, implant\n",
            "engineer: software, engineering, computer, systems, technical, prior, electrical, technology, phd, senior\n",
            "teacher: teachers, education, students, teaching, coordinator, schools, teaches, taught, has, writing\n",
            "dietitian: nutrition, with, experience, specialists, nurse, registered, diverse, honors, practitioner, hospitals\n",
            "\n",
            "\n"
          ]
        },
        {
          "output_type": "stream",
          "name": "stderr",
          "text": [
            "58523it [03:53, 227.00it/s]"
          ]
        },
        {
          "output_type": "stream",
          "name": "stdout",
          "text": [
            "| epoch   3 | 58500/58601 batches | loss    1.640 \n",
            "women: about, african, the, she, stories, working, her, people, youth, culture\n",
            "men: justice, people, ranging, which, the, make, them, women, will, by\n",
            "nurse: practitioner, nursing, honors, affiliated, hospital, specialists, graduated, experience, doctors, medical\n",
            "doctor: from, college, of, degree, earned, in, bachelor, member, obtained, implant\n",
            "engineer: software, engineering, computer, systems, technical, prior, electrical, technology, phd, senior\n",
            "teacher: teachers, education, students, teaching, coordinator, schools, teaches, has, taught, writing\n",
            "dietitian: nutrition, with, experience, specialists, nurse, registered, diverse, honors, practitioner, hospitals\n",
            "\n",
            "\n"
          ]
        },
        {
          "output_type": "stream",
          "name": "stderr",
          "text": [
            "58601it [03:55, 248.89it/s]\n",
            "8it [00:01,  6.28it/s]"
          ]
        },
        {
          "output_type": "stream",
          "name": "stdout",
          "text": [
            "| epoch   4 |     0/58601 batches | loss    1.535 \n",
            "women: about, african, she, the, stories, her, working, people, youth, culture\n",
            "men: justice, people, ranging, which, the, make, them, women, will, by\n",
            "nurse: practitioner, nursing, honors, affiliated, hospital, specialists, graduated, experience, doctors, medical\n",
            "doctor: from, college, of, degree, earned, in, bachelor, member, obtained, implant\n",
            "engineer: software, engineering, computer, systems, technical, prior, electrical, technology, phd, senior\n",
            "teacher: teachers, education, students, teaching, coordinator, schools, teaches, has, taught, writing\n",
            "dietitian: nutrition, with, experience, specialists, nurse, registered, diverse, honors, practitioner, hospitals\n",
            "\n",
            "\n"
          ]
        },
        {
          "output_type": "stream",
          "name": "stderr",
          "text": [
            "522it [00:03, 224.10it/s]"
          ]
        },
        {
          "output_type": "stream",
          "name": "stdout",
          "text": [
            "| epoch   4 |   500/58601 batches | loss    1.633 \n",
            "women: about, african, she, the, stories, her, working, people, youth, culture\n",
            "men: justice, people, ranging, which, the, make, them, women, will, by\n",
            "nurse: practitioner, nursing, honors, affiliated, hospital, specialists, graduated, experience, doctors, medical\n",
            "doctor: from, college, of, degree, earned, in, bachelor, member, obtained, implant\n",
            "engineer: software, engineering, computer, systems, technical, prior, electrical, technology, phd, senior\n",
            "teacher: teachers, education, students, teaching, coordinator, schools, teaches, has, taught, writing\n",
            "dietitian: nutrition, with, experience, specialists, nurse, registered, diverse, honors, practitioner, hospitals\n",
            "\n",
            "\n"
          ]
        },
        {
          "output_type": "stream",
          "name": "stderr",
          "text": [
            "1035it [00:05, 227.59it/s]"
          ]
        },
        {
          "output_type": "stream",
          "name": "stdout",
          "text": [
            "| epoch   4 |  1000/58601 batches | loss    1.631 \n",
            "women: about, african, she, the, stories, her, working, people, youth, culture\n",
            "men: justice, people, ranging, which, the, make, them, women, will, by\n",
            "nurse: practitioner, nursing, honors, affiliated, hospital, specialists, graduated, experience, doctors, medical\n",
            "doctor: from, college, of, degree, earned, in, bachelor, member, obtained, implant\n",
            "engineer: software, engineering, computer, systems, technical, prior, electrical, technology, phd, senior\n",
            "teacher: teachers, education, students, teaching, coordinator, schools, teaches, has, taught, writing\n",
            "dietitian: nutrition, with, experience, specialists, nurse, registered, diverse, honors, practitioner, hospitals\n",
            "\n",
            "\n"
          ]
        },
        {
          "output_type": "stream",
          "name": "stderr",
          "text": [
            "1515it [00:07, 227.42it/s]"
          ]
        },
        {
          "output_type": "stream",
          "name": "stdout",
          "text": [
            "| epoch   4 |  1500/58601 batches | loss    1.633 \n",
            "women: about, african, she, the, stories, her, working, people, youth, culture\n",
            "men: justice, people, ranging, which, the, make, them, women, will, by\n",
            "nurse: practitioner, nursing, honors, affiliated, hospital, specialists, graduated, experience, doctors, medical\n",
            "doctor: from, college, of, degree, earned, in, bachelor, member, obtained, implant\n",
            "engineer: software, engineering, computer, systems, technical, prior, electrical, technology, phd, senior\n",
            "teacher: teachers, education, students, teaching, coordinator, schools, teaches, has, taught, writing\n",
            "dietitian: nutrition, with, experience, specialists, nurse, registered, diverse, honors, practitioner, hospitals\n",
            "\n",
            "\n"
          ]
        },
        {
          "output_type": "stream",
          "name": "stderr",
          "text": [
            "2026it [00:09, 224.33it/s]"
          ]
        },
        {
          "output_type": "stream",
          "name": "stdout",
          "text": [
            "| epoch   4 |  2000/58601 batches | loss    1.631 \n",
            "women: about, african, she, the, stories, her, working, people, youth, culture\n",
            "men: justice, people, ranging, which, the, make, them, women, will, by\n",
            "nurse: practitioner, nursing, honors, affiliated, hospital, specialists, graduated, experience, doctors, medical\n",
            "doctor: from, college, of, degree, earned, in, bachelor, member, obtained, implant\n",
            "engineer: software, engineering, computer, systems, technical, prior, electrical, technology, phd, senior\n",
            "teacher: teachers, education, students, teaching, coordinator, schools, teaches, has, taught, writing\n",
            "dietitian: nutrition, with, experience, specialists, nurse, registered, diverse, honors, practitioner, hospitals\n",
            "\n",
            "\n"
          ]
        },
        {
          "output_type": "stream",
          "name": "stderr",
          "text": [
            "2514it [00:11, 207.93it/s]"
          ]
        },
        {
          "output_type": "stream",
          "name": "stdout",
          "text": [
            "| epoch   4 |  2500/58601 batches | loss    1.632 \n",
            "women: about, african, she, the, stories, her, working, people, youth, culture\n",
            "men: justice, people, ranging, which, the, make, them, women, will, by\n",
            "nurse: practitioner, nursing, honors, affiliated, hospital, specialists, graduated, experience, doctors, medical\n",
            "doctor: from, college, of, degree, earned, in, bachelor, member, obtained, implant\n",
            "engineer: software, engineering, computer, systems, technical, prior, electrical, technology, phd, senior\n",
            "teacher: teachers, education, students, teaching, coordinator, schools, teaches, has, taught, writing\n",
            "dietitian: nutrition, with, experience, specialists, nurse, registered, diverse, honors, practitioner, hospitals\n",
            "\n",
            "\n"
          ]
        },
        {
          "output_type": "stream",
          "name": "stderr",
          "text": [
            "3025it [00:13, 215.70it/s]"
          ]
        },
        {
          "output_type": "stream",
          "name": "stdout",
          "text": [
            "| epoch   4 |  3000/58601 batches | loss    1.635 \n",
            "women: about, african, she, the, stories, her, working, people, youth, culture\n",
            "men: justice, people, ranging, which, the, make, them, women, will, by\n",
            "nurse: practitioner, nursing, honors, affiliated, hospital, specialists, graduated, experience, doctors, medical\n",
            "doctor: from, college, of, degree, earned, in, bachelor, member, obtained, implant\n",
            "engineer: software, engineering, computer, systems, technical, prior, electrical, technology, phd, senior\n",
            "teacher: teachers, education, students, teaching, coordinator, schools, teaches, has, taught, writing\n",
            "dietitian: nutrition, with, experience, specialists, nurse, registered, diverse, honors, practitioner, hospitals\n",
            "\n",
            "\n"
          ]
        },
        {
          "output_type": "stream",
          "name": "stderr",
          "text": [
            "3515it [00:15, 230.16it/s]"
          ]
        },
        {
          "output_type": "stream",
          "name": "stdout",
          "text": [
            "| epoch   4 |  3500/58601 batches | loss    1.630 \n",
            "women: about, african, she, the, stories, her, working, people, youth, culture\n",
            "men: justice, people, ranging, which, the, make, them, women, will, by\n",
            "nurse: practitioner, nursing, honors, affiliated, hospital, specialists, graduated, experience, doctors, medical\n",
            "doctor: from, college, of, degree, earned, in, bachelor, member, obtained, implant\n",
            "engineer: software, engineering, computer, systems, technical, prior, electrical, technology, phd, senior\n",
            "teacher: teachers, education, students, teaching, coordinator, schools, teaches, has, taught, writing\n",
            "dietitian: nutrition, with, experience, specialists, nurse, registered, diverse, honors, practitioner, hospitals\n",
            "\n",
            "\n"
          ]
        },
        {
          "output_type": "stream",
          "name": "stderr",
          "text": [
            "4025it [00:17, 221.95it/s]"
          ]
        },
        {
          "output_type": "stream",
          "name": "stdout",
          "text": [
            "| epoch   4 |  4000/58601 batches | loss    1.630 \n",
            "women: about, african, she, the, stories, her, working, people, youth, culture\n",
            "men: justice, people, ranging, which, the, make, them, women, will, by\n",
            "nurse: practitioner, nursing, honors, affiliated, hospital, specialists, graduated, experience, doctors, medical\n",
            "doctor: from, college, of, degree, earned, in, bachelor, member, obtained, implant\n",
            "engineer: software, engineering, computer, systems, technical, prior, electrical, technology, phd, senior\n",
            "teacher: teachers, education, students, teaching, coordinator, schools, teaches, has, taught, writing\n",
            "dietitian: nutrition, with, experience, specialists, nurse, registered, diverse, honors, practitioner, hospitals\n",
            "\n",
            "\n"
          ]
        },
        {
          "output_type": "stream",
          "name": "stderr",
          "text": [
            "4534it [00:19, 227.01it/s]"
          ]
        },
        {
          "output_type": "stream",
          "name": "stdout",
          "text": [
            "| epoch   4 |  4500/58601 batches | loss    1.629 \n",
            "women: about, african, she, the, stories, her, working, people, youth, culture\n",
            "men: justice, people, ranging, which, the, make, them, women, will, by\n",
            "nurse: practitioner, nursing, honors, affiliated, hospital, specialists, graduated, experience, doctors, hospitals\n",
            "doctor: from, college, of, degree, earned, in, bachelor, member, obtained, implant\n",
            "engineer: software, engineering, computer, systems, technical, prior, electrical, technology, phd, senior\n",
            "teacher: teachers, education, students, teaching, coordinator, schools, teaches, has, taught, writing\n",
            "dietitian: nutrition, with, experience, specialists, nurse, registered, diverse, honors, practitioner, hospitals\n",
            "\n",
            "\n"
          ]
        },
        {
          "output_type": "stream",
          "name": "stderr",
          "text": [
            "5017it [00:21, 229.61it/s]"
          ]
        },
        {
          "output_type": "stream",
          "name": "stdout",
          "text": [
            "| epoch   4 |  5000/58601 batches | loss    1.635 \n",
            "women: about, african, she, the, stories, her, working, people, youth, culture\n",
            "men: justice, people, ranging, which, the, make, them, women, will, by\n",
            "nurse: practitioner, nursing, honors, affiliated, hospital, specialists, graduated, experience, doctors, medical\n",
            "doctor: from, college, of, degree, earned, in, bachelor, member, obtained, implant\n",
            "engineer: software, engineering, computer, systems, technical, prior, electrical, technology, phd, senior\n",
            "teacher: teachers, education, students, teaching, coordinator, schools, teaches, has, taught, writing\n",
            "dietitian: nutrition, with, experience, specialists, nurse, registered, diverse, honors, practitioner, hospitals\n",
            "\n",
            "\n"
          ]
        },
        {
          "output_type": "stream",
          "name": "stderr",
          "text": [
            "5506it [00:23, 218.19it/s]"
          ]
        },
        {
          "output_type": "stream",
          "name": "stdout",
          "text": [
            "| epoch   4 |  5500/58601 batches | loss    1.635 \n",
            "women: about, african, she, the, stories, her, working, people, youth, culture\n",
            "men: justice, people, ranging, which, the, make, them, women, will, by\n",
            "nurse: practitioner, nursing, honors, affiliated, hospital, specialists, graduated, experience, doctors, medical\n",
            "doctor: from, college, of, degree, earned, in, bachelor, member, obtained, implant\n",
            "engineer: software, engineering, computer, systems, technical, prior, electrical, technology, phd, senior\n",
            "teacher: teachers, education, students, teaching, coordinator, schools, teaches, has, taught, writing\n",
            "dietitian: nutrition, with, experience, specialists, nurse, registered, diverse, honors, practitioner, hospitals\n",
            "\n",
            "\n"
          ]
        },
        {
          "output_type": "stream",
          "name": "stderr",
          "text": [
            "6019it [00:25, 224.54it/s]"
          ]
        },
        {
          "output_type": "stream",
          "name": "stdout",
          "text": [
            "| epoch   4 |  6000/58601 batches | loss    1.627 \n",
            "women: about, african, she, the, stories, her, working, people, youth, culture\n",
            "men: justice, people, ranging, which, the, make, them, women, will, by\n",
            "nurse: practitioner, nursing, honors, affiliated, hospital, specialists, graduated, experience, doctors, medical\n",
            "doctor: from, college, of, degree, earned, in, bachelor, member, obtained, implant\n",
            "engineer: software, engineering, computer, systems, technical, prior, electrical, technology, phd, senior\n",
            "teacher: teachers, education, students, teaching, coordinator, schools, teaches, has, taught, writing\n",
            "dietitian: nutrition, with, experience, specialists, nurse, registered, diverse, honors, practitioner, hospitals\n",
            "\n",
            "\n"
          ]
        },
        {
          "output_type": "stream",
          "name": "stderr",
          "text": [
            "6533it [00:27, 228.47it/s]"
          ]
        },
        {
          "output_type": "stream",
          "name": "stdout",
          "text": [
            "| epoch   4 |  6500/58601 batches | loss    1.636 \n",
            "women: about, african, she, the, stories, her, working, people, youth, culture\n",
            "men: justice, people, ranging, which, the, make, them, women, will, by\n",
            "nurse: practitioner, nursing, honors, affiliated, hospital, specialists, graduated, experience, doctors, medical\n",
            "doctor: from, college, of, degree, earned, in, bachelor, member, obtained, implant\n",
            "engineer: software, engineering, computer, systems, technical, prior, electrical, technology, phd, senior\n",
            "teacher: teachers, education, students, teaching, coordinator, schools, teaches, has, taught, writing\n",
            "dietitian: nutrition, with, experience, specialists, nurse, registered, diverse, honors, practitioner, hospitals\n",
            "\n",
            "\n"
          ]
        },
        {
          "output_type": "stream",
          "name": "stderr",
          "text": [
            "7017it [00:29, 225.84it/s]"
          ]
        },
        {
          "output_type": "stream",
          "name": "stdout",
          "text": [
            "| epoch   4 |  7000/58601 batches | loss    1.632 \n",
            "women: about, african, she, the, stories, her, working, people, youth, culture\n",
            "men: justice, people, ranging, which, the, make, them, women, will, by\n",
            "nurse: practitioner, nursing, honors, affiliated, hospital, specialists, graduated, experience, doctors, medical\n",
            "doctor: from, college, of, degree, earned, in, bachelor, member, obtained, implant\n",
            "engineer: software, engineering, computer, systems, technical, prior, electrical, technology, phd, senior\n",
            "teacher: teachers, education, students, teaching, coordinator, schools, teaches, has, taught, writing\n",
            "dietitian: nutrition, with, experience, specialists, nurse, registered, diverse, honors, practitioner, hospitals\n",
            "\n",
            "\n"
          ]
        },
        {
          "output_type": "stream",
          "name": "stderr",
          "text": [
            "7525it [00:31, 219.29it/s]"
          ]
        },
        {
          "output_type": "stream",
          "name": "stdout",
          "text": [
            "| epoch   4 |  7500/58601 batches | loss    1.633 \n",
            "women: about, african, she, the, stories, her, working, people, youth, culture\n",
            "men: justice, people, ranging, which, the, make, them, women, will, by\n",
            "nurse: practitioner, nursing, honors, affiliated, hospital, specialists, graduated, experience, doctors, medical\n",
            "doctor: from, college, of, degree, earned, in, bachelor, member, obtained, implant\n",
            "engineer: software, engineering, computer, systems, technical, prior, electrical, technology, phd, senior\n",
            "teacher: teachers, education, students, teaching, coordinator, schools, teaches, has, taught, writing\n",
            "dietitian: nutrition, with, experience, specialists, nurse, registered, diverse, honors, practitioner, hospitals\n",
            "\n",
            "\n"
          ]
        },
        {
          "output_type": "stream",
          "name": "stderr",
          "text": [
            "8037it [00:33, 231.85it/s]"
          ]
        },
        {
          "output_type": "stream",
          "name": "stdout",
          "text": [
            "| epoch   4 |  8000/58601 batches | loss    1.631 \n",
            "women: about, african, she, the, stories, her, working, people, youth, culture\n",
            "men: justice, people, ranging, which, the, make, them, women, will, by\n",
            "nurse: practitioner, nursing, honors, affiliated, hospital, specialists, graduated, experience, doctors, medical\n",
            "doctor: from, college, of, degree, earned, in, bachelor, member, obtained, implant\n",
            "engineer: software, engineering, computer, systems, technical, prior, electrical, technology, phd, senior\n",
            "teacher: teachers, education, students, teaching, coordinator, schools, teaches, has, taught, writing\n",
            "dietitian: nutrition, with, experience, specialists, nurse, registered, diverse, honors, practitioner, hospitals\n",
            "\n",
            "\n"
          ]
        },
        {
          "output_type": "stream",
          "name": "stderr",
          "text": [
            "8519it [00:35, 223.68it/s]"
          ]
        },
        {
          "output_type": "stream",
          "name": "stdout",
          "text": [
            "| epoch   4 |  8500/58601 batches | loss    1.629 \n",
            "women: about, african, she, the, stories, her, working, people, youth, culture\n",
            "men: justice, people, ranging, which, the, make, them, women, will, by\n",
            "nurse: practitioner, nursing, honors, affiliated, hospital, specialists, graduated, experience, doctors, medical\n",
            "doctor: from, college, of, degree, earned, in, bachelor, member, obtained, implant\n",
            "engineer: software, engineering, computer, systems, technical, prior, electrical, technology, phd, senior\n",
            "teacher: teachers, education, students, teaching, coordinator, schools, teaches, has, taught, writing\n",
            "dietitian: nutrition, with, experience, specialists, nurse, registered, diverse, honors, practitioner, hospitals\n",
            "\n",
            "\n"
          ]
        },
        {
          "output_type": "stream",
          "name": "stderr",
          "text": [
            "9028it [00:37, 224.66it/s]"
          ]
        },
        {
          "output_type": "stream",
          "name": "stdout",
          "text": [
            "| epoch   4 |  9000/58601 batches | loss    1.635 \n",
            "women: about, african, she, the, stories, her, working, people, youth, culture\n",
            "men: justice, people, ranging, which, the, make, them, women, will, by\n",
            "nurse: practitioner, nursing, honors, affiliated, hospital, specialists, graduated, experience, doctors, medical\n",
            "doctor: from, college, of, degree, earned, in, bachelor, member, obtained, implant\n",
            "engineer: software, engineering, computer, systems, technical, prior, electrical, technology, phd, senior\n",
            "teacher: teachers, education, students, teaching, coordinator, schools, teaches, has, taught, writing\n",
            "dietitian: nutrition, with, experience, specialists, nurse, registered, diverse, honors, practitioner, hospitals\n",
            "\n",
            "\n"
          ]
        },
        {
          "output_type": "stream",
          "name": "stderr",
          "text": [
            "9532it [00:39, 227.58it/s]"
          ]
        },
        {
          "output_type": "stream",
          "name": "stdout",
          "text": [
            "| epoch   4 |  9500/58601 batches | loss    1.628 \n",
            "women: about, african, she, the, stories, her, working, people, youth, culture\n",
            "men: justice, people, ranging, which, the, make, them, women, will, by\n",
            "nurse: practitioner, nursing, honors, affiliated, hospital, specialists, graduated, experience, doctors, medical\n",
            "doctor: from, college, of, degree, earned, in, bachelor, member, obtained, implant\n",
            "engineer: software, engineering, computer, systems, technical, prior, electrical, technology, phd, senior\n",
            "teacher: teachers, education, students, teaching, coordinator, schools, teaches, has, taught, writing\n",
            "dietitian: nutrition, with, experience, specialists, nurse, registered, diverse, honors, practitioner, hospitals\n",
            "\n",
            "\n"
          ]
        },
        {
          "output_type": "stream",
          "name": "stderr",
          "text": [
            "10018it [00:41, 228.68it/s]"
          ]
        },
        {
          "output_type": "stream",
          "name": "stdout",
          "text": [
            "| epoch   4 | 10000/58601 batches | loss    1.633 \n",
            "women: about, african, she, the, stories, her, working, people, youth, culture\n",
            "men: justice, people, ranging, which, the, make, them, women, will, by\n",
            "nurse: practitioner, nursing, honors, affiliated, hospital, specialists, graduated, experience, doctors, medical\n",
            "doctor: from, college, of, degree, earned, in, bachelor, member, obtained, implant\n",
            "engineer: software, engineering, computer, systems, technical, prior, electrical, technology, phd, senior\n",
            "teacher: teachers, education, students, teaching, coordinator, schools, teaches, has, taught, writing\n",
            "dietitian: nutrition, with, experience, specialists, nurse, registered, diverse, honors, practitioner, hospitals\n",
            "\n",
            "\n"
          ]
        },
        {
          "output_type": "stream",
          "name": "stderr",
          "text": [
            "10525it [00:43, 223.30it/s]"
          ]
        },
        {
          "output_type": "stream",
          "name": "stdout",
          "text": [
            "| epoch   4 | 10500/58601 batches | loss    1.631 \n",
            "women: about, african, she, the, stories, her, working, people, youth, culture\n",
            "men: justice, people, ranging, which, the, make, them, women, will, by\n",
            "nurse: practitioner, nursing, honors, affiliated, hospital, specialists, graduated, experience, doctors, medical\n",
            "doctor: college, from, of, degree, earned, in, bachelor, member, obtained, implant\n",
            "engineer: software, engineering, computer, systems, technical, prior, electrical, technology, phd, senior\n",
            "teacher: teachers, education, students, teaching, coordinator, schools, teaches, has, taught, writing\n",
            "dietitian: nutrition, with, experience, specialists, nurse, registered, diverse, honors, practitioner, hospitals\n",
            "\n",
            "\n"
          ]
        },
        {
          "output_type": "stream",
          "name": "stderr",
          "text": [
            "11032it [00:45, 218.01it/s]"
          ]
        },
        {
          "output_type": "stream",
          "name": "stdout",
          "text": [
            "| epoch   4 | 11000/58601 batches | loss    1.628 \n",
            "women: about, african, she, the, stories, her, working, people, youth, culture\n",
            "men: justice, people, ranging, which, the, make, them, women, will, by\n",
            "nurse: practitioner, nursing, honors, affiliated, hospital, specialists, graduated, experience, doctors, medical\n",
            "doctor: college, from, of, degree, earned, in, bachelor, member, obtained, implant\n",
            "engineer: software, engineering, computer, systems, technical, prior, electrical, technology, phd, senior\n",
            "teacher: teachers, education, students, teaching, coordinator, schools, teaches, has, taught, writing\n",
            "dietitian: nutrition, with, experience, specialists, nurse, registered, diverse, honors, practitioner, hospitals\n",
            "\n",
            "\n"
          ]
        },
        {
          "output_type": "stream",
          "name": "stderr",
          "text": [
            "11514it [00:46, 232.68it/s]"
          ]
        },
        {
          "output_type": "stream",
          "name": "stdout",
          "text": [
            "| epoch   4 | 11500/58601 batches | loss    1.635 \n",
            "women: about, african, she, the, stories, her, working, people, youth, culture\n",
            "men: justice, people, ranging, which, the, make, them, women, will, by\n",
            "nurse: practitioner, nursing, honors, affiliated, hospital, specialists, graduated, experience, doctors, medical\n",
            "doctor: from, college, of, degree, earned, in, bachelor, member, obtained, implant\n",
            "engineer: software, engineering, computer, systems, technical, prior, electrical, technology, phd, senior\n",
            "teacher: teachers, education, students, teaching, coordinator, schools, teaches, has, taught, writing\n",
            "dietitian: nutrition, with, experience, specialists, nurse, registered, diverse, honors, practitioner, hospitals\n",
            "\n",
            "\n"
          ]
        },
        {
          "output_type": "stream",
          "name": "stderr",
          "text": [
            "12027it [00:48, 229.28it/s]"
          ]
        },
        {
          "output_type": "stream",
          "name": "stdout",
          "text": [
            "| epoch   4 | 12000/58601 batches | loss    1.634 \n",
            "women: about, african, she, the, stories, her, working, people, youth, culture\n",
            "men: justice, people, ranging, which, the, make, them, women, will, by\n",
            "nurse: practitioner, nursing, honors, affiliated, hospital, specialists, graduated, experience, doctors, medical\n",
            "doctor: from, college, of, degree, earned, in, bachelor, member, obtained, implant\n",
            "engineer: software, engineering, computer, systems, technical, prior, electrical, technology, phd, senior\n",
            "teacher: teachers, education, students, teaching, coordinator, schools, teaches, has, taught, writing\n",
            "dietitian: nutrition, with, experience, specialists, nurse, registered, diverse, honors, practitioner, hospitals\n",
            "\n",
            "\n"
          ]
        },
        {
          "output_type": "stream",
          "name": "stderr",
          "text": [
            "12535it [00:50, 229.50it/s]"
          ]
        },
        {
          "output_type": "stream",
          "name": "stdout",
          "text": [
            "| epoch   4 | 12500/58601 batches | loss    1.632 \n",
            "women: about, african, she, the, stories, her, working, people, youth, culture\n",
            "men: justice, people, ranging, which, the, make, them, women, will, by\n",
            "nurse: practitioner, nursing, honors, affiliated, hospital, specialists, graduated, experience, doctors, medical\n",
            "doctor: from, college, of, degree, earned, in, bachelor, member, obtained, implant\n",
            "engineer: software, engineering, computer, systems, technical, prior, electrical, technology, phd, senior\n",
            "teacher: teachers, education, students, teaching, coordinator, schools, teaches, has, taught, writing\n",
            "dietitian: nutrition, with, experience, specialists, nurse, registered, diverse, honors, practitioner, hospitals\n",
            "\n",
            "\n"
          ]
        },
        {
          "output_type": "stream",
          "name": "stderr",
          "text": [
            "13020it [00:52, 224.10it/s]"
          ]
        },
        {
          "output_type": "stream",
          "name": "stdout",
          "text": [
            "| epoch   4 | 13000/58601 batches | loss    1.635 \n",
            "women: about, african, she, the, stories, her, working, people, youth, culture\n",
            "men: justice, people, ranging, which, the, make, them, women, will, by\n",
            "nurse: practitioner, nursing, honors, affiliated, hospital, specialists, graduated, experience, doctors, hospitals\n",
            "doctor: from, college, of, degree, earned, in, bachelor, member, obtained, implant\n",
            "engineer: software, engineering, computer, systems, technical, prior, electrical, technology, phd, senior\n",
            "teacher: teachers, education, students, teaching, coordinator, schools, teaches, has, taught, writing\n",
            "dietitian: nutrition, with, experience, specialists, nurse, registered, diverse, honors, practitioner, hospitals\n",
            "\n",
            "\n"
          ]
        },
        {
          "output_type": "stream",
          "name": "stderr",
          "text": [
            "13513it [00:54, 231.09it/s]"
          ]
        },
        {
          "output_type": "stream",
          "name": "stdout",
          "text": [
            "| epoch   4 | 13500/58601 batches | loss    1.634 \n",
            "women: about, african, she, the, stories, her, working, people, youth, culture\n",
            "men: justice, people, ranging, which, the, make, them, women, will, by\n",
            "nurse: practitioner, nursing, honors, affiliated, hospital, specialists, graduated, experience, doctors, medical\n",
            "doctor: from, college, of, degree, earned, in, bachelor, member, obtained, implant\n",
            "engineer: software, engineering, computer, systems, technical, prior, electrical, technology, phd, senior\n",
            "teacher: teachers, education, students, teaching, coordinator, schools, teaches, has, taught, writing\n",
            "dietitian: nutrition, with, experience, specialists, nurse, registered, diverse, honors, practitioner, hospitals\n",
            "\n",
            "\n"
          ]
        },
        {
          "output_type": "stream",
          "name": "stderr",
          "text": [
            "14022it [00:56, 212.03it/s]"
          ]
        },
        {
          "output_type": "stream",
          "name": "stdout",
          "text": [
            "| epoch   4 | 14000/58601 batches | loss    1.633 \n",
            "women: about, african, she, the, stories, her, working, people, youth, culture\n",
            "men: justice, people, ranging, which, the, make, them, women, will, by\n",
            "nurse: practitioner, nursing, honors, affiliated, hospital, specialists, graduated, experience, doctors, hospitals\n",
            "doctor: from, college, of, degree, earned, in, bachelor, member, obtained, implant\n",
            "engineer: software, engineering, computer, systems, technical, prior, electrical, technology, phd, senior\n",
            "teacher: teachers, education, students, teaching, coordinator, schools, teaches, has, taught, writing\n",
            "dietitian: nutrition, with, experience, specialists, nurse, registered, diverse, honors, practitioner, hospitals\n",
            "\n",
            "\n"
          ]
        },
        {
          "output_type": "stream",
          "name": "stderr",
          "text": [
            "14528it [00:58, 227.33it/s]"
          ]
        },
        {
          "output_type": "stream",
          "name": "stdout",
          "text": [
            "| epoch   4 | 14500/58601 batches | loss    1.628 \n",
            "women: about, african, she, the, stories, her, working, people, youth, culture\n",
            "men: justice, people, ranging, which, the, make, them, women, will, by\n",
            "nurse: practitioner, nursing, honors, affiliated, hospital, specialists, graduated, experience, doctors, hospitals\n",
            "doctor: from, college, of, degree, earned, in, bachelor, member, obtained, implant\n",
            "engineer: software, engineering, computer, systems, technical, prior, electrical, technology, phd, senior\n",
            "teacher: teachers, education, students, teaching, coordinator, schools, teaches, has, taught, writing\n",
            "dietitian: nutrition, with, experience, specialists, nurse, registered, diverse, honors, practitioner, hospitals\n",
            "\n",
            "\n"
          ]
        },
        {
          "output_type": "stream",
          "name": "stderr",
          "text": [
            "15012it [01:00, 232.85it/s]"
          ]
        },
        {
          "output_type": "stream",
          "name": "stdout",
          "text": [
            "| epoch   4 | 15000/58601 batches | loss    1.631 \n",
            "women: about, african, she, the, stories, her, working, people, youth, culture\n",
            "men: justice, people, ranging, which, the, make, them, women, will, by\n",
            "nurse: practitioner, nursing, honors, affiliated, hospital, specialists, graduated, experience, doctors, medical\n",
            "doctor: from, college, of, degree, earned, in, bachelor, member, obtained, implant\n",
            "engineer: software, engineering, computer, systems, technical, prior, electrical, technology, phd, senior\n",
            "teacher: teachers, education, students, teaching, coordinator, schools, teaches, has, taught, writing\n",
            "dietitian: nutrition, with, experience, specialists, nurse, registered, diverse, honors, practitioner, hospitals\n",
            "\n",
            "\n"
          ]
        },
        {
          "output_type": "stream",
          "name": "stderr",
          "text": [
            "15519it [01:02, 222.47it/s]"
          ]
        },
        {
          "output_type": "stream",
          "name": "stdout",
          "text": [
            "| epoch   4 | 15500/58601 batches | loss    1.632 \n",
            "women: about, african, she, the, stories, her, working, people, youth, culture\n",
            "men: justice, people, ranging, which, the, make, them, women, will, by\n",
            "nurse: practitioner, nursing, honors, affiliated, hospital, specialists, graduated, experience, doctors, medical\n",
            "doctor: from, college, of, degree, earned, in, bachelor, member, obtained, implant\n",
            "engineer: software, engineering, computer, systems, technical, prior, electrical, technology, phd, senior\n",
            "teacher: teachers, education, students, teaching, coordinator, schools, teaches, has, taught, writing\n",
            "dietitian: nutrition, with, experience, specialists, nurse, registered, diverse, honors, practitioner, hospitals\n",
            "\n",
            "\n"
          ]
        },
        {
          "output_type": "stream",
          "name": "stderr",
          "text": [
            "16033it [01:04, 228.25it/s]"
          ]
        },
        {
          "output_type": "stream",
          "name": "stdout",
          "text": [
            "| epoch   4 | 16000/58601 batches | loss    1.634 \n",
            "women: about, african, she, the, stories, her, working, people, youth, culture\n",
            "men: justice, people, ranging, which, the, make, them, women, will, by\n",
            "nurse: practitioner, nursing, honors, affiliated, hospital, specialists, graduated, experience, doctors, medical\n",
            "doctor: from, college, of, degree, earned, in, bachelor, member, obtained, implant\n",
            "engineer: software, engineering, computer, systems, technical, prior, electrical, technology, phd, senior\n",
            "teacher: teachers, education, students, teaching, coordinator, schools, teaches, has, taught, writing\n",
            "dietitian: nutrition, with, experience, specialists, nurse, registered, diverse, honors, practitioner, hospitals\n",
            "\n",
            "\n"
          ]
        },
        {
          "output_type": "stream",
          "name": "stderr",
          "text": [
            "16522it [01:06, 223.41it/s]"
          ]
        },
        {
          "output_type": "stream",
          "name": "stdout",
          "text": [
            "| epoch   4 | 16500/58601 batches | loss    1.636 \n",
            "women: about, african, she, the, stories, her, working, people, youth, culture\n",
            "men: justice, people, ranging, which, the, make, them, women, will, by\n",
            "nurse: practitioner, nursing, honors, affiliated, hospital, specialists, graduated, experience, doctors, medical\n",
            "doctor: from, college, of, degree, earned, in, bachelor, member, obtained, implant\n",
            "engineer: software, engineering, computer, systems, technical, prior, electrical, technology, phd, senior\n",
            "teacher: teachers, education, students, teaching, coordinator, schools, teaches, has, taught, writing\n",
            "dietitian: nutrition, with, experience, specialists, nurse, registered, diverse, honors, practitioner, hospitals\n",
            "\n",
            "\n"
          ]
        },
        {
          "output_type": "stream",
          "name": "stderr",
          "text": [
            "17027it [01:10, 212.04it/s]"
          ]
        },
        {
          "output_type": "stream",
          "name": "stdout",
          "text": [
            "| epoch   4 | 17000/58601 batches | loss    1.629 \n",
            "women: about, african, she, the, stories, her, working, people, youth, culture\n",
            "men: justice, people, ranging, which, the, make, them, women, will, by\n",
            "nurse: practitioner, nursing, honors, affiliated, hospital, specialists, graduated, experience, doctors, medical\n",
            "doctor: from, college, of, degree, earned, in, bachelor, member, obtained, implant\n",
            "engineer: software, engineering, computer, systems, technical, prior, electrical, technology, phd, senior\n",
            "teacher: teachers, education, students, teaching, coordinator, schools, teaches, has, taught, writing\n",
            "dietitian: nutrition, with, experience, specialists, nurse, registered, diverse, honors, practitioner, hospitals\n",
            "\n",
            "\n"
          ]
        },
        {
          "output_type": "stream",
          "name": "stderr",
          "text": [
            "17513it [01:12, 232.41it/s]"
          ]
        },
        {
          "output_type": "stream",
          "name": "stdout",
          "text": [
            "| epoch   4 | 17500/58601 batches | loss    1.630 \n",
            "women: about, african, she, the, stories, her, working, people, youth, culture\n",
            "men: justice, people, ranging, which, the, make, them, women, will, by\n",
            "nurse: practitioner, nursing, honors, affiliated, hospital, specialists, graduated, experience, doctors, medical\n",
            "doctor: from, college, of, degree, earned, in, bachelor, member, obtained, implant\n",
            "engineer: software, engineering, computer, systems, technical, prior, electrical, technology, phd, senior\n",
            "teacher: teachers, education, students, teaching, coordinator, schools, teaches, has, taught, writing\n",
            "dietitian: nutrition, with, experience, specialists, nurse, registered, diverse, honors, practitioner, hospitals\n",
            "\n",
            "\n"
          ]
        },
        {
          "output_type": "stream",
          "name": "stderr",
          "text": [
            "18024it [01:14, 213.25it/s]"
          ]
        },
        {
          "output_type": "stream",
          "name": "stdout",
          "text": [
            "| epoch   4 | 18000/58601 batches | loss    1.627 \n",
            "women: about, african, she, the, stories, her, working, people, youth, culture\n",
            "men: justice, people, ranging, which, the, make, them, women, will, by\n",
            "nurse: practitioner, nursing, honors, affiliated, hospital, specialists, graduated, experience, doctors, medical\n",
            "doctor: from, college, of, degree, earned, in, bachelor, member, obtained, implant\n",
            "engineer: software, engineering, computer, systems, technical, prior, electrical, technology, phd, senior\n",
            "teacher: teachers, education, students, teaching, coordinator, schools, teaches, has, taught, writing\n",
            "dietitian: nutrition, with, experience, specialists, nurse, registered, diverse, honors, practitioner, hospitals\n",
            "\n",
            "\n"
          ]
        },
        {
          "output_type": "stream",
          "name": "stderr",
          "text": [
            "18518it [01:16, 225.90it/s]"
          ]
        },
        {
          "output_type": "stream",
          "name": "stdout",
          "text": [
            "| epoch   4 | 18500/58601 batches | loss    1.637 \n",
            "women: about, african, she, the, stories, her, working, people, youth, culture\n",
            "men: justice, people, ranging, which, the, make, them, women, will, by\n",
            "nurse: practitioner, nursing, honors, affiliated, hospital, specialists, graduated, experience, doctors, medical\n",
            "doctor: from, college, of, degree, earned, in, bachelor, member, obtained, implant\n",
            "engineer: software, engineering, computer, systems, technical, prior, electrical, technology, phd, senior\n",
            "teacher: teachers, education, students, teaching, coordinator, schools, teaches, has, taught, writing\n",
            "dietitian: nutrition, with, experience, specialists, nurse, registered, diverse, honors, practitioner, hospitals\n",
            "\n",
            "\n"
          ]
        },
        {
          "output_type": "stream",
          "name": "stderr",
          "text": [
            "19027it [01:18, 223.89it/s]"
          ]
        },
        {
          "output_type": "stream",
          "name": "stdout",
          "text": [
            "| epoch   4 | 19000/58601 batches | loss    1.628 \n",
            "women: about, african, she, the, stories, her, working, people, youth, culture\n",
            "men: justice, people, ranging, which, the, make, them, women, will, by\n",
            "nurse: practitioner, nursing, honors, affiliated, hospital, specialists, graduated, experience, doctors, medical\n",
            "doctor: college, from, of, degree, earned, in, bachelor, member, obtained, implant\n",
            "engineer: software, engineering, computer, systems, technical, prior, electrical, technology, phd, senior\n",
            "teacher: teachers, education, students, teaching, coordinator, schools, teaches, has, taught, writing\n",
            "dietitian: nutrition, with, experience, specialists, nurse, registered, diverse, honors, practitioner, hospitals\n",
            "\n",
            "\n"
          ]
        },
        {
          "output_type": "stream",
          "name": "stderr",
          "text": [
            "19515it [01:20, 220.26it/s]"
          ]
        },
        {
          "output_type": "stream",
          "name": "stdout",
          "text": [
            "| epoch   4 | 19500/58601 batches | loss    1.631 \n",
            "women: about, african, she, the, stories, her, working, people, youth, culture\n",
            "men: justice, people, ranging, which, the, make, them, women, will, by\n",
            "nurse: practitioner, nursing, honors, affiliated, hospital, specialists, graduated, experience, doctors, medical\n",
            "doctor: from, college, of, degree, earned, in, bachelor, member, obtained, implant\n",
            "engineer: software, engineering, computer, systems, technical, prior, electrical, technology, phd, senior\n",
            "teacher: teachers, education, students, teaching, coordinator, schools, teaches, has, taught, writing\n",
            "dietitian: nutrition, with, experience, specialists, nurse, registered, diverse, honors, practitioner, hospitals\n",
            "\n",
            "\n"
          ]
        },
        {
          "output_type": "stream",
          "name": "stderr",
          "text": [
            "20026it [01:22, 225.97it/s]"
          ]
        },
        {
          "output_type": "stream",
          "name": "stdout",
          "text": [
            "| epoch   4 | 20000/58601 batches | loss    1.631 \n",
            "women: about, african, she, the, stories, her, working, people, youth, culture\n",
            "men: justice, people, ranging, which, the, make, them, women, will, by\n",
            "nurse: practitioner, nursing, honors, affiliated, hospital, specialists, graduated, experience, doctors, medical\n",
            "doctor: college, from, of, degree, earned, in, bachelor, member, obtained, implant\n",
            "engineer: software, engineering, computer, systems, technical, prior, electrical, technology, phd, senior\n",
            "teacher: teachers, education, students, teaching, coordinator, schools, teaches, has, taught, writing\n",
            "dietitian: nutrition, with, experience, specialists, nurse, registered, diverse, honors, practitioner, hospitals\n",
            "\n",
            "\n"
          ]
        },
        {
          "output_type": "stream",
          "name": "stderr",
          "text": [
            "20514it [01:24, 230.01it/s]"
          ]
        },
        {
          "output_type": "stream",
          "name": "stdout",
          "text": [
            "| epoch   4 | 20500/58601 batches | loss    1.626 \n",
            "women: about, african, she, the, stories, her, working, people, youth, culture\n",
            "men: justice, people, ranging, which, the, make, them, will, women, by\n",
            "nurse: practitioner, nursing, honors, affiliated, hospital, specialists, graduated, experience, doctors, hospitals\n",
            "doctor: college, from, of, degree, earned, in, bachelor, member, obtained, implant\n",
            "engineer: software, engineering, computer, systems, technical, prior, electrical, technology, phd, senior\n",
            "teacher: teachers, education, students, teaching, coordinator, schools, teaches, has, taught, writing\n",
            "dietitian: nutrition, with, experience, specialists, nurse, registered, diverse, honors, practitioner, hospitals\n",
            "\n",
            "\n"
          ]
        },
        {
          "output_type": "stream",
          "name": "stderr",
          "text": [
            "21021it [01:26, 219.07it/s]"
          ]
        },
        {
          "output_type": "stream",
          "name": "stdout",
          "text": [
            "| epoch   4 | 21000/58601 batches | loss    1.632 \n",
            "women: about, african, she, the, stories, her, working, people, youth, culture\n",
            "men: justice, people, ranging, which, the, make, them, will, women, by\n",
            "nurse: practitioner, nursing, honors, affiliated, hospital, specialists, graduated, experience, doctors, hospitals\n",
            "doctor: college, from, of, degree, earned, in, bachelor, member, obtained, implant\n",
            "engineer: software, engineering, computer, systems, technical, prior, electrical, technology, phd, senior\n",
            "teacher: teachers, education, students, teaching, coordinator, schools, teaches, has, taught, writing\n",
            "dietitian: nutrition, with, experience, specialists, nurse, registered, diverse, honors, practitioner, hospitals\n",
            "\n",
            "\n"
          ]
        },
        {
          "output_type": "stream",
          "name": "stderr",
          "text": [
            "21528it [01:28, 223.50it/s]"
          ]
        },
        {
          "output_type": "stream",
          "name": "stdout",
          "text": [
            "| epoch   4 | 21500/58601 batches | loss    1.626 \n",
            "women: about, african, she, the, stories, her, working, people, youth, culture\n",
            "men: justice, people, ranging, which, the, make, them, will, women, by\n",
            "nurse: practitioner, nursing, honors, affiliated, hospital, specialists, graduated, experience, doctors, hospitals\n",
            "doctor: from, college, of, degree, earned, in, bachelor, member, obtained, implant\n",
            "engineer: software, engineering, computer, systems, technical, prior, electrical, technology, phd, senior\n",
            "teacher: teachers, education, students, teaching, coordinator, schools, teaches, has, taught, writing\n",
            "dietitian: nutrition, with, experience, specialists, nurse, registered, diverse, honors, practitioner, hospitals\n",
            "\n",
            "\n"
          ]
        },
        {
          "output_type": "stream",
          "name": "stderr",
          "text": [
            "22014it [01:30, 211.46it/s]"
          ]
        },
        {
          "output_type": "stream",
          "name": "stdout",
          "text": [
            "| epoch   4 | 22000/58601 batches | loss    1.630 \n",
            "women: about, african, she, the, stories, her, working, people, youth, culture\n",
            "men: justice, people, ranging, which, the, make, them, will, women, by\n",
            "nurse: practitioner, nursing, honors, affiliated, hospital, specialists, graduated, experience, doctors, hospitals\n",
            "doctor: from, college, of, degree, earned, in, bachelor, member, obtained, implant\n",
            "engineer: software, engineering, computer, systems, technical, prior, electrical, technology, phd, senior\n",
            "teacher: teachers, education, students, teaching, coordinator, schools, teaches, has, taught, writing\n",
            "dietitian: nutrition, with, experience, specialists, nurse, registered, diverse, honors, practitioner, hospitals\n",
            "\n",
            "\n"
          ]
        },
        {
          "output_type": "stream",
          "name": "stderr",
          "text": [
            "22523it [01:32, 219.05it/s]"
          ]
        },
        {
          "output_type": "stream",
          "name": "stdout",
          "text": [
            "| epoch   4 | 22500/58601 batches | loss    1.633 \n",
            "women: about, african, she, the, stories, her, working, people, youth, culture\n",
            "men: justice, people, ranging, which, the, make, them, will, women, by\n",
            "nurse: practitioner, nursing, honors, affiliated, hospital, specialists, graduated, experience, doctors, hospitals\n",
            "doctor: from, college, of, degree, earned, in, bachelor, member, obtained, implant\n",
            "engineer: software, engineering, computer, systems, technical, prior, electrical, technology, phd, senior\n",
            "teacher: teachers, education, students, teaching, coordinator, schools, teaches, has, taught, writing\n",
            "dietitian: nutrition, with, experience, specialists, nurse, registered, diverse, honors, practitioner, hospitals\n",
            "\n",
            "\n"
          ]
        },
        {
          "output_type": "stream",
          "name": "stderr",
          "text": [
            "23035it [01:34, 230.45it/s]"
          ]
        },
        {
          "output_type": "stream",
          "name": "stdout",
          "text": [
            "| epoch   4 | 23000/58601 batches | loss    1.629 \n",
            "women: about, african, she, the, stories, her, working, people, youth, culture\n",
            "men: justice, people, ranging, which, the, make, them, will, women, by\n",
            "nurse: practitioner, nursing, honors, affiliated, hospital, specialists, graduated, experience, doctors, hospitals\n",
            "doctor: from, college, of, degree, earned, in, bachelor, member, obtained, implant\n",
            "engineer: software, engineering, computer, systems, technical, prior, electrical, technology, phd, senior\n",
            "teacher: teachers, education, students, teaching, coordinator, schools, teaches, has, taught, writing\n",
            "dietitian: nutrition, with, experience, specialists, nurse, registered, diverse, honors, practitioner, hospitals\n",
            "\n",
            "\n"
          ]
        },
        {
          "output_type": "stream",
          "name": "stderr",
          "text": [
            "23521it [01:36, 219.86it/s]"
          ]
        },
        {
          "output_type": "stream",
          "name": "stdout",
          "text": [
            "| epoch   4 | 23500/58601 batches | loss    1.636 \n",
            "women: about, african, she, the, stories, her, working, people, youth, culture\n",
            "men: justice, people, ranging, which, the, make, them, will, women, by\n",
            "nurse: practitioner, nursing, honors, affiliated, hospital, specialists, graduated, experience, doctors, hospitals\n",
            "doctor: from, college, of, degree, earned, in, bachelor, member, obtained, implant\n",
            "engineer: software, engineering, computer, systems, technical, prior, electrical, technology, phd, senior\n",
            "teacher: teachers, education, students, teaching, coordinator, schools, teaches, has, taught, writing\n",
            "dietitian: nutrition, with, experience, specialists, nurse, registered, diverse, honors, practitioner, hospitals\n",
            "\n",
            "\n"
          ]
        },
        {
          "output_type": "stream",
          "name": "stderr",
          "text": [
            "24031it [01:38, 229.77it/s]"
          ]
        },
        {
          "output_type": "stream",
          "name": "stdout",
          "text": [
            "| epoch   4 | 24000/58601 batches | loss    1.628 \n",
            "women: about, african, she, the, stories, her, working, people, youth, culture\n",
            "men: justice, people, ranging, which, the, make, them, will, women, by\n",
            "nurse: practitioner, nursing, honors, affiliated, hospital, specialists, graduated, experience, doctors, hospitals\n",
            "doctor: from, college, of, degree, earned, in, bachelor, member, obtained, implant\n",
            "engineer: software, engineering, computer, systems, technical, prior, electrical, technology, phd, senior\n",
            "teacher: teachers, education, students, teaching, coordinator, schools, teaches, has, taught, writing\n",
            "dietitian: nutrition, with, experience, specialists, nurse, registered, diverse, honors, practitioner, hospitals\n",
            "\n",
            "\n"
          ]
        },
        {
          "output_type": "stream",
          "name": "stderr",
          "text": [
            "24516it [01:40, 228.43it/s]"
          ]
        },
        {
          "output_type": "stream",
          "name": "stdout",
          "text": [
            "| epoch   4 | 24500/58601 batches | loss    1.628 \n",
            "women: about, african, she, the, stories, her, working, people, youth, culture\n",
            "men: justice, people, ranging, which, the, make, them, will, women, by\n",
            "nurse: practitioner, nursing, honors, affiliated, hospital, specialists, graduated, experience, doctors, hospitals\n",
            "doctor: from, college, of, degree, earned, in, bachelor, member, obtained, implant\n",
            "engineer: software, engineering, computer, systems, technical, prior, electrical, technology, phd, senior\n",
            "teacher: teachers, education, students, teaching, coordinator, schools, teaches, has, taught, writing\n",
            "dietitian: nutrition, with, experience, specialists, nurse, registered, diverse, honors, practitioner, hospitals\n",
            "\n",
            "\n"
          ]
        },
        {
          "output_type": "stream",
          "name": "stderr",
          "text": [
            "25029it [01:42, 230.40it/s]"
          ]
        },
        {
          "output_type": "stream",
          "name": "stdout",
          "text": [
            "| epoch   4 | 25000/58601 batches | loss    1.635 \n",
            "women: about, african, she, the, stories, her, working, people, youth, culture\n",
            "men: justice, people, ranging, which, the, make, them, will, women, by\n",
            "nurse: practitioner, nursing, honors, affiliated, hospital, specialists, graduated, experience, doctors, hospitals\n",
            "doctor: from, college, of, degree, earned, in, bachelor, member, obtained, implant\n",
            "engineer: software, engineering, computer, systems, technical, prior, electrical, technology, phd, senior\n",
            "teacher: teachers, education, students, teaching, coordinator, schools, teaches, has, taught, writing\n",
            "dietitian: nutrition, with, experience, specialists, nurse, registered, diverse, honors, practitioner, hospitals\n",
            "\n",
            "\n"
          ]
        },
        {
          "output_type": "stream",
          "name": "stderr",
          "text": [
            "25535it [01:44, 228.72it/s]"
          ]
        },
        {
          "output_type": "stream",
          "name": "stdout",
          "text": [
            "| epoch   4 | 25500/58601 batches | loss    1.632 \n",
            "women: about, african, she, the, stories, her, working, people, youth, culture\n",
            "men: justice, people, ranging, which, the, make, them, will, women, by\n",
            "nurse: practitioner, nursing, honors, affiliated, hospital, specialists, graduated, experience, doctors, hospitals\n",
            "doctor: from, college, of, degree, earned, in, bachelor, member, obtained, implant\n",
            "engineer: software, engineering, computer, systems, technical, prior, electrical, technology, phd, senior\n",
            "teacher: teachers, education, students, teaching, coordinator, schools, teaches, has, taught, writing\n",
            "dietitian: nutrition, with, experience, specialists, nurse, registered, diverse, honors, practitioner, hospitals\n",
            "\n",
            "\n"
          ]
        },
        {
          "output_type": "stream",
          "name": "stderr",
          "text": [
            "26018it [01:45, 221.99it/s]"
          ]
        },
        {
          "output_type": "stream",
          "name": "stdout",
          "text": [
            "| epoch   4 | 26000/58601 batches | loss    1.633 \n",
            "women: about, african, she, the, stories, her, working, people, youth, culture\n",
            "men: justice, people, ranging, which, the, make, them, will, women, by\n",
            "nurse: practitioner, nursing, honors, affiliated, hospital, specialists, graduated, experience, doctors, hospitals\n",
            "doctor: from, college, of, degree, earned, in, bachelor, member, obtained, implant\n",
            "engineer: software, engineering, computer, systems, technical, prior, electrical, technology, phd, senior\n",
            "teacher: teachers, education, students, teaching, coordinator, schools, teaches, has, taught, writing\n",
            "dietitian: nutrition, with, experience, specialists, nurse, registered, diverse, honors, practitioner, hospitals\n",
            "\n",
            "\n"
          ]
        },
        {
          "output_type": "stream",
          "name": "stderr",
          "text": [
            "26530it [01:47, 228.95it/s]"
          ]
        },
        {
          "output_type": "stream",
          "name": "stdout",
          "text": [
            "| epoch   4 | 26500/58601 batches | loss    1.631 \n",
            "women: about, african, she, the, stories, her, working, people, youth, culture\n",
            "men: justice, people, ranging, which, the, make, them, will, women, by\n",
            "nurse: practitioner, nursing, honors, affiliated, hospital, specialists, graduated, experience, doctors, hospitals\n",
            "doctor: from, college, of, degree, earned, in, bachelor, member, obtained, implant\n",
            "engineer: software, engineering, computer, systems, technical, prior, electrical, technology, phd, senior\n",
            "teacher: teachers, education, students, teaching, coordinator, schools, teaches, has, taught, writing\n",
            "dietitian: nutrition, with, experience, specialists, nurse, registered, diverse, honors, practitioner, hospitals\n",
            "\n",
            "\n"
          ]
        },
        {
          "output_type": "stream",
          "name": "stderr",
          "text": [
            "27014it [01:49, 225.47it/s]"
          ]
        },
        {
          "output_type": "stream",
          "name": "stdout",
          "text": [
            "| epoch   4 | 27000/58601 batches | loss    1.637 \n",
            "women: about, african, she, the, stories, her, working, people, youth, culture\n",
            "men: justice, people, ranging, which, the, make, them, will, women, by\n",
            "nurse: practitioner, nursing, honors, affiliated, hospital, specialists, graduated, experience, doctors, hospitals\n",
            "doctor: from, college, of, degree, earned, in, bachelor, member, obtained, implant\n",
            "engineer: software, engineering, computer, systems, technical, prior, electrical, technology, phd, senior\n",
            "teacher: teachers, education, students, teaching, coordinator, schools, teaches, has, taught, writing\n",
            "dietitian: nutrition, with, experience, specialists, nurse, registered, diverse, honors, practitioner, hospitals\n",
            "\n",
            "\n"
          ]
        },
        {
          "output_type": "stream",
          "name": "stderr",
          "text": [
            "27523it [01:51, 221.49it/s]"
          ]
        },
        {
          "output_type": "stream",
          "name": "stdout",
          "text": [
            "| epoch   4 | 27500/58601 batches | loss    1.632 \n",
            "women: about, african, she, the, stories, her, working, people, youth, culture\n",
            "men: justice, people, ranging, which, the, make, them, will, women, by\n",
            "nurse: practitioner, nursing, honors, affiliated, hospital, specialists, graduated, experience, doctors, hospitals\n",
            "doctor: from, college, of, degree, earned, in, bachelor, member, obtained, implant\n",
            "engineer: software, engineering, computer, systems, technical, prior, electrical, technology, phd, senior\n",
            "teacher: teachers, education, students, teaching, coordinator, schools, teaches, has, taught, writing\n",
            "dietitian: nutrition, with, experience, specialists, nurse, registered, diverse, honors, practitioner, hospitals\n",
            "\n",
            "\n"
          ]
        },
        {
          "output_type": "stream",
          "name": "stderr",
          "text": [
            "28031it [01:53, 223.60it/s]"
          ]
        },
        {
          "output_type": "stream",
          "name": "stdout",
          "text": [
            "| epoch   4 | 28000/58601 batches | loss    1.633 \n",
            "women: about, african, she, the, stories, her, working, people, youth, culture\n",
            "men: justice, people, ranging, which, the, make, them, will, women, by\n",
            "nurse: practitioner, nursing, honors, affiliated, hospital, specialists, graduated, experience, doctors, hospitals\n",
            "doctor: from, college, of, degree, earned, in, bachelor, member, obtained, implant\n",
            "engineer: software, engineering, computer, systems, technical, prior, electrical, technology, phd, senior\n",
            "teacher: teachers, education, students, teaching, coordinator, schools, teaches, has, taught, writing\n",
            "dietitian: nutrition, with, experience, specialists, nurse, registered, diverse, honors, practitioner, hospitals\n",
            "\n",
            "\n"
          ]
        },
        {
          "output_type": "stream",
          "name": "stderr",
          "text": [
            "28519it [01:55, 219.06it/s]"
          ]
        },
        {
          "output_type": "stream",
          "name": "stdout",
          "text": [
            "| epoch   4 | 28500/58601 batches | loss    1.631 \n",
            "women: about, african, she, the, stories, her, working, people, youth, culture\n",
            "men: justice, people, ranging, which, the, make, them, will, women, by\n",
            "nurse: practitioner, nursing, honors, affiliated, hospital, specialists, graduated, experience, doctors, hospitals\n",
            "doctor: from, college, of, degree, earned, in, bachelor, member, obtained, implant\n",
            "engineer: software, engineering, computer, systems, technical, prior, electrical, technology, phd, senior\n",
            "teacher: teachers, education, students, teaching, coordinator, schools, teaches, has, taught, writing\n",
            "dietitian: nutrition, with, experience, specialists, nurse, registered, diverse, honors, practitioner, hospitals\n",
            "\n",
            "\n"
          ]
        },
        {
          "output_type": "stream",
          "name": "stderr",
          "text": [
            "29029it [01:57, 229.85it/s]"
          ]
        },
        {
          "output_type": "stream",
          "name": "stdout",
          "text": [
            "| epoch   4 | 29000/58601 batches | loss    1.638 \n",
            "women: about, african, she, the, stories, her, working, people, youth, culture\n",
            "men: justice, people, ranging, which, the, make, them, will, women, by\n",
            "nurse: practitioner, nursing, honors, affiliated, hospital, specialists, graduated, experience, doctors, hospitals\n",
            "doctor: from, college, of, degree, earned, in, bachelor, member, obtained, implant\n",
            "engineer: software, engineering, computer, systems, technical, prior, electrical, technology, phd, senior\n",
            "teacher: teachers, education, students, teaching, coordinator, schools, teaches, has, taught, writing\n",
            "dietitian: nutrition, with, experience, specialists, nurse, registered, diverse, honors, practitioner, hospitals\n",
            "\n",
            "\n"
          ]
        },
        {
          "output_type": "stream",
          "name": "stderr",
          "text": [
            "29536it [01:59, 228.02it/s]"
          ]
        },
        {
          "output_type": "stream",
          "name": "stdout",
          "text": [
            "| epoch   4 | 29500/58601 batches | loss    1.633 \n",
            "women: about, african, she, the, stories, her, working, people, youth, culture\n",
            "men: justice, people, ranging, which, the, make, them, will, women, by\n",
            "nurse: practitioner, nursing, honors, affiliated, hospital, specialists, graduated, experience, doctors, hospitals\n",
            "doctor: from, college, of, degree, earned, in, bachelor, member, obtained, implant\n",
            "engineer: software, engineering, computer, systems, technical, prior, electrical, technology, phd, senior\n",
            "teacher: teachers, education, students, teaching, coordinator, schools, teaches, has, taught, writing\n",
            "dietitian: nutrition, with, experience, specialists, nurse, registered, diverse, honors, practitioner, hospitals\n",
            "\n",
            "\n"
          ]
        },
        {
          "output_type": "stream",
          "name": "stderr",
          "text": [
            "30017it [02:01, 224.91it/s]"
          ]
        },
        {
          "output_type": "stream",
          "name": "stdout",
          "text": [
            "| epoch   4 | 30000/58601 batches | loss    1.639 \n",
            "women: about, african, she, the, stories, her, working, people, youth, culture\n",
            "men: justice, people, ranging, which, the, make, them, will, women, by\n",
            "nurse: practitioner, nursing, honors, affiliated, hospital, specialists, graduated, experience, doctors, hospitals\n",
            "doctor: from, college, of, degree, earned, in, bachelor, member, obtained, implant\n",
            "engineer: software, engineering, computer, systems, technical, prior, electrical, technology, phd, senior\n",
            "teacher: teachers, education, students, teaching, coordinator, schools, teaches, has, taught, writing\n",
            "dietitian: nutrition, with, experience, specialists, nurse, registered, diverse, honors, practitioner, hospitals\n",
            "\n",
            "\n"
          ]
        },
        {
          "output_type": "stream",
          "name": "stderr",
          "text": [
            "30512it [02:03, 232.68it/s]"
          ]
        },
        {
          "output_type": "stream",
          "name": "stdout",
          "text": [
            "| epoch   4 | 30500/58601 batches | loss    1.632 \n",
            "women: about, african, she, the, stories, her, working, people, youth, culture\n",
            "men: justice, people, ranging, which, the, make, them, will, women, by\n",
            "nurse: practitioner, nursing, honors, affiliated, hospital, specialists, graduated, experience, doctors, medical\n",
            "doctor: from, college, of, degree, earned, in, bachelor, member, obtained, implant\n",
            "engineer: software, engineering, computer, systems, technical, prior, electrical, technology, phd, senior\n",
            "teacher: teachers, education, students, teaching, coordinator, schools, teaches, has, taught, writing\n",
            "dietitian: nutrition, with, experience, specialists, nurse, registered, diverse, honors, practitioner, hospitals\n",
            "\n",
            "\n"
          ]
        },
        {
          "output_type": "stream",
          "name": "stderr",
          "text": [
            "31020it [02:05, 223.52it/s]"
          ]
        },
        {
          "output_type": "stream",
          "name": "stdout",
          "text": [
            "| epoch   4 | 31000/58601 batches | loss    1.630 \n",
            "women: about, african, she, the, stories, her, working, people, youth, culture\n",
            "men: justice, people, ranging, which, the, make, them, will, women, by\n",
            "nurse: practitioner, nursing, honors, affiliated, hospital, specialists, graduated, experience, doctors, hospitals\n",
            "doctor: from, college, of, degree, earned, in, bachelor, member, obtained, implant\n",
            "engineer: software, engineering, computer, systems, technical, prior, electrical, technology, phd, senior\n",
            "teacher: teachers, education, students, teaching, coordinator, schools, teaches, has, taught, writing\n",
            "dietitian: nutrition, with, experience, specialists, nurse, registered, diverse, honors, practitioner, hospitals\n",
            "\n",
            "\n"
          ]
        },
        {
          "output_type": "stream",
          "name": "stderr",
          "text": [
            "31526it [02:07, 219.69it/s]"
          ]
        },
        {
          "output_type": "stream",
          "name": "stdout",
          "text": [
            "| epoch   4 | 31500/58601 batches | loss    1.631 \n",
            "women: about, african, she, the, stories, her, working, people, youth, culture\n",
            "men: justice, people, ranging, which, the, make, them, will, women, by\n",
            "nurse: practitioner, nursing, honors, affiliated, hospital, specialists, graduated, experience, doctors, hospitals\n",
            "doctor: from, college, of, degree, earned, in, bachelor, member, obtained, implant\n",
            "engineer: software, engineering, computer, systems, technical, prior, electrical, technology, phd, senior\n",
            "teacher: teachers, education, students, teaching, coordinator, schools, teaches, has, taught, writing\n",
            "dietitian: nutrition, with, experience, specialists, nurse, registered, diverse, honors, practitioner, hospitals\n",
            "\n",
            "\n"
          ]
        },
        {
          "output_type": "stream",
          "name": "stderr",
          "text": [
            "32034it [02:09, 225.39it/s]"
          ]
        },
        {
          "output_type": "stream",
          "name": "stdout",
          "text": [
            "| epoch   4 | 32000/58601 batches | loss    1.630 \n",
            "women: about, african, she, the, stories, her, working, people, youth, culture\n",
            "men: justice, people, ranging, which, the, make, them, will, women, by\n",
            "nurse: practitioner, nursing, honors, affiliated, hospital, specialists, graduated, experience, doctors, hospitals\n",
            "doctor: from, college, of, degree, earned, in, bachelor, member, obtained, implant\n",
            "engineer: software, engineering, computer, systems, technical, prior, electrical, technology, phd, senior\n",
            "teacher: teachers, education, students, teaching, coordinator, schools, teaches, has, taught, writing\n",
            "dietitian: nutrition, with, experience, specialists, nurse, registered, diverse, honors, practitioner, hospitals\n",
            "\n",
            "\n"
          ]
        },
        {
          "output_type": "stream",
          "name": "stderr",
          "text": [
            "32516it [02:11, 217.35it/s]"
          ]
        },
        {
          "output_type": "stream",
          "name": "stdout",
          "text": [
            "| epoch   4 | 32500/58601 batches | loss    1.630 \n",
            "women: about, african, she, the, stories, her, working, people, youth, culture\n",
            "men: justice, people, ranging, which, the, make, them, will, women, by\n",
            "nurse: practitioner, nursing, honors, affiliated, hospital, specialists, graduated, experience, doctors, hospitals\n",
            "doctor: from, college, of, degree, earned, in, bachelor, member, obtained, implant\n",
            "engineer: software, engineering, computer, systems, technical, prior, electrical, technology, phd, senior\n",
            "teacher: teachers, education, students, teaching, coordinator, schools, teaches, has, taught, writing\n",
            "dietitian: nutrition, with, experience, specialists, nurse, registered, diverse, honors, practitioner, hospitals\n",
            "\n",
            "\n"
          ]
        },
        {
          "output_type": "stream",
          "name": "stderr",
          "text": [
            "33027it [02:13, 227.64it/s]"
          ]
        },
        {
          "output_type": "stream",
          "name": "stdout",
          "text": [
            "| epoch   4 | 33000/58601 batches | loss    1.633 \n",
            "women: about, african, she, the, stories, her, working, people, youth, culture\n",
            "men: justice, people, ranging, which, the, make, them, will, women, by\n",
            "nurse: practitioner, nursing, honors, affiliated, hospital, specialists, graduated, experience, doctors, hospitals\n",
            "doctor: from, college, of, degree, earned, in, bachelor, member, obtained, implant\n",
            "engineer: software, engineering, computer, systems, technical, prior, electrical, technology, phd, senior\n",
            "teacher: teachers, education, students, teaching, coordinator, schools, teaches, has, taught, writing\n",
            "dietitian: nutrition, with, experience, specialists, nurse, registered, diverse, honors, practitioner, hospitals\n",
            "\n",
            "\n"
          ]
        },
        {
          "output_type": "stream",
          "name": "stderr",
          "text": [
            "33511it [02:15, 220.82it/s]"
          ]
        },
        {
          "output_type": "stream",
          "name": "stdout",
          "text": [
            "| epoch   4 | 33500/58601 batches | loss    1.636 \n",
            "women: about, african, she, the, stories, her, working, people, youth, culture\n",
            "men: justice, people, ranging, which, the, make, them, will, women, by\n",
            "nurse: practitioner, nursing, honors, affiliated, hospital, specialists, graduated, experience, doctors, hospitals\n",
            "doctor: from, college, of, degree, earned, in, bachelor, member, obtained, implant\n",
            "engineer: software, engineering, computer, systems, technical, prior, electrical, technology, phd, senior\n",
            "teacher: teachers, education, students, teaching, coordinator, schools, teaches, has, taught, writing\n",
            "dietitian: nutrition, with, experience, specialists, nurse, registered, diverse, honors, practitioner, hospitals\n",
            "\n",
            "\n"
          ]
        },
        {
          "output_type": "stream",
          "name": "stderr",
          "text": [
            "34017it [02:17, 226.60it/s]"
          ]
        },
        {
          "output_type": "stream",
          "name": "stdout",
          "text": [
            "| epoch   4 | 34000/58601 batches | loss    1.634 \n",
            "women: about, african, she, the, stories, her, working, people, youth, culture\n",
            "men: justice, people, ranging, which, the, make, them, will, women, by\n",
            "nurse: practitioner, nursing, honors, affiliated, hospital, specialists, graduated, experience, doctors, hospitals\n",
            "doctor: from, college, of, degree, earned, in, bachelor, member, obtained, implant\n",
            "engineer: software, engineering, computer, systems, technical, prior, electrical, technology, phd, senior\n",
            "teacher: teachers, education, students, teaching, coordinator, schools, teaches, has, taught, writing\n",
            "dietitian: nutrition, with, experience, specialists, nurse, registered, diverse, honors, practitioner, hospitals\n",
            "\n",
            "\n"
          ]
        },
        {
          "output_type": "stream",
          "name": "stderr",
          "text": [
            "34527it [02:19, 219.74it/s]"
          ]
        },
        {
          "output_type": "stream",
          "name": "stdout",
          "text": [
            "| epoch   4 | 34500/58601 batches | loss    1.628 \n",
            "women: about, african, she, the, stories, her, working, people, youth, culture\n",
            "men: justice, people, ranging, which, the, make, them, will, women, by\n",
            "nurse: practitioner, nursing, honors, affiliated, hospital, specialists, graduated, experience, doctors, hospitals\n",
            "doctor: from, college, of, degree, earned, in, bachelor, member, obtained, implant\n",
            "engineer: software, engineering, computer, systems, technical, prior, electrical, technology, phd, senior\n",
            "teacher: teachers, education, students, teaching, coordinator, schools, teaches, has, taught, writing\n",
            "dietitian: nutrition, with, experience, specialists, nurse, registered, diverse, honors, practitioner, hospitals\n",
            "\n",
            "\n"
          ]
        },
        {
          "output_type": "stream",
          "name": "stderr",
          "text": [
            "35034it [02:21, 225.56it/s]"
          ]
        },
        {
          "output_type": "stream",
          "name": "stdout",
          "text": [
            "| epoch   4 | 35000/58601 batches | loss    1.631 \n",
            "women: about, african, she, the, stories, her, working, people, youth, culture\n",
            "men: justice, people, ranging, which, the, make, them, will, women, by\n",
            "nurse: practitioner, nursing, honors, affiliated, hospital, specialists, graduated, experience, doctors, hospitals\n",
            "doctor: from, college, of, degree, earned, in, bachelor, member, obtained, implant\n",
            "engineer: software, engineering, computer, systems, technical, prior, electrical, technology, phd, senior\n",
            "teacher: teachers, education, students, teaching, coordinator, schools, teaches, has, taught, writing\n",
            "dietitian: nutrition, with, experience, specialists, nurse, registered, diverse, honors, practitioner, hospitals\n",
            "\n",
            "\n"
          ]
        },
        {
          "output_type": "stream",
          "name": "stderr",
          "text": [
            "35516it [02:23, 229.01it/s]"
          ]
        },
        {
          "output_type": "stream",
          "name": "stdout",
          "text": [
            "| epoch   4 | 35500/58601 batches | loss    1.629 \n",
            "women: about, african, the, she, stories, her, working, people, youth, culture\n",
            "men: justice, people, ranging, which, the, make, them, will, women, by\n",
            "nurse: practitioner, nursing, honors, affiliated, hospital, specialists, graduated, experience, doctors, medical\n",
            "doctor: from, college, of, degree, earned, in, bachelor, member, obtained, implant\n",
            "engineer: software, engineering, computer, systems, technical, prior, electrical, technology, phd, senior\n",
            "teacher: teachers, education, students, teaching, coordinator, schools, teaches, has, taught, writing\n",
            "dietitian: nutrition, with, experience, specialists, nurse, registered, diverse, honors, practitioner, hospitals\n",
            "\n",
            "\n"
          ]
        },
        {
          "output_type": "stream",
          "name": "stderr",
          "text": [
            "36026it [02:25, 223.17it/s]"
          ]
        },
        {
          "output_type": "stream",
          "name": "stdout",
          "text": [
            "| epoch   4 | 36000/58601 batches | loss    1.633 \n",
            "women: about, african, the, she, stories, her, working, people, youth, culture\n",
            "men: justice, people, ranging, which, the, make, them, will, women, by\n",
            "nurse: practitioner, nursing, honors, affiliated, hospital, specialists, graduated, experience, doctors, medical\n",
            "doctor: from, college, of, degree, earned, in, bachelor, member, obtained, implant\n",
            "engineer: software, engineering, computer, systems, technical, prior, electrical, technology, phd, senior\n",
            "teacher: teachers, education, students, teaching, coordinator, schools, teaches, has, taught, writing\n",
            "dietitian: nutrition, with, experience, specialists, nurse, registered, diverse, honors, practitioner, hospitals\n",
            "\n",
            "\n"
          ]
        },
        {
          "output_type": "stream",
          "name": "stderr",
          "text": [
            "36509it [02:27, 227.96it/s]"
          ]
        },
        {
          "output_type": "stream",
          "name": "stdout",
          "text": [
            "| epoch   4 | 36500/58601 batches | loss    1.636 \n",
            "women: about, african, the, she, stories, her, working, people, youth, culture\n",
            "men: justice, people, ranging, which, the, make, them, will, women, by\n",
            "nurse: practitioner, nursing, honors, affiliated, hospital, specialists, graduated, experience, doctors, medical\n",
            "doctor: from, college, of, degree, earned, in, bachelor, member, obtained, implant\n",
            "engineer: software, engineering, computer, systems, technical, prior, electrical, technology, phd, senior\n",
            "teacher: teachers, education, students, teaching, coordinator, schools, teaches, has, taught, writing\n",
            "dietitian: nutrition, with, experience, specialists, nurse, registered, diverse, honors, practitioner, hospitals\n",
            "\n",
            "\n"
          ]
        },
        {
          "output_type": "stream",
          "name": "stderr",
          "text": [
            "37020it [02:29, 226.57it/s]"
          ]
        },
        {
          "output_type": "stream",
          "name": "stdout",
          "text": [
            "| epoch   4 | 37000/58601 batches | loss    1.634 \n",
            "women: about, african, the, she, stories, her, working, people, youth, culture\n",
            "men: justice, people, ranging, which, the, make, them, will, women, by\n",
            "nurse: practitioner, nursing, honors, affiliated, hospital, specialists, graduated, experience, doctors, medical\n",
            "doctor: from, college, of, degree, earned, in, bachelor, member, obtained, implant\n",
            "engineer: software, engineering, computer, systems, technical, prior, electrical, technology, phd, senior\n",
            "teacher: teachers, education, students, teaching, coordinator, schools, teaches, has, taught, writing\n",
            "dietitian: nutrition, with, experience, specialists, nurse, registered, diverse, honors, practitioner, hospitals\n",
            "\n",
            "\n"
          ]
        },
        {
          "output_type": "stream",
          "name": "stderr",
          "text": [
            "37528it [02:31, 225.29it/s]"
          ]
        },
        {
          "output_type": "stream",
          "name": "stdout",
          "text": [
            "| epoch   4 | 37500/58601 batches | loss    1.634 \n",
            "women: about, african, the, she, stories, her, working, people, youth, culture\n",
            "men: justice, people, ranging, which, the, make, them, will, women, by\n",
            "nurse: practitioner, nursing, honors, affiliated, hospital, specialists, graduated, experience, doctors, medical\n",
            "doctor: from, college, of, degree, earned, in, bachelor, member, obtained, implant\n",
            "engineer: software, engineering, computer, systems, technical, prior, electrical, technology, phd, senior\n",
            "teacher: teachers, education, students, teaching, coordinator, schools, teaches, has, taught, writing\n",
            "dietitian: nutrition, with, experience, specialists, nurse, registered, diverse, honors, practitioner, hospitals\n",
            "\n",
            "\n"
          ]
        },
        {
          "output_type": "stream",
          "name": "stderr",
          "text": [
            "38032it [02:33, 224.00it/s]"
          ]
        },
        {
          "output_type": "stream",
          "name": "stdout",
          "text": [
            "| epoch   4 | 38000/58601 batches | loss    1.622 \n",
            "women: about, african, the, she, stories, her, working, people, youth, culture\n",
            "men: justice, people, ranging, which, the, make, them, will, women, by\n",
            "nurse: practitioner, nursing, honors, affiliated, hospital, specialists, graduated, experience, doctors, hospitals\n",
            "doctor: from, college, of, degree, earned, in, bachelor, member, obtained, implant\n",
            "engineer: software, engineering, computer, systems, technical, prior, electrical, technology, phd, senior\n",
            "teacher: teachers, education, students, teaching, coordinator, schools, teaches, has, taught, writing\n",
            "dietitian: nutrition, with, experience, specialists, nurse, registered, diverse, honors, practitioner, hospitals\n",
            "\n",
            "\n"
          ]
        },
        {
          "output_type": "stream",
          "name": "stderr",
          "text": [
            "38513it [02:35, 223.99it/s]"
          ]
        },
        {
          "output_type": "stream",
          "name": "stdout",
          "text": [
            "| epoch   4 | 38500/58601 batches | loss    1.626 \n",
            "women: about, african, the, she, stories, her, working, people, youth, culture\n",
            "men: justice, people, ranging, which, the, make, them, will, women, by\n",
            "nurse: practitioner, nursing, honors, affiliated, hospital, specialists, graduated, experience, doctors, medical\n",
            "doctor: from, college, of, degree, earned, in, bachelor, member, obtained, implant\n",
            "engineer: software, engineering, computer, systems, technical, prior, electrical, technology, phd, senior\n",
            "teacher: teachers, education, students, teaching, coordinator, schools, teaches, has, taught, writing\n",
            "dietitian: nutrition, with, experience, specialists, nurse, registered, diverse, honors, practitioner, hospitals\n",
            "\n",
            "\n"
          ]
        },
        {
          "output_type": "stream",
          "name": "stderr",
          "text": [
            "39017it [02:37, 226.43it/s]"
          ]
        },
        {
          "output_type": "stream",
          "name": "stdout",
          "text": [
            "| epoch   4 | 39000/58601 batches | loss    1.630 \n",
            "women: about, african, the, she, stories, her, working, people, youth, culture\n",
            "men: justice, people, ranging, which, the, make, them, will, women, by\n",
            "nurse: practitioner, nursing, honors, affiliated, hospital, specialists, graduated, experience, doctors, medical\n",
            "doctor: from, college, of, degree, earned, in, bachelor, member, obtained, implant\n",
            "engineer: software, engineering, computer, systems, technical, prior, electrical, technology, phd, senior\n",
            "teacher: teachers, education, students, teaching, coordinator, schools, teaches, has, taught, writing\n",
            "dietitian: nutrition, with, experience, specialists, nurse, registered, diverse, honors, practitioner, hospitals\n",
            "\n",
            "\n"
          ]
        },
        {
          "output_type": "stream",
          "name": "stderr",
          "text": [
            "39525it [02:39, 218.66it/s]"
          ]
        },
        {
          "output_type": "stream",
          "name": "stdout",
          "text": [
            "| epoch   4 | 39500/58601 batches | loss    1.623 \n",
            "women: about, african, the, she, stories, her, working, people, youth, culture\n",
            "men: justice, people, ranging, which, the, make, them, will, women, by\n",
            "nurse: practitioner, nursing, honors, affiliated, hospital, specialists, graduated, experience, doctors, medical\n",
            "doctor: from, college, of, degree, earned, in, bachelor, member, obtained, implant\n",
            "engineer: software, engineering, computer, systems, technical, prior, electrical, technology, phd, senior\n",
            "teacher: teachers, education, students, teaching, coordinator, schools, teaches, has, taught, writing\n",
            "dietitian: nutrition, with, experience, specialists, nurse, registered, diverse, honors, practitioner, hospitals\n",
            "\n",
            "\n"
          ]
        },
        {
          "output_type": "stream",
          "name": "stderr",
          "text": [
            "40032it [02:41, 225.42it/s]"
          ]
        },
        {
          "output_type": "stream",
          "name": "stdout",
          "text": [
            "| epoch   4 | 40000/58601 batches | loss    1.636 \n",
            "women: about, african, she, the, stories, her, working, people, youth, culture\n",
            "men: justice, people, ranging, which, the, make, them, will, women, by\n",
            "nurse: practitioner, nursing, honors, affiliated, hospital, specialists, graduated, experience, doctors, medical\n",
            "doctor: from, college, of, degree, earned, in, bachelor, member, obtained, implant\n",
            "engineer: software, engineering, computer, systems, technical, prior, electrical, technology, phd, senior\n",
            "teacher: teachers, education, students, teaching, coordinator, schools, teaches, has, taught, writing\n",
            "dietitian: nutrition, with, experience, specialists, nurse, registered, diverse, honors, practitioner, hospitals\n",
            "\n",
            "\n"
          ]
        },
        {
          "output_type": "stream",
          "name": "stderr",
          "text": [
            "40535it [02:43, 227.96it/s]"
          ]
        },
        {
          "output_type": "stream",
          "name": "stdout",
          "text": [
            "| epoch   4 | 40500/58601 batches | loss    1.630 \n",
            "women: about, african, the, she, stories, her, working, people, youth, culture\n",
            "men: justice, people, ranging, which, the, make, them, will, women, by\n",
            "nurse: practitioner, nursing, honors, affiliated, hospital, specialists, graduated, experience, doctors, medical\n",
            "doctor: from, college, of, degree, earned, in, bachelor, member, obtained, implant\n",
            "engineer: software, engineering, computer, systems, technical, prior, electrical, technology, phd, senior\n",
            "teacher: teachers, education, students, teaching, coordinator, schools, teaches, has, taught, writing\n",
            "dietitian: nutrition, with, experience, specialists, nurse, registered, diverse, honors, practitioner, hospitals\n",
            "\n",
            "\n"
          ]
        },
        {
          "output_type": "stream",
          "name": "stderr",
          "text": [
            "41020it [02:45, 221.18it/s]"
          ]
        },
        {
          "output_type": "stream",
          "name": "stdout",
          "text": [
            "| epoch   4 | 41000/58601 batches | loss    1.630 \n",
            "women: about, african, she, the, stories, her, working, people, youth, culture\n",
            "men: justice, people, ranging, which, the, make, them, will, women, by\n",
            "nurse: practitioner, nursing, honors, affiliated, hospital, specialists, graduated, experience, doctors, medical\n",
            "doctor: from, college, of, degree, earned, in, bachelor, member, obtained, implant\n",
            "engineer: software, engineering, computer, systems, technical, prior, electrical, technology, phd, senior\n",
            "teacher: teachers, education, students, teaching, coordinator, schools, teaches, has, taught, writing\n",
            "dietitian: nutrition, with, experience, specialists, nurse, registered, diverse, honors, practitioner, hospitals\n",
            "\n",
            "\n"
          ]
        },
        {
          "output_type": "stream",
          "name": "stderr",
          "text": [
            "41532it [02:47, 227.20it/s]"
          ]
        },
        {
          "output_type": "stream",
          "name": "stdout",
          "text": [
            "| epoch   4 | 41500/58601 batches | loss    1.634 \n",
            "women: about, african, she, the, stories, her, working, people, youth, culture\n",
            "men: justice, people, ranging, which, the, make, them, will, women, by\n",
            "nurse: practitioner, nursing, honors, affiliated, hospital, specialists, graduated, experience, doctors, medical\n",
            "doctor: from, college, of, degree, earned, in, bachelor, member, obtained, implant\n",
            "engineer: software, engineering, computer, systems, technical, prior, electrical, technology, phd, senior\n",
            "teacher: teachers, education, students, teaching, coordinator, schools, teaches, has, taught, writing\n",
            "dietitian: nutrition, with, experience, specialists, nurse, registered, diverse, honors, practitioner, hospitals\n",
            "\n",
            "\n"
          ]
        },
        {
          "output_type": "stream",
          "name": "stderr",
          "text": [
            "42016it [02:49, 223.34it/s]"
          ]
        },
        {
          "output_type": "stream",
          "name": "stdout",
          "text": [
            "| epoch   4 | 42000/58601 batches | loss    1.629 \n",
            "women: about, african, the, she, stories, her, working, people, youth, culture\n",
            "men: justice, people, ranging, which, the, make, them, will, women, by\n",
            "nurse: practitioner, nursing, honors, affiliated, hospital, specialists, graduated, experience, doctors, medical\n",
            "doctor: from, college, of, degree, earned, in, bachelor, member, obtained, implant\n",
            "engineer: software, engineering, computer, systems, technical, prior, electrical, technology, phd, senior\n",
            "teacher: teachers, education, students, teaching, coordinator, schools, teaches, has, taught, writing\n",
            "dietitian: nutrition, with, experience, specialists, nurse, registered, diverse, honors, practitioner, hospitals\n",
            "\n",
            "\n"
          ]
        },
        {
          "output_type": "stream",
          "name": "stderr",
          "text": [
            "42526it [02:51, 224.58it/s]"
          ]
        },
        {
          "output_type": "stream",
          "name": "stdout",
          "text": [
            "| epoch   4 | 42500/58601 batches | loss    1.631 \n",
            "women: about, african, the, she, stories, her, working, people, youth, culture\n",
            "men: justice, people, ranging, which, the, make, them, will, women, by\n",
            "nurse: practitioner, nursing, honors, affiliated, hospital, specialists, graduated, experience, doctors, medical\n",
            "doctor: from, college, of, degree, earned, in, bachelor, member, obtained, implant\n",
            "engineer: software, engineering, computer, systems, technical, prior, electrical, technology, phd, senior\n",
            "teacher: teachers, education, students, teaching, coordinator, schools, teaches, has, taught, writing\n",
            "dietitian: nutrition, with, experience, specialists, nurse, registered, diverse, honors, practitioner, hospitals\n",
            "\n",
            "\n"
          ]
        },
        {
          "output_type": "stream",
          "name": "stderr",
          "text": [
            "43035it [02:53, 226.07it/s]"
          ]
        },
        {
          "output_type": "stream",
          "name": "stdout",
          "text": [
            "| epoch   4 | 43000/58601 batches | loss    1.635 \n",
            "women: about, african, the, she, stories, her, working, people, youth, culture\n",
            "men: justice, people, ranging, which, the, make, them, will, women, by\n",
            "nurse: practitioner, nursing, honors, affiliated, hospital, specialists, graduated, experience, doctors, medical\n",
            "doctor: from, college, of, degree, earned, in, bachelor, member, obtained, implant\n",
            "engineer: software, engineering, computer, systems, technical, prior, electrical, technology, phd, senior\n",
            "teacher: teachers, education, students, teaching, coordinator, schools, teaches, has, taught, writing\n",
            "dietitian: nutrition, with, experience, specialists, nurse, registered, diverse, honors, practitioner, hospitals\n",
            "\n",
            "\n"
          ]
        },
        {
          "output_type": "stream",
          "name": "stderr",
          "text": [
            "43519it [02:55, 227.84it/s]"
          ]
        },
        {
          "output_type": "stream",
          "name": "stdout",
          "text": [
            "| epoch   4 | 43500/58601 batches | loss    1.631 \n",
            "women: about, african, the, she, stories, her, working, people, youth, culture\n",
            "men: justice, people, ranging, which, the, make, them, will, women, by\n",
            "nurse: practitioner, nursing, honors, affiliated, hospital, specialists, graduated, experience, doctors, hospitals\n",
            "doctor: from, college, of, degree, earned, in, bachelor, member, obtained, implant\n",
            "engineer: software, engineering, computer, systems, technical, prior, electrical, technology, phd, senior\n",
            "teacher: teachers, education, students, teaching, coordinator, schools, teaches, has, taught, writing\n",
            "dietitian: nutrition, with, experience, specialists, nurse, registered, diverse, honors, practitioner, hospitals\n",
            "\n",
            "\n"
          ]
        },
        {
          "output_type": "stream",
          "name": "stderr",
          "text": [
            "44028it [02:57, 227.10it/s]"
          ]
        },
        {
          "output_type": "stream",
          "name": "stdout",
          "text": [
            "| epoch   4 | 44000/58601 batches | loss    1.626 \n",
            "women: about, african, the, she, stories, her, working, people, youth, culture\n",
            "men: justice, people, ranging, which, the, make, them, will, women, by\n",
            "nurse: practitioner, nursing, honors, affiliated, hospital, specialists, graduated, experience, doctors, hospitals\n",
            "doctor: from, college, of, degree, earned, in, bachelor, member, obtained, implant\n",
            "engineer: software, engineering, computer, systems, technical, prior, electrical, technology, phd, senior\n",
            "teacher: teachers, education, students, teaching, coordinator, schools, teaches, has, taught, writing\n",
            "dietitian: nutrition, with, experience, specialists, nurse, registered, diverse, honors, practitioner, hospitals\n",
            "\n",
            "\n"
          ]
        },
        {
          "output_type": "stream",
          "name": "stderr",
          "text": [
            "44513it [02:58, 228.97it/s]"
          ]
        },
        {
          "output_type": "stream",
          "name": "stdout",
          "text": [
            "| epoch   4 | 44500/58601 batches | loss    1.633 \n",
            "women: about, african, the, she, stories, her, working, people, youth, culture\n",
            "men: justice, people, ranging, which, the, make, them, will, women, by\n",
            "nurse: practitioner, nursing, honors, affiliated, hospital, specialists, graduated, experience, doctors, hospitals\n",
            "doctor: from, college, of, degree, earned, in, bachelor, member, obtained, implant\n",
            "engineer: software, engineering, computer, systems, technical, prior, electrical, technology, phd, senior\n",
            "teacher: teachers, education, students, teaching, coordinator, schools, teaches, has, taught, writing\n",
            "dietitian: nutrition, with, experience, specialists, nurse, registered, diverse, honors, practitioner, hospitals\n",
            "\n",
            "\n"
          ]
        },
        {
          "output_type": "stream",
          "name": "stderr",
          "text": [
            "45001it [03:00, 240.59it/s]"
          ]
        },
        {
          "output_type": "stream",
          "name": "stdout",
          "text": [
            "| epoch   4 | 45000/58601 batches | loss    1.639 \n",
            "women: about, african, the, she, stories, her, working, people, youth, culture\n",
            "men: justice, people, ranging, which, the, make, them, will, women, by\n",
            "nurse: practitioner, nursing, honors, affiliated, hospital, specialists, graduated, experience, doctors, hospitals\n",
            "doctor: from, college, of, degree, earned, in, bachelor, member, obtained, implant\n",
            "engineer: software, engineering, computer, systems, technical, prior, electrical, technology, phd, senior\n",
            "teacher: teachers, education, students, teaching, coordinator, schools, teaches, has, taught, writing\n",
            "dietitian: nutrition, with, experience, specialists, nurse, registered, diverse, honors, practitioner, hospitals\n",
            "\n",
            "\n"
          ]
        },
        {
          "output_type": "stream",
          "name": "stderr",
          "text": [
            "45535it [03:02, 231.47it/s]"
          ]
        },
        {
          "output_type": "stream",
          "name": "stdout",
          "text": [
            "| epoch   4 | 45500/58601 batches | loss    1.632 \n",
            "women: about, african, the, she, stories, her, working, people, youth, culture\n",
            "men: justice, people, ranging, which, the, make, them, will, women, by\n",
            "nurse: practitioner, nursing, honors, affiliated, hospital, specialists, graduated, experience, doctors, hospitals\n",
            "doctor: from, college, of, degree, earned, in, bachelor, member, obtained, implant\n",
            "engineer: software, engineering, computer, systems, technical, prior, electrical, technology, phd, senior\n",
            "teacher: teachers, education, students, teaching, coordinator, schools, teaches, has, taught, writing\n",
            "dietitian: nutrition, with, experience, specialists, nurse, registered, diverse, honors, practitioner, hospitals\n",
            "\n",
            "\n"
          ]
        },
        {
          "output_type": "stream",
          "name": "stderr",
          "text": [
            "46018it [03:04, 225.76it/s]"
          ]
        },
        {
          "output_type": "stream",
          "name": "stdout",
          "text": [
            "| epoch   4 | 46000/58601 batches | loss    1.626 \n",
            "women: about, african, the, she, stories, her, working, people, youth, culture\n",
            "men: justice, people, ranging, which, the, make, them, will, women, by\n",
            "nurse: practitioner, nursing, honors, affiliated, hospital, specialists, graduated, experience, doctors, hospitals\n",
            "doctor: from, college, of, degree, earned, in, bachelor, member, obtained, implant\n",
            "engineer: software, engineering, computer, systems, technical, prior, electrical, technology, phd, senior\n",
            "teacher: teachers, education, students, teaching, coordinator, schools, teaches, has, taught, writing\n",
            "dietitian: nutrition, with, experience, specialists, nurse, registered, diverse, honors, practitioner, hospitals\n",
            "\n",
            "\n"
          ]
        },
        {
          "output_type": "stream",
          "name": "stderr",
          "text": [
            "46527it [03:06, 228.46it/s]"
          ]
        },
        {
          "output_type": "stream",
          "name": "stdout",
          "text": [
            "| epoch   4 | 46500/58601 batches | loss    1.637 \n",
            "women: about, african, the, she, stories, her, working, people, youth, culture\n",
            "men: justice, people, ranging, which, the, make, them, will, women, by\n",
            "nurse: practitioner, nursing, honors, affiliated, hospital, specialists, graduated, experience, doctors, hospitals\n",
            "doctor: from, college, of, degree, earned, in, bachelor, member, obtained, implant\n",
            "engineer: software, engineering, computer, systems, technical, prior, electrical, technology, phd, senior\n",
            "teacher: teachers, education, students, teaching, coordinator, schools, teaches, has, taught, writing\n",
            "dietitian: nutrition, with, experience, specialists, nurse, registered, diverse, honors, practitioner, hospitals\n",
            "\n",
            "\n"
          ]
        },
        {
          "output_type": "stream",
          "name": "stderr",
          "text": [
            "47036it [03:08, 226.46it/s]"
          ]
        },
        {
          "output_type": "stream",
          "name": "stdout",
          "text": [
            "| epoch   4 | 47000/58601 batches | loss    1.633 \n",
            "women: about, african, the, she, stories, her, working, people, youth, culture\n",
            "men: justice, people, ranging, which, the, make, them, will, women, by\n",
            "nurse: practitioner, nursing, honors, affiliated, hospital, specialists, graduated, experience, doctors, hospitals\n",
            "doctor: from, college, of, degree, earned, in, bachelor, member, obtained, implant\n",
            "engineer: software, engineering, computer, systems, technical, prior, electrical, technology, phd, senior\n",
            "teacher: teachers, education, students, teaching, coordinator, schools, teaches, has, taught, writing\n",
            "dietitian: nutrition, with, experience, specialists, nurse, registered, diverse, honors, practitioner, hospitals\n",
            "\n",
            "\n"
          ]
        },
        {
          "output_type": "stream",
          "name": "stderr",
          "text": [
            "47521it [03:10, 222.73it/s]"
          ]
        },
        {
          "output_type": "stream",
          "name": "stdout",
          "text": [
            "| epoch   4 | 47500/58601 batches | loss    1.630 \n",
            "women: about, african, the, she, stories, her, working, people, youth, culture\n",
            "men: justice, people, ranging, which, the, make, them, will, women, by\n",
            "nurse: practitioner, nursing, honors, affiliated, hospital, specialists, graduated, experience, doctors, hospitals\n",
            "doctor: from, college, of, degree, earned, in, bachelor, member, obtained, implant\n",
            "engineer: software, engineering, computer, systems, technical, prior, electrical, technology, phd, senior\n",
            "teacher: teachers, education, students, teaching, coordinator, schools, teaches, has, taught, writing\n",
            "dietitian: nutrition, with, experience, specialists, nurse, registered, diverse, honors, practitioner, hospitals\n",
            "\n",
            "\n"
          ]
        },
        {
          "output_type": "stream",
          "name": "stderr",
          "text": [
            "48028it [03:12, 209.23it/s]"
          ]
        },
        {
          "output_type": "stream",
          "name": "stdout",
          "text": [
            "| epoch   4 | 48000/58601 batches | loss    1.631 \n",
            "women: about, african, the, she, stories, her, working, people, youth, culture\n",
            "men: justice, people, ranging, which, the, make, them, will, women, by\n",
            "nurse: practitioner, nursing, honors, affiliated, hospital, specialists, graduated, experience, doctors, hospitals\n",
            "doctor: from, college, of, degree, earned, in, bachelor, member, obtained, implant\n",
            "engineer: software, engineering, computer, systems, technical, prior, electrical, technology, phd, senior\n",
            "teacher: teachers, education, students, teaching, coordinator, schools, teaches, has, taught, writing\n",
            "dietitian: nutrition, with, experience, specialists, nurse, registered, diverse, honors, practitioner, hospitals\n",
            "\n",
            "\n"
          ]
        },
        {
          "output_type": "stream",
          "name": "stderr",
          "text": [
            "48513it [03:14, 223.33it/s]"
          ]
        },
        {
          "output_type": "stream",
          "name": "stdout",
          "text": [
            "| epoch   4 | 48500/58601 batches | loss    1.635 \n",
            "women: about, african, the, she, stories, her, working, people, youth, culture\n",
            "men: justice, people, ranging, which, the, make, them, will, women, by\n",
            "nurse: practitioner, nursing, honors, affiliated, hospital, specialists, graduated, experience, doctors, hospitals\n",
            "doctor: from, college, of, degree, earned, in, bachelor, member, obtained, implant\n",
            "engineer: software, engineering, computer, systems, technical, prior, electrical, technology, phd, senior\n",
            "teacher: teachers, education, students, teaching, coordinator, schools, teaches, has, taught, writing\n",
            "dietitian: nutrition, with, experience, specialists, nurse, registered, diverse, honors, practitioner, hospitals\n",
            "\n",
            "\n"
          ]
        },
        {
          "output_type": "stream",
          "name": "stderr",
          "text": [
            "49026it [03:16, 216.58it/s]"
          ]
        },
        {
          "output_type": "stream",
          "name": "stdout",
          "text": [
            "| epoch   4 | 49000/58601 batches | loss    1.629 \n",
            "women: about, african, the, she, stories, her, working, people, youth, culture\n",
            "men: justice, people, ranging, which, the, make, them, will, women, by\n",
            "nurse: practitioner, nursing, honors, affiliated, hospital, specialists, graduated, experience, doctors, hospitals\n",
            "doctor: from, college, of, degree, earned, in, bachelor, member, obtained, implant\n",
            "engineer: software, engineering, computer, systems, technical, prior, electrical, technology, phd, senior\n",
            "teacher: teachers, education, students, teaching, coordinator, schools, teaches, has, taught, writing\n",
            "dietitian: nutrition, with, experience, specialists, nurse, registered, diverse, honors, practitioner, hospitals\n",
            "\n",
            "\n"
          ]
        },
        {
          "output_type": "stream",
          "name": "stderr",
          "text": [
            "49531it [03:18, 218.73it/s]"
          ]
        },
        {
          "output_type": "stream",
          "name": "stdout",
          "text": [
            "| epoch   4 | 49500/58601 batches | loss    1.634 \n",
            "women: about, african, the, she, stories, her, working, people, youth, culture\n",
            "men: justice, people, ranging, which, the, make, them, will, women, by\n",
            "nurse: practitioner, nursing, honors, affiliated, hospital, specialists, graduated, experience, doctors, hospitals\n",
            "doctor: from, college, of, degree, earned, in, bachelor, member, obtained, implant\n",
            "engineer: software, engineering, computer, systems, technical, prior, electrical, technology, phd, senior\n",
            "teacher: teachers, education, students, teaching, coordinator, schools, teaches, has, taught, writing\n",
            "dietitian: nutrition, with, experience, specialists, nurse, registered, diverse, honors, practitioner, hospitals\n",
            "\n",
            "\n"
          ]
        },
        {
          "output_type": "stream",
          "name": "stderr",
          "text": [
            "50020it [03:20, 227.23it/s]"
          ]
        },
        {
          "output_type": "stream",
          "name": "stdout",
          "text": [
            "| epoch   4 | 50000/58601 batches | loss    1.629 \n",
            "women: about, african, the, she, stories, her, working, people, youth, culture\n",
            "men: justice, people, ranging, which, the, make, them, will, women, by\n",
            "nurse: practitioner, nursing, honors, affiliated, hospital, specialists, graduated, experience, doctors, hospitals\n",
            "doctor: from, college, of, degree, earned, in, bachelor, member, obtained, implant\n",
            "engineer: software, engineering, computer, systems, technical, prior, electrical, technology, phd, senior\n",
            "teacher: teachers, education, students, teaching, coordinator, schools, teaches, has, taught, writing\n",
            "dietitian: nutrition, with, experience, specialists, nurse, registered, diverse, honors, practitioner, hospitals\n",
            "\n",
            "\n"
          ]
        },
        {
          "output_type": "stream",
          "name": "stderr",
          "text": [
            "50530it [03:22, 226.66it/s]"
          ]
        },
        {
          "output_type": "stream",
          "name": "stdout",
          "text": [
            "| epoch   4 | 50500/58601 batches | loss    1.635 \n",
            "women: about, african, the, she, stories, her, working, people, youth, culture\n",
            "men: justice, people, ranging, which, the, make, them, will, women, by\n",
            "nurse: practitioner, nursing, honors, affiliated, hospital, specialists, graduated, experience, doctors, hospitals\n",
            "doctor: from, college, of, degree, earned, in, bachelor, member, obtained, implant\n",
            "engineer: software, engineering, computer, systems, technical, prior, electrical, technology, phd, senior\n",
            "teacher: teachers, education, students, teaching, coordinator, schools, teaches, has, taught, writing\n",
            "dietitian: nutrition, with, experience, specialists, nurse, registered, diverse, honors, practitioner, hospitals\n",
            "\n",
            "\n"
          ]
        },
        {
          "output_type": "stream",
          "name": "stderr",
          "text": [
            "51014it [03:24, 216.33it/s]"
          ]
        },
        {
          "output_type": "stream",
          "name": "stdout",
          "text": [
            "| epoch   4 | 51000/58601 batches | loss    1.632 \n",
            "women: about, african, the, she, stories, her, working, people, youth, culture\n",
            "men: justice, people, ranging, which, the, make, them, will, women, by\n",
            "nurse: practitioner, nursing, honors, affiliated, hospital, specialists, graduated, experience, doctors, hospitals\n",
            "doctor: from, college, of, degree, earned, in, bachelor, member, obtained, implant\n",
            "engineer: software, engineering, computer, systems, technical, prior, electrical, technology, phd, senior\n",
            "teacher: teachers, education, students, teaching, coordinator, schools, teaches, has, taught, writing\n",
            "dietitian: nutrition, with, experience, specialists, nurse, registered, diverse, honors, practitioner, hospitals\n",
            "\n",
            "\n"
          ]
        },
        {
          "output_type": "stream",
          "name": "stderr",
          "text": [
            "51521it [03:26, 226.00it/s]"
          ]
        },
        {
          "output_type": "stream",
          "name": "stdout",
          "text": [
            "| epoch   4 | 51500/58601 batches | loss    1.632 \n",
            "women: about, african, the, she, stories, her, working, people, youth, culture\n",
            "men: justice, people, ranging, which, the, make, them, will, women, by\n",
            "nurse: practitioner, nursing, honors, affiliated, hospital, specialists, graduated, experience, doctors, hospitals\n",
            "doctor: from, college, of, degree, earned, in, bachelor, member, obtained, implant\n",
            "engineer: software, engineering, computer, systems, technical, prior, electrical, technology, phd, senior\n",
            "teacher: teachers, education, students, teaching, coordinator, schools, teaches, has, taught, writing\n",
            "dietitian: nutrition, with, experience, specialists, nurse, registered, diverse, honors, practitioner, hospitals\n",
            "\n",
            "\n"
          ]
        },
        {
          "output_type": "stream",
          "name": "stderr",
          "text": [
            "52028it [03:28, 229.67it/s]"
          ]
        },
        {
          "output_type": "stream",
          "name": "stdout",
          "text": [
            "| epoch   4 | 52000/58601 batches | loss    1.629 \n",
            "women: about, african, the, she, stories, her, working, people, youth, culture\n",
            "men: justice, people, ranging, which, the, make, them, will, women, by\n",
            "nurse: practitioner, nursing, honors, affiliated, hospital, specialists, graduated, experience, doctors, hospitals\n",
            "doctor: from, college, of, degree, earned, in, bachelor, member, obtained, implant\n",
            "engineer: software, engineering, computer, systems, technical, prior, electrical, technology, phd, senior\n",
            "teacher: teachers, education, students, teaching, coordinator, schools, teaches, has, taught, writing\n",
            "dietitian: nutrition, with, experience, specialists, nurse, registered, diverse, honors, practitioner, hospitals\n",
            "\n",
            "\n"
          ]
        },
        {
          "output_type": "stream",
          "name": "stderr",
          "text": [
            "52515it [03:30, 228.62it/s]"
          ]
        },
        {
          "output_type": "stream",
          "name": "stdout",
          "text": [
            "| epoch   4 | 52500/58601 batches | loss    1.629 \n",
            "women: about, african, the, she, stories, her, working, people, youth, culture\n",
            "men: justice, people, ranging, which, the, make, them, will, women, by\n",
            "nurse: practitioner, nursing, honors, affiliated, hospital, specialists, graduated, experience, doctors, hospitals\n",
            "doctor: from, college, of, degree, earned, in, bachelor, member, obtained, implant\n",
            "engineer: software, engineering, computer, systems, technical, prior, electrical, technology, phd, senior\n",
            "teacher: teachers, education, students, teaching, coordinator, schools, teaches, has, taught, writing\n",
            "dietitian: nutrition, with, experience, specialists, nurse, registered, diverse, honors, practitioner, hospitals\n",
            "\n",
            "\n"
          ]
        },
        {
          "output_type": "stream",
          "name": "stderr",
          "text": [
            "53027it [03:32, 226.57it/s]"
          ]
        },
        {
          "output_type": "stream",
          "name": "stdout",
          "text": [
            "| epoch   4 | 53000/58601 batches | loss    1.634 \n",
            "women: about, african, the, she, stories, her, working, people, youth, culture\n",
            "men: justice, people, ranging, which, the, make, them, will, women, by\n",
            "nurse: practitioner, nursing, honors, affiliated, hospital, specialists, graduated, experience, doctors, hospitals\n",
            "doctor: from, college, of, degree, earned, in, bachelor, member, obtained, implant\n",
            "engineer: software, engineering, computer, systems, technical, prior, electrical, technology, phd, senior\n",
            "teacher: teachers, education, students, teaching, coordinator, schools, teaches, has, taught, writing\n",
            "dietitian: nutrition, with, experience, specialists, nurse, registered, diverse, honors, practitioner, hospitals\n",
            "\n",
            "\n"
          ]
        },
        {
          "output_type": "stream",
          "name": "stderr",
          "text": [
            "53531it [03:34, 224.23it/s]"
          ]
        },
        {
          "output_type": "stream",
          "name": "stdout",
          "text": [
            "| epoch   4 | 53500/58601 batches | loss    1.633 \n",
            "women: about, african, the, she, stories, her, working, people, youth, culture\n",
            "men: justice, people, ranging, which, the, make, them, will, women, by\n",
            "nurse: practitioner, nursing, honors, affiliated, hospital, specialists, graduated, experience, doctors, hospitals\n",
            "doctor: from, college, of, degree, earned, in, bachelor, member, obtained, implant\n",
            "engineer: software, engineering, computer, systems, technical, prior, electrical, technology, phd, senior\n",
            "teacher: teachers, education, students, teaching, coordinator, schools, teaches, has, taught, writing\n",
            "dietitian: nutrition, with, experience, specialists, nurse, registered, diverse, honors, practitioner, hospitals\n",
            "\n",
            "\n"
          ]
        },
        {
          "output_type": "stream",
          "name": "stderr",
          "text": [
            "54020it [03:36, 226.54it/s]"
          ]
        },
        {
          "output_type": "stream",
          "name": "stdout",
          "text": [
            "| epoch   4 | 54000/58601 batches | loss    1.634 \n",
            "women: about, african, the, she, stories, her, working, people, youth, culture\n",
            "men: justice, people, ranging, which, the, make, them, will, women, by\n",
            "nurse: practitioner, nursing, honors, affiliated, hospital, specialists, graduated, experience, doctors, hospitals\n",
            "doctor: from, college, of, degree, earned, in, bachelor, member, obtained, implant\n",
            "engineer: software, engineering, computer, systems, technical, prior, electrical, technology, phd, senior\n",
            "teacher: teachers, education, students, teaching, coordinator, schools, teaches, has, taught, writing\n",
            "dietitian: nutrition, with, experience, specialists, nurse, registered, diverse, honors, practitioner, hospitals\n",
            "\n",
            "\n"
          ]
        },
        {
          "output_type": "stream",
          "name": "stderr",
          "text": [
            "54534it [03:38, 230.35it/s]"
          ]
        },
        {
          "output_type": "stream",
          "name": "stdout",
          "text": [
            "| epoch   4 | 54500/58601 batches | loss    1.629 \n",
            "women: about, african, she, the, stories, her, working, people, youth, culture\n",
            "men: justice, people, ranging, which, the, make, them, will, women, by\n",
            "nurse: practitioner, nursing, honors, affiliated, hospital, specialists, graduated, experience, doctors, hospitals\n",
            "doctor: from, college, of, degree, earned, in, bachelor, member, obtained, implant\n",
            "engineer: software, engineering, computer, systems, technical, prior, electrical, technology, phd, senior\n",
            "teacher: teachers, education, students, teaching, coordinator, schools, teaches, has, taught, writing\n",
            "dietitian: nutrition, with, experience, specialists, nurse, registered, diverse, honors, practitioner, hospitals\n",
            "\n",
            "\n"
          ]
        },
        {
          "output_type": "stream",
          "name": "stderr",
          "text": [
            "55027it [03:40, 227.13it/s]"
          ]
        },
        {
          "output_type": "stream",
          "name": "stdout",
          "text": [
            "| epoch   4 | 55000/58601 batches | loss    1.630 \n",
            "women: about, african, the, she, stories, her, working, people, youth, culture\n",
            "men: justice, people, ranging, which, the, make, them, will, women, by\n",
            "nurse: practitioner, nursing, honors, affiliated, hospital, specialists, graduated, experience, doctors, hospitals\n",
            "doctor: from, college, of, degree, earned, in, bachelor, member, obtained, implant\n",
            "engineer: software, engineering, computer, systems, technical, prior, electrical, technology, phd, senior\n",
            "teacher: teachers, education, students, teaching, coordinator, schools, teaches, has, taught, writing\n",
            "dietitian: nutrition, with, experience, specialists, nurse, registered, diverse, honors, practitioner, hospitals\n",
            "\n",
            "\n"
          ]
        },
        {
          "output_type": "stream",
          "name": "stderr",
          "text": [
            "55523it [03:42, 227.99it/s]"
          ]
        },
        {
          "output_type": "stream",
          "name": "stdout",
          "text": [
            "| epoch   4 | 55500/58601 batches | loss    1.633 \n",
            "women: about, african, the, she, stories, her, working, people, youth, culture\n",
            "men: justice, people, ranging, which, the, make, them, will, women, by\n",
            "nurse: practitioner, nursing, honors, affiliated, hospital, specialists, graduated, experience, doctors, hospitals\n",
            "doctor: from, college, of, degree, earned, in, bachelor, member, obtained, implant\n",
            "engineer: software, engineering, computer, systems, technical, prior, electrical, technology, phd, senior\n",
            "teacher: teachers, education, students, teaching, coordinator, schools, teaches, has, taught, writing\n",
            "dietitian: nutrition, with, experience, specialists, nurse, registered, diverse, honors, practitioner, hospitals\n",
            "\n",
            "\n"
          ]
        },
        {
          "output_type": "stream",
          "name": "stderr",
          "text": [
            "56037it [03:44, 231.05it/s]"
          ]
        },
        {
          "output_type": "stream",
          "name": "stdout",
          "text": [
            "| epoch   4 | 56000/58601 batches | loss    1.630 \n",
            "women: about, african, the, she, stories, her, working, people, youth, culture\n",
            "men: justice, people, ranging, which, the, make, them, will, women, by\n",
            "nurse: practitioner, nursing, honors, affiliated, hospital, specialists, graduated, experience, doctors, hospitals\n",
            "doctor: from, college, of, degree, earned, in, bachelor, member, obtained, implant\n",
            "engineer: software, engineering, computer, systems, technical, prior, electrical, technology, phd, senior\n",
            "teacher: teachers, education, students, teaching, coordinator, schools, teaches, has, taught, writing\n",
            "dietitian: nutrition, with, experience, specialists, nurse, registered, diverse, honors, practitioner, hospitals\n",
            "\n",
            "\n"
          ]
        },
        {
          "output_type": "stream",
          "name": "stderr",
          "text": [
            "56524it [03:46, 220.78it/s]"
          ]
        },
        {
          "output_type": "stream",
          "name": "stdout",
          "text": [
            "| epoch   4 | 56500/58601 batches | loss    1.632 \n",
            "women: about, african, the, she, stories, her, working, people, youth, culture\n",
            "men: justice, people, ranging, which, the, make, them, will, women, by\n",
            "nurse: practitioner, nursing, honors, affiliated, hospital, specialists, graduated, experience, doctors, hospitals\n",
            "doctor: from, college, of, degree, earned, in, bachelor, member, obtained, implant\n",
            "engineer: software, engineering, computer, systems, technical, prior, electrical, technology, phd, senior\n",
            "teacher: teachers, education, students, teaching, coordinator, schools, teaches, has, taught, writing\n",
            "dietitian: nutrition, with, experience, specialists, nurse, registered, diverse, honors, practitioner, hospitals\n",
            "\n",
            "\n"
          ]
        },
        {
          "output_type": "stream",
          "name": "stderr",
          "text": [
            "57027it [03:48, 228.05it/s]"
          ]
        },
        {
          "output_type": "stream",
          "name": "stdout",
          "text": [
            "| epoch   4 | 57000/58601 batches | loss    1.633 \n",
            "women: about, african, the, she, stories, her, working, people, youth, culture\n",
            "men: justice, people, ranging, which, the, make, them, will, women, by\n",
            "nurse: practitioner, nursing, honors, affiliated, hospital, specialists, graduated, experience, doctors, hospitals\n",
            "doctor: from, college, of, degree, earned, in, bachelor, member, obtained, implant\n",
            "engineer: software, engineering, computer, systems, technical, prior, electrical, technology, phd, senior\n",
            "teacher: teachers, education, students, teaching, coordinator, schools, teaches, has, taught, writing\n",
            "dietitian: nutrition, with, experience, specialists, nurse, registered, diverse, honors, practitioner, hospitals\n",
            "\n",
            "\n"
          ]
        },
        {
          "output_type": "stream",
          "name": "stderr",
          "text": [
            "57536it [03:50, 229.55it/s]"
          ]
        },
        {
          "output_type": "stream",
          "name": "stdout",
          "text": [
            "| epoch   4 | 57500/58601 batches | loss    1.630 \n",
            "women: about, african, the, she, stories, her, working, people, youth, culture\n",
            "men: justice, people, ranging, which, the, make, them, will, women, by\n",
            "nurse: practitioner, nursing, honors, affiliated, hospital, specialists, graduated, experience, doctors, hospitals\n",
            "doctor: from, college, of, degree, earned, in, bachelor, member, obtained, implant\n",
            "engineer: software, engineering, computer, systems, technical, prior, electrical, technology, phd, senior\n",
            "teacher: teachers, education, students, teaching, coordinator, schools, teaches, has, taught, writing\n",
            "dietitian: nutrition, with, experience, specialists, nurse, registered, diverse, honors, practitioner, hospitals\n",
            "\n",
            "\n"
          ]
        },
        {
          "output_type": "stream",
          "name": "stderr",
          "text": [
            "58014it [03:52, 226.56it/s]"
          ]
        },
        {
          "output_type": "stream",
          "name": "stdout",
          "text": [
            "| epoch   4 | 58000/58601 batches | loss    1.635 \n",
            "women: about, african, the, she, stories, her, working, people, youth, culture\n",
            "men: justice, people, ranging, which, the, make, them, will, women, by\n",
            "nurse: practitioner, nursing, honors, affiliated, hospital, specialists, graduated, experience, doctors, hospitals\n",
            "doctor: from, college, of, degree, earned, in, bachelor, member, obtained, implant\n",
            "engineer: software, engineering, computer, systems, technical, prior, electrical, technology, phd, senior\n",
            "teacher: teachers, education, students, teaching, coordinator, schools, teaches, has, taught, writing\n",
            "dietitian: nutrition, with, experience, specialists, nurse, registered, diverse, honors, practitioner, hospitals\n",
            "\n",
            "\n"
          ]
        },
        {
          "output_type": "stream",
          "name": "stderr",
          "text": [
            "58522it [03:54, 223.83it/s]"
          ]
        },
        {
          "output_type": "stream",
          "name": "stdout",
          "text": [
            "| epoch   4 | 58500/58601 batches | loss    1.631 \n",
            "women: about, african, the, she, stories, her, working, people, youth, culture\n",
            "men: justice, people, ranging, which, the, make, them, will, women, by\n",
            "nurse: practitioner, nursing, honors, affiliated, hospital, specialists, graduated, experience, doctors, hospitals\n",
            "doctor: from, college, of, degree, earned, in, bachelor, member, obtained, implant\n",
            "engineer: software, engineering, computer, systems, technical, prior, electrical, technology, phd, senior\n",
            "teacher: teachers, education, students, teaching, coordinator, schools, teaches, has, taught, writing\n",
            "dietitian: nutrition, with, experience, specialists, nurse, registered, diverse, honors, practitioner, hospitals\n",
            "\n",
            "\n"
          ]
        },
        {
          "output_type": "stream",
          "name": "stderr",
          "text": [
            "58601it [03:56, 248.16it/s]\n",
            "5it [00:01,  3.89it/s]"
          ]
        },
        {
          "output_type": "stream",
          "name": "stdout",
          "text": [
            "| epoch   5 |     0/58601 batches | loss    1.563 \n",
            "women: about, african, the, she, stories, her, working, people, youth, culture\n",
            "men: justice, people, ranging, which, the, make, them, will, women, by\n",
            "nurse: practitioner, nursing, honors, affiliated, hospital, specialists, graduated, experience, doctors, hospitals\n",
            "doctor: from, college, of, degree, earned, in, bachelor, member, obtained, implant\n",
            "engineer: software, engineering, computer, systems, technical, prior, electrical, technology, phd, senior\n",
            "teacher: teachers, education, students, teaching, coordinator, schools, teaches, has, taught, writing\n",
            "dietitian: nutrition, with, experience, specialists, nurse, registered, diverse, honors, practitioner, hospitals\n",
            "\n",
            "\n"
          ]
        },
        {
          "output_type": "stream",
          "name": "stderr",
          "text": [
            "517it [00:03, 227.53it/s]"
          ]
        },
        {
          "output_type": "stream",
          "name": "stdout",
          "text": [
            "| epoch   5 |   500/58601 batches | loss    1.627 \n",
            "women: about, african, the, she, stories, her, working, people, youth, culture\n",
            "men: justice, people, ranging, which, the, make, them, will, women, by\n",
            "nurse: practitioner, nursing, honors, affiliated, hospital, specialists, graduated, experience, doctors, hospitals\n",
            "doctor: from, college, of, degree, earned, in, bachelor, member, obtained, implant\n",
            "engineer: software, engineering, computer, systems, technical, prior, electrical, technology, phd, senior\n",
            "teacher: teachers, education, students, teaching, coordinator, schools, teaches, has, taught, writing\n",
            "dietitian: nutrition, with, experience, specialists, nurse, registered, diverse, honors, practitioner, hospitals\n",
            "\n",
            "\n"
          ]
        },
        {
          "output_type": "stream",
          "name": "stderr",
          "text": [
            "1026it [00:05, 228.14it/s]"
          ]
        },
        {
          "output_type": "stream",
          "name": "stdout",
          "text": [
            "| epoch   5 |  1000/58601 batches | loss    1.632 \n",
            "women: about, african, the, she, stories, her, working, people, youth, culture\n",
            "men: justice, people, ranging, which, the, make, them, will, women, by\n",
            "nurse: practitioner, nursing, honors, affiliated, hospital, specialists, graduated, experience, doctors, hospitals\n",
            "doctor: from, college, of, degree, earned, in, bachelor, member, obtained, implant\n",
            "engineer: software, engineering, computer, systems, technical, prior, electrical, technology, phd, senior\n",
            "teacher: teachers, education, students, teaching, coordinator, schools, teaches, has, taught, writing\n",
            "dietitian: nutrition, with, experience, specialists, nurse, registered, diverse, honors, practitioner, hospitals\n",
            "\n",
            "\n"
          ]
        },
        {
          "output_type": "stream",
          "name": "stderr",
          "text": [
            "1513it [00:07, 229.73it/s]"
          ]
        },
        {
          "output_type": "stream",
          "name": "stdout",
          "text": [
            "| epoch   5 |  1500/58601 batches | loss    1.634 \n",
            "women: about, african, the, she, stories, her, working, people, youth, culture\n",
            "men: justice, people, ranging, which, the, make, them, will, women, by\n",
            "nurse: practitioner, nursing, honors, affiliated, hospital, specialists, graduated, experience, doctors, hospitals\n",
            "doctor: from, college, of, degree, earned, in, bachelor, member, obtained, implant\n",
            "engineer: software, engineering, computer, systems, technical, prior, electrical, technology, phd, senior\n",
            "teacher: teachers, education, students, teaching, coordinator, schools, teaches, has, taught, writing\n",
            "dietitian: nutrition, with, experience, specialists, nurse, registered, diverse, honors, practitioner, hospitals\n",
            "\n",
            "\n"
          ]
        },
        {
          "output_type": "stream",
          "name": "stderr",
          "text": [
            "2022it [00:09, 222.16it/s]"
          ]
        },
        {
          "output_type": "stream",
          "name": "stdout",
          "text": [
            "| epoch   5 |  2000/58601 batches | loss    1.631 \n",
            "women: about, african, the, she, stories, her, working, people, youth, culture\n",
            "men: justice, people, ranging, which, the, make, them, will, women, by\n",
            "nurse: practitioner, nursing, honors, affiliated, hospital, specialists, graduated, experience, doctors, hospitals\n",
            "doctor: from, college, of, degree, earned, in, bachelor, member, obtained, implant\n",
            "engineer: software, engineering, computer, systems, technical, prior, electrical, technology, phd, senior\n",
            "teacher: teachers, education, students, teaching, coordinator, schools, teaches, has, taught, writing\n",
            "dietitian: nutrition, with, experience, specialists, nurse, registered, diverse, honors, practitioner, hospitals\n",
            "\n",
            "\n"
          ]
        },
        {
          "output_type": "stream",
          "name": "stderr",
          "text": [
            "2518it [00:11, 229.91it/s]"
          ]
        },
        {
          "output_type": "stream",
          "name": "stdout",
          "text": [
            "| epoch   5 |  2500/58601 batches | loss    1.631 \n",
            "women: about, african, the, she, stories, her, working, people, youth, culture\n",
            "men: justice, people, ranging, which, the, make, them, will, women, by\n",
            "nurse: practitioner, nursing, honors, affiliated, hospital, specialists, graduated, experience, doctors, hospitals\n",
            "doctor: from, college, of, degree, earned, in, bachelor, member, obtained, implant\n",
            "engineer: software, engineering, computer, systems, technical, prior, electrical, technology, phd, senior\n",
            "teacher: teachers, education, students, teaching, coordinator, schools, teaches, has, taught, writing\n",
            "dietitian: nutrition, with, experience, specialists, nurse, registered, diverse, honors, practitioner, hospitals\n",
            "\n",
            "\n"
          ]
        },
        {
          "output_type": "stream",
          "name": "stderr",
          "text": [
            "3027it [00:13, 209.58it/s]"
          ]
        },
        {
          "output_type": "stream",
          "name": "stdout",
          "text": [
            "| epoch   5 |  3000/58601 batches | loss    1.640 \n",
            "women: about, african, the, she, stories, her, working, people, youth, culture\n",
            "men: justice, people, ranging, which, the, make, them, will, women, by\n",
            "nurse: practitioner, nursing, honors, affiliated, hospital, specialists, graduated, experience, doctors, hospitals\n",
            "doctor: from, college, of, degree, earned, in, bachelor, member, obtained, implant\n",
            "engineer: software, engineering, computer, systems, technical, prior, electrical, technology, phd, senior\n",
            "teacher: teachers, education, students, teaching, coordinator, schools, teaches, has, taught, writing\n",
            "dietitian: nutrition, with, experience, specialists, nurse, registered, diverse, honors, practitioner, hospitals\n",
            "\n",
            "\n"
          ]
        },
        {
          "output_type": "stream",
          "name": "stderr",
          "text": [
            "3534it [00:15, 227.46it/s]"
          ]
        },
        {
          "output_type": "stream",
          "name": "stdout",
          "text": [
            "| epoch   5 |  3500/58601 batches | loss    1.636 \n",
            "women: about, african, the, she, stories, her, working, people, youth, culture\n",
            "men: justice, people, ranging, which, the, make, them, will, women, by\n",
            "nurse: practitioner, nursing, honors, affiliated, hospital, specialists, graduated, experience, doctors, hospitals\n",
            "doctor: from, college, of, degree, earned, in, bachelor, member, obtained, implant\n",
            "engineer: software, engineering, computer, systems, technical, prior, electrical, technology, phd, senior\n",
            "teacher: teachers, education, students, teaching, coordinator, schools, teaches, has, taught, writing\n",
            "dietitian: nutrition, with, experience, specialists, nurse, registered, diverse, honors, practitioner, hospitals\n",
            "\n",
            "\n"
          ]
        },
        {
          "output_type": "stream",
          "name": "stderr",
          "text": [
            "4037it [00:17, 228.85it/s]"
          ]
        },
        {
          "output_type": "stream",
          "name": "stdout",
          "text": [
            "| epoch   5 |  4000/58601 batches | loss    1.628 \n",
            "women: about, african, the, she, stories, her, working, people, youth, culture\n",
            "men: justice, people, ranging, which, the, make, them, will, women, by\n",
            "nurse: practitioner, nursing, honors, affiliated, hospital, specialists, graduated, experience, doctors, hospitals\n",
            "doctor: from, college, of, degree, earned, in, bachelor, member, obtained, implant\n",
            "engineer: software, engineering, computer, systems, technical, prior, electrical, technology, phd, senior\n",
            "teacher: teachers, education, students, teaching, coordinator, schools, teaches, has, taught, writing\n",
            "dietitian: nutrition, with, experience, specialists, nurse, registered, diverse, honors, practitioner, hospitals\n",
            "\n",
            "\n"
          ]
        },
        {
          "output_type": "stream",
          "name": "stderr",
          "text": [
            "4526it [00:19, 224.70it/s]"
          ]
        },
        {
          "output_type": "stream",
          "name": "stdout",
          "text": [
            "| epoch   5 |  4500/58601 batches | loss    1.631 \n",
            "women: about, african, the, she, stories, her, working, people, youth, culture\n",
            "men: justice, people, ranging, which, the, make, them, will, women, by\n",
            "nurse: practitioner, nursing, honors, affiliated, hospital, specialists, graduated, experience, doctors, hospitals\n",
            "doctor: from, college, of, degree, earned, in, bachelor, member, obtained, implant\n",
            "engineer: software, engineering, computer, systems, technical, prior, electrical, technology, phd, senior\n",
            "teacher: teachers, education, students, teaching, coordinator, schools, teaches, has, taught, writing\n",
            "dietitian: nutrition, with, experience, specialists, nurse, registered, diverse, honors, practitioner, hospitals\n",
            "\n",
            "\n"
          ]
        },
        {
          "output_type": "stream",
          "name": "stderr",
          "text": [
            "5014it [00:21, 229.95it/s]"
          ]
        },
        {
          "output_type": "stream",
          "name": "stdout",
          "text": [
            "| epoch   5 |  5000/58601 batches | loss    1.633 \n",
            "women: about, african, the, she, stories, her, working, people, youth, culture\n",
            "men: justice, people, ranging, which, the, make, them, will, women, by\n",
            "nurse: practitioner, nursing, honors, affiliated, hospital, specialists, graduated, experience, doctors, hospitals\n",
            "doctor: from, college, of, degree, earned, in, bachelor, member, obtained, implant\n",
            "engineer: software, engineering, computer, systems, technical, prior, electrical, technology, phd, senior\n",
            "teacher: teachers, education, students, teaching, coordinator, schools, teaches, has, taught, writing\n",
            "dietitian: nutrition, with, experience, specialists, nurse, registered, diverse, honors, practitioner, hospitals\n",
            "\n",
            "\n"
          ]
        },
        {
          "output_type": "stream",
          "name": "stderr",
          "text": [
            "5526it [00:23, 218.98it/s]"
          ]
        },
        {
          "output_type": "stream",
          "name": "stdout",
          "text": [
            "| epoch   5 |  5500/58601 batches | loss    1.634 \n",
            "women: about, african, the, she, stories, her, working, people, youth, culture\n",
            "men: justice, people, ranging, which, the, make, them, will, women, by\n",
            "nurse: practitioner, nursing, honors, affiliated, hospital, specialists, graduated, experience, doctors, hospitals\n",
            "doctor: from, college, of, degree, earned, in, bachelor, member, obtained, implant\n",
            "engineer: software, engineering, computer, systems, technical, prior, electrical, technology, phd, senior\n",
            "teacher: teachers, education, students, teaching, coordinator, schools, teaches, has, taught, writing\n",
            "dietitian: nutrition, with, experience, specialists, nurse, registered, diverse, honors, practitioner, hospitals\n",
            "\n",
            "\n"
          ]
        },
        {
          "output_type": "stream",
          "name": "stderr",
          "text": [
            "6015it [00:25, 230.85it/s]"
          ]
        },
        {
          "output_type": "stream",
          "name": "stdout",
          "text": [
            "| epoch   5 |  6000/58601 batches | loss    1.630 \n",
            "women: about, african, the, she, stories, her, working, people, youth, culture\n",
            "men: justice, people, ranging, which, the, make, them, will, women, by\n",
            "nurse: practitioner, nursing, honors, affiliated, hospital, specialists, graduated, experience, doctors, hospitals\n",
            "doctor: from, college, of, degree, earned, in, bachelor, member, obtained, implant\n",
            "engineer: software, engineering, computer, systems, technical, prior, electrical, technology, phd, senior\n",
            "teacher: teachers, education, students, teaching, coordinator, schools, teaches, has, taught, writing\n",
            "dietitian: nutrition, with, experience, specialists, nurse, registered, diverse, honors, practitioner, hospitals\n",
            "\n",
            "\n"
          ]
        },
        {
          "output_type": "stream",
          "name": "stderr",
          "text": [
            "6527it [00:27, 226.34it/s]"
          ]
        },
        {
          "output_type": "stream",
          "name": "stdout",
          "text": [
            "| epoch   5 |  6500/58601 batches | loss    1.631 \n",
            "women: about, african, the, she, stories, her, working, people, youth, culture\n",
            "men: justice, people, ranging, which, the, make, them, will, women, by\n",
            "nurse: practitioner, nursing, honors, affiliated, hospital, specialists, graduated, experience, doctors, hospitals\n",
            "doctor: from, college, of, degree, earned, in, bachelor, member, obtained, implant\n",
            "engineer: software, engineering, computer, systems, technical, prior, electrical, technology, phd, senior\n",
            "teacher: teachers, education, students, teaching, coordinator, schools, teaches, has, taught, writing\n",
            "dietitian: nutrition, with, experience, specialists, nurse, registered, diverse, honors, practitioner, hospitals\n",
            "\n",
            "\n"
          ]
        },
        {
          "output_type": "stream",
          "name": "stderr",
          "text": [
            "7020it [00:29, 227.80it/s]"
          ]
        },
        {
          "output_type": "stream",
          "name": "stdout",
          "text": [
            "| epoch   5 |  7000/58601 batches | loss    1.627 \n",
            "women: about, african, the, she, stories, her, working, people, youth, culture\n",
            "men: justice, people, ranging, which, the, make, them, will, women, by\n",
            "nurse: practitioner, nursing, honors, affiliated, hospital, specialists, graduated, experience, doctors, hospitals\n",
            "doctor: from, college, of, degree, earned, in, bachelor, member, obtained, implant\n",
            "engineer: software, engineering, computer, systems, technical, prior, electrical, technology, phd, senior\n",
            "teacher: teachers, education, students, teaching, coordinator, schools, teaches, has, taught, writing\n",
            "dietitian: nutrition, with, experience, specialists, nurse, registered, diverse, honors, practitioner, hospitals\n",
            "\n",
            "\n"
          ]
        },
        {
          "output_type": "stream",
          "name": "stderr",
          "text": [
            "7529it [00:31, 227.58it/s]"
          ]
        },
        {
          "output_type": "stream",
          "name": "stdout",
          "text": [
            "| epoch   5 |  7500/58601 batches | loss    1.627 \n",
            "women: about, african, the, she, stories, her, working, people, youth, culture\n",
            "men: justice, people, ranging, which, the, make, them, will, women, by\n",
            "nurse: practitioner, nursing, honors, affiliated, hospital, specialists, graduated, experience, doctors, hospitals\n",
            "doctor: from, college, of, degree, earned, in, bachelor, member, obtained, implant\n",
            "engineer: software, engineering, computer, systems, technical, prior, electrical, technology, phd, senior\n",
            "teacher: teachers, education, students, teaching, coordinator, schools, teaches, has, taught, writing\n",
            "dietitian: nutrition, with, experience, specialists, nurse, registered, diverse, honors, practitioner, hospitals\n",
            "\n",
            "\n"
          ]
        },
        {
          "output_type": "stream",
          "name": "stderr",
          "text": [
            "8027it [00:33, 219.23it/s]"
          ]
        },
        {
          "output_type": "stream",
          "name": "stdout",
          "text": [
            "| epoch   5 |  8000/58601 batches | loss    1.632 \n",
            "women: about, african, the, she, stories, her, working, people, youth, culture\n",
            "men: justice, people, ranging, which, the, make, them, will, women, by\n",
            "nurse: practitioner, nursing, honors, affiliated, hospital, specialists, graduated, experience, doctors, hospitals\n",
            "doctor: from, college, of, degree, earned, in, bachelor, member, obtained, implant\n",
            "engineer: software, engineering, computer, systems, technical, prior, electrical, technology, phd, senior\n",
            "teacher: teachers, education, students, teaching, coordinator, schools, teaches, has, taught, writing\n",
            "dietitian: nutrition, with, experience, specialists, nurse, registered, diverse, honors, practitioner, hospitals\n",
            "\n",
            "\n"
          ]
        },
        {
          "output_type": "stream",
          "name": "stderr",
          "text": [
            "8520it [00:35, 224.90it/s]"
          ]
        },
        {
          "output_type": "stream",
          "name": "stdout",
          "text": [
            "| epoch   5 |  8500/58601 batches | loss    1.631 \n",
            "women: about, african, the, she, stories, her, working, people, youth, culture\n",
            "men: justice, people, ranging, which, the, make, them, will, women, by\n",
            "nurse: practitioner, nursing, honors, affiliated, hospital, specialists, graduated, experience, doctors, hospitals\n",
            "doctor: from, college, of, degree, earned, in, bachelor, member, obtained, implant\n",
            "engineer: software, engineering, computer, systems, technical, prior, electrical, technology, phd, senior\n",
            "teacher: teachers, education, students, teaching, coordinator, schools, teaches, has, taught, writing\n",
            "dietitian: nutrition, with, experience, specialists, nurse, registered, diverse, honors, practitioner, hospitals\n",
            "\n",
            "\n"
          ]
        },
        {
          "output_type": "stream",
          "name": "stderr",
          "text": [
            "9028it [00:37, 228.64it/s]"
          ]
        },
        {
          "output_type": "stream",
          "name": "stdout",
          "text": [
            "| epoch   5 |  9000/58601 batches | loss    1.634 \n",
            "women: about, african, the, she, stories, her, working, people, youth, culture\n",
            "men: justice, people, ranging, which, the, make, them, will, women, by\n",
            "nurse: practitioner, nursing, honors, affiliated, hospital, specialists, graduated, experience, doctors, hospitals\n",
            "doctor: from, college, of, degree, earned, in, bachelor, member, obtained, implant\n",
            "engineer: software, engineering, computer, systems, technical, prior, electrical, technology, phd, senior\n",
            "teacher: teachers, education, students, teaching, coordinator, schools, teaches, has, taught, writing\n",
            "dietitian: nutrition, with, experience, specialists, nurse, registered, diverse, honors, practitioner, hospitals\n",
            "\n",
            "\n"
          ]
        },
        {
          "output_type": "stream",
          "name": "stderr",
          "text": [
            "9521it [00:38, 225.00it/s]"
          ]
        },
        {
          "output_type": "stream",
          "name": "stdout",
          "text": [
            "| epoch   5 |  9500/58601 batches | loss    1.634 \n",
            "women: about, african, the, she, stories, her, working, people, youth, culture\n",
            "men: justice, people, ranging, which, the, make, them, will, women, by\n",
            "nurse: practitioner, nursing, honors, affiliated, hospital, specialists, graduated, experience, doctors, hospitals\n",
            "doctor: from, college, of, degree, earned, in, bachelor, member, obtained, implant\n",
            "engineer: software, engineering, computer, systems, technical, prior, electrical, technology, phd, senior\n",
            "teacher: teachers, education, students, teaching, coordinator, schools, teaches, has, taught, writing\n",
            "dietitian: nutrition, with, experience, specialists, nurse, registered, diverse, honors, practitioner, hospitals\n",
            "\n",
            "\n"
          ]
        },
        {
          "output_type": "stream",
          "name": "stderr",
          "text": [
            "10025it [00:40, 222.23it/s]"
          ]
        },
        {
          "output_type": "stream",
          "name": "stdout",
          "text": [
            "| epoch   5 | 10000/58601 batches | loss    1.634 \n",
            "women: about, african, the, she, stories, her, working, people, youth, culture\n",
            "men: justice, people, ranging, which, the, make, them, will, women, by\n",
            "nurse: practitioner, nursing, honors, affiliated, hospital, specialists, graduated, experience, doctors, hospitals\n",
            "doctor: from, college, of, degree, earned, in, bachelor, member, obtained, implant\n",
            "engineer: software, engineering, computer, systems, technical, prior, electrical, technology, phd, senior\n",
            "teacher: teachers, education, students, teaching, coordinator, schools, teaches, has, taught, writing\n",
            "dietitian: nutrition, with, experience, specialists, nurse, registered, diverse, honors, practitioner, hospitals\n",
            "\n",
            "\n"
          ]
        },
        {
          "output_type": "stream",
          "name": "stderr",
          "text": [
            "10535it [00:42, 229.17it/s]"
          ]
        },
        {
          "output_type": "stream",
          "name": "stdout",
          "text": [
            "| epoch   5 | 10500/58601 batches | loss    1.634 \n",
            "women: about, african, the, she, stories, her, working, people, youth, culture\n",
            "men: justice, people, ranging, which, the, make, them, will, women, by\n",
            "nurse: practitioner, nursing, honors, affiliated, hospital, specialists, graduated, experience, doctors, hospitals\n",
            "doctor: from, college, of, degree, earned, in, bachelor, member, obtained, implant\n",
            "engineer: software, engineering, computer, systems, technical, prior, electrical, technology, phd, senior\n",
            "teacher: teachers, education, students, teaching, coordinator, schools, teaches, has, taught, writing\n",
            "dietitian: nutrition, with, experience, specialists, nurse, registered, diverse, honors, practitioner, hospitals\n",
            "\n",
            "\n"
          ]
        },
        {
          "output_type": "stream",
          "name": "stderr",
          "text": [
            "11027it [00:44, 224.53it/s]"
          ]
        },
        {
          "output_type": "stream",
          "name": "stdout",
          "text": [
            "| epoch   5 | 11000/58601 batches | loss    1.637 \n",
            "women: about, african, the, she, stories, her, working, people, youth, culture\n",
            "men: justice, people, ranging, which, the, make, them, will, women, by\n",
            "nurse: practitioner, nursing, honors, affiliated, hospital, specialists, graduated, experience, doctors, hospitals\n",
            "doctor: from, college, of, degree, earned, in, bachelor, member, obtained, implant\n",
            "engineer: software, engineering, computer, systems, technical, prior, electrical, technology, phd, senior\n",
            "teacher: teachers, education, students, teaching, coordinator, schools, teaches, has, taught, writing\n",
            "dietitian: nutrition, with, experience, specialists, nurse, registered, diverse, honors, practitioner, hospitals\n",
            "\n",
            "\n"
          ]
        },
        {
          "output_type": "stream",
          "name": "stderr",
          "text": [
            "11512it [00:46, 226.61it/s]"
          ]
        },
        {
          "output_type": "stream",
          "name": "stdout",
          "text": [
            "| epoch   5 | 11500/58601 batches | loss    1.632 \n",
            "women: about, african, the, she, stories, her, working, people, youth, culture\n",
            "men: justice, people, ranging, which, the, make, them, will, women, by\n",
            "nurse: practitioner, nursing, honors, affiliated, hospital, specialists, graduated, experience, doctors, hospitals\n",
            "doctor: from, college, of, degree, earned, in, bachelor, member, obtained, implant\n",
            "engineer: software, engineering, computer, systems, technical, prior, electrical, technology, phd, senior\n",
            "teacher: teachers, education, students, teaching, coordinator, schools, teaches, has, taught, writing\n",
            "dietitian: nutrition, with, experience, specialists, nurse, registered, diverse, honors, practitioner, hospitals\n",
            "\n",
            "\n"
          ]
        },
        {
          "output_type": "stream",
          "name": "stderr",
          "text": [
            "12017it [00:48, 228.47it/s]"
          ]
        },
        {
          "output_type": "stream",
          "name": "stdout",
          "text": [
            "| epoch   5 | 12000/58601 batches | loss    1.631 \n",
            "women: about, african, the, she, stories, her, working, people, youth, culture\n",
            "men: justice, people, ranging, which, the, make, them, will, women, by\n",
            "nurse: practitioner, nursing, honors, affiliated, hospital, specialists, graduated, experience, doctors, hospitals\n",
            "doctor: from, college, of, degree, earned, in, bachelor, member, obtained, implant\n",
            "engineer: software, engineering, computer, systems, technical, prior, electrical, technology, phd, senior\n",
            "teacher: teachers, education, students, teaching, coordinator, schools, teaches, has, taught, writing\n",
            "dietitian: nutrition, with, experience, specialists, nurse, registered, diverse, honors, practitioner, hospitals\n",
            "\n",
            "\n"
          ]
        },
        {
          "output_type": "stream",
          "name": "stderr",
          "text": [
            "12526it [00:50, 221.30it/s]"
          ]
        },
        {
          "output_type": "stream",
          "name": "stdout",
          "text": [
            "| epoch   5 | 12500/58601 batches | loss    1.626 \n",
            "women: about, african, the, she, stories, her, working, people, youth, culture\n",
            "men: justice, people, ranging, which, the, make, them, will, women, by\n",
            "nurse: practitioner, nursing, honors, affiliated, hospital, specialists, graduated, experience, doctors, hospitals\n",
            "doctor: from, college, of, degree, earned, in, bachelor, member, obtained, implant\n",
            "engineer: software, engineering, computer, systems, technical, prior, electrical, technology, phd, senior\n",
            "teacher: teachers, education, students, teaching, coordinator, schools, teaches, has, taught, writing\n",
            "dietitian: nutrition, with, experience, specialists, nurse, registered, diverse, honors, practitioner, hospitals\n",
            "\n",
            "\n"
          ]
        },
        {
          "output_type": "stream",
          "name": "stderr",
          "text": [
            "13023it [00:52, 220.28it/s]"
          ]
        },
        {
          "output_type": "stream",
          "name": "stdout",
          "text": [
            "| epoch   5 | 13000/58601 batches | loss    1.633 \n",
            "women: about, african, the, she, stories, her, working, people, youth, culture\n",
            "men: justice, people, ranging, which, the, make, them, will, women, by\n",
            "nurse: practitioner, nursing, honors, affiliated, hospital, specialists, graduated, experience, doctors, hospitals\n",
            "doctor: from, college, of, degree, earned, in, bachelor, member, obtained, implant\n",
            "engineer: software, engineering, computer, systems, technical, prior, electrical, technology, phd, senior\n",
            "teacher: teachers, education, students, teaching, coordinator, schools, teaches, has, taught, writing\n",
            "dietitian: nutrition, with, experience, specialists, nurse, registered, diverse, honors, practitioner, hospitals\n",
            "\n",
            "\n"
          ]
        },
        {
          "output_type": "stream",
          "name": "stderr",
          "text": [
            "13516it [00:54, 228.60it/s]"
          ]
        },
        {
          "output_type": "stream",
          "name": "stdout",
          "text": [
            "| epoch   5 | 13500/58601 batches | loss    1.630 \n",
            "women: about, african, the, she, stories, her, working, people, youth, culture\n",
            "men: justice, people, ranging, which, the, make, them, will, women, by\n",
            "nurse: practitioner, nursing, honors, affiliated, hospital, specialists, graduated, experience, doctors, hospitals\n",
            "doctor: from, college, of, degree, earned, in, bachelor, member, obtained, implant\n",
            "engineer: software, engineering, computer, systems, technical, prior, electrical, technology, phd, senior\n",
            "teacher: teachers, education, students, teaching, coordinator, schools, teaches, has, taught, writing\n",
            "dietitian: nutrition, with, experience, specialists, nurse, registered, diverse, honors, practitioner, hospitals\n",
            "\n",
            "\n"
          ]
        },
        {
          "output_type": "stream",
          "name": "stderr",
          "text": [
            "14027it [00:56, 223.52it/s]"
          ]
        },
        {
          "output_type": "stream",
          "name": "stdout",
          "text": [
            "| epoch   5 | 14000/58601 batches | loss    1.630 \n",
            "women: about, african, the, she, stories, her, working, people, youth, culture\n",
            "men: justice, people, ranging, which, the, make, them, will, women, by\n",
            "nurse: practitioner, nursing, honors, affiliated, hospital, specialists, graduated, experience, doctors, hospitals\n",
            "doctor: from, college, of, degree, earned, in, bachelor, member, obtained, implant\n",
            "engineer: software, engineering, computer, systems, technical, prior, electrical, technology, phd, senior\n",
            "teacher: teachers, education, students, teaching, coordinator, schools, teaches, has, taught, writing\n",
            "dietitian: nutrition, with, experience, specialists, nurse, registered, diverse, honors, practitioner, hospitals\n",
            "\n",
            "\n"
          ]
        },
        {
          "output_type": "stream",
          "name": "stderr",
          "text": [
            "14532it [00:58, 222.28it/s]"
          ]
        },
        {
          "output_type": "stream",
          "name": "stdout",
          "text": [
            "| epoch   5 | 14500/58601 batches | loss    1.633 \n",
            "women: about, african, the, she, stories, her, working, people, youth, culture\n",
            "men: justice, people, ranging, which, the, make, them, will, women, by\n",
            "nurse: practitioner, nursing, honors, affiliated, hospital, specialists, graduated, experience, doctors, hospitals\n",
            "doctor: from, college, of, degree, earned, in, bachelor, member, obtained, implant\n",
            "engineer: software, engineering, computer, systems, technical, prior, electrical, technology, phd, senior\n",
            "teacher: teachers, education, students, teaching, coordinator, schools, teaches, has, taught, writing\n",
            "dietitian: nutrition, with, experience, specialists, nurse, registered, diverse, honors, practitioner, hospitals\n",
            "\n",
            "\n"
          ]
        },
        {
          "output_type": "stream",
          "name": "stderr",
          "text": [
            "15021it [01:00, 224.52it/s]"
          ]
        },
        {
          "output_type": "stream",
          "name": "stdout",
          "text": [
            "| epoch   5 | 15000/58601 batches | loss    1.634 \n",
            "women: about, african, the, she, stories, her, working, people, youth, culture\n",
            "men: justice, people, ranging, which, the, make, them, will, women, by\n",
            "nurse: practitioner, nursing, honors, affiliated, hospital, specialists, graduated, experience, doctors, hospitals\n",
            "doctor: from, college, of, degree, earned, in, bachelor, member, obtained, implant\n",
            "engineer: software, engineering, computer, systems, technical, prior, electrical, technology, phd, senior\n",
            "teacher: teachers, education, students, teaching, coordinator, schools, teaches, has, taught, writing\n",
            "dietitian: nutrition, with, experience, specialists, nurse, registered, diverse, honors, practitioner, hospitals\n",
            "\n",
            "\n"
          ]
        },
        {
          "output_type": "stream",
          "name": "stderr",
          "text": [
            "15516it [01:02, 233.45it/s]"
          ]
        },
        {
          "output_type": "stream",
          "name": "stdout",
          "text": [
            "| epoch   5 | 15500/58601 batches | loss    1.629 \n",
            "women: about, african, the, she, stories, her, working, people, youth, culture\n",
            "men: justice, people, ranging, which, the, make, them, will, women, by\n",
            "nurse: practitioner, nursing, honors, affiliated, hospital, specialists, graduated, experience, doctors, hospitals\n",
            "doctor: from, college, of, degree, earned, in, bachelor, member, obtained, implant\n",
            "engineer: software, engineering, computer, systems, technical, prior, electrical, technology, phd, senior\n",
            "teacher: teachers, education, students, teaching, coordinator, schools, teaches, has, taught, writing\n",
            "dietitian: nutrition, with, experience, specialists, nurse, registered, diverse, honors, practitioner, hospitals\n",
            "\n",
            "\n"
          ]
        },
        {
          "output_type": "stream",
          "name": "stderr",
          "text": [
            "16029it [01:04, 231.08it/s]"
          ]
        },
        {
          "output_type": "stream",
          "name": "stdout",
          "text": [
            "| epoch   5 | 16000/58601 batches | loss    1.628 \n",
            "women: about, african, the, she, stories, her, working, people, youth, culture\n",
            "men: justice, people, ranging, which, the, make, them, will, women, by\n",
            "nurse: practitioner, nursing, honors, affiliated, hospital, specialists, graduated, experience, doctors, hospitals\n",
            "doctor: from, college, of, degree, earned, in, bachelor, member, obtained, implant\n",
            "engineer: software, engineering, computer, systems, technical, prior, electrical, technology, phd, senior\n",
            "teacher: teachers, education, students, teaching, coordinator, schools, teaches, has, taught, writing\n",
            "dietitian: nutrition, with, experience, specialists, nurse, registered, diverse, honors, practitioner, hospitals\n",
            "\n",
            "\n"
          ]
        },
        {
          "output_type": "stream",
          "name": "stderr",
          "text": [
            "16515it [01:06, 227.38it/s]"
          ]
        },
        {
          "output_type": "stream",
          "name": "stdout",
          "text": [
            "| epoch   5 | 16500/58601 batches | loss    1.633 \n",
            "women: about, african, the, she, stories, her, working, people, youth, culture\n",
            "men: justice, people, ranging, which, the, make, them, will, women, by\n",
            "nurse: practitioner, nursing, honors, affiliated, hospital, specialists, graduated, experience, doctors, hospitals\n",
            "doctor: from, college, of, degree, earned, in, bachelor, member, obtained, implant\n",
            "engineer: software, engineering, computer, systems, technical, prior, electrical, technology, phd, senior\n",
            "teacher: teachers, education, students, teaching, coordinator, schools, teaches, has, taught, writing\n",
            "dietitian: nutrition, with, experience, specialists, nurse, registered, diverse, honors, practitioner, hospitals\n",
            "\n",
            "\n"
          ]
        },
        {
          "output_type": "stream",
          "name": "stderr",
          "text": [
            "17029it [01:08, 230.48it/s]"
          ]
        },
        {
          "output_type": "stream",
          "name": "stdout",
          "text": [
            "| epoch   5 | 17000/58601 batches | loss    1.630 \n",
            "women: about, african, the, she, stories, her, working, people, youth, culture\n",
            "men: justice, people, ranging, which, the, make, them, will, women, by\n",
            "nurse: practitioner, nursing, honors, affiliated, hospital, specialists, graduated, experience, doctors, hospitals\n",
            "doctor: from, college, of, degree, earned, in, bachelor, member, obtained, implant\n",
            "engineer: software, engineering, computer, systems, technical, prior, electrical, technology, phd, senior\n",
            "teacher: teachers, education, students, teaching, coordinator, schools, teaches, has, taught, writing\n",
            "dietitian: nutrition, with, experience, specialists, nurse, registered, diverse, honors, practitioner, hospitals\n",
            "\n",
            "\n"
          ]
        },
        {
          "output_type": "stream",
          "name": "stderr",
          "text": [
            "17520it [01:10, 228.79it/s]"
          ]
        },
        {
          "output_type": "stream",
          "name": "stdout",
          "text": [
            "| epoch   5 | 17500/58601 batches | loss    1.628 \n",
            "women: about, african, the, she, stories, her, working, people, youth, culture\n",
            "men: justice, people, ranging, which, the, make, them, will, women, by\n",
            "nurse: practitioner, nursing, honors, affiliated, hospital, specialists, graduated, experience, doctors, hospitals\n",
            "doctor: from, college, of, degree, earned, in, bachelor, member, obtained, implant\n",
            "engineer: software, engineering, computer, systems, technical, prior, electrical, technology, phd, senior\n",
            "teacher: teachers, education, students, teaching, coordinator, schools, teaches, has, taught, writing\n",
            "dietitian: nutrition, with, experience, specialists, nurse, registered, diverse, honors, practitioner, hospitals\n",
            "\n",
            "\n"
          ]
        },
        {
          "output_type": "stream",
          "name": "stderr",
          "text": [
            "18033it [01:12, 228.11it/s]"
          ]
        },
        {
          "output_type": "stream",
          "name": "stdout",
          "text": [
            "| epoch   5 | 18000/58601 batches | loss    1.633 \n",
            "women: about, african, the, she, stories, her, working, people, youth, culture\n",
            "men: justice, people, ranging, which, the, make, them, will, women, by\n",
            "nurse: practitioner, nursing, honors, affiliated, hospital, specialists, graduated, experience, doctors, hospitals\n",
            "doctor: from, college, of, degree, earned, in, bachelor, member, obtained, implant\n",
            "engineer: software, engineering, computer, systems, technical, prior, electrical, technology, phd, senior\n",
            "teacher: teachers, education, students, teaching, coordinator, schools, teaches, has, taught, writing\n",
            "dietitian: nutrition, with, experience, specialists, nurse, registered, diverse, honors, practitioner, hospitals\n",
            "\n",
            "\n"
          ]
        },
        {
          "output_type": "stream",
          "name": "stderr",
          "text": [
            "18537it [01:14, 224.55it/s]"
          ]
        },
        {
          "output_type": "stream",
          "name": "stdout",
          "text": [
            "| epoch   5 | 18500/58601 batches | loss    1.633 \n",
            "women: about, african, the, she, stories, her, working, people, youth, culture\n",
            "men: justice, people, ranging, which, the, make, them, will, women, by\n",
            "nurse: practitioner, nursing, honors, affiliated, hospital, specialists, graduated, experience, doctors, hospitals\n",
            "doctor: from, college, of, degree, earned, in, bachelor, member, obtained, implant\n",
            "engineer: software, engineering, computer, systems, technical, prior, electrical, technology, phd, senior\n",
            "teacher: teachers, education, students, teaching, coordinator, schools, teaches, has, taught, writing\n",
            "dietitian: nutrition, with, experience, specialists, nurse, registered, diverse, honors, practitioner, hospitals\n",
            "\n",
            "\n"
          ]
        },
        {
          "output_type": "stream",
          "name": "stderr",
          "text": [
            "19020it [01:16, 201.78it/s]"
          ]
        },
        {
          "output_type": "stream",
          "name": "stdout",
          "text": [
            "| epoch   5 | 19000/58601 batches | loss    1.635 \n",
            "women: about, african, the, she, stories, her, working, people, youth, culture\n",
            "men: justice, people, ranging, which, the, make, them, will, women, by\n",
            "nurse: practitioner, nursing, honors, affiliated, hospital, specialists, graduated, experience, doctors, hospitals\n",
            "doctor: from, college, of, degree, earned, in, bachelor, member, obtained, implant\n",
            "engineer: software, engineering, computer, systems, technical, prior, electrical, technology, phd, senior\n",
            "teacher: teachers, education, students, teaching, coordinator, schools, teaches, has, taught, writing\n",
            "dietitian: nutrition, with, experience, specialists, nurse, registered, diverse, honors, practitioner, hospitals\n",
            "\n",
            "\n"
          ]
        },
        {
          "output_type": "stream",
          "name": "stderr",
          "text": [
            "19516it [01:18, 234.61it/s]"
          ]
        },
        {
          "output_type": "stream",
          "name": "stdout",
          "text": [
            "| epoch   5 | 19500/58601 batches | loss    1.632 \n",
            "women: about, african, the, she, stories, her, working, people, youth, culture\n",
            "men: justice, people, ranging, which, the, make, them, will, women, by\n",
            "nurse: practitioner, nursing, honors, affiliated, hospital, specialists, graduated, experience, doctors, hospitals\n",
            "doctor: from, college, of, degree, earned, in, bachelor, member, obtained, implant\n",
            "engineer: software, engineering, computer, systems, technical, prior, electrical, technology, phd, senior\n",
            "teacher: teachers, education, students, teaching, coordinator, schools, teaches, has, taught, writing\n",
            "dietitian: nutrition, with, experience, specialists, nurse, registered, diverse, honors, practitioner, hospitals\n",
            "\n",
            "\n"
          ]
        },
        {
          "output_type": "stream",
          "name": "stderr",
          "text": [
            "20029it [01:20, 216.76it/s]"
          ]
        },
        {
          "output_type": "stream",
          "name": "stdout",
          "text": [
            "| epoch   5 | 20000/58601 batches | loss    1.629 \n",
            "women: about, african, the, she, stories, her, working, people, youth, culture\n",
            "men: justice, people, ranging, which, the, make, them, will, women, by\n",
            "nurse: practitioner, nursing, honors, affiliated, hospital, specialists, graduated, experience, doctors, hospitals\n",
            "doctor: from, college, of, degree, earned, in, bachelor, member, obtained, implant\n",
            "engineer: software, engineering, computer, systems, technical, prior, electrical, technology, phd, senior\n",
            "teacher: teachers, education, students, teaching, coordinator, schools, teaches, has, taught, writing\n",
            "dietitian: nutrition, with, experience, specialists, nurse, registered, diverse, honors, practitioner, hospitals\n",
            "\n",
            "\n"
          ]
        },
        {
          "output_type": "stream",
          "name": "stderr",
          "text": [
            "20535it [01:22, 226.27it/s]"
          ]
        },
        {
          "output_type": "stream",
          "name": "stdout",
          "text": [
            "| epoch   5 | 20500/58601 batches | loss    1.630 \n",
            "women: about, african, the, she, stories, her, working, people, youth, culture\n",
            "men: justice, people, ranging, which, the, make, them, will, women, by\n",
            "nurse: practitioner, nursing, honors, affiliated, hospital, specialists, graduated, experience, doctors, hospitals\n",
            "doctor: from, college, of, degree, earned, in, bachelor, member, obtained, implant\n",
            "engineer: software, engineering, computer, systems, technical, prior, electrical, technology, phd, senior\n",
            "teacher: teachers, education, students, teaching, coordinator, schools, teaches, has, taught, writing\n",
            "dietitian: nutrition, with, experience, specialists, nurse, registered, diverse, honors, practitioner, hospitals\n",
            "\n",
            "\n"
          ]
        },
        {
          "output_type": "stream",
          "name": "stderr",
          "text": [
            "21029it [01:24, 229.02it/s]"
          ]
        },
        {
          "output_type": "stream",
          "name": "stdout",
          "text": [
            "| epoch   5 | 21000/58601 batches | loss    1.627 \n",
            "women: about, african, the, she, stories, her, working, people, youth, culture\n",
            "men: justice, people, ranging, which, the, make, them, will, women, by\n",
            "nurse: practitioner, nursing, honors, affiliated, hospital, specialists, graduated, experience, doctors, hospitals\n",
            "doctor: from, college, of, degree, earned, in, bachelor, member, obtained, implant\n",
            "engineer: software, engineering, computer, systems, technical, prior, electrical, technology, phd, senior\n",
            "teacher: teachers, education, students, teaching, coordinator, schools, teaches, has, taught, writing\n",
            "dietitian: nutrition, with, experience, specialists, nurse, registered, diverse, honors, practitioner, hospitals\n",
            "\n",
            "\n"
          ]
        },
        {
          "output_type": "stream",
          "name": "stderr",
          "text": [
            "21515it [01:26, 229.58it/s]"
          ]
        },
        {
          "output_type": "stream",
          "name": "stdout",
          "text": [
            "| epoch   5 | 21500/58601 batches | loss    1.631 \n",
            "women: about, african, the, she, stories, her, working, people, youth, culture\n",
            "men: justice, people, ranging, which, the, make, them, will, women, by\n",
            "nurse: practitioner, nursing, honors, affiliated, hospital, specialists, graduated, experience, doctors, hospitals\n",
            "doctor: from, college, of, degree, earned, in, bachelor, member, obtained, implant\n",
            "engineer: software, engineering, computer, systems, technical, prior, electrical, technology, phd, senior\n",
            "teacher: teachers, education, students, teaching, coordinator, schools, teaches, has, taught, writing\n",
            "dietitian: nutrition, with, experience, specialists, nurse, registered, diverse, honors, practitioner, hospitals\n",
            "\n",
            "\n"
          ]
        },
        {
          "output_type": "stream",
          "name": "stderr",
          "text": [
            "22023it [01:28, 224.12it/s]"
          ]
        },
        {
          "output_type": "stream",
          "name": "stdout",
          "text": [
            "| epoch   5 | 22000/58601 batches | loss    1.634 \n",
            "women: about, african, the, she, stories, her, working, people, youth, culture\n",
            "men: justice, people, ranging, which, the, make, them, will, women, by\n",
            "nurse: practitioner, nursing, honors, affiliated, hospital, specialists, graduated, experience, doctors, hospitals\n",
            "doctor: from, college, of, degree, earned, in, bachelor, member, obtained, implant\n",
            "engineer: software, engineering, computer, systems, technical, prior, electrical, technology, phd, senior\n",
            "teacher: teachers, education, students, teaching, coordinator, schools, teaches, has, taught, writing\n",
            "dietitian: nutrition, with, experience, specialists, nurse, registered, diverse, honors, practitioner, hospitals\n",
            "\n",
            "\n"
          ]
        },
        {
          "output_type": "stream",
          "name": "stderr",
          "text": [
            "22524it [01:32, 137.31it/s]"
          ]
        },
        {
          "output_type": "stream",
          "name": "stdout",
          "text": [
            "| epoch   5 | 22500/58601 batches | loss    1.632 \n",
            "women: about, african, the, she, stories, her, working, people, youth, culture\n",
            "men: justice, people, ranging, which, the, make, them, will, women, by\n",
            "nurse: practitioner, nursing, honors, affiliated, hospital, specialists, graduated, experience, doctors, hospitals\n",
            "doctor: from, college, of, degree, earned, in, bachelor, member, obtained, implant\n",
            "engineer: software, engineering, computer, systems, technical, prior, electrical, technology, phd, senior\n",
            "teacher: teachers, education, students, teaching, coordinator, schools, teaches, has, taught, writing\n",
            "dietitian: nutrition, with, experience, specialists, nurse, registered, diverse, honors, practitioner, hospitals\n",
            "\n",
            "\n"
          ]
        },
        {
          "output_type": "stream",
          "name": "stderr",
          "text": [
            "23013it [01:34, 229.65it/s]"
          ]
        },
        {
          "output_type": "stream",
          "name": "stdout",
          "text": [
            "| epoch   5 | 23000/58601 batches | loss    1.630 \n",
            "women: about, african, the, she, stories, her, working, people, youth, culture\n",
            "men: justice, people, ranging, which, the, make, them, will, women, by\n",
            "nurse: practitioner, nursing, honors, affiliated, hospital, specialists, graduated, experience, doctors, hospitals\n",
            "doctor: from, college, of, degree, earned, in, bachelor, member, obtained, implant\n",
            "engineer: software, engineering, computer, systems, technical, prior, electrical, technology, phd, senior\n",
            "teacher: teachers, education, students, teaching, coordinator, schools, teaches, has, taught, writing\n",
            "dietitian: nutrition, with, experience, specialists, nurse, registered, diverse, honors, practitioner, hospitals\n",
            "\n",
            "\n"
          ]
        },
        {
          "output_type": "stream",
          "name": "stderr",
          "text": [
            "23527it [01:36, 223.15it/s]"
          ]
        },
        {
          "output_type": "stream",
          "name": "stdout",
          "text": [
            "| epoch   5 | 23500/58601 batches | loss    1.629 \n",
            "women: about, african, the, she, stories, her, working, people, youth, culture\n",
            "men: justice, people, ranging, which, the, make, them, will, women, by\n",
            "nurse: practitioner, nursing, honors, affiliated, hospital, specialists, graduated, experience, doctors, hospitals\n",
            "doctor: from, college, of, degree, earned, in, bachelor, member, obtained, implant\n",
            "engineer: software, engineering, computer, systems, technical, prior, electrical, technology, phd, senior\n",
            "teacher: teachers, education, students, teaching, coordinator, schools, teaches, has, taught, writing\n",
            "dietitian: nutrition, with, experience, specialists, nurse, registered, diverse, honors, practitioner, hospitals\n",
            "\n",
            "\n"
          ]
        },
        {
          "output_type": "stream",
          "name": "stderr",
          "text": [
            "24018it [01:37, 228.51it/s]"
          ]
        },
        {
          "output_type": "stream",
          "name": "stdout",
          "text": [
            "| epoch   5 | 24000/58601 batches | loss    1.625 \n",
            "women: about, african, the, she, stories, her, working, people, youth, culture\n",
            "men: justice, people, ranging, which, the, make, them, will, women, by\n",
            "nurse: practitioner, nursing, honors, affiliated, hospital, specialists, graduated, experience, doctors, hospitals\n",
            "doctor: from, college, of, degree, earned, in, bachelor, member, obtained, implant\n",
            "engineer: software, engineering, computer, systems, technical, prior, electrical, technology, phd, senior\n",
            "teacher: teachers, education, students, teaching, coordinator, schools, teaches, has, taught, writing\n",
            "dietitian: nutrition, with, experience, specialists, nurse, registered, diverse, honors, practitioner, hospitals\n",
            "\n",
            "\n"
          ]
        },
        {
          "output_type": "stream",
          "name": "stderr",
          "text": [
            "24527it [01:39, 227.63it/s]"
          ]
        },
        {
          "output_type": "stream",
          "name": "stdout",
          "text": [
            "| epoch   5 | 24500/58601 batches | loss    1.632 \n",
            "women: about, african, the, she, stories, her, working, people, youth, culture\n",
            "men: justice, people, ranging, which, the, make, them, will, women, by\n",
            "nurse: practitioner, nursing, honors, affiliated, hospital, specialists, graduated, experience, doctors, hospitals\n",
            "doctor: from, college, of, degree, earned, in, bachelor, member, obtained, implant\n",
            "engineer: software, engineering, computer, systems, technical, prior, electrical, technology, phd, senior\n",
            "teacher: teachers, education, students, teaching, coordinator, schools, teaches, has, taught, writing\n",
            "dietitian: nutrition, with, experience, specialists, nurse, registered, diverse, honors, practitioner, hospitals\n",
            "\n",
            "\n"
          ]
        },
        {
          "output_type": "stream",
          "name": "stderr",
          "text": [
            "25029it [01:41, 224.68it/s]"
          ]
        },
        {
          "output_type": "stream",
          "name": "stdout",
          "text": [
            "| epoch   5 | 25000/58601 batches | loss    1.626 \n",
            "women: about, african, the, she, stories, her, working, people, youth, culture\n",
            "men: justice, people, ranging, which, the, make, them, will, women, by\n",
            "nurse: practitioner, nursing, honors, affiliated, hospital, specialists, graduated, experience, doctors, hospitals\n",
            "doctor: from, college, of, degree, earned, in, bachelor, member, obtained, implant\n",
            "engineer: software, engineering, computer, systems, technical, prior, electrical, technology, phd, senior\n",
            "teacher: teachers, education, students, teaching, coordinator, schools, teaches, has, taught, writing\n",
            "dietitian: nutrition, with, experience, specialists, nurse, registered, diverse, honors, practitioner, hospitals\n",
            "\n",
            "\n"
          ]
        },
        {
          "output_type": "stream",
          "name": "stderr",
          "text": [
            "25514it [01:43, 231.68it/s]"
          ]
        },
        {
          "output_type": "stream",
          "name": "stdout",
          "text": [
            "| epoch   5 | 25500/58601 batches | loss    1.625 \n",
            "women: about, african, the, she, stories, her, working, people, youth, culture\n",
            "men: justice, people, ranging, which, the, make, them, will, women, by\n",
            "nurse: practitioner, nursing, honors, affiliated, hospital, specialists, graduated, experience, doctors, hospitals\n",
            "doctor: from, college, of, degree, earned, in, bachelor, member, obtained, implant\n",
            "engineer: software, engineering, computer, systems, technical, prior, electrical, technology, phd, senior\n",
            "teacher: teachers, education, students, teaching, coordinator, schools, teaches, has, taught, writing\n",
            "dietitian: nutrition, with, experience, specialists, nurse, registered, diverse, honors, practitioner, hospitals\n",
            "\n",
            "\n"
          ]
        },
        {
          "output_type": "stream",
          "name": "stderr",
          "text": [
            "26026it [01:45, 221.18it/s]"
          ]
        },
        {
          "output_type": "stream",
          "name": "stdout",
          "text": [
            "| epoch   5 | 26000/58601 batches | loss    1.634 \n",
            "women: about, african, the, she, stories, her, working, people, youth, culture\n",
            "men: justice, people, ranging, which, the, make, them, will, women, by\n",
            "nurse: practitioner, nursing, honors, affiliated, hospital, specialists, graduated, experience, doctors, hospitals\n",
            "doctor: from, college, of, degree, earned, in, bachelor, member, obtained, implant\n",
            "engineer: software, engineering, computer, systems, technical, prior, electrical, technology, phd, senior\n",
            "teacher: teachers, education, students, teaching, coordinator, schools, teaches, has, taught, writing\n",
            "dietitian: nutrition, with, experience, specialists, nurse, registered, diverse, honors, practitioner, hospitals\n",
            "\n",
            "\n"
          ]
        },
        {
          "output_type": "stream",
          "name": "stderr",
          "text": [
            "26526it [01:47, 225.26it/s]"
          ]
        },
        {
          "output_type": "stream",
          "name": "stdout",
          "text": [
            "| epoch   5 | 26500/58601 batches | loss    1.631 \n",
            "women: about, african, the, she, stories, her, working, people, youth, culture\n",
            "men: justice, people, ranging, which, the, make, them, will, women, by\n",
            "nurse: practitioner, nursing, honors, affiliated, hospital, specialists, graduated, experience, doctors, hospitals\n",
            "doctor: from, college, of, degree, earned, in, bachelor, member, obtained, implant\n",
            "engineer: software, engineering, computer, systems, technical, prior, electrical, technology, phd, senior\n",
            "teacher: teachers, education, students, teaching, coordinator, schools, teaches, has, taught, writing\n",
            "dietitian: nutrition, with, experience, specialists, nurse, registered, diverse, honors, practitioner, hospitals\n",
            "\n",
            "\n"
          ]
        },
        {
          "output_type": "stream",
          "name": "stderr",
          "text": [
            "27028it [01:49, 229.28it/s]"
          ]
        },
        {
          "output_type": "stream",
          "name": "stdout",
          "text": [
            "| epoch   5 | 27000/58601 batches | loss    1.630 \n",
            "women: about, african, the, she, stories, her, working, people, youth, culture\n",
            "men: justice, people, ranging, which, the, make, them, will, women, by\n",
            "nurse: practitioner, nursing, honors, affiliated, hospital, specialists, graduated, experience, doctors, hospitals\n",
            "doctor: from, college, of, degree, earned, in, bachelor, member, obtained, implant\n",
            "engineer: software, engineering, computer, systems, technical, prior, electrical, technology, phd, senior\n",
            "teacher: teachers, education, students, teaching, coordinator, schools, teaches, has, taught, writing\n",
            "dietitian: nutrition, with, experience, specialists, nurse, registered, diverse, honors, practitioner, hospitals\n",
            "\n",
            "\n"
          ]
        },
        {
          "output_type": "stream",
          "name": "stderr",
          "text": [
            "27514it [01:51, 229.72it/s]"
          ]
        },
        {
          "output_type": "stream",
          "name": "stdout",
          "text": [
            "| epoch   5 | 27500/58601 batches | loss    1.632 \n",
            "women: about, african, the, she, stories, her, working, people, youth, culture\n",
            "men: justice, people, ranging, which, the, make, them, will, women, by\n",
            "nurse: practitioner, nursing, honors, affiliated, hospital, specialists, graduated, experience, doctors, hospitals\n",
            "doctor: from, college, of, degree, earned, in, bachelor, member, obtained, implant\n",
            "engineer: software, engineering, computer, systems, technical, prior, electrical, technology, phd, senior\n",
            "teacher: teachers, education, students, teaching, coordinator, schools, teaches, has, taught, writing\n",
            "dietitian: nutrition, with, experience, specialists, nurse, registered, diverse, honors, practitioner, hospitals\n",
            "\n",
            "\n"
          ]
        },
        {
          "output_type": "stream",
          "name": "stderr",
          "text": [
            "28025it [01:53, 204.91it/s]"
          ]
        },
        {
          "output_type": "stream",
          "name": "stdout",
          "text": [
            "| epoch   5 | 28000/58601 batches | loss    1.635 \n",
            "women: about, african, the, she, stories, her, working, people, youth, culture\n",
            "men: justice, people, ranging, which, the, make, them, will, women, by\n",
            "nurse: practitioner, nursing, honors, affiliated, hospital, specialists, graduated, experience, doctors, hospitals\n",
            "doctor: from, college, of, degree, earned, in, bachelor, member, obtained, implant\n",
            "engineer: software, engineering, computer, systems, technical, prior, electrical, technology, phd, senior\n",
            "teacher: teachers, education, students, teaching, coordinator, schools, teaches, has, taught, writing\n",
            "dietitian: nutrition, with, experience, specialists, nurse, registered, diverse, honors, practitioner, hospitals\n",
            "\n",
            "\n"
          ]
        },
        {
          "output_type": "stream",
          "name": "stderr",
          "text": [
            "28534it [01:55, 222.35it/s]"
          ]
        },
        {
          "output_type": "stream",
          "name": "stdout",
          "text": [
            "| epoch   5 | 28500/58601 batches | loss    1.634 \n",
            "women: about, african, the, she, stories, her, working, people, youth, culture\n",
            "men: justice, people, ranging, which, the, make, them, will, women, by\n",
            "nurse: practitioner, nursing, honors, affiliated, hospital, specialists, graduated, experience, doctors, hospitals\n",
            "doctor: from, college, of, degree, earned, in, bachelor, member, obtained, implant\n",
            "engineer: software, engineering, computer, systems, technical, prior, electrical, technology, phd, senior\n",
            "teacher: teachers, education, students, teaching, coordinator, schools, teaches, has, taught, writing\n",
            "dietitian: nutrition, with, experience, specialists, nurse, registered, diverse, honors, practitioner, hospitals\n",
            "\n",
            "\n"
          ]
        },
        {
          "output_type": "stream",
          "name": "stderr",
          "text": [
            "29015it [01:57, 228.29it/s]"
          ]
        },
        {
          "output_type": "stream",
          "name": "stdout",
          "text": [
            "| epoch   5 | 29000/58601 batches | loss    1.635 \n",
            "women: about, african, the, she, stories, her, working, people, youth, culture\n",
            "men: justice, people, ranging, which, the, make, them, will, women, by\n",
            "nurse: practitioner, nursing, honors, affiliated, hospital, specialists, graduated, experience, doctors, hospitals\n",
            "doctor: from, college, of, degree, earned, in, bachelor, member, obtained, implant\n",
            "engineer: software, engineering, computer, systems, technical, prior, electrical, technology, phd, senior\n",
            "teacher: teachers, education, students, teaching, coordinator, schools, teaches, has, taught, writing\n",
            "dietitian: nutrition, with, experience, specialists, nurse, registered, diverse, honors, practitioner, hospitals\n",
            "\n",
            "\n"
          ]
        },
        {
          "output_type": "stream",
          "name": "stderr",
          "text": [
            "29517it [01:59, 223.49it/s]"
          ]
        },
        {
          "output_type": "stream",
          "name": "stdout",
          "text": [
            "| epoch   5 | 29500/58601 batches | loss    1.625 \n",
            "women: about, african, the, she, stories, her, working, people, youth, culture\n",
            "men: justice, people, ranging, which, the, make, them, will, women, by\n",
            "nurse: practitioner, nursing, honors, affiliated, hospital, specialists, graduated, experience, doctors, hospitals\n",
            "doctor: from, college, of, degree, earned, in, bachelor, member, obtained, implant\n",
            "engineer: software, engineering, computer, systems, technical, prior, electrical, technology, phd, senior\n",
            "teacher: teachers, education, students, teaching, coordinator, schools, teaches, has, taught, writing\n",
            "dietitian: nutrition, with, experience, specialists, nurse, registered, diverse, honors, practitioner, hospitals\n",
            "\n",
            "\n"
          ]
        },
        {
          "output_type": "stream",
          "name": "stderr",
          "text": [
            "30026it [02:01, 226.52it/s]"
          ]
        },
        {
          "output_type": "stream",
          "name": "stdout",
          "text": [
            "| epoch   5 | 30000/58601 batches | loss    1.637 \n",
            "women: about, african, the, she, stories, her, working, people, youth, culture\n",
            "men: justice, people, ranging, which, the, make, them, will, women, by\n",
            "nurse: practitioner, nursing, honors, affiliated, hospital, specialists, graduated, experience, doctors, hospitals\n",
            "doctor: from, college, of, degree, earned, in, bachelor, member, obtained, implant\n",
            "engineer: software, engineering, computer, systems, technical, prior, electrical, technology, phd, senior\n",
            "teacher: teachers, education, students, teaching, coordinator, schools, teaches, has, taught, writing\n",
            "dietitian: nutrition, with, experience, specialists, nurse, registered, diverse, honors, practitioner, hospitals\n",
            "\n",
            "\n"
          ]
        },
        {
          "output_type": "stream",
          "name": "stderr",
          "text": [
            "30519it [02:03, 227.82it/s]"
          ]
        },
        {
          "output_type": "stream",
          "name": "stdout",
          "text": [
            "| epoch   5 | 30500/58601 batches | loss    1.633 \n",
            "women: about, african, the, she, stories, her, working, people, youth, culture\n",
            "men: justice, people, ranging, which, the, make, them, will, women, by\n",
            "nurse: practitioner, nursing, honors, affiliated, hospital, specialists, graduated, experience, doctors, hospitals\n",
            "doctor: from, college, of, degree, earned, in, bachelor, member, obtained, implant\n",
            "engineer: software, engineering, computer, systems, technical, prior, electrical, technology, phd, senior\n",
            "teacher: teachers, education, students, teaching, coordinator, schools, teaches, has, taught, writing\n",
            "dietitian: nutrition, with, experience, specialists, nurse, registered, diverse, honors, practitioner, hospitals\n",
            "\n",
            "\n"
          ]
        },
        {
          "output_type": "stream",
          "name": "stderr",
          "text": [
            "31010it [02:05, 217.77it/s]"
          ]
        },
        {
          "output_type": "stream",
          "name": "stdout",
          "text": [
            "| epoch   5 | 31000/58601 batches | loss    1.627 \n",
            "women: about, african, the, she, stories, her, working, people, youth, culture\n",
            "men: justice, people, ranging, which, the, make, them, will, women, by\n",
            "nurse: practitioner, nursing, honors, affiliated, hospital, specialists, graduated, experience, doctors, hospitals\n",
            "doctor: from, college, of, degree, earned, in, bachelor, member, obtained, implant\n",
            "engineer: software, engineering, computer, systems, technical, prior, electrical, technology, phd, senior\n",
            "teacher: teachers, education, students, teaching, coordinator, schools, teaches, has, taught, writing\n",
            "dietitian: nutrition, with, experience, specialists, nurse, registered, diverse, honors, practitioner, hospitals\n",
            "\n",
            "\n"
          ]
        },
        {
          "output_type": "stream",
          "name": "stderr",
          "text": [
            "31518it [02:07, 222.40it/s]"
          ]
        },
        {
          "output_type": "stream",
          "name": "stdout",
          "text": [
            "| epoch   5 | 31500/58601 batches | loss    1.638 \n",
            "women: about, african, the, she, stories, her, working, people, youth, culture\n",
            "men: justice, people, ranging, which, the, make, them, will, women, by\n",
            "nurse: practitioner, nursing, honors, affiliated, hospital, specialists, graduated, experience, doctors, hospitals\n",
            "doctor: from, college, of, degree, earned, in, bachelor, member, obtained, implant\n",
            "engineer: software, engineering, computer, systems, technical, prior, electrical, technology, phd, senior\n",
            "teacher: teachers, education, students, teaching, coordinator, schools, teaches, has, taught, writing\n",
            "dietitian: nutrition, with, experience, specialists, nurse, registered, diverse, honors, practitioner, hospitals\n",
            "\n",
            "\n"
          ]
        },
        {
          "output_type": "stream",
          "name": "stderr",
          "text": [
            "32034it [02:09, 226.15it/s]"
          ]
        },
        {
          "output_type": "stream",
          "name": "stdout",
          "text": [
            "| epoch   5 | 32000/58601 batches | loss    1.635 \n",
            "women: about, african, the, she, stories, her, working, people, youth, culture\n",
            "men: justice, people, ranging, which, the, make, them, will, women, by\n",
            "nurse: practitioner, nursing, honors, affiliated, hospital, specialists, graduated, experience, doctors, hospitals\n",
            "doctor: from, college, of, degree, earned, in, bachelor, member, obtained, implant\n",
            "engineer: software, engineering, computer, systems, technical, prior, electrical, technology, phd, senior\n",
            "teacher: teachers, education, students, teaching, coordinator, schools, teaches, has, taught, writing\n",
            "dietitian: nutrition, with, experience, specialists, nurse, registered, diverse, honors, practitioner, hospitals\n",
            "\n",
            "\n"
          ]
        },
        {
          "output_type": "stream",
          "name": "stderr",
          "text": [
            "32525it [02:11, 220.35it/s]"
          ]
        },
        {
          "output_type": "stream",
          "name": "stdout",
          "text": [
            "| epoch   5 | 32500/58601 batches | loss    1.633 \n",
            "women: about, african, the, she, stories, her, working, people, youth, culture\n",
            "men: justice, people, ranging, which, the, make, them, will, women, by\n",
            "nurse: practitioner, nursing, honors, affiliated, hospital, specialists, graduated, experience, doctors, hospitals\n",
            "doctor: from, college, of, degree, earned, in, bachelor, member, obtained, implant\n",
            "engineer: software, engineering, computer, systems, technical, prior, electrical, technology, phd, senior\n",
            "teacher: teachers, education, students, teaching, coordinator, schools, teaches, has, taught, writing\n",
            "dietitian: nutrition, with, experience, specialists, nurse, registered, diverse, honors, practitioner, hospitals\n",
            "\n",
            "\n"
          ]
        },
        {
          "output_type": "stream",
          "name": "stderr",
          "text": [
            "33013it [02:13, 233.79it/s]"
          ]
        },
        {
          "output_type": "stream",
          "name": "stdout",
          "text": [
            "| epoch   5 | 33000/58601 batches | loss    1.632 \n",
            "women: about, african, the, she, stories, her, working, people, youth, culture\n",
            "men: justice, people, ranging, which, the, make, them, will, women, by\n",
            "nurse: practitioner, nursing, honors, affiliated, hospital, specialists, graduated, experience, doctors, hospitals\n",
            "doctor: from, college, of, degree, earned, in, bachelor, member, obtained, implant\n",
            "engineer: software, engineering, computer, systems, technical, prior, electrical, technology, phd, senior\n",
            "teacher: teachers, education, students, teaching, coordinator, schools, teaches, has, taught, writing\n",
            "dietitian: nutrition, with, experience, specialists, nurse, registered, diverse, honors, practitioner, hospitals\n",
            "\n",
            "\n"
          ]
        },
        {
          "output_type": "stream",
          "name": "stderr",
          "text": [
            "33530it [02:15, 232.08it/s]"
          ]
        },
        {
          "output_type": "stream",
          "name": "stdout",
          "text": [
            "| epoch   5 | 33500/58601 batches | loss    1.627 \n",
            "women: about, african, the, she, stories, her, working, people, youth, culture\n",
            "men: justice, people, ranging, which, the, make, them, will, women, by\n",
            "nurse: practitioner, nursing, honors, affiliated, hospital, specialists, graduated, experience, doctors, hospitals\n",
            "doctor: from, college, of, degree, earned, in, bachelor, member, obtained, implant\n",
            "engineer: software, engineering, computer, systems, technical, prior, electrical, technology, phd, senior\n",
            "teacher: teachers, education, students, teaching, coordinator, schools, teaches, has, taught, writing\n",
            "dietitian: nutrition, with, experience, specialists, nurse, registered, diverse, honors, practitioner, hospitals\n",
            "\n",
            "\n"
          ]
        },
        {
          "output_type": "stream",
          "name": "stderr",
          "text": [
            "34033it [02:17, 221.61it/s]"
          ]
        },
        {
          "output_type": "stream",
          "name": "stdout",
          "text": [
            "| epoch   5 | 34000/58601 batches | loss    1.637 \n",
            "women: about, african, the, she, stories, her, working, people, youth, culture\n",
            "men: justice, people, ranging, which, the, make, them, will, women, by\n",
            "nurse: practitioner, nursing, honors, affiliated, hospital, specialists, graduated, experience, doctors, hospitals\n",
            "doctor: from, college, of, degree, earned, in, bachelor, member, obtained, implant\n",
            "engineer: software, engineering, computer, systems, technical, prior, electrical, technology, phd, senior\n",
            "teacher: teachers, education, students, teaching, coordinator, schools, teaches, has, taught, writing\n",
            "dietitian: nutrition, with, experience, specialists, nurse, registered, diverse, honors, practitioner, hospitals\n",
            "\n",
            "\n"
          ]
        },
        {
          "output_type": "stream",
          "name": "stderr",
          "text": [
            "34519it [02:19, 224.70it/s]"
          ]
        },
        {
          "output_type": "stream",
          "name": "stdout",
          "text": [
            "| epoch   5 | 34500/58601 batches | loss    1.628 \n",
            "women: about, african, the, she, stories, her, working, people, youth, culture\n",
            "men: justice, people, ranging, which, the, make, them, will, women, by\n",
            "nurse: practitioner, nursing, honors, affiliated, hospital, specialists, graduated, experience, doctors, hospitals\n",
            "doctor: from, college, of, degree, earned, in, bachelor, member, obtained, implant\n",
            "engineer: software, engineering, computer, systems, technical, prior, electrical, technology, phd, senior\n",
            "teacher: teachers, education, students, teaching, coordinator, schools, teaches, has, taught, writing\n",
            "dietitian: nutrition, with, experience, specialists, nurse, registered, diverse, honors, practitioner, hospitals\n",
            "\n",
            "\n"
          ]
        },
        {
          "output_type": "stream",
          "name": "stderr",
          "text": [
            "35012it [02:21, 229.67it/s]"
          ]
        },
        {
          "output_type": "stream",
          "name": "stdout",
          "text": [
            "| epoch   5 | 35000/58601 batches | loss    1.633 \n",
            "women: about, african, the, she, stories, her, working, people, youth, culture\n",
            "men: justice, people, ranging, which, the, make, them, will, women, by\n",
            "nurse: practitioner, nursing, honors, affiliated, hospital, specialists, graduated, experience, doctors, hospitals\n",
            "doctor: from, college, of, degree, earned, in, bachelor, member, obtained, implant\n",
            "engineer: software, engineering, computer, systems, technical, prior, electrical, technology, phd, senior\n",
            "teacher: teachers, education, students, teaching, coordinator, schools, teaches, has, taught, writing\n",
            "dietitian: nutrition, with, experience, specialists, nurse, registered, diverse, honors, practitioner, hospitals\n",
            "\n",
            "\n"
          ]
        },
        {
          "output_type": "stream",
          "name": "stderr",
          "text": [
            "35524it [02:23, 223.98it/s]"
          ]
        },
        {
          "output_type": "stream",
          "name": "stdout",
          "text": [
            "| epoch   5 | 35500/58601 batches | loss    1.638 \n",
            "women: about, african, the, she, stories, her, working, people, youth, culture\n",
            "men: justice, people, ranging, which, the, make, them, will, women, by\n",
            "nurse: practitioner, nursing, honors, affiliated, hospital, specialists, graduated, experience, doctors, hospitals\n",
            "doctor: from, college, of, degree, earned, in, bachelor, member, obtained, implant\n",
            "engineer: software, engineering, computer, systems, technical, prior, electrical, technology, phd, senior\n",
            "teacher: teachers, education, students, teaching, coordinator, schools, teaches, has, taught, writing\n",
            "dietitian: nutrition, with, experience, specialists, nurse, registered, diverse, honors, practitioner, hospitals\n",
            "\n",
            "\n"
          ]
        },
        {
          "output_type": "stream",
          "name": "stderr",
          "text": [
            "36034it [02:25, 230.11it/s]"
          ]
        },
        {
          "output_type": "stream",
          "name": "stdout",
          "text": [
            "| epoch   5 | 36000/58601 batches | loss    1.631 \n",
            "women: about, african, the, she, stories, her, working, people, youth, culture\n",
            "men: justice, people, ranging, which, the, make, them, will, women, by\n",
            "nurse: practitioner, nursing, honors, affiliated, hospital, specialists, graduated, experience, doctors, hospitals\n",
            "doctor: from, college, of, degree, earned, in, bachelor, member, obtained, implant\n",
            "engineer: software, engineering, computer, systems, technical, prior, electrical, technology, phd, senior\n",
            "teacher: teachers, education, students, teaching, coordinator, schools, teaches, has, taught, writing\n",
            "dietitian: nutrition, with, experience, specialists, nurse, registered, diverse, honors, practitioner, hospitals\n",
            "\n",
            "\n"
          ]
        },
        {
          "output_type": "stream",
          "name": "stderr",
          "text": [
            "36515it [02:27, 225.84it/s]"
          ]
        },
        {
          "output_type": "stream",
          "name": "stdout",
          "text": [
            "| epoch   5 | 36500/58601 batches | loss    1.636 \n",
            "women: about, african, the, she, stories, her, working, people, youth, culture\n",
            "men: justice, people, ranging, which, the, make, them, will, women, by\n",
            "nurse: practitioner, nursing, honors, affiliated, hospital, specialists, graduated, experience, doctors, hospitals\n",
            "doctor: from, college, of, degree, earned, in, bachelor, member, obtained, implant\n",
            "engineer: software, engineering, computer, systems, technical, prior, electrical, technology, phd, senior\n",
            "teacher: teachers, education, students, teaching, coordinator, schools, teaches, has, taught, writing\n",
            "dietitian: nutrition, with, experience, specialists, nurse, registered, diverse, honors, practitioner, hospitals\n",
            "\n",
            "\n"
          ]
        },
        {
          "output_type": "stream",
          "name": "stderr",
          "text": [
            "37022it [02:29, 214.93it/s]"
          ]
        },
        {
          "output_type": "stream",
          "name": "stdout",
          "text": [
            "| epoch   5 | 37000/58601 batches | loss    1.631 \n",
            "women: about, african, the, she, stories, her, working, people, youth, culture\n",
            "men: justice, people, ranging, which, the, make, them, will, women, by\n",
            "nurse: practitioner, nursing, honors, affiliated, hospital, specialists, graduated, experience, doctors, hospitals\n",
            "doctor: from, college, of, degree, earned, in, bachelor, member, obtained, implant\n",
            "engineer: software, engineering, computer, systems, technical, prior, electrical, technology, phd, senior\n",
            "teacher: teachers, education, students, teaching, coordinator, schools, teaches, has, taught, writing\n",
            "dietitian: nutrition, with, experience, specialists, nurse, registered, diverse, honors, practitioner, hospitals\n",
            "\n",
            "\n"
          ]
        },
        {
          "output_type": "stream",
          "name": "stderr",
          "text": [
            "37532it [02:31, 221.71it/s]"
          ]
        },
        {
          "output_type": "stream",
          "name": "stdout",
          "text": [
            "| epoch   5 | 37500/58601 batches | loss    1.634 \n",
            "women: about, african, the, she, stories, her, working, people, youth, culture\n",
            "men: justice, people, ranging, which, the, make, them, will, women, by\n",
            "nurse: practitioner, nursing, honors, affiliated, hospital, specialists, graduated, experience, doctors, hospitals\n",
            "doctor: from, college, of, degree, earned, in, bachelor, member, obtained, implant\n",
            "engineer: software, engineering, computer, systems, technical, prior, electrical, technology, phd, senior\n",
            "teacher: teachers, education, students, teaching, coordinator, schools, teaches, has, taught, writing\n",
            "dietitian: nutrition, with, experience, specialists, nurse, registered, diverse, honors, practitioner, hospitals\n",
            "\n",
            "\n"
          ]
        },
        {
          "output_type": "stream",
          "name": "stderr",
          "text": [
            "38019it [02:33, 222.38it/s]"
          ]
        },
        {
          "output_type": "stream",
          "name": "stdout",
          "text": [
            "| epoch   5 | 38000/58601 batches | loss    1.632 \n",
            "women: about, african, the, she, stories, her, working, people, youth, culture\n",
            "men: justice, people, ranging, which, the, make, them, will, women, by\n",
            "nurse: practitioner, nursing, honors, affiliated, hospital, specialists, graduated, experience, doctors, hospitals\n",
            "doctor: from, college, of, degree, earned, in, bachelor, member, obtained, implant\n",
            "engineer: software, engineering, computer, systems, technical, prior, electrical, technology, phd, senior\n",
            "teacher: teachers, education, students, teaching, coordinator, schools, teaches, has, taught, writing\n",
            "dietitian: nutrition, with, experience, specialists, nurse, registered, diverse, honors, practitioner, hospitals\n",
            "\n",
            "\n"
          ]
        },
        {
          "output_type": "stream",
          "name": "stderr",
          "text": [
            "38526it [02:35, 225.11it/s]"
          ]
        },
        {
          "output_type": "stream",
          "name": "stdout",
          "text": [
            "| epoch   5 | 38500/58601 batches | loss    1.635 \n",
            "women: about, african, the, she, stories, her, working, people, youth, culture\n",
            "men: justice, people, ranging, which, the, make, them, will, women, by\n",
            "nurse: practitioner, nursing, honors, affiliated, hospital, specialists, graduated, experience, doctors, hospitals\n",
            "doctor: from, college, of, degree, earned, in, bachelor, member, obtained, implant\n",
            "engineer: software, engineering, computer, systems, technical, prior, electrical, technology, phd, senior\n",
            "teacher: teachers, education, students, teaching, coordinator, schools, teaches, has, taught, writing\n",
            "dietitian: nutrition, with, experience, specialists, nurse, registered, diverse, honors, practitioner, hospitals\n",
            "\n",
            "\n"
          ]
        },
        {
          "output_type": "stream",
          "name": "stderr",
          "text": [
            "39018it [02:37, 228.25it/s]"
          ]
        },
        {
          "output_type": "stream",
          "name": "stdout",
          "text": [
            "| epoch   5 | 39000/58601 batches | loss    1.629 \n",
            "women: about, african, the, she, stories, her, working, people, youth, culture\n",
            "men: justice, people, ranging, which, the, make, them, will, women, by\n",
            "nurse: practitioner, nursing, honors, affiliated, hospital, specialists, graduated, experience, doctors, hospitals\n",
            "doctor: from, college, of, degree, earned, in, bachelor, member, obtained, implant\n",
            "engineer: software, engineering, computer, systems, technical, prior, electrical, technology, phd, senior\n",
            "teacher: teachers, education, students, teaching, coordinator, schools, teaches, has, taught, writing\n",
            "dietitian: nutrition, with, experience, specialists, nurse, registered, diverse, honors, practitioner, hospitals\n",
            "\n",
            "\n"
          ]
        },
        {
          "output_type": "stream",
          "name": "stderr",
          "text": [
            "39527it [02:39, 210.94it/s]"
          ]
        },
        {
          "output_type": "stream",
          "name": "stdout",
          "text": [
            "| epoch   5 | 39500/58601 batches | loss    1.630 \n",
            "women: about, african, the, she, stories, her, working, people, youth, culture\n",
            "men: justice, people, ranging, which, the, make, them, will, women, by\n",
            "nurse: practitioner, nursing, honors, affiliated, hospital, specialists, graduated, experience, doctors, hospitals\n",
            "doctor: from, college, of, degree, earned, in, bachelor, member, obtained, implant\n",
            "engineer: software, engineering, computer, systems, technical, prior, electrical, technology, phd, senior\n",
            "teacher: teachers, education, students, teaching, coordinator, schools, teaches, has, taught, writing\n",
            "dietitian: nutrition, with, experience, specialists, nurse, registered, diverse, honors, practitioner, hospitals\n",
            "\n",
            "\n"
          ]
        },
        {
          "output_type": "stream",
          "name": "stderr",
          "text": [
            "40034it [02:41, 227.59it/s]"
          ]
        },
        {
          "output_type": "stream",
          "name": "stdout",
          "text": [
            "| epoch   5 | 40000/58601 batches | loss    1.634 \n",
            "women: about, african, the, she, stories, her, working, people, youth, culture\n",
            "men: justice, people, ranging, which, the, make, them, will, women, by\n",
            "nurse: practitioner, nursing, honors, affiliated, hospital, specialists, graduated, experience, doctors, hospitals\n",
            "doctor: from, college, of, degree, earned, in, bachelor, member, obtained, implant\n",
            "engineer: software, engineering, computer, systems, technical, prior, electrical, technology, phd, senior\n",
            "teacher: teachers, education, students, teaching, coordinator, schools, teaches, has, taught, writing\n",
            "dietitian: nutrition, with, experience, specialists, nurse, registered, diverse, honors, practitioner, hospitals\n",
            "\n",
            "\n"
          ]
        },
        {
          "output_type": "stream",
          "name": "stderr",
          "text": [
            "40518it [02:43, 221.18it/s]"
          ]
        },
        {
          "output_type": "stream",
          "name": "stdout",
          "text": [
            "| epoch   5 | 40500/58601 batches | loss    1.633 \n",
            "women: about, african, the, she, stories, her, working, people, youth, culture\n",
            "men: justice, people, ranging, which, the, make, them, will, women, by\n",
            "nurse: practitioner, nursing, honors, affiliated, hospital, specialists, graduated, experience, doctors, hospitals\n",
            "doctor: from, college, of, degree, earned, in, bachelor, member, obtained, implant\n",
            "engineer: software, engineering, computer, systems, technical, prior, electrical, technology, phd, senior\n",
            "teacher: teachers, education, students, teaching, coordinator, schools, teaches, has, taught, writing\n",
            "dietitian: nutrition, with, experience, specialists, nurse, registered, diverse, honors, practitioner, hospitals\n",
            "\n",
            "\n"
          ]
        },
        {
          "output_type": "stream",
          "name": "stderr",
          "text": [
            "41011it [02:44, 235.41it/s]"
          ]
        },
        {
          "output_type": "stream",
          "name": "stdout",
          "text": [
            "| epoch   5 | 41000/58601 batches | loss    1.626 \n",
            "women: about, african, the, she, stories, her, working, people, youth, culture\n",
            "men: justice, people, ranging, which, the, make, them, will, women, by\n",
            "nurse: practitioner, nursing, honors, affiliated, hospital, specialists, graduated, experience, doctors, hospitals\n",
            "doctor: from, college, of, degree, earned, in, bachelor, member, obtained, implant\n",
            "engineer: software, engineering, computer, systems, technical, prior, electrical, technology, phd, senior\n",
            "teacher: teachers, education, students, teaching, coordinator, schools, teaches, has, taught, writing\n",
            "dietitian: nutrition, with, experience, specialists, nurse, registered, diverse, honors, practitioner, hospitals\n",
            "\n",
            "\n"
          ]
        },
        {
          "output_type": "stream",
          "name": "stderr",
          "text": [
            "41524it [02:47, 223.71it/s]"
          ]
        },
        {
          "output_type": "stream",
          "name": "stdout",
          "text": [
            "| epoch   5 | 41500/58601 batches | loss    1.630 \n",
            "women: about, african, the, she, stories, her, working, people, youth, culture\n",
            "men: justice, people, ranging, which, the, make, them, will, women, by\n",
            "nurse: practitioner, nursing, honors, affiliated, hospital, specialists, graduated, experience, doctors, hospitals\n",
            "doctor: from, college, of, degree, earned, in, bachelor, member, obtained, implant\n",
            "engineer: software, engineering, computer, systems, technical, prior, electrical, technology, phd, senior\n",
            "teacher: teachers, education, students, teaching, coordinator, schools, teaches, has, taught, writing\n",
            "dietitian: nutrition, with, experience, specialists, nurse, registered, diverse, honors, practitioner, hospitals\n",
            "\n",
            "\n"
          ]
        },
        {
          "output_type": "stream",
          "name": "stderr",
          "text": [
            "42034it [02:49, 226.67it/s]"
          ]
        },
        {
          "output_type": "stream",
          "name": "stdout",
          "text": [
            "| epoch   5 | 42000/58601 batches | loss    1.628 \n",
            "women: about, african, the, she, stories, her, working, people, youth, culture\n",
            "men: justice, people, ranging, which, the, make, them, will, women, by\n",
            "nurse: practitioner, nursing, honors, affiliated, hospital, specialists, graduated, experience, doctors, hospitals\n",
            "doctor: from, college, of, degree, earned, in, bachelor, member, obtained, implant\n",
            "engineer: software, engineering, computer, systems, technical, prior, electrical, technology, phd, senior\n",
            "teacher: teachers, education, students, teaching, coordinator, schools, teaches, has, taught, writing\n",
            "dietitian: nutrition, with, experience, specialists, nurse, registered, diverse, honors, practitioner, hospitals\n",
            "\n",
            "\n"
          ]
        },
        {
          "output_type": "stream",
          "name": "stderr",
          "text": [
            "42522it [02:50, 215.61it/s]"
          ]
        },
        {
          "output_type": "stream",
          "name": "stdout",
          "text": [
            "| epoch   5 | 42500/58601 batches | loss    1.635 \n",
            "women: about, african, the, she, stories, her, working, people, youth, culture\n",
            "men: justice, people, ranging, which, the, make, them, will, women, by\n",
            "nurse: practitioner, nursing, honors, affiliated, hospital, specialists, graduated, experience, doctors, hospitals\n",
            "doctor: from, college, of, degree, earned, in, bachelor, member, obtained, implant\n",
            "engineer: software, engineering, computer, systems, technical, prior, electrical, technology, phd, senior\n",
            "teacher: teachers, education, students, teaching, coordinator, schools, teaches, has, taught, writing\n",
            "dietitian: nutrition, with, experience, specialists, nurse, registered, diverse, honors, practitioner, hospitals\n",
            "\n",
            "\n"
          ]
        },
        {
          "output_type": "stream",
          "name": "stderr",
          "text": [
            "43035it [02:52, 227.17it/s]"
          ]
        },
        {
          "output_type": "stream",
          "name": "stdout",
          "text": [
            "| epoch   5 | 43000/58601 batches | loss    1.628 \n",
            "women: about, african, the, she, stories, her, working, people, youth, culture\n",
            "men: justice, people, ranging, which, the, make, them, will, women, by\n",
            "nurse: practitioner, nursing, honors, affiliated, hospital, specialists, graduated, experience, doctors, hospitals\n",
            "doctor: from, college, of, degree, earned, in, bachelor, member, obtained, implant\n",
            "engineer: software, engineering, computer, systems, technical, prior, electrical, technology, phd, senior\n",
            "teacher: teachers, education, students, teaching, coordinator, schools, teaches, has, taught, writing\n",
            "dietitian: nutrition, with, experience, specialists, nurse, registered, diverse, honors, practitioner, hospitals\n",
            "\n",
            "\n"
          ]
        },
        {
          "output_type": "stream",
          "name": "stderr",
          "text": [
            "43519it [02:54, 227.04it/s]"
          ]
        },
        {
          "output_type": "stream",
          "name": "stdout",
          "text": [
            "| epoch   5 | 43500/58601 batches | loss    1.627 \n",
            "women: about, african, the, she, stories, her, working, people, youth, culture\n",
            "men: justice, people, ranging, which, the, make, them, will, women, by\n",
            "nurse: practitioner, nursing, honors, affiliated, hospital, specialists, graduated, experience, doctors, hospitals\n",
            "doctor: from, college, of, degree, earned, in, bachelor, member, obtained, implant\n",
            "engineer: software, engineering, computer, systems, technical, prior, electrical, technology, phd, senior\n",
            "teacher: teachers, education, students, teaching, coordinator, schools, teaches, has, taught, writing\n",
            "dietitian: nutrition, with, experience, specialists, nurse, registered, diverse, honors, practitioner, hospitals\n",
            "\n",
            "\n"
          ]
        },
        {
          "output_type": "stream",
          "name": "stderr",
          "text": [
            "44026it [02:56, 222.63it/s]"
          ]
        },
        {
          "output_type": "stream",
          "name": "stdout",
          "text": [
            "| epoch   5 | 44000/58601 batches | loss    1.636 \n",
            "women: about, african, the, she, stories, her, working, people, youth, culture\n",
            "men: justice, people, ranging, which, the, make, them, will, women, by\n",
            "nurse: practitioner, nursing, honors, affiliated, hospital, specialists, graduated, experience, doctors, hospitals\n",
            "doctor: from, college, of, degree, earned, in, bachelor, member, obtained, implant\n",
            "engineer: software, engineering, computer, systems, technical, prior, electrical, technology, phd, senior\n",
            "teacher: teachers, education, students, teaching, coordinator, schools, teaches, has, taught, writing\n",
            "dietitian: nutrition, with, experience, specialists, nurse, registered, diverse, honors, practitioner, hospitals\n",
            "\n",
            "\n"
          ]
        },
        {
          "output_type": "stream",
          "name": "stderr",
          "text": [
            "44520it [02:58, 222.87it/s]"
          ]
        },
        {
          "output_type": "stream",
          "name": "stdout",
          "text": [
            "| epoch   5 | 44500/58601 batches | loss    1.633 \n",
            "women: about, african, the, she, stories, her, working, people, youth, culture\n",
            "men: justice, people, ranging, which, the, make, them, will, women, by\n",
            "nurse: practitioner, nursing, honors, affiliated, hospital, specialists, graduated, experience, doctors, hospitals\n",
            "doctor: from, college, of, degree, earned, in, bachelor, member, obtained, implant\n",
            "engineer: software, engineering, computer, systems, technical, prior, electrical, technology, phd, senior\n",
            "teacher: teachers, education, students, teaching, coordinator, schools, teaches, has, taught, writing\n",
            "dietitian: nutrition, with, experience, specialists, nurse, registered, diverse, honors, practitioner, hospitals\n",
            "\n",
            "\n"
          ]
        },
        {
          "output_type": "stream",
          "name": "stderr",
          "text": [
            "45033it [03:00, 230.82it/s]"
          ]
        },
        {
          "output_type": "stream",
          "name": "stdout",
          "text": [
            "| epoch   5 | 45000/58601 batches | loss    1.637 \n",
            "women: about, african, the, she, stories, her, working, people, youth, culture\n",
            "men: justice, people, ranging, which, the, make, them, will, women, by\n",
            "nurse: practitioner, nursing, honors, affiliated, hospital, specialists, graduated, experience, doctors, hospitals\n",
            "doctor: from, college, of, degree, earned, in, bachelor, member, obtained, implant\n",
            "engineer: software, engineering, computer, systems, technical, prior, electrical, technology, phd, senior\n",
            "teacher: teachers, education, students, teaching, coordinator, schools, teaches, has, taught, writing\n",
            "dietitian: nutrition, with, experience, specialists, nurse, registered, diverse, honors, practitioner, hospitals\n",
            "\n",
            "\n"
          ]
        },
        {
          "output_type": "stream",
          "name": "stderr",
          "text": [
            "45530it [03:02, 214.04it/s]"
          ]
        },
        {
          "output_type": "stream",
          "name": "stdout",
          "text": [
            "| epoch   5 | 45500/58601 batches | loss    1.637 \n",
            "women: about, african, the, she, stories, her, working, people, youth, culture\n",
            "men: justice, people, ranging, which, the, make, them, will, women, by\n",
            "nurse: practitioner, nursing, honors, affiliated, hospital, specialists, graduated, experience, doctors, hospitals\n",
            "doctor: from, college, of, degree, earned, in, bachelor, member, obtained, implant\n",
            "engineer: software, engineering, computer, systems, technical, prior, electrical, technology, phd, senior\n",
            "teacher: teachers, education, students, teaching, coordinator, schools, teaches, has, taught, writing\n",
            "dietitian: nutrition, with, experience, specialists, nurse, registered, diverse, honors, practitioner, hospitals\n",
            "\n",
            "\n"
          ]
        },
        {
          "output_type": "stream",
          "name": "stderr",
          "text": [
            "46014it [03:04, 224.35it/s]"
          ]
        },
        {
          "output_type": "stream",
          "name": "stdout",
          "text": [
            "| epoch   5 | 46000/58601 batches | loss    1.626 \n",
            "women: about, african, the, she, stories, her, working, people, youth, culture\n",
            "men: justice, people, ranging, which, the, make, them, will, women, by\n",
            "nurse: practitioner, nursing, honors, affiliated, hospital, specialists, graduated, experience, doctors, hospitals\n",
            "doctor: from, college, of, degree, earned, in, bachelor, member, obtained, implant\n",
            "engineer: software, engineering, computer, systems, technical, prior, electrical, technology, phd, senior\n",
            "teacher: teachers, education, students, teaching, coordinator, schools, teaches, has, taught, writing\n",
            "dietitian: nutrition, with, experience, specialists, nurse, registered, diverse, honors, practitioner, hospitals\n",
            "\n",
            "\n"
          ]
        },
        {
          "output_type": "stream",
          "name": "stderr",
          "text": [
            "46526it [03:06, 226.76it/s]"
          ]
        },
        {
          "output_type": "stream",
          "name": "stdout",
          "text": [
            "| epoch   5 | 46500/58601 batches | loss    1.630 \n",
            "women: about, african, the, she, stories, her, working, people, youth, culture\n",
            "men: justice, people, ranging, which, the, make, them, will, women, by\n",
            "nurse: practitioner, nursing, honors, affiliated, hospital, specialists, graduated, experience, doctors, hospitals\n",
            "doctor: from, college, of, degree, earned, in, bachelor, member, obtained, implant\n",
            "engineer: software, engineering, computer, systems, technical, prior, electrical, technology, phd, senior\n",
            "teacher: teachers, education, students, teaching, coordinator, schools, teaches, has, taught, writing\n",
            "dietitian: nutrition, with, experience, specialists, nurse, registered, diverse, honors, practitioner, hospitals\n",
            "\n",
            "\n"
          ]
        },
        {
          "output_type": "stream",
          "name": "stderr",
          "text": [
            "47016it [03:08, 230.47it/s]"
          ]
        },
        {
          "output_type": "stream",
          "name": "stdout",
          "text": [
            "| epoch   5 | 47000/58601 batches | loss    1.631 \n",
            "women: about, african, the, she, stories, her, working, people, youth, culture\n",
            "men: justice, people, ranging, which, the, make, them, will, women, by\n",
            "nurse: practitioner, nursing, honors, affiliated, hospital, specialists, graduated, experience, doctors, hospitals\n",
            "doctor: from, college, of, degree, earned, in, bachelor, member, obtained, implant\n",
            "engineer: software, engineering, computer, systems, technical, prior, electrical, technology, phd, senior\n",
            "teacher: teachers, education, students, teaching, coordinator, schools, teaches, has, taught, writing\n",
            "dietitian: nutrition, with, experience, specialists, nurse, registered, diverse, honors, practitioner, hospitals\n",
            "\n",
            "\n"
          ]
        },
        {
          "output_type": "stream",
          "name": "stderr",
          "text": [
            "47518it [03:10, 226.11it/s]"
          ]
        },
        {
          "output_type": "stream",
          "name": "stdout",
          "text": [
            "| epoch   5 | 47500/58601 batches | loss    1.638 \n",
            "women: about, african, the, she, stories, her, working, people, youth, culture\n",
            "men: justice, people, ranging, which, the, make, them, will, women, by\n",
            "nurse: practitioner, nursing, honors, affiliated, hospital, specialists, graduated, experience, doctors, hospitals\n",
            "doctor: from, college, of, degree, earned, in, bachelor, member, obtained, implant\n",
            "engineer: software, engineering, computer, systems, technical, prior, electrical, technology, phd, senior\n",
            "teacher: teachers, education, students, teaching, coordinator, schools, teaches, has, taught, writing\n",
            "dietitian: nutrition, with, experience, specialists, nurse, registered, diverse, honors, practitioner, hospitals\n",
            "\n",
            "\n"
          ]
        },
        {
          "output_type": "stream",
          "name": "stderr",
          "text": [
            "48019it [03:12, 220.31it/s]"
          ]
        },
        {
          "output_type": "stream",
          "name": "stdout",
          "text": [
            "| epoch   5 | 48000/58601 batches | loss    1.631 \n",
            "women: about, african, the, she, stories, her, working, people, youth, culture\n",
            "men: justice, people, ranging, which, the, make, them, will, women, by\n",
            "nurse: practitioner, nursing, honors, affiliated, hospital, specialists, graduated, experience, doctors, hospitals\n",
            "doctor: from, college, of, degree, earned, in, bachelor, member, obtained, implant\n",
            "engineer: software, engineering, computer, systems, technical, prior, electrical, technology, phd, senior\n",
            "teacher: teachers, education, students, teaching, coordinator, schools, teaches, has, taught, writing\n",
            "dietitian: nutrition, with, experience, specialists, nurse, registered, diverse, honors, practitioner, hospitals\n",
            "\n",
            "\n"
          ]
        },
        {
          "output_type": "stream",
          "name": "stderr",
          "text": [
            "48522it [03:14, 219.71it/s]"
          ]
        },
        {
          "output_type": "stream",
          "name": "stdout",
          "text": [
            "| epoch   5 | 48500/58601 batches | loss    1.630 \n",
            "women: about, african, the, she, stories, her, working, people, youth, culture\n",
            "men: justice, people, ranging, which, the, make, them, will, women, by\n",
            "nurse: practitioner, nursing, honors, affiliated, hospital, specialists, graduated, experience, doctors, hospitals\n",
            "doctor: from, college, of, degree, earned, in, bachelor, member, obtained, implant\n",
            "engineer: software, engineering, computer, systems, technical, prior, electrical, technology, phd, senior\n",
            "teacher: teachers, education, students, teaching, coordinator, schools, teaches, has, taught, writing\n",
            "dietitian: nutrition, with, experience, specialists, nurse, registered, diverse, honors, practitioner, hospitals\n",
            "\n",
            "\n"
          ]
        },
        {
          "output_type": "stream",
          "name": "stderr",
          "text": [
            "49032it [03:16, 223.23it/s]"
          ]
        },
        {
          "output_type": "stream",
          "name": "stdout",
          "text": [
            "| epoch   5 | 49000/58601 batches | loss    1.630 \n",
            "women: about, african, the, she, stories, her, working, people, youth, culture\n",
            "men: justice, people, ranging, which, the, make, them, will, women, by\n",
            "nurse: practitioner, nursing, honors, affiliated, hospital, specialists, graduated, experience, doctors, hospitals\n",
            "doctor: from, college, of, degree, earned, in, bachelor, member, obtained, implant\n",
            "engineer: software, engineering, computer, systems, technical, prior, electrical, technology, phd, senior\n",
            "teacher: teachers, education, students, teaching, coordinator, schools, teaches, has, taught, writing\n",
            "dietitian: nutrition, with, experience, specialists, nurse, registered, diverse, honors, practitioner, hospitals\n",
            "\n",
            "\n"
          ]
        },
        {
          "output_type": "stream",
          "name": "stderr",
          "text": [
            "49518it [03:18, 228.66it/s]"
          ]
        },
        {
          "output_type": "stream",
          "name": "stdout",
          "text": [
            "| epoch   5 | 49500/58601 batches | loss    1.629 \n",
            "women: about, african, the, she, stories, her, working, people, youth, culture\n",
            "men: justice, people, ranging, which, the, make, them, will, women, by\n",
            "nurse: practitioner, nursing, honors, affiliated, hospital, specialists, graduated, experience, doctors, hospitals\n",
            "doctor: from, college, of, degree, earned, in, bachelor, member, obtained, implant\n",
            "engineer: software, engineering, computer, systems, technical, prior, electrical, technology, phd, senior\n",
            "teacher: teachers, education, students, teaching, coordinator, schools, teaches, has, taught, writing\n",
            "dietitian: nutrition, with, experience, specialists, nurse, registered, diverse, honors, practitioner, hospitals\n",
            "\n",
            "\n"
          ]
        },
        {
          "output_type": "stream",
          "name": "stderr",
          "text": [
            "50027it [03:20, 220.58it/s]"
          ]
        },
        {
          "output_type": "stream",
          "name": "stdout",
          "text": [
            "| epoch   5 | 50000/58601 batches | loss    1.634 \n",
            "women: about, african, the, she, stories, her, working, people, youth, culture\n",
            "men: justice, people, ranging, which, the, make, them, will, women, by\n",
            "nurse: practitioner, nursing, honors, affiliated, hospital, specialists, graduated, experience, doctors, hospitals\n",
            "doctor: from, college, of, degree, earned, in, bachelor, member, obtained, implant\n",
            "engineer: software, engineering, computer, systems, technical, prior, electrical, technology, phd, senior\n",
            "teacher: teachers, education, students, teaching, coordinator, schools, teaches, has, taught, writing\n",
            "dietitian: nutrition, with, experience, specialists, nurse, registered, diverse, honors, practitioner, hospitals\n",
            "\n",
            "\n"
          ]
        },
        {
          "output_type": "stream",
          "name": "stderr",
          "text": [
            "50513it [03:22, 227.68it/s]"
          ]
        },
        {
          "output_type": "stream",
          "name": "stdout",
          "text": [
            "| epoch   5 | 50500/58601 batches | loss    1.633 \n",
            "women: about, african, the, she, stories, her, working, people, youth, culture\n",
            "men: justice, people, ranging, which, the, make, them, will, women, by\n",
            "nurse: practitioner, nursing, honors, affiliated, hospital, specialists, graduated, experience, doctors, hospitals\n",
            "doctor: from, college, of, degree, earned, in, bachelor, member, obtained, implant\n",
            "engineer: software, engineering, computer, systems, technical, prior, electrical, technology, phd, senior\n",
            "teacher: teachers, education, students, teaching, coordinator, schools, teaches, has, taught, writing\n",
            "dietitian: nutrition, with, experience, specialists, nurse, registered, diverse, honors, practitioner, hospitals\n",
            "\n",
            "\n"
          ]
        },
        {
          "output_type": "stream",
          "name": "stderr",
          "text": [
            "51022it [03:24, 210.66it/s]"
          ]
        },
        {
          "output_type": "stream",
          "name": "stdout",
          "text": [
            "| epoch   5 | 51000/58601 batches | loss    1.630 \n",
            "women: about, african, the, she, stories, her, working, people, youth, culture\n",
            "men: justice, people, ranging, which, the, make, them, will, women, by\n",
            "nurse: practitioner, nursing, honors, affiliated, hospital, specialists, graduated, experience, doctors, hospitals\n",
            "doctor: from, college, of, degree, earned, in, bachelor, member, obtained, implant\n",
            "engineer: software, engineering, computer, systems, technical, prior, electrical, technology, phd, senior\n",
            "teacher: teachers, education, students, teaching, coordinator, schools, teaches, has, taught, writing\n",
            "dietitian: nutrition, with, experience, specialists, nurse, registered, diverse, honors, practitioner, hospitals\n",
            "\n",
            "\n"
          ]
        },
        {
          "output_type": "stream",
          "name": "stderr",
          "text": [
            "51533it [03:26, 227.09it/s]"
          ]
        },
        {
          "output_type": "stream",
          "name": "stdout",
          "text": [
            "| epoch   5 | 51500/58601 batches | loss    1.635 \n",
            "women: about, african, the, she, stories, her, working, people, youth, culture\n",
            "men: justice, people, ranging, which, the, make, them, will, women, by\n",
            "nurse: practitioner, nursing, honors, affiliated, hospital, specialists, graduated, experience, doctors, hospitals\n",
            "doctor: from, college, of, degree, earned, in, bachelor, member, obtained, implant\n",
            "engineer: software, engineering, computer, systems, technical, prior, electrical, technology, phd, senior\n",
            "teacher: teachers, education, students, teaching, coordinator, schools, teaches, has, taught, writing\n",
            "dietitian: nutrition, with, experience, specialists, nurse, registered, diverse, honors, practitioner, hospitals\n",
            "\n",
            "\n"
          ]
        },
        {
          "output_type": "stream",
          "name": "stderr",
          "text": [
            "52027it [03:28, 222.54it/s]"
          ]
        },
        {
          "output_type": "stream",
          "name": "stdout",
          "text": [
            "| epoch   5 | 52000/58601 batches | loss    1.634 \n",
            "women: about, african, the, she, stories, her, working, people, youth, culture\n",
            "men: justice, people, ranging, which, the, make, them, will, women, by\n",
            "nurse: practitioner, nursing, honors, affiliated, hospital, specialists, graduated, experience, doctors, hospitals\n",
            "doctor: from, college, of, degree, earned, in, bachelor, member, obtained, implant\n",
            "engineer: software, engineering, computer, systems, technical, prior, electrical, technology, phd, senior\n",
            "teacher: teachers, education, students, teaching, coordinator, schools, teaches, has, taught, writing\n",
            "dietitian: nutrition, with, experience, specialists, nurse, registered, diverse, honors, practitioner, hospitals\n",
            "\n",
            "\n"
          ]
        },
        {
          "output_type": "stream",
          "name": "stderr",
          "text": [
            "52515it [03:30, 224.89it/s]"
          ]
        },
        {
          "output_type": "stream",
          "name": "stdout",
          "text": [
            "| epoch   5 | 52500/58601 batches | loss    1.635 \n",
            "women: about, african, the, she, stories, her, working, people, youth, culture\n",
            "men: justice, people, ranging, which, the, make, them, will, women, by\n",
            "nurse: practitioner, nursing, honors, affiliated, hospital, specialists, graduated, experience, doctors, hospitals\n",
            "doctor: from, college, of, degree, earned, in, bachelor, member, obtained, implant\n",
            "engineer: software, engineering, computer, systems, technical, prior, electrical, technology, phd, senior\n",
            "teacher: teachers, education, students, teaching, coordinator, schools, teaches, has, taught, writing\n",
            "dietitian: nutrition, with, experience, specialists, nurse, registered, diverse, honors, practitioner, hospitals\n",
            "\n",
            "\n"
          ]
        },
        {
          "output_type": "stream",
          "name": "stderr",
          "text": [
            "53013it [03:32, 235.14it/s]"
          ]
        },
        {
          "output_type": "stream",
          "name": "stdout",
          "text": [
            "| epoch   5 | 53000/58601 batches | loss    1.627 \n",
            "women: about, african, the, she, stories, her, working, people, youth, culture\n",
            "men: justice, people, ranging, which, the, make, them, will, women, by\n",
            "nurse: practitioner, nursing, honors, affiliated, hospital, specialists, graduated, experience, doctors, hospitals\n",
            "doctor: from, college, of, degree, earned, in, bachelor, member, obtained, implant\n",
            "engineer: software, engineering, computer, systems, technical, prior, electrical, technology, phd, senior\n",
            "teacher: teachers, education, students, teaching, coordinator, schools, teaches, has, taught, writing\n",
            "dietitian: nutrition, with, experience, specialists, nurse, registered, diverse, honors, practitioner, hospitals\n",
            "\n",
            "\n"
          ]
        },
        {
          "output_type": "stream",
          "name": "stderr",
          "text": [
            "53528it [03:34, 230.72it/s]"
          ]
        },
        {
          "output_type": "stream",
          "name": "stdout",
          "text": [
            "| epoch   5 | 53500/58601 batches | loss    1.632 \n",
            "women: about, african, the, she, stories, her, working, people, youth, culture\n",
            "men: justice, people, ranging, which, the, make, them, will, women, by\n",
            "nurse: practitioner, nursing, honors, affiliated, hospital, specialists, graduated, experience, doctors, hospitals\n",
            "doctor: from, college, of, degree, earned, in, bachelor, member, obtained, implant\n",
            "engineer: software, engineering, computer, systems, technical, prior, electrical, technology, phd, senior\n",
            "teacher: teachers, education, students, teaching, coordinator, schools, teaches, has, taught, writing\n",
            "dietitian: nutrition, with, experience, specialists, nurse, registered, diverse, honors, practitioner, hospitals\n",
            "\n",
            "\n"
          ]
        },
        {
          "output_type": "stream",
          "name": "stderr",
          "text": [
            "54014it [03:36, 215.62it/s]"
          ]
        },
        {
          "output_type": "stream",
          "name": "stdout",
          "text": [
            "| epoch   5 | 54000/58601 batches | loss    1.634 \n",
            "women: about, african, the, she, stories, her, working, people, youth, culture\n",
            "men: justice, people, ranging, which, the, make, them, will, women, by\n",
            "nurse: practitioner, nursing, honors, affiliated, hospital, specialists, graduated, experience, doctors, hospitals\n",
            "doctor: from, college, of, degree, earned, in, bachelor, member, obtained, implant\n",
            "engineer: software, engineering, computer, systems, technical, prior, electrical, technology, phd, senior\n",
            "teacher: teachers, education, students, teaching, coordinator, schools, teaches, has, taught, writing\n",
            "dietitian: nutrition, with, experience, specialists, nurse, registered, diverse, honors, practitioner, hospitals\n",
            "\n",
            "\n"
          ]
        },
        {
          "output_type": "stream",
          "name": "stderr",
          "text": [
            "54529it [03:38, 231.62it/s]"
          ]
        },
        {
          "output_type": "stream",
          "name": "stdout",
          "text": [
            "| epoch   5 | 54500/58601 batches | loss    1.631 \n",
            "women: about, african, the, she, stories, her, working, people, youth, culture\n",
            "men: justice, people, ranging, which, the, make, them, will, women, by\n",
            "nurse: practitioner, nursing, honors, affiliated, hospital, specialists, graduated, experience, doctors, hospitals\n",
            "doctor: from, college, of, degree, earned, in, bachelor, member, obtained, implant\n",
            "engineer: software, engineering, computer, systems, technical, prior, electrical, technology, phd, senior\n",
            "teacher: teachers, education, students, teaching, coordinator, schools, teaches, has, taught, writing\n",
            "dietitian: nutrition, with, experience, specialists, nurse, registered, diverse, honors, practitioner, hospitals\n",
            "\n",
            "\n"
          ]
        },
        {
          "output_type": "stream",
          "name": "stderr",
          "text": [
            "55017it [03:40, 223.85it/s]"
          ]
        },
        {
          "output_type": "stream",
          "name": "stdout",
          "text": [
            "| epoch   5 | 55000/58601 batches | loss    1.625 \n",
            "women: about, african, the, she, stories, her, working, people, youth, culture\n",
            "men: justice, people, ranging, which, the, make, them, will, women, by\n",
            "nurse: practitioner, nursing, honors, affiliated, hospital, specialists, graduated, experience, doctors, hospitals\n",
            "doctor: from, college, of, degree, earned, in, bachelor, member, obtained, implant\n",
            "engineer: software, engineering, computer, systems, technical, prior, electrical, technology, phd, senior\n",
            "teacher: teachers, education, students, teaching, coordinator, schools, teaches, has, taught, writing\n",
            "dietitian: nutrition, with, experience, specialists, nurse, registered, diverse, honors, practitioner, hospitals\n",
            "\n",
            "\n"
          ]
        },
        {
          "output_type": "stream",
          "name": "stderr",
          "text": [
            "55526it [03:42, 222.69it/s]"
          ]
        },
        {
          "output_type": "stream",
          "name": "stdout",
          "text": [
            "| epoch   5 | 55500/58601 batches | loss    1.630 \n",
            "women: about, african, the, she, stories, her, working, people, youth, culture\n",
            "men: justice, people, ranging, which, the, make, them, will, women, by\n",
            "nurse: practitioner, nursing, honors, affiliated, hospital, specialists, graduated, experience, doctors, hospitals\n",
            "doctor: from, college, of, degree, earned, in, bachelor, member, obtained, implant\n",
            "engineer: software, engineering, computer, systems, technical, prior, electrical, technology, phd, senior\n",
            "teacher: teachers, education, students, teaching, coordinator, schools, teaches, has, taught, writing\n",
            "dietitian: nutrition, with, experience, specialists, nurse, registered, diverse, honors, practitioner, hospitals\n",
            "\n",
            "\n"
          ]
        },
        {
          "output_type": "stream",
          "name": "stderr",
          "text": [
            "56035it [03:44, 229.19it/s]"
          ]
        },
        {
          "output_type": "stream",
          "name": "stdout",
          "text": [
            "| epoch   5 | 56000/58601 batches | loss    1.631 \n",
            "women: about, african, the, she, stories, her, working, people, youth, culture\n",
            "men: justice, people, ranging, which, the, make, them, will, women, by\n",
            "nurse: practitioner, nursing, honors, affiliated, hospital, specialists, graduated, experience, doctors, hospitals\n",
            "doctor: from, college, of, degree, earned, in, bachelor, member, obtained, implant\n",
            "engineer: software, engineering, computer, systems, technical, prior, electrical, technology, phd, senior\n",
            "teacher: teachers, education, students, teaching, coordinator, schools, teaches, has, taught, writing\n",
            "dietitian: nutrition, with, experience, specialists, nurse, registered, diverse, honors, practitioner, hospitals\n",
            "\n",
            "\n"
          ]
        },
        {
          "output_type": "stream",
          "name": "stderr",
          "text": [
            "56523it [03:46, 221.49it/s]"
          ]
        },
        {
          "output_type": "stream",
          "name": "stdout",
          "text": [
            "| epoch   5 | 56500/58601 batches | loss    1.631 \n",
            "women: about, african, the, she, stories, her, working, people, youth, culture\n",
            "men: justice, people, ranging, which, the, make, them, will, women, by\n",
            "nurse: practitioner, nursing, honors, affiliated, hospital, specialists, graduated, experience, doctors, hospitals\n",
            "doctor: from, college, of, degree, earned, in, bachelor, member, obtained, implant\n",
            "engineer: software, engineering, computer, systems, technical, prior, electrical, technology, phd, senior\n",
            "teacher: teachers, education, students, teaching, coordinator, schools, teaches, has, taught, writing\n",
            "dietitian: nutrition, with, experience, specialists, nurse, registered, diverse, honors, practitioner, hospitals\n",
            "\n",
            "\n"
          ]
        },
        {
          "output_type": "stream",
          "name": "stderr",
          "text": [
            "57030it [03:48, 218.60it/s]"
          ]
        },
        {
          "output_type": "stream",
          "name": "stdout",
          "text": [
            "| epoch   5 | 57000/58601 batches | loss    1.633 \n",
            "women: about, african, the, she, stories, her, working, people, youth, culture\n",
            "men: justice, people, ranging, which, the, make, them, will, women, by\n",
            "nurse: practitioner, nursing, honors, affiliated, hospital, specialists, graduated, experience, doctors, hospitals\n",
            "doctor: from, college, of, degree, earned, in, bachelor, member, obtained, implant\n",
            "engineer: software, engineering, computer, systems, technical, prior, electrical, technology, phd, senior\n",
            "teacher: teachers, education, students, teaching, coordinator, schools, teaches, has, taught, writing\n",
            "dietitian: nutrition, with, experience, specialists, nurse, registered, diverse, honors, practitioner, hospitals\n",
            "\n",
            "\n"
          ]
        },
        {
          "output_type": "stream",
          "name": "stderr",
          "text": [
            "57515it [03:50, 230.66it/s]"
          ]
        },
        {
          "output_type": "stream",
          "name": "stdout",
          "text": [
            "| epoch   5 | 57500/58601 batches | loss    1.632 \n",
            "women: about, african, the, she, stories, her, working, people, youth, culture\n",
            "men: justice, people, ranging, which, the, make, them, will, women, by\n",
            "nurse: practitioner, nursing, honors, affiliated, hospital, specialists, graduated, experience, doctors, hospitals\n",
            "doctor: from, college, of, degree, earned, in, bachelor, member, obtained, implant\n",
            "engineer: software, engineering, computer, systems, technical, prior, electrical, technology, phd, senior\n",
            "teacher: teachers, education, students, teaching, coordinator, schools, teaches, has, taught, writing\n",
            "dietitian: nutrition, with, experience, specialists, nurse, registered, diverse, honors, practitioner, hospitals\n",
            "\n",
            "\n"
          ]
        },
        {
          "output_type": "stream",
          "name": "stderr",
          "text": [
            "58026it [03:52, 215.88it/s]"
          ]
        },
        {
          "output_type": "stream",
          "name": "stdout",
          "text": [
            "| epoch   5 | 58000/58601 batches | loss    1.630 \n",
            "women: about, african, the, she, stories, her, working, people, youth, culture\n",
            "men: justice, people, ranging, which, the, make, them, will, women, by\n",
            "nurse: practitioner, nursing, honors, affiliated, hospital, specialists, graduated, experience, doctors, hospitals\n",
            "doctor: from, college, of, degree, earned, in, bachelor, member, obtained, implant\n",
            "engineer: software, engineering, computer, systems, technical, prior, electrical, technology, phd, senior\n",
            "teacher: teachers, education, students, teaching, coordinator, schools, teaches, has, taught, writing\n",
            "dietitian: nutrition, with, experience, specialists, nurse, registered, diverse, honors, practitioner, hospitals\n",
            "\n",
            "\n"
          ]
        },
        {
          "output_type": "stream",
          "name": "stderr",
          "text": [
            "58532it [03:54, 219.73it/s]"
          ]
        },
        {
          "output_type": "stream",
          "name": "stdout",
          "text": [
            "| epoch   5 | 58500/58601 batches | loss    1.627 \n",
            "women: about, african, the, she, stories, her, working, people, youth, culture\n",
            "men: justice, people, ranging, which, the, make, them, will, women, by\n",
            "nurse: practitioner, nursing, honors, affiliated, hospital, specialists, graduated, experience, doctors, hospitals\n",
            "doctor: from, college, of, degree, earned, in, bachelor, member, obtained, implant\n",
            "engineer: software, engineering, computer, systems, technical, prior, electrical, technology, phd, senior\n",
            "teacher: teachers, education, students, teaching, coordinator, schools, teaches, has, taught, writing\n",
            "dietitian: nutrition, with, experience, specialists, nurse, registered, diverse, honors, practitioner, hospitals\n",
            "\n",
            "\n"
          ]
        },
        {
          "output_type": "stream",
          "name": "stderr",
          "text": [
            "58601it [03:56, 248.24it/s]\n"
          ]
        }
      ],
      "source": [
        "for epoch in range(1, NUM_EPOCHS + 1):\n",
        "    epoch_start_time = time.time()\n",
        "\n",
        "    train(train_dl, model, optimizer, epoch)\n",
        "    # We have a learning rate scheduler here\n",
        "    # Basically, given the state of the optimizer, this lowers the learning rate in a smart way\n",
        "    scheduler.step()"
      ]
    },
    {
      "cell_type": "code",
      "execution_count": null,
      "metadata": {
        "colab": {
          "base_uri": "https://localhost:8080/"
        },
        "id": "Kp37SWQ14T5n",
        "outputId": "61c58179-37bd-4620-8e4e-f226b0f99ae8"
      },
      "outputs": [
        {
          "output_type": "stream",
          "name": "stdout",
          "text": [
            "Similarity between nurse and average female-related words: 0.41516784\n",
            "Similarity between nurse and average male-related words: 0.35479158\n"
          ]
        }
      ],
      "source": [
        "# Define the words and their embeddings\n",
        "female_words = ['woman', 'girl', 'female', 'she', 'her', 'daughter', 'mother', 'wife', 'mrs', 'miss']\n",
        "male_words = ['man', 'boy', 'male', 'he', 'him', 'his', 'son', 'father', 'husband', 'sir', 'mr']\n",
        "word = 'nurse'\n",
        "\n",
        "# Get the embeddings of the female-related words and nurse\n",
        "female_embeddings = [model.A.weight[stoi[word]].detach().cpu().numpy() for word in female_words]\n",
        "embedding = model.A.weight[stoi[word]].detach().cpu().numpy()\n",
        "\n",
        "# Get the embeddings of the male-related words and nurse\n",
        "male_embeddings = [model.A.weight[stoi[word]].detach().cpu().numpy() for word in male_words]\n",
        "\n",
        "# Calculate the average embedding for female-related words\n",
        "avg_female_embedding = np.mean(female_embeddings, axis=0)\n",
        "\n",
        "# Calculate the average embedding for male-related words\n",
        "avg_male_embedding = np.mean(male_embeddings, axis=0)\n",
        "\n",
        "# Calculate cosine similarity between nurse and average female embedding\n",
        "similarity_female = np.dot(embedding, avg_female_embedding) / (\n",
        "    np.linalg.norm(embedding) * np.linalg.norm(avg_female_embedding)\n",
        ")\n",
        "\n",
        "# Calculate cosine similarity between nurse and average male embedding\n",
        "similarity_male = np.dot(embedding, avg_male_embedding) / (\n",
        "    np.linalg.norm(embedding) * np.linalg.norm(avg_male_embedding)\n",
        ")\n",
        "\n",
        "print(f\"Similarity between {word} and average female-related words:\", similarity_female)\n",
        "print(f\"Similarity between {word} and average male-related words:\", similarity_male)"
      ]
    },
    {
      "cell_type": "code",
      "execution_count": null,
      "metadata": {
        "colab": {
          "base_uri": "https://localhost:8080/"
        },
        "id": "idt3IvY15Ndt",
        "outputId": "00a42916-be4c-438d-97ea-04a87f3a8bcf"
      },
      "outputs": [
        {
          "output_type": "stream",
          "name": "stdout",
          "text": [
            "Similarity between doctor and average female-related words: 0.37172547\n",
            "Similarity between doctor and average male-related words: 0.40115562\n"
          ]
        }
      ],
      "source": [
        "# Define the words and their embeddings\n",
        "female_words = ['woman', 'girl', 'female', 'she', 'her', 'daughter', 'mother', 'wife', 'mrs', 'miss']\n",
        "male_words = ['man', 'boy', 'male', 'he', 'him', 'his', 'son', 'father', 'husband', 'sir', 'mr']\n",
        "word = 'doctor'\n",
        "\n",
        "# Get the embeddings of the female-related words and nurse\n",
        "female_embeddings = [model.A.weight[stoi[word]].detach().cpu().numpy() for word in female_words]\n",
        "embedding = model.A.weight[stoi[word]].detach().cpu().numpy()\n",
        "\n",
        "# Get the embeddings of the male-related words and nurse\n",
        "male_embeddings = [model.A.weight[stoi[word]].detach().cpu().numpy() for word in male_words]\n",
        "\n",
        "# Calculate the average embedding for female-related words\n",
        "avg_female_embedding = np.mean(female_embeddings, axis=0)\n",
        "\n",
        "# Calculate the average embedding for male-related words\n",
        "avg_male_embedding = np.mean(male_embeddings, axis=0)\n",
        "\n",
        "# Calculate cosine similarity between nurse and average female embedding\n",
        "similarity_female = np.dot(embedding, avg_female_embedding) / (\n",
        "    np.linalg.norm(embedding) * np.linalg.norm(avg_female_embedding)\n",
        ")\n",
        "\n",
        "# Calculate cosine similarity between nurse and average male embedding\n",
        "similarity_male = np.dot(embedding, avg_male_embedding) / (\n",
        "    np.linalg.norm(embedding) * np.linalg.norm(avg_male_embedding)\n",
        ")\n",
        "\n",
        "print(f\"Similarity between {word} and average female-related words:\", similarity_female)\n",
        "print(f\"Similarity between {word} and average male-related words:\", similarity_male)"
      ]
    },
    {
      "cell_type": "code",
      "execution_count": null,
      "metadata": {
        "colab": {
          "base_uri": "https://localhost:8080/"
        },
        "id": "0lKu99_fhMSO",
        "outputId": "a0177b55-f5e8-429c-ee1e-aadaa713bf48"
      },
      "outputs": [
        {
          "output_type": "stream",
          "name": "stdout",
          "text": [
            "Similarity between teacher and average female-related words: 0.48986018\n",
            "Similarity between teacher and average male-related words: 0.4517957\n"
          ]
        }
      ],
      "source": [
        "# Define the words and their embeddings\n",
        "female_words = ['woman', 'girl', 'female', 'she', 'her', 'daughter', 'mother', 'wife', 'mrs', 'miss']\n",
        "male_words = ['man', 'boy', 'male', 'he', 'him', 'his', 'son', 'father', 'husband', 'sir', 'mr']\n",
        "word = 'teacher'\n",
        "\n",
        "# Get the embeddings of the female-related words and nurse\n",
        "female_embeddings = [model.A.weight[stoi[word]].detach().cpu().numpy() for word in female_words]\n",
        "embedding = model.A.weight[stoi[word]].detach().cpu().numpy()\n",
        "\n",
        "# Get the embeddings of the male-related words and nurse\n",
        "male_embeddings = [model.A.weight[stoi[word]].detach().cpu().numpy() for word in male_words]\n",
        "\n",
        "# Calculate the average embedding for female-related words\n",
        "avg_female_embedding = np.mean(female_embeddings, axis=0)\n",
        "\n",
        "# Calculate the average embedding for male-related words\n",
        "avg_male_embedding = np.mean(male_embeddings, axis=0)\n",
        "\n",
        "# Calculate cosine similarity between nurse and average female embedding\n",
        "similarity_female = np.dot(embedding, avg_female_embedding) / (\n",
        "    np.linalg.norm(embedding) * np.linalg.norm(avg_female_embedding)\n",
        ")\n",
        "\n",
        "# Calculate cosine similarity between nurse and average male embedding\n",
        "similarity_male = np.dot(embedding, avg_male_embedding) / (\n",
        "    np.linalg.norm(embedding) * np.linalg.norm(avg_male_embedding)\n",
        ")\n",
        "\n",
        "print(f\"Similarity between {word} and average female-related words:\", similarity_female)\n",
        "print(f\"Similarity between {word} and average male-related words:\", similarity_male)"
      ]
    },
    {
      "cell_type": "code",
      "execution_count": null,
      "metadata": {
        "colab": {
          "base_uri": "https://localhost:8080/"
        },
        "id": "xCCeScbKhO93",
        "outputId": "ef69226d-3976-4611-d169-d2a29063a737"
      },
      "outputs": [
        {
          "output_type": "stream",
          "name": "stdout",
          "text": [
            "Similarity between professor and average female-related words: 0.41398573\n",
            "Similarity between professor and average male-related words: 0.38196048\n"
          ]
        }
      ],
      "source": [
        "# Define the words and their embeddings\n",
        "female_words = ['woman', 'girl', 'female', 'she', 'her', 'daughter', 'mother', 'wife', 'mrs', 'miss']\n",
        "male_words = ['man', 'boy', 'male', 'he', 'him', 'his', 'son', 'father', 'husband', 'sir', 'mr']\n",
        "word = 'professor'\n",
        "\n",
        "# Get the embeddings of the female-related words and nurse\n",
        "female_embeddings = [model.A.weight[stoi[word]].detach().cpu().numpy() for word in female_words]\n",
        "embedding = model.A.weight[stoi[word]].detach().cpu().numpy()\n",
        "\n",
        "# Get the embeddings of the male-related words and nurse\n",
        "male_embeddings = [model.A.weight[stoi[word]].detach().cpu().numpy() for word in male_words]\n",
        "\n",
        "# Calculate the average embedding for female-related words\n",
        "avg_female_embedding = np.mean(female_embeddings, axis=0)\n",
        "\n",
        "# Calculate the average embedding for male-related words\n",
        "avg_male_embedding = np.mean(male_embeddings, axis=0)\n",
        "\n",
        "# Calculate cosine similarity between nurse and average female embedding\n",
        "similarity_female = np.dot(embedding, avg_female_embedding) / (\n",
        "    np.linalg.norm(embedding) * np.linalg.norm(avg_female_embedding)\n",
        ")\n",
        "\n",
        "# Calculate cosine similarity between nurse and average male embedding\n",
        "similarity_male = np.dot(embedding, avg_male_embedding) / (\n",
        "    np.linalg.norm(embedding) * np.linalg.norm(avg_male_embedding)\n",
        ")\n",
        "\n",
        "print(f\"Similarity between {word} and average female-related words:\", similarity_female)\n",
        "print(f\"Similarity between {word} and average male-related words:\", similarity_male)"
      ]
    },
    {
      "cell_type": "code",
      "execution_count": null,
      "metadata": {
        "colab": {
          "base_uri": "https://localhost:8080/"
        },
        "id": "H25hwIvrhScb",
        "outputId": "db58e8ad-5f5f-47ae-a6ae-827e62a8d329"
      },
      "outputs": [
        {
          "metadata": {
            "tags": null
          },
          "name": "stdout",
          "output_type": "stream",
          "text": [
            "Similarity between engineer and average female-related words: 0.27463472\n",
            "Similarity between engineer and average male-related words: 0.3260057\n"
          ]
        }
      ],
      "source": [
        "# Define the words and their embeddings\n",
        "female_words = ['woman', 'girl', 'female', 'she', 'her', 'daughter', 'mother', 'wife', 'mrs', 'miss']\n",
        "male_words = ['man', 'boy', 'male', 'he', 'him', 'his', 'son', 'father', 'husband', 'sir', 'mr']\n",
        "word = 'engineer'\n",
        "\n",
        "# Get the embeddings of the female-related words and nurse\n",
        "female_embeddings = [model.A.weight[stoi[word]].detach().cpu().numpy() for word in female_words]\n",
        "embedding = model.A.weight[stoi[word]].detach().cpu().numpy()\n",
        "\n",
        "# Get the embeddings of the male-related words and nurse\n",
        "male_embeddings = [model.A.weight[stoi[word]].detach().cpu().numpy() for word in male_words]\n",
        "\n",
        "# Calculate the average embedding for female-related words\n",
        "avg_female_embedding = np.mean(female_embeddings, axis=0)\n",
        "\n",
        "# Calculate the average embedding for male-related words\n",
        "avg_male_embedding = np.mean(male_embeddings, axis=0)\n",
        "\n",
        "# Calculate cosine similarity between nurse and average female embedding\n",
        "similarity_female = np.dot(embedding, avg_female_embedding) / (\n",
        "    np.linalg.norm(embedding) * np.linalg.norm(avg_female_embedding)\n",
        ")\n",
        "\n",
        "# Calculate cosine similarity between nurse and average male embedding\n",
        "similarity_male = np.dot(embedding, avg_male_embedding) / (\n",
        "    np.linalg.norm(embedding) * np.linalg.norm(avg_male_embedding)\n",
        ")\n",
        "\n",
        "print(f\"Similarity between {word} and average female-related words:\", similarity_female)\n",
        "print(f\"Similarity between {word} and average male-related words:\", similarity_male)"
      ]
    },
    {
      "cell_type": "code",
      "execution_count": null,
      "metadata": {
        "colab": {
          "base_uri": "https://localhost:8080/"
        },
        "id": "DDNaGtdqhWUJ",
        "outputId": "b844542d-017e-49f4-bf03-0a379efed904"
      },
      "outputs": [
        {
          "metadata": {
            "tags": null
          },
          "name": "stdout",
          "output_type": "stream",
          "text": [
            "Similarity between journalist and average female-related words: 0.3849403\n",
            "Similarity between journalist and average male-related words: 0.31888315\n"
          ]
        }
      ],
      "source": [
        "# Define the words and their embeddings\n",
        "female_words = ['woman', 'girl', 'female', 'she', 'her', 'daughter', 'mother', 'wife', 'mrs', 'miss']\n",
        "male_words = ['man', 'boy', 'male', 'he', 'him', 'his', 'son', 'father', 'husband', 'sir', 'mr']\n",
        "word = 'journalist'\n",
        "\n",
        "# Get the embeddings of the female-related words and nurse\n",
        "female_embeddings = [model.A.weight[stoi[word]].detach().cpu().numpy() for word in female_words]\n",
        "embedding = model.A.weight[stoi[word]].detach().cpu().numpy()\n",
        "\n",
        "# Get the embeddings of the male-related words and nurse\n",
        "male_embeddings = [model.A.weight[stoi[word]].detach().cpu().numpy() for word in male_words]\n",
        "\n",
        "# Calculate the average embedding for female-related words\n",
        "avg_female_embedding = np.mean(female_embeddings, axis=0)\n",
        "\n",
        "# Calculate the average embedding for male-related words\n",
        "avg_male_embedding = np.mean(male_embeddings, axis=0)\n",
        "\n",
        "# Calculate cosine similarity between nurse and average female embedding\n",
        "similarity_female = np.dot(embedding, avg_female_embedding) / (\n",
        "    np.linalg.norm(embedding) * np.linalg.norm(avg_female_embedding)\n",
        ")\n",
        "\n",
        "# Calculate cosine similarity between nurse and average male embedding\n",
        "similarity_male = np.dot(embedding, avg_male_embedding) / (\n",
        "    np.linalg.norm(embedding) * np.linalg.norm(avg_male_embedding)\n",
        ")\n",
        "\n",
        "print(f\"Similarity between {word} and average female-related words:\", similarity_female)\n",
        "print(f\"Similarity between {word} and average male-related words:\", similarity_male)"
      ]
    },
    {
      "cell_type": "code",
      "execution_count": null,
      "metadata": {
        "colab": {
          "base_uri": "https://localhost:8080/"
        },
        "id": "pLungq2jh9pH",
        "outputId": "49f96dac-fc92-4be6-8844-a1bb1e61d26d"
      },
      "outputs": [
        {
          "output_type": "stream",
          "name": "stdout",
          "text": [
            "Similarity between dietitian and average female-related words: 0.37643418\n",
            "Similarity between dietitian and average male-related words: 0.33514577\n"
          ]
        }
      ],
      "source": [
        "# Define the words and their embeddings\n",
        "female_words = ['woman', 'girl', 'female', 'she', 'her', 'daughter', 'mother', 'wife', 'mrs', 'miss']\n",
        "male_words = ['man', 'boy', 'male', 'he', 'him', 'his', 'son', 'father', 'husband', 'sir', 'mr']\n",
        "word = 'dietitian'\n",
        "\n",
        "# Get the embeddings of the female-related words and nurse\n",
        "female_embeddings = [model.A.weight[stoi[word]].detach().cpu().numpy() for word in female_words]\n",
        "embedding = model.A.weight[stoi[word]].detach().cpu().numpy()\n",
        "\n",
        "# Get the embeddings of the male-related words and nurse\n",
        "male_embeddings = [model.A.weight[stoi[word]].detach().cpu().numpy() for word in male_words]\n",
        "\n",
        "# Calculate the average embedding for female-related words\n",
        "avg_female_embedding = np.mean(female_embeddings, axis=0)\n",
        "\n",
        "# Calculate the average embedding for male-related words\n",
        "avg_male_embedding = np.mean(male_embeddings, axis=0)\n",
        "\n",
        "# Calculate cosine similarity between nurse and average female embedding\n",
        "similarity_female = np.dot(embedding, avg_female_embedding) / (\n",
        "    np.linalg.norm(embedding) * np.linalg.norm(avg_female_embedding)\n",
        ")\n",
        "\n",
        "# Calculate cosine similarity between nurse and average male embedding\n",
        "similarity_male = np.dot(embedding, avg_male_embedding) / (\n",
        "    np.linalg.norm(embedding) * np.linalg.norm(avg_male_embedding)\n",
        ")\n",
        "\n",
        "print(f\"Similarity between {word} and average female-related words:\", similarity_female)\n",
        "print(f\"Similarity between {word} and average male-related words:\", similarity_male)"
      ]
    },
    {
      "cell_type": "code",
      "execution_count": null,
      "metadata": {
        "colab": {
          "base_uri": "https://localhost:8080/"
        },
        "id": "qxlSdLNOiGq-",
        "outputId": "0c4ac354-a3ae-45cc-cb4f-6ad14035b385"
      },
      "outputs": [
        {
          "output_type": "stream",
          "name": "stdout",
          "text": [
            "Similarity between dentist and average female-related words: 0.33788165\n",
            "Similarity between dentist and average male-related words: 0.36737868\n"
          ]
        }
      ],
      "source": [
        "# Define the words and their embeddings\n",
        "female_words = ['woman', 'girl', 'female', 'she', 'her', 'daughter', 'mother', 'wife', 'mrs', 'miss']\n",
        "male_words = ['man', 'boy', 'male', 'he', 'him', 'his', 'son', 'father', 'husband', 'sir', 'mr']\n",
        "word = 'dentist'\n",
        "\n",
        "# Get the embeddings of the female-related words and nurse\n",
        "female_embeddings = [model.A.weight[stoi[word]].detach().cpu().numpy() for word in female_words]\n",
        "embedding = model.A.weight[stoi[word]].detach().cpu().numpy()\n",
        "\n",
        "# Get the embeddings of the male-related words and nurse\n",
        "male_embeddings = [model.A.weight[stoi[word]].detach().cpu().numpy() for word in male_words]\n",
        "\n",
        "# Calculate the average embedding for female-related words\n",
        "avg_female_embedding = np.mean(female_embeddings, axis=0)\n",
        "\n",
        "# Calculate the average embedding for male-related words\n",
        "avg_male_embedding = np.mean(male_embeddings, axis=0)\n",
        "\n",
        "# Calculate cosine similarity between nurse and average female embedding\n",
        "similarity_female = np.dot(embedding, avg_female_embedding) / (\n",
        "    np.linalg.norm(embedding) * np.linalg.norm(avg_female_embedding)\n",
        ")\n",
        "\n",
        "# Calculate cosine similarity between nurse and average male embedding\n",
        "similarity_male = np.dot(embedding, avg_male_embedding) / (\n",
        "    np.linalg.norm(embedding) * np.linalg.norm(avg_male_embedding)\n",
        ")\n",
        "\n",
        "print(f\"Similarity between {word} and average female-related words:\", similarity_female)\n",
        "print(f\"Similarity between {word} and average male-related words:\", similarity_male)"
      ]
    }
  ],
  "metadata": {
    "accelerator": "GPU",
    "colab": {
      "gpuType": "L4",
      "machine_shape": "hm",
      "provenance": []
    },
    "kernelspec": {
      "display_name": "Python 3",
      "name": "python3"
    },
    "language_info": {
      "name": "python"
    }
  },
  "nbformat": 4,
  "nbformat_minor": 0
}