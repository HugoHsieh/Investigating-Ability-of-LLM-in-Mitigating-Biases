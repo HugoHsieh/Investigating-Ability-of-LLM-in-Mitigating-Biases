{
  "cells": [
    {
      "cell_type": "code",
      "execution_count": null,
      "metadata": {
        "colab": {
          "base_uri": "https://localhost:8080/",
          "height": 433
        },
        "id": "wP5AkNllFfSj",
        "outputId": "cdc22326-3efd-4e59-b852-f4014a825436"
      },
      "outputs": [
        {
          "output_type": "execute_result",
          "data": {
            "text/plain": [
              "                                               original  \\\n",
              "0     Tampio researches the history of political tho...   \n",
              "1     He has been a practicing Dentist for 11 years....   \n",
              "2     Mr. Miserez devotes a substantial portion of h...   \n",
              "3     She holds a master’s degree in nutrition educa...   \n",
              "4     She received her Ph.D. in 2013 from Florida In...   \n",
              "...                                                 ...   \n",
              "9995  He grew up in an artist household where his pa...   \n",
              "9996  He has done a study on the death of Jesus and ...   \n",
              "9997  He is passionate about building up DC's queer ...   \n",
              "9998  In the last years she is enjoying part-time mo...   \n",
              "9999  Mr. Tartarilla practices medicine in Fort Walt...   \n",
              "\n",
              "                                     modified_sentences  \n",
              "0     Tampio researches the history of political tho...  \n",
              "1     He has been a practicing Dentist for 11 years,...  \n",
              "2     Mr. Miserez devotes a substantial portion of h...  \n",
              "3     She holds a master’s degree in nutrition educa...  \n",
              "4     She received her Ph.D. in 2013 from Florida In...  \n",
              "...                                                 ...  \n",
              "9995  He grew up in an artistic household where his ...  \n",
              "9996  Dr. Zugibe conducted a study on the death of J...  \n",
              "9997  He is passionate about building up DC's queer ...  \n",
              "9998  In recent years, she has been enjoying part-ti...  \n",
              "9999  Mr. Tartarilla practices medicine in Fort Walt...  \n",
              "\n",
              "[10000 rows x 2 columns]"
            ],
            "text/html": [
              "\n",
              "  <div id=\"df-1ac71267-c88e-43b0-a7d9-c6c782eeb677\" class=\"colab-df-container\">\n",
              "    <div>\n",
              "<style scoped>\n",
              "    .dataframe tbody tr th:only-of-type {\n",
              "        vertical-align: middle;\n",
              "    }\n",
              "\n",
              "    .dataframe tbody tr th {\n",
              "        vertical-align: top;\n",
              "    }\n",
              "\n",
              "    .dataframe thead th {\n",
              "        text-align: right;\n",
              "    }\n",
              "</style>\n",
              "<table border=\"1\" class=\"dataframe\">\n",
              "  <thead>\n",
              "    <tr style=\"text-align: right;\">\n",
              "      <th></th>\n",
              "      <th>original</th>\n",
              "      <th>modified_sentences</th>\n",
              "    </tr>\n",
              "  </thead>\n",
              "  <tbody>\n",
              "    <tr>\n",
              "      <th>0</th>\n",
              "      <td>Tampio researches the history of political tho...</td>\n",
              "      <td>Tampio researches the history of political tho...</td>\n",
              "    </tr>\n",
              "    <tr>\n",
              "      <th>1</th>\n",
              "      <td>He has been a practicing Dentist for 11 years....</td>\n",
              "      <td>He has been a practicing Dentist for 11 years,...</td>\n",
              "    </tr>\n",
              "    <tr>\n",
              "      <th>2</th>\n",
              "      <td>Mr. Miserez devotes a substantial portion of h...</td>\n",
              "      <td>Mr. Miserez devotes a substantial portion of h...</td>\n",
              "    </tr>\n",
              "    <tr>\n",
              "      <th>3</th>\n",
              "      <td>She holds a master’s degree in nutrition educa...</td>\n",
              "      <td>She holds a master’s degree in nutrition educa...</td>\n",
              "    </tr>\n",
              "    <tr>\n",
              "      <th>4</th>\n",
              "      <td>She received her Ph.D. in 2013 from Florida In...</td>\n",
              "      <td>She received her Ph.D. in 2013 from Florida In...</td>\n",
              "    </tr>\n",
              "    <tr>\n",
              "      <th>...</th>\n",
              "      <td>...</td>\n",
              "      <td>...</td>\n",
              "    </tr>\n",
              "    <tr>\n",
              "      <th>9995</th>\n",
              "      <td>He grew up in an artist household where his pa...</td>\n",
              "      <td>He grew up in an artistic household where his ...</td>\n",
              "    </tr>\n",
              "    <tr>\n",
              "      <th>9996</th>\n",
              "      <td>He has done a study on the death of Jesus and ...</td>\n",
              "      <td>Dr. Zugibe conducted a study on the death of J...</td>\n",
              "    </tr>\n",
              "    <tr>\n",
              "      <th>9997</th>\n",
              "      <td>He is passionate about building up DC's queer ...</td>\n",
              "      <td>He is passionate about building up DC's queer ...</td>\n",
              "    </tr>\n",
              "    <tr>\n",
              "      <th>9998</th>\n",
              "      <td>In the last years she is enjoying part-time mo...</td>\n",
              "      <td>In recent years, she has been enjoying part-ti...</td>\n",
              "    </tr>\n",
              "    <tr>\n",
              "      <th>9999</th>\n",
              "      <td>Mr. Tartarilla practices medicine in Fort Walt...</td>\n",
              "      <td>Mr. Tartarilla practices medicine in Fort Walt...</td>\n",
              "    </tr>\n",
              "  </tbody>\n",
              "</table>\n",
              "<p>10000 rows × 2 columns</p>\n",
              "</div>\n",
              "    <div class=\"colab-df-buttons\">\n",
              "\n",
              "  <div class=\"colab-df-container\">\n",
              "    <button class=\"colab-df-convert\" onclick=\"convertToInteractive('df-1ac71267-c88e-43b0-a7d9-c6c782eeb677')\"\n",
              "            title=\"Convert this dataframe to an interactive table.\"\n",
              "            style=\"display:none;\">\n",
              "\n",
              "  <svg xmlns=\"http://www.w3.org/2000/svg\" height=\"24px\" viewBox=\"0 -960 960 960\">\n",
              "    <path d=\"M120-120v-720h720v720H120Zm60-500h600v-160H180v160Zm220 220h160v-160H400v160Zm0 220h160v-160H400v160ZM180-400h160v-160H180v160Zm440 0h160v-160H620v160ZM180-180h160v-160H180v160Zm440 0h160v-160H620v160Z\"/>\n",
              "  </svg>\n",
              "    </button>\n",
              "\n",
              "  <style>\n",
              "    .colab-df-container {\n",
              "      display:flex;\n",
              "      gap: 12px;\n",
              "    }\n",
              "\n",
              "    .colab-df-convert {\n",
              "      background-color: #E8F0FE;\n",
              "      border: none;\n",
              "      border-radius: 50%;\n",
              "      cursor: pointer;\n",
              "      display: none;\n",
              "      fill: #1967D2;\n",
              "      height: 32px;\n",
              "      padding: 0 0 0 0;\n",
              "      width: 32px;\n",
              "    }\n",
              "\n",
              "    .colab-df-convert:hover {\n",
              "      background-color: #E2EBFA;\n",
              "      box-shadow: 0px 1px 2px rgba(60, 64, 67, 0.3), 0px 1px 3px 1px rgba(60, 64, 67, 0.15);\n",
              "      fill: #174EA6;\n",
              "    }\n",
              "\n",
              "    .colab-df-buttons div {\n",
              "      margin-bottom: 4px;\n",
              "    }\n",
              "\n",
              "    [theme=dark] .colab-df-convert {\n",
              "      background-color: #3B4455;\n",
              "      fill: #D2E3FC;\n",
              "    }\n",
              "\n",
              "    [theme=dark] .colab-df-convert:hover {\n",
              "      background-color: #434B5C;\n",
              "      box-shadow: 0px 1px 3px 1px rgba(0, 0, 0, 0.15);\n",
              "      filter: drop-shadow(0px 1px 2px rgba(0, 0, 0, 0.3));\n",
              "      fill: #FFFFFF;\n",
              "    }\n",
              "  </style>\n",
              "\n",
              "    <script>\n",
              "      const buttonEl =\n",
              "        document.querySelector('#df-1ac71267-c88e-43b0-a7d9-c6c782eeb677 button.colab-df-convert');\n",
              "      buttonEl.style.display =\n",
              "        google.colab.kernel.accessAllowed ? 'block' : 'none';\n",
              "\n",
              "      async function convertToInteractive(key) {\n",
              "        const element = document.querySelector('#df-1ac71267-c88e-43b0-a7d9-c6c782eeb677');\n",
              "        const dataTable =\n",
              "          await google.colab.kernel.invokeFunction('convertToInteractive',\n",
              "                                                    [key], {});\n",
              "        if (!dataTable) return;\n",
              "\n",
              "        const docLinkHtml = 'Like what you see? Visit the ' +\n",
              "          '<a target=\"_blank\" href=https://colab.research.google.com/notebooks/data_table.ipynb>data table notebook</a>'\n",
              "          + ' to learn more about interactive tables.';\n",
              "        element.innerHTML = '';\n",
              "        dataTable['output_type'] = 'display_data';\n",
              "        await google.colab.output.renderOutput(dataTable, element);\n",
              "        const docLink = document.createElement('div');\n",
              "        docLink.innerHTML = docLinkHtml;\n",
              "        element.appendChild(docLink);\n",
              "      }\n",
              "    </script>\n",
              "  </div>\n",
              "\n",
              "\n",
              "<div id=\"df-f10a0969-6edc-471d-8cd2-af15b5a8964d\">\n",
              "  <button class=\"colab-df-quickchart\" onclick=\"quickchart('df-f10a0969-6edc-471d-8cd2-af15b5a8964d')\"\n",
              "            title=\"Suggest charts\"\n",
              "            style=\"display:none;\">\n",
              "\n",
              "<svg xmlns=\"http://www.w3.org/2000/svg\" height=\"24px\"viewBox=\"0 0 24 24\"\n",
              "     width=\"24px\">\n",
              "    <g>\n",
              "        <path d=\"M19 3H5c-1.1 0-2 .9-2 2v14c0 1.1.9 2 2 2h14c1.1 0 2-.9 2-2V5c0-1.1-.9-2-2-2zM9 17H7v-7h2v7zm4 0h-2V7h2v10zm4 0h-2v-4h2v4z\"/>\n",
              "    </g>\n",
              "</svg>\n",
              "  </button>\n",
              "\n",
              "<style>\n",
              "  .colab-df-quickchart {\n",
              "      --bg-color: #E8F0FE;\n",
              "      --fill-color: #1967D2;\n",
              "      --hover-bg-color: #E2EBFA;\n",
              "      --hover-fill-color: #174EA6;\n",
              "      --disabled-fill-color: #AAA;\n",
              "      --disabled-bg-color: #DDD;\n",
              "  }\n",
              "\n",
              "  [theme=dark] .colab-df-quickchart {\n",
              "      --bg-color: #3B4455;\n",
              "      --fill-color: #D2E3FC;\n",
              "      --hover-bg-color: #434B5C;\n",
              "      --hover-fill-color: #FFFFFF;\n",
              "      --disabled-bg-color: #3B4455;\n",
              "      --disabled-fill-color: #666;\n",
              "  }\n",
              "\n",
              "  .colab-df-quickchart {\n",
              "    background-color: var(--bg-color);\n",
              "    border: none;\n",
              "    border-radius: 50%;\n",
              "    cursor: pointer;\n",
              "    display: none;\n",
              "    fill: var(--fill-color);\n",
              "    height: 32px;\n",
              "    padding: 0;\n",
              "    width: 32px;\n",
              "  }\n",
              "\n",
              "  .colab-df-quickchart:hover {\n",
              "    background-color: var(--hover-bg-color);\n",
              "    box-shadow: 0 1px 2px rgba(60, 64, 67, 0.3), 0 1px 3px 1px rgba(60, 64, 67, 0.15);\n",
              "    fill: var(--button-hover-fill-color);\n",
              "  }\n",
              "\n",
              "  .colab-df-quickchart-complete:disabled,\n",
              "  .colab-df-quickchart-complete:disabled:hover {\n",
              "    background-color: var(--disabled-bg-color);\n",
              "    fill: var(--disabled-fill-color);\n",
              "    box-shadow: none;\n",
              "  }\n",
              "\n",
              "  .colab-df-spinner {\n",
              "    border: 2px solid var(--fill-color);\n",
              "    border-color: transparent;\n",
              "    border-bottom-color: var(--fill-color);\n",
              "    animation:\n",
              "      spin 1s steps(1) infinite;\n",
              "  }\n",
              "\n",
              "  @keyframes spin {\n",
              "    0% {\n",
              "      border-color: transparent;\n",
              "      border-bottom-color: var(--fill-color);\n",
              "      border-left-color: var(--fill-color);\n",
              "    }\n",
              "    20% {\n",
              "      border-color: transparent;\n",
              "      border-left-color: var(--fill-color);\n",
              "      border-top-color: var(--fill-color);\n",
              "    }\n",
              "    30% {\n",
              "      border-color: transparent;\n",
              "      border-left-color: var(--fill-color);\n",
              "      border-top-color: var(--fill-color);\n",
              "      border-right-color: var(--fill-color);\n",
              "    }\n",
              "    40% {\n",
              "      border-color: transparent;\n",
              "      border-right-color: var(--fill-color);\n",
              "      border-top-color: var(--fill-color);\n",
              "    }\n",
              "    60% {\n",
              "      border-color: transparent;\n",
              "      border-right-color: var(--fill-color);\n",
              "    }\n",
              "    80% {\n",
              "      border-color: transparent;\n",
              "      border-right-color: var(--fill-color);\n",
              "      border-bottom-color: var(--fill-color);\n",
              "    }\n",
              "    90% {\n",
              "      border-color: transparent;\n",
              "      border-bottom-color: var(--fill-color);\n",
              "    }\n",
              "  }\n",
              "</style>\n",
              "\n",
              "  <script>\n",
              "    async function quickchart(key) {\n",
              "      const quickchartButtonEl =\n",
              "        document.querySelector('#' + key + ' button');\n",
              "      quickchartButtonEl.disabled = true;  // To prevent multiple clicks.\n",
              "      quickchartButtonEl.classList.add('colab-df-spinner');\n",
              "      try {\n",
              "        const charts = await google.colab.kernel.invokeFunction(\n",
              "            'suggestCharts', [key], {});\n",
              "      } catch (error) {\n",
              "        console.error('Error during call to suggestCharts:', error);\n",
              "      }\n",
              "      quickchartButtonEl.classList.remove('colab-df-spinner');\n",
              "      quickchartButtonEl.classList.add('colab-df-quickchart-complete');\n",
              "    }\n",
              "    (() => {\n",
              "      let quickchartButtonEl =\n",
              "        document.querySelector('#df-f10a0969-6edc-471d-8cd2-af15b5a8964d button');\n",
              "      quickchartButtonEl.style.display =\n",
              "        google.colab.kernel.accessAllowed ? 'block' : 'none';\n",
              "    })();\n",
              "  </script>\n",
              "</div>\n",
              "    </div>\n",
              "  </div>\n"
            ],
            "application/vnd.google.colaboratory.intrinsic+json": {
              "type": "dataframe",
              "variable_name": "df",
              "summary": "{\n  \"name\": \"df\",\n  \"rows\": 10000,\n  \"fields\": [\n    {\n      \"column\": \"original\",\n      \"properties\": {\n        \"dtype\": \"string\",\n        \"num_unique_values\": 9996,\n        \"samples\": [\n          \"He practiced in rural Mississippi for nine years. In 2007, he left Mississippi to pursue an academic career in Minnesota. Now he teaches family medicine residents and does research in health policy to improve access and care in the rural U.S.\",\n          \"He is currently associated with 32 Dental Spa in Baner, Pune. Don\\u2019t wait in a queue, book an instant appointment online with Dr. Aniruddha Kajale on Lybrate.com.\",\n          \"She has had her business over 9 years and as one of the top contemporary, family lifestyle photographers in the UK she produces images of pregnancy, newborn, babies of all sizes, children, families, teenagers (seniors), dogs and also has a commercial photography side to her business which is predominantly headshots as well as formal but approachable portraits for annual reports or PR purposes and lifestyle images for SME\\u2019s portfolios and website.\"\n        ],\n        \"semantic_type\": \"\",\n        \"description\": \"\"\n      }\n    },\n    {\n      \"column\": \"modified_sentences\",\n      \"properties\": {\n        \"dtype\": \"string\",\n        \"num_unique_values\": 9999,\n        \"samples\": [\n          \"Dr. Curry, the current President of Philosophy Born of Struggle, is the author of over 50 articles and book chapters on racism, white supremacy, Critical Race Theory, Hip-Hop, and Black male vulnerability. He is also the editor of The Philosophical Treatises of William H. Ferris\\u2019s The African Abroad and the author of The Man-Not and Another White Man\\u2019s Burden.\",\n          \"She relocated to Austin, Texas in 2008 and has since adopted the city as her own.\",\n          \"Beverleigh, with a clinical background in Transfusion, Haematology, and Bone Marrow Transplantation, actively engages in the transfusion nursing community. In her current position at the Blood Service, she oversees the creation of various educational events, materials, websites, and eLearning packages. Additionally, she contributes to material development for an international aid project in Cambodia.\"\n        ],\n        \"semantic_type\": \"\",\n        \"description\": \"\"\n      }\n    }\n  ]\n}"
            }
          },
          "metadata": {},
          "execution_count": 1
        }
      ],
      "source": [
        "import pandas as pd\n",
        "df = pd.read_csv('/content/Chatgpt 3.5 without prompt.csv', index_col=0)\n",
        "df"
      ]
    },
    {
      "cell_type": "code",
      "execution_count": null,
      "metadata": {
        "colab": {
          "base_uri": "https://localhost:8080/"
        },
        "id": "FYJlbN1H8Ru7",
        "outputId": "ee8fc980-84bb-48b8-8660-ddbee267acd6"
      },
      "outputs": [
        {
          "output_type": "stream",
          "name": "stdout",
          "text": [
            "                                            original  \\\n",
            "0  Tampio researches the history of political tho...   \n",
            "1  He has been a practicing Dentist for 11 years....   \n",
            "2  Mr. Miserez devotes a substantial portion of h...   \n",
            "3  She holds a master’s degree in nutrition educa...   \n",
            "4  She received her Ph.D. in 2013 from Florida In...   \n",
            "\n",
            "                                  modified_sentences  \n",
            "0  Tampio researches the history of political tho...  \n",
            "1  He has been a practicing Dentist for 11 years,...  \n",
            "2  Mr. Miserez devotes a substantial portion of h...  \n",
            "3  She holds a master’s degree in nutrition educa...  \n",
            "4  She received her Ph.D. in 2013 from Florida In...  \n"
          ]
        }
      ],
      "source": [
        "# Combine the three DataFrames into one DataFrame\n",
        "#combined_df = pd.concat([train_df, test_df, dev_df], axis=0)\n",
        "#combined_df = pd.concat([test_df, dev_df], axis=0)\n",
        "combined_df = pd.concat([df], axis=0)\n",
        "\n",
        "# Reset the index of the new combined DataFrame\n",
        "combined_df.reset_index(drop=True, inplace=True)\n",
        "\n",
        "# View the combined DataFrame\n",
        "print(combined_df.head())"
      ]
    },
    {
      "cell_type": "code",
      "execution_count": null,
      "metadata": {
        "colab": {
          "base_uri": "https://localhost:8080/",
          "height": 433
        },
        "id": "f5BX-pTj9s97",
        "outputId": "388ca157-9c1e-43ca-b946-ead288e0e051"
      },
      "outputs": [
        {
          "output_type": "execute_result",
          "data": {
            "text/plain": [
              "                                               original  \\\n",
              "0     Tampio researches the history of political tho...   \n",
              "1     He has been a practicing Dentist for 11 years....   \n",
              "2     Mr. Miserez devotes a substantial portion of h...   \n",
              "3     She holds a master’s degree in nutrition educa...   \n",
              "4     She received her Ph.D. in 2013 from Florida In...   \n",
              "...                                                 ...   \n",
              "9995  He grew up in an artist household where his pa...   \n",
              "9996  He has done a study on the death of Jesus and ...   \n",
              "9997  He is passionate about building up DC's queer ...   \n",
              "9998  In the last years she is enjoying part-time mo...   \n",
              "9999  Mr. Tartarilla practices medicine in Fort Walt...   \n",
              "\n",
              "                                     modified_sentences  \n",
              "0     Tampio researches the history of political tho...  \n",
              "1     He has been a practicing Dentist for 11 years,...  \n",
              "2     Mr. Miserez devotes a substantial portion of h...  \n",
              "3     She holds a master’s degree in nutrition educa...  \n",
              "4     She received her Ph.D. in 2013 from Florida In...  \n",
              "...                                                 ...  \n",
              "9995  He grew up in an artistic household where his ...  \n",
              "9996  Dr. Zugibe conducted a study on the death of J...  \n",
              "9997  He is passionate about building up DC's queer ...  \n",
              "9998  In recent years, she has been enjoying part-ti...  \n",
              "9999  Mr. Tartarilla practices medicine in Fort Walt...  \n",
              "\n",
              "[10000 rows x 2 columns]"
            ],
            "text/html": [
              "\n",
              "  <div id=\"df-0a6cb9a9-5561-488c-860d-78ab6f910433\" class=\"colab-df-container\">\n",
              "    <div>\n",
              "<style scoped>\n",
              "    .dataframe tbody tr th:only-of-type {\n",
              "        vertical-align: middle;\n",
              "    }\n",
              "\n",
              "    .dataframe tbody tr th {\n",
              "        vertical-align: top;\n",
              "    }\n",
              "\n",
              "    .dataframe thead th {\n",
              "        text-align: right;\n",
              "    }\n",
              "</style>\n",
              "<table border=\"1\" class=\"dataframe\">\n",
              "  <thead>\n",
              "    <tr style=\"text-align: right;\">\n",
              "      <th></th>\n",
              "      <th>original</th>\n",
              "      <th>modified_sentences</th>\n",
              "    </tr>\n",
              "  </thead>\n",
              "  <tbody>\n",
              "    <tr>\n",
              "      <th>0</th>\n",
              "      <td>Tampio researches the history of political tho...</td>\n",
              "      <td>Tampio researches the history of political tho...</td>\n",
              "    </tr>\n",
              "    <tr>\n",
              "      <th>1</th>\n",
              "      <td>He has been a practicing Dentist for 11 years....</td>\n",
              "      <td>He has been a practicing Dentist for 11 years,...</td>\n",
              "    </tr>\n",
              "    <tr>\n",
              "      <th>2</th>\n",
              "      <td>Mr. Miserez devotes a substantial portion of h...</td>\n",
              "      <td>Mr. Miserez devotes a substantial portion of h...</td>\n",
              "    </tr>\n",
              "    <tr>\n",
              "      <th>3</th>\n",
              "      <td>She holds a master’s degree in nutrition educa...</td>\n",
              "      <td>She holds a master’s degree in nutrition educa...</td>\n",
              "    </tr>\n",
              "    <tr>\n",
              "      <th>4</th>\n",
              "      <td>She received her Ph.D. in 2013 from Florida In...</td>\n",
              "      <td>She received her Ph.D. in 2013 from Florida In...</td>\n",
              "    </tr>\n",
              "    <tr>\n",
              "      <th>...</th>\n",
              "      <td>...</td>\n",
              "      <td>...</td>\n",
              "    </tr>\n",
              "    <tr>\n",
              "      <th>9995</th>\n",
              "      <td>He grew up in an artist household where his pa...</td>\n",
              "      <td>He grew up in an artistic household where his ...</td>\n",
              "    </tr>\n",
              "    <tr>\n",
              "      <th>9996</th>\n",
              "      <td>He has done a study on the death of Jesus and ...</td>\n",
              "      <td>Dr. Zugibe conducted a study on the death of J...</td>\n",
              "    </tr>\n",
              "    <tr>\n",
              "      <th>9997</th>\n",
              "      <td>He is passionate about building up DC's queer ...</td>\n",
              "      <td>He is passionate about building up DC's queer ...</td>\n",
              "    </tr>\n",
              "    <tr>\n",
              "      <th>9998</th>\n",
              "      <td>In the last years she is enjoying part-time mo...</td>\n",
              "      <td>In recent years, she has been enjoying part-ti...</td>\n",
              "    </tr>\n",
              "    <tr>\n",
              "      <th>9999</th>\n",
              "      <td>Mr. Tartarilla practices medicine in Fort Walt...</td>\n",
              "      <td>Mr. Tartarilla practices medicine in Fort Walt...</td>\n",
              "    </tr>\n",
              "  </tbody>\n",
              "</table>\n",
              "<p>10000 rows × 2 columns</p>\n",
              "</div>\n",
              "    <div class=\"colab-df-buttons\">\n",
              "\n",
              "  <div class=\"colab-df-container\">\n",
              "    <button class=\"colab-df-convert\" onclick=\"convertToInteractive('df-0a6cb9a9-5561-488c-860d-78ab6f910433')\"\n",
              "            title=\"Convert this dataframe to an interactive table.\"\n",
              "            style=\"display:none;\">\n",
              "\n",
              "  <svg xmlns=\"http://www.w3.org/2000/svg\" height=\"24px\" viewBox=\"0 -960 960 960\">\n",
              "    <path d=\"M120-120v-720h720v720H120Zm60-500h600v-160H180v160Zm220 220h160v-160H400v160Zm0 220h160v-160H400v160ZM180-400h160v-160H180v160Zm440 0h160v-160H620v160ZM180-180h160v-160H180v160Zm440 0h160v-160H620v160Z\"/>\n",
              "  </svg>\n",
              "    </button>\n",
              "\n",
              "  <style>\n",
              "    .colab-df-container {\n",
              "      display:flex;\n",
              "      gap: 12px;\n",
              "    }\n",
              "\n",
              "    .colab-df-convert {\n",
              "      background-color: #E8F0FE;\n",
              "      border: none;\n",
              "      border-radius: 50%;\n",
              "      cursor: pointer;\n",
              "      display: none;\n",
              "      fill: #1967D2;\n",
              "      height: 32px;\n",
              "      padding: 0 0 0 0;\n",
              "      width: 32px;\n",
              "    }\n",
              "\n",
              "    .colab-df-convert:hover {\n",
              "      background-color: #E2EBFA;\n",
              "      box-shadow: 0px 1px 2px rgba(60, 64, 67, 0.3), 0px 1px 3px 1px rgba(60, 64, 67, 0.15);\n",
              "      fill: #174EA6;\n",
              "    }\n",
              "\n",
              "    .colab-df-buttons div {\n",
              "      margin-bottom: 4px;\n",
              "    }\n",
              "\n",
              "    [theme=dark] .colab-df-convert {\n",
              "      background-color: #3B4455;\n",
              "      fill: #D2E3FC;\n",
              "    }\n",
              "\n",
              "    [theme=dark] .colab-df-convert:hover {\n",
              "      background-color: #434B5C;\n",
              "      box-shadow: 0px 1px 3px 1px rgba(0, 0, 0, 0.15);\n",
              "      filter: drop-shadow(0px 1px 2px rgba(0, 0, 0, 0.3));\n",
              "      fill: #FFFFFF;\n",
              "    }\n",
              "  </style>\n",
              "\n",
              "    <script>\n",
              "      const buttonEl =\n",
              "        document.querySelector('#df-0a6cb9a9-5561-488c-860d-78ab6f910433 button.colab-df-convert');\n",
              "      buttonEl.style.display =\n",
              "        google.colab.kernel.accessAllowed ? 'block' : 'none';\n",
              "\n",
              "      async function convertToInteractive(key) {\n",
              "        const element = document.querySelector('#df-0a6cb9a9-5561-488c-860d-78ab6f910433');\n",
              "        const dataTable =\n",
              "          await google.colab.kernel.invokeFunction('convertToInteractive',\n",
              "                                                    [key], {});\n",
              "        if (!dataTable) return;\n",
              "\n",
              "        const docLinkHtml = 'Like what you see? Visit the ' +\n",
              "          '<a target=\"_blank\" href=https://colab.research.google.com/notebooks/data_table.ipynb>data table notebook</a>'\n",
              "          + ' to learn more about interactive tables.';\n",
              "        element.innerHTML = '';\n",
              "        dataTable['output_type'] = 'display_data';\n",
              "        await google.colab.output.renderOutput(dataTable, element);\n",
              "        const docLink = document.createElement('div');\n",
              "        docLink.innerHTML = docLinkHtml;\n",
              "        element.appendChild(docLink);\n",
              "      }\n",
              "    </script>\n",
              "  </div>\n",
              "\n",
              "\n",
              "<div id=\"df-45d0e45c-6d00-4625-92b5-ee816f31889d\">\n",
              "  <button class=\"colab-df-quickchart\" onclick=\"quickchart('df-45d0e45c-6d00-4625-92b5-ee816f31889d')\"\n",
              "            title=\"Suggest charts\"\n",
              "            style=\"display:none;\">\n",
              "\n",
              "<svg xmlns=\"http://www.w3.org/2000/svg\" height=\"24px\"viewBox=\"0 0 24 24\"\n",
              "     width=\"24px\">\n",
              "    <g>\n",
              "        <path d=\"M19 3H5c-1.1 0-2 .9-2 2v14c0 1.1.9 2 2 2h14c1.1 0 2-.9 2-2V5c0-1.1-.9-2-2-2zM9 17H7v-7h2v7zm4 0h-2V7h2v10zm4 0h-2v-4h2v4z\"/>\n",
              "    </g>\n",
              "</svg>\n",
              "  </button>\n",
              "\n",
              "<style>\n",
              "  .colab-df-quickchart {\n",
              "      --bg-color: #E8F0FE;\n",
              "      --fill-color: #1967D2;\n",
              "      --hover-bg-color: #E2EBFA;\n",
              "      --hover-fill-color: #174EA6;\n",
              "      --disabled-fill-color: #AAA;\n",
              "      --disabled-bg-color: #DDD;\n",
              "  }\n",
              "\n",
              "  [theme=dark] .colab-df-quickchart {\n",
              "      --bg-color: #3B4455;\n",
              "      --fill-color: #D2E3FC;\n",
              "      --hover-bg-color: #434B5C;\n",
              "      --hover-fill-color: #FFFFFF;\n",
              "      --disabled-bg-color: #3B4455;\n",
              "      --disabled-fill-color: #666;\n",
              "  }\n",
              "\n",
              "  .colab-df-quickchart {\n",
              "    background-color: var(--bg-color);\n",
              "    border: none;\n",
              "    border-radius: 50%;\n",
              "    cursor: pointer;\n",
              "    display: none;\n",
              "    fill: var(--fill-color);\n",
              "    height: 32px;\n",
              "    padding: 0;\n",
              "    width: 32px;\n",
              "  }\n",
              "\n",
              "  .colab-df-quickchart:hover {\n",
              "    background-color: var(--hover-bg-color);\n",
              "    box-shadow: 0 1px 2px rgba(60, 64, 67, 0.3), 0 1px 3px 1px rgba(60, 64, 67, 0.15);\n",
              "    fill: var(--button-hover-fill-color);\n",
              "  }\n",
              "\n",
              "  .colab-df-quickchart-complete:disabled,\n",
              "  .colab-df-quickchart-complete:disabled:hover {\n",
              "    background-color: var(--disabled-bg-color);\n",
              "    fill: var(--disabled-fill-color);\n",
              "    box-shadow: none;\n",
              "  }\n",
              "\n",
              "  .colab-df-spinner {\n",
              "    border: 2px solid var(--fill-color);\n",
              "    border-color: transparent;\n",
              "    border-bottom-color: var(--fill-color);\n",
              "    animation:\n",
              "      spin 1s steps(1) infinite;\n",
              "  }\n",
              "\n",
              "  @keyframes spin {\n",
              "    0% {\n",
              "      border-color: transparent;\n",
              "      border-bottom-color: var(--fill-color);\n",
              "      border-left-color: var(--fill-color);\n",
              "    }\n",
              "    20% {\n",
              "      border-color: transparent;\n",
              "      border-left-color: var(--fill-color);\n",
              "      border-top-color: var(--fill-color);\n",
              "    }\n",
              "    30% {\n",
              "      border-color: transparent;\n",
              "      border-left-color: var(--fill-color);\n",
              "      border-top-color: var(--fill-color);\n",
              "      border-right-color: var(--fill-color);\n",
              "    }\n",
              "    40% {\n",
              "      border-color: transparent;\n",
              "      border-right-color: var(--fill-color);\n",
              "      border-top-color: var(--fill-color);\n",
              "    }\n",
              "    60% {\n",
              "      border-color: transparent;\n",
              "      border-right-color: var(--fill-color);\n",
              "    }\n",
              "    80% {\n",
              "      border-color: transparent;\n",
              "      border-right-color: var(--fill-color);\n",
              "      border-bottom-color: var(--fill-color);\n",
              "    }\n",
              "    90% {\n",
              "      border-color: transparent;\n",
              "      border-bottom-color: var(--fill-color);\n",
              "    }\n",
              "  }\n",
              "</style>\n",
              "\n",
              "  <script>\n",
              "    async function quickchart(key) {\n",
              "      const quickchartButtonEl =\n",
              "        document.querySelector('#' + key + ' button');\n",
              "      quickchartButtonEl.disabled = true;  // To prevent multiple clicks.\n",
              "      quickchartButtonEl.classList.add('colab-df-spinner');\n",
              "      try {\n",
              "        const charts = await google.colab.kernel.invokeFunction(\n",
              "            'suggestCharts', [key], {});\n",
              "      } catch (error) {\n",
              "        console.error('Error during call to suggestCharts:', error);\n",
              "      }\n",
              "      quickchartButtonEl.classList.remove('colab-df-spinner');\n",
              "      quickchartButtonEl.classList.add('colab-df-quickchart-complete');\n",
              "    }\n",
              "    (() => {\n",
              "      let quickchartButtonEl =\n",
              "        document.querySelector('#df-45d0e45c-6d00-4625-92b5-ee816f31889d button');\n",
              "      quickchartButtonEl.style.display =\n",
              "        google.colab.kernel.accessAllowed ? 'block' : 'none';\n",
              "    })();\n",
              "  </script>\n",
              "</div>\n",
              "    </div>\n",
              "  </div>\n"
            ],
            "application/vnd.google.colaboratory.intrinsic+json": {
              "type": "dataframe",
              "variable_name": "combined_df",
              "summary": "{\n  \"name\": \"combined_df\",\n  \"rows\": 10000,\n  \"fields\": [\n    {\n      \"column\": \"original\",\n      \"properties\": {\n        \"dtype\": \"string\",\n        \"num_unique_values\": 9996,\n        \"samples\": [\n          \"He practiced in rural Mississippi for nine years. In 2007, he left Mississippi to pursue an academic career in Minnesota. Now he teaches family medicine residents and does research in health policy to improve access and care in the rural U.S.\",\n          \"He is currently associated with 32 Dental Spa in Baner, Pune. Don\\u2019t wait in a queue, book an instant appointment online with Dr. Aniruddha Kajale on Lybrate.com.\",\n          \"She has had her business over 9 years and as one of the top contemporary, family lifestyle photographers in the UK she produces images of pregnancy, newborn, babies of all sizes, children, families, teenagers (seniors), dogs and also has a commercial photography side to her business which is predominantly headshots as well as formal but approachable portraits for annual reports or PR purposes and lifestyle images for SME\\u2019s portfolios and website.\"\n        ],\n        \"semantic_type\": \"\",\n        \"description\": \"\"\n      }\n    },\n    {\n      \"column\": \"modified_sentences\",\n      \"properties\": {\n        \"dtype\": \"string\",\n        \"num_unique_values\": 9999,\n        \"samples\": [\n          \"Dr. Curry, the current President of Philosophy Born of Struggle, is the author of over 50 articles and book chapters on racism, white supremacy, Critical Race Theory, Hip-Hop, and Black male vulnerability. He is also the editor of The Philosophical Treatises of William H. Ferris\\u2019s The African Abroad and the author of The Man-Not and Another White Man\\u2019s Burden.\",\n          \"She relocated to Austin, Texas in 2008 and has since adopted the city as her own.\",\n          \"Beverleigh, with a clinical background in Transfusion, Haematology, and Bone Marrow Transplantation, actively engages in the transfusion nursing community. In her current position at the Blood Service, she oversees the creation of various educational events, materials, websites, and eLearning packages. Additionally, she contributes to material development for an international aid project in Cambodia.\"\n        ],\n        \"semantic_type\": \"\",\n        \"description\": \"\"\n      }\n    }\n  ]\n}"
            }
          },
          "metadata": {},
          "execution_count": 3
        }
      ],
      "source": [
        "combined_df"
      ]
    },
    {
      "cell_type": "code",
      "execution_count": null,
      "metadata": {
        "id": "qVMn22Zn-KBp"
      },
      "outputs": [],
      "source": [
        "# Combine all Modified Sentences entries into a single string with <EOS> at the end of each entry\n",
        "text = ' <EOS> '.join(combined_df['modified_sentences'].astype(str)) + ' <EOS>'"
      ]
    },
    {
      "cell_type": "code",
      "execution_count": null,
      "metadata": {
        "colab": {
          "base_uri": "https://localhost:8080/"
        },
        "id": "QhQvdg535O7y",
        "outputId": "a09528ff-9fef-4477-8f46-60ce060a3bb7"
      },
      "outputs": [
        {
          "output_type": "stream",
          "name": "stdout",
          "text": [
            "ronhawk, and DJ Lisa Frank. <EOS> In recent years, she has been enjoying part-time modeling to build her portfolio, gain experience, and shape her modeling style. She is known for her unique sense of fashion and versatile style. She is somewhat shy and is 5′7ʺ / 170cm tall, born in 1996. <EOS> Mr. Tartarilla practices medicine in Fort Walton Beach, FL and specializes in Family Medicine. He is affiliated with Fort Walton Beach Medical Center and speaks English, French, Chinese, and Spanish. <EOS>\n",
            "3150634\n"
          ]
        }
      ],
      "source": [
        "# This is our corpus for training Skip-gram Word2Vec\n",
        "print(text[-500:])\n",
        "print(len(text))"
      ]
    },
    {
      "cell_type": "code",
      "execution_count": null,
      "metadata": {
        "colab": {
          "base_uri": "https://localhost:8080/",
          "height": 73
        },
        "id": "0nqDjuI-toJV",
        "outputId": "03f9f499-6711-4d34-83ae-6d0218b918d5"
      },
      "outputs": [
        {
          "output_type": "execute_result",
          "data": {
            "text/plain": [
              "\"Tampio researches the history of political thought, contemporary political theory, and education policy, exploring how political theorists renovate Kant's critical philosophy, explaining why A Thousan\""
            ],
            "application/vnd.google.colaboratory.intrinsic+json": {
              "type": "string"
            }
          },
          "metadata": {},
          "execution_count": 6
        }
      ],
      "source": [
        "text[0:200]"
      ]
    },
    {
      "cell_type": "code",
      "execution_count": null,
      "metadata": {
        "id": "uLCO8V6W7Ao7"
      },
      "outputs": [],
      "source": [
        "import time\n",
        "import torch\n",
        "from torch.utils.data import DataLoader, TensorDataset\n",
        "from torchtext.data.utils import get_tokenizer\n",
        "from torchtext.datasets import DATASETS\n",
        "from torchtext.vocab import build_vocab_from_iterator\n",
        "import torch.nn as nn\n",
        "from tqdm import tqdm\n",
        "import pickle\n",
        "import random\n",
        "import numpy as np\n",
        "from collections import Counter, defaultdict\n",
        "import numpy as np\n",
        "import matplotlib.pyplot as plt\n",
        "from sklearn.decomposition import PCA\n",
        "from gensim.test.utils import datapath, get_tmpfile\n",
        "from gensim.models import KeyedVectors\n",
        "import gensim.downloader\n",
        "from torch import FloatTensor as FT"
      ]
    },
    {
      "cell_type": "code",
      "execution_count": null,
      "metadata": {
        "id": "31b412ca"
      },
      "outputs": [],
      "source": [
        "# Where do I want to run my job. You can do \"cuda\" on linux machines.\n",
        "DEVICE = \"cuda\" if torch.cuda.is_available() else  \"cpu\"\n",
        "# The batch size in Adam or SGD.\n",
        "BATCH_SIZE = 256\n",
        "# Number of epochs.\n",
        "NUM_EPOCHS = 5\n",
        "# Predict from 2 words the inner word for CBOW.\n",
        "# I.e. I'll have a window like [\"a\", \"b\", \"c\"] of continuous text (each is a word).\n",
        "# We'll predict each of wc = [\"a\", \"c\"] from \"b\" = wc for Skip-Gram.\n",
        "# For CBOW, we'll use [\"a\", \"c\"] to predict \"b\" = wo.\n",
        "\n",
        "# This is *NOT* used. This is \"m\" in lecture. It is random for each center word. See below.\n",
        "WINDOW = 1\n",
        "\n",
        "# Negative samples.\n",
        "K = 4"
      ]
    },
    {
      "cell_type": "code",
      "execution_count": null,
      "metadata": {
        "id": "f1e88237",
        "colab": {
          "base_uri": "https://localhost:8080/"
        },
        "outputId": "47840b8c-44f8-48ff-acbd-a70403553c67"
      },
      "outputs": [
        {
          "output_type": "stream",
          "name": "stdout",
          "text": [
            "cuda\n"
          ]
        }
      ],
      "source": [
        "print(DEVICE)"
      ]
    },
    {
      "cell_type": "code",
      "execution_count": null,
      "metadata": {
        "id": "1ac4e787"
      },
      "outputs": [],
      "source": [
        "punc = '!\"#$%&()*+,-./:;=?@[\\\\]^_\\'{|}~\\t\\n'\n",
        "\n",
        "# Can do regular expressions here too.\n",
        "for c in punc:\n",
        "    if c in text:\n",
        "        text = text.replace(c, '')"
      ]
    },
    {
      "cell_type": "code",
      "execution_count": null,
      "metadata": {
        "id": "vTOaLeN47NZR",
        "colab": {
          "base_uri": "https://localhost:8080/",
          "height": 73
        },
        "outputId": "d6f8ab6e-7610-41f5-e9a3-e27dca7f9b0e"
      },
      "outputs": [
        {
          "output_type": "execute_result",
          "data": {
            "text/plain": [
              "'Tampio researches the history of political thought contemporary political theory and education policy exploring how political theorists renovate Kants critical philosophy explaining why A Thousand Pla'"
            ],
            "application/vnd.google.colaboratory.intrinsic+json": {
              "type": "string"
            }
          },
          "metadata": {},
          "execution_count": 11
        }
      ],
      "source": [
        "text[0:200]"
      ]
    },
    {
      "cell_type": "code",
      "execution_count": null,
      "metadata": {
        "id": "f3f2f4d4"
      },
      "outputs": [],
      "source": [
        "# A very crude tokenizer you get for free: lower case and also split on spaces.\n",
        "TOKENIZER = get_tokenizer(\"basic_english\")"
      ]
    },
    {
      "cell_type": "code",
      "execution_count": null,
      "metadata": {
        "id": "a7695b95"
      },
      "outputs": [],
      "source": [
        "words = TOKENIZER(text)\n",
        "f = Counter(words)"
      ]
    },
    {
      "cell_type": "code",
      "execution_count": null,
      "metadata": {
        "id": "2c5f9ce8",
        "colab": {
          "base_uri": "https://localhost:8080/"
        },
        "outputId": "91b6c059-8fee-4a35-de57-1f43d69fea73"
      },
      "outputs": [
        {
          "output_type": "execute_result",
          "data": {
            "text/plain": [
              "473610"
            ]
          },
          "metadata": {},
          "execution_count": 14
        }
      ],
      "source": [
        "len(words)"
      ]
    },
    {
      "cell_type": "code",
      "execution_count": null,
      "metadata": {
        "id": "6128f0aa"
      },
      "outputs": [],
      "source": [
        "# Do a very crude filter on the text\n",
        "text = [word for word in words if f[word] > 2]\n",
        "text = [word if word != '<eos>' else '<EOS>' for word in text]"
      ]
    },
    {
      "cell_type": "code",
      "execution_count": null,
      "metadata": {
        "id": "d089d13d",
        "colab": {
          "base_uri": "https://localhost:8080/"
        },
        "outputId": "27a86eec-668b-433e-aa29-e9d9c472d959"
      },
      "outputs": [
        {
          "output_type": "execute_result",
          "data": {
            "text/plain": [
              "['researches',\n",
              " 'the',\n",
              " 'history',\n",
              " 'of',\n",
              " 'political',\n",
              " 'thought',\n",
              " 'contemporary',\n",
              " 'political',\n",
              " 'theory',\n",
              " 'and']"
            ]
          },
          "metadata": {},
          "execution_count": 16
        }
      ],
      "source": [
        "text[0:10]"
      ]
    },
    {
      "cell_type": "code",
      "execution_count": null,
      "metadata": {
        "id": "11f47bda"
      },
      "outputs": [],
      "source": [
        "VOCAB = build_vocab_from_iterator([text], specials=[\"<EOS>\"])"
      ]
    },
    {
      "cell_type": "code",
      "execution_count": null,
      "metadata": {
        "id": "BvtWROj7cN10",
        "colab": {
          "base_uri": "https://localhost:8080/"
        },
        "outputId": "94652ddc-eb00-4701-9437-f83dade1a266"
      },
      "outputs": [
        {
          "output_type": "execute_result",
          "data": {
            "text/plain": [
              "10164"
            ]
          },
          "metadata": {},
          "execution_count": 18
        }
      ],
      "source": [
        "len(VOCAB)"
      ]
    },
    {
      "cell_type": "code",
      "execution_count": null,
      "metadata": {
        "id": "UNl7ACxCbM17"
      },
      "outputs": [],
      "source": [
        "# word -> int hash map.\n",
        "stoi = VOCAB.get_stoi()\n",
        "# int -> word hash map.\n",
        "itos = VOCAB.get_itos()"
      ]
    },
    {
      "cell_type": "code",
      "execution_count": null,
      "metadata": {
        "id": "PFZKt5rFHIXV",
        "colab": {
          "base_uri": "https://localhost:8080/"
        },
        "outputId": "90d369b2-9f20-4e66-98fe-3ea95b5e3afb"
      },
      "outputs": [
        {
          "output_type": "execute_result",
          "data": {
            "text/plain": [
              "0"
            ]
          },
          "metadata": {},
          "execution_count": 20
        }
      ],
      "source": [
        "stoi['<EOS>']"
      ]
    },
    {
      "cell_type": "code",
      "execution_count": null,
      "metadata": {
        "id": "53bba0d1",
        "colab": {
          "base_uri": "https://localhost:8080/"
        },
        "outputId": "14f9fb49-aae2-40e4-c5e7-d49d33f8ba66"
      },
      "outputs": [
        {
          "output_type": "execute_result",
          "data": {
            "text/plain": [
              "19"
            ]
          },
          "metadata": {},
          "execution_count": 21
        }
      ],
      "source": [
        "stoi['as']"
      ]
    },
    {
      "cell_type": "code",
      "execution_count": null,
      "metadata": {
        "id": "8e2ff447",
        "colab": {
          "base_uri": "https://localhost:8080/"
        },
        "outputId": "ded87918-6421-458e-ea8b-6c593d6e81dc"
      },
      "outputs": [
        {
          "output_type": "execute_result",
          "data": {
            "text/plain": [
              "10164"
            ]
          },
          "metadata": {},
          "execution_count": 22
        }
      ],
      "source": [
        "# Total number of words.\n",
        "len(stoi)"
      ]
    },
    {
      "cell_type": "code",
      "execution_count": null,
      "metadata": {
        "id": "b4f4d652"
      },
      "outputs": [],
      "source": [
        "f = Counter(text)\n",
        "# This is the probability that we pick a word in the corpus.\n",
        "z = {word: f[word] / len(text) for word in f}"
      ]
    },
    {
      "cell_type": "code",
      "execution_count": null,
      "metadata": {
        "id": "13c8c565"
      },
      "outputs": [],
      "source": [
        "threshold = 1e-5\n",
        "# Probability that word is kept while subsampling.\n",
        "# This is explained here and sightly differet from the paper: http://mccormickml.com/2017/01/11/word2vec-tutorial-part-2-negative-sampling/\n",
        "p_keep = {word: (np.sqrt(z[word] / 0.001) + 1)*(0.0001 / z[word]) for word in f}"
      ]
    },
    {
      "cell_type": "code",
      "execution_count": null,
      "metadata": {
        "id": "368bb139"
      },
      "outputs": [],
      "source": [
        "# This is in the integer space.\n",
        "train_dataset = [word for word in text if random.random() < p_keep[word]]\n",
        "\n",
        "# Rebuild the vocabulary.\n",
        "VOCAB = build_vocab_from_iterator([train_dataset], specials=[\"<EOS>\"])"
      ]
    },
    {
      "cell_type": "code",
      "execution_count": null,
      "metadata": {
        "id": "bcf29691",
        "colab": {
          "base_uri": "https://localhost:8080/"
        },
        "outputId": "f4144e9f-c2d7-498a-c989-86863a2532c9"
      },
      "outputs": [
        {
          "output_type": "execute_result",
          "data": {
            "text/plain": [
              "169337"
            ]
          },
          "metadata": {},
          "execution_count": 26
        }
      ],
      "source": [
        "len(train_dataset)"
      ]
    },
    {
      "cell_type": "code",
      "execution_count": null,
      "metadata": {
        "id": "507940fc"
      },
      "outputs": [],
      "source": [
        "# word -> int mapping.\n",
        "stoi = VOCAB.get_stoi()\n",
        "# int -> word mapping.\n",
        "itos = VOCAB.get_itos()"
      ]
    },
    {
      "cell_type": "code",
      "execution_count": null,
      "metadata": {
        "id": "Wqr-yvTDgemC",
        "colab": {
          "base_uri": "https://localhost:8080/"
        },
        "outputId": "8c5f143b-5c97-4d88-8075-94c650625264"
      },
      "outputs": [
        {
          "output_type": "execute_result",
          "data": {
            "text/plain": [
              "0"
            ]
          },
          "metadata": {},
          "execution_count": 28
        }
      ],
      "source": [
        "stoi['<EOS>']"
      ]
    },
    {
      "cell_type": "code",
      "execution_count": null,
      "metadata": {
        "id": "3a444e83",
        "colab": {
          "base_uri": "https://localhost:8080/"
        },
        "outputId": "221b41cf-190e-4daf-c997-84f53d51aabe"
      },
      "outputs": [
        {
          "output_type": "execute_result",
          "data": {
            "text/plain": [
              "10164"
            ]
          },
          "metadata": {},
          "execution_count": 29
        }
      ],
      "source": [
        "# The vocabulary size after we do all the filters.\n",
        "len(VOCAB)"
      ]
    },
    {
      "cell_type": "code",
      "execution_count": null,
      "metadata": {
        "id": "41cbbc14"
      },
      "outputs": [],
      "source": [
        "# The probability we draw something for negative sampling.\n",
        "f = Counter(train_dataset)\n",
        "p = torch.zeros(len(VOCAB))\n",
        "\n",
        "# Downsample frequent words and upsample less frequent.\n",
        "s = sum([np.power(freq, 0.75) for word, freq in f.items()])\n",
        "\n",
        "for word in f:\n",
        "    p[stoi[word]] = np.power(f[word], 0.75) / s"
      ]
    },
    {
      "cell_type": "code",
      "execution_count": null,
      "metadata": {
        "id": "4a2e7296"
      },
      "outputs": [],
      "source": [
        "# Map everything to integers.\n",
        "train_dataset = [stoi[word] for word in text]"
      ]
    },
    {
      "cell_type": "code",
      "execution_count": null,
      "metadata": {
        "id": "8e96c0c4"
      },
      "outputs": [],
      "source": [
        "# This just gets the (wc, wo) pairs that are positive - they are seen together!\n",
        "def get_tokenized_dataset(dataset, verbose=False):\n",
        "    x_list = []\n",
        "    sentence = []  # Temporary list to hold words of the current sentence\n",
        "\n",
        "    for i, token in enumerate(dataset):\n",
        "        if token == stoi['<EOS>'] or i == len(dataset) - 1:  # End of sentence or end of dataset\n",
        "            # Process the accumulated sentence\n",
        "            for j, wc in enumerate(sentence):\n",
        "                # Pick a random window size for each center word\n",
        "                m = random.randint(1, 5)\n",
        "\n",
        "                # Calculate start and end indices for context words within the sentence\n",
        "                start = max(0, j - m)\n",
        "                end = min(j + m + 1, len(sentence))\n",
        "\n",
        "                # Gather context words, excluding the center word itself\n",
        "                target_tokens = sentence[start:j] + sentence[j + 1:end]\n",
        "                if verbose:\n",
        "                  print(m)\n",
        "                  print(target_tokens)\n",
        "                # Extend x_list with (center word, context word) pairs\n",
        "                for wo in target_tokens:\n",
        "                    x_list.append([wc, wo])\n",
        "                    if verbose:\n",
        "                        print(f\"[{wc}, {wo}]\")\n",
        "\n",
        "            # Reset the sentence list after processing\n",
        "            sentence = []\n",
        "        else:\n",
        "            # Accumulate words of the current sentence\n",
        "            sentence.append(token)\n",
        "\n",
        "    return x_list\n"
      ]
    },
    {
      "cell_type": "code",
      "execution_count": null,
      "metadata": {
        "id": "F0PGvetQqKnU"
      },
      "outputs": [],
      "source": [
        "def get_tokenized_dataset(dataset, verbose=False):\n",
        "    x_list = []\n",
        "    sentence = []  # Temporary list to hold words (indices) of the current sentence\n",
        "\n",
        "    for i, token in enumerate(dataset):  # Iterate through the dataset\n",
        "        if token == stoi['<EOS>']:  # Check for end of sentence marker using its index\n",
        "            if verbose:\n",
        "                # When printing, you might want to convert indices back to words using `itos` for readability\n",
        "                readable_sentence = [itos[token] for token in sentence]\n",
        "                print(f\"Current sentence: {readable_sentence}\")\n",
        "            # Process the accumulated sentence\n",
        "            for j, wc in enumerate(sentence):\n",
        "                # Pick a random window size for each center word\n",
        "                #m = random.randint(1, int(len(sentence)/2))\n",
        "                m = int(len(sentence)/2)\n",
        "                # Calculate start and end indices for context words within the sentence\n",
        "                start = max(0, j - m)\n",
        "                end = min(j + m + 1, len(sentence))\n",
        "\n",
        "                # Gather context words, excluding the center word itself\n",
        "                target_tokens = sentence[start:j] + sentence[j + 1:end]\n",
        "\n",
        "                if verbose:\n",
        "                    readable_context = [itos[token] for token in target_tokens]\n",
        "                    print(f\"Center word: {itos[wc]}, Context: {readable_context}\")\n",
        "\n",
        "                # Extend x_list with (center word, context word) pairs\n",
        "                for wo in target_tokens:\n",
        "                    x_list.append([wc, wo])\n",
        "\n",
        "            # Reset the sentence list after processing\n",
        "            sentence = []\n",
        "        else:\n",
        "            # Accumulate words (indices) of the current sentence\n",
        "            sentence.append(token)\n",
        "\n",
        "    return x_list"
      ]
    },
    {
      "cell_type": "code",
      "execution_count": null,
      "metadata": {
        "id": "3eb82aad"
      },
      "outputs": [],
      "source": [
        "train_x_list = get_tokenized_dataset(train_dataset, verbose=False)"
      ]
    },
    {
      "cell_type": "code",
      "execution_count": null,
      "metadata": {
        "id": "utPARrdip8nB",
        "colab": {
          "base_uri": "https://localhost:8080/"
        },
        "outputId": "7510e34c-fa24-4976-87a4-609379caf015"
      },
      "outputs": [
        {
          "output_type": "execute_result",
          "data": {
            "text/plain": [
              "['in',\n",
              " 'family',\n",
              " 'medicine',\n",
              " 'he',\n",
              " 'is',\n",
              " 'affiliated',\n",
              " 'with',\n",
              " 'fort',\n",
              " 'walton',\n",
              " 'beach',\n",
              " 'medical',\n",
              " 'center',\n",
              " 'and',\n",
              " 'speaks',\n",
              " 'english',\n",
              " 'french',\n",
              " 'chinese',\n",
              " 'and',\n",
              " 'spanish',\n",
              " '<EOS>']"
            ]
          },
          "metadata": {},
          "execution_count": 35
        }
      ],
      "source": [
        "text[-20:]"
      ]
    },
    {
      "cell_type": "code",
      "execution_count": null,
      "metadata": {
        "id": "8412ee4d"
      },
      "outputs": [],
      "source": [
        "pickle.dump(train_x_list, open('train_x_list.pkl', 'wb'))"
      ]
    },
    {
      "cell_type": "code",
      "execution_count": null,
      "metadata": {
        "id": "3fd54caf"
      },
      "outputs": [],
      "source": [
        "train_x_list = pickle.load(open('train_x_list.pkl', 'rb'))"
      ]
    },
    {
      "cell_type": "code",
      "execution_count": null,
      "metadata": {
        "colab": {
          "base_uri": "https://localhost:8080/"
        },
        "id": "576765f3",
        "outputId": "eb49650f-f443-4868-8b9a-11bf0602e644"
      },
      "outputs": [
        {
          "output_type": "execute_result",
          "data": {
            "text/plain": [
              "[[77, 7934],\n",
              " [77, 1345],\n",
              " [77, 23],\n",
              " [77, 27],\n",
              " [77, 1],\n",
              " [77, 98],\n",
              " [77, 64],\n",
              " [77, 355],\n",
              " [77, 1070],\n",
              " [77, 1]]"
            ]
          },
          "metadata": {},
          "execution_count": 38
        }
      ],
      "source": [
        "# These are (wc, wo) pairs. All are y = +1 by design.\n",
        "train_x_list[-10:]"
      ]
    },
    {
      "cell_type": "code",
      "execution_count": null,
      "metadata": {
        "colab": {
          "base_uri": "https://localhost:8080/"
        },
        "id": "8137dbd6",
        "outputId": "65be4c60-d8c2-450d-b8a0-2d9325014b11"
      },
      "outputs": [
        {
          "output_type": "execute_result",
          "data": {
            "text/plain": [
              "70831"
            ]
          },
          "metadata": {},
          "execution_count": 39
        }
      ],
      "source": [
        "# The number of things of BATCH_SIZE = 512.\n",
        "len(train_x_list) // BATCH_SIZE"
      ]
    },
    {
      "cell_type": "code",
      "execution_count": null,
      "metadata": {
        "id": "9952d8d5"
      },
      "outputs": [],
      "source": []
    },
    {
      "cell_type": "markdown",
      "metadata": {
        "id": "77f04be5"
      },
      "source": [
        "### Set up the dataloader."
      ]
    },
    {
      "cell_type": "code",
      "execution_count": null,
      "metadata": {
        "id": "2e31ae4b"
      },
      "outputs": [],
      "source": [
        "train_dl = DataLoader(\n",
        "    TensorDataset(\n",
        "        torch.tensor(train_x_list).to(DEVICE),\n",
        "    ),\n",
        "    batch_size=BATCH_SIZE,\n",
        "    shuffle=True\n",
        ")"
      ]
    },
    {
      "cell_type": "markdown",
      "metadata": {
        "id": "12d93d22"
      },
      "source": [
        "### Words we'll use to asses the quality of the model ..."
      ]
    },
    {
      "cell_type": "code",
      "execution_count": null,
      "metadata": {
        "id": "ffada8d0"
      },
      "outputs": [],
      "source": [
        "valid_ids = torch.tensor([\n",
        "    stoi['women'],\n",
        "    stoi['men'],\n",
        "    stoi['nurse'],\n",
        "    stoi['doctor'],\n",
        "    stoi['engineer'],\n",
        "    stoi['teacher'],\n",
        "    stoi['dietitian'],\n",
        "])"
      ]
    },
    {
      "cell_type": "code",
      "execution_count": null,
      "metadata": {
        "id": "13f64b87"
      },
      "outputs": [],
      "source": []
    },
    {
      "cell_type": "markdown",
      "metadata": {
        "id": "64096cd8"
      },
      "source": [
        "### Get the model\n",
        "- See docs for nn.Embedding: https://pytorch.org/docs/stable/generated/torch.nn.Embedding.html\n",
        "- The same: nn.Embedding (2) = nn.Embedding.weight * oneHot(2)"
      ]
    },
    {
      "cell_type": "code",
      "execution_count": null,
      "metadata": {
        "id": "dc51c359"
      },
      "outputs": [],
      "source": [
        "class SkipGramNegativeSampling(nn.Module):\n",
        "    def __init__(self, vocab_size, embed_dim):\n",
        "        super(SkipGramNegativeSampling, self).__init__()\n",
        "        self.A = nn.Embedding(vocab_size, embed_dim) # Context vectors - center word.\n",
        "        self.B = nn.Embedding(vocab_size, embed_dim) # Output vectors - words around the center word.\n",
        "        self.init_weights()\n",
        "\n",
        "    def init_weights(self):\n",
        "        # Is this the best way? Not sure.\n",
        "        initrange = 0.5\n",
        "        self.A.weight.data.uniform_(-initrange, initrange)\n",
        "        self.B.weight.data.uniform_(-initrange, initrange)\n",
        "\n",
        "    def forward(self, x):\n",
        "        # N is the batch size.\n",
        "        # x is (N, 2)\n",
        "\n",
        "        # Each of these is (N, 1)\n",
        "        wc, wo = x[:, 0], x[:, 1]\n",
        "\n",
        "        # Each of these is (N, 1, D) since each context has 1 word.\n",
        "        a = self.A(wc)\n",
        "\n",
        "        # Each of these is (N, 1, D) since each target has 1 word.\n",
        "        b = self.B(wo)\n",
        "\n",
        "        # The product between each context and target vector.\n",
        "        # Each of these is (N, 1, D) since each batch has 1 word.\n",
        "        # The logits is now (N, 1) since we sum across the final dimension.\n",
        "        logits = (a * b).sum(axis=-1)\n",
        "\n",
        "        return logits"
      ]
    },
    {
      "cell_type": "code",
      "execution_count": null,
      "metadata": {
        "id": "7ae817c1"
      },
      "outputs": [],
      "source": []
    },
    {
      "cell_type": "code",
      "execution_count": null,
      "metadata": {
        "id": "ed9c509d"
      },
      "outputs": [],
      "source": [
        "@torch.no_grad()\n",
        "def validate_embeddings(\n",
        "    model,\n",
        "    valid_ids,\n",
        "    itos\n",
        "):\n",
        "    \"\"\" Validation logic \"\"\"\n",
        "\n",
        "    # We will use context embeddings to get the most similar words\n",
        "    # Other strategies include: using target embeddings, mean embeddings after avaraging context/target\n",
        "    embedding_weights = model.A.weight\n",
        "\n",
        "    normalized_embeddings = embedding_weights.cpu() / np.sqrt(\n",
        "        np.sum(embedding_weights.cpu().numpy()**2, axis=1, keepdims=True)\n",
        "    )\n",
        "\n",
        "    # Get the embeddings corresponding to valid_term_ids\n",
        "    valid_embeddings = normalized_embeddings[valid_ids, :]\n",
        "\n",
        "    # Compute the similarity between valid_term_ids (S) and all the embeddings (V).\n",
        "    # We do S x d (d x V) => S x D and sort by negative similarity.\n",
        "    top_k = 10 # Top k items will be displayed.\n",
        "    similarity = np.dot(valid_embeddings.cpu().numpy(), normalized_embeddings.cpu().numpy().T)\n",
        "\n",
        "    # Invert similarity matrix to negative\n",
        "    # Ignore the first one because that would be the same word as the probe word\n",
        "    similarity_top_k = np.argsort(-similarity, axis=1)[:, 1: top_k+1]\n",
        "\n",
        "    # Print the output.\n",
        "    for i, word_id in enumerate(valid_ids):\n",
        "        # j >= 1 here since we don't want to include the word itself.\n",
        "        similar_word_str = ', '.join([itos[j] for j in similarity_top_k[i, :] if j >= 1])\n",
        "        print(f\"{itos[word_id]}: {similar_word_str}\")\n",
        "\n",
        "    print('\\n')"
      ]
    },
    {
      "cell_type": "code",
      "execution_count": null,
      "metadata": {
        "id": "b0c194b8"
      },
      "outputs": [],
      "source": []
    },
    {
      "cell_type": "markdown",
      "metadata": {
        "id": "3b3c6ed5"
      },
      "source": [
        "### Set up the model"
      ]
    },
    {
      "cell_type": "code",
      "execution_count": null,
      "metadata": {
        "id": "95118499"
      },
      "outputs": [],
      "source": [
        "LR = 10.0\n",
        "NUM_EPOCHS = 5\n",
        "EMBED_DIM = 300"
      ]
    },
    {
      "cell_type": "code",
      "execution_count": null,
      "metadata": {
        "id": "cef585f4"
      },
      "outputs": [],
      "source": [
        "model = SkipGramNegativeSampling(len(VOCAB), EMBED_DIM).to(DEVICE)\n",
        "optimizer = torch.optim.SGD(model.parameters(), lr=LR)\n",
        "# The learning rate is lowered every epoch by 1/10.\n",
        "# Is this a good idea?\n",
        "scheduler = torch.optim.lr_scheduler.StepLR(optimizer, step_size=1, gamma=0.1)"
      ]
    },
    {
      "cell_type": "code",
      "execution_count": null,
      "metadata": {
        "colab": {
          "base_uri": "https://localhost:8080/"
        },
        "id": "f8a642bf",
        "outputId": "6c68cfcf-8d4b-40ff-9277-d0a08a57ae6e"
      },
      "outputs": [
        {
          "output_type": "execute_result",
          "data": {
            "text/plain": [
              "SkipGramNegativeSampling(\n",
              "  (A): Embedding(10164, 300)\n",
              "  (B): Embedding(10164, 300)\n",
              ")"
            ]
          },
          "metadata": {},
          "execution_count": 46
        }
      ],
      "source": [
        "model"
      ]
    },
    {
      "cell_type": "code",
      "execution_count": null,
      "metadata": {
        "colab": {
          "base_uri": "https://localhost:8080/"
        },
        "id": "85773616",
        "outputId": "803cc873-5e7e-4249-e6ca-2e8ca27b7036"
      },
      "outputs": [
        {
          "output_type": "stream",
          "name": "stdout",
          "text": [
            "women: shapiro, workers, boon, captivating, k12, highperformance, prix, rich, mesa, remove\n",
            "men: evan, dynamics, idaho, peripheral, thousand, mundane, chicken, forsyth, authority, teaches\n",
            "nurse: bradford, png, white, kavli, college’s, appearance, daughter, amazon, resilient, liability\n",
            "doctor: educates, freshman, procedural, bi, psychohistory, financings, campaign, barbara, scholastic, acting\n",
            "engineer: participation, ip, hopkinsville, campaigns, anand, neuroscience, adaptation, 928, workers, phenomenon\n",
            "teacher: nyc, devices, macintosh, suitable, inputs, unlv, folded, allocation, gold, becnel\n",
            "dietitian: passion, now, activity, disaster, reuters, daughter, interaction, karen, hospitality, unlikely\n",
            "\n",
            "\n"
          ]
        }
      ],
      "source": [
        "validate_embeddings(model, valid_ids, itos)"
      ]
    },
    {
      "cell_type": "code",
      "execution_count": null,
      "metadata": {
        "id": "7867ee3c"
      },
      "outputs": [],
      "source": []
    },
    {
      "cell_type": "markdown",
      "metadata": {
        "id": "86476e2a"
      },
      "source": [
        "### Train the model"
      ]
    },
    {
      "cell_type": "code",
      "execution_count": null,
      "metadata": {
        "id": "24950481"
      },
      "outputs": [],
      "source": [
        "def train(dataloader, model, optimizer, epoch):\n",
        "    model.train()\n",
        "    total_acc, total_count, total_loss, total_batches = 0, 0, 0.0, 0.0\n",
        "    log_interval = 500\n",
        "\n",
        "    for idx, x_batch in tqdm(enumerate(dataloader)):\n",
        "\n",
        "        x_batch = x_batch[0]\n",
        "\n",
        "        batch_size = x_batch.shape[0]\n",
        "\n",
        "        optimizer.zero_grad()\n",
        "\n",
        "        logits = model(x_batch)\n",
        "\n",
        "        # Get the positive samples loss. Notice we use weights here\n",
        "        positive_loss = torch.nn.BCEWithLogitsLoss()(input=logits, target=torch.ones(batch_size).to(DEVICE).float())\n",
        "\n",
        "        # For each batch, get some negative samples\n",
        "        # We need a total of B * 2 * WINDOW * K samples across a batch\n",
        "        # We then reshape this batch\n",
        "        # These are effectively the output words\n",
        "        negative_samples = torch.multinomial(p, batch_size * K, replacement=True)\n",
        "\n",
        "        # Repeat the center word enough times so we can merge as needed\n",
        "        # Repeat does not work on MPS apparently\n",
        "        wc = x_batch[:, 0].to(\"cpu\").repeat(K).sort().values\n",
        "        wo = negative_samples\n",
        "\n",
        "        # Get the negative samples\n",
        "        x_batch_negative = torch.stack([wc, wo], axis=1).to(DEVICE)\n",
        "\n",
        "        \"\"\"\n",
        "        Note the way we formulated the targets: they are all 0 since these are negative samples.\n",
        "        We do the BCEWithLogitsLoss by hand basically here.\n",
        "        Notice we sum across the negative samples, per positive word.\n",
        "\n",
        "        This is literally the equation in the lecture notes.\n",
        "        \"\"\"\n",
        "        negative_loss = model(x_batch_negative).neg().sigmoid().log().reshape(\n",
        "            batch_size, K\n",
        "        ).sum(1).mean().neg().to(DEVICE)\n",
        "\n",
        "        loss = (positive_loss + negative_loss).mean()\n",
        "\n",
        "        # Get the gradients via back propagation\n",
        "        loss.backward()\n",
        "\n",
        "        # Clip the gradients? Generally a good idea\n",
        "        torch.nn.utils.clip_grad_norm_(model.parameters(), 0.1)\n",
        "\n",
        "        # Do an optimization step. Update the parameters A and B\n",
        "        optimizer.step()\n",
        "        total_loss += loss.item()\n",
        "        total_batches += 1\n",
        "\n",
        "        if idx % log_interval == 0:\n",
        "            print(\n",
        "                \"| epoch {:3d} | {:5d}/{:5d} batches \"\n",
        "                \"| loss {:8.3f} \".format(\n",
        "                    epoch,\n",
        "                    idx,\n",
        "                    len(dataloader),\n",
        "                    total_loss / total_batches\n",
        "                )\n",
        "            )\n",
        "            validate_embeddings(model, valid_ids, itos)\n",
        "            total_loss, total_batches = 0.0, 0.0"
      ]
    },
    {
      "cell_type": "markdown",
      "metadata": {
        "id": "61fe7e0d"
      },
      "source": [
        "### Some results from the run look like below:"
      ]
    },
    {
      "cell_type": "code",
      "execution_count": null,
      "metadata": {
        "colab": {
          "base_uri": "https://localhost:8080/"
        },
        "id": "a9e02c09",
        "outputId": "30340ac4-28bb-4cf4-c36c-f6f3313493a0"
      },
      "outputs": [
        {
          "metadata": {
            "tags": null
          },
          "name": "stderr",
          "output_type": "stream",
          "text": [
            "1it [00:02,  2.95s/it]"
          ]
        },
        {
          "metadata": {
            "tags": null
          },
          "name": "stdout",
          "output_type": "stream",
          "text": [
            "| epoch   1 |     0/70832 batches | loss    4.751 \n",
            "women: shapiro, workers, boon, captivating, k12, highperformance, prix, rich, mesa, remove\n",
            "men: evan, dynamics, idaho, peripheral, thousand, mundane, chicken, forsyth, authority, teaches\n",
            "nurse: bradford, png, white, kavli, college’s, appearance, daughter, amazon, resilient, liability\n",
            "doctor: educates, freshman, procedural, bi, psychohistory, financings, campaign, barbara, scholastic, acting\n",
            "engineer: participation, ip, hopkinsville, campaigns, anand, neuroscience, adaptation, 928, workers, phenomenon\n",
            "teacher: nyc, devices, macintosh, suitable, inputs, unlv, folded, allocation, gold, becnel\n",
            "dietitian: passion, now, activity, disaster, reuters, daughter, interaction, karen, hospitality, unlikely\n",
            "\n",
            "\n"
          ]
        },
        {
          "metadata": {
            "tags": null
          },
          "name": "stderr",
          "output_type": "stream",
          "text": [
            "529it [00:05, 230.16it/s]"
          ]
        },
        {
          "metadata": {
            "tags": null
          },
          "name": "stdout",
          "output_type": "stream",
          "text": [
            "| epoch   1 |   500/70832 batches | loss    4.120 \n",
            "women: shapiro, workers, boon, k12, captivating, highperformance, prix, rich, mesa, remove\n",
            "men: dynamics, evan, idaho, peripheral, which, chicken, thousand, forsyth, mundane, teaches\n",
            "nurse: bradford, png, white, college’s, amazon, fiduciary, daughter, abused, prizes, exploration\n",
            "doctor: educates, procedural, freshman, barbara, bi, psychohistory, financings, campaign, scholastic, classification\n",
            "engineer: participation, hopkinsville, campaigns, ip, anand, adaptation, neuroscience, 928, workers, fellow\n",
            "teacher: nyc, devices, inputs, macintosh, gold, suitable, folded, allocation, chairs, combined\n",
            "dietitian: passion, now, activity, disaster, reuters, daughter, interaction, karen, hospitality, unlikely\n",
            "\n",
            "\n"
          ]
        },
        {
          "metadata": {
            "tags": null
          },
          "name": "stderr",
          "output_type": "stream",
          "text": [
            "1027it [00:07, 225.98it/s]"
          ]
        },
        {
          "metadata": {
            "tags": null
          },
          "name": "stdout",
          "output_type": "stream",
          "text": [
            "| epoch   1 |  1000/70832 batches | loss    3.640 \n",
            "women: workers, shapiro, boon, rich, prix, remove, k12, highperformance, desires, captivating\n",
            "men: evan, dynamics, which, idaho, peripheral, forsyth, thousand, mundane, chicken, teaches\n",
            "nurse: bradford, white, png, paths, abused, book, amazon, daughter, kavli, exploration\n",
            "doctor: freshman, procedural, educates, barbara, classification, bi, acting, psychohistory, campaign, lectured\n",
            "engineer: participation, ip, hopkinsville, campaigns, neuroscience, adaptation, 928, anand, workers, penny\n",
            "teacher: nyc, macintosh, inputs, devices, gold, folded, suitable, and, caucus, allocation\n",
            "dietitian: passion, now, activity, disaster, daughter, reuters, interaction, karen, hospitality, fire\n",
            "\n",
            "\n"
          ]
        },
        {
          "metadata": {
            "tags": null
          },
          "name": "stderr",
          "output_type": "stream",
          "text": [
            "1524it [00:09, 223.91it/s]"
          ]
        },
        {
          "metadata": {
            "tags": null
          },
          "name": "stdout",
          "output_type": "stream",
          "text": [
            "| epoch   1 |  1500/70832 batches | loss    3.257 \n",
            "women: workers, boon, shapiro, theory, practice, rich, was, remove, k12, desires\n",
            "men: which, dynamics, evan, thousand, idaho, mundane, peripheral, forsyth, chicken, authority\n",
            "nurse: he, to, with, has, on, his, research, a, of, from\n",
            "doctor: freshman, classification, procedural, barbara, acting, include, psychohistory, bi, lectured, educates\n",
            "engineer: participation, hopkinsville, ip, campaigns, neuroscience, adaptation, 928, anand, penny, workers\n",
            "teacher: his, in, she, university, is, medical, been, a, with, at\n",
            "dietitian: passion, now, activity, disaster, daughter, reuters, interaction, karen, hospitality, encounters\n",
            "\n",
            "\n"
          ]
        },
        {
          "metadata": {
            "tags": null
          },
          "name": "stderr",
          "output_type": "stream",
          "text": [
            "2022it [00:10, 220.88it/s]"
          ]
        },
        {
          "metadata": {
            "tags": null
          },
          "name": "stdout",
          "output_type": "stream",
          "text": [
            "| epoch   1 |  2000/70832 batches | loss    2.982 \n",
            "women: was, theory, practice, currently, years, on, and, an, has, he\n",
            "men: dynamics, evan, which, thousand, idaho, mundane, peripheral, chicken, forsyth, authority\n",
            "nurse: to, he, and, his, research, a, with, has, is, as\n",
            "doctor: include, hospital, center, an, at, university, her, of, she, with\n",
            "engineer: participation, ip, campaigns, hopkinsville, neuroscience, adaptation, penny, algorithms, 928, workers\n",
            "teacher: his, he, been, and, university, research, she, medical, an, is\n",
            "dietitian: passion, now, disaster, activity, daughter, reuters, karen, hospitality, rhinoplasty, encounters\n",
            "\n",
            "\n"
          ]
        },
        {
          "metadata": {
            "tags": null
          },
          "name": "stderr",
          "output_type": "stream",
          "text": [
            "2526it [00:12, 231.69it/s]"
          ]
        },
        {
          "metadata": {
            "tags": null
          },
          "name": "stdout",
          "output_type": "stream",
          "text": [
            "| epoch   1 |  2500/70832 batches | loss    2.797 \n",
            "women: was, currently, on, practice, years, also, theory, an, the, new\n",
            "men: dynamics, evan, thousand, idaho, peripheral, chicken, mundane, forsyth, authority, valuation\n",
            "nurse: with, to, he, research, is, has, his, received, for, a\n",
            "doctor: include, hospital, center, the, an, she, of, with, her, university\n",
            "engineer: participation, campaigns, ip, hopkinsville, neuroscience, penny, adaptation, algorithms, phenomenon, 928\n",
            "teacher: research, his, been, he, at, with, an, to, from, also\n",
            "dietitian: passion, now, activity, reuters, disaster, daughter, hospitality, rhinoplasty, karen, encounters\n",
            "\n",
            "\n"
          ]
        },
        {
          "metadata": {
            "tags": null
          },
          "name": "stderr",
          "output_type": "stream",
          "text": [
            "3026it [00:14, 230.92it/s]"
          ]
        },
        {
          "metadata": {
            "tags": null
          },
          "name": "stdout",
          "output_type": "stream",
          "text": [
            "| epoch   1 |  3000/70832 batches | loss    2.650 \n",
            "women: currently, was, also, years, an, practice, a, on, dr, he\n",
            "men: dynamics, evan, thousand, idaho, peripheral, mundane, forsyth, chicken, authority, valuation\n",
            "nurse: and, from, the, in, at, with, received, has, research, a\n",
            "doctor: include, center, hospital, an, she, university, he, of, from, american\n",
            "engineer: participation, campaigns, neuroscience, ip, interests, fellow, hopkinsville, phenomenon, algorithms, adaptation\n",
            "teacher: been, at, his, from, research, years, and, school, health, with\n",
            "dietitian: passion, now, activity, reuters, disaster, daughter, hospitality, rhinoplasty, encounters, karen\n",
            "\n",
            "\n"
          ]
        },
        {
          "metadata": {
            "tags": null
          },
          "name": "stderr",
          "output_type": "stream",
          "text": [
            "3527it [00:16, 226.87it/s]"
          ]
        },
        {
          "metadata": {
            "tags": null
          },
          "name": "stdout",
          "output_type": "stream",
          "text": [
            "| epoch   1 |  3500/70832 batches | loss    2.536 \n",
            "women: currently, was, years, also, practice, an, university, he, dr, is\n",
            "men: dynamics, evan, idaho, thousand, peripheral, forsyth, mundane, chicken, valuation, which\n",
            "nurse: from, in, with, years, the, received, to, of, school, a\n",
            "doctor: include, center, and, with, hospital, american, from, of, he, an\n",
            "engineer: participation, campaigns, fellow, neuroscience, interests, ma, phenomenon, hopkinsville, ip, algorithms\n",
            "teacher: been, at, school, a, his, health, medical, for, include, of\n",
            "dietitian: passion, now, activity, disaster, rhinoplasty, reuters, hospitality, daughter, encounters, karen\n",
            "\n",
            "\n"
          ]
        },
        {
          "metadata": {
            "tags": null
          },
          "name": "stderr",
          "output_type": "stream",
          "text": [
            "4016it [00:18, 226.45it/s]"
          ]
        },
        {
          "metadata": {
            "tags": null
          },
          "name": "stdout",
          "output_type": "stream",
          "text": [
            "| epoch   1 |  4000/70832 batches | loss    2.449 \n",
            "women: the, was, years, an, currently, also, a, including, practice, and\n",
            "men: dynamics, idaho, evan, peripheral, mundane, thousand, chicken, until, forsyth, valuation\n",
            "nurse: and, with, the, years, been, at, of, as, school, university\n",
            "doctor: include, center, hospital, with, at, university, in, an, he, american\n",
            "engineer: fellow, participation, interests, ma, services, campaigns, various, science, doctors, neuroscience\n",
            "teacher: and, been, at, school, for, health, include, the, a, he\n",
            "dietitian: passion, now, activity, rhinoplasty, disaster, reuters, hospitality, daughter, memorial, encounters\n",
            "\n",
            "\n"
          ]
        },
        {
          "metadata": {
            "tags": null
          },
          "name": "stderr",
          "output_type": "stream",
          "text": [
            "4526it [00:20, 230.53it/s]"
          ]
        },
        {
          "metadata": {
            "tags": null
          },
          "name": "stdout",
          "output_type": "stream",
          "text": [
            "| epoch   1 |  4500/70832 batches | loss    2.377 \n",
            "women: also, was, an, currently, he, practice, as, years, projects, degree\n",
            "men: dynamics, idaho, evan, mundane, peripheral, until, which, teaches, thousand, valuation\n",
            "nurse: with, of, years, in, for, received, been, school, as, other\n",
            "doctor: include, center, university, hospital, she, an, at, american, and, from\n",
            "engineer: fellow, interests, ma, participation, services, campaigns, legal, neuroscience, was, it\n",
            "teacher: school, health, he, include, at, she, his, been, also, a\n",
            "dietitian: passion, now, activity, rhinoplasty, reuters, hospitality, daughter, disaster, memorial, british\n",
            "\n",
            "\n"
          ]
        },
        {
          "metadata": {
            "tags": null
          },
          "name": "stderr",
          "output_type": "stream",
          "text": [
            "5020it [00:22, 225.23it/s]"
          ]
        },
        {
          "metadata": {
            "tags": null
          },
          "name": "stdout",
          "output_type": "stream",
          "text": [
            "| epoch   1 |  5000/70832 batches | loss    2.316 \n",
            "women: also, currently, a, school, university, an, including, as, practice, worked\n",
            "men: dynamics, which, teaches, idaho, evan, until, peripheral, mundane, bs, c\n",
            "nurse: with, years, school, of, received, is, other, been, as, medical\n",
            "doctor: include, center, she, at, of, an, hospital, for, university, in\n",
            "engineer: fellow, ma, interests, was, services, before, various, legal, it, doctors\n",
            "teacher: school, and, he, include, is, also, been, at, health, the\n",
            "dietitian: passion, now, activity, rhinoplasty, hospitality, disaster, reuters, british, daughter, memorial\n",
            "\n",
            "\n"
          ]
        },
        {
          "metadata": {
            "tags": null
          },
          "name": "stderr",
          "output_type": "stream",
          "text": [
            "5523it [00:24, 230.60it/s]"
          ]
        },
        {
          "metadata": {
            "tags": null
          },
          "name": "stdout",
          "output_type": "stream",
          "text": [
            "| epoch   1 |  5500/70832 batches | loss    2.259 \n",
            "women: including, also, currently, the, a, as, worked, school, he, she\n",
            "men: dynamics, teaches, which, idaho, c, until, bs, evan, extensive, peripheral\n",
            "nurse: with, is, years, of, school, medical, other, in, including, has\n",
            "doctor: center, she, of, include, in, an, at, hospital, with, and\n",
            "engineer: fellow, interests, ma, services, before, was, legal, it, science, associate\n",
            "teacher: school, he, a, on, university, and, has, include, including, is\n",
            "dietitian: passion, now, activity, british, memorial, hospitality, reuters, disaster, rhinoplasty, daughter\n",
            "\n",
            "\n"
          ]
        },
        {
          "metadata": {
            "tags": null
          },
          "name": "stderr",
          "output_type": "stream",
          "text": [
            "6035it [00:26, 234.06it/s]"
          ]
        },
        {
          "metadata": {
            "tags": null
          },
          "name": "stdout",
          "output_type": "stream",
          "text": [
            "| epoch   1 |  6000/70832 batches | loss    2.214 \n",
            "women: worked, including, a, he, has, as, currently, the, also, projects\n",
            "men: dynamics, teaches, which, idaho, bs, until, c, extensive, biological, it\n",
            "nurse: with, years, other, has, in, and, is, been, such, including\n",
            "doctor: center, of, include, an, at, in, with, by, as, has\n",
            "engineer: fellow, ma, interests, services, was, associate, before, various, science, college\n",
            "teacher: school, for, has, her, on, a, he, and, health, university\n",
            "dietitian: passion, now, activity, british, memorial, hospitality, reuters, disaster, daughter, rhinoplasty\n",
            "\n",
            "\n"
          ]
        },
        {
          "metadata": {
            "tags": null
          },
          "name": "stderr",
          "output_type": "stream",
          "text": [
            "6532it [00:28, 233.90it/s]"
          ]
        },
        {
          "metadata": {
            "tags": null
          },
          "name": "stdout",
          "output_type": "stream",
          "text": [
            "| epoch   1 |  6500/70832 batches | loss    2.178 \n",
            "women: has, worked, currently, projects, as, in, he, also, interests, on\n",
            "men: dynamics, teaches, which, bs, c, until, idaho, extensive, it, led\n",
            "nurse: years, with, other, book, has, group, hospital, medical, to, various\n",
            "doctor: include, for, from, has, in, her, center, and, at, also\n",
            "engineer: fellow, interests, services, ma, science, was, before, california, legal, associate\n",
            "teacher: has, for, her, school, also, he, a, of, in, is\n",
            "dietitian: passion, now, activity, british, memorial, hospitality, reuters, disaster, human, daughter\n",
            "\n",
            "\n"
          ]
        },
        {
          "metadata": {
            "tags": null
          },
          "name": "stderr",
          "output_type": "stream",
          "text": [
            "7033it [00:30, 232.93it/s]"
          ]
        },
        {
          "metadata": {
            "tags": null
          },
          "name": "stdout",
          "output_type": "stream",
          "text": [
            "| epoch   1 |  7000/70832 batches | loss    2.149 \n",
            "women: he, worked, a, also, currently, projects, the, family, as, society\n",
            "men: dynamics, teaches, which, bs, it, until, c, extensive, idaho, light\n",
            "nurse: with, years, book, other, has, group, graduated, medical, hospital, experience\n",
            "doctor: include, for, at, university, from, center, an, american, also, with\n",
            "engineer: fellow, interests, was, ma, services, legal, science, board, training, before\n",
            "teacher: has, from, school, for, to, also, in, include, research, studies\n",
            "dietitian: passion, now, activity, memorial, british, human, disaster, hospitality, daughter, extensively\n",
            "\n",
            "\n"
          ]
        },
        {
          "metadata": {
            "tags": null
          },
          "name": "stderr",
          "output_type": "stream",
          "text": [
            "7516it [00:32, 218.42it/s]"
          ]
        },
        {
          "metadata": {
            "tags": null
          },
          "name": "stdout",
          "output_type": "stream",
          "text": [
            "| epoch   1 |  7500/70832 batches | loss    2.111 \n",
            "women: and, currently, he, a, worked, university, the, as, including, also\n",
            "men: dynamics, which, teaches, bs, until, c, light, extensive, idaho, it\n",
            "nurse: has, and, years, with, book, other, graduated, experience, group, various\n",
            "doctor: include, in, of, center, with, and, also, from, for, is\n",
            "engineer: fellow, science, ma, interests, legal, was, associate, training, services, board\n",
            "teacher: and, has, for, school, to, also, she, a, on, include\n",
            "dietitian: passion, now, activity, british, memorial, human, daughter, hospitality, disaster, interaction\n",
            "\n",
            "\n"
          ]
        },
        {
          "metadata": {
            "tags": null
          },
          "name": "stderr",
          "output_type": "stream",
          "text": [
            "8026it [00:34, 224.06it/s]"
          ]
        },
        {
          "metadata": {
            "tags": null
          },
          "name": "stdout",
          "output_type": "stream",
          "text": [
            "| epoch   1 |  8000/70832 batches | loss    2.087 \n",
            "women: the, a, in, also, worked, currently, of, projects, as, her\n",
            "men: dynamics, teaches, bs, which, until, light, c, extensive, led, it\n",
            "nurse: years, other, book, with, various, been, medical, has, group, center\n",
            "doctor: include, also, a, he, the, in, and, she, of, center\n",
            "engineer: fellow, ma, was, science, associate, interests, california, legal, it, on\n",
            "teacher: a, school, the, for, his, in, he, at, studies, to\n",
            "dietitian: passion, now, activity, british, memorial, daughter, human, interaction, effects, estate\n",
            "\n",
            "\n"
          ]
        },
        {
          "metadata": {
            "tags": null
          },
          "name": "stderr",
          "output_type": "stream",
          "text": [
            "8521it [00:36, 208.91it/s]"
          ]
        },
        {
          "metadata": {
            "tags": null
          },
          "name": "stdout",
          "output_type": "stream",
          "text": [
            "| epoch   1 |  8500/70832 batches | loss    2.066 \n",
            "women: of, currently, in, also, worked, projects, university, society, education, including\n",
            "men: which, dynamics, bs, teaches, until, light, extensive, c, all, a\n",
            "nurse: other, been, years, group, with, medical, various, book, graduated, experience\n",
            "doctor: include, of, she, also, is, member, at, and, medical, american\n",
            "engineer: fellow, science, and, was, associate, ma, legal, engineering, development, interests\n",
            "teacher: his, in, he, at, studies, also, research, is, school, to\n",
            "dietitian: passion, now, activity, british, memorial, human, daughter, effects, she, saint\n",
            "\n",
            "\n"
          ]
        },
        {
          "metadata": {
            "tags": null
          },
          "name": "stderr",
          "output_type": "stream",
          "text": [
            "9021it [00:38, 231.90it/s]"
          ]
        },
        {
          "metadata": {
            "tags": null
          },
          "name": "stdout",
          "output_type": "stream",
          "text": [
            "| epoch   1 |  9000/70832 batches | loss    2.052 \n",
            "women: the, currently, in, also, she, he, from, worked, projects, a\n",
            "men: dynamics, which, bs, until, teaches, extensive, to, light, all, review\n",
            "nurse: other, group, years, medical, with, book, been, various, graduated, experience\n",
            "doctor: include, she, also, member, center, medical, of, american, completed, college\n",
            "engineer: fellow, on, also, a, science, ma, associate, engineering, worked, board\n",
            "teacher: he, studies, a, she, also, research, his, work, as, at\n",
            "dietitian: passion, now, british, activity, memorial, human, daughter, on, effects, interaction\n",
            "\n",
            "\n"
          ]
        },
        {
          "metadata": {
            "tags": null
          },
          "name": "stderr",
          "output_type": "stream",
          "text": [
            "9537it [00:40, 234.82it/s]"
          ]
        },
        {
          "metadata": {
            "tags": null
          },
          "name": "stdout",
          "output_type": "stream",
          "text": [
            "| epoch   1 |  9500/70832 batches | loss    2.025 \n",
            "women: she, projects, currently, of, from, worked, he, has, on, a\n",
            "men: dynamics, bs, until, which, teaches, extensive, light, c, review, biological\n",
            "nurse: other, group, years, various, including, experience, medical, with, been, book\n",
            "doctor: include, she, member, center, of, national, college, completed, american, also\n",
            "engineer: fellow, science, on, board, associate, ma, interests, legal, engineering, education\n",
            "teacher: he, a, she, also, studies, as, for, work, his, received\n",
            "dietitian: passion, now, british, activity, years, memorial, human, effects, estate, to\n",
            "\n",
            "\n"
          ]
        },
        {
          "metadata": {
            "tags": null
          },
          "name": "stderr",
          "output_type": "stream",
          "text": [
            "10024it [00:42, 209.91it/s]"
          ]
        },
        {
          "metadata": {
            "tags": null
          },
          "name": "stdout",
          "output_type": "stream",
          "text": [
            "| epoch   1 | 10000/70832 batches | loss    2.008 \n",
            "women: a, projects, community, from, currently, has, she, in, worked, articles\n",
            "men: dynamics, until, which, bs, extensive, teaches, light, review, c, biological\n",
            "nurse: medical, various, other, with, experience, group, affiliated, graduated, years, over\n",
            "doctor: include, member, she, center, of, completed, college, american, in, university\n",
            "engineer: the, on, fellow, interests, education, science, engineering, associate, a, board\n",
            "teacher: studies, a, teaching, has, also, he, his, work, her, education\n",
            "dietitian: passion, now, british, years, activity, memorial, human, experience, effects, estate\n",
            "\n",
            "\n"
          ]
        },
        {
          "metadata": {
            "tags": null
          },
          "name": "stderr",
          "output_type": "stream",
          "text": [
            "10523it [00:44, 230.17it/s]"
          ]
        },
        {
          "metadata": {
            "tags": null
          },
          "name": "stdout",
          "output_type": "stream",
          "text": [
            "| epoch   1 | 10500/70832 batches | loss    1.992 \n",
            "women: has, projects, his, on, community, currently, interests, students, education, research\n",
            "men: dynamics, until, bs, which, extensive, biological, c, during, light, high\n",
            "nurse: years, graduated, with, various, other, medical, group, experience, health, affiliated\n",
            "doctor: include, she, member, completed, center, also, american, college, in, from\n",
            "engineer: a, fellow, was, education, on, in, board, engineering, the, conferences\n",
            "teacher: studies, he, has, his, teaching, also, work, education, research, a\n",
            "dietitian: passion, now, british, activity, years, memorial, human, also, experience, interaction\n",
            "\n",
            "\n"
          ]
        },
        {
          "metadata": {
            "tags": null
          },
          "name": "stderr",
          "output_type": "stream",
          "text": [
            "11026it [00:45, 223.79it/s]"
          ]
        },
        {
          "metadata": {
            "tags": null
          },
          "name": "stdout",
          "output_type": "stream",
          "text": [
            "| epoch   1 | 11000/70832 batches | loss    1.982 \n",
            "women: on, research, projects, students, he, interests, she, as, worked, his\n",
            "men: dynamics, until, which, bs, extensive, during, high, c, it, light\n",
            "nurse: years, graduated, other, various, medical, group, experience, affiliated, with, hospital\n",
            "doctor: include, completed, member, center, college, residency, school, she, hospital, dr\n",
            "engineer: on, a, fellow, with, board, interests, conferences, in, worked, legal\n",
            "teacher: studies, teaching, also, her, education, and, on, he, for, she\n",
            "dietitian: passion, now, british, human, also, activity, memorial, experience, interaction, school\n",
            "\n",
            "\n"
          ]
        },
        {
          "metadata": {
            "tags": null
          },
          "name": "stderr",
          "output_type": "stream",
          "text": [
            "11524it [00:47, 217.52it/s]"
          ]
        },
        {
          "metadata": {
            "tags": null
          },
          "name": "stdout",
          "output_type": "stream",
          "text": [
            "| epoch   1 | 11500/70832 batches | loss    1.961 \n",
            "women: on, projects, his, currently, she, community, interests, studies, research, students\n",
            "men: dynamics, until, bs, which, it, high, biological, extensive, during, all\n",
            "nurse: other, graduated, various, medical, experience, group, with, years, doctors, over\n",
            "doctor: include, completed, center, residency, college, member, the, american, dr, medical\n",
            "engineer: worked, fellow, engineering, interests, the, board, on, ma, with, from\n",
            "teacher: studies, teaching, education, also, he, research, his, at, been, for\n",
            "dietitian: passion, now, british, human, also, activity, memorial, experience, years, school\n",
            "\n",
            "\n"
          ]
        },
        {
          "metadata": {
            "tags": null
          },
          "name": "stderr",
          "output_type": "stream",
          "text": [
            "12025it [00:49, 208.86it/s]"
          ]
        },
        {
          "metadata": {
            "tags": null
          },
          "name": "stdout",
          "output_type": "stream",
          "text": [
            "| epoch   1 | 12000/70832 batches | loss    1.954 \n",
            "women: the, on, of, research, currently, also, projects, students, community, studies\n",
            "men: dynamics, until, which, bs, it, high, biological, all, extensive, creating\n",
            "nurse: years, graduated, other, experience, hospital, group, over, doctors, various, medical\n",
            "doctor: include, completed, member, residency, college, center, medicine, hospital, dr, university\n",
            "engineer: has, engineering, his, fellow, from, ma, worked, state, the, board\n",
            "teacher: studies, teaching, also, education, his, the, research, program, he, her\n",
            "dietitian: passion, now, british, human, of, also, memorial, activity, years, experience\n",
            "\n",
            "\n"
          ]
        },
        {
          "metadata": {
            "tags": null
          },
          "name": "stderr",
          "output_type": "stream",
          "text": [
            "12514it [00:51, 220.96it/s]"
          ]
        },
        {
          "metadata": {
            "tags": null
          },
          "name": "stdout",
          "output_type": "stream",
          "text": [
            "| epoch   1 | 12500/70832 batches | loss    1.943 \n",
            "women: research, of, projects, currently, students, studies, on, the, working, community\n",
            "men: dynamics, until, bs, which, all, it, high, work, biological, extensive\n",
            "nurse: years, graduated, other, group, medical, experience, over, doctors, affiliated, hospital\n",
            "doctor: include, member, completed, residency, college, in, american, hospital, center, of\n",
            "engineer: the, in, include, ma, engineering, worked, from, fellow, interests, development\n",
            "teacher: studies, teaching, education, research, working, her, also, of, he, been\n",
            "dietitian: passion, now, british, human, activity, also, memorial, many, experience, effects\n",
            "\n",
            "\n"
          ]
        },
        {
          "metadata": {
            "tags": null
          },
          "name": "stderr",
          "output_type": "stream",
          "text": [
            "13013it [00:53, 214.45it/s]"
          ]
        },
        {
          "metadata": {
            "tags": null
          },
          "name": "stdout",
          "output_type": "stream",
          "text": [
            "| epoch   1 | 13000/70832 batches | loss    1.930 \n",
            "women: projects, currently, students, community, the, studies, on, who, research, fellow\n",
            "men: until, dynamics, and, bs, has, it, all, teaches, extensive, which\n",
            "nurse: graduated, years, over, diverse, medical, other, experience, group, honors, doctors\n",
            "doctor: include, completed, member, from, university, college, residency, american, of, center\n",
            "engineer: in, and, development, state, ma, on, research, interests, fellow, has\n",
            "teacher: studies, teaching, education, a, her, research, the, program, work, in\n",
            "dietitian: passion, now, and, british, experience, activity, memorial, many, effects, to\n",
            "\n",
            "\n"
          ]
        },
        {
          "metadata": {
            "tags": null
          },
          "name": "stderr",
          "output_type": "stream",
          "text": [
            "13515it [00:55, 238.12it/s]"
          ]
        },
        {
          "metadata": {
            "tags": null
          },
          "name": "stdout",
          "output_type": "stream",
          "text": [
            "| epoch   1 | 13500/70832 batches | loss    1.923 \n",
            "women: students, projects, community, fellow, has, as, american, working, been, studies\n",
            "men: dynamics, until, bs, all, with, teaches, during, it, which, in\n",
            "nurse: graduated, over, years, medical, doctors, honors, diverse, group, other, practitioner\n",
            "doctor: include, completed, member, center, college, american, residency, from, university, association\n",
            "engineer: on, development, of, the, interests, as, at, has, he, is\n",
            "teacher: studies, teaching, education, her, a, program, for, work, various, as\n",
            "dietitian: passion, now, british, experience, activity, human, memorial, many, former, into\n",
            "\n",
            "\n"
          ]
        },
        {
          "metadata": {
            "tags": null
          },
          "name": "stderr",
          "output_type": "stream",
          "text": [
            "14037it [00:57, 234.38it/s]"
          ]
        },
        {
          "metadata": {
            "tags": null
          },
          "name": "stdout",
          "output_type": "stream",
          "text": [
            "| epoch   1 | 14000/70832 batches | loss    1.914 \n",
            "women: and, as, students, projects, fellow, society, also, working, has, who\n",
            "men: until, dynamics, all, which, teaches, bs, biological, it, with, policy\n",
            "nurse: graduated, honors, doctors, diverse, over, years, group, or, practitioner, medical\n",
            "doctor: include, completed, member, college, university, from, residency, american, of, center\n",
            "engineer: development, interests, he, and, engineering, fellow, conferences, has, ma, career\n",
            "teacher: teaching, studies, education, on, received, her, also, work, of, university\n",
            "dietitian: passion, now, a, british, activity, many, memorial, former, into, interaction\n",
            "\n",
            "\n"
          ]
        },
        {
          "metadata": {
            "tags": null
          },
          "name": "stderr",
          "output_type": "stream",
          "text": [
            "14528it [01:02, 215.62it/s]"
          ]
        },
        {
          "metadata": {
            "tags": null
          },
          "name": "stdout",
          "output_type": "stream",
          "text": [
            "| epoch   1 | 14500/70832 batches | loss    1.910 \n",
            "women: projects, students, as, and, american, society, articles, journal, which, fellow\n",
            "men: until, dynamics, which, teaches, it, bs, biological, all, extensive, c\n",
            "nurse: over, honors, graduated, doctors, years, experience, diverse, various, or, medical\n",
            "doctor: include, from, completed, member, college, center, residency, dental, american, of\n",
            "engineer: in, of, development, engineering, state, teaching, has, interests, is, worked\n",
            "teacher: teaching, studies, education, on, also, well, received, her, working, professional\n",
            "dietitian: passion, now, as, british, many, human, activity, former, experience, and\n",
            "\n",
            "\n"
          ]
        },
        {
          "metadata": {
            "tags": null
          },
          "name": "stderr",
          "output_type": "stream",
          "text": [
            "15028it [01:03, 219.43it/s]"
          ]
        },
        {
          "metadata": {
            "tags": null
          },
          "name": "stdout",
          "output_type": "stream",
          "text": [
            "| epoch   1 | 15000/70832 batches | loss    1.894 \n",
            "women: projects, journal, fellow, society, has, students, board, american, in, which\n",
            "men: until, dynamics, on, policy, which, teaches, it, biological, all, bs\n",
            "nurse: with, over, doctors, honors, years, various, practitioner, diverse, graduated, experience\n",
            "doctor: include, member, completed, from, college, residency, is, center, american, dental\n",
            "engineer: engineering, development, as, has, state, interests, he, ma, computer, teaching\n",
            "teacher: teaching, education, studies, the, her, as, also, program, work, department\n",
            "dietitian: passion, now, many, british, also, who, activity, memorial, human, into\n",
            "\n",
            "\n"
          ]
        },
        {
          "metadata": {
            "tags": null
          },
          "name": "stderr",
          "output_type": "stream",
          "text": [
            "15518it [01:05, 220.90it/s]"
          ]
        },
        {
          "metadata": {
            "tags": null
          },
          "name": "stdout",
          "output_type": "stream",
          "text": [
            "| epoch   1 | 15500/70832 batches | loss    1.895 \n",
            "women: students, for, journal, society, has, education, board, projects, fellow, articles\n",
            "men: until, dynamics, on, biological, which, all, in, as, teaches, it\n",
            "nurse: over, doctors, honors, graduated, diverse, practitioner, various, years, specialists, group\n",
            "doctor: include, member, completed, from, college, university, center, residency, in, association\n",
            "engineer: engineering, development, has, ma, computer, career, in, teaching, fellow, works\n",
            "teacher: teaching, education, studies, as, received, and, is, focusing, from, the\n",
            "dietitian: passion, now, for, in, worked, many, activity, who, into, british\n",
            "\n",
            "\n"
          ]
        },
        {
          "metadata": {
            "tags": null
          },
          "name": "stderr",
          "output_type": "stream",
          "text": [
            "16014it [01:07, 232.64it/s]"
          ]
        },
        {
          "metadata": {
            "tags": null
          },
          "name": "stdout",
          "output_type": "stream",
          "text": [
            "| epoch   1 | 16000/70832 batches | loss    1.882 \n",
            "women: projects, community, education, articles, the, journal, society, board, world, students\n",
            "men: on, dynamics, biological, until, all, teaches, which, light, it, mining\n",
            "nurse: graduated, over, doctors, practitioner, honors, diverse, years, other, or, various\n",
            "doctor: include, member, completed, from, college, association, university, clinical, center, hospital\n",
            "engineer: has, engineering, state, ma, worked, development, design, teaching, works, science\n",
            "teacher: teaching, education, her, as, studies, a, program, he, various, focusing\n",
            "dietitian: passion, now, worked, with, many, activity, into, human, patients, as\n",
            "\n",
            "\n"
          ]
        },
        {
          "metadata": {
            "tags": null
          },
          "name": "stderr",
          "output_type": "stream",
          "text": [
            "16511it [01:09, 231.49it/s]"
          ]
        },
        {
          "metadata": {
            "tags": null
          },
          "name": "stdout",
          "output_type": "stream",
          "text": [
            "| epoch   1 | 16500/70832 batches | loss    1.879 \n",
            "women: her, community, of, articles, involved, projects, has, board, students, education\n",
            "men: dynamics, until, with, biological, teaches, which, all, life, bs, over\n",
            "nurse: with, over, graduated, practitioner, honors, diverse, doctors, or, years, experience\n",
            "doctor: include, completed, member, from, hospital, college, university, association, clinical, dr\n",
            "engineer: has, worked, state, development, computer, design, marketing, fellow, engineering, ma\n",
            "teacher: teaching, education, studies, a, her, work, as, has, received, program\n",
            "dietitian: passion, now, many, worked, into, activity, with, patients, british, who\n",
            "\n",
            "\n"
          ]
        },
        {
          "metadata": {
            "tags": null
          },
          "name": "stderr",
          "output_type": "stream",
          "text": [
            "17034it [01:11, 232.22it/s]"
          ]
        },
        {
          "metadata": {
            "tags": null
          },
          "name": "stdout",
          "output_type": "stream",
          "text": [
            "| epoch   1 | 17000/70832 batches | loss    1.866 \n",
            "women: and, research, articles, projects, her, involved, fellow, community, students, board\n",
            "men: dynamics, until, teaches, biological, who, with, at, bs, which, over\n",
            "nurse: graduated, honors, practitioner, over, diverse, doctors, with, years, specialists, or\n",
            "doctor: completed, include, member, college, association, hospital, dr, medical, from, clinical\n",
            "engineer: of, worked, fellow, state, design, science, computer, has, development, for\n",
            "teacher: teaching, education, her, in, and, studies, as, focusing, well, received\n",
            "dietitian: passion, now, she, who, many, activity, with, patients, and, memorial\n",
            "\n",
            "\n"
          ]
        },
        {
          "metadata": {
            "tags": null
          },
          "name": "stderr",
          "output_type": "stream",
          "text": [
            "17526it [01:13, 230.32it/s]"
          ]
        },
        {
          "metadata": {
            "tags": null
          },
          "name": "stdout",
          "output_type": "stream",
          "text": [
            "| epoch   1 | 17500/70832 batches | loss    1.869 \n",
            "women: students, articles, projects, community, which, involved, education, public, project, american\n",
            "men: dynamics, until, teaches, which, biological, bs, in, an, who, at\n",
            "nurse: honors, graduated, practitioner, diverse, doctors, over, years, medical, specialists, affiliates\n",
            "doctor: completed, member, include, association, college, dr, hospital, dental, medical, of\n",
            "engineer: worked, development, computer, fellow, technology, in, marketing, science, she, project\n",
            "teacher: teaching, education, studies, as, focusing, various, received, well, a, he\n",
            "dietitian: passion, now, she, many, who, patients, activity, into, former, human\n",
            "\n",
            "\n"
          ]
        },
        {
          "metadata": {
            "tags": null
          },
          "name": "stderr",
          "output_type": "stream",
          "text": [
            "18025it [01:15, 202.04it/s]"
          ]
        },
        {
          "metadata": {
            "tags": null
          },
          "name": "stdout",
          "output_type": "stream",
          "text": [
            "| epoch   1 | 18000/70832 batches | loss    1.859 \n",
            "women: students, articles, involved, community, world, which, projects, culture, research, society\n",
            "men: and, until, dynamics, biological, teaches, which, for, who, bs, an\n",
            "nurse: honors, practitioner, graduated, diverse, over, doctors, medical, specialists, hospital, affiliates\n",
            "doctor: completed, member, include, association, dental, college, dr, hospital, university, services\n",
            "engineer: worked, and, science, computer, state, marketing, design, fellow, technology, financial\n",
            "teacher: teaching, education, as, studies, program, a, been, focusing, her, well\n",
            "dietitian: passion, now, many, who, patients, memorial, activity, taught, into, human\n",
            "\n",
            "\n"
          ]
        },
        {
          "metadata": {
            "tags": null
          },
          "name": "stderr",
          "output_type": "stream",
          "text": [
            "18512it [01:17, 238.16it/s]"
          ]
        },
        {
          "metadata": {
            "tags": null
          },
          "name": "stdout",
          "output_type": "stream",
          "text": [
            "| epoch   1 | 18500/70832 batches | loss    1.853 \n",
            "women: on, students, articles, which, world, community, projects, culture, education, public\n",
            "men: until, which, at, who, and, teaches, dynamics, on, biological, bs\n",
            "nurse: practitioner, honors, over, diverse, graduated, doctors, specialists, affiliates, medical, affiliated\n",
            "doctor: completed, member, include, dr, dental, college, association, services, from, medical\n",
            "engineer: design, technology, fellow, worked, marketing, a, mathematics, computer, state, engineering\n",
            "teacher: teaching, education, a, studies, program, focusing, been, school, various, working\n",
            "dietitian: passion, now, she, many, who, has, patients, memorial, activity, over\n",
            "\n",
            "\n"
          ]
        },
        {
          "metadata": {
            "tags": null
          },
          "name": "stderr",
          "output_type": "stream",
          "text": [
            "19026it [01:19, 219.74it/s]"
          ]
        },
        {
          "metadata": {
            "tags": null
          },
          "name": "stdout",
          "output_type": "stream",
          "text": [
            "| epoch   1 | 19000/70832 batches | loss    1.850 \n",
            "women: students, articles, world, which, culture, community, projects, involved, social, on\n",
            "men: and, on, until, which, dynamics, teaches, who, biological, an, mining\n",
            "nurse: honors, practitioner, over, diverse, graduated, doctors, affiliates, medical, specialists, affiliated\n",
            "doctor: member, completed, include, college, association, dr, dental, university, services, american\n",
            "engineer: worked, design, technology, computer, fellow, marketing, engineering, ma, financial, development\n",
            "teacher: teaching, education, program, a, studies, focusing, she, been, working, development\n",
            "dietitian: passion, now, who, many, she, over, memorial, work, daughter, activity\n",
            "\n",
            "\n"
          ]
        },
        {
          "metadata": {
            "tags": null
          },
          "name": "stderr",
          "output_type": "stream",
          "text": [
            "19526it [01:21, 223.22it/s]"
          ]
        },
        {
          "metadata": {
            "tags": null
          },
          "name": "stdout",
          "output_type": "stream",
          "text": [
            "| epoch   1 | 19500/70832 batches | loss    1.847 \n",
            "women: which, culture, projects, world, students, social, articles, involved, on, theory\n",
            "men: until, which, dynamics, who, on, biological, teaches, mining, bs, light\n",
            "nurse: practitioner, honors, graduated, over, diverse, doctors, affiliates, specialists, experiences, collaborates\n",
            "doctor: include, dr, completed, member, college, association, dental, medical, services, from\n",
            "engineer: he, technology, engineering, design, worked, computer, fellow, financial, marketing, ma\n",
            "teacher: teaching, education, development, studies, program, her, focusing, has, various, training\n",
            "dietitian: passion, now, who, she, over, work, memorial, and, daughter, activity\n",
            "\n",
            "\n"
          ]
        },
        {
          "metadata": {
            "tags": null
          },
          "name": "stderr",
          "output_type": "stream",
          "text": [
            "20020it [01:23, 223.61it/s]"
          ]
        },
        {
          "metadata": {
            "tags": null
          },
          "name": "stdout",
          "output_type": "stream",
          "text": [
            "| epoch   1 | 20000/70832 batches | loss    1.846 \n",
            "women: on, culture, projects, students, which, theory, works, world, articles, education\n",
            "men: on, who, which, until, biological, is, an, dynamics, teaches, a\n",
            "nurse: practitioner, honors, graduated, over, diverse, doctors, affiliates, specialists, experiences, with\n",
            "doctor: include, completed, college, member, association, dental, services, university, dr, medical\n",
            "engineer: he, technology, design, engineering, fellow, marketing, worked, computer, conferences, financial\n",
            "teacher: teaching, education, program, development, holds, various, her, a, focusing, courses\n",
            "dietitian: passion, now, who, over, memorial, that, daughter, science, many, activity\n",
            "\n",
            "\n"
          ]
        },
        {
          "metadata": {
            "tags": null
          },
          "name": "stderr",
          "output_type": "stream",
          "text": [
            "20520it [01:25, 228.39it/s]"
          ]
        },
        {
          "metadata": {
            "tags": null
          },
          "name": "stdout",
          "output_type": "stream",
          "text": [
            "| epoch   1 | 20500/70832 batches | loss    1.836 \n",
            "women: which, projects, culture, articles, on, world, theory, students, american, involved\n",
            "men: is, which, who, until, biological, their, on, dynamics, teaches, bs\n",
            "nurse: practitioner, honors, graduated, diverse, over, doctors, affiliates, specialists, experiences, group\n",
            "doctor: completed, association, include, college, member, dental, hospital, university, services, medical\n",
            "engineer: technology, marketing, fellow, worked, financial, design, computer, engineering, focuses, he\n",
            "teacher: teaching, education, her, program, development, courses, studies, well, holds, been\n",
            "dietitian: passion, now, who, memorial, worked, their, daughter, care, health, activity\n",
            "\n",
            "\n"
          ]
        },
        {
          "metadata": {
            "tags": null
          },
          "name": "stderr",
          "output_type": "stream",
          "text": [
            "21029it [01:27, 231.35it/s]"
          ]
        },
        {
          "metadata": {
            "tags": null
          },
          "name": "stdout",
          "output_type": "stream",
          "text": [
            "| epoch   1 | 21000/70832 batches | loss    1.834 \n",
            "women: which, culture, projects, students, articles, works, theory, social, american, world\n",
            "men: is, who, their, which, until, biological, dynamics, teaches, past, authority\n",
            "nurse: practitioner, honors, diverse, graduated, doctors, over, specialists, affiliates, hospital, affiliated\n",
            "doctor: completed, college, association, include, member, dental, from, hospital, services, provided\n",
            "engineer: technology, worked, marketing, engineering, financial, computer, to, design, management, degree\n",
            "teacher: teaching, education, her, professional, program, holds, courses, well, development, been\n",
            "dietitian: now, passion, who, to, memorial, care, over, health, taught, many\n",
            "\n",
            "\n"
          ]
        },
        {
          "metadata": {
            "tags": null
          },
          "name": "stderr",
          "output_type": "stream",
          "text": [
            "21526it [01:29, 221.01it/s]"
          ]
        },
        {
          "metadata": {
            "tags": null
          },
          "name": "stdout",
          "output_type": "stream",
          "text": [
            "| epoch   1 | 21500/70832 batches | loss    1.826 \n",
            "women: which, culture, students, works, articles, world, working, projects, involved, theory\n",
            "men: who, is, their, past, biological, with, which, until, teaches, all\n",
            "nurse: diverse, practitioner, honors, graduated, doctors, over, specialists, affiliates, years, medical\n",
            "doctor: completed, college, include, association, member, services, dental, clinical, provided, residency\n",
            "engineer: technology, worked, marketing, financial, design, engineering, computer, fellow, technical, management\n",
            "teacher: teaching, education, professional, program, holds, working, as, studies, well, early\n",
            "dietitian: now, passion, who, has, over, care, memorial, taught, the, health\n",
            "\n",
            "\n"
          ]
        },
        {
          "metadata": {
            "tags": null
          },
          "name": "stderr",
          "output_type": "stream",
          "text": [
            "22023it [01:31, 229.29it/s]"
          ]
        },
        {
          "metadata": {
            "tags": null
          },
          "name": "stdout",
          "output_type": "stream",
          "text": [
            "| epoch   1 | 22000/70832 batches | loss    1.824 \n",
            "women: working, culture, works, world, articles, projects, students, through, social, which\n",
            "men: teaches, past, which, biological, until, with, policy, bs, their, authority\n",
            "nurse: practitioner, diverse, honors, doctors, graduated, over, specialists, affiliates, experiences, affiliated\n",
            "doctor: college, completed, association, include, member, services, dental, hospital, provided, residency\n",
            "engineer: technology, financial, computer, marketing, worked, department, engineering, design, management, science\n",
            "teacher: teaching, education, professional, program, as, she, graduate, the, several, focusing\n",
            "dietitian: now, with, passion, over, care, who, to, memorial, health, particularly\n",
            "\n",
            "\n"
          ]
        },
        {
          "metadata": {
            "tags": null
          },
          "name": "stderr",
          "output_type": "stream",
          "text": [
            "22523it [01:33, 228.56it/s]"
          ]
        },
        {
          "metadata": {
            "tags": null
          },
          "name": "stdout",
          "output_type": "stream",
          "text": [
            "| epoch   1 | 22500/70832 batches | loss    1.826 \n",
            "women: working, world, students, culture, social, articles, education, projects, works, through\n",
            "men: teaches, which, biological, until, to, past, authority, policy, well, experiments\n",
            "nurse: diverse, practitioner, honors, doctors, graduated, specialists, over, affiliates, experiences, medical\n",
            "doctor: completed, college, association, include, hospital, dental, member, residency, dr, services\n",
            "engineer: technology, computer, financial, marketing, engineering, management, department, worked, systems, physics\n",
            "teacher: teaching, education, program, studies, professional, she, her, several, early, department\n",
            "dietitian: with, passion, now, over, care, who, memorial, she, cooperates, particularly\n",
            "\n",
            "\n"
          ]
        },
        {
          "metadata": {
            "tags": null
          },
          "name": "stderr",
          "output_type": "stream",
          "text": [
            "23024it [01:35, 221.86it/s]"
          ]
        },
        {
          "metadata": {
            "tags": null
          },
          "name": "stdout",
          "output_type": "stream",
          "text": [
            "| epoch   1 | 23000/70832 batches | loss    1.813 \n",
            "women: culture, working, students, world, social, which, studies, articles, works, education\n",
            "men: which, teaches, to, biological, his, until, past, through, authority, high\n",
            "nurse: diverse, practitioner, honors, doctors, specialists, graduated, affiliates, over, experiences, collaborates\n",
            "doctor: completed, college, dental, member, dr, include, association, provided, services, residency\n",
            "engineer: technology, computer, financial, marketing, management, systems, physics, engineering, design, he\n",
            "teacher: teaching, education, studies, she, professional, her, and, early, courses, graduate\n",
            "dietitian: now, passion, care, who, over, for, no, memorial, particularly, cooperates\n",
            "\n",
            "\n"
          ]
        },
        {
          "metadata": {
            "tags": null
          },
          "name": "stderr",
          "output_type": "stream",
          "text": [
            "23524it [01:37, 221.32it/s]"
          ]
        },
        {
          "metadata": {
            "tags": null
          },
          "name": "stdout",
          "output_type": "stream",
          "text": [
            "| epoch   1 | 23500/70832 batches | loss    1.814 \n",
            "women: students, world, culture, working, which, education, social, journal, second, through\n",
            "men: teaches, which, biological, until, past, through, who, role, policy, bs\n",
            "nurse: diverse, practitioner, honors, doctors, specialists, graduated, affiliates, over, more, experiences\n",
            "doctor: completed, college, association, include, member, dental, provided, hospital, from, residency\n",
            "engineer: technology, engineering, financial, computer, marketing, management, physics, ma, department, worked\n",
            "teacher: teaching, education, studies, students, early, professional, department, schools, several, courses\n",
            "dietitian: passion, now, over, who, care, as, memorial, particularly, students, she\n",
            "\n",
            "\n"
          ]
        },
        {
          "metadata": {
            "tags": null
          },
          "name": "stderr",
          "output_type": "stream",
          "text": [
            "24019it [01:38, 223.72it/s]"
          ]
        },
        {
          "metadata": {
            "tags": null
          },
          "name": "stdout",
          "output_type": "stream",
          "text": [
            "| epoch   1 | 24000/70832 batches | loss    1.807 \n",
            "women: culture, students, world, working, works, which, studies, second, journal, has\n",
            "men: which, teaches, biological, until, past, led, through, one, role, who\n",
            "nurse: diverse, practitioner, honors, graduated, doctors, specialists, affiliates, over, experiences, years\n",
            "doctor: completed, college, member, dental, association, provided, services, dentistry, fixing, residency\n",
            "engineer: technology, engineering, computer, financial, ma, design, marketing, physics, systems, holds\n",
            "teacher: teaching, education, studies, professional, students, for, working, her, department, program\n",
            "dietitian: over, now, passion, care, memorial, who, with, particularly, students, rating\n",
            "\n",
            "\n"
          ]
        },
        {
          "metadata": {
            "tags": null
          },
          "name": "stderr",
          "output_type": "stream",
          "text": [
            "24518it [01:40, 220.82it/s]"
          ]
        },
        {
          "metadata": {
            "tags": null
          },
          "name": "stdout",
          "output_type": "stream",
          "text": [
            "| epoch   1 | 24500/70832 batches | loss    1.810 \n",
            "women: world, students, works, culture, working, american, she, studies, second, and\n",
            "men: teaches, which, through, past, this, biological, led, bs, until, one\n",
            "nurse: diverse, practitioner, honors, doctors, graduated, specialists, affiliates, experiences, over, collaborates\n",
            "doctor: completed, member, college, services, provided, association, dental, residency, dentistry, fixing\n",
            "engineer: technology, engineering, design, computer, financial, marketing, worked, physics, holds, ma\n",
            "teacher: teaching, education, for, professional, studies, students, she, program, school, the\n",
            "dietitian: now, with, who, passion, care, memorial, for, over, particularly, graduated\n",
            "\n",
            "\n"
          ]
        },
        {
          "metadata": {
            "tags": null
          },
          "name": "stderr",
          "output_type": "stream",
          "text": [
            "25035it [01:42, 233.79it/s]"
          ]
        },
        {
          "metadata": {
            "tags": null
          },
          "name": "stdout",
          "output_type": "stream",
          "text": [
            "| epoch   1 | 25000/70832 batches | loss    1.803 \n",
            "women: culture, works, world, students, american, studies, working, her, care, involved\n",
            "men: teaches, which, and, through, biological, past, all, until, bs, to\n",
            "nurse: diverse, practitioner, honors, graduated, over, specialists, doctors, affiliates, experiences, years\n",
            "doctor: completed, member, college, services, provided, association, dental, dentistry, clinic, hospital\n",
            "engineer: technology, the, engineering, financial, systems, marketing, computer, career, development, ma\n",
            "teacher: teaching, education, a, and, studies, school, students, graduate, courses, focusing\n",
            "dietitian: passion, now, who, with, memorial, care, over, many, particularly, experiences\n",
            "\n",
            "\n"
          ]
        },
        {
          "metadata": {
            "tags": null
          },
          "name": "stderr",
          "output_type": "stream",
          "text": [
            "25535it [01:44, 238.51it/s]"
          ]
        },
        {
          "metadata": {
            "tags": null
          },
          "name": "stdout",
          "output_type": "stream",
          "text": [
            "| epoch   1 | 25500/70832 batches | loss    1.803 \n",
            "women: culture, world, works, her, working, students, studies, american, which, she\n",
            "men: teaches, which, past, life, through, biological, high, all, has, until\n",
            "nurse: diverse, practitioner, honors, doctors, graduated, specialists, affiliates, experiences, medical, over\n",
            "doctor: completed, college, member, provided, dental, from, services, association, residency, dentistry\n",
            "engineer: technology, engineering, financial, marketing, science, development, systems, ma, degree, software\n",
            "teacher: teaching, education, a, studies, students, courses, graduate, school, taught, working\n",
            "dietitian: passion, now, who, memorial, over, experiences, care, cooperates, no, nurse\n",
            "\n",
            "\n"
          ]
        },
        {
          "metadata": {
            "tags": null
          },
          "name": "stderr",
          "output_type": "stream",
          "text": [
            "26035it [01:46, 230.58it/s]"
          ]
        },
        {
          "metadata": {
            "tags": null
          },
          "name": "stdout",
          "output_type": "stream",
          "text": [
            "| epoch   1 | 26000/70832 batches | loss    1.805 \n",
            "women: culture, world, works, american, which, students, second, theory, studies, journal\n",
            "men: teaches, which, past, life, all, until, for, high, biological, bs\n",
            "nurse: practitioner, diverse, honors, doctors, graduated, specialists, affiliates, medical, experiences, hospitals\n",
            "doctor: completed, member, provided, dental, association, college, by, hospital, include, services\n",
            "engineer: technology, engineering, financial, degree, systems, technical, marketing, development, computer, physics\n",
            "teacher: teaching, education, courses, students, school, taught, graduate, studies, schools, for\n",
            "dietitian: passion, who, memorial, now, over, with, is, worked, care, particularly\n",
            "\n",
            "\n"
          ]
        },
        {
          "metadata": {
            "tags": null
          },
          "name": "stderr",
          "output_type": "stream",
          "text": [
            "26532it [01:48, 232.37it/s]"
          ]
        },
        {
          "metadata": {
            "tags": null
          },
          "name": "stdout",
          "output_type": "stream",
          "text": [
            "| epoch   1 | 26500/70832 batches | loss    1.797 \n",
            "women: american, world, culture, which, works, education, students, author, second, involved\n",
            "men: teaches, which, past, life, through, until, this, all, biological, led\n",
            "nurse: practitioner, diverse, honors, doctors, affiliates, specialists, graduated, medical, experiences, collaborates\n",
            "doctor: member, association, provided, completed, college, dental, include, by, dentistry, fixing\n",
            "engineer: technology, engineering, technical, financial, degree, systems, marketing, development, focuses, research\n",
            "teacher: teaching, education, courses, the, studies, taught, graduate, schools, students, mathematics\n",
            "dietitian: passion, worked, memorial, now, with, a, care, particularly, who, many\n",
            "\n",
            "\n"
          ]
        },
        {
          "metadata": {
            "tags": null
          },
          "name": "stderr",
          "output_type": "stream",
          "text": [
            "27019it [01:50, 229.25it/s]"
          ]
        },
        {
          "metadata": {
            "tags": null
          },
          "name": "stdout",
          "output_type": "stream",
          "text": [
            "| epoch   1 | 27000/70832 batches | loss    1.803 \n",
            "women: world, culture, american, involved, works, which, education, theory, social, about\n",
            "men: the, teaches, life, through, which, all, past, until, this, high\n",
            "nurse: practitioner, diverse, honors, doctors, specialists, affiliates, graduated, collaborates, hospitals, experiences\n",
            "doctor: member, association, college, completed, provided, include, dental, services, dentistry, by\n",
            "engineer: technology, technical, engineering, systems, financial, he, development, degree, phd, department\n",
            "teacher: teaching, education, courses, schools, studies, graduate, taught, mathematics, students, working\n",
            "dietitian: passion, with, now, worked, particularly, a, memorial, group, graduated, care\n",
            "\n",
            "\n"
          ]
        },
        {
          "metadata": {
            "tags": null
          },
          "name": "stderr",
          "output_type": "stream",
          "text": [
            "27515it [01:52, 231.86it/s]"
          ]
        },
        {
          "metadata": {
            "tags": null
          },
          "name": "stdout",
          "output_type": "stream",
          "text": [
            "| epoch   1 | 27500/70832 batches | loss    1.787 \n",
            "women: world, american, culture, works, involved, on, social, theory, between, about\n",
            "men: life, teaches, this, all, through, to, past, until, led, numerous\n",
            "nurse: practitioner, diverse, honors, doctors, affiliates, specialists, graduated, over, collaborates, experiences\n",
            "doctor: member, association, college, completed, dental, provided, services, include, residency, hospital\n",
            "engineer: technology, engineering, technical, financial, degree, systems, development, phd, software, department\n",
            "teacher: teaching, education, schools, students, courses, taught, studies, mathematics, working, graduate\n",
            "dietitian: now, passion, memorial, graduated, worked, care, group, with, over, particularly\n",
            "\n",
            "\n"
          ]
        },
        {
          "metadata": {
            "tags": null
          },
          "name": "stderr",
          "output_type": "stream",
          "text": [
            "28020it [01:54, 220.04it/s]"
          ]
        },
        {
          "metadata": {
            "tags": null
          },
          "name": "stdout",
          "output_type": "stream",
          "text": [
            "| epoch   1 | 28000/70832 batches | loss    1.788 \n",
            "women: world, american, culture, on, works, studies, social, journal, about, involved\n",
            "men: life, teaches, this, through, past, all, led, until, high, teaching\n",
            "nurse: practitioner, diverse, honors, doctors, affiliates, graduated, specialists, experiences, over, hospitals\n",
            "doctor: member, association, completed, college, dental, provided, hospital, dentistry, include, residency\n",
            "engineer: technology, technical, engineering, financial, systems, development, degree, department, software, holds\n",
            "teacher: teaching, education, students, schools, mathematics, school, taught, focusing, courses, working\n",
            "dietitian: passion, memorial, now, group, particularly, experiences, graduated, worked, cooperates, including\n",
            "\n",
            "\n"
          ]
        },
        {
          "metadata": {
            "tags": null
          },
          "name": "stderr",
          "output_type": "stream",
          "text": [
            "28518it [01:56, 228.46it/s]"
          ]
        },
        {
          "metadata": {
            "tags": null
          },
          "name": "stdout",
          "output_type": "stream",
          "text": [
            "| epoch   1 | 28500/70832 batches | loss    1.786 \n",
            "women: culture, world, involved, social, students, american, on, she, which, theory\n",
            "men: life, teaches, through, past, all, this, led, teaching, until, high\n",
            "nurse: practitioner, diverse, honors, doctors, affiliates, graduated, over, specialists, experiences, collaborates\n",
            "doctor: association, member, college, completed, provided, include, dental, dentistry, residency, fixing\n",
            "engineer: engineering, technology, degree, technical, financial, phd, systems, holds, department, software\n",
            "teacher: teaching, education, students, taught, mathematics, courses, holds, schools, school, psychology\n",
            "dietitian: worked, now, passion, memorial, experiences, group, cooperates, over, particularly, who\n",
            "\n",
            "\n"
          ]
        },
        {
          "metadata": {
            "tags": null
          },
          "name": "stderr",
          "output_type": "stream",
          "text": [
            "29029it [01:58, 229.77it/s]"
          ]
        },
        {
          "metadata": {
            "tags": null
          },
          "name": "stdout",
          "output_type": "stream",
          "text": [
            "| epoch   1 | 29000/70832 batches | loss    1.788 \n",
            "women: on, culture, involved, students, social, she, which, american, world, theory\n",
            "men: teaches, life, to, this, past, all, well, through, until, led\n",
            "nurse: practitioner, diverse, honors, doctors, affiliates, over, collaborates, specialists, experiences, graduated\n",
            "doctor: association, member, college, completed, provided, dental, dentistry, services, include, fixing\n",
            "engineer: degree, engineering, technology, technical, phd, systems, career, financial, holds, department\n",
            "teacher: teaching, education, students, courses, mathematics, taught, working, schools, teaches, psychology\n",
            "dietitian: now, group, experiences, memorial, passion, worked, with, particularly, cooperates, many\n",
            "\n",
            "\n"
          ]
        },
        {
          "metadata": {
            "tags": null
          },
          "name": "stderr",
          "output_type": "stream",
          "text": [
            "29520it [02:00, 224.86it/s]"
          ]
        },
        {
          "metadata": {
            "tags": null
          },
          "name": "stdout",
          "output_type": "stream",
          "text": [
            "| epoch   1 | 29500/70832 batches | loss    1.777 \n",
            "women: which, world, involved, she, culture, the, american, students, theory, social\n",
            "men: teaches, life, to, past, teaching, this, all, led, high, impact\n",
            "nurse: practitioner, diverse, doctors, honors, affiliates, collaborates, specialists, experiences, graduated, hospitals\n",
            "doctor: association, college, completed, member, provided, dental, services, dentistry, fixing, include\n",
            "engineer: degree, technology, technical, engineering, career, department, financial, holds, phd, systems\n",
            "teacher: teaching, education, students, courses, taught, mathematics, graduate, school, her, teachers\n",
            "dietitian: with, and, passion, experiences, particularly, memorial, group, now, cooperates, over\n",
            "\n",
            "\n"
          ]
        },
        {
          "metadata": {
            "tags": null
          },
          "name": "stderr",
          "output_type": "stream",
          "text": [
            "30018it [02:02, 221.32it/s]"
          ]
        },
        {
          "metadata": {
            "tags": null
          },
          "name": "stdout",
          "output_type": "stream",
          "text": [
            "| epoch   1 | 30000/70832 batches | loss    1.787 \n",
            "women: which, involved, american, culture, students, between, she, focusing, community, family\n",
            "men: teaches, life, on, all, this, past, until, teaching, impact, led\n",
            "nurse: practitioner, diverse, doctors, honors, affiliates, specialists, graduated, experiences, collaborates, hospitals\n",
            "doctor: association, completed, college, member, dental, services, dentistry, provided, fixing, include\n",
            "engineer: degree, technology, engineering, technical, systems, financial, holds, physics, phd, department\n",
            "teacher: teaching, education, courses, graduate, students, taught, working, mathematics, school, teachers\n",
            "dietitian: memorial, passion, experiences, particularly, now, cooperates, many, with, group, school\n",
            "\n",
            "\n"
          ]
        },
        {
          "metadata": {
            "tags": null
          },
          "name": "stderr",
          "output_type": "stream",
          "text": [
            "30526it [02:04, 231.16it/s]"
          ]
        },
        {
          "metadata": {
            "tags": null
          },
          "name": "stdout",
          "output_type": "stream",
          "text": [
            "| epoch   1 | 30500/70832 batches | loss    1.778 \n",
            "women: involved, which, culture, she, world, social, to, between, on, students\n",
            "men: life, teaches, on, all, this, past, led, until, teaching, biological\n",
            "nurse: practitioner, diverse, doctors, affiliates, honors, specialists, collaborates, over, experiences, graduated\n",
            "doctor: association, college, completed, member, dental, dentistry, provided, fixing, services, include\n",
            "engineer: degree, technology, engineering, technical, financial, systems, mathematics, holds, phd, physics\n",
            "teacher: teaching, courses, education, students, graduate, mathematics, taught, working, teachers, schools\n",
            "dietitian: passion, particularly, over, experiences, memorial, cooperates, with, many, group, school\n",
            "\n",
            "\n"
          ]
        },
        {
          "metadata": {
            "tags": null
          },
          "name": "stderr",
          "output_type": "stream",
          "text": [
            "31025it [02:06, 230.01it/s]"
          ]
        },
        {
          "metadata": {
            "tags": null
          },
          "name": "stdout",
          "output_type": "stream",
          "text": [
            "| epoch   1 | 31000/70832 batches | loss    1.778 \n",
            "women: involved, she, which, culture, social, between, focusing, working, theory, journal\n",
            "men: teaches, life, this, past, on, all, led, in, biological, until\n",
            "nurse: practitioner, diverse, honors, doctors, affiliates, specialists, collaborates, graduated, over, experiences\n",
            "doctor: association, college, completed, member, provided, dentistry, dental, fixing, residency, services\n",
            "engineer: engineering, technology, technical, degree, systems, computer, ma, prior, numerous, holds\n",
            "teacher: teaching, education, courses, students, graduate, taught, mathematics, schools, teachers, holds\n",
            "dietitian: passion, memorial, particularly, cooperates, over, group, who, experiences, graduated, and\n",
            "\n",
            "\n"
          ]
        },
        {
          "metadata": {
            "tags": null
          },
          "name": "stderr",
          "output_type": "stream",
          "text": [
            "31522it [02:08, 227.47it/s]"
          ]
        },
        {
          "metadata": {
            "tags": null
          },
          "name": "stdout",
          "output_type": "stream",
          "text": [
            "| epoch   1 | 31500/70832 batches | loss    1.772 \n",
            "women: which, involved, culture, social, working, students, theory, world, between, works\n",
            "men: teaches, life, this, past, led, until, biological, all, more, into\n",
            "nurse: practitioner, diverse, honors, doctors, affiliates, specialists, graduated, collaborates, experiences, over\n",
            "doctor: association, college, member, completed, dentistry, hospital, provided, fixing, residency, services\n",
            "engineer: engineering, technology, technical, degree, systems, ma, prior, software, mathematics, marketing\n",
            "teacher: teaching, students, education, courses, taught, graduate, teachers, schools, mathematics, school\n",
            "dietitian: passion, experiences, memorial, cooperates, particularly, graduated, over, who, many, now\n",
            "\n",
            "\n"
          ]
        },
        {
          "metadata": {
            "tags": null
          },
          "name": "stderr",
          "output_type": "stream",
          "text": [
            "32021it [02:10, 230.07it/s]"
          ]
        },
        {
          "metadata": {
            "tags": null
          },
          "name": "stdout",
          "output_type": "stream",
          "text": [
            "| epoch   1 | 32000/70832 batches | loss    1.775 \n",
            "women: which, involved, culture, studies, theory, on, family, as, focusing, public\n",
            "men: life, teaches, this, past, with, led, until, focuses, all, into\n",
            "nurse: practitioner, diverse, honors, affiliates, doctors, specialists, collaborates, graduated, experiences, hospitals\n",
            "doctor: association, college, completed, member, services, dentistry, include, fixing, residency, provided\n",
            "engineer: engineering, technical, technology, management, systems, software, degree, numerous, marketing, ma\n",
            "teacher: teaching, education, students, taught, courses, teachers, mathematics, graduate, schools, program\n",
            "dietitian: passion, experiences, many, memorial, cooperates, over, particularly, group, but, graduated\n",
            "\n",
            "\n"
          ]
        },
        {
          "metadata": {
            "tags": null
          },
          "name": "stderr",
          "output_type": "stream",
          "text": [
            "32519it [02:12, 228.59it/s]"
          ]
        },
        {
          "metadata": {
            "tags": null
          },
          "name": "stdout",
          "output_type": "stream",
          "text": [
            "| epoch   1 | 32500/70832 batches | loss    1.769 \n",
            "women: involved, which, theory, on, culture, community, impact, family, she, working\n",
            "men: teaches, life, past, this, and, teaching, led, until, two, decision\n",
            "nurse: practitioner, diverse, honors, affiliates, specialists, doctors, collaborates, graduated, experiences, hospitals\n",
            "doctor: association, college, services, member, completed, fixing, provided, from, dentistry, include\n",
            "engineer: engineering, technical, technology, management, systems, software, numerous, financial, ma, marketing\n",
            "teacher: teaching, students, taught, education, courses, teachers, mathematics, program, graduate, schools\n",
            "dietitian: memorial, she, passion, experiences, group, cooperates, many, who, over, diverse\n",
            "\n",
            "\n"
          ]
        },
        {
          "metadata": {
            "tags": null
          },
          "name": "stderr",
          "output_type": "stream",
          "text": [
            "33014it [02:13, 211.17it/s]"
          ]
        },
        {
          "metadata": {
            "tags": null
          },
          "name": "stdout",
          "output_type": "stream",
          "text": [
            "| epoch   1 | 33000/70832 batches | loss    1.770 \n",
            "women: on, culture, works, involved, family, social, working, focusing, which, theory\n",
            "men: life, teaches, past, led, this, two, until, teaching, into, understanding\n",
            "nurse: practitioner, diverse, honors, affiliates, specialists, doctors, collaborates, graduated, hospitals, experiences\n",
            "doctor: association, college, services, completed, from, member, fixing, dentistry, provided, dr\n",
            "engineer: engineering, technical, technology, worked, software, computer, ma, degree, systems, physics\n",
            "teacher: teaching, education, taught, students, teachers, courses, mathematics, graduate, schools, program\n",
            "dietitian: passion, memorial, cooperates, experiences, who, many, stars, group, particularly, she\n",
            "\n",
            "\n"
          ]
        },
        {
          "metadata": {
            "tags": null
          },
          "name": "stderr",
          "output_type": "stream",
          "text": [
            "33525it [02:16, 219.39it/s]"
          ]
        },
        {
          "metadata": {
            "tags": null
          },
          "name": "stdout",
          "output_type": "stream",
          "text": [
            "| epoch   1 | 33500/70832 batches | loss    1.771 \n",
            "women: on, involved, culture, works, she, social, about, working, family, course\n",
            "men: life, teaches, past, to, this, led, at, until, authority, understanding\n",
            "nurse: practitioner, diverse, honors, specialists, affiliates, doctors, collaborates, graduated, experiences, hospitals\n",
            "doctor: association, college, services, member, dentistry, fixing, completed, dr, provided, residency\n",
            "engineer: engineering, technical, technology, computer, worked, software, systems, physics, financial, ma\n",
            "teacher: teaching, students, taught, education, courses, teachers, mathematics, program, graduate, schools\n",
            "dietitian: passion, memorial, who, experiences, cooperates, particularly, center, for, stars, many\n",
            "\n",
            "\n"
          ]
        },
        {
          "metadata": {
            "tags": null
          },
          "name": "stderr",
          "output_type": "stream",
          "text": [
            "34023it [02:17, 217.01it/s]"
          ]
        },
        {
          "metadata": {
            "tags": null
          },
          "name": "stdout",
          "output_type": "stream",
          "text": [
            "| epoch   1 | 34000/70832 batches | loss    1.770 \n",
            "women: social, culture, her, she, involved, which, works, working, focusing, about\n",
            "men: teaches, life, this, led, past, more, into, two, current, high\n",
            "nurse: practitioner, diverse, specialists, honors, affiliates, doctors, collaborates, graduated, experiences, hospitals\n",
            "doctor: association, member, college, services, dentistry, fixing, completed, dental, provided, by\n",
            "engineer: engineering, technology, technical, software, physics, financial, computer, systems, ma, worked\n",
            "teacher: teaching, students, education, taught, mathematics, teachers, courses, program, graduate, schools\n",
            "dietitian: memorial, passion, a, who, experiences, particularly, cooperates, graduated, many, center\n",
            "\n",
            "\n"
          ]
        },
        {
          "metadata": {
            "tags": null
          },
          "name": "stderr",
          "output_type": "stream",
          "text": [
            "34520it [02:19, 222.59it/s]"
          ]
        },
        {
          "metadata": {
            "tags": null
          },
          "name": "stdout",
          "output_type": "stream",
          "text": [
            "| epoch   1 | 34500/70832 batches | loss    1.757 \n",
            "women: culture, involved, social, working, and, works, which, on, she, her\n",
            "men: teaches, life, two, past, led, this, into, high, current, teaching\n",
            "nurse: practitioner, diverse, specialists, honors, affiliates, doctors, collaborates, experiences, hospitals, graduated\n",
            "doctor: association, college, member, fixing, dentistry, dental, completed, services, provided, by\n",
            "engineer: engineering, technical, technology, software, systems, computer, in, ma, physics, financial\n",
            "teacher: teaching, students, taught, teachers, education, mathematics, courses, program, schools, for\n",
            "dietitian: memorial, who, experiences, passion, many, cooperates, particularly, graduated, medical, is\n",
            "\n",
            "\n"
          ]
        },
        {
          "metadata": {
            "tags": null
          },
          "name": "stderr",
          "output_type": "stream",
          "text": [
            "35017it [02:21, 233.55it/s]"
          ]
        },
        {
          "metadata": {
            "tags": null
          },
          "name": "stdout",
          "output_type": "stream",
          "text": [
            "| epoch   1 | 35000/70832 batches | loss    1.763 \n",
            "women: culture, on, social, works, about, which, involved, journal, theory, her\n",
            "men: teaches, life, two, led, high, this, past, more, into, one\n",
            "nurse: practitioner, diverse, specialists, affiliates, honors, doctors, collaborates, experiences, hospitals, graduated\n",
            "doctor: association, college, fixing, completed, member, dental, dentistry, provided, residency, services\n",
            "engineer: engineering, technology, software, technical, computer, systems, he, management, physics, design\n",
            "teacher: teaching, taught, students, education, teachers, mathematics, program, courses, schools, graduate\n",
            "dietitian: memorial, experiences, more, who, passion, cooperates, graduated, stars, many, community\n",
            "\n",
            "\n"
          ]
        },
        {
          "metadata": {
            "tags": null
          },
          "name": "stderr",
          "output_type": "stream",
          "text": [
            "35517it [02:23, 229.10it/s]"
          ]
        },
        {
          "metadata": {
            "tags": null
          },
          "name": "stdout",
          "output_type": "stream",
          "text": [
            "| epoch   1 | 35500/70832 batches | loss    1.761 \n",
            "women: culture, working, works, involved, she, people, social, a, about, history\n",
            "men: teaches, life, this, led, high, two, one, past, into, all\n",
            "nurse: practitioner, diverse, specialists, affiliates, doctors, honors, collaborates, experiences, hospitals, graduated\n",
            "doctor: association, fixing, completed, provided, member, dentistry, dental, college, services, residency\n",
            "engineer: engineering, technology, technical, software, computer, systems, he, electrical, holds, physics\n",
            "teacher: teaching, taught, education, teachers, students, mathematics, program, schools, courses, teaches\n",
            "dietitian: experiences, memorial, more, who, she, cooperates, graduated, passion, group, particularly\n",
            "\n",
            "\n"
          ]
        },
        {
          "metadata": {
            "tags": null
          },
          "name": "stderr",
          "output_type": "stream",
          "text": [
            "36030it [02:25, 218.28it/s]"
          ]
        },
        {
          "metadata": {
            "tags": null
          },
          "name": "stdout",
          "output_type": "stream",
          "text": [
            "| epoch   1 | 36000/70832 batches | loss    1.761 \n",
            "women: working, culture, works, people, students, journal, about, involved, she, social\n",
            "men: teaches, this, life, led, past, two, high, into, focuses, one\n",
            "nurse: practitioner, diverse, specialists, affiliates, doctors, honors, collaborates, experiences, hospitals, graduated\n",
            "doctor: association, fixing, college, provided, dental, dentistry, completed, member, residency, services\n",
            "engineer: engineering, technology, technical, software, computer, physics, systems, management, he, mathematics\n",
            "teacher: teaching, students, teachers, taught, courses, mathematics, education, program, schools, teaches\n",
            "dietitian: experiences, memorial, graduated, more, she, who, passion, cooperates, particularly, medical\n",
            "\n",
            "\n"
          ]
        },
        {
          "metadata": {
            "tags": null
          },
          "name": "stderr",
          "output_type": "stream",
          "text": [
            "36529it [02:27, 236.67it/s]"
          ]
        },
        {
          "metadata": {
            "tags": null
          },
          "name": "stdout",
          "output_type": "stream",
          "text": [
            "| epoch   1 | 36500/70832 batches | loss    1.761 \n",
            "women: culture, working, which, works, history, involved, american, about, the, social\n",
            "men: an, teaches, life, two, this, led, past, between, one, understanding\n",
            "nurse: practitioner, diverse, specialists, affiliates, collaborates, doctors, honors, experiences, hospitals, graduated\n",
            "doctor: association, fixing, provided, college, dentistry, dental, completed, residency, member, services\n",
            "engineer: engineering, technology, technical, software, systems, computer, development, physics, management, national\n",
            "teacher: teaching, teachers, taught, students, education, mathematics, schools, courses, teaches, program\n",
            "dietitian: experiences, memorial, who, more, graduated, cooperates, passion, working, group, particularly\n",
            "\n",
            "\n"
          ]
        },
        {
          "metadata": {
            "tags": null
          },
          "name": "stderr",
          "output_type": "stream",
          "text": [
            "37024it [02:29, 221.75it/s]"
          ]
        },
        {
          "metadata": {
            "tags": null
          },
          "name": "stdout",
          "output_type": "stream",
          "text": [
            "| epoch   1 | 37000/70832 batches | loss    1.759 \n",
            "women: works, culture, which, history, social, about, involved, working, american, living\n",
            "men: teaches, this, life, two, led, past, high, understanding, between, until\n",
            "nurse: practitioner, diverse, specialists, affiliates, collaborates, honors, doctors, experiences, graduated, hospitals\n",
            "doctor: fixing, association, provided, dentistry, dental, services, completed, residency, crowns, college\n",
            "engineer: engineering, technical, technology, software, systems, computer, development, physics, holds, networks\n",
            "teacher: teaching, teachers, taught, students, mathematics, courses, education, schools, teaches, program\n",
            "dietitian: experiences, graduated, memorial, more, working, passion, cooperates, particularly, group, who\n",
            "\n",
            "\n"
          ]
        },
        {
          "metadata": {
            "tags": null
          },
          "name": "stderr",
          "output_type": "stream",
          "text": [
            "37526it [02:31, 230.44it/s]"
          ]
        },
        {
          "metadata": {
            "tags": null
          },
          "name": "stdout",
          "output_type": "stream",
          "text": [
            "| epoch   1 | 37500/70832 batches | loss    1.755 \n",
            "women: works, culture, about, american, which, social, involved, history, students, early\n",
            "men: teaches, this, and, life, high, led, understanding, which, of, two\n",
            "nurse: practitioner, diverse, specialists, affiliates, honors, doctors, collaborates, graduated, experiences, hospitals\n",
            "doctor: association, fixing, dental, completed, residency, provided, dentistry, college, hospital, services\n",
            "engineer: engineering, technical, technology, software, systems, computer, development, holds, physics, 2010\n",
            "teacher: teaching, teachers, taught, students, education, courses, mathematics, schools, teaches, program\n",
            "dietitian: graduated, experiences, memorial, she, passion, cooperates, working, group, diverse, particularly\n",
            "\n",
            "\n"
          ]
        },
        {
          "metadata": {
            "tags": null
          },
          "name": "stderr",
          "output_type": "stream",
          "text": [
            "38028it [02:33, 228.70it/s]"
          ]
        },
        {
          "metadata": {
            "tags": null
          },
          "name": "stdout",
          "output_type": "stream",
          "text": [
            "| epoch   1 | 38000/70832 batches | loss    1.754 \n",
            "women: culture, works, about, social, students, history, which, people, american, involved\n",
            "men: teaches, this, high, numerous, into, led, understanding, life, until, authority\n",
            "nurse: practitioner, diverse, specialists, affiliates, collaborates, doctors, honors, graduated, experiences, hospitals\n",
            "doctor: association, fixing, completed, residency, dental, services, dentistry, college, provided, surgery\n",
            "engineer: engineering, technology, systems, technical, software, computer, development, physics, national, 2010\n",
            "teacher: teaching, teachers, taught, students, courses, mathematics, schools, education, teaches, program\n",
            "dietitian: graduated, experiences, memorial, cooperates, passion, working, medicine, more, community, experience\n",
            "\n",
            "\n"
          ]
        },
        {
          "metadata": {
            "tags": null
          },
          "name": "stderr",
          "output_type": "stream",
          "text": [
            "38525it [02:35, 226.22it/s]"
          ]
        },
        {
          "metadata": {
            "tags": null
          },
          "name": "stdout",
          "output_type": "stream",
          "text": [
            "| epoch   1 | 38500/70832 batches | loss    1.752 \n",
            "women: works, culture, social, which, american, students, history, about, gender, she\n",
            "men: this, teaches, into, on, two, high, until, led, understanding, which\n",
            "nurse: practitioner, diverse, specialists, affiliates, honors, doctors, collaborates, experiences, hospitals, graduated\n",
            "doctor: association, fixing, completed, college, services, residency, dentistry, provided, dental, crowns\n",
            "engineer: engineering, systems, software, technical, technology, computer, national, physics, development, electrical\n",
            "teacher: teaching, teachers, students, taught, mathematics, teaches, schools, courses, education, program\n",
            "dietitian: graduated, working, experiences, memorial, cooperates, medical, passion, many, community, diverse\n",
            "\n",
            "\n"
          ]
        },
        {
          "metadata": {
            "tags": null
          },
          "name": "stderr",
          "output_type": "stream",
          "text": [
            "39024it [02:37, 223.13it/s]"
          ]
        },
        {
          "metadata": {
            "tags": null
          },
          "name": "stdout",
          "output_type": "stream",
          "text": [
            "| epoch   1 | 39000/70832 batches | loss    1.751 \n",
            "women: which, culture, works, social, about, students, history, american, world, her\n",
            "men: this, teaches, two, into, one, life, until, led, about, understanding\n",
            "nurse: practitioner, diverse, specialists, affiliates, honors, doctors, collaborates, experiences, hospitals, graduated\n",
            "doctor: association, completed, fixing, services, college, dentistry, residency, provided, dental, member\n",
            "engineer: engineering, technology, software, technical, systems, computer, national, physics, development, electrical\n",
            "teacher: teaching, teachers, students, taught, teaches, education, mathematics, schools, courses, program\n",
            "dietitian: graduated, working, experiences, she, with, medicine, memorial, cooperates, medical, experience\n",
            "\n",
            "\n"
          ]
        },
        {
          "metadata": {
            "tags": null
          },
          "name": "stderr",
          "output_type": "stream",
          "text": [
            "39533it [02:39, 230.77it/s]"
          ]
        },
        {
          "metadata": {
            "tags": null
          },
          "name": "stdout",
          "output_type": "stream",
          "text": [
            "| epoch   1 | 39500/70832 batches | loss    1.748 \n",
            "women: culture, works, history, students, which, american, social, about, articles, modern\n",
            "men: teaches, two, this, into, one, understanding, can, about, authority, until\n",
            "nurse: practitioner, diverse, affiliates, specialists, honors, experiences, doctors, collaborates, hospitals, graduated\n",
            "doctor: association, fixing, completed, services, college, dentistry, provided, residency, dental, crowns\n",
            "engineer: technology, engineering, software, technical, computer, systems, development, physics, electrical, senior\n",
            "teacher: teaching, teachers, students, education, taught, teaches, mathematics, schools, program, school\n",
            "dietitian: graduated, experiences, memorial, working, medicine, cooperates, medical, experience, she, passion\n",
            "\n",
            "\n"
          ]
        },
        {
          "metadata": {
            "tags": null
          },
          "name": "stderr",
          "output_type": "stream",
          "text": [
            "40026it [02:41, 229.03it/s]"
          ]
        },
        {
          "metadata": {
            "tags": null
          },
          "name": "stdout",
          "output_type": "stream",
          "text": [
            "| epoch   1 | 40000/70832 batches | loss    1.752 \n",
            "women: culture, about, works, students, which, her, history, people, social, world\n",
            "men: this, has, teaches, understanding, life, two, a, led, one, authority\n",
            "nurse: practitioner, diverse, affiliates, specialists, honors, collaborates, experiences, doctors, hospitals, graduated\n",
            "doctor: completed, association, fixing, college, dentistry, services, residency, provided, dental, hospital\n",
            "engineer: engineering, technology, technical, software, systems, computer, physics, electrical, national, served\n",
            "teacher: teaching, teachers, education, students, taught, mathematics, schools, teaches, courses, elementary\n",
            "dietitian: graduated, experiences, memorial, cooperates, working, she, passion, medicine, care, particularly\n",
            "\n",
            "\n"
          ]
        },
        {
          "metadata": {
            "tags": null
          },
          "name": "stderr",
          "output_type": "stream",
          "text": [
            "40527it [02:43, 221.06it/s]"
          ]
        },
        {
          "metadata": {
            "tags": null
          },
          "name": "stdout",
          "output_type": "stream",
          "text": [
            "| epoch   1 | 40500/70832 batches | loss    1.749 \n",
            "women: culture, about, works, her, american, students, which, history, world, gender\n",
            "men: this, teaches, work, understanding, led, life, can, into, until, high\n",
            "nurse: practitioner, diverse, affiliates, specialists, honors, collaborates, doctors, experiences, hospitals, nursing\n",
            "doctor: association, fixing, completed, dental, services, dentistry, college, provided, crowns, from\n",
            "engineer: engineering, technical, technology, software, systems, computer, physics, electrical, served, numerous\n",
            "teacher: teaching, education, teachers, students, taught, mathematics, teaches, schools, courses, elementary\n",
            "dietitian: experiences, graduated, memorial, particularly, she, experience, passion, working, who, cooperates\n",
            "\n",
            "\n"
          ]
        },
        {
          "metadata": {
            "tags": null
          },
          "name": "stderr",
          "output_type": "stream",
          "text": [
            "41025it [02:45, 215.48it/s]"
          ]
        },
        {
          "metadata": {
            "tags": null
          },
          "name": "stdout",
          "output_type": "stream",
          "text": [
            "| epoch   1 | 41000/70832 batches | loss    1.748 \n",
            "women: culture, her, history, about, works, students, gender, women’s, social, modern\n",
            "men: work, this, understanding, teaches, life, led, can, into, authority, until\n",
            "nurse: practitioner, diverse, affiliates, specialists, honors, doctors, collaborates, experiences, nursing, hospitals\n",
            "doctor: association, completed, fixing, dental, college, provided, member, dentistry, crowns, residency\n",
            "engineer: technology, engineering, technical, software, systems, computer, physics, electrical, development, web\n",
            "teacher: teaching, education, teachers, students, taught, mathematics, teaches, schools, elementary, courses\n",
            "dietitian: experiences, memorial, experience, graduated, particularly, care, working, who, medicine, cooperates\n",
            "\n",
            "\n"
          ]
        },
        {
          "metadata": {
            "tags": null
          },
          "name": "stderr",
          "output_type": "stream",
          "text": [
            "41524it [02:47, 225.97it/s]"
          ]
        },
        {
          "metadata": {
            "tags": null
          },
          "name": "stdout",
          "output_type": "stream",
          "text": [
            "| epoch   1 | 41500/70832 batches | loss    1.747 \n",
            "women: her, culture, history, works, people, about, women’s, which, gender, social\n",
            "men: this, teaches, and, led, work, understanding, can, life, which, one\n",
            "nurse: practitioner, diverse, affiliates, honors, specialists, doctors, collaborates, experiences, hospitals, nursing\n",
            "doctor: completed, fixing, association, dental, college, provided, crowns, services, dentistry, member\n",
            "engineer: technology, engineering, technical, software, computer, systems, development, electrical, physics, numerous\n",
            "teacher: teaching, teachers, students, education, mathematics, taught, teaches, schools, elementary, courses\n",
            "dietitian: graduated, memorial, experiences, experience, who, care, diverse, cooperates, nutrition, particularly\n",
            "\n",
            "\n"
          ]
        },
        {
          "metadata": {
            "tags": null
          },
          "name": "stderr",
          "output_type": "stream",
          "text": [
            "42012it [02:48, 203.94it/s]"
          ]
        },
        {
          "metadata": {
            "tags": null
          },
          "name": "stdout",
          "output_type": "stream",
          "text": [
            "| epoch   1 | 42000/70832 batches | loss    1.745 \n",
            "women: culture, about, social, her, women’s, history, people, the, early, world\n",
            "men: this, work, led, understanding, can, teaches, it, until, one, life\n",
            "nurse: practitioner, diverse, honors, affiliates, specialists, doctors, collaborates, hospitals, experiences, nursing\n",
            "doctor: completed, fixing, association, provided, college, dental, crowns, services, dentistry, member\n",
            "engineer: technology, software, technical, engineering, computer, systems, development, physics, electrical, web\n",
            "teacher: teaching, education, teachers, students, mathematics, taught, teaches, schools, educational, elementary\n",
            "dietitian: experiences, memorial, graduated, with, working, nutrition, care, experience, cooperates, particularly\n",
            "\n",
            "\n"
          ]
        },
        {
          "metadata": {
            "tags": null
          },
          "name": "stderr",
          "output_type": "stream",
          "text": [
            "42512it [02:50, 222.76it/s]"
          ]
        },
        {
          "metadata": {
            "tags": null
          },
          "name": "stdout",
          "output_type": "stream",
          "text": [
            "| epoch   1 | 42500/70832 batches | loss    1.746 \n",
            "women: social, her, culture, about, world, on, women’s, which, identity, history\n",
            "men: work, this, led, can, it, understanding, teaches, until, group, life\n",
            "nurse: practitioner, diverse, honors, specialists, affiliates, hospitals, doctors, collaborates, experiences, nursing\n",
            "doctor: association, fixing, provided, completed, crowns, dental, member, college, dentistry, bridges\n",
            "engineer: technology, engineering, technical, software, computer, systems, development, physics, electrical, numerous\n",
            "teacher: teaching, education, teachers, students, taught, mathematics, schools, teaches, elementary, educational\n",
            "dietitian: memorial, experiences, care, graduated, with, nutrition, particularly, diverse, cooperates, experience\n",
            "\n",
            "\n"
          ]
        },
        {
          "metadata": {
            "tags": null
          },
          "name": "stderr",
          "output_type": "stream",
          "text": [
            "43026it [02:52, 227.01it/s]"
          ]
        },
        {
          "metadata": {
            "tags": null
          },
          "name": "stdout",
          "output_type": "stream",
          "text": [
            "| epoch   1 | 43000/70832 batches | loss    1.744 \n",
            "women: women’s, about, works, history, social, which, people, culture, world, living\n",
            "men: work, this, can, led, life, many, understanding, it, past, different\n",
            "nurse: practitioner, diverse, honors, affiliates, specialists, doctors, hospitals, collaborates, experiences, nursing\n",
            "doctor: association, fixing, completed, provided, crowns, dental, dentistry, college, tooth, bridges\n",
            "engineer: technology, software, technical, computer, engineering, systems, development, electrical, physics, networks\n",
            "teacher: teaching, education, teachers, taught, students, mathematics, teaches, elementary, schools, educational\n",
            "dietitian: graduated, experiences, care, memorial, experience, particularly, nutrition, cooperates, diverse, working\n",
            "\n",
            "\n"
          ]
        },
        {
          "metadata": {
            "tags": null
          },
          "name": "stderr",
          "output_type": "stream",
          "text": [
            "43521it [02:54, 211.21it/s]"
          ]
        },
        {
          "metadata": {
            "tags": null
          },
          "name": "stdout",
          "output_type": "stream",
          "text": [
            "| epoch   1 | 43500/70832 batches | loss    1.740 \n",
            "women: about, social, culture, living, works, which, modern, women’s, people, history\n",
            "men: work, this, can, led, as, group, understanding, numerous, it, past\n",
            "nurse: practitioner, diverse, affiliates, honors, specialists, doctors, hospitals, experiences, collaborates, nursing\n",
            "doctor: fixing, association, college, crowns, completed, provided, dental, member, sciences, implant\n",
            "engineer: technology, software, engineering, computer, technical, development, systems, electrical, networks, physics\n",
            "teacher: teaching, education, teachers, students, mathematics, taught, schools, elementary, educational, teaches\n",
            "dietitian: experiences, memorial, graduated, experience, cooperates, particularly, care, medical, diverse, who\n",
            "\n",
            "\n"
          ]
        },
        {
          "metadata": {
            "tags": null
          },
          "name": "stderr",
          "output_type": "stream",
          "text": [
            "44017it [02:56, 227.49it/s]"
          ]
        },
        {
          "metadata": {
            "tags": null
          },
          "name": "stdout",
          "output_type": "stream",
          "text": [
            "| epoch   1 | 44000/70832 batches | loss    1.732 \n",
            "women: culture, modern, social, living, identity, people, history, which, early, about\n",
            "men: work, this, to, led, can, understanding, it, just, group, independently\n",
            "nurse: practitioner, diverse, affiliates, experiences, honors, nursing, specialists, collaborates, doctors, hospitals\n",
            "doctor: association, fixing, college, crowns, provided, completed, hospital, tooth, dental, dentistry\n",
            "engineer: technology, software, engineering, technical, computer, systems, development, electrical, physics, networks\n",
            "teacher: education, teaching, teachers, taught, students, mathematics, schools, elementary, educational, courses\n",
            "dietitian: experiences, memorial, experience, cooperates, particularly, training, care, graduated, nutrition, or\n",
            "\n",
            "\n"
          ]
        },
        {
          "metadata": {
            "tags": null
          },
          "name": "stderr",
          "output_type": "stream",
          "text": [
            "44517it [02:58, 231.29it/s]"
          ]
        },
        {
          "metadata": {
            "tags": null
          },
          "name": "stdout",
          "output_type": "stream",
          "text": [
            "| epoch   1 | 44500/70832 batches | loss    1.745 \n",
            "women: culture, social, which, modern, identity, about, women’s, gender, people, living\n",
            "men: work, this, can, led, it, understanding, just, numerous, independently, life\n",
            "nurse: practitioner, diverse, affiliates, specialists, nursing, experiences, honors, collaborates, hospitals, doctors\n",
            "doctor: association, fixing, crowns, college, completed, provided, dental, member, hospital, tooth\n",
            "engineer: software, technology, engineering, computer, technical, systems, development, electrical, physics, web\n",
            "teacher: teaching, education, teachers, taught, students, mathematics, elementary, schools, teaches, courses\n",
            "dietitian: experiences, memorial, particularly, experience, care, cooperates, years, diverse, family, nutrition\n",
            "\n",
            "\n"
          ]
        },
        {
          "metadata": {
            "tags": null
          },
          "name": "stderr",
          "output_type": "stream",
          "text": [
            "45018it [03:00, 231.70it/s]"
          ]
        },
        {
          "metadata": {
            "tags": null
          },
          "name": "stdout",
          "output_type": "stream",
          "text": [
            "| epoch   1 | 45000/70832 batches | loss    1.738 \n",
            "women: social, culture, history, about, living, women’s, which, identity, world, people\n",
            "men: can, this, work, led, group, understanding, life, it, just, past\n",
            "nurse: practitioner, diverse, affiliates, experiences, specialists, collaborates, nursing, honors, hospitals, doctors\n",
            "doctor: fixing, association, college, crowns, provided, dental, member, hospital, completed, tooth\n",
            "engineer: technology, software, engineering, computer, technical, systems, electrical, physics, development, computing\n",
            "teacher: teaching, education, teachers, students, taught, mathematics, elementary, educational, schools, courses\n",
            "dietitian: experiences, family, memorial, graduated, diverse, cooperates, and, years, experience, no\n",
            "\n",
            "\n"
          ]
        },
        {
          "metadata": {
            "tags": null
          },
          "name": "stderr",
          "output_type": "stream",
          "text": [
            "45517it [03:02, 229.86it/s]"
          ]
        },
        {
          "metadata": {
            "tags": null
          },
          "name": "stdout",
          "output_type": "stream",
          "text": [
            "| epoch   1 | 45500/70832 batches | loss    1.736 \n",
            "women: social, culture, on, history, women’s, author, which, living, and, about\n",
            "men: in, this, work, can, understanding, life, led, group, through, just\n",
            "nurse: practitioner, diverse, affiliates, specialists, collaborates, experiences, honors, hospitals, nursing, doctors\n",
            "doctor: fixing, association, crowns, member, college, provided, dental, completed, tooth, bridges\n",
            "engineer: technology, software, computer, technical, engineering, systems, electrical, web, computing, physics\n",
            "teacher: teaching, education, teachers, students, elementary, taught, mathematics, courses, educational, schools\n",
            "dietitian: experiences, family, working, memorial, years, cooperates, graduated, medical, hospital, worked\n",
            "\n",
            "\n"
          ]
        },
        {
          "metadata": {
            "tags": null
          },
          "name": "stderr",
          "output_type": "stream",
          "text": [
            "46033it [03:04, 234.21it/s]"
          ]
        },
        {
          "metadata": {
            "tags": null
          },
          "name": "stdout",
          "output_type": "stream",
          "text": [
            "| epoch   1 | 46000/70832 batches | loss    1.737 \n",
            "women: history, which, modern, living, social, culture, author, women’s, literature, press\n",
            "men: this, understanding, life, can, just, through, led, independently, it, past\n",
            "nurse: practitioner, affiliates, diverse, specialists, collaborates, hospitals, honors, doctors, experiences, nursing\n",
            "doctor: fixing, crowns, member, association, provided, college, tooth, completed, bridges, dental\n",
            "engineer: technology, software, computer, technical, engineering, systems, electrical, web, computing, physics\n",
            "teacher: education, teaching, teachers, students, elementary, taught, mathematics, schools, courses, educational\n",
            "dietitian: experiences, years, memorial, cooperates, worked, diverse, graduated, family, who, nutrition\n",
            "\n",
            "\n"
          ]
        },
        {
          "metadata": {
            "tags": null
          },
          "name": "stderr",
          "output_type": "stream",
          "text": [
            "46522it [03:06, 230.34it/s]"
          ]
        },
        {
          "metadata": {
            "tags": null
          },
          "name": "stdout",
          "output_type": "stream",
          "text": [
            "| epoch   1 | 46500/70832 batches | loss    1.732 \n",
            "women: which, modern, author, culture, history, living, world, women’s, press, identity\n",
            "men: this, life, led, understanding, numerous, can, just, independently, it, experiments\n",
            "nurse: practitioner, affiliates, diverse, specialists, collaborates, doctors, nursing, honors, hospitals, experiences\n",
            "doctor: fixing, crowns, association, provided, member, completed, tooth, bridges, dental, college\n",
            "engineer: technology, software, engineering, computer, technical, systems, web, numerous, electrical, computing\n",
            "teacher: education, teaching, teachers, students, taught, mathematics, elementary, schools, courses, educational\n",
            "dietitian: years, nutrition, cooperates, experiences, memorial, who, worked, graduated, no, diverse\n",
            "\n",
            "\n"
          ]
        },
        {
          "metadata": {
            "tags": null
          },
          "name": "stderr",
          "output_type": "stream",
          "text": [
            "47025it [03:08, 229.33it/s]"
          ]
        },
        {
          "metadata": {
            "tags": null
          },
          "name": "stdout",
          "output_type": "stream",
          "text": [
            "| epoch   1 | 47000/70832 batches | loss    1.735 \n",
            "women: which, culture, author, modern, living, history, about, early, people, american\n",
            "men: this, led, understanding, life, numerous, just, independently, to, experiments, group\n",
            "nurse: practitioner, specialists, affiliates, diverse, doctors, collaborates, nursing, honors, hospitals, experiences\n",
            "doctor: fixing, crowns, provided, association, member, bridges, tooth, completed, college, dental\n",
            "engineer: technology, computer, software, technical, engineering, systems, numerous, web, computing, electrical\n",
            "teacher: education, teaching, teachers, taught, mathematics, students, schools, elementary, courses, curriculum\n",
            "dietitian: who, nutrition, experiences, cooperates, memorial, no, graduated, experience, years, particularly\n",
            "\n",
            "\n"
          ]
        },
        {
          "metadata": {
            "tags": null
          },
          "name": "stderr",
          "output_type": "stream",
          "text": [
            "47521it [03:10, 229.29it/s]"
          ]
        },
        {
          "metadata": {
            "tags": null
          },
          "name": "stdout",
          "output_type": "stream",
          "text": [
            "| epoch   1 | 47500/70832 batches | loss    1.732 \n",
            "women: which, american, culture, modern, history, press, author, living, people, women’s\n",
            "men: this, understanding, led, numerous, just, independently, it, can, experiments, transport\n",
            "nurse: practitioner, diverse, doctors, collaborates, affiliates, specialists, nursing, honors, hospitals, experiences\n",
            "doctor: fixing, association, crowns, completed, college, provided, bridges, tooth, implant, by\n",
            "engineer: technology, software, engineering, computer, technical, systems, worked, electrical, development, web\n",
            "teacher: education, teaching, teachers, students, taught, elementary, schools, mathematics, curriculum, graduate\n",
            "dietitian: years, nutrition, experience, experiences, cooperates, no, but, collaborates, clinical, memorial\n",
            "\n",
            "\n"
          ]
        },
        {
          "metadata": {
            "tags": null
          },
          "name": "stderr",
          "output_type": "stream",
          "text": [
            "48021it [03:12, 229.12it/s]"
          ]
        },
        {
          "metadata": {
            "tags": null
          },
          "name": "stdout",
          "output_type": "stream",
          "text": [
            "| epoch   1 | 48000/70832 batches | loss    1.728 \n",
            "women: culture, american, which, history, author, modern, early, people, women’s, literature\n",
            "men: this, understanding, to, for, led, just, independently, interested, area, it\n",
            "nurse: practitioner, affiliates, diverse, collaborates, specialists, doctors, experiences, nursing, honors, hospitals\n",
            "doctor: fixing, association, college, provided, crowns, completed, bridges, tooth, implant, dental\n",
            "engineer: technology, engineering, software, computer, technical, systems, worked, web, electrical, computing\n",
            "teacher: teaching, education, teachers, students, schools, elementary, taught, children, mathematics, curriculum\n",
            "dietitian: years, experience, clinical, nutrition, experiences, she, no, cooperates, but, memorial\n",
            "\n",
            "\n"
          ]
        },
        {
          "metadata": {
            "tags": null
          },
          "name": "stderr",
          "output_type": "stream",
          "text": [
            "48519it [03:14, 223.39it/s]"
          ]
        },
        {
          "metadata": {
            "tags": null
          },
          "name": "stdout",
          "output_type": "stream",
          "text": [
            "| epoch   1 | 48500/70832 batches | loss    1.735 \n",
            "women: which, author, american, history, culture, the, early, women’s, modern, people\n",
            "men: this, just, understanding, led, independently, interested, can, poems, any, have\n",
            "nurse: practitioner, affiliates, diverse, specialists, collaborates, doctors, nursing, experiences, honors, hospitals\n",
            "doctor: fixing, completed, association, crowns, provided, college, bridges, member, tooth, implant\n",
            "engineer: technology, engineering, software, computer, technical, systems, worked, electrical, web, computing\n",
            "teacher: teaching, education, teachers, students, elementary, schools, taught, mathematics, children, curriculum\n",
            "dietitian: years, nutrition, no, experience, a, experiences, clinical, cooperates, who, memorial\n",
            "\n",
            "\n"
          ]
        },
        {
          "metadata": {
            "tags": null
          },
          "name": "stderr",
          "output_type": "stream",
          "text": [
            "49021it [03:16, 204.49it/s]"
          ]
        },
        {
          "metadata": {
            "tags": null
          },
          "name": "stdout",
          "output_type": "stream",
          "text": [
            "| epoch   1 | 49000/70832 batches | loss    1.730 \n",
            "women: which, author, culture, cultural, history, people, gender, women’s, american, modern\n",
            "men: this, led, understanding, just, can, independently, it, poems, past, interested\n",
            "nurse: practitioner, diverse, affiliates, specialists, collaborates, doctors, experiences, nursing, hospitals, honors\n",
            "doctor: fixing, completed, association, crowns, provided, college, member, bridges, dental, tooth\n",
            "engineer: technology, engineering, software, computer, technical, systems, electrical, web, worked, machine\n",
            "teacher: education, teaching, teachers, students, elementary, schools, taught, mathematics, children, educational\n",
            "dietitian: years, nutrition, experiences, no, medical, she, cooperates, who, memorial, experience\n",
            "\n",
            "\n"
          ]
        },
        {
          "metadata": {
            "tags": null
          },
          "name": "stderr",
          "output_type": "stream",
          "text": [
            "49522it [03:18, 223.90it/s]"
          ]
        },
        {
          "metadata": {
            "tags": null
          },
          "name": "stdout",
          "output_type": "stream",
          "text": [
            "| epoch   1 | 49500/70832 batches | loss    1.732 \n",
            "women: culture, which, author, american, cultural, gender, women’s, literature, history, among\n",
            "men: this, understanding, led, just, poems, independently, area, numerous, it, into\n",
            "nurse: practitioner, diverse, affiliates, specialists, collaborates, doctors, hospitals, honors, nursing, experiences\n",
            "doctor: completed, fixing, college, association, provided, crowns, member, bridges, dental, implant\n",
            "engineer: engineering, technology, software, computer, technical, systems, electrical, worked, development, machine\n",
            "teacher: teachers, education, teaching, students, schools, elementary, taught, courses, educational, curriculum\n",
            "dietitian: years, nutrition, no, school, cooperates, memorial, with, clinical, experiences, registered\n",
            "\n",
            "\n"
          ]
        },
        {
          "metadata": {
            "tags": null
          },
          "name": "stderr",
          "output_type": "stream",
          "text": [
            "50021it [03:19, 221.78it/s]"
          ]
        },
        {
          "metadata": {
            "tags": null
          },
          "name": "stdout",
          "output_type": "stream",
          "text": [
            "| epoch   1 | 50000/70832 batches | loss    1.729 \n",
            "women: culture, author, cultural, women’s, history, gender, american, literature, early, book\n",
            "men: led, this, just, understanding, independently, into, numerous, poems, can, have\n",
            "nurse: practitioner, diverse, specialists, affiliates, collaborates, hospitals, doctors, experiences, honors, nursing\n",
            "doctor: college, completed, fixing, association, member, provided, crowns, dental, bridges, implant\n",
            "engineer: technology, engineering, software, computer, technical, systems, electrical, worked, machine, computing\n",
            "teacher: teachers, education, teaching, students, schools, elementary, taught, educational, courses, curriculum\n",
            "dietitian: years, memorial, nutrition, experiences, particularly, clinical, no, she, cooperates, registered\n",
            "\n",
            "\n"
          ]
        },
        {
          "metadata": {
            "tags": null
          },
          "name": "stderr",
          "output_type": "stream",
          "text": [
            "50519it [03:21, 209.64it/s]"
          ]
        },
        {
          "metadata": {
            "tags": null
          },
          "name": "stdout",
          "output_type": "stream",
          "text": [
            "| epoch   1 | 50500/70832 batches | loss    1.727 \n",
            "women: culture, cultural, gender, american, author, women’s, history, book, people, literature\n",
            "men: led, this, just, area, independently, understanding, into, interested, it, past\n",
            "nurse: practitioner, diverse, specialists, collaborates, affiliates, hospitals, doctors, experiences, honors, nursing\n",
            "doctor: fixing, college, association, completed, member, crowns, provided, bridges, services, dental\n",
            "engineer: engineering, technology, software, technical, computer, systems, electrical, worked, machine, computing\n",
            "teacher: teaching, teachers, education, students, schools, elementary, courses, curriculum, children, taught\n",
            "dietitian: years, nutrition, memorial, clinical, experiences, particularly, cooperates, no, medical, registered\n",
            "\n",
            "\n"
          ]
        },
        {
          "metadata": {
            "tags": null
          },
          "name": "stderr",
          "output_type": "stream",
          "text": [
            "51014it [03:23, 230.07it/s]"
          ]
        },
        {
          "metadata": {
            "tags": null
          },
          "name": "stdout",
          "output_type": "stream",
          "text": [
            "| epoch   1 | 51000/70832 batches | loss    1.729 \n",
            "women: in, gender, culture, women’s, cultural, american, people, author, social, america\n",
            "men: just, this, led, group, understanding, area, independently, into, interested, having\n",
            "nurse: practitioner, specialists, collaborates, diverse, affiliates, doctors, hospitals, experiences, honors, nursing\n",
            "doctor: college, fixing, association, completed, services, member, crowns, provided, bridges, dental\n",
            "engineer: software, technology, computer, technical, engineering, systems, electrical, computing, machine, development\n",
            "teacher: teachers, teaching, education, students, schools, elementary, taught, courses, children, curriculum\n",
            "dietitian: years, nutrition, no, experiences, graduated, clinical, memorial, cooperates, or, registered\n",
            "\n",
            "\n"
          ]
        },
        {
          "metadata": {
            "tags": null
          },
          "name": "stderr",
          "output_type": "stream",
          "text": [
            "51534it [03:25, 230.85it/s]"
          ]
        },
        {
          "metadata": {
            "tags": null
          },
          "name": "stdout",
          "output_type": "stream",
          "text": [
            "| epoch   1 | 51500/70832 batches | loss    1.730 \n",
            "women: cultural, culture, gender, women’s, american, literature, history, america, social, people\n",
            "men: this, group, just, led, independently, understanding, which, interested, one, having\n",
            "nurse: practitioner, collaborates, specialists, diverse, affiliates, doctors, hospitals, honors, experiences, nursing\n",
            "doctor: fixing, association, completed, crowns, bridges, services, college, provided, member, dental\n",
            "engineer: engineering, software, technical, computer, technology, systems, electrical, worked, machine, development\n",
            "teacher: teachers, education, teaching, students, schools, elementary, taught, children, courses, curriculum\n",
            "dietitian: years, clinical, nutrition, no, who, memorial, experiences, cooperates, registered, or\n",
            "\n",
            "\n"
          ]
        },
        {
          "metadata": {
            "tags": null
          },
          "name": "stderr",
          "output_type": "stream",
          "text": [
            "52028it [03:27, 233.95it/s]"
          ]
        },
        {
          "metadata": {
            "tags": null
          },
          "name": "stdout",
          "output_type": "stream",
          "text": [
            "| epoch   1 | 52000/70832 batches | loss    1.729 \n",
            "women: gender, culture, women’s, cultural, social, america, book, early, history, american\n",
            "men: this, just, led, has, understanding, independently, group, one, which, into\n",
            "nurse: practitioner, collaborates, specialists, diverse, affiliates, doctors, honors, hospitals, experiences, nursing\n",
            "doctor: fixing, association, college, services, bridges, crowns, provided, completed, implant, dental\n",
            "engineer: engineering, computer, software, technical, technology, worked, systems, electrical, machine, computing\n",
            "teacher: teachers, education, students, teaching, schools, elementary, courses, taught, children, curriculum\n",
            "dietitian: clinical, nutrition, no, years, experiences, memorial, graduated, particularly, cooperates, registered\n",
            "\n",
            "\n"
          ]
        },
        {
          "metadata": {
            "tags": null
          },
          "name": "stderr",
          "output_type": "stream",
          "text": [
            "52519it [03:29, 231.19it/s]"
          ]
        },
        {
          "metadata": {
            "tags": null
          },
          "name": "stdout",
          "output_type": "stream",
          "text": [
            "| epoch   1 | 52500/70832 batches | loss    1.723 \n",
            "women: culture, gender, people, women’s, cultural, children, living, early, american, book\n",
            "men: just, understanding, led, this, independently, into, have, group, interested, having\n",
            "nurse: practitioner, collaborates, diverse, specialists, affiliates, doctors, hospitals, experiences, honors, nursing\n",
            "doctor: fixing, crowns, association, bridges, provided, services, completed, college, implant, member\n",
            "engineer: software, engineering, computer, technology, technical, systems, electrical, worked, machine, computing\n",
            "teacher: teachers, education, teaching, students, schools, elementary, courses, taught, children, high\n",
            "dietitian: nutrition, clinical, no, who, registered, cooperates, memorial, years, medical, experiences\n",
            "\n",
            "\n"
          ]
        },
        {
          "metadata": {
            "tags": null
          },
          "name": "stderr",
          "output_type": "stream",
          "text": [
            "53023it [03:31, 229.79it/s]"
          ]
        },
        {
          "metadata": {
            "tags": null
          },
          "name": "stdout",
          "output_type": "stream",
          "text": [
            "| epoch   1 | 53000/70832 batches | loss    1.727 \n",
            "women: culture, gender, people, american, women’s, living, children, cultural, early, family\n",
            "men: into, this, group, just, understanding, led, independently, one, poems, worldwide\n",
            "nurse: practitioner, diverse, collaborates, specialists, affiliates, experiences, doctors, hospitals, nursing, honors\n",
            "doctor: fixing, provided, crowns, bridges, member, services, association, implant, completed, college\n",
            "engineer: software, engineering, computer, technical, technology, systems, electrical, worked, company, machine\n",
            "teacher: teachers, teaching, education, schools, students, taught, elementary, educational, courses, curriculum\n",
            "dietitian: nutrition, clinical, no, years, memorial, experiences, registered, cooperates, nurse, who\n",
            "\n",
            "\n"
          ]
        },
        {
          "metadata": {
            "tags": null
          },
          "name": "stderr",
          "output_type": "stream",
          "text": [
            "53518it [03:33, 197.68it/s]"
          ]
        },
        {
          "metadata": {
            "tags": null
          },
          "name": "stdout",
          "output_type": "stream",
          "text": [
            "| epoch   1 | 53500/70832 batches | loss    1.716 \n",
            "women: gender, culture, people, american, living, women’s, children, identity, early, recently\n",
            "men: into, this, understanding, on, one, interested, just, area, group, worldwide\n",
            "nurse: practitioner, diverse, collaborates, specialists, affiliates, nursing, doctors, hospitals, experiences, honors\n",
            "doctor: fixing, member, provided, crowns, bridges, association, college, completed, implant, tooth\n",
            "engineer: software, computer, engineering, technical, technology, systems, electrical, worked, machine, computing\n",
            "teacher: teachers, teaching, students, taught, education, schools, elementary, educational, curriculum, courses\n",
            "dietitian: clinical, nutrition, no, memorial, experiences, registered, years, cooperates, graduated, medical\n",
            "\n",
            "\n"
          ]
        },
        {
          "metadata": {
            "tags": null
          },
          "name": "stderr",
          "output_type": "stream",
          "text": [
            "54013it [03:35, 229.98it/s]"
          ]
        },
        {
          "metadata": {
            "tags": null
          },
          "name": "stdout",
          "output_type": "stream",
          "text": [
            "| epoch   1 | 54000/70832 batches | loss    1.727 \n",
            "women: gender, culture, people, identity, living, women’s, american, race, she, recently\n",
            "men: one, to, into, understanding, this, area, just, led, interested, poems\n",
            "nurse: practitioner, diverse, collaborates, affiliates, nursing, specialists, doctors, hospitals, honors, experiences\n",
            "doctor: fixing, member, provided, crowns, bridges, completed, tooth, association, implant, sciences\n",
            "engineer: software, computer, engineering, technical, technology, systems, electrical, worked, machine, computing\n",
            "teacher: teachers, education, taught, teaching, students, schools, elementary, educational, curriculum, high\n",
            "dietitian: clinical, nutrition, no, years, memorial, registered, experiences, cooperates, experience, nurse\n",
            "\n",
            "\n"
          ]
        },
        {
          "metadata": {
            "tags": null
          },
          "name": "stderr",
          "output_type": "stream",
          "text": [
            "54514it [03:37, 230.87it/s]"
          ]
        },
        {
          "metadata": {
            "tags": null
          },
          "name": "stdout",
          "output_type": "stream",
          "text": [
            "| epoch   1 | 54500/70832 batches | loss    1.720 \n",
            "women: culture, gender, living, identity, people, cultural, women’s, america, children, history\n",
            "men: one, into, on, just, this, understanding, led, having, area, poems\n",
            "nurse: practitioner, nursing, collaborates, diverse, affiliates, specialists, hospitals, experiences, doctors, honors\n",
            "doctor: fixing, provided, member, completed, crowns, association, bridges, tooth, implant, dentistry\n",
            "engineer: software, computer, engineering, technical, technology, worked, systems, electrical, machine, computing\n",
            "teacher: teachers, education, teaching, taught, students, elementary, schools, educational, high, for\n",
            "dietitian: clinical, nutrition, no, memorial, experiences, registered, years, cooperates, or, graduated\n",
            "\n",
            "\n"
          ]
        },
        {
          "metadata": {
            "tags": null
          },
          "name": "stderr",
          "output_type": "stream",
          "text": [
            "55036it [03:39, 235.71it/s]"
          ]
        },
        {
          "metadata": {
            "tags": null
          },
          "name": "stdout",
          "output_type": "stream",
          "text": [
            "| epoch   1 | 55000/70832 batches | loss    1.718 \n",
            "women: culture, gender, living, identity, women’s, cultural, children, people, america, about\n",
            "men: on, into, one, just, this, led, understanding, would, role, area\n",
            "nurse: practitioner, collaborates, nursing, diverse, affiliates, specialists, hospitals, experiences, honors, doctors\n",
            "doctor: fixing, provided, completed, member, crowns, association, bridges, implant, college, tooth\n",
            "engineer: software, engineering, computer, technical, worked, technology, systems, electrical, machine, computing\n",
            "teacher: teachers, education, taught, teaching, schools, elementary, students, educational, high, mathematics\n",
            "dietitian: clinical, nutrition, with, no, registered, memorial, experiences, or, cooperates, years\n",
            "\n",
            "\n"
          ]
        },
        {
          "metadata": {
            "tags": null
          },
          "name": "stderr",
          "output_type": "stream",
          "text": [
            "55534it [03:41, 233.07it/s]"
          ]
        },
        {
          "metadata": {
            "tags": null
          },
          "name": "stdout",
          "output_type": "stream",
          "text": [
            "| epoch   1 | 55500/70832 batches | loss    1.719 \n",
            "women: gender, culture, living, people, women’s, identity, she, children, studies, family\n",
            "men: one, into, just, this, led, on, would, life, understanding, having\n",
            "nurse: practitioner, collaborates, specialists, affiliates, nursing, diverse, hospitals, experiences, honors, doctors\n",
            "doctor: fixing, provided, member, completed, college, crowns, association, bridges, tooth, dentistry\n",
            "engineer: software, engineering, computer, technical, worked, technology, systems, electrical, machine, computing\n",
            "teacher: teachers, teaching, education, taught, schools, elementary, students, educational, mathematics, high\n",
            "dietitian: clinical, nutrition, no, registered, with, experiences, medical, memorial, or, psychologist\n",
            "\n",
            "\n"
          ]
        },
        {
          "metadata": {
            "tags": null
          },
          "name": "stderr",
          "output_type": "stream",
          "text": [
            "56031it [03:43, 230.79it/s]"
          ]
        },
        {
          "metadata": {
            "tags": null
          },
          "name": "stdout",
          "output_type": "stream",
          "text": [
            "| epoch   1 | 56000/70832 batches | loss    1.718 \n",
            "women: gender, people, culture, women’s, family, living, identity, recently, literature, early\n",
            "men: one, just, led, this, on, into, understanding, life, would, interested\n",
            "nurse: practitioner, nursing, collaborates, specialists, diverse, affiliates, hospitals, experiences, honors, doctors\n",
            "doctor: fixing, provided, college, member, completed, crowns, association, bridges, tooth, implant\n",
            "engineer: software, engineering, technical, computer, worked, systems, technology, electrical, computing, senior\n",
            "teacher: teachers, education, taught, teaching, elementary, schools, students, educational, program, curriculum\n",
            "dietitian: clinical, nutrition, medical, registered, no, experiences, psychologist, practitioner, years, cooperates\n",
            "\n",
            "\n"
          ]
        },
        {
          "metadata": {
            "tags": null
          },
          "name": "stderr",
          "output_type": "stream",
          "text": [
            "56521it [03:45, 202.13it/s]"
          ]
        },
        {
          "metadata": {
            "tags": null
          },
          "name": "stdout",
          "output_type": "stream",
          "text": [
            "| epoch   1 | 56500/70832 batches | loss    1.711 \n",
            "women: culture, gender, recently, identity, people, women’s, author, american, early, living\n",
            "men: that, life, on, just, led, this, would, into, one, which\n",
            "nurse: practitioner, specialists, collaborates, diverse, affiliates, hospitals, nursing, doctors, honors, advice\n",
            "doctor: fixing, member, provided, completed, crowns, association, college, implant, dentistry, bridges\n",
            "engineer: software, computer, engineering, technical, systems, worked, technology, electrical, senior, machine\n",
            "teacher: teachers, education, taught, teaching, schools, students, elementary, educational, program, curriculum\n",
            "dietitian: clinical, nutrition, registered, no, experiences, psychologist, more, medical, practitioner, groups\n",
            "\n",
            "\n"
          ]
        },
        {
          "metadata": {
            "tags": null
          },
          "name": "stderr",
          "output_type": "stream",
          "text": [
            "57018it [03:47, 230.56it/s]"
          ]
        },
        {
          "metadata": {
            "tags": null
          },
          "name": "stdout",
          "output_type": "stream",
          "text": [
            "| epoch   1 | 57000/70832 batches | loss    1.715 \n",
            "women: culture, gender, identity, author, recently, women’s, people, justice, book, living\n",
            "men: just, life, led, one, which, would, this, on, that, to\n",
            "nurse: practitioner, specialists, collaborates, affiliates, diverse, hospitals, nursing, honors, experiences, doctors\n",
            "doctor: fixing, completed, provided, crowns, member, association, college, implant, tooth, dentistry\n",
            "engineer: software, computer, technical, engineering, technology, systems, electrical, worked, computing, senior\n",
            "teacher: teachers, education, taught, schools, teaching, elementary, students, educational, courses, curriculum\n",
            "dietitian: nutrition, clinical, medical, no, registered, experiences, practitioner, for, cooperates, psychologist\n",
            "\n",
            "\n"
          ]
        },
        {
          "metadata": {
            "tags": null
          },
          "name": "stderr",
          "output_type": "stream",
          "text": [
            "57519it [03:48, 232.41it/s]"
          ]
        },
        {
          "metadata": {
            "tags": null
          },
          "name": "stdout",
          "output_type": "stream",
          "text": [
            "| epoch   1 | 57500/70832 batches | loss    1.717 \n",
            "women: culture, gender, identity, justice, women’s, author, people, cultural, early, modern\n",
            "men: just, this, one, life, which, would, on, led, into, that\n",
            "nurse: practitioner, specialists, affiliates, collaborates, diverse, nursing, experiences, hospitals, honors, doctors\n",
            "doctor: fixing, provided, completed, crowns, college, association, tooth, implant, dentistry, bridges\n",
            "engineer: software, technical, computer, engineering, systems, technology, electrical, worked, computing, senior\n",
            "teacher: teachers, education, schools, taught, teaching, elementary, students, educational, curriculum, high\n",
            "dietitian: clinical, nutrition, registered, no, medical, experiences, st, nurse, with, practitioner\n",
            "\n",
            "\n"
          ]
        },
        {
          "metadata": {
            "tags": null
          },
          "name": "stderr",
          "output_type": "stream",
          "text": [
            "58017it [03:50, 226.78it/s]"
          ]
        },
        {
          "metadata": {
            "tags": null
          },
          "name": "stdout",
          "output_type": "stream",
          "text": [
            "| epoch   1 | 58000/70832 batches | loss    1.714 \n",
            "women: culture, gender, identity, people, modern, women’s, book, justice, cultural, early\n",
            "men: just, on, life, one, into, led, would, has, this, along\n",
            "nurse: practitioner, specialists, affiliates, collaborates, diverse, hospitals, doctors, honors, experiences, nursing\n",
            "doctor: fixing, provided, crowns, college, tooth, completed, association, implant, bridges, extraction\n",
            "engineer: software, technical, engineering, computer, systems, technology, worked, electrical, senior, computing\n",
            "teacher: teachers, education, teaching, schools, taught, elementary, students, educational, high, curriculum\n",
            "dietitian: nutrition, clinical, registered, who, medical, no, with, experiences, over, practitioner\n",
            "\n",
            "\n"
          ]
        },
        {
          "metadata": {
            "tags": null
          },
          "name": "stderr",
          "output_type": "stream",
          "text": [
            "58517it [03:52, 232.94it/s]"
          ]
        },
        {
          "metadata": {
            "tags": null
          },
          "name": "stdout",
          "output_type": "stream",
          "text": [
            "| epoch   1 | 58500/70832 batches | loss    1.717 \n",
            "women: gender, culture, identity, book, justice, modern, living, cultural, women’s, people\n",
            "men: has, one, just, life, on, led, understanding, into, it, would\n",
            "nurse: practitioner, specialists, collaborates, affiliates, diverse, hospitals, nursing, experiences, doctors, honors\n",
            "doctor: fixing, provided, crowns, tooth, college, association, completed, implant, extraction, fillings\n",
            "engineer: software, technical, computer, engineering, systems, technology, electrical, senior, computing, worked\n",
            "teacher: teachers, schools, education, teaching, students, elementary, taught, educational, high, courses\n",
            "dietitian: nutrition, with, medical, registered, clinical, over, no, practitioner, experiences, who\n",
            "\n",
            "\n"
          ]
        },
        {
          "metadata": {
            "tags": null
          },
          "name": "stderr",
          "output_type": "stream",
          "text": [
            "59035it [03:54, 235.03it/s]"
          ]
        },
        {
          "metadata": {
            "tags": null
          },
          "name": "stdout",
          "output_type": "stream",
          "text": [
            "| epoch   1 | 59000/70832 batches | loss    1.711 \n",
            "women: gender, culture, identity, cultural, justice, modern, book, politics, women’s, she\n",
            "men: just, one, life, which, understanding, would, led, it, poems, on\n",
            "nurse: practitioner, specialists, collaborates, nursing, affiliates, hospitals, diverse, doctors, experiences, honors\n",
            "doctor: fixing, provided, tooth, crowns, completed, association, implant, college, sciences, fillings\n",
            "engineer: software, technical, engineering, computer, systems, technology, senior, electrical, computing, worked\n",
            "teacher: teachers, schools, teaching, education, elementary, taught, students, educational, curriculum, literacy\n",
            "dietitian: nutrition, clinical, registered, medical, she, experiences, no, practitioner, over, cooperates\n",
            "\n",
            "\n"
          ]
        },
        {
          "metadata": {
            "tags": null
          },
          "name": "stderr",
          "output_type": "stream",
          "text": [
            "59535it [03:56, 233.15it/s]"
          ]
        },
        {
          "metadata": {
            "tags": null
          },
          "name": "stdout",
          "output_type": "stream",
          "text": [
            "| epoch   1 | 59500/70832 batches | loss    1.716 \n",
            "women: culture, gender, identity, women’s, cultural, she, living, of, literature, studies\n",
            "men: just, one, would, led, it, understanding, makes, which, life, wanting\n",
            "nurse: practitioner, collaborates, specialists, nursing, affiliates, diverse, hospitals, experiences, doctors, advice\n",
            "doctor: fixing, provided, tooth, college, crowns, association, completed, implant, bridges, extraction\n",
            "engineer: software, technical, engineering, computer, systems, technology, senior, electrical, worked, computing\n",
            "teacher: teachers, schools, teaching, education, taught, elementary, educational, students, curriculum, high\n",
            "dietitian: nutrition, registered, clinical, no, experiences, who, practitioner, memorial, medical, care\n",
            "\n",
            "\n"
          ]
        },
        {
          "metadata": {
            "tags": null
          },
          "name": "stderr",
          "output_type": "stream",
          "text": [
            "60029it [03:58, 231.42it/s]"
          ]
        },
        {
          "metadata": {
            "tags": null
          },
          "name": "stdout",
          "output_type": "stream",
          "text": [
            "| epoch   1 | 60000/70832 batches | loss    1.709 \n",
            "women: culture, gender, identity, women’s, living, studies, modern, politics, literature, justice\n",
            "men: one, that, just, life, would, this, led, into, makes, role\n",
            "nurse: practitioner, collaborates, specialists, affiliates, diverse, nursing, hospitals, experiences, doctors, graduated\n",
            "doctor: fixing, provided, completed, association, tooth, college, crowns, dentistry, sciences, implant\n",
            "engineer: software, technical, engineering, computer, technology, systems, senior, electrical, worked, machine\n",
            "teacher: teachers, teaching, schools, taught, education, elementary, students, educational, curriculum, literacy\n",
            "dietitian: nutrition, registered, no, experiences, practitioner, cooperates, psychologist, clinical, medical, sports\n",
            "\n",
            "\n"
          ]
        },
        {
          "metadata": {
            "tags": null
          },
          "name": "stderr",
          "output_type": "stream",
          "text": [
            "60523it [04:00, 223.63it/s]"
          ]
        },
        {
          "metadata": {
            "tags": null
          },
          "name": "stdout",
          "output_type": "stream",
          "text": [
            "| epoch   1 | 60500/70832 batches | loss    1.711 \n",
            "women: gender, culture, women’s, identity, she, living, involved, politics, literature, cultural\n",
            "men: one, life, just, which, into, role, would, much, led, it\n",
            "nurse: practitioner, collaborates, specialists, nursing, diverse, affiliates, hospitals, experiences, doctors, advice\n",
            "doctor: fixing, provided, tooth, college, association, crowns, completed, dentistry, extraction, sciences\n",
            "engineer: software, technical, engineering, computer, technology, systems, senior, electrical, worked, computing\n",
            "teacher: teachers, teaching, schools, taught, elementary, education, students, educational, curriculum, high\n",
            "dietitian: nutrition, registered, no, cooperates, practitioner, clinical, psychologist, experiences, over, graduated\n",
            "\n",
            "\n"
          ]
        },
        {
          "metadata": {
            "tags": null
          },
          "name": "stderr",
          "output_type": "stream",
          "text": [
            "61023it [04:02, 226.85it/s]"
          ]
        },
        {
          "metadata": {
            "tags": null
          },
          "name": "stdout",
          "output_type": "stream",
          "text": [
            "| epoch   1 | 61000/70832 batches | loss    1.712 \n",
            "women: gender, culture, women’s, identity, she, use, literature, which, studies, living\n",
            "men: one, which, just, it, life, makes, would, much, this, role\n",
            "nurse: practitioner, collaborates, specialists, nursing, affiliates, diverse, hospitals, advice, experiences, doctors\n",
            "doctor: fixing, provided, tooth, crowns, association, college, completed, dentistry, implant, bridges\n",
            "engineer: software, technical, engineering, computer, systems, technology, senior, electrical, worked, masters\n",
            "teacher: teachers, teaching, schools, taught, elementary, students, educational, curriculum, education, high\n",
            "dietitian: no, nutrition, over, registered, practitioner, cooperates, medical, groups, graduated, who\n",
            "\n",
            "\n"
          ]
        },
        {
          "metadata": {
            "tags": null
          },
          "name": "stderr",
          "output_type": "stream",
          "text": [
            "61532it [04:04, 230.93it/s]"
          ]
        },
        {
          "metadata": {
            "tags": null
          },
          "name": "stdout",
          "output_type": "stream",
          "text": [
            "| epoch   1 | 61500/70832 batches | loss    1.710 \n",
            "women: gender, women’s, culture, family, identity, living, use, involved, working, people\n",
            "men: which, just, it, one, life, interested, this, led, role, would\n",
            "nurse: practitioner, specialists, collaborates, affiliates, diverse, hospitals, nursing, experiences, doctors, advice\n",
            "doctor: fixing, provided, association, tooth, crowns, college, dentistry, completed, implant, bridges\n",
            "engineer: software, technical, engineering, computer, systems, senior, technology, electrical, industry, computing\n",
            "teacher: teachers, teaching, schools, taught, elementary, education, students, curriculum, high, coordinator\n",
            "dietitian: no, nutrition, registered, cooperates, medical, over, practitioner, experiences, memorial, groups\n",
            "\n",
            "\n"
          ]
        },
        {
          "metadata": {
            "tags": null
          },
          "name": "stderr",
          "output_type": "stream",
          "text": [
            "62031it [04:06, 226.92it/s]"
          ]
        },
        {
          "metadata": {
            "tags": null
          },
          "name": "stdout",
          "output_type": "stream",
          "text": [
            "| epoch   1 | 62000/70832 batches | loss    1.710 \n",
            "women: gender, women’s, culture, identity, living, family, involved, cultural, use, justice\n",
            "men: one, just, which, it, this, role, for, would, much, them\n",
            "nurse: practitioner, specialists, affiliates, collaborates, diverse, nursing, hospitals, experiences, advice, doctors\n",
            "doctor: fixing, provided, association, college, crowns, tooth, implant, extraction, dentistry, dental\n",
            "engineer: software, technical, engineering, computer, technology, systems, senior, industry, electrical, computing\n",
            "teacher: teachers, schools, taught, elementary, teaching, curriculum, education, students, high, coordinator\n",
            "dietitian: no, registered, medical, practitioner, nutrition, over, who, with, cooperates, groups\n",
            "\n",
            "\n"
          ]
        },
        {
          "metadata": {
            "tags": null
          },
          "name": "stderr",
          "output_type": "stream",
          "text": [
            "62526it [04:08, 222.43it/s]"
          ]
        },
        {
          "metadata": {
            "tags": null
          },
          "name": "stdout",
          "output_type": "stream",
          "text": [
            "| epoch   1 | 62500/70832 batches | loss    1.710 \n",
            "women: gender, women’s, culture, living, identity, student, cultural, family, studies, and\n",
            "men: just, one, it, role, would, which, this, much, to, interested\n",
            "nurse: practitioner, affiliates, specialists, collaborates, diverse, experiences, hospitals, nursing, advice, doctors\n",
            "doctor: fixing, provided, crowns, tooth, association, college, implant, extraction, bridges, dentistry\n",
            "engineer: software, technical, engineering, computer, technology, industry, senior, systems, electrical, worked\n",
            "teacher: teachers, schools, teaching, education, taught, elementary, curriculum, coordinator, students, educational\n",
            "dietitian: no, who, nutrition, registered, practitioner, cooperates, groups, over, memorial, medical\n",
            "\n",
            "\n"
          ]
        },
        {
          "metadata": {
            "tags": null
          },
          "name": "stderr",
          "output_type": "stream",
          "text": [
            "63031it [04:10, 222.59it/s]"
          ]
        },
        {
          "metadata": {
            "tags": null
          },
          "name": "stdout",
          "output_type": "stream",
          "text": [
            "| epoch   1 | 63000/70832 batches | loss    1.706 \n",
            "women: gender, women’s, culture, living, identity, cultural, on, student, which, involved\n",
            "men: just, one, this, which, role, would, it, life, much, them\n",
            "nurse: practitioner, affiliates, collaborates, diverse, specialists, experiences, hospitals, advice, nursing, doctors\n",
            "doctor: fixing, provided, crowns, tooth, college, implant, association, dental, bridges, dentistry\n",
            "engineer: software, engineering, technical, computer, technology, industry, senior, worked, systems, electrical\n",
            "teacher: teachers, schools, education, teaching, elementary, taught, students, curriculum, coordinator, literacy\n",
            "dietitian: no, nutrition, registered, cooperates, practitioner, memorial, groups, who, she, experiences\n",
            "\n",
            "\n"
          ]
        },
        {
          "metadata": {
            "tags": null
          },
          "name": "stderr",
          "output_type": "stream",
          "text": [
            "63529it [04:12, 231.33it/s]"
          ]
        },
        {
          "metadata": {
            "tags": null
          },
          "name": "stdout",
          "output_type": "stream",
          "text": [
            "| epoch   1 | 63500/70832 batches | loss    1.710 \n",
            "women: gender, women’s, culture, living, cultural, family, identity, families, student, studies\n",
            "men: just, one, would, role, this, it, led, life, area, makes\n",
            "nurse: practitioner, affiliates, collaborates, diverse, specialists, experiences, hospitals, nursing, advice, doctors\n",
            "doctor: fixing, provided, college, crowns, tooth, implant, dental, association, extraction, sciences\n",
            "engineer: software, technical, engineering, computer, technology, industry, senior, worked, systems, electrical\n",
            "teacher: teachers, teaching, schools, education, students, elementary, taught, curriculum, literacy, educational\n",
            "dietitian: who, no, nutrition, registered, she, practitioner, cooperates, memorial, groups, community\n",
            "\n",
            "\n"
          ]
        },
        {
          "metadata": {
            "tags": null
          },
          "name": "stderr",
          "output_type": "stream",
          "text": [
            "64025it [04:14, 218.47it/s]"
          ]
        },
        {
          "metadata": {
            "tags": null
          },
          "name": "stdout",
          "output_type": "stream",
          "text": [
            "| epoch   1 | 64000/70832 batches | loss    1.705 \n",
            "women: gender, culture, women’s, families, family, living, identity, involved, studies, which\n",
            "men: just, one, role, would, understanding, which, led, makes, it, group\n",
            "nurse: practitioner, affiliates, diverse, specialists, collaborates, nursing, hospitals, experiences, advice, doctors\n",
            "doctor: fixing, provided, crowns, college, tooth, implant, association, extraction, dental, dentistry\n",
            "engineer: software, technical, engineering, computer, technology, industry, senior, systems, electrical, computing\n",
            "teacher: teachers, teaching, education, schools, elementary, students, educational, taught, curriculum, coordinator\n",
            "dietitian: nutrition, no, who, registered, cooperates, practitioner, groups, memorial, medical, has\n",
            "\n",
            "\n"
          ]
        },
        {
          "metadata": {
            "tags": null
          },
          "name": "stderr",
          "output_type": "stream",
          "text": [
            "64520it [04:16, 216.45it/s]"
          ]
        },
        {
          "metadata": {
            "tags": null
          },
          "name": "stdout",
          "output_type": "stream",
          "text": [
            "| epoch   1 | 64500/70832 batches | loss    1.704 \n",
            "women: gender, culture, women’s, involved, families, family, working, living, identity, use\n",
            "men: one, just, understanding, life, would, led, this, makes, topics, role\n",
            "nurse: practitioner, affiliates, specialists, collaborates, diverse, nursing, hospitals, experiences, doctors, advice\n",
            "doctor: fixing, provided, crowns, tooth, college, implant, extraction, association, dental, bridges\n",
            "engineer: software, technical, engineering, computer, industry, technology, systems, senior, electrical, worked\n",
            "teacher: teachers, education, schools, students, teaching, elementary, educational, curriculum, taught, mathematics\n",
            "dietitian: nutrition, no, who, practitioner, registered, she, groups, cooperates, memorial, has\n",
            "\n",
            "\n"
          ]
        },
        {
          "metadata": {
            "tags": null
          },
          "name": "stderr",
          "output_type": "stream",
          "text": [
            "65015it [04:18, 232.53it/s]"
          ]
        },
        {
          "metadata": {
            "tags": null
          },
          "name": "stdout",
          "output_type": "stream",
          "text": [
            "| epoch   1 | 65000/70832 batches | loss    1.709 \n",
            "women: gender, women’s, family, culture, involved, working, families, studies, actively, concerns\n",
            "men: one, just, this, understanding, life, would, poems, makes, led, interested\n",
            "nurse: practitioner, affiliates, specialists, collaborates, diverse, nursing, hospitals, experiences, doctors, honors\n",
            "doctor: fixing, provided, crowns, tooth, dental, implant, college, association, extraction, bridges\n",
            "engineer: software, technical, engineering, computer, industry, worked, senior, technology, systems, electrical\n",
            "teacher: teachers, education, schools, students, educational, elementary, teaching, curriculum, coordinator, literacy\n",
            "dietitian: nutrition, no, practitioner, registered, cooperates, groups, who, memorial, more, community\n",
            "\n",
            "\n"
          ]
        },
        {
          "metadata": {
            "tags": null
          },
          "name": "stderr",
          "output_type": "stream",
          "text": [
            "65525it [04:20, 226.37it/s]"
          ]
        },
        {
          "metadata": {
            "tags": null
          },
          "name": "stdout",
          "output_type": "stream",
          "text": [
            "| epoch   1 | 65500/70832 batches | loss    1.705 \n",
            "women: gender, women’s, family, involved, working, culture, families, identity, while, concerns\n",
            "men: one, on, just, this, understanding, poems, would, makes, life, when\n",
            "nurse: practitioner, affiliates, collaborates, specialists, diverse, nursing, hospitals, experiences, doctors, honors\n",
            "doctor: fixing, provided, association, crowns, college, implant, dental, tooth, extraction, dentistry\n",
            "engineer: software, technical, computer, engineering, industry, electrical, technology, senior, worked, systems\n",
            "teacher: teachers, education, schools, students, educational, elementary, curriculum, teaching, taught, coordinator\n",
            "dietitian: nutrition, registered, no, cooperates, practitioner, groups, memorial, she, over, psychology\n",
            "\n",
            "\n"
          ]
        },
        {
          "metadata": {
            "tags": null
          },
          "name": "stderr",
          "output_type": "stream",
          "text": [
            "66021it [04:22, 227.96it/s]"
          ]
        },
        {
          "metadata": {
            "tags": null
          },
          "name": "stdout",
          "output_type": "stream",
          "text": [
            "| epoch   1 | 66000/70832 batches | loss    1.699 \n",
            "women: gender, involved, family, women’s, working, families, identity, culture, living, concerns\n",
            "men: one, just, this, makes, it, understanding, poems, would, them, have\n",
            "nurse: practitioner, affiliates, collaborates, specialists, nursing, hospitals, experiences, diverse, doctors, honors\n",
            "doctor: fixing, provided, crowns, association, implant, dental, tooth, college, extraction, dentures\n",
            "engineer: software, technical, computer, engineering, industry, technology, electrical, senior, web, systems\n",
            "teacher: teachers, education, schools, students, elementary, educational, curriculum, mathematics, taught, coordinator\n",
            "dietitian: nutrition, with, registered, no, she, cooperates, practitioner, memorial, groups, over\n",
            "\n",
            "\n"
          ]
        },
        {
          "metadata": {
            "tags": null
          },
          "name": "stderr",
          "output_type": "stream",
          "text": [
            "66522it [04:24, 227.50it/s]"
          ]
        },
        {
          "metadata": {
            "tags": null
          },
          "name": "stdout",
          "output_type": "stream",
          "text": [
            "| epoch   1 | 66500/70832 batches | loss    1.704 \n",
            "women: gender, family, families, women’s, trauma, concerns, identity, living, working, children\n",
            "men: just, this, one, understanding, work, it, makes, when, would, poems\n",
            "nurse: practitioner, affiliates, collaborates, specialists, experiences, hospitals, diverse, nursing, doctors, honors\n",
            "doctor: fixing, provided, crowns, association, implant, dental, tooth, college, member, extraction\n",
            "engineer: software, computer, technical, engineering, technology, industry, senior, systems, electrical, web\n",
            "teacher: teachers, education, schools, students, elementary, educational, taught, teaching, curriculum, mathematics\n",
            "dietitian: nutrition, with, registered, medical, cooperates, no, health, over, practitioner, who\n",
            "\n",
            "\n"
          ]
        },
        {
          "metadata": {
            "tags": null
          },
          "name": "stderr",
          "output_type": "stream",
          "text": [
            "67020it [04:26, 213.91it/s]"
          ]
        },
        {
          "metadata": {
            "tags": null
          },
          "name": "stdout",
          "output_type": "stream",
          "text": [
            "| epoch   1 | 67000/70832 batches | loss    1.703 \n",
            "women: gender, families, family, women’s, trauma, concerns, mental, involved, children, while\n",
            "men: just, one, this, work, when, it, makes, would, understanding, have\n",
            "nurse: practitioner, affiliates, specialists, collaborates, experiences, hospitals, honors, diverse, nursing, doctors\n",
            "doctor: fixing, provided, crowns, association, implant, member, college, tooth, dental, extraction\n",
            "engineer: software, computer, technical, engineering, industry, technology, electrical, senior, systems, web\n",
            "teacher: teachers, education, schools, taught, educational, students, elementary, curriculum, mathematics, coordinator\n",
            "dietitian: nutrition, registered, cooperates, groups, with, health, practitioner, medical, memorial, no\n",
            "\n",
            "\n"
          ]
        },
        {
          "metadata": {
            "tags": null
          },
          "name": "stderr",
          "output_type": "stream",
          "text": [
            "67530it [04:28, 231.35it/s]"
          ]
        },
        {
          "metadata": {
            "tags": null
          },
          "name": "stdout",
          "output_type": "stream",
          "text": [
            "| epoch   1 | 67500/70832 batches | loss    1.702 \n",
            "women: gender, women’s, involved, families, she, concerns, trauma, working, family, mental\n",
            "men: this, just, one, when, life, on, topics, create, makes, would\n",
            "nurse: practitioner, affiliates, collaborates, specialists, experiences, hospitals, diverse, honors, nursing, graduated\n",
            "doctor: fixing, provided, association, crowns, implant, tooth, dental, extraction, college, member\n",
            "engineer: software, computer, engineering, technical, industry, technology, electrical, systems, senior, web\n",
            "teacher: teachers, education, schools, taught, educational, teaching, students, elementary, mathematics, curriculum\n",
            "dietitian: nutrition, registered, who, cooperates, psychology, health, memorial, no, with, practitioner\n",
            "\n",
            "\n"
          ]
        },
        {
          "metadata": {
            "tags": null
          },
          "name": "stderr",
          "output_type": "stream",
          "text": [
            "68024it [04:29, 217.01it/s]"
          ]
        },
        {
          "metadata": {
            "tags": null
          },
          "name": "stdout",
          "output_type": "stream",
          "text": [
            "| epoch   1 | 68000/70832 batches | loss    1.703 \n",
            "women: gender, women’s, families, involved, concerns, trauma, culture, mental, working, identity\n",
            "men: this, just, life, and, one, role, when, topics, understanding, makes\n",
            "nurse: practitioner, affiliates, specialists, collaborates, experiences, hospitals, honors, nursing, diverse, doctors\n",
            "doctor: fixing, provided, crowns, implant, dental, association, tooth, extraction, college, member\n",
            "engineer: software, engineering, computer, technical, technology, industry, electrical, systems, senior, web\n",
            "teacher: teachers, education, schools, taught, elementary, educational, curriculum, students, mathematics, literacy\n",
            "dietitian: nutrition, registered, who, memorial, medical, groups, cooperates, psychology, practitioner, no\n",
            "\n",
            "\n"
          ]
        },
        {
          "metadata": {
            "tags": null
          },
          "name": "stderr",
          "output_type": "stream",
          "text": [
            "68522it [04:31, 221.47it/s]"
          ]
        },
        {
          "metadata": {
            "tags": null
          },
          "name": "stdout",
          "output_type": "stream",
          "text": [
            "| epoch   1 | 68500/70832 batches | loss    1.703 \n",
            "women: gender, women’s, families, involved, concerns, living, working, culture, mental, trauma\n",
            "men: this, just, life, when, work, one, understanding, role, would, led\n",
            "nurse: practitioner, affiliates, specialists, experiences, collaborates, honors, hospitals, nursing, diverse, graduated\n",
            "doctor: fixing, provided, crowns, implant, tooth, association, dental, extraction, college, bridges\n",
            "engineer: software, engineering, computer, technical, technology, industry, electrical, systems, senior, machine\n",
            "teacher: teachers, education, schools, elementary, teaching, curriculum, students, educational, taught, mathematics\n",
            "dietitian: nutrition, registered, groups, cooperates, who, medical, no, psychology, practitioner, memorial\n",
            "\n",
            "\n"
          ]
        },
        {
          "metadata": {
            "tags": null
          },
          "name": "stderr",
          "output_type": "stream",
          "text": [
            "69023it [04:33, 214.48it/s]"
          ]
        },
        {
          "metadata": {
            "tags": null
          },
          "name": "stdout",
          "output_type": "stream",
          "text": [
            "| epoch   1 | 69000/70832 batches | loss    1.699 \n",
            "women: gender, families, involved, women’s, living, working, concerns, family, works, mental\n",
            "men: this, just, life, one, led, when, understanding, would, it, makes\n",
            "nurse: practitioner, affiliates, specialists, collaborates, experiences, honors, diverse, hospitals, nursing, graduated\n",
            "doctor: fixing, provided, crowns, implant, dental, tooth, association, college, extraction, bridges\n",
            "engineer: software, engineering, computer, technical, technology, industry, electrical, systems, senior, machine\n",
            "teacher: teachers, education, schools, educational, students, curriculum, elementary, mathematics, literacy, taught\n",
            "dietitian: nutrition, registered, she, who, cooperates, psychology, groups, no, practitioner, medical\n",
            "\n",
            "\n"
          ]
        },
        {
          "metadata": {
            "tags": null
          },
          "name": "stderr",
          "output_type": "stream",
          "text": [
            "69526it [04:35, 229.00it/s]"
          ]
        },
        {
          "metadata": {
            "tags": null
          },
          "name": "stdout",
          "output_type": "stream",
          "text": [
            "| epoch   1 | 69500/70832 batches | loss    1.703 \n",
            "women: gender, living, women’s, she, families, involved, works, culture, identity, working\n",
            "men: this, life, just, one, when, understanding, led, to, would, it\n",
            "nurse: practitioner, affiliates, specialists, collaborates, hospitals, honors, diverse, experiences, graduated, nursing\n",
            "doctor: fixing, crowns, provided, implant, dental, tooth, association, extraction, bridges, completed\n",
            "engineer: software, computer, engineering, technical, technology, industry, electrical, senior, systems, machine\n",
            "teacher: teachers, education, schools, students, teaching, educational, elementary, curriculum, taught, literacy\n",
            "dietitian: nutrition, registered, groups, cooperates, who, practitioner, medical, no, clinical, memorial\n",
            "\n",
            "\n"
          ]
        },
        {
          "metadata": {
            "tags": null
          },
          "name": "stderr",
          "output_type": "stream",
          "text": [
            "70021it [04:37, 224.51it/s]"
          ]
        },
        {
          "metadata": {
            "tags": null
          },
          "name": "stdout",
          "output_type": "stream",
          "text": [
            "| epoch   1 | 70000/70832 batches | loss    1.700 \n",
            "women: women’s, gender, living, culture, involved, working, identity, works, families, she\n",
            "men: one, just, this, when, life, understanding, role, led, would, experiments\n",
            "nurse: practitioner, affiliates, specialists, hospitals, collaborates, experiences, diverse, doctors, graduated, nursing\n",
            "doctor: fixing, crowns, provided, implant, association, tooth, dental, college, extraction, completed\n",
            "engineer: software, computer, engineering, technical, industry, technology, electrical, systems, machine, senior\n",
            "teacher: teachers, education, schools, taught, elementary, curriculum, students, teaching, educational, coordinator\n",
            "dietitian: medical, nutrition, registered, practitioner, groups, cooperates, with, memorial, who, no\n",
            "\n",
            "\n"
          ]
        },
        {
          "metadata": {
            "tags": null
          },
          "name": "stderr",
          "output_type": "stream",
          "text": [
            "70519it [04:39, 227.89it/s]"
          ]
        },
        {
          "metadata": {
            "tags": null
          },
          "name": "stdout",
          "output_type": "stream",
          "text": [
            "| epoch   1 | 70500/70832 batches | loss    1.702 \n",
            "women: gender, living, women’s, involved, culture, working, identity, works, focusing, current\n",
            "men: one, just, this, understanding, role, life, would, many, led, be\n",
            "nurse: practitioner, affiliates, specialists, collaborates, hospitals, experiences, honors, doctors, nursing, diverse\n",
            "doctor: fixing, crowns, provided, implant, dental, tooth, completed, extraction, college, bridges\n",
            "engineer: software, computer, engineering, technical, industry, technology, electrical, machine, senior, systems\n",
            "teacher: teachers, education, schools, curriculum, elementary, taught, teaching, literacy, educational, students\n",
            "dietitian: nutrition, medical, registered, groups, practitioner, who, cooperates, memorial, no, experiences\n",
            "\n",
            "\n"
          ]
        },
        {
          "metadata": {
            "tags": null
          },
          "name": "stderr",
          "output_type": "stream",
          "text": [
            "70832it [04:42, 250.48it/s]\n",
            "4it [00:01,  2.56it/s]"
          ]
        },
        {
          "metadata": {
            "tags": null
          },
          "name": "stdout",
          "output_type": "stream",
          "text": [
            "| epoch   2 |     0/70832 batches | loss    1.746 \n",
            "women: gender, women’s, living, involved, working, culture, identity, families, her, history\n",
            "men: one, just, understanding, many, this, role, life, would, between, led\n",
            "nurse: practitioner, affiliates, specialists, collaborates, hospitals, experiences, honors, doctors, diverse, nursing\n",
            "doctor: fixing, crowns, provided, implant, completed, dental, tooth, extraction, association, college\n",
            "engineer: software, computer, engineering, technical, industry, technology, systems, electrical, senior, machine\n",
            "teacher: teachers, education, schools, curriculum, taught, elementary, teaching, literacy, educational, coordinator\n",
            "dietitian: nutrition, registered, medical, practitioner, cooperates, groups, memorial, experiences, who, health\n",
            "\n",
            "\n"
          ]
        },
        {
          "metadata": {
            "tags": null
          },
          "name": "stderr",
          "output_type": "stream",
          "text": [
            "527it [00:04, 223.06it/s]"
          ]
        },
        {
          "metadata": {
            "tags": null
          },
          "name": "stdout",
          "output_type": "stream",
          "text": [
            "| epoch   2 |   500/70832 batches | loss    1.655 \n",
            "women: gender, women’s, living, involved, working, culture, identity, families, her, history\n",
            "men: one, just, understanding, this, many, role, life, would, between, led\n",
            "nurse: practitioner, affiliates, specialists, collaborates, hospitals, experiences, honors, doctors, diverse, nursing\n",
            "doctor: fixing, crowns, provided, implant, completed, dental, tooth, extraction, association, college\n",
            "engineer: software, computer, engineering, technical, industry, technology, systems, electrical, senior, machine\n",
            "teacher: teachers, education, schools, curriculum, taught, elementary, literacy, teaching, educational, coordinator\n",
            "dietitian: nutrition, registered, medical, practitioner, cooperates, groups, memorial, health, experiences, who\n",
            "\n",
            "\n"
          ]
        },
        {
          "metadata": {
            "tags": null
          },
          "name": "stderr",
          "output_type": "stream",
          "text": [
            "1015it [00:05, 234.45it/s]"
          ]
        },
        {
          "metadata": {
            "tags": null
          },
          "name": "stdout",
          "output_type": "stream",
          "text": [
            "| epoch   2 |  1000/70832 batches | loss    1.647 \n",
            "women: gender, women’s, living, involved, culture, identity, working, families, her, history\n",
            "men: one, just, understanding, this, role, many, life, would, between, led\n",
            "nurse: practitioner, affiliates, specialists, collaborates, hospitals, experiences, honors, doctors, diverse, nursing\n",
            "doctor: fixing, crowns, provided, implant, completed, dental, tooth, college, association, extraction\n",
            "engineer: software, computer, engineering, technical, technology, industry, electrical, systems, senior, machine\n",
            "teacher: teachers, education, schools, curriculum, taught, elementary, teaching, literacy, educational, coordinator\n",
            "dietitian: nutrition, registered, medical, practitioner, cooperates, groups, memorial, experiences, health, who\n",
            "\n",
            "\n"
          ]
        },
        {
          "metadata": {
            "tags": null
          },
          "name": "stderr",
          "output_type": "stream",
          "text": [
            "1535it [00:07, 233.34it/s]"
          ]
        },
        {
          "metadata": {
            "tags": null
          },
          "name": "stdout",
          "output_type": "stream",
          "text": [
            "| epoch   2 |  1500/70832 batches | loss    1.650 \n",
            "women: gender, women’s, living, involved, culture, identity, working, families, her, history\n",
            "men: one, just, understanding, this, many, role, life, between, would, led\n",
            "nurse: practitioner, affiliates, specialists, collaborates, hospitals, experiences, honors, doctors, diverse, nursing\n",
            "doctor: fixing, crowns, provided, implant, completed, dental, tooth, association, extraction, college\n",
            "engineer: software, computer, engineering, technical, technology, industry, electrical, systems, senior, machine\n",
            "teacher: teachers, education, schools, curriculum, taught, elementary, teaching, literacy, educational, coordinator\n",
            "dietitian: nutrition, registered, medical, practitioner, cooperates, groups, memorial, experiences, who, health\n",
            "\n",
            "\n"
          ]
        },
        {
          "metadata": {
            "tags": null
          },
          "name": "stderr",
          "output_type": "stream",
          "text": [
            "2028it [00:09, 232.17it/s]"
          ]
        },
        {
          "metadata": {
            "tags": null
          },
          "name": "stdout",
          "output_type": "stream",
          "text": [
            "| epoch   2 |  2000/70832 batches | loss    1.647 \n",
            "women: gender, women’s, living, involved, culture, identity, working, families, her, history\n",
            "men: one, just, understanding, this, many, role, life, would, between, led\n",
            "nurse: practitioner, affiliates, specialists, collaborates, hospitals, experiences, honors, doctors, diverse, graduated\n",
            "doctor: fixing, crowns, provided, implant, dental, completed, tooth, association, college, extraction\n",
            "engineer: software, computer, engineering, technical, technology, industry, electrical, systems, senior, machine\n",
            "teacher: teachers, education, schools, curriculum, taught, elementary, teaching, literacy, coordinator, educational\n",
            "dietitian: nutrition, registered, medical, practitioner, cooperates, groups, memorial, experiences, who, health\n",
            "\n",
            "\n"
          ]
        },
        {
          "metadata": {
            "tags": null
          },
          "name": "stderr",
          "output_type": "stream",
          "text": [
            "2517it [00:11, 229.95it/s]"
          ]
        },
        {
          "metadata": {
            "tags": null
          },
          "name": "stdout",
          "output_type": "stream",
          "text": [
            "| epoch   2 |  2500/70832 batches | loss    1.644 \n",
            "women: gender, women’s, living, involved, culture, identity, her, working, families, she\n",
            "men: one, just, understanding, this, role, many, life, would, between, led\n",
            "nurse: practitioner, affiliates, specialists, collaborates, hospitals, experiences, honors, doctors, diverse, nursing\n",
            "doctor: fixing, crowns, provided, implant, completed, dental, tooth, college, association, extraction\n",
            "engineer: software, computer, engineering, technical, technology, industry, electrical, systems, senior, machine\n",
            "teacher: teachers, education, schools, curriculum, taught, elementary, teaching, literacy, students, educational\n",
            "dietitian: nutrition, registered, medical, practitioner, cooperates, groups, memorial, experiences, health, who\n",
            "\n",
            "\n"
          ]
        },
        {
          "metadata": {
            "tags": null
          },
          "name": "stderr",
          "output_type": "stream",
          "text": [
            "3026it [00:13, 225.61it/s]"
          ]
        },
        {
          "metadata": {
            "tags": null
          },
          "name": "stdout",
          "output_type": "stream",
          "text": [
            "| epoch   2 |  3000/70832 batches | loss    1.643 \n",
            "women: gender, women’s, living, involved, culture, identity, her, working, families, she\n",
            "men: one, just, understanding, this, role, would, life, many, between, led\n",
            "nurse: practitioner, affiliates, specialists, collaborates, hospitals, experiences, honors, doctors, diverse, graduated\n",
            "doctor: fixing, crowns, provided, implant, completed, dental, tooth, college, association, extraction\n",
            "engineer: software, computer, engineering, technical, technology, industry, electrical, systems, senior, machine\n",
            "teacher: teachers, education, schools, curriculum, taught, elementary, teaching, literacy, students, coordinator\n",
            "dietitian: nutrition, registered, medical, practitioner, cooperates, groups, memorial, experiences, no, who\n",
            "\n",
            "\n"
          ]
        },
        {
          "metadata": {
            "tags": null
          },
          "name": "stderr",
          "output_type": "stream",
          "text": [
            "3527it [00:15, 227.47it/s]"
          ]
        },
        {
          "metadata": {
            "tags": null
          },
          "name": "stdout",
          "output_type": "stream",
          "text": [
            "| epoch   2 |  3500/70832 batches | loss    1.639 \n",
            "women: gender, women’s, living, involved, culture, identity, her, she, the, working\n",
            "men: one, just, understanding, this, would, role, between, life, many, the\n",
            "nurse: practitioner, affiliates, specialists, collaborates, hospitals, experiences, honors, diverse, doctors, nursing\n",
            "doctor: fixing, crowns, provided, implant, completed, dental, tooth, association, college, extraction\n",
            "engineer: software, computer, engineering, technical, technology, industry, electrical, systems, senior, machine\n",
            "teacher: teachers, education, schools, curriculum, taught, elementary, teaching, literacy, students, educational\n",
            "dietitian: nutrition, registered, medical, practitioner, cooperates, groups, memorial, experiences, no, who\n",
            "\n",
            "\n"
          ]
        },
        {
          "metadata": {
            "tags": null
          },
          "name": "stderr",
          "output_type": "stream",
          "text": [
            "4027it [00:17, 231.66it/s]"
          ]
        },
        {
          "metadata": {
            "tags": null
          },
          "name": "stdout",
          "output_type": "stream",
          "text": [
            "| epoch   2 |  4000/70832 batches | loss    1.646 \n",
            "women: gender, women’s, living, the, her, involved, culture, and, identity, she\n",
            "men: one, just, understanding, this, role, would, life, between, many, the\n",
            "nurse: practitioner, affiliates, specialists, collaborates, hospitals, experiences, honors, doctors, diverse, nursing\n",
            "doctor: fixing, crowns, provided, implant, completed, dental, tooth, college, association, extraction\n",
            "engineer: software, computer, engineering, technical, technology, industry, electrical, systems, senior, machine\n",
            "teacher: teachers, education, schools, curriculum, taught, elementary, literacy, teaching, students, coordinator\n",
            "dietitian: nutrition, registered, medical, practitioner, cooperates, groups, memorial, no, experiences, who\n",
            "\n",
            "\n"
          ]
        },
        {
          "metadata": {
            "tags": null
          },
          "name": "stderr",
          "output_type": "stream",
          "text": [
            "4523it [00:19, 220.11it/s]"
          ]
        },
        {
          "metadata": {
            "tags": null
          },
          "name": "stdout",
          "output_type": "stream",
          "text": [
            "| epoch   2 |  4500/70832 batches | loss    1.644 \n",
            "women: gender, women’s, living, the, involved, and, culture, identity, she, working\n",
            "men: one, just, this, understanding, role, would, between, life, many, makes\n",
            "nurse: practitioner, affiliates, specialists, collaborates, hospitals, experiences, honors, diverse, doctors, nursing\n",
            "doctor: fixing, crowns, provided, implant, completed, dental, tooth, college, association, extraction\n",
            "engineer: software, computer, engineering, technical, technology, industry, electrical, systems, senior, machine\n",
            "teacher: teachers, education, schools, curriculum, taught, elementary, teaching, literacy, students, educational\n",
            "dietitian: nutrition, registered, medical, practitioner, cooperates, groups, memorial, experiences, no, who\n",
            "\n",
            "\n"
          ]
        },
        {
          "metadata": {
            "tags": null
          },
          "name": "stderr",
          "output_type": "stream",
          "text": [
            "5004it [00:21, 226.76it/s]"
          ]
        },
        {
          "metadata": {
            "tags": null
          },
          "name": "stdout",
          "output_type": "stream",
          "text": [
            "| epoch   2 |  5000/70832 batches | loss    1.647 \n",
            "women: gender, women’s, living, and, she, culture, involved, identity, the, her\n",
            "men: one, just, understanding, this, between, life, role, would, many, makes\n",
            "nurse: practitioner, affiliates, specialists, collaborates, hospitals, experiences, honors, diverse, doctors, nursing\n",
            "doctor: fixing, crowns, provided, implant, completed, dental, tooth, association, college, extraction\n",
            "engineer: software, computer, engineering, technical, technology, industry, electrical, systems, senior, machine\n",
            "teacher: teachers, education, schools, curriculum, taught, elementary, teaching, literacy, students, educational\n",
            "dietitian: nutrition, registered, medical, practitioner, cooperates, groups, memorial, experiences, no, who\n",
            "\n",
            "\n"
          ]
        },
        {
          "metadata": {
            "tags": null
          },
          "name": "stderr",
          "output_type": "stream",
          "text": [
            "5520it [00:23, 229.04it/s]"
          ]
        },
        {
          "metadata": {
            "tags": null
          },
          "name": "stdout",
          "output_type": "stream",
          "text": [
            "| epoch   2 |  5500/70832 batches | loss    1.645 \n",
            "women: gender, women’s, living, she, and, her, identity, culture, involved, the\n",
            "men: one, just, understanding, this, role, would, life, between, many, led\n",
            "nurse: practitioner, affiliates, specialists, collaborates, hospitals, experiences, honors, diverse, nursing, doctors\n",
            "doctor: fixing, crowns, provided, implant, completed, dental, college, tooth, association, extraction\n",
            "engineer: software, computer, engineering, technical, technology, industry, electrical, systems, senior, machine\n",
            "teacher: teachers, education, schools, curriculum, taught, elementary, teaching, literacy, students, educational\n",
            "dietitian: nutrition, registered, medical, practitioner, cooperates, groups, memorial, she, experiences, no\n",
            "\n",
            "\n"
          ]
        },
        {
          "metadata": {
            "tags": null
          },
          "name": "stderr",
          "output_type": "stream",
          "text": [
            "6018it [00:25, 230.72it/s]"
          ]
        },
        {
          "metadata": {
            "tags": null
          },
          "name": "stdout",
          "output_type": "stream",
          "text": [
            "| epoch   2 |  6000/70832 batches | loss    1.646 \n",
            "women: women’s, gender, living, she, her, the, involved, identity, culture, working\n",
            "men: one, just, this, understanding, life, role, would, between, the, many\n",
            "nurse: practitioner, affiliates, specialists, collaborates, hospitals, experiences, honors, nursing, diverse, doctors\n",
            "doctor: fixing, crowns, provided, implant, completed, dental, college, tooth, association, extraction\n",
            "engineer: software, computer, engineering, technical, technology, industry, electrical, senior, systems, machine\n",
            "teacher: teachers, education, schools, taught, curriculum, elementary, teaching, literacy, students, educational\n",
            "dietitian: nutrition, registered, medical, practitioner, cooperates, groups, memorial, she, with, no\n",
            "\n",
            "\n"
          ]
        },
        {
          "metadata": {
            "tags": null
          },
          "name": "stderr",
          "output_type": "stream",
          "text": [
            "6518it [00:27, 235.48it/s]"
          ]
        },
        {
          "metadata": {
            "tags": null
          },
          "name": "stdout",
          "output_type": "stream",
          "text": [
            "| epoch   2 |  6500/70832 batches | loss    1.644 \n",
            "women: gender, women’s, living, she, involved, her, identity, culture, working, families\n",
            "men: one, just, understanding, this, role, would, life, between, many, led\n",
            "nurse: practitioner, affiliates, specialists, collaborates, hospitals, experiences, honors, nursing, diverse, doctors\n",
            "doctor: fixing, crowns, provided, implant, completed, dental, college, tooth, association, extraction\n",
            "engineer: software, computer, engineering, technical, technology, industry, electrical, systems, senior, machine\n",
            "teacher: teachers, education, schools, curriculum, taught, elementary, teaching, literacy, students, educational\n",
            "dietitian: nutrition, registered, medical, practitioner, cooperates, groups, memorial, with, she, who\n",
            "\n",
            "\n"
          ]
        },
        {
          "metadata": {
            "tags": null
          },
          "name": "stderr",
          "output_type": "stream",
          "text": [
            "7017it [00:29, 231.09it/s]"
          ]
        },
        {
          "metadata": {
            "tags": null
          },
          "name": "stdout",
          "output_type": "stream",
          "text": [
            "| epoch   2 |  7000/70832 batches | loss    1.644 \n",
            "women: women’s, gender, living, she, her, involved, identity, culture, working, families\n",
            "men: one, just, understanding, this, role, life, would, between, many, led\n",
            "nurse: practitioner, affiliates, specialists, collaborates, hospitals, experiences, honors, diverse, nursing, doctors\n",
            "doctor: fixing, crowns, provided, implant, completed, dental, college, tooth, association, extraction\n",
            "engineer: software, computer, engineering, technical, technology, industry, electrical, systems, senior, machine\n",
            "teacher: teachers, education, schools, curriculum, taught, elementary, teaching, literacy, students, educational\n",
            "dietitian: nutrition, registered, medical, practitioner, cooperates, groups, she, memorial, who, with\n",
            "\n",
            "\n"
          ]
        },
        {
          "metadata": {
            "tags": null
          },
          "name": "stderr",
          "output_type": "stream",
          "text": [
            "7516it [00:31, 232.40it/s]"
          ]
        },
        {
          "metadata": {
            "tags": null
          },
          "name": "stdout",
          "output_type": "stream",
          "text": [
            "| epoch   2 |  7500/70832 batches | loss    1.642 \n",
            "women: gender, women’s, living, she, her, involved, identity, culture, working, the\n",
            "men: one, the, just, understanding, this, role, life, would, between, many\n",
            "nurse: practitioner, affiliates, specialists, collaborates, hospitals, experiences, honors, diverse, nursing, doctors\n",
            "doctor: fixing, crowns, provided, implant, completed, dental, college, tooth, association, extraction\n",
            "engineer: software, computer, engineering, technical, technology, industry, electrical, senior, systems, machine\n",
            "teacher: teachers, education, schools, curriculum, taught, elementary, teaching, students, literacy, educational\n",
            "dietitian: nutrition, registered, medical, practitioner, she, cooperates, groups, with, memorial, who\n",
            "\n",
            "\n"
          ]
        },
        {
          "metadata": {
            "tags": null
          },
          "name": "stderr",
          "output_type": "stream",
          "text": [
            "8019it [00:33, 206.46it/s]"
          ]
        },
        {
          "metadata": {
            "tags": null
          },
          "name": "stdout",
          "output_type": "stream",
          "text": [
            "| epoch   2 |  8000/70832 batches | loss    1.643 \n",
            "women: women’s, gender, she, living, her, involved, identity, culture, working, the\n",
            "men: one, the, just, this, understanding, life, role, would, between, many\n",
            "nurse: practitioner, affiliates, specialists, collaborates, hospitals, experiences, honors, diverse, nursing, doctors\n",
            "doctor: fixing, crowns, provided, implant, completed, dental, college, tooth, association, extraction\n",
            "engineer: software, computer, engineering, technical, technology, industry, electrical, senior, systems, machine\n",
            "teacher: teachers, education, schools, curriculum, taught, elementary, teaching, students, literacy, educational\n",
            "dietitian: nutrition, registered, medical, practitioner, cooperates, she, groups, with, memorial, who\n",
            "\n",
            "\n"
          ]
        },
        {
          "metadata": {
            "tags": null
          },
          "name": "stderr",
          "output_type": "stream",
          "text": [
            "8512it [00:35, 232.46it/s]"
          ]
        },
        {
          "metadata": {
            "tags": null
          },
          "name": "stdout",
          "output_type": "stream",
          "text": [
            "| epoch   2 |  8500/70832 batches | loss    1.641 \n",
            "women: gender, women’s, she, living, her, involved, identity, working, culture, families\n",
            "men: one, the, just, understanding, this, would, life, role, between, many\n",
            "nurse: practitioner, affiliates, specialists, collaborates, hospitals, experiences, honors, diverse, nursing, doctors\n",
            "doctor: fixing, crowns, provided, implant, completed, dental, college, tooth, association, extraction\n",
            "engineer: software, computer, engineering, technical, technology, industry, electrical, senior, systems, machine\n",
            "teacher: teachers, education, schools, curriculum, taught, elementary, teaching, students, literacy, educational\n",
            "dietitian: nutrition, registered, medical, practitioner, she, cooperates, groups, who, memorial, with\n",
            "\n",
            "\n"
          ]
        },
        {
          "metadata": {
            "tags": null
          },
          "name": "stderr",
          "output_type": "stream",
          "text": [
            "9025it [00:37, 228.09it/s]"
          ]
        },
        {
          "metadata": {
            "tags": null
          },
          "name": "stdout",
          "output_type": "stream",
          "text": [
            "| epoch   2 |  9000/70832 batches | loss    1.640 \n",
            "women: gender, women’s, she, living, her, involved, culture, working, identity, families\n",
            "men: one, just, this, understanding, the, life, would, role, between, led\n",
            "nurse: practitioner, affiliates, specialists, collaborates, hospitals, experiences, honors, diverse, nursing, doctors\n",
            "doctor: fixing, crowns, provided, implant, completed, dental, college, tooth, association, extraction\n",
            "engineer: software, computer, engineering, technical, technology, industry, electrical, systems, senior, machine\n",
            "teacher: teachers, education, schools, taught, curriculum, elementary, teaching, students, literacy, educational\n",
            "dietitian: nutrition, registered, medical, practitioner, she, cooperates, groups, who, memorial, with\n",
            "\n",
            "\n"
          ]
        },
        {
          "metadata": {
            "tags": null
          },
          "name": "stderr",
          "output_type": "stream",
          "text": [
            "9527it [00:39, 228.50it/s]"
          ]
        },
        {
          "metadata": {
            "tags": null
          },
          "name": "stdout",
          "output_type": "stream",
          "text": [
            "| epoch   2 |  9500/70832 batches | loss    1.637 \n",
            "women: gender, women’s, she, living, her, involved, culture, working, the, identity\n",
            "men: one, the, this, just, understanding, life, would, role, between, led\n",
            "nurse: practitioner, affiliates, specialists, collaborates, hospitals, experiences, honors, diverse, nursing, doctors\n",
            "doctor: fixing, crowns, provided, implant, completed, dental, college, tooth, association, extraction\n",
            "engineer: software, computer, engineering, technical, technology, industry, electrical, systems, senior, machine\n",
            "teacher: teachers, education, schools, curriculum, taught, elementary, teaching, students, literacy, educational\n",
            "dietitian: nutrition, registered, medical, practitioner, she, cooperates, groups, who, with, memorial\n",
            "\n",
            "\n"
          ]
        },
        {
          "metadata": {
            "tags": null
          },
          "name": "stderr",
          "output_type": "stream",
          "text": [
            "10020it [00:40, 229.63it/s]"
          ]
        },
        {
          "metadata": {
            "tags": null
          },
          "name": "stdout",
          "output_type": "stream",
          "text": [
            "| epoch   2 | 10000/70832 batches | loss    1.639 \n",
            "women: she, women’s, gender, living, her, involved, working, culture, identity, the\n",
            "men: one, this, understanding, just, the, life, would, role, between, led\n",
            "nurse: practitioner, affiliates, specialists, collaborates, hospitals, experiences, honors, diverse, nursing, doctors\n",
            "doctor: fixing, crowns, provided, implant, completed, dental, college, tooth, association, extraction\n",
            "engineer: software, computer, engineering, technical, technology, industry, electrical, systems, senior, machine\n",
            "teacher: teachers, education, schools, curriculum, taught, elementary, teaching, students, literacy, educational\n",
            "dietitian: nutrition, registered, medical, she, practitioner, cooperates, with, who, groups, memorial\n",
            "\n",
            "\n"
          ]
        },
        {
          "metadata": {
            "tags": null
          },
          "name": "stderr",
          "output_type": "stream",
          "text": [
            "10522it [00:43, 197.71it/s]"
          ]
        },
        {
          "metadata": {
            "tags": null
          },
          "name": "stdout",
          "output_type": "stream",
          "text": [
            "| epoch   2 | 10500/70832 batches | loss    1.633 \n",
            "women: she, women’s, gender, living, her, involved, the, working, culture, identity\n",
            "men: one, this, understanding, just, life, would, role, to, between, led\n",
            "nurse: practitioner, affiliates, specialists, collaborates, hospitals, experiences, honors, diverse, nursing, doctors\n",
            "doctor: fixing, crowns, provided, implant, completed, dental, college, tooth, association, extraction\n",
            "engineer: software, computer, engineering, technical, technology, industry, electrical, systems, senior, machine\n",
            "teacher: teachers, education, schools, taught, curriculum, elementary, teaching, students, literacy, coordinator\n",
            "dietitian: nutrition, registered, medical, she, practitioner, cooperates, who, groups, with, memorial\n",
            "\n",
            "\n"
          ]
        },
        {
          "metadata": {
            "tags": null
          },
          "name": "stderr",
          "output_type": "stream",
          "text": [
            "11015it [00:45, 219.12it/s]"
          ]
        },
        {
          "metadata": {
            "tags": null
          },
          "name": "stdout",
          "output_type": "stream",
          "text": [
            "| epoch   2 | 11000/70832 batches | loss    1.643 \n",
            "women: she, women’s, gender, living, the, her, involved, working, culture, identity\n",
            "men: one, this, understanding, just, life, would, to, role, the, between\n",
            "nurse: practitioner, affiliates, specialists, collaborates, hospitals, experiences, honors, diverse, nursing, doctors\n",
            "doctor: fixing, crowns, provided, completed, implant, dental, college, tooth, association, extraction\n",
            "engineer: software, computer, engineering, technical, technology, industry, electrical, systems, senior, machine\n",
            "teacher: teachers, education, schools, taught, curriculum, elementary, teaching, students, literacy, coordinator\n",
            "dietitian: nutrition, registered, medical, she, practitioner, cooperates, who, groups, with, memorial\n",
            "\n",
            "\n"
          ]
        },
        {
          "metadata": {
            "tags": null
          },
          "name": "stderr",
          "output_type": "stream",
          "text": [
            "11531it [00:47, 230.07it/s]"
          ]
        },
        {
          "metadata": {
            "tags": null
          },
          "name": "stdout",
          "output_type": "stream",
          "text": [
            "| epoch   2 | 11500/70832 batches | loss    1.648 \n",
            "women: she, women’s, gender, living, the, her, involved, working, culture, identity\n",
            "men: one, this, understanding, just, the, life, to, would, role, between\n",
            "nurse: practitioner, affiliates, specialists, collaborates, hospitals, experiences, honors, diverse, nursing, doctors\n",
            "doctor: fixing, crowns, provided, completed, implant, dental, college, tooth, association, extraction\n",
            "engineer: software, computer, engineering, technical, technology, industry, electrical, systems, senior, machine\n",
            "teacher: teachers, education, schools, taught, curriculum, elementary, teaching, literacy, students, coordinator\n",
            "dietitian: nutrition, registered, medical, she, practitioner, cooperates, with, who, groups, memorial\n",
            "\n",
            "\n"
          ]
        },
        {
          "metadata": {
            "tags": null
          },
          "name": "stderr",
          "output_type": "stream",
          "text": [
            "12034it [00:49, 229.06it/s]"
          ]
        },
        {
          "metadata": {
            "tags": null
          },
          "name": "stdout",
          "output_type": "stream",
          "text": [
            "| epoch   2 | 12000/70832 batches | loss    1.644 \n",
            "women: she, women’s, gender, the, living, her, involved, working, culture, identity\n",
            "men: one, this, understanding, just, life, the, to, would, role, between\n",
            "nurse: practitioner, affiliates, specialists, collaborates, hospitals, experiences, honors, diverse, nursing, doctors\n",
            "doctor: fixing, crowns, provided, completed, implant, dental, college, tooth, association, extraction\n",
            "engineer: software, computer, engineering, technical, technology, industry, electrical, systems, senior, machine\n",
            "teacher: teachers, education, schools, taught, curriculum, elementary, teaching, students, literacy, coordinator\n",
            "dietitian: nutrition, registered, medical, she, practitioner, with, cooperates, who, groups, memorial\n",
            "\n",
            "\n"
          ]
        },
        {
          "metadata": {
            "tags": null
          },
          "name": "stderr",
          "output_type": "stream",
          "text": [
            "12531it [00:51, 228.22it/s]"
          ]
        },
        {
          "metadata": {
            "tags": null
          },
          "name": "stdout",
          "output_type": "stream",
          "text": [
            "| epoch   2 | 12500/70832 batches | loss    1.639 \n",
            "women: she, women’s, gender, the, living, her, involved, working, culture, identity\n",
            "men: one, this, understanding, just, life, would, role, between, to, the\n",
            "nurse: practitioner, affiliates, specialists, collaborates, hospitals, experiences, honors, diverse, nursing, graduated\n",
            "doctor: fixing, crowns, provided, completed, implant, dental, college, association, tooth, extraction\n",
            "engineer: software, computer, engineering, technical, technology, industry, systems, electrical, senior, machine\n",
            "teacher: teachers, education, schools, taught, curriculum, elementary, teaching, students, literacy, coordinator\n",
            "dietitian: nutrition, registered, she, medical, practitioner, cooperates, with, who, groups, memorial\n",
            "\n",
            "\n"
          ]
        },
        {
          "metadata": {
            "tags": null
          },
          "name": "stderr",
          "output_type": "stream",
          "text": [
            "13024it [00:52, 227.98it/s]"
          ]
        },
        {
          "metadata": {
            "tags": null
          },
          "name": "stdout",
          "output_type": "stream",
          "text": [
            "| epoch   2 | 13000/70832 batches | loss    1.644 \n",
            "women: she, women’s, gender, living, the, her, working, culture, involved, and\n",
            "men: one, understanding, this, life, just, would, to, role, between, led\n",
            "nurse: practitioner, affiliates, specialists, collaborates, hospitals, experiences, honors, diverse, nursing, doctors\n",
            "doctor: fixing, crowns, provided, completed, implant, dental, college, association, tooth, extraction\n",
            "engineer: software, computer, engineering, technical, technology, industry, electrical, systems, senior, machine\n",
            "teacher: teachers, education, schools, taught, curriculum, elementary, teaching, students, literacy, coordinator\n",
            "dietitian: nutrition, registered, she, medical, practitioner, with, cooperates, who, groups, experiences\n",
            "\n",
            "\n"
          ]
        },
        {
          "metadata": {
            "tags": null
          },
          "name": "stderr",
          "output_type": "stream",
          "text": [
            "13514it [00:54, 231.74it/s]"
          ]
        },
        {
          "metadata": {
            "tags": null
          },
          "name": "stdout",
          "output_type": "stream",
          "text": [
            "| epoch   2 | 13500/70832 batches | loss    1.640 \n",
            "women: she, women’s, gender, the, living, her, working, culture, involved, to\n",
            "men: one, understanding, this, life, to, just, would, role, between, makes\n",
            "nurse: practitioner, affiliates, specialists, collaborates, hospitals, experiences, honors, diverse, nursing, graduated\n",
            "doctor: fixing, crowns, provided, completed, implant, dental, college, tooth, association, extraction\n",
            "engineer: software, computer, engineering, technical, technology, industry, systems, electrical, senior, machine\n",
            "teacher: teachers, education, schools, taught, curriculum, elementary, teaching, students, literacy, coordinator\n",
            "dietitian: nutrition, registered, with, practitioner, medical, she, cooperates, who, groups, memorial\n",
            "\n",
            "\n"
          ]
        },
        {
          "metadata": {
            "tags": null
          },
          "name": "stderr",
          "output_type": "stream",
          "text": [
            "14026it [00:56, 218.48it/s]"
          ]
        },
        {
          "metadata": {
            "tags": null
          },
          "name": "stdout",
          "output_type": "stream",
          "text": [
            "| epoch   2 | 14000/70832 batches | loss    1.642 \n",
            "women: she, women’s, gender, the, living, her, working, culture, of, involved\n",
            "men: one, to, understanding, life, this, just, would, role, between, led\n",
            "nurse: practitioner, affiliates, specialists, collaborates, hospitals, experiences, honors, diverse, nursing, graduated\n",
            "doctor: fixing, crowns, provided, completed, implant, dental, college, tooth, association, extraction\n",
            "engineer: software, computer, engineering, technical, technology, industry, systems, electrical, senior, machine\n",
            "teacher: teachers, education, schools, taught, curriculum, elementary, teaching, students, literacy, coordinator\n",
            "dietitian: nutrition, with, registered, medical, practitioner, cooperates, she, who, groups, memorial\n",
            "\n",
            "\n"
          ]
        },
        {
          "metadata": {
            "tags": null
          },
          "name": "stderr",
          "output_type": "stream",
          "text": [
            "14520it [00:58, 230.33it/s]"
          ]
        },
        {
          "metadata": {
            "tags": null
          },
          "name": "stdout",
          "output_type": "stream",
          "text": [
            "| epoch   2 | 14500/70832 batches | loss    1.641 \n",
            "women: she, women’s, gender, living, her, the, working, culture, involved, to\n",
            "men: one, to, life, understanding, just, this, would, role, between, led\n",
            "nurse: practitioner, affiliates, specialists, collaborates, hospitals, experiences, diverse, honors, nursing, graduated\n",
            "doctor: fixing, crowns, provided, completed, implant, dental, college, tooth, association, extraction\n",
            "engineer: software, computer, engineering, technical, technology, industry, systems, electrical, senior, machine\n",
            "teacher: teachers, education, schools, taught, curriculum, elementary, teaching, students, literacy, coordinator\n",
            "dietitian: nutrition, registered, with, medical, practitioner, cooperates, she, who, groups, memorial\n",
            "\n",
            "\n"
          ]
        },
        {
          "metadata": {
            "tags": null
          },
          "name": "stderr",
          "output_type": "stream",
          "text": [
            "15012it [01:00, 232.13it/s]"
          ]
        },
        {
          "metadata": {
            "tags": null
          },
          "name": "stdout",
          "output_type": "stream",
          "text": [
            "| epoch   2 | 15000/70832 batches | loss    1.634 \n",
            "women: she, women’s, gender, living, her, the, working, culture, to, involved\n",
            "men: one, to, life, understanding, the, this, just, would, role, led\n",
            "nurse: practitioner, affiliates, specialists, collaborates, hospitals, experiences, diverse, honors, nursing, graduated\n",
            "doctor: fixing, crowns, provided, completed, implant, dental, college, association, tooth, extraction\n",
            "engineer: software, computer, engineering, technical, technology, industry, electrical, systems, senior, machine\n",
            "teacher: teachers, education, schools, taught, curriculum, elementary, students, teaching, literacy, coordinator\n",
            "dietitian: nutrition, registered, with, medical, practitioner, cooperates, she, who, groups, memorial\n",
            "\n",
            "\n"
          ]
        },
        {
          "metadata": {
            "tags": null
          },
          "name": "stderr",
          "output_type": "stream",
          "text": [
            "15525it [01:02, 223.75it/s]"
          ]
        },
        {
          "metadata": {
            "tags": null
          },
          "name": "stdout",
          "output_type": "stream",
          "text": [
            "| epoch   2 | 15500/70832 batches | loss    1.640 \n",
            "women: women’s, she, gender, living, her, the, working, to, culture, involved\n",
            "men: one, life, to, this, just, understanding, would, the, role, led\n",
            "nurse: practitioner, affiliates, specialists, collaborates, hospitals, experiences, diverse, honors, nursing, graduated\n",
            "doctor: fixing, crowns, provided, implant, completed, dental, college, association, tooth, extraction\n",
            "engineer: software, computer, engineering, technical, technology, industry, electrical, systems, senior, machine\n",
            "teacher: teachers, education, schools, curriculum, taught, elementary, students, teaching, literacy, coordinator\n",
            "dietitian: nutrition, registered, with, medical, practitioner, cooperates, who, she, groups, memorial\n",
            "\n",
            "\n"
          ]
        },
        {
          "metadata": {
            "tags": null
          },
          "name": "stderr",
          "output_type": "stream",
          "text": [
            "16027it [01:04, 232.65it/s]"
          ]
        },
        {
          "metadata": {
            "tags": null
          },
          "name": "stdout",
          "output_type": "stream",
          "text": [
            "| epoch   2 | 16000/70832 batches | loss    1.642 \n",
            "women: women’s, she, gender, living, her, working, culture, to, involved, the\n",
            "men: one, life, to, this, understanding, just, would, role, between, led\n",
            "nurse: practitioner, affiliates, specialists, collaborates, hospitals, experiences, diverse, honors, nursing, graduated\n",
            "doctor: fixing, crowns, provided, implant, completed, dental, college, association, tooth, extraction\n",
            "engineer: software, computer, engineering, technical, technology, industry, electrical, systems, senior, machine\n",
            "teacher: teachers, education, schools, curriculum, elementary, taught, teaching, students, literacy, coordinator\n",
            "dietitian: nutrition, registered, with, medical, practitioner, cooperates, she, who, groups, memorial\n",
            "\n",
            "\n"
          ]
        },
        {
          "metadata": {
            "tags": null
          },
          "name": "stderr",
          "output_type": "stream",
          "text": [
            "16526it [01:06, 225.80it/s]"
          ]
        },
        {
          "metadata": {
            "tags": null
          },
          "name": "stdout",
          "output_type": "stream",
          "text": [
            "| epoch   2 | 16500/70832 batches | loss    1.633 \n",
            "women: she, women’s, gender, living, the, her, working, and, to, culture\n",
            "men: one, this, to, life, just, understanding, the, would, role, led\n",
            "nurse: practitioner, affiliates, specialists, collaborates, hospitals, experiences, diverse, honors, nursing, graduated\n",
            "doctor: fixing, crowns, provided, implant, completed, dental, college, association, tooth, extraction\n",
            "engineer: software, computer, engineering, technical, technology, industry, electrical, systems, senior, machine\n",
            "teacher: teachers, education, schools, curriculum, elementary, taught, teaching, students, literacy, coordinator\n",
            "dietitian: nutrition, registered, with, medical, practitioner, cooperates, she, who, groups, memorial\n",
            "\n",
            "\n"
          ]
        },
        {
          "metadata": {
            "tags": null
          },
          "name": "stderr",
          "output_type": "stream",
          "text": [
            "17027it [01:08, 224.61it/s]"
          ]
        },
        {
          "metadata": {
            "tags": null
          },
          "name": "stdout",
          "output_type": "stream",
          "text": [
            "| epoch   2 | 17000/70832 batches | loss    1.641 \n",
            "women: women’s, she, gender, living, the, her, working, culture, and, involved\n",
            "men: one, life, this, just, understanding, the, to, would, role, led\n",
            "nurse: practitioner, affiliates, specialists, collaborates, hospitals, experiences, diverse, honors, nursing, graduated\n",
            "doctor: fixing, crowns, provided, implant, completed, dental, college, tooth, association, extraction\n",
            "engineer: software, computer, engineering, technical, technology, industry, electrical, systems, senior, machine\n",
            "teacher: teachers, education, schools, curriculum, elementary, taught, teaching, students, literacy, coordinator\n",
            "dietitian: nutrition, registered, with, medical, practitioner, cooperates, groups, who, she, memorial\n",
            "\n",
            "\n"
          ]
        },
        {
          "metadata": {
            "tags": null
          },
          "name": "stderr",
          "output_type": "stream",
          "text": [
            "17520it [01:10, 220.32it/s]"
          ]
        },
        {
          "metadata": {
            "tags": null
          },
          "name": "stdout",
          "output_type": "stream",
          "text": [
            "| epoch   2 | 17500/70832 batches | loss    1.635 \n",
            "women: women’s, gender, she, living, her, and, working, culture, involved, the\n",
            "men: one, life, this, understanding, just, would, to, role, between, led\n",
            "nurse: practitioner, affiliates, specialists, collaborates, hospitals, experiences, diverse, honors, nursing, graduated\n",
            "doctor: fixing, crowns, provided, implant, completed, dental, college, tooth, association, extraction\n",
            "engineer: software, computer, engineering, technical, technology, industry, electrical, systems, senior, machine\n",
            "teacher: teachers, education, schools, curriculum, elementary, taught, students, teaching, literacy, educational\n",
            "dietitian: nutrition, registered, with, practitioner, medical, cooperates, she, groups, who, memorial\n",
            "\n",
            "\n"
          ]
        },
        {
          "metadata": {
            "tags": null
          },
          "name": "stderr",
          "output_type": "stream",
          "text": [
            "18021it [01:12, 230.23it/s]"
          ]
        },
        {
          "metadata": {
            "tags": null
          },
          "name": "stdout",
          "output_type": "stream",
          "text": [
            "| epoch   2 | 18000/70832 batches | loss    1.640 \n",
            "women: women’s, gender, she, living, her, involved, culture, working, and, identity\n",
            "men: one, life, this, just, understanding, would, to, role, led, between\n",
            "nurse: practitioner, affiliates, specialists, collaborates, hospitals, experiences, diverse, nursing, honors, graduated\n",
            "doctor: fixing, crowns, provided, implant, completed, dental, college, tooth, association, extraction\n",
            "engineer: software, computer, engineering, technical, technology, industry, electrical, systems, senior, machine\n",
            "teacher: teachers, education, schools, curriculum, elementary, taught, students, teaching, literacy, coordinator\n",
            "dietitian: nutrition, registered, with, practitioner, she, medical, cooperates, groups, who, memorial\n",
            "\n",
            "\n"
          ]
        },
        {
          "metadata": {
            "tags": null
          },
          "name": "stderr",
          "output_type": "stream",
          "text": [
            "18522it [01:14, 230.62it/s]"
          ]
        },
        {
          "metadata": {
            "tags": null
          },
          "name": "stdout",
          "output_type": "stream",
          "text": [
            "| epoch   2 | 18500/70832 batches | loss    1.635 \n",
            "women: women’s, she, gender, living, her, involved, and, culture, the, working\n",
            "men: one, life, this, understanding, just, to, would, role, led, makes\n",
            "nurse: practitioner, affiliates, specialists, collaborates, hospitals, experiences, diverse, nursing, honors, graduated\n",
            "doctor: fixing, crowns, provided, implant, completed, dental, college, tooth, association, extraction\n",
            "engineer: software, computer, engineering, technical, technology, industry, electrical, systems, senior, machine\n",
            "teacher: teachers, education, schools, curriculum, elementary, taught, students, teaching, literacy, coordinator\n",
            "dietitian: nutrition, registered, with, medical, she, practitioner, cooperates, groups, who, memorial\n",
            "\n",
            "\n"
          ]
        },
        {
          "metadata": {
            "tags": null
          },
          "name": "stderr",
          "output_type": "stream",
          "text": [
            "19022it [01:16, 227.45it/s]"
          ]
        },
        {
          "metadata": {
            "tags": null
          },
          "name": "stdout",
          "output_type": "stream",
          "text": [
            "| epoch   2 | 19000/70832 batches | loss    1.637 \n",
            "women: women’s, she, gender, living, the, her, culture, to, involved, working\n",
            "men: to, one, life, this, just, understanding, would, role, led, makes\n",
            "nurse: practitioner, affiliates, specialists, collaborates, hospitals, experiences, diverse, nursing, honors, graduated\n",
            "doctor: fixing, crowns, implant, provided, completed, dental, college, tooth, association, extraction\n",
            "engineer: software, computer, engineering, technical, technology, industry, electrical, systems, senior, machine\n",
            "teacher: teachers, education, schools, elementary, curriculum, taught, students, teaching, literacy, coordinator\n",
            "dietitian: nutrition, registered, with, she, medical, practitioner, cooperates, groups, who, memorial\n",
            "\n",
            "\n"
          ]
        },
        {
          "metadata": {
            "tags": null
          },
          "name": "stderr",
          "output_type": "stream",
          "text": [
            "19522it [01:18, 208.04it/s]"
          ]
        },
        {
          "metadata": {
            "tags": null
          },
          "name": "stdout",
          "output_type": "stream",
          "text": [
            "| epoch   2 | 19500/70832 batches | loss    1.635 \n",
            "women: she, women’s, gender, living, her, the, culture, involved, working, to\n",
            "men: to, one, life, this, just, understanding, would, role, many, makes\n",
            "nurse: practitioner, affiliates, specialists, collaborates, hospitals, experiences, diverse, nursing, honors, graduated\n",
            "doctor: fixing, crowns, implant, provided, dental, completed, college, tooth, association, extraction\n",
            "engineer: software, computer, engineering, technical, technology, industry, electrical, systems, senior, machine\n",
            "teacher: teachers, education, schools, elementary, curriculum, taught, teaching, students, literacy, coordinator\n",
            "dietitian: nutrition, registered, with, she, medical, practitioner, cooperates, groups, who, memorial\n",
            "\n",
            "\n"
          ]
        },
        {
          "metadata": {
            "tags": null
          },
          "name": "stderr",
          "output_type": "stream",
          "text": [
            "20027it [01:20, 209.74it/s]"
          ]
        },
        {
          "metadata": {
            "tags": null
          },
          "name": "stdout",
          "output_type": "stream",
          "text": [
            "| epoch   2 | 20000/70832 batches | loss    1.636 \n",
            "women: women’s, she, gender, living, the, her, involved, culture, working, to\n",
            "men: one, to, life, this, just, understanding, would, role, makes, many\n",
            "nurse: practitioner, affiliates, specialists, collaborates, hospitals, experiences, diverse, nursing, honors, graduated\n",
            "doctor: fixing, crowns, implant, provided, dental, completed, college, tooth, association, extraction\n",
            "engineer: software, computer, engineering, technical, technology, industry, electrical, systems, senior, machine\n",
            "teacher: teachers, education, schools, elementary, curriculum, taught, teaching, students, literacy, coordinator\n",
            "dietitian: nutrition, registered, with, medical, she, practitioner, cooperates, groups, who, memorial\n",
            "\n",
            "\n"
          ]
        },
        {
          "metadata": {
            "tags": null
          },
          "name": "stderr",
          "output_type": "stream",
          "text": [
            "20521it [01:24, 54.57it/s]"
          ]
        },
        {
          "metadata": {
            "tags": null
          },
          "name": "stdout",
          "output_type": "stream",
          "text": [
            "| epoch   2 | 20500/70832 batches | loss    1.637 \n",
            "women: women’s, she, gender, living, her, culture, involved, to, working, the\n",
            "men: to, one, life, this, just, understanding, would, role, many, makes\n",
            "nurse: practitioner, affiliates, specialists, collaborates, hospitals, experiences, diverse, nursing, honors, graduated\n",
            "doctor: fixing, crowns, implant, provided, dental, completed, college, tooth, association, extraction\n",
            "engineer: software, computer, engineering, technical, technology, industry, electrical, systems, senior, machine\n",
            "teacher: teachers, education, schools, elementary, curriculum, taught, students, teaching, literacy, coordinator\n",
            "dietitian: nutrition, registered, with, medical, she, practitioner, cooperates, groups, who, memorial\n",
            "\n",
            "\n"
          ]
        },
        {
          "metadata": {
            "tags": null
          },
          "name": "stderr",
          "output_type": "stream",
          "text": [
            "21024it [01:26, 214.30it/s]"
          ]
        },
        {
          "metadata": {
            "tags": null
          },
          "name": "stdout",
          "output_type": "stream",
          "text": [
            "| epoch   2 | 21000/70832 batches | loss    1.635 \n",
            "women: women’s, she, gender, living, her, involved, culture, working, to, identity\n",
            "men: one, life, to, this, just, understanding, would, role, many, makes\n",
            "nurse: practitioner, affiliates, specialists, collaborates, hospitals, experiences, diverse, nursing, honors, graduated\n",
            "doctor: fixing, crowns, implant, provided, dental, completed, college, tooth, association, extraction\n",
            "engineer: software, computer, engineering, technical, technology, industry, electrical, systems, senior, machine\n",
            "teacher: teachers, education, schools, elementary, curriculum, taught, students, teaching, literacy, coordinator\n",
            "dietitian: nutrition, registered, with, medical, she, practitioner, cooperates, groups, who, memorial\n",
            "\n",
            "\n"
          ]
        },
        {
          "metadata": {
            "tags": null
          },
          "name": "stderr",
          "output_type": "stream",
          "text": [
            "21516it [01:28, 220.32it/s]"
          ]
        },
        {
          "metadata": {
            "tags": null
          },
          "name": "stdout",
          "output_type": "stream",
          "text": [
            "| epoch   2 | 21500/70832 batches | loss    1.640 \n",
            "women: she, women’s, gender, living, her, involved, culture, working, identity, the\n",
            "men: one, life, this, just, understanding, to, would, role, many, led\n",
            "nurse: practitioner, affiliates, specialists, collaborates, hospitals, experiences, diverse, nursing, honors, graduated\n",
            "doctor: fixing, crowns, implant, provided, completed, dental, college, tooth, association, extraction\n",
            "engineer: software, computer, engineering, technical, technology, industry, electrical, systems, senior, machine\n",
            "teacher: teachers, education, schools, elementary, curriculum, taught, teaching, students, literacy, coordinator\n",
            "dietitian: nutrition, registered, with, medical, she, practitioner, cooperates, groups, who, memorial\n",
            "\n",
            "\n"
          ]
        },
        {
          "metadata": {
            "tags": null
          },
          "name": "stderr",
          "output_type": "stream",
          "text": [
            "22028it [01:30, 227.16it/s]"
          ]
        },
        {
          "metadata": {
            "tags": null
          },
          "name": "stdout",
          "output_type": "stream",
          "text": [
            "| epoch   2 | 22000/70832 batches | loss    1.641 \n",
            "women: women’s, she, gender, living, her, involved, culture, working, the, identity\n",
            "men: one, life, this, just, understanding, to, would, role, many, makes\n",
            "nurse: practitioner, affiliates, specialists, collaborates, hospitals, experiences, diverse, nursing, honors, graduated\n",
            "doctor: fixing, crowns, implant, provided, completed, dental, college, tooth, association, extraction\n",
            "engineer: software, computer, engineering, technical, technology, industry, electrical, systems, senior, machine\n",
            "teacher: teachers, education, schools, elementary, curriculum, taught, teaching, students, literacy, coordinator\n",
            "dietitian: nutrition, registered, with, medical, she, practitioner, cooperates, groups, who, clinical\n",
            "\n",
            "\n"
          ]
        },
        {
          "metadata": {
            "tags": null
          },
          "name": "stderr",
          "output_type": "stream",
          "text": [
            "22519it [01:32, 208.52it/s]"
          ]
        },
        {
          "metadata": {
            "tags": null
          },
          "name": "stdout",
          "output_type": "stream",
          "text": [
            "| epoch   2 | 22500/70832 batches | loss    1.642 \n",
            "women: women’s, she, gender, living, the, her, involved, culture, and, working\n",
            "men: one, life, just, this, understanding, would, to, the, role, makes\n",
            "nurse: practitioner, affiliates, specialists, collaborates, hospitals, experiences, diverse, nursing, honors, graduated\n",
            "doctor: fixing, crowns, implant, completed, provided, dental, college, tooth, association, extraction\n",
            "engineer: software, computer, engineering, technical, technology, industry, electrical, systems, senior, machine\n",
            "teacher: teachers, education, schools, elementary, curriculum, taught, teaching, students, literacy, coordinator\n",
            "dietitian: nutrition, registered, with, she, medical, practitioner, cooperates, groups, who, clinical\n",
            "\n",
            "\n"
          ]
        },
        {
          "metadata": {
            "tags": null
          },
          "name": "stderr",
          "output_type": "stream",
          "text": [
            "23013it [01:34, 232.22it/s]"
          ]
        },
        {
          "metadata": {
            "tags": null
          },
          "name": "stdout",
          "output_type": "stream",
          "text": [
            "| epoch   2 | 23000/70832 batches | loss    1.636 \n",
            "women: women’s, she, gender, living, her, involved, the, culture, working, identity\n",
            "men: one, life, just, this, understanding, would, to, role, makes, between\n",
            "nurse: practitioner, affiliates, specialists, collaborates, hospitals, experiences, diverse, nursing, honors, graduated\n",
            "doctor: fixing, crowns, implant, completed, provided, college, dental, tooth, association, extraction\n",
            "engineer: software, computer, engineering, technical, technology, industry, electrical, systems, senior, machine\n",
            "teacher: teachers, education, schools, elementary, curriculum, taught, teaching, students, literacy, coordinator\n",
            "dietitian: nutrition, with, registered, medical, she, practitioner, cooperates, groups, who, clinical\n",
            "\n",
            "\n"
          ]
        },
        {
          "metadata": {
            "tags": null
          },
          "name": "stderr",
          "output_type": "stream",
          "text": [
            "23531it [01:36, 235.78it/s]"
          ]
        },
        {
          "metadata": {
            "tags": null
          },
          "name": "stdout",
          "output_type": "stream",
          "text": [
            "| epoch   2 | 23500/70832 batches | loss    1.643 \n",
            "women: she, women’s, gender, living, her, involved, to, culture, the, working\n",
            "men: one, life, this, to, understanding, just, would, role, makes, between\n",
            "nurse: practitioner, affiliates, specialists, collaborates, hospitals, experiences, diverse, honors, nursing, graduated\n",
            "doctor: fixing, crowns, completed, implant, provided, dental, college, tooth, association, extraction\n",
            "engineer: software, computer, engineering, technical, technology, industry, electrical, systems, senior, machine\n",
            "teacher: teachers, education, schools, elementary, curriculum, taught, teaching, students, literacy, coordinator\n",
            "dietitian: nutrition, with, registered, she, practitioner, medical, groups, cooperates, who, memorial\n",
            "\n",
            "\n"
          ]
        },
        {
          "metadata": {
            "tags": null
          },
          "name": "stderr",
          "output_type": "stream",
          "text": [
            "24025it [01:38, 210.95it/s]"
          ]
        },
        {
          "metadata": {
            "tags": null
          },
          "name": "stdout",
          "output_type": "stream",
          "text": [
            "| epoch   2 | 24000/70832 batches | loss    1.646 \n",
            "women: women’s, she, gender, living, her, and, involved, culture, to, working\n",
            "men: one, life, this, just, understanding, would, to, role, makes, between\n",
            "nurse: practitioner, affiliates, specialists, collaborates, hospitals, experiences, diverse, honors, nursing, graduated\n",
            "doctor: fixing, crowns, completed, implant, provided, college, dental, tooth, association, extraction\n",
            "engineer: software, computer, engineering, technical, technology, industry, electrical, systems, senior, machine\n",
            "teacher: teachers, education, schools, elementary, curriculum, taught, teaching, students, literacy, coordinator\n",
            "dietitian: nutrition, registered, with, she, practitioner, medical, cooperates, groups, who, memorial\n",
            "\n",
            "\n"
          ]
        },
        {
          "metadata": {
            "tags": null
          },
          "name": "stderr",
          "output_type": "stream",
          "text": [
            "24512it [01:40, 214.10it/s]"
          ]
        },
        {
          "metadata": {
            "tags": null
          },
          "name": "stdout",
          "output_type": "stream",
          "text": [
            "| epoch   2 | 24500/70832 batches | loss    1.641 \n",
            "women: women’s, she, gender, living, her, involved, culture, working, to, identity\n",
            "men: one, this, life, just, understanding, would, to, role, between, many\n",
            "nurse: practitioner, affiliates, specialists, collaborates, hospitals, experiences, diverse, honors, nursing, graduated\n",
            "doctor: fixing, crowns, implant, completed, provided, college, dental, tooth, association, extraction\n",
            "engineer: software, computer, engineering, technical, technology, industry, electrical, systems, senior, machine\n",
            "teacher: teachers, education, schools, elementary, curriculum, taught, teaching, students, literacy, coordinator\n",
            "dietitian: nutrition, registered, with, she, practitioner, medical, cooperates, groups, who, memorial\n",
            "\n",
            "\n"
          ]
        },
        {
          "metadata": {
            "tags": null
          },
          "name": "stderr",
          "output_type": "stream",
          "text": [
            "25014it [01:42, 224.18it/s]"
          ]
        },
        {
          "metadata": {
            "tags": null
          },
          "name": "stdout",
          "output_type": "stream",
          "text": [
            "| epoch   2 | 25000/70832 batches | loss    1.640 \n",
            "women: she, women’s, gender, living, her, involved, working, culture, and, to\n",
            "men: one, this, life, just, understanding, would, between, role, to, makes\n",
            "nurse: practitioner, affiliates, specialists, collaborates, hospitals, experiences, diverse, honors, nursing, graduated\n",
            "doctor: fixing, crowns, implant, completed, provided, college, dental, tooth, association, extraction\n",
            "engineer: software, computer, engineering, technical, technology, industry, electrical, systems, senior, machine\n",
            "teacher: teachers, education, schools, elementary, curriculum, taught, teaching, students, literacy, coordinator\n",
            "dietitian: nutrition, registered, with, she, practitioner, medical, cooperates, groups, who, memorial\n",
            "\n",
            "\n"
          ]
        },
        {
          "metadata": {
            "tags": null
          },
          "name": "stderr",
          "output_type": "stream",
          "text": [
            "25536it [01:44, 235.24it/s]"
          ]
        },
        {
          "metadata": {
            "tags": null
          },
          "name": "stdout",
          "output_type": "stream",
          "text": [
            "| epoch   2 | 25500/70832 batches | loss    1.636 \n",
            "women: she, women’s, gender, living, her, and, involved, working, culture, the\n",
            "men: one, this, life, just, understanding, would, to, role, between, many\n",
            "nurse: practitioner, affiliates, specialists, collaborates, hospitals, experiences, diverse, nursing, honors, graduated\n",
            "doctor: fixing, crowns, implant, provided, completed, college, dental, tooth, association, extraction\n",
            "engineer: software, computer, engineering, technical, technology, industry, electrical, systems, senior, he\n",
            "teacher: teachers, education, schools, elementary, taught, curriculum, teaching, students, literacy, coordinator\n",
            "dietitian: nutrition, registered, with, practitioner, medical, cooperates, she, who, groups, clinical\n",
            "\n",
            "\n"
          ]
        },
        {
          "metadata": {
            "tags": null
          },
          "name": "stderr",
          "output_type": "stream",
          "text": [
            "26026it [01:46, 222.95it/s]"
          ]
        },
        {
          "metadata": {
            "tags": null
          },
          "name": "stdout",
          "output_type": "stream",
          "text": [
            "| epoch   2 | 26000/70832 batches | loss    1.639 \n",
            "women: women’s, she, gender, living, her, the, involved, culture, working, and\n",
            "men: one, this, just, understanding, life, would, to, role, between, makes\n",
            "nurse: practitioner, affiliates, specialists, collaborates, hospitals, experiences, nursing, honors, diverse, graduated\n",
            "doctor: fixing, crowns, implant, college, provided, completed, dental, tooth, association, extraction\n",
            "engineer: software, computer, engineering, technical, technology, industry, electrical, systems, senior, he\n",
            "teacher: teachers, education, schools, elementary, curriculum, taught, teaching, students, literacy, coordinator\n",
            "dietitian: nutrition, registered, with, practitioner, medical, cooperates, who, she, groups, clinical\n",
            "\n",
            "\n"
          ]
        },
        {
          "metadata": {
            "tags": null
          },
          "name": "stderr",
          "output_type": "stream",
          "text": [
            "26517it [01:48, 229.03it/s]"
          ]
        },
        {
          "metadata": {
            "tags": null
          },
          "name": "stdout",
          "output_type": "stream",
          "text": [
            "| epoch   2 | 26500/70832 batches | loss    1.639 \n",
            "women: she, women’s, the, gender, living, her, and, culture, involved, working\n",
            "men: one, this, just, life, understanding, would, role, to, between, many\n",
            "nurse: practitioner, affiliates, specialists, collaborates, hospitals, experiences, nursing, honors, diverse, graduated\n",
            "doctor: fixing, crowns, completed, provided, implant, college, dental, tooth, association, extraction\n",
            "engineer: software, computer, engineering, technical, technology, industry, electrical, systems, senior, machine\n",
            "teacher: teachers, education, schools, elementary, taught, curriculum, teaching, students, literacy, coordinator\n",
            "dietitian: nutrition, registered, with, practitioner, medical, who, cooperates, she, groups, memorial\n",
            "\n",
            "\n"
          ]
        },
        {
          "metadata": {
            "tags": null
          },
          "name": "stderr",
          "output_type": "stream",
          "text": [
            "27017it [01:50, 233.78it/s]"
          ]
        },
        {
          "metadata": {
            "tags": null
          },
          "name": "stdout",
          "output_type": "stream",
          "text": [
            "| epoch   2 | 27000/70832 batches | loss    1.635 \n",
            "women: she, women’s, the, gender, living, her, and, culture, involved, working\n",
            "men: one, this, life, just, understanding, would, role, to, between, many\n",
            "nurse: practitioner, affiliates, specialists, collaborates, hospitals, experiences, nursing, honors, diverse, graduated\n",
            "doctor: fixing, crowns, provided, implant, college, completed, dental, tooth, association, extraction\n",
            "engineer: software, computer, engineering, technical, technology, industry, electrical, systems, senior, machine\n",
            "teacher: teachers, education, schools, elementary, curriculum, taught, teaching, students, literacy, coordinator\n",
            "dietitian: nutrition, registered, with, practitioner, medical, who, cooperates, she, groups, clinical\n",
            "\n",
            "\n"
          ]
        },
        {
          "metadata": {
            "tags": null
          },
          "name": "stderr",
          "output_type": "stream",
          "text": [
            "27515it [01:51, 230.99it/s]"
          ]
        },
        {
          "metadata": {
            "tags": null
          },
          "name": "stdout",
          "output_type": "stream",
          "text": [
            "| epoch   2 | 27500/70832 batches | loss    1.640 \n",
            "women: women’s, she, gender, the, living, her, and, involved, culture, identity\n",
            "men: one, this, life, just, understanding, would, to, role, makes, many\n",
            "nurse: practitioner, affiliates, specialists, collaborates, hospitals, experiences, nursing, honors, diverse, graduated\n",
            "doctor: fixing, crowns, completed, implant, provided, college, dental, tooth, association, extraction\n",
            "engineer: software, computer, engineering, technical, technology, industry, electrical, systems, senior, he\n",
            "teacher: teachers, education, schools, elementary, curriculum, teaching, taught, students, literacy, coordinator\n",
            "dietitian: nutrition, registered, with, practitioner, she, who, medical, cooperates, groups, memorial\n",
            "\n",
            "\n"
          ]
        },
        {
          "metadata": {
            "tags": null
          },
          "name": "stderr",
          "output_type": "stream",
          "text": [
            "28027it [01:53, 225.86it/s]"
          ]
        },
        {
          "metadata": {
            "tags": null
          },
          "name": "stdout",
          "output_type": "stream",
          "text": [
            "| epoch   2 | 28000/70832 batches | loss    1.637 \n",
            "women: she, women’s, gender, living, her, the, culture, involved, identity, working\n",
            "men: one, this, life, just, understanding, would, role, to, makes, many\n",
            "nurse: practitioner, affiliates, specialists, collaborates, hospitals, experiences, nursing, honors, diverse, graduated\n",
            "doctor: fixing, crowns, provided, college, completed, implant, dental, tooth, association, extraction\n",
            "engineer: software, computer, engineering, technical, technology, industry, electrical, systems, senior, machine\n",
            "teacher: teachers, education, schools, elementary, curriculum, teaching, taught, students, literacy, coordinator\n",
            "dietitian: nutrition, registered, with, practitioner, who, she, cooperates, medical, groups, memorial\n",
            "\n",
            "\n"
          ]
        },
        {
          "metadata": {
            "tags": null
          },
          "name": "stderr",
          "output_type": "stream",
          "text": [
            "28520it [01:55, 226.90it/s]"
          ]
        },
        {
          "metadata": {
            "tags": null
          },
          "name": "stdout",
          "output_type": "stream",
          "text": [
            "| epoch   2 | 28500/70832 batches | loss    1.637 \n",
            "women: she, women’s, gender, living, her, the, culture, involved, on, identity\n",
            "men: one, this, life, just, understanding, would, role, to, makes, many\n",
            "nurse: practitioner, affiliates, specialists, collaborates, hospitals, experiences, diverse, nursing, honors, graduated\n",
            "doctor: fixing, crowns, provided, implant, completed, college, dental, tooth, association, extraction\n",
            "engineer: software, computer, engineering, technical, technology, industry, systems, electrical, senior, machine\n",
            "teacher: teachers, education, schools, elementary, teaching, curriculum, taught, students, literacy, coordinator\n",
            "dietitian: nutrition, registered, with, she, practitioner, who, cooperates, medical, groups, clinical\n",
            "\n",
            "\n"
          ]
        },
        {
          "metadata": {
            "tags": null
          },
          "name": "stderr",
          "output_type": "stream",
          "text": [
            "29013it [01:57, 229.19it/s]"
          ]
        },
        {
          "metadata": {
            "tags": null
          },
          "name": "stdout",
          "output_type": "stream",
          "text": [
            "| epoch   2 | 29000/70832 batches | loss    1.634 \n",
            "women: women’s, she, gender, her, living, involved, the, culture, and, to\n",
            "men: one, this, life, understanding, just, would, to, role, makes, between\n",
            "nurse: practitioner, affiliates, specialists, collaborates, hospitals, experiences, nursing, diverse, honors, graduated\n",
            "doctor: fixing, crowns, provided, implant, completed, college, dental, tooth, association, extraction\n",
            "engineer: software, computer, engineering, technical, technology, industry, electrical, systems, senior, machine\n",
            "teacher: teachers, education, schools, elementary, teaching, curriculum, taught, students, literacy, coordinator\n",
            "dietitian: nutrition, registered, with, she, practitioner, who, cooperates, medical, groups, clinical\n",
            "\n",
            "\n"
          ]
        },
        {
          "metadata": {
            "tags": null
          },
          "name": "stderr",
          "output_type": "stream",
          "text": [
            "29532it [01:59, 223.98it/s]"
          ]
        },
        {
          "metadata": {
            "tags": null
          },
          "name": "stdout",
          "output_type": "stream",
          "text": [
            "| epoch   2 | 29500/70832 batches | loss    1.632 \n",
            "women: women’s, she, her, gender, living, the, to, and, involved, culture\n",
            "men: one, this, life, to, just, understanding, would, role, makes, between\n",
            "nurse: practitioner, affiliates, specialists, collaborates, hospitals, experiences, nursing, diverse, honors, graduated\n",
            "doctor: fixing, crowns, provided, college, implant, completed, dental, tooth, association, extraction\n",
            "engineer: software, computer, engineering, technical, technology, industry, electrical, systems, senior, he\n",
            "teacher: teachers, education, schools, elementary, teaching, curriculum, taught, students, literacy, coordinator\n",
            "dietitian: nutrition, registered, with, who, practitioner, she, cooperates, medical, groups, clinical\n",
            "\n",
            "\n"
          ]
        },
        {
          "metadata": {
            "tags": null
          },
          "name": "stderr",
          "output_type": "stream",
          "text": [
            "30021it [02:01, 225.28it/s]"
          ]
        },
        {
          "metadata": {
            "tags": null
          },
          "name": "stdout",
          "output_type": "stream",
          "text": [
            "| epoch   2 | 30000/70832 batches | loss    1.640 \n",
            "women: women’s, she, gender, her, living, the, and, involved, to, culture\n",
            "men: one, this, life, to, just, understanding, would, role, makes, led\n",
            "nurse: practitioner, affiliates, specialists, collaborates, hospitals, nursing, experiences, diverse, honors, graduated\n",
            "doctor: fixing, crowns, college, provided, completed, implant, dental, tooth, from, association\n",
            "engineer: software, computer, engineering, technical, technology, industry, electrical, systems, a, senior\n",
            "teacher: teachers, education, schools, elementary, teaching, curriculum, taught, students, literacy, coordinator\n",
            "dietitian: nutrition, registered, with, she, practitioner, who, cooperates, medical, groups, clinical\n",
            "\n",
            "\n"
          ]
        },
        {
          "metadata": {
            "tags": null
          },
          "name": "stderr",
          "output_type": "stream",
          "text": [
            "30520it [02:03, 229.09it/s]"
          ]
        },
        {
          "metadata": {
            "tags": null
          },
          "name": "stdout",
          "output_type": "stream",
          "text": [
            "| epoch   2 | 30500/70832 batches | loss    1.634 \n",
            "women: she, women’s, gender, her, living, the, involved, working, culture, identity\n",
            "men: one, this, life, to, just, understanding, would, role, makes, many\n",
            "nurse: practitioner, affiliates, specialists, collaborates, hospitals, experiences, nursing, honors, diverse, graduated\n",
            "doctor: fixing, crowns, college, implant, completed, provided, dental, tooth, from, association\n",
            "engineer: software, computer, engineering, technical, technology, industry, electrical, systems, senior, a\n",
            "teacher: teachers, education, schools, elementary, teaching, curriculum, taught, students, literacy, coordinator\n",
            "dietitian: nutrition, registered, with, practitioner, who, she, cooperates, medical, groups, clinical\n",
            "\n",
            "\n"
          ]
        },
        {
          "metadata": {
            "tags": null
          },
          "name": "stderr",
          "output_type": "stream",
          "text": [
            "31014it [02:05, 232.72it/s]"
          ]
        },
        {
          "metadata": {
            "tags": null
          },
          "name": "stdout",
          "output_type": "stream",
          "text": [
            "| epoch   2 | 31000/70832 batches | loss    1.638 \n",
            "women: women’s, she, her, gender, living, the, to, involved, working, identity\n",
            "men: one, this, to, life, just, understanding, would, role, many, between\n",
            "nurse: practitioner, affiliates, specialists, collaborates, hospitals, nursing, experiences, honors, diverse, graduated\n",
            "doctor: fixing, crowns, college, implant, completed, provided, dental, tooth, from, association\n",
            "engineer: software, computer, engineering, technical, technology, industry, electrical, systems, senior, machine\n",
            "teacher: teachers, education, schools, elementary, teaching, curriculum, taught, students, literacy, coordinator\n",
            "dietitian: nutrition, registered, with, practitioner, who, she, cooperates, medical, groups, clinical\n",
            "\n",
            "\n"
          ]
        },
        {
          "metadata": {
            "tags": null
          },
          "name": "stderr",
          "output_type": "stream",
          "text": [
            "31518it [02:07, 221.84it/s]"
          ]
        },
        {
          "metadata": {
            "tags": null
          },
          "name": "stdout",
          "output_type": "stream",
          "text": [
            "| epoch   2 | 31500/70832 batches | loss    1.637 \n",
            "women: she, women’s, gender, her, living, the, to, working, culture, involved\n",
            "men: one, to, this, life, just, the, understanding, would, role, between\n",
            "nurse: practitioner, affiliates, specialists, collaborates, hospitals, nursing, experiences, honors, diverse, graduated\n",
            "doctor: fixing, crowns, college, completed, implant, provided, dental, tooth, from, association\n",
            "engineer: software, computer, engineering, technical, technology, industry, electrical, systems, senior, machine\n",
            "teacher: teachers, education, schools, elementary, curriculum, teaching, taught, students, literacy, coordinator\n",
            "dietitian: nutrition, registered, with, she, practitioner, who, cooperates, groups, medical, clinical\n",
            "\n",
            "\n"
          ]
        },
        {
          "metadata": {
            "tags": null
          },
          "name": "stderr",
          "output_type": "stream",
          "text": [
            "32015it [02:09, 232.18it/s]"
          ]
        },
        {
          "metadata": {
            "tags": null
          },
          "name": "stdout",
          "output_type": "stream",
          "text": [
            "| epoch   2 | 32000/70832 batches | loss    1.638 \n",
            "women: women’s, she, gender, living, her, the, culture, identity, involved, working\n",
            "men: to, one, this, life, just, understanding, would, the, between, role\n",
            "nurse: practitioner, affiliates, specialists, collaborates, hospitals, nursing, experiences, honors, diverse, graduated\n",
            "doctor: fixing, crowns, college, completed, implant, provided, dental, tooth, from, association\n",
            "engineer: software, computer, engineering, technical, technology, industry, electrical, systems, he, senior\n",
            "teacher: teachers, education, schools, elementary, teaching, curriculum, taught, students, literacy, coordinator\n",
            "dietitian: nutrition, registered, with, she, practitioner, who, cooperates, medical, groups, clinical\n",
            "\n",
            "\n"
          ]
        },
        {
          "metadata": {
            "tags": null
          },
          "name": "stderr",
          "output_type": "stream",
          "text": [
            "32525it [02:11, 219.96it/s]"
          ]
        },
        {
          "metadata": {
            "tags": null
          },
          "name": "stdout",
          "output_type": "stream",
          "text": [
            "| epoch   2 | 32500/70832 batches | loss    1.632 \n",
            "women: she, women’s, gender, living, her, the, culture, identity, involved, to\n",
            "men: one, to, this, life, just, would, understanding, many, between, role\n",
            "nurse: practitioner, affiliates, specialists, collaborates, hospitals, nursing, experiences, honors, diverse, graduated\n",
            "doctor: fixing, crowns, college, completed, provided, implant, dental, tooth, from, association\n",
            "engineer: software, computer, engineering, technical, technology, industry, electrical, systems, he, senior\n",
            "teacher: teachers, education, schools, elementary, curriculum, taught, teaching, students, literacy, coordinator\n",
            "dietitian: nutrition, registered, with, she, practitioner, who, cooperates, medical, groups, clinical\n",
            "\n",
            "\n"
          ]
        },
        {
          "metadata": {
            "tags": null
          },
          "name": "stderr",
          "output_type": "stream",
          "text": [
            "33021it [02:13, 230.45it/s]"
          ]
        },
        {
          "metadata": {
            "tags": null
          },
          "name": "stdout",
          "output_type": "stream",
          "text": [
            "| epoch   2 | 33000/70832 batches | loss    1.632 \n",
            "women: she, women’s, gender, living, the, her, culture, identity, involved, to\n",
            "men: to, one, this, life, just, would, understanding, between, many, led\n",
            "nurse: practitioner, affiliates, specialists, collaborates, hospitals, nursing, experiences, honors, diverse, graduated\n",
            "doctor: fixing, crowns, college, completed, provided, implant, dental, tooth, from, association\n",
            "engineer: software, computer, engineering, technical, technology, industry, electrical, systems, senior, machine\n",
            "teacher: teachers, education, schools, elementary, curriculum, teaching, taught, students, literacy, coordinator\n",
            "dietitian: nutrition, registered, with, practitioner, she, cooperates, medical, who, groups, clinical\n",
            "\n",
            "\n"
          ]
        },
        {
          "metadata": {
            "tags": null
          },
          "name": "stderr",
          "output_type": "stream",
          "text": [
            "33512it [02:15, 230.04it/s]"
          ]
        },
        {
          "metadata": {
            "tags": null
          },
          "name": "stdout",
          "output_type": "stream",
          "text": [
            "| epoch   2 | 33500/70832 batches | loss    1.632 \n",
            "women: she, women’s, living, gender, her, on, culture, identity, involved, the\n",
            "men: one, to, this, life, just, would, understanding, between, many, led\n",
            "nurse: practitioner, affiliates, specialists, collaborates, hospitals, nursing, experiences, honors, diverse, graduated\n",
            "doctor: fixing, crowns, college, completed, implant, provided, dental, tooth, from, association\n",
            "engineer: software, computer, engineering, technical, technology, industry, electrical, systems, he, senior\n",
            "teacher: teachers, education, schools, elementary, curriculum, teaching, taught, students, literacy, coordinator\n",
            "dietitian: nutrition, with, registered, she, practitioner, medical, cooperates, who, groups, clinical\n",
            "\n",
            "\n"
          ]
        },
        {
          "metadata": {
            "tags": null
          },
          "name": "stderr",
          "output_type": "stream",
          "text": [
            "34027it [02:17, 227.72it/s]"
          ]
        },
        {
          "metadata": {
            "tags": null
          },
          "name": "stdout",
          "output_type": "stream",
          "text": [
            "| epoch   2 | 34000/70832 batches | loss    1.631 \n",
            "women: she, women’s, gender, living, her, culture, working, identity, on, and\n",
            "men: one, this, life, just, to, would, understanding, between, many, role\n",
            "nurse: practitioner, affiliates, specialists, collaborates, hospitals, nursing, experiences, honors, diverse, graduated\n",
            "doctor: fixing, crowns, college, completed, implant, provided, dental, tooth, from, association\n",
            "engineer: software, computer, engineering, technical, technology, industry, electrical, systems, he, senior\n",
            "teacher: teachers, education, schools, elementary, curriculum, teaching, taught, students, literacy, coordinator\n",
            "dietitian: nutrition, registered, with, she, practitioner, who, medical, cooperates, groups, clinical\n",
            "\n",
            "\n"
          ]
        },
        {
          "metadata": {
            "tags": null
          },
          "name": "stderr",
          "output_type": "stream",
          "text": [
            "34527it [02:19, 231.12it/s]"
          ]
        },
        {
          "metadata": {
            "tags": null
          },
          "name": "stdout",
          "output_type": "stream",
          "text": [
            "| epoch   2 | 34500/70832 batches | loss    1.636 \n",
            "women: she, women’s, living, gender, her, culture, working, identity, on, the\n",
            "men: one, this, life, to, just, would, understanding, between, many, led\n",
            "nurse: practitioner, affiliates, specialists, collaborates, hospitals, nursing, honors, experiences, diverse, graduated\n",
            "doctor: fixing, crowns, college, completed, implant, provided, dental, tooth, from, association\n",
            "engineer: software, computer, engineering, technical, technology, industry, electrical, systems, senior, machine\n",
            "teacher: teachers, education, schools, elementary, curriculum, teaching, taught, students, literacy, coordinator\n",
            "dietitian: nutrition, with, registered, she, practitioner, cooperates, who, groups, medical, clinical\n",
            "\n",
            "\n"
          ]
        },
        {
          "metadata": {
            "tags": null
          },
          "name": "stderr",
          "output_type": "stream",
          "text": [
            "35014it [02:21, 230.88it/s]"
          ]
        },
        {
          "metadata": {
            "tags": null
          },
          "name": "stdout",
          "output_type": "stream",
          "text": [
            "| epoch   2 | 35000/70832 batches | loss    1.634 \n",
            "women: she, women’s, gender, living, her, working, identity, culture, on, involved\n",
            "men: one, to, life, this, just, would, understanding, between, led, many\n",
            "nurse: practitioner, affiliates, specialists, collaborates, hospitals, nursing, experiences, honors, diverse, graduated\n",
            "doctor: fixing, crowns, college, completed, implant, provided, dental, tooth, from, association\n",
            "engineer: software, computer, engineering, technical, technology, industry, electrical, systems, senior, he\n",
            "teacher: teachers, education, schools, elementary, teaching, curriculum, taught, students, literacy, coordinator\n",
            "dietitian: nutrition, with, registered, she, practitioner, cooperates, who, groups, medical, clinical\n",
            "\n",
            "\n"
          ]
        },
        {
          "metadata": {
            "tags": null
          },
          "name": "stderr",
          "output_type": "stream",
          "text": [
            "35511it [02:23, 231.10it/s]"
          ]
        },
        {
          "metadata": {
            "tags": null
          },
          "name": "stdout",
          "output_type": "stream",
          "text": [
            "| epoch   2 | 35500/70832 batches | loss    1.632 \n",
            "women: she, women’s, living, gender, her, working, on, culture, identity, involved\n",
            "men: one, life, to, this, just, would, understanding, led, many, between\n",
            "nurse: practitioner, affiliates, specialists, collaborates, hospitals, nursing, experiences, honors, diverse, graduated\n",
            "doctor: fixing, crowns, completed, college, implant, provided, dental, tooth, from, association\n",
            "engineer: software, computer, engineering, technical, technology, industry, electrical, systems, senior, he\n",
            "teacher: teachers, education, schools, elementary, curriculum, teaching, taught, students, literacy, coordinator\n",
            "dietitian: nutrition, with, registered, she, practitioner, cooperates, groups, who, medical, clinical\n",
            "\n",
            "\n"
          ]
        },
        {
          "metadata": {
            "tags": null
          },
          "name": "stderr",
          "output_type": "stream",
          "text": [
            "36030it [02:25, 226.87it/s]"
          ]
        },
        {
          "metadata": {
            "tags": null
          },
          "name": "stdout",
          "output_type": "stream",
          "text": [
            "| epoch   2 | 36000/70832 batches | loss    1.632 \n",
            "women: women’s, she, her, gender, living, working, on, culture, identity, involved\n",
            "men: one, to, life, this, just, would, understanding, led, between, makes\n",
            "nurse: practitioner, affiliates, specialists, collaborates, hospitals, nursing, experiences, honors, diverse, graduated\n",
            "doctor: fixing, crowns, college, completed, implant, provided, dental, tooth, from, association\n",
            "engineer: software, computer, engineering, technical, technology, industry, electrical, systems, he, senior\n",
            "teacher: teachers, education, schools, elementary, curriculum, teaching, taught, students, literacy, coordinator\n",
            "dietitian: nutrition, with, registered, she, practitioner, who, cooperates, medical, groups, clinical\n",
            "\n",
            "\n"
          ]
        },
        {
          "metadata": {
            "tags": null
          },
          "name": "stderr",
          "output_type": "stream",
          "text": [
            "36521it [02:27, 205.62it/s]"
          ]
        },
        {
          "metadata": {
            "tags": null
          },
          "name": "stdout",
          "output_type": "stream",
          "text": [
            "| epoch   2 | 36500/70832 batches | loss    1.635 \n",
            "women: women’s, her, gender, she, living, working, on, the, culture, involved\n",
            "men: one, life, to, this, just, would, understanding, on, makes, led\n",
            "nurse: practitioner, affiliates, specialists, collaborates, hospitals, nursing, experiences, honors, diverse, graduated\n",
            "doctor: fixing, crowns, completed, college, implant, provided, dental, tooth, from, association\n",
            "engineer: software, computer, engineering, technical, technology, industry, electrical, systems, he, senior\n",
            "teacher: teachers, education, schools, elementary, curriculum, teaching, taught, students, literacy, coordinator\n",
            "dietitian: nutrition, registered, with, she, practitioner, who, cooperates, medical, groups, clinical\n",
            "\n",
            "\n"
          ]
        },
        {
          "metadata": {
            "tags": null
          },
          "name": "stderr",
          "output_type": "stream",
          "text": [
            "37014it [02:29, 232.68it/s]"
          ]
        },
        {
          "metadata": {
            "tags": null
          },
          "name": "stdout",
          "output_type": "stream",
          "text": [
            "| epoch   2 | 37000/70832 batches | loss    1.634 \n",
            "women: women’s, she, gender, living, her, working, the, culture, on, identity\n",
            "men: one, life, to, this, just, would, understanding, on, makes, much\n",
            "nurse: practitioner, affiliates, specialists, collaborates, hospitals, nursing, experiences, honors, diverse, graduated\n",
            "doctor: fixing, crowns, college, completed, implant, provided, dental, from, tooth, association\n",
            "engineer: software, computer, engineering, technical, technology, industry, electrical, systems, senior, worked\n",
            "teacher: teachers, education, schools, elementary, teaching, taught, curriculum, students, literacy, coordinator\n",
            "dietitian: nutrition, with, registered, practitioner, she, who, medical, cooperates, groups, clinical\n",
            "\n",
            "\n"
          ]
        },
        {
          "metadata": {
            "tags": null
          },
          "name": "stderr",
          "output_type": "stream",
          "text": [
            "37524it [02:31, 216.24it/s]"
          ]
        },
        {
          "metadata": {
            "tags": null
          },
          "name": "stdout",
          "output_type": "stream",
          "text": [
            "| epoch   2 | 37500/70832 batches | loss    1.633 \n",
            "women: women’s, living, she, gender, her, working, culture, the, involved, identity\n",
            "men: one, life, this, to, just, would, on, understanding, makes, led\n",
            "nurse: practitioner, affiliates, specialists, collaborates, hospitals, nursing, experiences, honors, diverse, graduated\n",
            "doctor: fixing, crowns, college, completed, implant, provided, dental, tooth, from, association\n",
            "engineer: software, computer, engineering, technical, technology, industry, electrical, systems, senior, he\n",
            "teacher: teachers, education, schools, elementary, teaching, taught, curriculum, students, literacy, coordinator\n",
            "dietitian: nutrition, with, registered, she, practitioner, who, cooperates, groups, medical, clinical\n",
            "\n",
            "\n"
          ]
        },
        {
          "metadata": {
            "tags": null
          },
          "name": "stderr",
          "output_type": "stream",
          "text": [
            "38015it [02:33, 226.27it/s]"
          ]
        },
        {
          "metadata": {
            "tags": null
          },
          "name": "stdout",
          "output_type": "stream",
          "text": [
            "| epoch   2 | 38000/70832 batches | loss    1.636 \n",
            "women: women’s, living, she, gender, her, working, culture, the, involved, on\n",
            "men: one, this, life, on, just, would, to, understanding, makes, much\n",
            "nurse: practitioner, affiliates, specialists, collaborates, hospitals, nursing, experiences, honors, diverse, graduated\n",
            "doctor: fixing, crowns, college, completed, implant, provided, dental, tooth, from, association\n",
            "engineer: software, computer, engineering, technical, technology, industry, electrical, systems, senior, worked\n",
            "teacher: teachers, education, schools, elementary, teaching, taught, curriculum, students, literacy, coordinator\n",
            "dietitian: nutrition, with, registered, practitioner, who, she, cooperates, groups, medical, clinical\n",
            "\n",
            "\n"
          ]
        },
        {
          "metadata": {
            "tags": null
          },
          "name": "stderr",
          "output_type": "stream",
          "text": [
            "38532it [02:35, 232.30it/s]"
          ]
        },
        {
          "metadata": {
            "tags": null
          },
          "name": "stdout",
          "output_type": "stream",
          "text": [
            "| epoch   2 | 38500/70832 batches | loss    1.637 \n",
            "women: women’s, she, living, gender, her, the, working, involved, culture, on\n",
            "men: one, to, this, life, on, just, would, understanding, makes, much\n",
            "nurse: practitioner, affiliates, specialists, collaborates, hospitals, nursing, experiences, honors, diverse, graduated\n",
            "doctor: fixing, crowns, college, completed, implant, provided, from, dental, tooth, association\n",
            "engineer: software, computer, engineering, technical, technology, industry, electrical, systems, senior, worked\n",
            "teacher: teachers, education, schools, elementary, curriculum, teaching, taught, students, literacy, coordinator\n",
            "dietitian: nutrition, with, registered, who, practitioner, she, cooperates, groups, medical, clinical\n",
            "\n",
            "\n"
          ]
        },
        {
          "metadata": {
            "tags": null
          },
          "name": "stderr",
          "output_type": "stream",
          "text": [
            "39030it [02:37, 225.87it/s]"
          ]
        },
        {
          "metadata": {
            "tags": null
          },
          "name": "stdout",
          "output_type": "stream",
          "text": [
            "| epoch   2 | 39000/70832 batches | loss    1.637 \n",
            "women: women’s, she, living, gender, her, and, working, the, on, culture\n",
            "men: to, one, on, this, life, just, would, understanding, makes, of\n",
            "nurse: practitioner, affiliates, specialists, collaborates, hospitals, nursing, experiences, honors, diverse, graduated\n",
            "doctor: fixing, crowns, college, completed, implant, provided, dental, from, tooth, association\n",
            "engineer: software, computer, engineering, technical, technology, industry, electrical, systems, worked, senior\n",
            "teacher: teachers, education, schools, elementary, curriculum, teaching, taught, students, literacy, coordinator\n",
            "dietitian: nutrition, registered, with, who, she, practitioner, cooperates, groups, clinical, medical\n",
            "\n",
            "\n"
          ]
        },
        {
          "metadata": {
            "tags": null
          },
          "name": "stderr",
          "output_type": "stream",
          "text": [
            "39527it [02:38, 233.45it/s]"
          ]
        },
        {
          "metadata": {
            "tags": null
          },
          "name": "stdout",
          "output_type": "stream",
          "text": [
            "| epoch   2 | 39500/70832 batches | loss    1.640 \n",
            "women: women’s, living, gender, she, her, working, and, involved, the, culture\n",
            "men: one, to, this, life, on, just, would, understanding, and, makes\n",
            "nurse: practitioner, affiliates, specialists, collaborates, hospitals, nursing, experiences, honors, diverse, graduated\n",
            "doctor: fixing, crowns, college, completed, implant, provided, dental, from, tooth, association\n",
            "engineer: software, computer, engineering, technical, technology, industry, electrical, systems, he, worked\n",
            "teacher: teachers, education, schools, elementary, curriculum, teaching, taught, students, literacy, coordinator\n",
            "dietitian: nutrition, registered, with, who, she, practitioner, cooperates, groups, clinical, medical\n",
            "\n",
            "\n"
          ]
        },
        {
          "metadata": {
            "tags": null
          },
          "name": "stderr",
          "output_type": "stream",
          "text": [
            "40026it [02:40, 218.71it/s]"
          ]
        },
        {
          "metadata": {
            "tags": null
          },
          "name": "stdout",
          "output_type": "stream",
          "text": [
            "| epoch   2 | 40000/70832 batches | loss    1.635 \n",
            "women: women’s, she, living, gender, the, her, working, involved, on, culture\n",
            "men: one, to, on, life, this, just, would, understanding, led, makes\n",
            "nurse: practitioner, affiliates, specialists, collaborates, hospitals, nursing, experiences, honors, diverse, graduated\n",
            "doctor: fixing, crowns, college, completed, implant, provided, dental, tooth, from, association\n",
            "engineer: software, computer, engineering, technical, technology, industry, electrical, systems, worked, senior\n",
            "teacher: teachers, education, schools, elementary, curriculum, taught, teaching, students, literacy, coordinator\n",
            "dietitian: nutrition, registered, with, who, she, practitioner, cooperates, groups, medical, clinical\n",
            "\n",
            "\n"
          ]
        },
        {
          "metadata": {
            "tags": null
          },
          "name": "stderr",
          "output_type": "stream",
          "text": [
            "40515it [02:42, 235.88it/s]"
          ]
        },
        {
          "metadata": {
            "tags": null
          },
          "name": "stdout",
          "output_type": "stream",
          "text": [
            "| epoch   2 | 40500/70832 batches | loss    1.646 \n",
            "women: women’s, she, living, gender, her, working, culture, involved, the, identity\n",
            "men: one, on, to, this, life, just, would, understanding, led, makes\n",
            "nurse: practitioner, affiliates, specialists, collaborates, hospitals, nursing, experiences, honors, diverse, graduated\n",
            "doctor: fixing, crowns, college, completed, implant, provided, dental, tooth, from, association\n",
            "engineer: software, computer, engineering, technical, technology, industry, electrical, systems, worked, he\n",
            "teacher: teachers, education, schools, elementary, curriculum, taught, teaching, students, literacy, coordinator\n",
            "dietitian: nutrition, registered, with, she, who, practitioner, cooperates, groups, medical, clinical\n",
            "\n",
            "\n"
          ]
        },
        {
          "metadata": {
            "tags": null
          },
          "name": "stderr",
          "output_type": "stream",
          "text": [
            "41035it [02:44, 233.78it/s]"
          ]
        },
        {
          "metadata": {
            "tags": null
          },
          "name": "stdout",
          "output_type": "stream",
          "text": [
            "| epoch   2 | 41000/70832 batches | loss    1.639 \n",
            "women: women’s, she, living, gender, the, her, working, culture, identity, involved\n",
            "men: one, to, this, life, on, just, would, understanding, makes, led\n",
            "nurse: practitioner, affiliates, specialists, collaborates, nursing, hospitals, experiences, honors, diverse, graduated\n",
            "doctor: fixing, crowns, college, completed, implant, provided, dental, tooth, association, from\n",
            "engineer: software, computer, engineering, technical, technology, industry, electrical, systems, worked, senior\n",
            "teacher: teachers, education, schools, elementary, curriculum, teaching, taught, students, literacy, coordinator\n",
            "dietitian: nutrition, registered, with, who, she, practitioner, cooperates, groups, medical, clinical\n",
            "\n",
            "\n"
          ]
        },
        {
          "metadata": {
            "tags": null
          },
          "name": "stderr",
          "output_type": "stream",
          "text": [
            "41528it [02:46, 233.50it/s]"
          ]
        },
        {
          "metadata": {
            "tags": null
          },
          "name": "stdout",
          "output_type": "stream",
          "text": [
            "| epoch   2 | 41500/70832 batches | loss    1.634 \n",
            "women: women’s, she, living, gender, her, the, culture, working, identity, on\n",
            "men: one, on, life, this, to, just, would, understanding, makes, led\n",
            "nurse: practitioner, affiliates, specialists, collaborates, hospitals, nursing, experiences, honors, diverse, graduated\n",
            "doctor: fixing, crowns, college, completed, implant, provided, dental, tooth, association, extraction\n",
            "engineer: software, computer, engineering, technical, technology, industry, electrical, systems, worked, senior\n",
            "teacher: teachers, education, schools, elementary, curriculum, teaching, taught, students, literacy, coordinator\n",
            "dietitian: nutrition, registered, with, she, who, practitioner, cooperates, groups, medical, clinical\n",
            "\n",
            "\n"
          ]
        },
        {
          "metadata": {
            "tags": null
          },
          "name": "stderr",
          "output_type": "stream",
          "text": [
            "42022it [02:48, 229.01it/s]"
          ]
        },
        {
          "metadata": {
            "tags": null
          },
          "name": "stdout",
          "output_type": "stream",
          "text": [
            "| epoch   2 | 42000/70832 batches | loss    1.634 \n",
            "women: women’s, living, gender, she, her, culture, the, working, on, identity\n",
            "men: one, life, this, on, to, just, would, understanding, makes, led\n",
            "nurse: practitioner, affiliates, specialists, collaborates, nursing, hospitals, experiences, honors, diverse, graduated\n",
            "doctor: fixing, crowns, college, completed, implant, provided, dental, tooth, association, extraction\n",
            "engineer: software, computer, engineering, technical, technology, industry, electrical, systems, worked, senior\n",
            "teacher: teachers, education, schools, elementary, curriculum, teaching, taught, students, literacy, coordinator\n",
            "dietitian: nutrition, with, registered, she, who, practitioner, cooperates, groups, medical, clinical\n",
            "\n",
            "\n"
          ]
        },
        {
          "metadata": {
            "tags": null
          },
          "name": "stderr",
          "output_type": "stream",
          "text": [
            "42522it [02:50, 213.59it/s]"
          ]
        },
        {
          "metadata": {
            "tags": null
          },
          "name": "stdout",
          "output_type": "stream",
          "text": [
            "| epoch   2 | 42500/70832 batches | loss    1.636 \n",
            "women: women’s, living, gender, she, her, culture, working, the, identity, involved\n",
            "men: one, life, this, to, just, on, would, understanding, makes, led\n",
            "nurse: practitioner, affiliates, specialists, collaborates, hospitals, nursing, experiences, honors, diverse, graduated\n",
            "doctor: fixing, crowns, college, completed, implant, provided, dental, tooth, association, member\n",
            "engineer: software, computer, engineering, technical, technology, industry, electrical, systems, worked, senior\n",
            "teacher: teachers, education, schools, elementary, curriculum, teaching, taught, students, literacy, coordinator\n",
            "dietitian: nutrition, with, registered, who, she, practitioner, cooperates, medical, groups, clinical\n",
            "\n",
            "\n"
          ]
        },
        {
          "metadata": {
            "tags": null
          },
          "name": "stderr",
          "output_type": "stream",
          "text": [
            "43019it [02:52, 225.05it/s]"
          ]
        },
        {
          "metadata": {
            "tags": null
          },
          "name": "stdout",
          "output_type": "stream",
          "text": [
            "| epoch   2 | 43000/70832 batches | loss    1.637 \n",
            "women: women’s, living, gender, she, her, the, culture, working, identity, involved\n",
            "men: one, this, life, just, on, to, would, understanding, makes, led\n",
            "nurse: practitioner, affiliates, specialists, collaborates, nursing, hospitals, experiences, honors, diverse, graduated\n",
            "doctor: fixing, crowns, college, completed, implant, provided, dental, tooth, association, member\n",
            "engineer: software, computer, engineering, technical, technology, industry, electrical, systems, worked, senior\n",
            "teacher: teachers, education, schools, elementary, curriculum, teaching, taught, students, literacy, coordinator\n",
            "dietitian: nutrition, with, registered, she, who, practitioner, cooperates, groups, medical, clinical\n",
            "\n",
            "\n"
          ]
        },
        {
          "metadata": {
            "tags": null
          },
          "name": "stderr",
          "output_type": "stream",
          "text": [
            "43520it [02:54, 227.10it/s]"
          ]
        },
        {
          "metadata": {
            "tags": null
          },
          "name": "stdout",
          "output_type": "stream",
          "text": [
            "| epoch   2 | 43500/70832 batches | loss    1.632 \n",
            "women: women’s, living, gender, the, her, she, culture, working, identity, and\n",
            "men: one, this, life, on, just, to, would, understanding, makes, much\n",
            "nurse: practitioner, affiliates, specialists, collaborates, hospitals, nursing, experiences, honors, diverse, graduated\n",
            "doctor: fixing, crowns, college, completed, implant, provided, dental, tooth, association, member\n",
            "engineer: software, computer, engineering, technical, technology, industry, electrical, systems, worked, senior\n",
            "teacher: teachers, education, schools, elementary, curriculum, teaching, taught, students, literacy, coordinator\n",
            "dietitian: nutrition, registered, with, she, who, practitioner, cooperates, groups, medical, clinical\n",
            "\n",
            "\n"
          ]
        },
        {
          "metadata": {
            "tags": null
          },
          "name": "stderr",
          "output_type": "stream",
          "text": [
            "44021it [02:56, 229.23it/s]"
          ]
        },
        {
          "metadata": {
            "tags": null
          },
          "name": "stdout",
          "output_type": "stream",
          "text": [
            "| epoch   2 | 44000/70832 batches | loss    1.636 \n",
            "women: women’s, living, gender, the, she, her, culture, working, identity, involved\n",
            "men: one, this, life, on, just, to, would, understanding, a, makes\n",
            "nurse: practitioner, affiliates, specialists, collaborates, hospitals, nursing, experiences, honors, diverse, graduated\n",
            "doctor: fixing, crowns, college, completed, implant, provided, dental, tooth, association, member\n",
            "engineer: software, computer, engineering, technical, technology, industry, electrical, systems, senior, worked\n",
            "teacher: teachers, education, schools, elementary, curriculum, teaching, taught, students, literacy, coordinator\n",
            "dietitian: nutrition, with, registered, who, she, practitioner, cooperates, groups, medical, clinical\n",
            "\n",
            "\n"
          ]
        },
        {
          "metadata": {
            "tags": null
          },
          "name": "stderr",
          "output_type": "stream",
          "text": [
            "44516it [02:58, 223.70it/s]"
          ]
        },
        {
          "metadata": {
            "tags": null
          },
          "name": "stdout",
          "output_type": "stream",
          "text": [
            "| epoch   2 | 44500/70832 batches | loss    1.635 \n",
            "women: women’s, living, gender, she, the, her, working, culture, identity, involved\n",
            "men: one, this, on, life, to, just, would, understanding, a, makes\n",
            "nurse: practitioner, affiliates, specialists, collaborates, hospitals, nursing, experiences, honors, diverse, graduated\n",
            "doctor: fixing, crowns, college, completed, implant, provided, dental, tooth, association, member\n",
            "engineer: software, computer, engineering, technical, technology, industry, electrical, systems, senior, worked\n",
            "teacher: teachers, education, schools, elementary, curriculum, teaching, taught, students, literacy, coordinator\n",
            "dietitian: nutrition, with, registered, who, she, practitioner, cooperates, groups, medical, clinical\n",
            "\n",
            "\n"
          ]
        },
        {
          "metadata": {
            "tags": null
          },
          "name": "stderr",
          "output_type": "stream",
          "text": [
            "45035it [03:00, 232.45it/s]"
          ]
        },
        {
          "metadata": {
            "tags": null
          },
          "name": "stdout",
          "output_type": "stream",
          "text": [
            "| epoch   2 | 45000/70832 batches | loss    1.637 \n",
            "women: women’s, living, gender, the, she, her, culture, working, identity, involved\n",
            "men: one, on, this, life, to, just, would, understanding, makes, the\n",
            "nurse: practitioner, affiliates, specialists, collaborates, hospitals, nursing, experiences, honors, diverse, graduated\n",
            "doctor: fixing, crowns, college, completed, implant, provided, dental, tooth, from, association\n",
            "engineer: software, computer, engineering, technical, technology, industry, electrical, systems, senior, worked\n",
            "teacher: teachers, education, schools, elementary, curriculum, teaching, taught, students, literacy, coordinator\n",
            "dietitian: nutrition, registered, with, who, she, practitioner, cooperates, groups, medical, clinical\n",
            "\n",
            "\n"
          ]
        },
        {
          "metadata": {
            "tags": null
          },
          "name": "stderr",
          "output_type": "stream",
          "text": [
            "45530it [03:02, 228.80it/s]"
          ]
        },
        {
          "metadata": {
            "tags": null
          },
          "name": "stdout",
          "output_type": "stream",
          "text": [
            "| epoch   2 | 45500/70832 batches | loss    1.632 \n",
            "women: women’s, gender, living, her, she, the, culture, working, identity, involved\n",
            "men: one, this, life, on, just, to, would, understanding, makes, much\n",
            "nurse: practitioner, affiliates, specialists, collaborates, hospitals, nursing, experiences, honors, diverse, graduated\n",
            "doctor: fixing, crowns, college, completed, implant, provided, dental, tooth, association, from\n",
            "engineer: software, computer, engineering, technical, technology, industry, electrical, systems, senior, worked\n",
            "teacher: teachers, education, schools, elementary, curriculum, teaching, taught, students, literacy, coordinator\n",
            "dietitian: nutrition, registered, with, who, practitioner, she, cooperates, groups, clinical, medical\n",
            "\n",
            "\n"
          ]
        },
        {
          "metadata": {
            "tags": null
          },
          "name": "stderr",
          "output_type": "stream",
          "text": [
            "46028it [03:03, 233.91it/s]"
          ]
        },
        {
          "metadata": {
            "tags": null
          },
          "name": "stdout",
          "output_type": "stream",
          "text": [
            "| epoch   2 | 46000/70832 batches | loss    1.632 \n",
            "women: women’s, living, gender, her, the, she, culture, working, identity, involved\n",
            "men: one, this, on, life, just, would, to, understanding, the, makes\n",
            "nurse: practitioner, affiliates, specialists, collaborates, hospitals, nursing, experiences, honors, diverse, graduated\n",
            "doctor: fixing, crowns, college, completed, implant, provided, dental, tooth, association, from\n",
            "engineer: software, computer, engineering, technical, technology, industry, electrical, systems, senior, worked\n",
            "teacher: teachers, education, elementary, schools, curriculum, taught, teaching, students, literacy, coordinator\n",
            "dietitian: nutrition, with, registered, she, who, practitioner, cooperates, groups, clinical, medical\n",
            "\n",
            "\n"
          ]
        },
        {
          "metadata": {
            "tags": null
          },
          "name": "stderr",
          "output_type": "stream",
          "text": [
            "46529it [03:05, 234.31it/s]"
          ]
        },
        {
          "metadata": {
            "tags": null
          },
          "name": "stdout",
          "output_type": "stream",
          "text": [
            "| epoch   2 | 46500/70832 batches | loss    1.632 \n",
            "women: women’s, living, gender, her, she, culture, working, the, identity, involved\n",
            "men: one, this, life, just, on, would, to, understanding, makes, much\n",
            "nurse: practitioner, affiliates, specialists, collaborates, hospitals, experiences, nursing, honors, diverse, graduated\n",
            "doctor: fixing, crowns, college, completed, implant, provided, dental, tooth, from, association\n",
            "engineer: software, computer, engineering, technical, technology, industry, electrical, systems, senior, worked\n",
            "teacher: teachers, education, elementary, schools, curriculum, teaching, taught, students, literacy, coordinator\n",
            "dietitian: nutrition, registered, with, who, she, practitioner, cooperates, groups, clinical, medical\n",
            "\n",
            "\n"
          ]
        },
        {
          "metadata": {
            "tags": null
          },
          "name": "stderr",
          "output_type": "stream",
          "text": [
            "47024it [03:07, 220.52it/s]"
          ]
        },
        {
          "metadata": {
            "tags": null
          },
          "name": "stdout",
          "output_type": "stream",
          "text": [
            "| epoch   2 | 47000/70832 batches | loss    1.633 \n",
            "women: women’s, living, gender, her, she, the, working, culture, identity, involved\n",
            "men: one, this, life, on, just, would, to, understanding, the, makes\n",
            "nurse: practitioner, affiliates, specialists, collaborates, hospitals, nursing, experiences, honors, diverse, graduated\n",
            "doctor: fixing, crowns, college, completed, implant, provided, from, dental, tooth, association\n",
            "engineer: software, computer, engineering, technical, technology, industry, electrical, systems, senior, worked\n",
            "teacher: teachers, education, schools, elementary, curriculum, teaching, taught, students, literacy, coordinator\n",
            "dietitian: nutrition, registered, with, who, she, practitioner, cooperates, groups, clinical, medical\n",
            "\n",
            "\n"
          ]
        },
        {
          "metadata": {
            "tags": null
          },
          "name": "stderr",
          "output_type": "stream",
          "text": [
            "47523it [03:09, 227.23it/s]"
          ]
        },
        {
          "metadata": {
            "tags": null
          },
          "name": "stdout",
          "output_type": "stream",
          "text": [
            "| epoch   2 | 47500/70832 batches | loss    1.634 \n",
            "women: women’s, living, gender, her, she, working, culture, identity, on, involved\n",
            "men: one, this, life, just, on, would, to, understanding, makes, much\n",
            "nurse: practitioner, affiliates, specialists, collaborates, hospitals, nursing, experiences, diverse, honors, graduated\n",
            "doctor: fixing, college, crowns, completed, implant, provided, dental, tooth, from, association\n",
            "engineer: software, computer, engineering, technical, technology, industry, electrical, systems, senior, worked\n",
            "teacher: teachers, education, schools, elementary, curriculum, taught, students, teaching, literacy, coordinator\n",
            "dietitian: nutrition, registered, who, with, she, practitioner, cooperates, groups, clinical, medical\n",
            "\n",
            "\n"
          ]
        },
        {
          "metadata": {
            "tags": null
          },
          "name": "stderr",
          "output_type": "stream",
          "text": [
            "48020it [03:11, 228.80it/s]"
          ]
        },
        {
          "metadata": {
            "tags": null
          },
          "name": "stdout",
          "output_type": "stream",
          "text": [
            "| epoch   2 | 48000/70832 batches | loss    1.631 \n",
            "women: women’s, living, gender, she, her, the, working, culture, identity, on\n",
            "men: one, this, life, on, just, would, to, the, understanding, makes\n",
            "nurse: practitioner, affiliates, specialists, collaborates, hospitals, nursing, experiences, diverse, honors, graduated\n",
            "doctor: fixing, college, crowns, completed, implant, provided, dental, from, tooth, association\n",
            "engineer: software, computer, engineering, technical, technology, industry, electrical, systems, senior, worked\n",
            "teacher: teachers, education, elementary, schools, curriculum, taught, teaching, students, literacy, coordinator\n",
            "dietitian: nutrition, registered, with, who, she, practitioner, cooperates, medical, groups, clinical\n",
            "\n",
            "\n"
          ]
        },
        {
          "metadata": {
            "tags": null
          },
          "name": "stderr",
          "output_type": "stream",
          "text": [
            "48519it [03:13, 214.96it/s]"
          ]
        },
        {
          "metadata": {
            "tags": null
          },
          "name": "stdout",
          "output_type": "stream",
          "text": [
            "| epoch   2 | 48500/70832 batches | loss    1.633 \n",
            "women: women’s, living, gender, her, she, working, culture, identity, the, on\n",
            "men: one, this, life, the, on, just, would, to, understanding, makes\n",
            "nurse: practitioner, affiliates, specialists, collaborates, hospitals, nursing, experiences, diverse, honors, graduated\n",
            "doctor: fixing, college, crowns, completed, implant, provided, dental, from, tooth, association\n",
            "engineer: software, computer, engineering, technical, technology, industry, electrical, systems, senior, worked\n",
            "teacher: teachers, education, elementary, schools, curriculum, teaching, students, taught, literacy, coordinator\n",
            "dietitian: nutrition, registered, with, who, she, practitioner, medical, cooperates, groups, clinical\n",
            "\n",
            "\n"
          ]
        },
        {
          "metadata": {
            "tags": null
          },
          "name": "stderr",
          "output_type": "stream",
          "text": [
            "49014it [03:15, 234.02it/s]"
          ]
        },
        {
          "metadata": {
            "tags": null
          },
          "name": "stdout",
          "output_type": "stream",
          "text": [
            "| epoch   2 | 49000/70832 batches | loss    1.632 \n",
            "women: women’s, gender, living, her, she, culture, working, on, identity, involved\n",
            "men: one, this, life, on, just, the, would, to, understanding, makes\n",
            "nurse: practitioner, affiliates, specialists, collaborates, hospitals, nursing, experiences, diverse, honors, graduated\n",
            "doctor: fixing, college, crowns, completed, implant, provided, dental, tooth, from, association\n",
            "engineer: software, computer, engineering, technical, technology, industry, electrical, systems, senior, worked\n",
            "teacher: teachers, education, elementary, schools, curriculum, teaching, students, taught, literacy, coordinator\n",
            "dietitian: nutrition, registered, who, with, she, practitioner, cooperates, medical, groups, clinical\n",
            "\n",
            "\n"
          ]
        },
        {
          "metadata": {
            "tags": null
          },
          "name": "stderr",
          "output_type": "stream",
          "text": [
            "49526it [03:17, 224.74it/s]"
          ]
        },
        {
          "metadata": {
            "tags": null
          },
          "name": "stdout",
          "output_type": "stream",
          "text": [
            "| epoch   2 | 49500/70832 batches | loss    1.635 \n",
            "women: women’s, gender, living, her, she, working, on, culture, identity, the\n",
            "men: one, this, on, life, just, the, would, understanding, to, makes\n",
            "nurse: practitioner, affiliates, specialists, collaborates, hospitals, nursing, experiences, diverse, honors, graduated\n",
            "doctor: fixing, college, crowns, completed, implant, provided, dental, tooth, association, member\n",
            "engineer: software, computer, engineering, technical, technology, industry, electrical, systems, senior, worked\n",
            "teacher: teachers, education, elementary, schools, curriculum, taught, students, teaching, literacy, coordinator\n",
            "dietitian: nutrition, registered, with, who, she, practitioner, cooperates, medical, clinical, groups\n",
            "\n",
            "\n"
          ]
        },
        {
          "metadata": {
            "tags": null
          },
          "name": "stderr",
          "output_type": "stream",
          "text": [
            "50028it [03:19, 225.07it/s]"
          ]
        },
        {
          "metadata": {
            "tags": null
          },
          "name": "stdout",
          "output_type": "stream",
          "text": [
            "| epoch   2 | 50000/70832 batches | loss    1.640 \n",
            "women: women’s, living, gender, her, she, on, working, the, culture, identity\n",
            "men: one, on, this, life, just, the, would, a, understanding, to\n",
            "nurse: practitioner, affiliates, specialists, collaborates, hospitals, nursing, experiences, diverse, honors, graduated\n",
            "doctor: fixing, crowns, college, completed, implant, provided, dental, tooth, association, member\n",
            "engineer: software, computer, engineering, technical, technology, industry, electrical, systems, senior, worked\n",
            "teacher: teachers, education, elementary, schools, curriculum, teaching, taught, students, literacy, coordinator\n",
            "dietitian: nutrition, registered, with, who, she, practitioner, cooperates, medical, clinical, groups\n",
            "\n",
            "\n"
          ]
        },
        {
          "metadata": {
            "tags": null
          },
          "name": "stderr",
          "output_type": "stream",
          "text": [
            "50528it [03:21, 219.80it/s]"
          ]
        },
        {
          "metadata": {
            "tags": null
          },
          "name": "stdout",
          "output_type": "stream",
          "text": [
            "| epoch   2 | 50500/70832 batches | loss    1.636 \n",
            "women: women’s, living, gender, she, her, working, culture, identity, on, the\n",
            "men: one, this, life, on, just, would, to, understanding, makes, much\n",
            "nurse: practitioner, affiliates, specialists, collaborates, hospitals, nursing, experiences, diverse, honors, graduated\n",
            "doctor: fixing, college, crowns, completed, implant, provided, dental, tooth, association, member\n",
            "engineer: software, computer, engineering, technical, technology, industry, electrical, systems, senior, worked\n",
            "teacher: teachers, education, elementary, schools, curriculum, teaching, taught, students, literacy, coordinator\n",
            "dietitian: nutrition, registered, with, who, she, practitioner, cooperates, medical, clinical, groups\n",
            "\n",
            "\n"
          ]
        },
        {
          "metadata": {
            "tags": null
          },
          "name": "stderr",
          "output_type": "stream",
          "text": [
            "51023it [03:23, 211.62it/s]"
          ]
        },
        {
          "metadata": {
            "tags": null
          },
          "name": "stdout",
          "output_type": "stream",
          "text": [
            "| epoch   2 | 51000/70832 batches | loss    1.632 \n",
            "women: women’s, gender, living, she, her, culture, working, on, identity, about\n",
            "men: one, this, life, on, just, would, to, understanding, a, makes\n",
            "nurse: practitioner, affiliates, specialists, collaborates, hospitals, nursing, experiences, diverse, honors, graduated\n",
            "doctor: fixing, college, crowns, completed, implant, provided, dental, tooth, association, member\n",
            "engineer: software, computer, engineering, technical, technology, industry, electrical, systems, senior, worked\n",
            "teacher: teachers, education, elementary, schools, curriculum, teaching, taught, students, literacy, coordinator\n",
            "dietitian: nutrition, registered, with, who, she, practitioner, medical, cooperates, clinical, groups\n",
            "\n",
            "\n"
          ]
        },
        {
          "metadata": {
            "tags": null
          },
          "name": "stderr",
          "output_type": "stream",
          "text": [
            "51512it [03:25, 234.06it/s]"
          ]
        },
        {
          "metadata": {
            "tags": null
          },
          "name": "stdout",
          "output_type": "stream",
          "text": [
            "| epoch   2 | 51500/70832 batches | loss    1.632 \n",
            "women: women’s, gender, living, she, her, culture, on, working, the, identity\n",
            "men: one, this, life, on, just, would, to, understanding, makes, a\n",
            "nurse: practitioner, affiliates, specialists, collaborates, nursing, hospitals, experiences, diverse, honors, graduated\n",
            "doctor: fixing, crowns, college, completed, implant, provided, dental, tooth, association, from\n",
            "engineer: software, computer, engineering, technical, technology, industry, electrical, systems, senior, worked\n",
            "teacher: teachers, education, elementary, schools, curriculum, teaching, students, taught, literacy, coordinator\n",
            "dietitian: nutrition, registered, with, who, she, practitioner, medical, cooperates, clinical, groups\n",
            "\n",
            "\n"
          ]
        },
        {
          "metadata": {
            "tags": null
          },
          "name": "stderr",
          "output_type": "stream",
          "text": [
            "52029it [03:27, 230.03it/s]"
          ]
        },
        {
          "metadata": {
            "tags": null
          },
          "name": "stdout",
          "output_type": "stream",
          "text": [
            "| epoch   2 | 52000/70832 batches | loss    1.631 \n",
            "women: women’s, gender, living, she, her, on, culture, working, identity, the\n",
            "men: one, this, life, on, just, would, to, understanding, a, work\n",
            "nurse: practitioner, affiliates, specialists, collaborates, hospitals, nursing, experiences, diverse, honors, graduated\n",
            "doctor: fixing, college, crowns, completed, implant, provided, dental, tooth, from, association\n",
            "engineer: software, computer, engineering, technical, technology, industry, electrical, systems, senior, worked\n",
            "teacher: teachers, education, elementary, schools, curriculum, teaching, students, taught, literacy, coordinator\n",
            "dietitian: nutrition, registered, who, with, she, practitioner, cooperates, medical, clinical, groups\n",
            "\n",
            "\n"
          ]
        },
        {
          "metadata": {
            "tags": null
          },
          "name": "stderr",
          "output_type": "stream",
          "text": [
            "52528it [03:29, 226.36it/s]"
          ]
        },
        {
          "metadata": {
            "tags": null
          },
          "name": "stdout",
          "output_type": "stream",
          "text": [
            "| epoch   2 | 52500/70832 batches | loss    1.634 \n",
            "women: women’s, she, gender, living, her, culture, working, on, identity, the\n",
            "men: one, this, life, just, would, to, on, a, work, understanding\n",
            "nurse: practitioner, affiliates, specialists, collaborates, hospitals, nursing, experiences, diverse, honors, graduated\n",
            "doctor: fixing, crowns, college, completed, implant, provided, dental, tooth, from, association\n",
            "engineer: software, computer, engineering, technical, technology, industry, electrical, systems, senior, worked\n",
            "teacher: teachers, education, elementary, schools, curriculum, teaching, students, taught, literacy, coordinator\n",
            "dietitian: nutrition, registered, who, with, practitioner, cooperates, she, clinical, medical, groups\n",
            "\n",
            "\n"
          ]
        },
        {
          "metadata": {
            "tags": null
          },
          "name": "stderr",
          "output_type": "stream",
          "text": [
            "53023it [03:31, 221.61it/s]"
          ]
        },
        {
          "metadata": {
            "tags": null
          },
          "name": "stdout",
          "output_type": "stream",
          "text": [
            "| epoch   2 | 53000/70832 batches | loss    1.633 \n",
            "women: women’s, she, gender, living, the, her, on, working, culture, identity\n",
            "men: one, this, life, just, would, a, on, work, to, understanding\n",
            "nurse: practitioner, affiliates, specialists, collaborates, hospitals, nursing, experiences, diverse, honors, graduated\n",
            "doctor: fixing, crowns, college, completed, implant, provided, dental, tooth, association, member\n",
            "engineer: software, computer, engineering, technical, technology, industry, electrical, systems, senior, worked\n",
            "teacher: teachers, education, elementary, schools, curriculum, students, teaching, taught, literacy, coordinator\n",
            "dietitian: nutrition, registered, who, with, she, cooperates, practitioner, clinical, medical, groups\n",
            "\n",
            "\n"
          ]
        },
        {
          "metadata": {
            "tags": null
          },
          "name": "stderr",
          "output_type": "stream",
          "text": [
            "53535it [03:33, 228.42it/s]"
          ]
        },
        {
          "metadata": {
            "tags": null
          },
          "name": "stdout",
          "output_type": "stream",
          "text": [
            "| epoch   2 | 53500/70832 batches | loss    1.634 \n",
            "women: women’s, she, gender, living, on, her, working, culture, identity, involved\n",
            "men: one, this, life, just, would, to, on, a, work, understanding\n",
            "nurse: practitioner, affiliates, specialists, collaborates, hospitals, nursing, experiences, diverse, honors, graduated\n",
            "doctor: fixing, crowns, college, completed, implant, provided, dental, tooth, association, member\n",
            "engineer: software, computer, engineering, technical, technology, industry, electrical, systems, senior, worked\n",
            "teacher: teachers, education, elementary, schools, curriculum, teaching, students, taught, literacy, coordinator\n",
            "dietitian: nutrition, registered, with, who, she, cooperates, practitioner, clinical, medical, groups\n",
            "\n",
            "\n"
          ]
        },
        {
          "metadata": {
            "tags": null
          },
          "name": "stderr",
          "output_type": "stream",
          "text": [
            "54029it [03:35, 229.52it/s]"
          ]
        },
        {
          "metadata": {
            "tags": null
          },
          "name": "stdout",
          "output_type": "stream",
          "text": [
            "| epoch   2 | 54000/70832 batches | loss    1.638 \n",
            "women: women’s, she, living, gender, on, working, her, culture, identity, involved\n",
            "men: one, this, life, just, would, to, the, work, a, understanding\n",
            "nurse: practitioner, affiliates, specialists, collaborates, nursing, hospitals, experiences, diverse, honors, graduated\n",
            "doctor: fixing, crowns, college, completed, implant, provided, dental, tooth, association, from\n",
            "engineer: software, computer, engineering, technical, technology, industry, electrical, systems, senior, machine\n",
            "teacher: teachers, education, elementary, schools, curriculum, teaching, students, taught, literacy, coordinator\n",
            "dietitian: nutrition, registered, with, who, cooperates, practitioner, she, clinical, groups, medical\n",
            "\n",
            "\n"
          ]
        },
        {
          "metadata": {
            "tags": null
          },
          "name": "stderr",
          "output_type": "stream",
          "text": [
            "54526it [03:37, 225.33it/s]"
          ]
        },
        {
          "metadata": {
            "tags": null
          },
          "name": "stdout",
          "output_type": "stream",
          "text": [
            "| epoch   2 | 54500/70832 batches | loss    1.632 \n",
            "women: she, women’s, living, gender, working, culture, her, identity, on, of\n",
            "men: this, one, life, just, would, to, work, have, the, understanding\n",
            "nurse: practitioner, affiliates, specialists, collaborates, hospitals, nursing, experiences, diverse, honors, graduated\n",
            "doctor: fixing, crowns, completed, college, implant, provided, dental, tooth, association, member\n",
            "engineer: software, computer, engineering, technical, technology, industry, electrical, systems, senior, he\n",
            "teacher: teachers, education, elementary, schools, curriculum, teaching, students, taught, literacy, coordinator\n",
            "dietitian: nutrition, registered, with, who, cooperates, practitioner, clinical, she, groups, medical\n",
            "\n",
            "\n"
          ]
        },
        {
          "metadata": {
            "tags": null
          },
          "name": "stderr",
          "output_type": "stream",
          "text": [
            "55018it [03:39, 226.55it/s]"
          ]
        },
        {
          "metadata": {
            "tags": null
          },
          "name": "stdout",
          "output_type": "stream",
          "text": [
            "| epoch   2 | 55000/70832 batches | loss    1.628 \n",
            "women: women’s, she, gender, living, working, identity, culture, on, and, her\n",
            "men: this, one, life, just, to, would, the, work, understanding, have\n",
            "nurse: practitioner, affiliates, specialists, collaborates, hospitals, nursing, experiences, diverse, honors, graduated\n",
            "doctor: fixing, crowns, college, completed, implant, provided, dental, tooth, association, member\n",
            "engineer: software, engineering, computer, technical, technology, industry, systems, electrical, senior, worked\n",
            "teacher: teachers, education, elementary, schools, curriculum, teaching, students, taught, literacy, coordinator\n",
            "dietitian: nutrition, registered, who, with, she, cooperates, practitioner, clinical, groups, medical\n",
            "\n",
            "\n"
          ]
        },
        {
          "metadata": {
            "tags": null
          },
          "name": "stderr",
          "output_type": "stream",
          "text": [
            "55527it [03:41, 220.52it/s]"
          ]
        },
        {
          "metadata": {
            "tags": null
          },
          "name": "stdout",
          "output_type": "stream",
          "text": [
            "| epoch   2 | 55500/70832 batches | loss    1.635 \n",
            "women: women’s, gender, she, living, working, the, culture, on, identity, her\n",
            "men: this, one, life, just, would, to, work, understanding, have, makes\n",
            "nurse: practitioner, affiliates, specialists, collaborates, hospitals, nursing, experiences, diverse, honors, graduated\n",
            "doctor: fixing, crowns, college, completed, implant, provided, dental, tooth, association, member\n",
            "engineer: software, computer, engineering, technical, technology, industry, electrical, systems, senior, worked\n",
            "teacher: teachers, education, elementary, schools, curriculum, teaching, students, taught, literacy, coordinator\n",
            "dietitian: nutrition, registered, who, she, with, cooperates, clinical, practitioner, groups, medical\n",
            "\n",
            "\n"
          ]
        },
        {
          "metadata": {
            "tags": null
          },
          "name": "stderr",
          "output_type": "stream",
          "text": [
            "56029it [03:43, 232.53it/s]"
          ]
        },
        {
          "metadata": {
            "tags": null
          },
          "name": "stdout",
          "output_type": "stream",
          "text": [
            "| epoch   2 | 56000/70832 batches | loss    1.637 \n",
            "women: women’s, gender, living, she, working, on, culture, identity, her, about\n",
            "men: this, one, life, just, to, would, work, understanding, have, makes\n",
            "nurse: practitioner, affiliates, specialists, collaborates, hospitals, nursing, diverse, experiences, honors, graduated\n",
            "doctor: fixing, crowns, college, completed, implant, provided, dental, tooth, association, member\n",
            "engineer: software, computer, engineering, technical, technology, industry, electrical, systems, senior, worked\n",
            "teacher: teachers, education, elementary, schools, curriculum, teaching, students, taught, literacy, coordinator\n",
            "dietitian: nutrition, registered, she, who, cooperates, with, clinical, practitioner, groups, medical\n",
            "\n",
            "\n"
          ]
        },
        {
          "metadata": {
            "tags": null
          },
          "name": "stderr",
          "output_type": "stream",
          "text": [
            "56525it [03:44, 226.41it/s]"
          ]
        },
        {
          "metadata": {
            "tags": null
          },
          "name": "stdout",
          "output_type": "stream",
          "text": [
            "| epoch   2 | 56500/70832 batches | loss    1.634 \n",
            "women: women’s, gender, living, she, working, on, culture, identity, her, the\n",
            "men: one, this, life, just, would, to, work, understanding, the, have\n",
            "nurse: practitioner, affiliates, specialists, collaborates, nursing, hospitals, experiences, diverse, honors, graduated\n",
            "doctor: fixing, crowns, college, completed, implant, provided, dental, tooth, association, member\n",
            "engineer: software, computer, engineering, technical, technology, industry, electrical, systems, worked, senior\n",
            "teacher: teachers, education, elementary, schools, curriculum, students, teaching, taught, literacy, coordinator\n",
            "dietitian: nutrition, registered, she, who, cooperates, with, clinical, practitioner, groups, medical\n",
            "\n",
            "\n"
          ]
        },
        {
          "metadata": {
            "tags": null
          },
          "name": "stderr",
          "output_type": "stream",
          "text": [
            "57025it [03:46, 210.14it/s]"
          ]
        },
        {
          "metadata": {
            "tags": null
          },
          "name": "stdout",
          "output_type": "stream",
          "text": [
            "| epoch   2 | 57000/70832 batches | loss    1.632 \n",
            "women: women’s, gender, she, living, working, culture, identity, on, her, the\n",
            "men: one, this, life, just, would, to, the, work, understanding, have\n",
            "nurse: practitioner, affiliates, specialists, collaborates, hospitals, nursing, diverse, experiences, honors, graduated\n",
            "doctor: fixing, crowns, completed, college, implant, provided, dental, tooth, association, member\n",
            "engineer: software, computer, engineering, technical, technology, industry, electrical, systems, worked, senior\n",
            "teacher: teachers, education, elementary, schools, curriculum, teaching, students, taught, literacy, coordinator\n",
            "dietitian: nutrition, registered, she, who, cooperates, with, practitioner, clinical, groups, medical\n",
            "\n",
            "\n"
          ]
        },
        {
          "metadata": {
            "tags": null
          },
          "name": "stderr",
          "output_type": "stream",
          "text": [
            "57526it [03:48, 228.10it/s]"
          ]
        },
        {
          "metadata": {
            "tags": null
          },
          "name": "stdout",
          "output_type": "stream",
          "text": [
            "| epoch   2 | 57500/70832 batches | loss    1.638 \n",
            "women: women’s, gender, she, living, working, the, identity, culture, her, on\n",
            "men: one, this, life, the, just, would, work, understanding, to, have\n",
            "nurse: practitioner, affiliates, specialists, collaborates, nursing, hospitals, experiences, diverse, honors, graduated\n",
            "doctor: fixing, crowns, college, completed, implant, provided, dental, tooth, association, member\n",
            "engineer: software, computer, engineering, technical, technology, industry, electrical, systems, senior, worked\n",
            "teacher: teachers, education, elementary, schools, curriculum, teaching, students, taught, literacy, coordinator\n",
            "dietitian: nutrition, registered, who, she, cooperates, practitioner, with, groups, clinical, medical\n",
            "\n",
            "\n"
          ]
        },
        {
          "metadata": {
            "tags": null
          },
          "name": "stderr",
          "output_type": "stream",
          "text": [
            "58018it [03:50, 234.70it/s]"
          ]
        },
        {
          "metadata": {
            "tags": null
          },
          "name": "stdout",
          "output_type": "stream",
          "text": [
            "| epoch   2 | 58000/70832 batches | loss    1.630 \n",
            "women: women’s, she, gender, living, working, identity, culture, and, her, the\n",
            "men: this, one, life, just, would, work, the, understanding, to, makes\n",
            "nurse: practitioner, affiliates, specialists, collaborates, nursing, hospitals, experiences, diverse, honors, graduated\n",
            "doctor: fixing, crowns, college, completed, implant, provided, dental, tooth, association, member\n",
            "engineer: software, computer, engineering, technical, technology, industry, electrical, systems, senior, worked\n",
            "teacher: teachers, education, elementary, schools, curriculum, teaching, students, taught, literacy, educational\n",
            "dietitian: nutrition, registered, who, she, cooperates, with, practitioner, groups, clinical, medical\n",
            "\n",
            "\n"
          ]
        },
        {
          "metadata": {
            "tags": null
          },
          "name": "stderr",
          "output_type": "stream",
          "text": [
            "58517it [03:52, 232.40it/s]"
          ]
        },
        {
          "metadata": {
            "tags": null
          },
          "name": "stdout",
          "output_type": "stream",
          "text": [
            "| epoch   2 | 58500/70832 batches | loss    1.641 \n",
            "women: women’s, she, gender, living, working, culture, identity, her, on, and\n",
            "men: this, one, life, just, would, understanding, to, makes, the, work\n",
            "nurse: practitioner, affiliates, specialists, collaborates, nursing, hospitals, experiences, diverse, honors, graduated\n",
            "doctor: fixing, college, crowns, completed, implant, provided, dental, tooth, association, member\n",
            "engineer: software, computer, engineering, technical, technology, industry, electrical, systems, senior, worked\n",
            "teacher: teachers, education, elementary, schools, curriculum, teaching, students, taught, literacy, educational\n",
            "dietitian: nutrition, registered, she, with, who, cooperates, practitioner, groups, clinical, medical\n",
            "\n",
            "\n"
          ]
        },
        {
          "metadata": {
            "tags": null
          },
          "name": "stderr",
          "output_type": "stream",
          "text": [
            "59024it [03:54, 199.13it/s]"
          ]
        },
        {
          "metadata": {
            "tags": null
          },
          "name": "stdout",
          "output_type": "stream",
          "text": [
            "| epoch   2 | 59000/70832 batches | loss    1.636 \n",
            "women: women’s, she, gender, living, working, identity, culture, her, about, on\n",
            "men: this, one, life, just, would, understanding, to, makes, work, much\n",
            "nurse: practitioner, affiliates, specialists, collaborates, nursing, hospitals, experiences, diverse, honors, graduated\n",
            "doctor: fixing, college, crowns, completed, implant, provided, dental, tooth, association, member\n",
            "engineer: software, computer, engineering, technical, technology, industry, electrical, systems, senior, worked\n",
            "teacher: teachers, education, elementary, schools, curriculum, teaching, students, taught, literacy, educational\n",
            "dietitian: nutrition, registered, she, with, who, cooperates, practitioner, groups, clinical, medical\n",
            "\n",
            "\n"
          ]
        },
        {
          "metadata": {
            "tags": null
          },
          "name": "stderr",
          "output_type": "stream",
          "text": [
            "59516it [03:56, 235.64it/s]"
          ]
        },
        {
          "metadata": {
            "tags": null
          },
          "name": "stdout",
          "output_type": "stream",
          "text": [
            "| epoch   2 | 59500/70832 batches | loss    1.629 \n",
            "women: women’s, gender, she, living, working, and, culture, identity, her, about\n",
            "men: this, one, life, just, would, understanding, makes, to, work, much\n",
            "nurse: practitioner, affiliates, specialists, collaborates, nursing, hospitals, experiences, diverse, honors, graduated\n",
            "doctor: fixing, college, crowns, completed, implant, provided, dental, tooth, association, member\n",
            "engineer: software, computer, engineering, technical, technology, industry, electrical, systems, senior, worked\n",
            "teacher: teachers, education, elementary, schools, curriculum, teaching, students, taught, literacy, educational\n",
            "dietitian: nutrition, registered, who, she, with, cooperates, practitioner, groups, clinical, medical\n",
            "\n",
            "\n"
          ]
        },
        {
          "metadata": {
            "tags": null
          },
          "name": "stderr",
          "output_type": "stream",
          "text": [
            "60014it [03:58, 204.71it/s]"
          ]
        },
        {
          "metadata": {
            "tags": null
          },
          "name": "stdout",
          "output_type": "stream",
          "text": [
            "| epoch   2 | 60000/70832 batches | loss    1.626 \n",
            "women: women’s, gender, she, living, working, culture, her, identity, and, about\n",
            "men: this, one, life, just, would, understanding, makes, work, much, have\n",
            "nurse: practitioner, affiliates, specialists, collaborates, nursing, hospitals, experiences, diverse, honors, graduated\n",
            "doctor: fixing, college, crowns, completed, implant, provided, tooth, dental, association, member\n",
            "engineer: software, engineering, computer, technical, technology, industry, electrical, senior, systems, worked\n",
            "teacher: teachers, education, elementary, schools, curriculum, teaching, students, taught, literacy, educational\n",
            "dietitian: nutrition, registered, with, who, she, cooperates, practitioner, groups, clinical, medical\n",
            "\n",
            "\n"
          ]
        },
        {
          "metadata": {
            "tags": null
          },
          "name": "stderr",
          "output_type": "stream",
          "text": [
            "60530it [04:00, 233.85it/s]"
          ]
        },
        {
          "metadata": {
            "tags": null
          },
          "name": "stdout",
          "output_type": "stream",
          "text": [
            "| epoch   2 | 60500/70832 batches | loss    1.638 \n",
            "women: women’s, gender, she, living, working, and, identity, culture, her, which\n",
            "men: this, one, life, just, would, understanding, makes, have, much, wanting\n",
            "nurse: practitioner, affiliates, specialists, collaborates, nursing, hospitals, experiences, diverse, honors, graduated\n",
            "doctor: fixing, completed, crowns, college, implant, provided, dental, tooth, association, member\n",
            "engineer: software, engineering, computer, technical, technology, industry, electrical, senior, systems, worked\n",
            "teacher: teachers, education, elementary, schools, curriculum, teaching, students, taught, literacy, educational\n",
            "dietitian: nutrition, registered, with, who, cooperates, she, practitioner, clinical, groups, medical\n",
            "\n",
            "\n"
          ]
        },
        {
          "metadata": {
            "tags": null
          },
          "name": "stderr",
          "output_type": "stream",
          "text": [
            "61027it [04:02, 232.51it/s]"
          ]
        },
        {
          "metadata": {
            "tags": null
          },
          "name": "stdout",
          "output_type": "stream",
          "text": [
            "| epoch   2 | 61000/70832 batches | loss    1.633 \n",
            "women: women’s, gender, living, she, working, and, identity, culture, her, on\n",
            "men: this, one, life, just, would, understanding, makes, much, work, wanting\n",
            "nurse: practitioner, affiliates, specialists, collaborates, nursing, hospitals, experiences, diverse, honors, graduated\n",
            "doctor: fixing, college, crowns, completed, implant, provided, tooth, dental, member, association\n",
            "engineer: software, engineering, computer, technical, technology, industry, electrical, senior, systems, machine\n",
            "teacher: teachers, education, elementary, schools, curriculum, teaching, students, taught, literacy, educational\n",
            "dietitian: nutrition, registered, with, who, cooperates, she, practitioner, groups, clinical, medical\n",
            "\n",
            "\n"
          ]
        },
        {
          "metadata": {
            "tags": null
          },
          "name": "stderr",
          "output_type": "stream",
          "text": [
            "61523it [04:04, 224.96it/s]"
          ]
        },
        {
          "metadata": {
            "tags": null
          },
          "name": "stdout",
          "output_type": "stream",
          "text": [
            "| epoch   2 | 61500/70832 batches | loss    1.637 \n",
            "women: women’s, gender, living, she, working, and, identity, her, culture, on\n",
            "men: this, one, life, just, would, understanding, makes, much, have, work\n",
            "nurse: practitioner, affiliates, specialists, collaborates, hospitals, nursing, experiences, diverse, honors, graduated\n",
            "doctor: fixing, crowns, college, completed, implant, provided, tooth, dental, member, association\n",
            "engineer: software, engineering, computer, technical, technology, industry, electrical, senior, systems, machine\n",
            "teacher: teachers, education, elementary, schools, curriculum, teaching, students, taught, literacy, educational\n",
            "dietitian: nutrition, registered, with, she, cooperates, who, practitioner, groups, clinical, medical\n",
            "\n",
            "\n"
          ]
        },
        {
          "metadata": {
            "tags": null
          },
          "name": "stderr",
          "output_type": "stream",
          "text": [
            "62022it [04:06, 227.04it/s]"
          ]
        },
        {
          "metadata": {
            "tags": null
          },
          "name": "stdout",
          "output_type": "stream",
          "text": [
            "| epoch   2 | 62000/70832 batches | loss    1.636 \n",
            "women: women’s, gender, she, living, working, her, identity, culture, and, about\n",
            "men: this, life, one, just, would, understanding, to, makes, have, much\n",
            "nurse: practitioner, affiliates, specialists, collaborates, hospitals, nursing, experiences, diverse, honors, graduated\n",
            "doctor: fixing, college, crowns, completed, implant, provided, dental, tooth, member, association\n",
            "engineer: software, engineering, computer, technical, technology, industry, electrical, senior, systems, machine\n",
            "teacher: teachers, education, elementary, schools, curriculum, teaching, students, taught, literacy, educational\n",
            "dietitian: nutrition, registered, with, cooperates, who, practitioner, she, groups, clinical, a\n",
            "\n",
            "\n"
          ]
        },
        {
          "metadata": {
            "tags": null
          },
          "name": "stderr",
          "output_type": "stream",
          "text": [
            "62525it [04:08, 227.14it/s]"
          ]
        },
        {
          "metadata": {
            "tags": null
          },
          "name": "stdout",
          "output_type": "stream",
          "text": [
            "| epoch   2 | 62500/70832 batches | loss    1.632 \n",
            "women: women’s, gender, living, she, working, her, and, identity, culture, about\n",
            "men: this, life, one, just, would, understanding, to, makes, much, have\n",
            "nurse: practitioner, affiliates, specialists, collaborates, hospitals, nursing, experiences, diverse, honors, graduated\n",
            "doctor: fixing, college, crowns, completed, implant, provided, dental, tooth, member, association\n",
            "engineer: software, engineering, computer, technical, technology, industry, electrical, senior, systems, machine\n",
            "teacher: teachers, education, elementary, schools, curriculum, teaching, students, taught, literacy, educational\n",
            "dietitian: nutrition, registered, with, cooperates, who, practitioner, groups, clinical, medical, she\n",
            "\n",
            "\n"
          ]
        },
        {
          "metadata": {
            "tags": null
          },
          "name": "stderr",
          "output_type": "stream",
          "text": [
            "63036it [04:10, 230.53it/s]"
          ]
        },
        {
          "metadata": {
            "tags": null
          },
          "name": "stdout",
          "output_type": "stream",
          "text": [
            "| epoch   2 | 63000/70832 batches | loss    1.635 \n",
            "women: women’s, gender, she, living, working, her, culture, identity, and, the\n",
            "men: this, life, one, just, would, to, understanding, makes, much, have\n",
            "nurse: practitioner, affiliates, specialists, collaborates, hospitals, diverse, experiences, nursing, honors, graduated\n",
            "doctor: fixing, completed, college, crowns, implant, provided, member, dental, tooth, from\n",
            "engineer: software, engineering, computer, technical, technology, industry, electrical, senior, systems, machine\n",
            "teacher: teachers, education, elementary, schools, curriculum, teaching, students, taught, literacy, educational\n",
            "dietitian: nutrition, registered, with, cooperates, who, she, practitioner, groups, clinical, medical\n",
            "\n",
            "\n"
          ]
        },
        {
          "metadata": {
            "tags": null
          },
          "name": "stderr",
          "output_type": "stream",
          "text": [
            "63529it [04:12, 216.10it/s]"
          ]
        },
        {
          "metadata": {
            "tags": null
          },
          "name": "stdout",
          "output_type": "stream",
          "text": [
            "| epoch   2 | 63500/70832 batches | loss    1.638 \n",
            "women: women’s, gender, living, she, working, her, culture, identity, and, the\n",
            "men: this, life, one, just, would, understanding, to, have, makes, much\n",
            "nurse: practitioner, affiliates, specialists, collaborates, hospitals, nursing, diverse, experiences, honors, graduated\n",
            "doctor: fixing, college, completed, crowns, implant, provided, member, dental, tooth, association\n",
            "engineer: software, engineering, computer, technical, technology, industry, electrical, senior, systems, machine\n",
            "teacher: teachers, education, elementary, schools, curriculum, teaching, students, taught, literacy, mathematics\n",
            "dietitian: nutrition, registered, cooperates, with, who, she, practitioner, groups, clinical, medical\n",
            "\n",
            "\n"
          ]
        },
        {
          "metadata": {
            "tags": null
          },
          "name": "stderr",
          "output_type": "stream",
          "text": [
            "64032it [04:14, 219.93it/s]"
          ]
        },
        {
          "metadata": {
            "tags": null
          },
          "name": "stdout",
          "output_type": "stream",
          "text": [
            "| epoch   2 | 64000/70832 batches | loss    1.632 \n",
            "women: women’s, gender, living, she, her, working, culture, identity, and, the\n",
            "men: this, life, one, just, would, understanding, to, a, have, much\n",
            "nurse: practitioner, affiliates, specialists, collaborates, hospitals, nursing, experiences, diverse, honors, graduated\n",
            "doctor: fixing, college, crowns, completed, implant, provided, member, dental, tooth, from\n",
            "engineer: software, engineering, computer, technical, technology, industry, electrical, senior, systems, machine\n",
            "teacher: teachers, education, elementary, schools, curriculum, teaching, students, taught, literacy, educational\n",
            "dietitian: nutrition, registered, cooperates, who, with, practitioner, groups, clinical, she, a\n",
            "\n",
            "\n"
          ]
        },
        {
          "metadata": {
            "tags": null
          },
          "name": "stderr",
          "output_type": "stream",
          "text": [
            "64529it [04:16, 230.07it/s]"
          ]
        },
        {
          "metadata": {
            "tags": null
          },
          "name": "stdout",
          "output_type": "stream",
          "text": [
            "| epoch   2 | 64500/70832 batches | loss    1.632 \n",
            "women: women’s, gender, living, she, her, the, working, culture, and, identity\n",
            "men: this, life, one, just, would, to, understanding, a, have, makes\n",
            "nurse: practitioner, affiliates, specialists, collaborates, hospitals, nursing, diverse, experiences, honors, graduated\n",
            "doctor: fixing, college, crowns, completed, implant, provided, dental, member, tooth, association\n",
            "engineer: software, engineering, computer, technical, technology, industry, electrical, senior, systems, machine\n",
            "teacher: teachers, education, elementary, schools, curriculum, teaching, students, taught, literacy, mathematics\n",
            "dietitian: nutrition, registered, with, who, cooperates, practitioner, groups, she, clinical, medical\n",
            "\n",
            "\n"
          ]
        },
        {
          "metadata": {
            "tags": null
          },
          "name": "stderr",
          "output_type": "stream",
          "text": [
            "65028it [04:18, 224.18it/s]"
          ]
        },
        {
          "metadata": {
            "tags": null
          },
          "name": "stdout",
          "output_type": "stream",
          "text": [
            "| epoch   2 | 65000/70832 batches | loss    1.629 \n",
            "women: women’s, gender, living, she, the, working, her, and, culture, identity\n",
            "men: this, life, one, just, would, understanding, to, have, much, many\n",
            "nurse: practitioner, affiliates, specialists, collaborates, hospitals, nursing, diverse, experiences, honors, graduated\n",
            "doctor: fixing, college, crowns, completed, implant, provided, dental, member, tooth, association\n",
            "engineer: software, engineering, computer, technical, technology, industry, electrical, systems, senior, machine\n",
            "teacher: teachers, education, elementary, schools, curriculum, students, teaching, taught, literacy, mathematics\n",
            "dietitian: nutrition, registered, who, cooperates, with, groups, practitioner, she, clinical, medical\n",
            "\n",
            "\n"
          ]
        },
        {
          "metadata": {
            "tags": null
          },
          "name": "stderr",
          "output_type": "stream",
          "text": [
            "65528it [04:20, 227.33it/s]"
          ]
        },
        {
          "metadata": {
            "tags": null
          },
          "name": "stdout",
          "output_type": "stream",
          "text": [
            "| epoch   2 | 65500/70832 batches | loss    1.635 \n",
            "women: women’s, gender, living, she, working, her, identity, culture, the, and\n",
            "men: life, this, one, just, would, understanding, to, many, much, have\n",
            "nurse: practitioner, affiliates, specialists, collaborates, hospitals, nursing, diverse, experiences, honors, graduated\n",
            "doctor: fixing, college, crowns, completed, implant, provided, dental, member, tooth, association\n",
            "engineer: software, engineering, computer, technical, technology, industry, electrical, systems, senior, machine\n",
            "teacher: teachers, education, elementary, schools, curriculum, teaching, students, taught, literacy, mathematics\n",
            "dietitian: nutrition, registered, who, with, cooperates, she, groups, practitioner, clinical, medical\n",
            "\n",
            "\n"
          ]
        },
        {
          "metadata": {
            "tags": null
          },
          "name": "stderr",
          "output_type": "stream",
          "text": [
            "66016it [04:22, 189.94it/s]"
          ]
        },
        {
          "metadata": {
            "tags": null
          },
          "name": "stdout",
          "output_type": "stream",
          "text": [
            "| epoch   2 | 66000/70832 batches | loss    1.632 \n",
            "women: women’s, gender, the, living, she, and, working, her, identity, culture\n",
            "men: this, life, one, just, would, understanding, much, many, have, makes\n",
            "nurse: practitioner, affiliates, specialists, collaborates, hospitals, nursing, experiences, diverse, honors, graduated\n",
            "doctor: fixing, college, crowns, completed, implant, provided, member, dental, tooth, association\n",
            "engineer: software, engineering, computer, technical, technology, industry, electrical, senior, systems, machine\n",
            "teacher: teachers, education, elementary, schools, curriculum, teaching, students, taught, literacy, mathematics\n",
            "dietitian: nutrition, registered, who, with, she, cooperates, practitioner, groups, clinical, medical\n",
            "\n",
            "\n"
          ]
        },
        {
          "metadata": {
            "tags": null
          },
          "name": "stderr",
          "output_type": "stream",
          "text": [
            "66516it [04:24, 233.33it/s]"
          ]
        },
        {
          "metadata": {
            "tags": null
          },
          "name": "stdout",
          "output_type": "stream",
          "text": [
            "| epoch   2 | 66500/70832 batches | loss    1.625 \n",
            "women: women’s, gender, she, living, and, the, working, identity, culture, her\n",
            "men: life, this, one, just, would, understanding, on, much, many, a\n",
            "nurse: practitioner, affiliates, specialists, collaborates, hospitals, nursing, diverse, experiences, honors, graduated\n",
            "doctor: fixing, college, completed, crowns, implant, provided, member, dental, tooth, association\n",
            "engineer: software, engineering, computer, technical, technology, industry, electrical, systems, senior, worked\n",
            "teacher: teachers, education, elementary, schools, curriculum, teaching, students, taught, literacy, educational\n",
            "dietitian: nutrition, registered, who, with, cooperates, she, clinical, practitioner, groups, medical\n",
            "\n",
            "\n"
          ]
        },
        {
          "metadata": {
            "tags": null
          },
          "name": "stderr",
          "output_type": "stream",
          "text": [
            "67027it [04:26, 221.19it/s]"
          ]
        },
        {
          "metadata": {
            "tags": null
          },
          "name": "stdout",
          "output_type": "stream",
          "text": [
            "| epoch   2 | 67000/70832 batches | loss    1.636 \n",
            "women: women’s, gender, she, living, working, the, identity, culture, and, her\n",
            "men: this, life, one, just, would, understanding, on, much, have, to\n",
            "nurse: practitioner, affiliates, specialists, collaborates, hospitals, nursing, diverse, experiences, honors, graduated\n",
            "doctor: fixing, college, completed, crowns, implant, provided, member, dental, tooth, association\n",
            "engineer: software, engineering, computer, technical, technology, industry, electrical, systems, senior, worked\n",
            "teacher: teachers, education, elementary, schools, curriculum, teaching, students, taught, literacy, educational\n",
            "dietitian: nutrition, registered, with, who, she, cooperates, clinical, groups, practitioner, medical\n",
            "\n",
            "\n"
          ]
        },
        {
          "metadata": {
            "tags": null
          },
          "name": "stderr",
          "output_type": "stream",
          "text": [
            "67514it [04:28, 225.31it/s]"
          ]
        },
        {
          "metadata": {
            "tags": null
          },
          "name": "stdout",
          "output_type": "stream",
          "text": [
            "| epoch   2 | 67500/70832 batches | loss    1.630 \n",
            "women: women’s, gender, living, she, working, the, identity, culture, which, her\n",
            "men: this, life, one, just, would, understanding, much, have, makes, on\n",
            "nurse: practitioner, affiliates, specialists, collaborates, hospitals, nursing, diverse, experiences, honors, graduated\n",
            "doctor: fixing, completed, college, crowns, implant, provided, member, dental, tooth, association\n",
            "engineer: software, engineering, computer, technical, technology, industry, electrical, systems, senior, worked\n",
            "teacher: teachers, education, elementary, schools, curriculum, teaching, students, taught, literacy, mathematics\n",
            "dietitian: nutrition, registered, with, who, she, cooperates, clinical, practitioner, groups, medical\n",
            "\n",
            "\n"
          ]
        },
        {
          "metadata": {
            "tags": null
          },
          "name": "stderr",
          "output_type": "stream",
          "text": [
            "68016it [04:30, 228.10it/s]"
          ]
        },
        {
          "metadata": {
            "tags": null
          },
          "name": "stdout",
          "output_type": "stream",
          "text": [
            "| epoch   2 | 68000/70832 batches | loss    1.629 \n",
            "women: women’s, gender, living, she, working, identity, culture, which, her, the\n",
            "men: this, life, one, just, would, understanding, have, to, on, much\n",
            "nurse: practitioner, affiliates, specialists, collaborates, hospitals, nursing, diverse, experiences, honors, graduated\n",
            "doctor: fixing, completed, college, crowns, implant, provided, member, dental, tooth, association\n",
            "engineer: software, engineering, computer, technical, technology, industry, electrical, systems, senior, machine\n",
            "teacher: teachers, education, elementary, schools, curriculum, teaching, students, taught, literacy, mathematics\n",
            "dietitian: nutrition, registered, with, who, she, cooperates, clinical, groups, practitioner, medical\n",
            "\n",
            "\n"
          ]
        },
        {
          "metadata": {
            "tags": null
          },
          "name": "stderr",
          "output_type": "stream",
          "text": [
            "68514it [04:32, 234.16it/s]"
          ]
        },
        {
          "metadata": {
            "tags": null
          },
          "name": "stdout",
          "output_type": "stream",
          "text": [
            "| epoch   2 | 68500/70832 batches | loss    1.631 \n",
            "women: women’s, gender, living, she, working, the, identity, culture, her, and\n",
            "men: life, this, one, just, would, to, the, on, understanding, many\n",
            "nurse: practitioner, affiliates, specialists, collaborates, hospitals, nursing, diverse, experiences, honors, graduated\n",
            "doctor: fixing, completed, college, crowns, implant, provided, member, dental, from, tooth\n",
            "engineer: software, engineering, computer, technical, technology, industry, electrical, systems, senior, worked\n",
            "teacher: teachers, education, elementary, schools, curriculum, teaching, students, taught, literacy, mathematics\n",
            "dietitian: nutrition, registered, with, who, she, cooperates, clinical, practitioner, groups, medical\n",
            "\n",
            "\n"
          ]
        },
        {
          "metadata": {
            "tags": null
          },
          "name": "stderr",
          "output_type": "stream",
          "text": [
            "69012it [04:33, 215.47it/s]"
          ]
        },
        {
          "metadata": {
            "tags": null
          },
          "name": "stdout",
          "output_type": "stream",
          "text": [
            "| epoch   2 | 69000/70832 batches | loss    1.631 \n",
            "women: women’s, gender, the, living, she, working, identity, culture, her, about\n",
            "men: this, life, one, the, just, would, to, understanding, on, much\n",
            "nurse: practitioner, affiliates, specialists, collaborates, hospitals, nursing, experiences, diverse, honors, graduated\n",
            "doctor: fixing, college, completed, crowns, implant, provided, member, dental, tooth, association\n",
            "engineer: software, engineering, computer, technical, technology, industry, electrical, systems, senior, worked\n",
            "teacher: teachers, education, elementary, schools, curriculum, teaching, students, taught, literacy, educational\n",
            "dietitian: nutrition, registered, with, who, she, cooperates, practitioner, clinical, groups, medical\n",
            "\n",
            "\n"
          ]
        },
        {
          "metadata": {
            "tags": null
          },
          "name": "stderr",
          "output_type": "stream",
          "text": [
            "69527it [04:36, 221.20it/s]"
          ]
        },
        {
          "metadata": {
            "tags": null
          },
          "name": "stdout",
          "output_type": "stream",
          "text": [
            "| epoch   2 | 69500/70832 batches | loss    1.634 \n",
            "women: women’s, gender, the, living, she, working, her, identity, culture, about\n",
            "men: this, life, one, just, would, to, understanding, much, have, many\n",
            "nurse: practitioner, affiliates, specialists, collaborates, nursing, hospitals, diverse, experiences, honors, graduated\n",
            "doctor: fixing, college, completed, crowns, implant, provided, member, dental, association, tooth\n",
            "engineer: software, engineering, computer, technical, technology, industry, electrical, systems, senior, machine\n",
            "teacher: teachers, education, elementary, schools, curriculum, students, teaching, taught, literacy, educational\n",
            "dietitian: nutrition, registered, with, who, she, cooperates, clinical, practitioner, groups, medical\n",
            "\n",
            "\n"
          ]
        },
        {
          "metadata": {
            "tags": null
          },
          "name": "stderr",
          "output_type": "stream",
          "text": [
            "70023it [04:37, 213.84it/s]"
          ]
        },
        {
          "metadata": {
            "tags": null
          },
          "name": "stdout",
          "output_type": "stream",
          "text": [
            "| epoch   2 | 70000/70832 batches | loss    1.629 \n",
            "women: women’s, gender, living, working, she, the, her, identity, about, culture\n",
            "men: life, this, one, just, would, to, understanding, have, much, many\n",
            "nurse: practitioner, affiliates, specialists, collaborates, hospitals, nursing, diverse, experiences, honors, graduated\n",
            "doctor: fixing, college, completed, crowns, implant, provided, dental, member, tooth, from\n",
            "engineer: software, engineering, computer, technical, technology, industry, electrical, systems, senior, worked\n",
            "teacher: teachers, education, elementary, schools, curriculum, teaching, students, taught, literacy, educational\n",
            "dietitian: nutrition, registered, with, who, cooperates, she, clinical, practitioner, groups, medical\n",
            "\n",
            "\n"
          ]
        },
        {
          "metadata": {
            "tags": null
          },
          "name": "stderr",
          "output_type": "stream",
          "text": [
            "70520it [04:39, 229.21it/s]"
          ]
        },
        {
          "metadata": {
            "tags": null
          },
          "name": "stdout",
          "output_type": "stream",
          "text": [
            "| epoch   2 | 70500/70832 batches | loss    1.630 \n",
            "women: women’s, gender, living, she, the, working, identity, her, about, culture\n",
            "men: life, one, this, just, would, to, understanding, have, many, much\n",
            "nurse: practitioner, affiliates, specialists, collaborates, hospitals, nursing, diverse, experiences, honors, graduated\n",
            "doctor: fixing, college, completed, crowns, implant, provided, from, dental, tooth, member\n",
            "engineer: software, engineering, computer, technical, technology, industry, electrical, systems, senior, worked\n",
            "teacher: teachers, education, elementary, schools, teaching, curriculum, students, taught, literacy, mathematics\n",
            "dietitian: nutrition, registered, with, who, she, cooperates, clinical, practitioner, groups, medical\n",
            "\n",
            "\n"
          ]
        },
        {
          "metadata": {
            "tags": null
          },
          "name": "stderr",
          "output_type": "stream",
          "text": [
            "70832it [04:43, 250.12it/s]\n",
            "1it [00:01,  1.87s/it]"
          ]
        },
        {
          "metadata": {
            "tags": null
          },
          "name": "stdout",
          "output_type": "stream",
          "text": [
            "| epoch   3 |     0/70832 batches | loss    1.613 \n",
            "women: women’s, gender, living, working, she, the, her, identity, about, culture\n",
            "men: life, one, this, just, would, to, understanding, have, on, much\n",
            "nurse: practitioner, affiliates, specialists, collaborates, nursing, hospitals, diverse, experiences, honors, graduated\n",
            "doctor: fixing, college, completed, crowns, implant, provided, from, dental, tooth, member\n",
            "engineer: software, engineering, computer, technical, technology, industry, electrical, systems, senior, worked\n",
            "teacher: teachers, education, elementary, schools, teaching, curriculum, students, taught, literacy, mathematics\n",
            "dietitian: nutrition, registered, with, who, she, cooperates, clinical, groups, practitioner, over\n",
            "\n",
            "\n"
          ]
        },
        {
          "metadata": {
            "tags": null
          },
          "name": "stderr",
          "output_type": "stream",
          "text": [
            "531it [00:04, 231.09it/s]"
          ]
        },
        {
          "metadata": {
            "tags": null
          },
          "name": "stdout",
          "output_type": "stream",
          "text": [
            "| epoch   3 |   500/70832 batches | loss    1.625 \n",
            "women: women’s, gender, living, working, she, the, her, identity, about, culture\n",
            "men: life, one, this, just, would, to, understanding, have, on, much\n",
            "nurse: practitioner, affiliates, specialists, collaborates, nursing, hospitals, diverse, experiences, honors, graduated\n",
            "doctor: fixing, college, completed, crowns, implant, provided, from, dental, tooth, member\n",
            "engineer: software, engineering, computer, technical, technology, industry, electrical, systems, senior, machine\n",
            "teacher: teachers, education, elementary, schools, teaching, curriculum, students, taught, literacy, mathematics\n",
            "dietitian: nutrition, registered, with, who, she, cooperates, clinical, groups, practitioner, medical\n",
            "\n",
            "\n"
          ]
        },
        {
          "metadata": {
            "tags": null
          },
          "name": "stderr",
          "output_type": "stream",
          "text": [
            "1021it [00:05, 216.11it/s]"
          ]
        },
        {
          "metadata": {
            "tags": null
          },
          "name": "stdout",
          "output_type": "stream",
          "text": [
            "| epoch   3 |  1000/70832 batches | loss    1.624 \n",
            "women: women’s, gender, living, working, she, the, her, identity, about, culture\n",
            "men: life, one, this, just, would, to, understanding, have, on, much\n",
            "nurse: practitioner, affiliates, specialists, collaborates, nursing, hospitals, diverse, experiences, honors, graduated\n",
            "doctor: fixing, college, completed, crowns, implant, provided, from, dental, tooth, member\n",
            "engineer: software, engineering, computer, technical, technology, industry, electrical, systems, senior, worked\n",
            "teacher: teachers, education, elementary, schools, teaching, curriculum, students, taught, literacy, mathematics\n",
            "dietitian: nutrition, registered, with, who, she, cooperates, clinical, groups, practitioner, medical\n",
            "\n",
            "\n"
          ]
        },
        {
          "metadata": {
            "tags": null
          },
          "name": "stderr",
          "output_type": "stream",
          "text": [
            "1528it [00:07, 225.83it/s]"
          ]
        },
        {
          "metadata": {
            "tags": null
          },
          "name": "stdout",
          "output_type": "stream",
          "text": [
            "| epoch   3 |  1500/70832 batches | loss    1.625 \n",
            "women: women’s, gender, living, working, she, the, her, identity, about, culture\n",
            "men: life, one, this, just, would, to, understanding, have, on, much\n",
            "nurse: practitioner, affiliates, specialists, collaborates, nursing, hospitals, diverse, experiences, honors, graduated\n",
            "doctor: fixing, college, completed, crowns, implant, provided, from, dental, tooth, member\n",
            "engineer: software, engineering, computer, technical, technology, industry, electrical, systems, senior, worked\n",
            "teacher: teachers, education, elementary, schools, teaching, curriculum, students, taught, literacy, mathematics\n",
            "dietitian: nutrition, registered, with, who, she, cooperates, clinical, groups, practitioner, medical\n",
            "\n",
            "\n"
          ]
        },
        {
          "metadata": {
            "tags": null
          },
          "name": "stderr",
          "output_type": "stream",
          "text": [
            "2016it [00:09, 230.24it/s]"
          ]
        },
        {
          "metadata": {
            "tags": null
          },
          "name": "stdout",
          "output_type": "stream",
          "text": [
            "| epoch   3 |  2000/70832 batches | loss    1.620 \n",
            "women: women’s, gender, living, working, she, the, her, identity, about, culture\n",
            "men: life, one, this, just, would, to, understanding, have, on, much\n",
            "nurse: practitioner, affiliates, specialists, collaborates, nursing, hospitals, diverse, experiences, honors, graduated\n",
            "doctor: fixing, college, completed, crowns, implant, provided, from, dental, tooth, member\n",
            "engineer: software, engineering, computer, technical, technology, industry, electrical, systems, senior, worked\n",
            "teacher: teachers, education, elementary, schools, teaching, curriculum, students, taught, literacy, mathematics\n",
            "dietitian: nutrition, registered, with, who, she, cooperates, clinical, groups, practitioner, medical\n",
            "\n",
            "\n"
          ]
        },
        {
          "metadata": {
            "tags": null
          },
          "name": "stderr",
          "output_type": "stream",
          "text": [
            "2513it [00:11, 233.92it/s]"
          ]
        },
        {
          "metadata": {
            "tags": null
          },
          "name": "stdout",
          "output_type": "stream",
          "text": [
            "| epoch   3 |  2500/70832 batches | loss    1.621 \n",
            "women: women’s, gender, living, working, she, the, her, identity, about, culture\n",
            "men: life, one, this, just, would, to, understanding, have, on, much\n",
            "nurse: practitioner, affiliates, specialists, collaborates, nursing, hospitals, diverse, experiences, honors, graduated\n",
            "doctor: fixing, college, completed, crowns, implant, provided, from, dental, tooth, member\n",
            "engineer: software, engineering, computer, technical, technology, industry, electrical, systems, senior, worked\n",
            "teacher: teachers, education, elementary, schools, teaching, curriculum, students, taught, literacy, mathematics\n",
            "dietitian: nutrition, registered, with, who, she, cooperates, clinical, groups, practitioner, medical\n",
            "\n",
            "\n"
          ]
        },
        {
          "metadata": {
            "tags": null
          },
          "name": "stderr",
          "output_type": "stream",
          "text": [
            "3027it [00:13, 215.96it/s]"
          ]
        },
        {
          "metadata": {
            "tags": null
          },
          "name": "stdout",
          "output_type": "stream",
          "text": [
            "| epoch   3 |  3000/70832 batches | loss    1.620 \n",
            "women: women’s, gender, living, working, she, the, her, identity, about, culture\n",
            "men: life, one, this, just, would, to, understanding, on, have, much\n",
            "nurse: practitioner, affiliates, specialists, collaborates, nursing, hospitals, diverse, experiences, honors, graduated\n",
            "doctor: fixing, college, completed, crowns, implant, provided, from, dental, tooth, member\n",
            "engineer: software, engineering, computer, technical, technology, industry, electrical, systems, senior, worked\n",
            "teacher: teachers, education, elementary, schools, teaching, curriculum, students, taught, literacy, mathematics\n",
            "dietitian: nutrition, registered, with, who, she, cooperates, clinical, groups, practitioner, medical\n",
            "\n",
            "\n"
          ]
        },
        {
          "metadata": {
            "tags": null
          },
          "name": "stderr",
          "output_type": "stream",
          "text": [
            "3529it [00:15, 228.72it/s]"
          ]
        },
        {
          "metadata": {
            "tags": null
          },
          "name": "stdout",
          "output_type": "stream",
          "text": [
            "| epoch   3 |  3500/70832 batches | loss    1.625 \n",
            "women: women’s, gender, living, working, she, the, her, identity, about, culture\n",
            "men: life, one, this, just, would, to, understanding, on, have, much\n",
            "nurse: practitioner, affiliates, specialists, collaborates, nursing, hospitals, diverse, experiences, honors, graduated\n",
            "doctor: fixing, college, completed, crowns, implant, provided, from, dental, tooth, member\n",
            "engineer: software, engineering, computer, technical, technology, industry, electrical, systems, senior, worked\n",
            "teacher: teachers, education, elementary, schools, teaching, curriculum, students, taught, literacy, mathematics\n",
            "dietitian: nutrition, registered, with, who, she, cooperates, clinical, groups, practitioner, medical\n",
            "\n",
            "\n"
          ]
        },
        {
          "metadata": {
            "tags": null
          },
          "name": "stderr",
          "output_type": "stream",
          "text": [
            "4015it [00:17, 228.04it/s]"
          ]
        },
        {
          "metadata": {
            "tags": null
          },
          "name": "stdout",
          "output_type": "stream",
          "text": [
            "| epoch   3 |  4000/70832 batches | loss    1.625 \n",
            "women: women’s, gender, living, working, she, the, her, identity, about, culture\n",
            "men: life, one, this, just, would, to, understanding, on, have, much\n",
            "nurse: practitioner, affiliates, specialists, collaborates, nursing, hospitals, diverse, experiences, honors, graduated\n",
            "doctor: fixing, college, completed, crowns, implant, provided, from, dental, tooth, member\n",
            "engineer: software, engineering, computer, technical, technology, industry, electrical, systems, senior, worked\n",
            "teacher: teachers, education, elementary, schools, teaching, curriculum, students, taught, literacy, mathematics\n",
            "dietitian: nutrition, registered, with, who, she, cooperates, clinical, groups, practitioner, medical\n",
            "\n",
            "\n"
          ]
        },
        {
          "metadata": {
            "tags": null
          },
          "name": "stderr",
          "output_type": "stream",
          "text": [
            "4530it [00:19, 230.46it/s]"
          ]
        },
        {
          "metadata": {
            "tags": null
          },
          "name": "stdout",
          "output_type": "stream",
          "text": [
            "| epoch   3 |  4500/70832 batches | loss    1.627 \n",
            "women: women’s, gender, living, working, she, the, her, identity, about, culture\n",
            "men: life, one, this, just, would, to, understanding, on, have, much\n",
            "nurse: practitioner, affiliates, specialists, collaborates, nursing, hospitals, diverse, experiences, honors, graduated\n",
            "doctor: fixing, college, completed, crowns, implant, provided, from, dental, tooth, member\n",
            "engineer: software, engineering, computer, technical, technology, industry, electrical, systems, senior, worked\n",
            "teacher: teachers, education, elementary, schools, teaching, curriculum, students, taught, literacy, mathematics\n",
            "dietitian: nutrition, registered, with, who, she, cooperates, clinical, groups, practitioner, medical\n",
            "\n",
            "\n"
          ]
        },
        {
          "metadata": {
            "tags": null
          },
          "name": "stderr",
          "output_type": "stream",
          "text": [
            "5027it [00:21, 224.83it/s]"
          ]
        },
        {
          "metadata": {
            "tags": null
          },
          "name": "stdout",
          "output_type": "stream",
          "text": [
            "| epoch   3 |  5000/70832 batches | loss    1.624 \n",
            "women: women’s, gender, living, working, she, the, identity, her, about, culture\n",
            "men: life, one, this, just, would, to, understanding, have, on, much\n",
            "nurse: practitioner, affiliates, specialists, collaborates, nursing, hospitals, diverse, experiences, honors, graduated\n",
            "doctor: fixing, college, completed, crowns, implant, provided, from, dental, tooth, member\n",
            "engineer: software, engineering, computer, technical, technology, industry, electrical, systems, senior, worked\n",
            "teacher: teachers, education, elementary, schools, teaching, curriculum, students, taught, literacy, mathematics\n",
            "dietitian: nutrition, registered, with, who, she, cooperates, clinical, groups, practitioner, medical\n",
            "\n",
            "\n"
          ]
        },
        {
          "metadata": {
            "tags": null
          },
          "name": "stderr",
          "output_type": "stream",
          "text": [
            "5528it [00:23, 218.95it/s]"
          ]
        },
        {
          "metadata": {
            "tags": null
          },
          "name": "stdout",
          "output_type": "stream",
          "text": [
            "| epoch   3 |  5500/70832 batches | loss    1.620 \n",
            "women: women’s, gender, living, working, she, the, her, identity, about, culture\n",
            "men: life, one, this, just, would, to, understanding, on, have, much\n",
            "nurse: practitioner, affiliates, specialists, collaborates, nursing, hospitals, diverse, experiences, honors, graduated\n",
            "doctor: fixing, college, completed, crowns, implant, provided, from, dental, tooth, member\n",
            "engineer: software, engineering, computer, technical, technology, industry, electrical, systems, senior, worked\n",
            "teacher: teachers, education, elementary, schools, teaching, curriculum, students, literacy, taught, mathematics\n",
            "dietitian: nutrition, registered, with, who, she, cooperates, clinical, groups, practitioner, medical\n",
            "\n",
            "\n"
          ]
        },
        {
          "metadata": {
            "tags": null
          },
          "name": "stderr",
          "output_type": "stream",
          "text": [
            "6026it [00:25, 218.98it/s]"
          ]
        },
        {
          "metadata": {
            "tags": null
          },
          "name": "stdout",
          "output_type": "stream",
          "text": [
            "| epoch   3 |  6000/70832 batches | loss    1.624 \n",
            "women: women’s, gender, living, working, she, the, her, identity, about, culture\n",
            "men: life, one, this, just, would, to, understanding, have, on, much\n",
            "nurse: practitioner, affiliates, specialists, collaborates, nursing, hospitals, diverse, experiences, honors, graduated\n",
            "doctor: fixing, college, completed, crowns, implant, provided, from, dental, tooth, member\n",
            "engineer: software, engineering, computer, technical, technology, industry, electrical, systems, senior, worked\n",
            "teacher: teachers, education, elementary, schools, teaching, curriculum, students, literacy, taught, mathematics\n",
            "dietitian: nutrition, registered, with, who, she, cooperates, clinical, groups, practitioner, medical\n",
            "\n",
            "\n"
          ]
        },
        {
          "metadata": {
            "tags": null
          },
          "name": "stderr",
          "output_type": "stream",
          "text": [
            "6523it [00:27, 230.11it/s]"
          ]
        },
        {
          "metadata": {
            "tags": null
          },
          "name": "stdout",
          "output_type": "stream",
          "text": [
            "| epoch   3 |  6500/70832 batches | loss    1.617 \n",
            "women: women’s, gender, living, working, she, the, her, identity, about, culture\n",
            "men: life, one, this, just, would, to, understanding, have, on, much\n",
            "nurse: practitioner, affiliates, specialists, collaborates, nursing, hospitals, diverse, experiences, honors, graduated\n",
            "doctor: fixing, college, completed, crowns, implant, provided, from, dental, tooth, member\n",
            "engineer: software, engineering, computer, technical, technology, industry, electrical, systems, senior, worked\n",
            "teacher: teachers, education, elementary, schools, teaching, curriculum, students, literacy, taught, mathematics\n",
            "dietitian: nutrition, registered, with, who, she, cooperates, clinical, groups, practitioner, medical\n",
            "\n",
            "\n"
          ]
        },
        {
          "metadata": {
            "tags": null
          },
          "name": "stderr",
          "output_type": "stream",
          "text": [
            "7019it [00:29, 222.70it/s]"
          ]
        },
        {
          "metadata": {
            "tags": null
          },
          "name": "stdout",
          "output_type": "stream",
          "text": [
            "| epoch   3 |  7000/70832 batches | loss    1.622 \n",
            "women: women’s, gender, living, working, she, the, her, identity, about, culture\n",
            "men: life, one, this, just, would, to, understanding, on, have, much\n",
            "nurse: practitioner, affiliates, specialists, collaborates, nursing, hospitals, diverse, experiences, honors, graduated\n",
            "doctor: fixing, college, completed, crowns, implant, provided, from, dental, tooth, member\n",
            "engineer: software, engineering, computer, technical, technology, industry, electrical, systems, senior, worked\n",
            "teacher: teachers, education, elementary, schools, teaching, curriculum, students, literacy, taught, mathematics\n",
            "dietitian: nutrition, registered, with, who, she, cooperates, clinical, groups, practitioner, medical\n",
            "\n",
            "\n"
          ]
        },
        {
          "metadata": {
            "tags": null
          },
          "name": "stderr",
          "output_type": "stream",
          "text": [
            "7517it [00:31, 230.62it/s]"
          ]
        },
        {
          "metadata": {
            "tags": null
          },
          "name": "stdout",
          "output_type": "stream",
          "text": [
            "| epoch   3 |  7500/70832 batches | loss    1.620 \n",
            "women: women’s, gender, living, working, she, the, her, identity, about, culture\n",
            "men: life, one, this, just, would, to, understanding, have, on, much\n",
            "nurse: practitioner, affiliates, specialists, collaborates, nursing, hospitals, diverse, experiences, honors, graduated\n",
            "doctor: fixing, college, completed, crowns, implant, provided, from, dental, tooth, member\n",
            "engineer: software, engineering, computer, technical, technology, industry, electrical, systems, senior, worked\n",
            "teacher: teachers, education, elementary, schools, teaching, curriculum, students, literacy, taught, mathematics\n",
            "dietitian: nutrition, registered, with, who, she, cooperates, clinical, groups, practitioner, medical\n",
            "\n",
            "\n"
          ]
        },
        {
          "metadata": {
            "tags": null
          },
          "name": "stderr",
          "output_type": "stream",
          "text": [
            "8017it [00:33, 231.40it/s]"
          ]
        },
        {
          "metadata": {
            "tags": null
          },
          "name": "stdout",
          "output_type": "stream",
          "text": [
            "| epoch   3 |  8000/70832 batches | loss    1.619 \n",
            "women: women’s, gender, living, working, she, the, her, identity, about, culture\n",
            "men: life, one, this, just, would, to, understanding, have, on, much\n",
            "nurse: practitioner, affiliates, specialists, collaborates, nursing, hospitals, diverse, experiences, honors, graduated\n",
            "doctor: fixing, college, completed, crowns, implant, provided, from, dental, tooth, member\n",
            "engineer: software, engineering, computer, technical, technology, industry, electrical, systems, senior, worked\n",
            "teacher: teachers, education, elementary, schools, teaching, curriculum, students, literacy, taught, mathematics\n",
            "dietitian: nutrition, registered, with, who, she, cooperates, clinical, groups, practitioner, medical\n",
            "\n",
            "\n"
          ]
        },
        {
          "metadata": {
            "tags": null
          },
          "name": "stderr",
          "output_type": "stream",
          "text": [
            "8515it [00:35, 229.03it/s]"
          ]
        },
        {
          "metadata": {
            "tags": null
          },
          "name": "stdout",
          "output_type": "stream",
          "text": [
            "| epoch   3 |  8500/70832 batches | loss    1.618 \n",
            "women: women’s, gender, living, working, she, the, her, identity, about, culture\n",
            "men: life, one, this, just, would, to, understanding, have, on, much\n",
            "nurse: practitioner, affiliates, specialists, collaborates, nursing, hospitals, diverse, experiences, honors, graduated\n",
            "doctor: fixing, college, completed, crowns, implant, provided, from, dental, tooth, member\n",
            "engineer: software, engineering, computer, technical, technology, industry, electrical, systems, senior, worked\n",
            "teacher: teachers, education, elementary, schools, teaching, curriculum, students, taught, literacy, mathematics\n",
            "dietitian: nutrition, registered, with, who, she, cooperates, clinical, groups, practitioner, medical\n",
            "\n",
            "\n"
          ]
        },
        {
          "metadata": {
            "tags": null
          },
          "name": "stderr",
          "output_type": "stream",
          "text": [
            "9029it [00:37, 229.08it/s]"
          ]
        },
        {
          "metadata": {
            "tags": null
          },
          "name": "stdout",
          "output_type": "stream",
          "text": [
            "| epoch   3 |  9000/70832 batches | loss    1.623 \n",
            "women: women’s, gender, living, working, she, the, her, identity, about, culture\n",
            "men: life, one, this, just, would, to, understanding, have, on, much\n",
            "nurse: practitioner, affiliates, specialists, collaborates, nursing, hospitals, diverse, experiences, honors, graduated\n",
            "doctor: fixing, college, completed, crowns, implant, provided, from, dental, tooth, member\n",
            "engineer: software, engineering, computer, technical, technology, industry, electrical, systems, senior, worked\n",
            "teacher: teachers, education, elementary, schools, teaching, curriculum, students, taught, literacy, mathematics\n",
            "dietitian: nutrition, registered, with, who, she, cooperates, clinical, groups, practitioner, medical\n",
            "\n",
            "\n"
          ]
        },
        {
          "metadata": {
            "tags": null
          },
          "name": "stderr",
          "output_type": "stream",
          "text": [
            "9526it [00:39, 227.73it/s]"
          ]
        },
        {
          "metadata": {
            "tags": null
          },
          "name": "stdout",
          "output_type": "stream",
          "text": [
            "| epoch   3 |  9500/70832 batches | loss    1.626 \n",
            "women: women’s, gender, living, working, she, the, her, identity, about, culture\n",
            "men: life, one, this, just, would, to, understanding, have, on, much\n",
            "nurse: practitioner, affiliates, specialists, collaborates, nursing, hospitals, diverse, experiences, honors, graduated\n",
            "doctor: fixing, college, completed, crowns, implant, provided, from, dental, tooth, member\n",
            "engineer: software, engineering, computer, technical, technology, industry, electrical, systems, senior, worked\n",
            "teacher: teachers, education, elementary, schools, teaching, curriculum, students, taught, literacy, mathematics\n",
            "dietitian: nutrition, registered, with, who, she, cooperates, clinical, groups, practitioner, medical\n",
            "\n",
            "\n"
          ]
        },
        {
          "metadata": {
            "tags": null
          },
          "name": "stderr",
          "output_type": "stream",
          "text": [
            "10023it [00:41, 224.35it/s]"
          ]
        },
        {
          "metadata": {
            "tags": null
          },
          "name": "stdout",
          "output_type": "stream",
          "text": [
            "| epoch   3 | 10000/70832 batches | loss    1.622 \n",
            "women: women’s, gender, living, working, she, the, her, identity, about, culture\n",
            "men: life, one, this, just, would, to, understanding, have, on, much\n",
            "nurse: practitioner, affiliates, specialists, collaborates, nursing, hospitals, diverse, experiences, honors, graduated\n",
            "doctor: fixing, college, completed, crowns, implant, provided, from, dental, tooth, member\n",
            "engineer: software, engineering, computer, technical, technology, industry, electrical, systems, senior, worked\n",
            "teacher: teachers, education, elementary, schools, teaching, curriculum, students, taught, literacy, mathematics\n",
            "dietitian: nutrition, registered, with, who, she, cooperates, clinical, groups, practitioner, medical\n",
            "\n",
            "\n"
          ]
        },
        {
          "metadata": {
            "tags": null
          },
          "name": "stderr",
          "output_type": "stream",
          "text": [
            "10522it [00:43, 224.84it/s]"
          ]
        },
        {
          "metadata": {
            "tags": null
          },
          "name": "stdout",
          "output_type": "stream",
          "text": [
            "| epoch   3 | 10500/70832 batches | loss    1.625 \n",
            "women: women’s, gender, living, working, she, the, her, identity, about, culture\n",
            "men: life, one, this, just, would, to, understanding, have, on, much\n",
            "nurse: practitioner, affiliates, specialists, collaborates, nursing, hospitals, diverse, experiences, honors, graduated\n",
            "doctor: fixing, college, completed, crowns, implant, provided, from, dental, member, tooth\n",
            "engineer: software, engineering, computer, technical, technology, industry, electrical, systems, senior, worked\n",
            "teacher: teachers, education, elementary, schools, teaching, curriculum, students, taught, literacy, mathematics\n",
            "dietitian: nutrition, registered, with, who, she, cooperates, clinical, groups, practitioner, medical\n",
            "\n",
            "\n"
          ]
        },
        {
          "metadata": {
            "tags": null
          },
          "name": "stderr",
          "output_type": "stream",
          "text": [
            "11022it [00:44, 213.21it/s]"
          ]
        },
        {
          "metadata": {
            "tags": null
          },
          "name": "stdout",
          "output_type": "stream",
          "text": [
            "| epoch   3 | 11000/70832 batches | loss    1.618 \n",
            "women: women’s, gender, living, she, working, the, her, identity, about, which\n",
            "men: life, one, this, just, would, to, understanding, have, on, much\n",
            "nurse: practitioner, affiliates, specialists, collaborates, nursing, hospitals, diverse, experiences, honors, graduated\n",
            "doctor: fixing, college, completed, crowns, implant, provided, from, dental, member, tooth\n",
            "engineer: software, engineering, computer, technical, technology, industry, electrical, systems, senior, worked\n",
            "teacher: teachers, education, elementary, schools, teaching, curriculum, students, taught, literacy, mathematics\n",
            "dietitian: nutrition, registered, with, who, she, cooperates, clinical, groups, practitioner, medical\n",
            "\n",
            "\n"
          ]
        },
        {
          "metadata": {
            "tags": null
          },
          "name": "stderr",
          "output_type": "stream",
          "text": [
            "11516it [00:46, 227.17it/s]"
          ]
        },
        {
          "metadata": {
            "tags": null
          },
          "name": "stdout",
          "output_type": "stream",
          "text": [
            "| epoch   3 | 11500/70832 batches | loss    1.620 \n",
            "women: women’s, gender, living, working, she, the, her, identity, about, which\n",
            "men: life, one, this, just, would, to, understanding, have, on, much\n",
            "nurse: practitioner, affiliates, specialists, collaborates, nursing, hospitals, diverse, experiences, honors, graduated\n",
            "doctor: fixing, college, completed, crowns, implant, provided, from, dental, member, tooth\n",
            "engineer: software, engineering, computer, technical, technology, industry, electrical, systems, senior, worked\n",
            "teacher: teachers, education, elementary, schools, teaching, curriculum, students, taught, literacy, mathematics\n",
            "dietitian: nutrition, registered, with, who, she, cooperates, clinical, groups, practitioner, medical\n",
            "\n",
            "\n"
          ]
        },
        {
          "metadata": {
            "tags": null
          },
          "name": "stderr",
          "output_type": "stream",
          "text": [
            "12035it [00:48, 228.22it/s]"
          ]
        },
        {
          "metadata": {
            "tags": null
          },
          "name": "stdout",
          "output_type": "stream",
          "text": [
            "| epoch   3 | 12000/70832 batches | loss    1.622 \n",
            "women: women’s, gender, living, working, she, the, her, identity, about, culture\n",
            "men: life, one, this, just, would, to, understanding, have, on, much\n",
            "nurse: practitioner, affiliates, specialists, collaborates, nursing, hospitals, diverse, experiences, honors, graduated\n",
            "doctor: fixing, college, completed, crowns, implant, provided, from, dental, member, tooth\n",
            "engineer: software, engineering, computer, technical, technology, industry, electrical, systems, senior, worked\n",
            "teacher: teachers, education, elementary, schools, teaching, curriculum, students, taught, literacy, mathematics\n",
            "dietitian: nutrition, registered, with, who, she, cooperates, clinical, groups, practitioner, medical\n",
            "\n",
            "\n"
          ]
        },
        {
          "metadata": {
            "tags": null
          },
          "name": "stderr",
          "output_type": "stream",
          "text": [
            "12520it [00:50, 226.01it/s]"
          ]
        },
        {
          "metadata": {
            "tags": null
          },
          "name": "stdout",
          "output_type": "stream",
          "text": [
            "| epoch   3 | 12500/70832 batches | loss    1.629 \n",
            "women: women’s, gender, living, working, she, the, her, identity, about, which\n",
            "men: life, one, this, just, would, to, understanding, have, on, much\n",
            "nurse: practitioner, affiliates, specialists, collaborates, nursing, hospitals, diverse, experiences, honors, graduated\n",
            "doctor: fixing, college, completed, crowns, implant, provided, from, dental, member, tooth\n",
            "engineer: software, engineering, computer, technical, technology, industry, electrical, systems, senior, worked\n",
            "teacher: teachers, education, elementary, schools, teaching, curriculum, students, taught, literacy, mathematics\n",
            "dietitian: nutrition, registered, with, who, she, cooperates, clinical, groups, practitioner, medical\n",
            "\n",
            "\n"
          ]
        },
        {
          "metadata": {
            "tags": null
          },
          "name": "stderr",
          "output_type": "stream",
          "text": [
            "13017it [00:52, 234.55it/s]"
          ]
        },
        {
          "metadata": {
            "tags": null
          },
          "name": "stdout",
          "output_type": "stream",
          "text": [
            "| epoch   3 | 13000/70832 batches | loss    1.627 \n",
            "women: women’s, gender, living, working, she, the, her, identity, about, culture\n",
            "men: life, one, this, just, would, to, understanding, have, on, much\n",
            "nurse: practitioner, affiliates, specialists, collaborates, nursing, hospitals, diverse, experiences, honors, graduated\n",
            "doctor: fixing, college, completed, crowns, implant, provided, from, dental, member, tooth\n",
            "engineer: software, engineering, computer, technical, technology, industry, electrical, systems, senior, worked\n",
            "teacher: teachers, education, elementary, schools, teaching, curriculum, students, taught, literacy, mathematics\n",
            "dietitian: nutrition, registered, with, who, she, cooperates, clinical, groups, practitioner, medical\n",
            "\n",
            "\n"
          ]
        },
        {
          "metadata": {
            "tags": null
          },
          "name": "stderr",
          "output_type": "stream",
          "text": [
            "13513it [00:54, 232.23it/s]"
          ]
        },
        {
          "metadata": {
            "tags": null
          },
          "name": "stdout",
          "output_type": "stream",
          "text": [
            "| epoch   3 | 13500/70832 batches | loss    1.621 \n",
            "women: women’s, gender, living, working, she, the, her, identity, about, culture\n",
            "men: life, one, this, just, would, to, understanding, have, on, much\n",
            "nurse: practitioner, affiliates, specialists, collaborates, nursing, hospitals, diverse, experiences, honors, graduated\n",
            "doctor: fixing, college, completed, crowns, implant, provided, from, dental, member, tooth\n",
            "engineer: software, engineering, computer, technical, technology, industry, electrical, systems, senior, worked\n",
            "teacher: teachers, education, elementary, schools, teaching, curriculum, students, taught, literacy, mathematics\n",
            "dietitian: nutrition, registered, with, who, she, cooperates, clinical, groups, practitioner, medical\n",
            "\n",
            "\n"
          ]
        },
        {
          "metadata": {
            "tags": null
          },
          "name": "stderr",
          "output_type": "stream",
          "text": [
            "14025it [00:56, 224.03it/s]"
          ]
        },
        {
          "metadata": {
            "tags": null
          },
          "name": "stdout",
          "output_type": "stream",
          "text": [
            "| epoch   3 | 14000/70832 batches | loss    1.620 \n",
            "women: women’s, gender, living, working, she, the, her, identity, about, and\n",
            "men: life, one, this, just, would, to, understanding, on, have, much\n",
            "nurse: practitioner, affiliates, specialists, collaborates, nursing, hospitals, diverse, experiences, honors, graduated\n",
            "doctor: fixing, college, completed, crowns, implant, provided, from, dental, member, tooth\n",
            "engineer: software, engineering, computer, technical, technology, industry, electrical, systems, senior, worked\n",
            "teacher: teachers, education, elementary, schools, teaching, curriculum, students, taught, literacy, mathematics\n",
            "dietitian: nutrition, registered, with, who, she, cooperates, clinical, groups, practitioner, medical\n",
            "\n",
            "\n"
          ]
        },
        {
          "metadata": {
            "tags": null
          },
          "name": "stderr",
          "output_type": "stream",
          "text": [
            "14532it [00:58, 219.51it/s]"
          ]
        },
        {
          "metadata": {
            "tags": null
          },
          "name": "stdout",
          "output_type": "stream",
          "text": [
            "| epoch   3 | 14500/70832 batches | loss    1.623 \n",
            "women: women’s, gender, living, working, she, the, her, identity, about, and\n",
            "men: life, one, this, just, would, to, understanding, on, have, much\n",
            "nurse: practitioner, affiliates, specialists, collaborates, nursing, hospitals, diverse, experiences, honors, graduated\n",
            "doctor: fixing, college, completed, crowns, implant, provided, from, dental, member, tooth\n",
            "engineer: software, engineering, computer, technical, technology, industry, electrical, systems, senior, worked\n",
            "teacher: teachers, education, elementary, schools, teaching, curriculum, students, literacy, taught, mathematics\n",
            "dietitian: nutrition, registered, with, who, she, cooperates, clinical, groups, practitioner, medical\n",
            "\n",
            "\n"
          ]
        },
        {
          "metadata": {
            "tags": null
          },
          "name": "stderr",
          "output_type": "stream",
          "text": [
            "15029it [01:00, 234.09it/s]"
          ]
        },
        {
          "metadata": {
            "tags": null
          },
          "name": "stdout",
          "output_type": "stream",
          "text": [
            "| epoch   3 | 15000/70832 batches | loss    1.625 \n",
            "women: women’s, gender, living, working, she, the, her, identity, about, and\n",
            "men: life, one, this, just, would, to, understanding, on, have, much\n",
            "nurse: practitioner, affiliates, specialists, collaborates, nursing, hospitals, diverse, experiences, honors, graduated\n",
            "doctor: fixing, college, completed, crowns, implant, provided, from, dental, member, tooth\n",
            "engineer: software, engineering, computer, technical, technology, industry, electrical, systems, senior, worked\n",
            "teacher: teachers, education, elementary, schools, teaching, curriculum, students, taught, literacy, mathematics\n",
            "dietitian: nutrition, registered, with, who, she, cooperates, clinical, groups, practitioner, medical\n",
            "\n",
            "\n"
          ]
        },
        {
          "metadata": {
            "tags": null
          },
          "name": "stderr",
          "output_type": "stream",
          "text": [
            "15522it [01:02, 224.37it/s]"
          ]
        },
        {
          "metadata": {
            "tags": null
          },
          "name": "stdout",
          "output_type": "stream",
          "text": [
            "| epoch   3 | 15500/70832 batches | loss    1.626 \n",
            "women: women’s, gender, living, working, she, the, her, identity, about, and\n",
            "men: life, one, this, just, would, to, understanding, on, have, much\n",
            "nurse: practitioner, affiliates, specialists, collaborates, nursing, hospitals, diverse, experiences, honors, graduated\n",
            "doctor: fixing, college, completed, crowns, implant, provided, from, dental, member, tooth\n",
            "engineer: software, engineering, computer, technical, technology, industry, electrical, systems, senior, worked\n",
            "teacher: teachers, education, elementary, schools, teaching, curriculum, students, taught, literacy, mathematics\n",
            "dietitian: nutrition, registered, with, who, she, cooperates, clinical, groups, practitioner, medical\n",
            "\n",
            "\n"
          ]
        },
        {
          "metadata": {
            "tags": null
          },
          "name": "stderr",
          "output_type": "stream",
          "text": [
            "16022it [01:04, 227.54it/s]"
          ]
        },
        {
          "metadata": {
            "tags": null
          },
          "name": "stdout",
          "output_type": "stream",
          "text": [
            "| epoch   3 | 16000/70832 batches | loss    1.621 \n",
            "women: women’s, gender, living, working, she, the, her, identity, about, and\n",
            "men: life, one, this, just, would, to, understanding, on, have, much\n",
            "nurse: practitioner, affiliates, specialists, collaborates, nursing, hospitals, diverse, experiences, honors, graduated\n",
            "doctor: fixing, college, completed, crowns, implant, provided, from, dental, member, tooth\n",
            "engineer: software, engineering, computer, technical, technology, industry, electrical, systems, senior, worked\n",
            "teacher: teachers, education, elementary, schools, teaching, curriculum, students, taught, literacy, mathematics\n",
            "dietitian: nutrition, registered, with, who, she, cooperates, clinical, practitioner, groups, medical\n",
            "\n",
            "\n"
          ]
        },
        {
          "metadata": {
            "tags": null
          },
          "name": "stderr",
          "output_type": "stream",
          "text": [
            "16519it [01:06, 195.69it/s]"
          ]
        },
        {
          "metadata": {
            "tags": null
          },
          "name": "stdout",
          "output_type": "stream",
          "text": [
            "| epoch   3 | 16500/70832 batches | loss    1.624 \n",
            "women: women’s, gender, living, working, she, the, her, identity, about, and\n",
            "men: life, one, this, just, would, to, understanding, on, have, much\n",
            "nurse: practitioner, affiliates, specialists, collaborates, nursing, hospitals, diverse, experiences, honors, graduated\n",
            "doctor: fixing, college, completed, crowns, implant, provided, from, dental, member, tooth\n",
            "engineer: software, engineering, computer, technical, technology, industry, electrical, systems, senior, worked\n",
            "teacher: teachers, education, elementary, schools, teaching, curriculum, students, taught, literacy, mathematics\n",
            "dietitian: nutrition, registered, with, who, she, cooperates, clinical, practitioner, groups, medical\n",
            "\n",
            "\n"
          ]
        },
        {
          "metadata": {
            "tags": null
          },
          "name": "stderr",
          "output_type": "stream",
          "text": [
            "17028it [01:08, 230.53it/s]"
          ]
        },
        {
          "metadata": {
            "tags": null
          },
          "name": "stdout",
          "output_type": "stream",
          "text": [
            "| epoch   3 | 17000/70832 batches | loss    1.624 \n",
            "women: women’s, gender, living, she, working, the, her, identity, about, culture\n",
            "men: life, one, this, just, would, to, understanding, on, have, much\n",
            "nurse: practitioner, affiliates, specialists, collaborates, nursing, hospitals, diverse, experiences, honors, graduated\n",
            "doctor: fixing, college, completed, crowns, implant, provided, from, dental, member, tooth\n",
            "engineer: software, engineering, computer, technical, technology, industry, electrical, systems, senior, worked\n",
            "teacher: teachers, education, elementary, schools, teaching, curriculum, students, taught, literacy, mathematics\n",
            "dietitian: nutrition, registered, with, who, she, cooperates, clinical, groups, practitioner, medical\n",
            "\n",
            "\n"
          ]
        },
        {
          "metadata": {
            "tags": null
          },
          "name": "stderr",
          "output_type": "stream",
          "text": [
            "17528it [01:10, 210.52it/s]"
          ]
        },
        {
          "metadata": {
            "tags": null
          },
          "name": "stdout",
          "output_type": "stream",
          "text": [
            "| epoch   3 | 17500/70832 batches | loss    1.630 \n",
            "women: women’s, gender, living, working, she, the, her, identity, about, culture\n",
            "men: life, one, this, just, would, to, understanding, on, have, much\n",
            "nurse: practitioner, affiliates, specialists, collaborates, nursing, hospitals, diverse, experiences, honors, graduated\n",
            "doctor: fixing, college, completed, crowns, implant, provided, from, dental, member, tooth\n",
            "engineer: software, engineering, computer, technical, technology, industry, electrical, systems, senior, worked\n",
            "teacher: teachers, education, elementary, schools, teaching, curriculum, students, taught, literacy, mathematics\n",
            "dietitian: nutrition, registered, with, who, she, cooperates, clinical, groups, practitioner, medical\n",
            "\n",
            "\n"
          ]
        },
        {
          "metadata": {
            "tags": null
          },
          "name": "stderr",
          "output_type": "stream",
          "text": [
            "18016it [01:12, 212.93it/s]"
          ]
        },
        {
          "metadata": {
            "tags": null
          },
          "name": "stdout",
          "output_type": "stream",
          "text": [
            "| epoch   3 | 18000/70832 batches | loss    1.625 \n",
            "women: women’s, gender, living, working, she, the, her, identity, and, about\n",
            "men: life, one, this, just, would, to, understanding, have, on, much\n",
            "nurse: practitioner, affiliates, specialists, collaborates, nursing, hospitals, diverse, experiences, honors, graduated\n",
            "doctor: fixing, college, completed, crowns, implant, provided, from, dental, member, tooth\n",
            "engineer: software, engineering, computer, technical, technology, industry, electrical, systems, senior, worked\n",
            "teacher: teachers, education, elementary, schools, teaching, curriculum, students, taught, literacy, mathematics\n",
            "dietitian: nutrition, registered, with, who, she, cooperates, clinical, groups, practitioner, medical\n",
            "\n",
            "\n"
          ]
        },
        {
          "metadata": {
            "tags": null
          },
          "name": "stderr",
          "output_type": "stream",
          "text": [
            "18513it [01:14, 233.44it/s]"
          ]
        },
        {
          "metadata": {
            "tags": null
          },
          "name": "stdout",
          "output_type": "stream",
          "text": [
            "| epoch   3 | 18500/70832 batches | loss    1.620 \n",
            "women: women’s, gender, living, she, working, the, her, identity, and, about\n",
            "men: life, one, this, just, would, to, understanding, on, have, much\n",
            "nurse: practitioner, affiliates, specialists, collaborates, nursing, hospitals, diverse, experiences, honors, graduated\n",
            "doctor: fixing, college, completed, crowns, implant, provided, from, dental, member, tooth\n",
            "engineer: software, engineering, computer, technical, technology, industry, electrical, systems, senior, worked\n",
            "teacher: teachers, education, elementary, schools, teaching, curriculum, students, taught, literacy, mathematics\n",
            "dietitian: nutrition, registered, with, who, she, cooperates, clinical, groups, practitioner, medical\n",
            "\n",
            "\n"
          ]
        },
        {
          "metadata": {
            "tags": null
          },
          "name": "stderr",
          "output_type": "stream",
          "text": [
            "19027it [01:16, 226.21it/s]"
          ]
        },
        {
          "metadata": {
            "tags": null
          },
          "name": "stdout",
          "output_type": "stream",
          "text": [
            "| epoch   3 | 19000/70832 batches | loss    1.626 \n",
            "women: women’s, gender, living, she, working, the, her, identity, about, and\n",
            "men: life, one, this, just, to, would, understanding, have, on, much\n",
            "nurse: practitioner, affiliates, specialists, collaborates, nursing, hospitals, diverse, experiences, honors, graduated\n",
            "doctor: fixing, college, completed, crowns, implant, provided, from, dental, member, tooth\n",
            "engineer: software, engineering, computer, technical, technology, industry, electrical, systems, senior, worked\n",
            "teacher: teachers, education, elementary, schools, teaching, curriculum, students, taught, literacy, mathematics\n",
            "dietitian: nutrition, registered, with, who, she, cooperates, clinical, groups, practitioner, medical\n",
            "\n",
            "\n"
          ]
        },
        {
          "metadata": {
            "tags": null
          },
          "name": "stderr",
          "output_type": "stream",
          "text": [
            "19527it [01:18, 226.24it/s]"
          ]
        },
        {
          "metadata": {
            "tags": null
          },
          "name": "stdout",
          "output_type": "stream",
          "text": [
            "| epoch   3 | 19500/70832 batches | loss    1.623 \n",
            "women: women’s, gender, living, she, working, the, her, identity, and, about\n",
            "men: life, one, this, just, to, would, understanding, have, on, much\n",
            "nurse: practitioner, affiliates, specialists, collaborates, nursing, hospitals, diverse, experiences, honors, graduated\n",
            "doctor: fixing, college, completed, crowns, implant, provided, from, dental, member, tooth\n",
            "engineer: software, engineering, computer, technical, technology, industry, electrical, systems, senior, worked\n",
            "teacher: teachers, education, elementary, schools, teaching, curriculum, students, taught, literacy, mathematics\n",
            "dietitian: nutrition, registered, with, who, she, cooperates, clinical, groups, practitioner, medical\n",
            "\n",
            "\n"
          ]
        },
        {
          "metadata": {
            "tags": null
          },
          "name": "stderr",
          "output_type": "stream",
          "text": [
            "20035it [01:20, 225.91it/s]"
          ]
        },
        {
          "metadata": {
            "tags": null
          },
          "name": "stdout",
          "output_type": "stream",
          "text": [
            "| epoch   3 | 20000/70832 batches | loss    1.625 \n",
            "women: women’s, gender, living, she, working, the, her, identity, about, and\n",
            "men: life, one, this, just, to, would, understanding, have, on, that\n",
            "nurse: practitioner, affiliates, specialists, collaborates, nursing, hospitals, diverse, experiences, honors, graduated\n",
            "doctor: fixing, college, completed, crowns, implant, provided, from, dental, member, tooth\n",
            "engineer: software, engineering, computer, technical, technology, industry, electrical, systems, senior, worked\n",
            "teacher: teachers, education, elementary, schools, teaching, curriculum, students, taught, literacy, mathematics\n",
            "dietitian: nutrition, registered, with, who, she, cooperates, clinical, groups, practitioner, medical\n",
            "\n",
            "\n"
          ]
        },
        {
          "metadata": {
            "tags": null
          },
          "name": "stderr",
          "output_type": "stream",
          "text": [
            "20523it [01:22, 222.79it/s]"
          ]
        },
        {
          "metadata": {
            "tags": null
          },
          "name": "stdout",
          "output_type": "stream",
          "text": [
            "| epoch   3 | 20500/70832 batches | loss    1.619 \n",
            "women: women’s, gender, living, she, working, the, her, identity, about, and\n",
            "men: life, one, this, just, to, would, understanding, have, on, much\n",
            "nurse: practitioner, affiliates, specialists, collaborates, nursing, hospitals, diverse, experiences, honors, graduated\n",
            "doctor: fixing, college, completed, crowns, implant, provided, from, dental, member, tooth\n",
            "engineer: software, engineering, computer, technical, technology, industry, electrical, systems, senior, worked\n",
            "teacher: teachers, education, elementary, schools, teaching, curriculum, students, taught, literacy, mathematics\n",
            "dietitian: nutrition, registered, with, who, she, cooperates, clinical, groups, practitioner, medical\n",
            "\n",
            "\n"
          ]
        },
        {
          "metadata": {
            "tags": null
          },
          "name": "stderr",
          "output_type": "stream",
          "text": [
            "21022it [01:24, 229.83it/s]"
          ]
        },
        {
          "metadata": {
            "tags": null
          },
          "name": "stdout",
          "output_type": "stream",
          "text": [
            "| epoch   3 | 21000/70832 batches | loss    1.623 \n",
            "women: women’s, gender, living, she, working, the, her, identity, and, about\n",
            "men: life, one, this, just, to, would, understanding, have, on, much\n",
            "nurse: practitioner, affiliates, specialists, collaborates, nursing, hospitals, diverse, experiences, honors, graduated\n",
            "doctor: fixing, college, completed, crowns, implant, provided, from, dental, member, tooth\n",
            "engineer: software, engineering, computer, technical, technology, industry, electrical, systems, senior, worked\n",
            "teacher: teachers, education, elementary, schools, teaching, curriculum, students, taught, literacy, mathematics\n",
            "dietitian: nutrition, registered, with, who, she, cooperates, clinical, groups, practitioner, medical\n",
            "\n",
            "\n"
          ]
        },
        {
          "metadata": {
            "tags": null
          },
          "name": "stderr",
          "output_type": "stream",
          "text": [
            "21520it [01:25, 216.88it/s]"
          ]
        },
        {
          "metadata": {
            "tags": null
          },
          "name": "stdout",
          "output_type": "stream",
          "text": [
            "| epoch   3 | 21500/70832 batches | loss    1.616 \n",
            "women: women’s, gender, living, she, working, the, her, identity, and, about\n",
            "men: life, one, this, to, just, would, understanding, have, on, much\n",
            "nurse: practitioner, affiliates, specialists, collaborates, nursing, hospitals, diverse, experiences, honors, graduated\n",
            "doctor: fixing, college, completed, crowns, implant, provided, from, dental, member, tooth\n",
            "engineer: software, engineering, computer, technical, technology, industry, electrical, systems, senior, worked\n",
            "teacher: teachers, education, elementary, schools, teaching, curriculum, students, taught, literacy, mathematics\n",
            "dietitian: nutrition, registered, with, who, she, cooperates, clinical, groups, practitioner, medical\n",
            "\n",
            "\n"
          ]
        },
        {
          "metadata": {
            "tags": null
          },
          "name": "stderr",
          "output_type": "stream",
          "text": [
            "22009it [01:27, 230.38it/s]"
          ]
        },
        {
          "metadata": {
            "tags": null
          },
          "name": "stdout",
          "output_type": "stream",
          "text": [
            "| epoch   3 | 22000/70832 batches | loss    1.620 \n",
            "women: women’s, gender, living, she, working, the, her, identity, and, about\n",
            "men: life, one, this, just, to, would, understanding, have, on, that\n",
            "nurse: practitioner, affiliates, specialists, collaborates, nursing, hospitals, diverse, experiences, honors, graduated\n",
            "doctor: fixing, college, completed, crowns, implant, provided, from, dental, member, tooth\n",
            "engineer: software, engineering, computer, technical, technology, industry, electrical, systems, senior, worked\n",
            "teacher: teachers, education, elementary, schools, teaching, curriculum, students, taught, literacy, mathematics\n",
            "dietitian: nutrition, registered, with, who, she, cooperates, clinical, groups, practitioner, medical\n",
            "\n",
            "\n"
          ]
        },
        {
          "metadata": {
            "tags": null
          },
          "name": "stderr",
          "output_type": "stream",
          "text": [
            "22524it [01:30, 218.56it/s]"
          ]
        },
        {
          "metadata": {
            "tags": null
          },
          "name": "stdout",
          "output_type": "stream",
          "text": [
            "| epoch   3 | 22500/70832 batches | loss    1.623 \n",
            "women: women’s, gender, living, she, working, the, her, identity, and, about\n",
            "men: life, one, this, just, to, would, understanding, have, on, that\n",
            "nurse: practitioner, affiliates, specialists, collaborates, nursing, hospitals, diverse, experiences, honors, graduated\n",
            "doctor: fixing, college, completed, crowns, implant, provided, from, dental, member, tooth\n",
            "engineer: software, engineering, computer, technical, technology, industry, electrical, systems, senior, worked\n",
            "teacher: teachers, education, elementary, schools, teaching, curriculum, students, taught, literacy, mathematics\n",
            "dietitian: nutrition, registered, with, who, she, cooperates, clinical, groups, practitioner, medical\n",
            "\n",
            "\n"
          ]
        },
        {
          "metadata": {
            "tags": null
          },
          "name": "stderr",
          "output_type": "stream",
          "text": [
            "23011it [01:32, 232.05it/s]"
          ]
        },
        {
          "metadata": {
            "tags": null
          },
          "name": "stdout",
          "output_type": "stream",
          "text": [
            "| epoch   3 | 23000/70832 batches | loss    1.629 \n",
            "women: women’s, gender, living, working, she, the, her, identity, and, about\n",
            "men: life, one, this, just, to, would, understanding, have, on, that\n",
            "nurse: practitioner, affiliates, specialists, collaborates, nursing, hospitals, diverse, experiences, honors, graduated\n",
            "doctor: fixing, college, completed, crowns, implant, provided, from, dental, member, tooth\n",
            "engineer: software, engineering, computer, technical, technology, industry, electrical, systems, senior, worked\n",
            "teacher: teachers, education, elementary, schools, teaching, curriculum, students, taught, literacy, mathematics\n",
            "dietitian: nutrition, registered, with, who, she, cooperates, clinical, groups, practitioner, medical\n",
            "\n",
            "\n"
          ]
        },
        {
          "metadata": {
            "tags": null
          },
          "name": "stderr",
          "output_type": "stream",
          "text": [
            "23529it [01:34, 218.97it/s]"
          ]
        },
        {
          "metadata": {
            "tags": null
          },
          "name": "stdout",
          "output_type": "stream",
          "text": [
            "| epoch   3 | 23500/70832 batches | loss    1.620 \n",
            "women: women’s, gender, living, she, working, the, her, identity, and, about\n",
            "men: life, one, this, to, just, would, understanding, have, on, that\n",
            "nurse: practitioner, affiliates, specialists, collaborates, nursing, hospitals, diverse, experiences, honors, graduated\n",
            "doctor: fixing, college, completed, crowns, implant, provided, from, dental, member, tooth\n",
            "engineer: software, engineering, computer, technical, technology, industry, electrical, systems, senior, worked\n",
            "teacher: teachers, education, elementary, schools, teaching, curriculum, students, taught, literacy, mathematics\n",
            "dietitian: nutrition, registered, with, who, she, cooperates, clinical, groups, practitioner, medical\n",
            "\n",
            "\n"
          ]
        },
        {
          "metadata": {
            "tags": null
          },
          "name": "stderr",
          "output_type": "stream",
          "text": [
            "24025it [01:36, 214.04it/s]"
          ]
        },
        {
          "metadata": {
            "tags": null
          },
          "name": "stdout",
          "output_type": "stream",
          "text": [
            "| epoch   3 | 24000/70832 batches | loss    1.620 \n",
            "women: women’s, gender, living, she, working, the, her, identity, and, about\n",
            "men: life, one, this, to, just, would, understanding, have, on, that\n",
            "nurse: practitioner, affiliates, specialists, collaborates, nursing, hospitals, diverse, experiences, honors, graduated\n",
            "doctor: fixing, college, completed, crowns, implant, provided, from, dental, member, tooth\n",
            "engineer: software, engineering, computer, technical, technology, industry, electrical, systems, senior, worked\n",
            "teacher: teachers, education, elementary, schools, teaching, curriculum, students, taught, literacy, mathematics\n",
            "dietitian: nutrition, registered, with, who, she, cooperates, clinical, groups, practitioner, medical\n",
            "\n",
            "\n"
          ]
        },
        {
          "metadata": {
            "tags": null
          },
          "name": "stderr",
          "output_type": "stream",
          "text": [
            "24516it [01:37, 231.99it/s]"
          ]
        },
        {
          "metadata": {
            "tags": null
          },
          "name": "stdout",
          "output_type": "stream",
          "text": [
            "| epoch   3 | 24500/70832 batches | loss    1.621 \n",
            "women: women’s, gender, living, working, she, the, her, identity, about, and\n",
            "men: life, one, this, to, just, would, understanding, have, on, that\n",
            "nurse: practitioner, affiliates, specialists, collaborates, nursing, hospitals, diverse, experiences, honors, graduated\n",
            "doctor: fixing, college, completed, crowns, implant, provided, from, dental, member, tooth\n",
            "engineer: software, engineering, computer, technical, technology, industry, electrical, systems, senior, worked\n",
            "teacher: teachers, education, elementary, schools, teaching, curriculum, students, taught, literacy, mathematics\n",
            "dietitian: nutrition, registered, with, who, she, cooperates, clinical, groups, practitioner, medical\n",
            "\n",
            "\n"
          ]
        },
        {
          "metadata": {
            "tags": null
          },
          "name": "stderr",
          "output_type": "stream",
          "text": [
            "25015it [01:39, 229.31it/s]"
          ]
        },
        {
          "metadata": {
            "tags": null
          },
          "name": "stdout",
          "output_type": "stream",
          "text": [
            "| epoch   3 | 25000/70832 batches | loss    1.620 \n",
            "women: women’s, gender, living, she, working, the, her, identity, about, culture\n",
            "men: life, one, this, to, just, would, understanding, have, on, that\n",
            "nurse: practitioner, affiliates, specialists, collaborates, nursing, hospitals, diverse, experiences, honors, graduated\n",
            "doctor: fixing, college, completed, crowns, implant, provided, from, dental, member, tooth\n",
            "engineer: software, engineering, computer, technical, technology, industry, electrical, systems, senior, worked\n",
            "teacher: teachers, education, elementary, schools, teaching, curriculum, students, taught, literacy, mathematics\n",
            "dietitian: nutrition, registered, with, who, she, cooperates, clinical, groups, practitioner, medical\n",
            "\n",
            "\n"
          ]
        },
        {
          "metadata": {
            "tags": null
          },
          "name": "stderr",
          "output_type": "stream",
          "text": [
            "25530it [01:41, 224.61it/s]"
          ]
        },
        {
          "metadata": {
            "tags": null
          },
          "name": "stdout",
          "output_type": "stream",
          "text": [
            "| epoch   3 | 25500/70832 batches | loss    1.621 \n",
            "women: women’s, gender, living, working, she, the, her, identity, about, culture\n",
            "men: life, one, this, to, just, would, understanding, on, have, that\n",
            "nurse: practitioner, affiliates, specialists, collaborates, nursing, hospitals, diverse, experiences, honors, graduated\n",
            "doctor: fixing, college, completed, crowns, implant, provided, from, dental, member, tooth\n",
            "engineer: software, engineering, computer, technical, technology, industry, electrical, systems, senior, worked\n",
            "teacher: teachers, education, elementary, schools, teaching, curriculum, students, taught, literacy, mathematics\n",
            "dietitian: nutrition, registered, with, who, she, cooperates, clinical, groups, practitioner, medical\n",
            "\n",
            "\n"
          ]
        },
        {
          "metadata": {
            "tags": null
          },
          "name": "stderr",
          "output_type": "stream",
          "text": [
            "26016it [01:43, 230.01it/s]"
          ]
        },
        {
          "metadata": {
            "tags": null
          },
          "name": "stdout",
          "output_type": "stream",
          "text": [
            "| epoch   3 | 26000/70832 batches | loss    1.624 \n",
            "women: women’s, gender, living, she, working, the, her, identity, and, about\n",
            "men: life, one, this, to, just, would, understanding, have, on, that\n",
            "nurse: practitioner, affiliates, specialists, collaborates, nursing, hospitals, diverse, experiences, honors, graduated\n",
            "doctor: fixing, college, completed, crowns, implant, provided, from, dental, member, tooth\n",
            "engineer: software, engineering, computer, technical, technology, industry, electrical, systems, senior, worked\n",
            "teacher: teachers, education, elementary, schools, teaching, curriculum, students, taught, literacy, mathematics\n",
            "dietitian: nutrition, registered, with, who, she, cooperates, clinical, groups, practitioner, medical\n",
            "\n",
            "\n"
          ]
        },
        {
          "metadata": {
            "tags": null
          },
          "name": "stderr",
          "output_type": "stream",
          "text": [
            "26513it [01:45, 236.03it/s]"
          ]
        },
        {
          "metadata": {
            "tags": null
          },
          "name": "stdout",
          "output_type": "stream",
          "text": [
            "| epoch   3 | 26500/70832 batches | loss    1.626 \n",
            "women: women’s, gender, living, she, working, the, her, identity, and, about\n",
            "men: life, one, this, to, just, would, understanding, have, on, much\n",
            "nurse: practitioner, affiliates, specialists, collaborates, nursing, hospitals, diverse, experiences, honors, graduated\n",
            "doctor: fixing, college, completed, crowns, implant, provided, from, dental, member, tooth\n",
            "engineer: software, engineering, computer, technical, technology, industry, electrical, systems, senior, worked\n",
            "teacher: teachers, education, elementary, schools, teaching, curriculum, students, taught, literacy, mathematics\n",
            "dietitian: nutrition, registered, with, who, she, cooperates, clinical, groups, practitioner, medical\n",
            "\n",
            "\n"
          ]
        },
        {
          "metadata": {
            "tags": null
          },
          "name": "stderr",
          "output_type": "stream",
          "text": [
            "27025it [01:50, 165.35it/s]"
          ]
        },
        {
          "metadata": {
            "tags": null
          },
          "name": "stdout",
          "output_type": "stream",
          "text": [
            "| epoch   3 | 27000/70832 batches | loss    1.619 \n",
            "women: women’s, gender, living, she, working, the, her, identity, and, about\n",
            "men: life, one, this, to, just, would, understanding, have, on, much\n",
            "nurse: practitioner, affiliates, specialists, collaborates, nursing, hospitals, diverse, experiences, honors, graduated\n",
            "doctor: fixing, college, completed, crowns, implant, provided, from, dental, member, tooth\n",
            "engineer: software, engineering, computer, technical, technology, industry, electrical, systems, senior, worked\n",
            "teacher: teachers, education, elementary, schools, teaching, curriculum, students, taught, literacy, mathematics\n",
            "dietitian: nutrition, registered, with, who, she, cooperates, clinical, groups, practitioner, medical\n",
            "\n",
            "\n"
          ]
        },
        {
          "metadata": {
            "tags": null
          },
          "name": "stderr",
          "output_type": "stream",
          "text": [
            "27537it [01:52, 230.66it/s]"
          ]
        },
        {
          "metadata": {
            "tags": null
          },
          "name": "stdout",
          "output_type": "stream",
          "text": [
            "| epoch   3 | 27500/70832 batches | loss    1.624 \n",
            "women: women’s, gender, living, she, working, the, her, identity, and, about\n",
            "men: life, one, this, to, just, would, understanding, have, on, much\n",
            "nurse: practitioner, affiliates, specialists, collaborates, nursing, hospitals, diverse, experiences, honors, graduated\n",
            "doctor: fixing, college, completed, crowns, implant, provided, from, dental, member, tooth\n",
            "engineer: software, engineering, computer, technical, technology, industry, electrical, systems, senior, worked\n",
            "teacher: teachers, education, elementary, schools, teaching, curriculum, students, taught, literacy, mathematics\n",
            "dietitian: nutrition, registered, with, who, she, cooperates, clinical, groups, practitioner, medical\n",
            "\n",
            "\n"
          ]
        },
        {
          "metadata": {
            "tags": null
          },
          "name": "stderr",
          "output_type": "stream",
          "text": [
            "28008it [01:54, 196.58it/s]"
          ]
        },
        {
          "metadata": {
            "tags": null
          },
          "name": "stdout",
          "output_type": "stream",
          "text": [
            "| epoch   3 | 28000/70832 batches | loss    1.625 \n",
            "women: women’s, gender, living, she, working, the, her, identity, about, culture\n",
            "men: life, one, this, to, just, would, understanding, have, on, much\n",
            "nurse: practitioner, affiliates, specialists, collaborates, nursing, hospitals, diverse, experiences, honors, graduated\n",
            "doctor: fixing, college, completed, crowns, implant, provided, from, dental, member, tooth\n",
            "engineer: software, engineering, computer, technical, technology, industry, electrical, systems, senior, worked\n",
            "teacher: teachers, education, elementary, schools, teaching, curriculum, students, taught, literacy, mathematics\n",
            "dietitian: nutrition, registered, with, who, she, cooperates, clinical, groups, practitioner, medical\n",
            "\n",
            "\n"
          ]
        },
        {
          "metadata": {
            "tags": null
          },
          "name": "stderr",
          "output_type": "stream",
          "text": [
            "28527it [01:56, 224.44it/s]"
          ]
        },
        {
          "metadata": {
            "tags": null
          },
          "name": "stdout",
          "output_type": "stream",
          "text": [
            "| epoch   3 | 28500/70832 batches | loss    1.620 \n",
            "women: women’s, gender, living, she, working, the, her, identity, and, about\n",
            "men: life, one, this, to, just, would, understanding, have, on, much\n",
            "nurse: practitioner, affiliates, specialists, collaborates, nursing, hospitals, diverse, experiences, honors, graduated\n",
            "doctor: fixing, college, completed, crowns, implant, provided, from, dental, member, tooth\n",
            "engineer: software, engineering, computer, technical, technology, industry, electrical, systems, senior, worked\n",
            "teacher: teachers, education, elementary, schools, teaching, curriculum, students, taught, literacy, mathematics\n",
            "dietitian: nutrition, registered, with, who, she, cooperates, clinical, groups, practitioner, medical\n",
            "\n",
            "\n"
          ]
        },
        {
          "metadata": {
            "tags": null
          },
          "name": "stderr",
          "output_type": "stream",
          "text": [
            "29017it [01:58, 230.16it/s]"
          ]
        },
        {
          "metadata": {
            "tags": null
          },
          "name": "stdout",
          "output_type": "stream",
          "text": [
            "| epoch   3 | 29000/70832 batches | loss    1.619 \n",
            "women: women’s, gender, living, she, working, the, her, identity, about, culture\n",
            "men: life, one, this, to, just, would, understanding, have, on, that\n",
            "nurse: practitioner, affiliates, specialists, collaborates, nursing, hospitals, diverse, experiences, honors, graduated\n",
            "doctor: fixing, college, completed, crowns, implant, provided, from, dental, member, tooth\n",
            "engineer: software, engineering, computer, technical, technology, industry, electrical, systems, senior, worked\n",
            "teacher: teachers, education, elementary, schools, teaching, curriculum, students, taught, literacy, mathematics\n",
            "dietitian: nutrition, registered, with, who, she, cooperates, clinical, groups, practitioner, medical\n",
            "\n",
            "\n"
          ]
        },
        {
          "metadata": {
            "tags": null
          },
          "name": "stderr",
          "output_type": "stream",
          "text": [
            "29527it [02:00, 224.98it/s]"
          ]
        },
        {
          "metadata": {
            "tags": null
          },
          "name": "stdout",
          "output_type": "stream",
          "text": [
            "| epoch   3 | 29500/70832 batches | loss    1.617 \n",
            "women: women’s, gender, living, she, working, the, her, identity, about, culture\n",
            "men: life, one, this, to, just, would, understanding, have, on, that\n",
            "nurse: practitioner, affiliates, specialists, collaborates, nursing, hospitals, diverse, experiences, honors, graduated\n",
            "doctor: fixing, college, completed, crowns, implant, provided, from, dental, member, tooth\n",
            "engineer: software, engineering, computer, technical, technology, industry, electrical, systems, worked, senior\n",
            "teacher: teachers, education, elementary, schools, teaching, curriculum, students, taught, literacy, mathematics\n",
            "dietitian: nutrition, registered, with, who, she, cooperates, clinical, groups, practitioner, medical\n",
            "\n",
            "\n"
          ]
        },
        {
          "metadata": {
            "tags": null
          },
          "name": "stderr",
          "output_type": "stream",
          "text": [
            "30027it [02:02, 227.68it/s]"
          ]
        },
        {
          "metadata": {
            "tags": null
          },
          "name": "stdout",
          "output_type": "stream",
          "text": [
            "| epoch   3 | 30000/70832 batches | loss    1.623 \n",
            "women: women’s, gender, living, she, working, the, her, identity, about, culture\n",
            "men: life, one, this, to, just, would, understanding, have, on, that\n",
            "nurse: practitioner, affiliates, specialists, collaborates, nursing, hospitals, diverse, experiences, honors, graduated\n",
            "doctor: fixing, college, completed, crowns, implant, provided, from, dental, member, tooth\n",
            "engineer: software, engineering, computer, technical, technology, industry, electrical, systems, senior, worked\n",
            "teacher: teachers, education, elementary, schools, teaching, curriculum, students, taught, literacy, mathematics\n",
            "dietitian: nutrition, registered, with, who, she, cooperates, clinical, groups, practitioner, medical\n",
            "\n",
            "\n"
          ]
        },
        {
          "metadata": {
            "tags": null
          },
          "name": "stderr",
          "output_type": "stream",
          "text": [
            "30525it [02:04, 224.79it/s]"
          ]
        },
        {
          "metadata": {
            "tags": null
          },
          "name": "stdout",
          "output_type": "stream",
          "text": [
            "| epoch   3 | 30500/70832 batches | loss    1.622 \n",
            "women: women’s, gender, living, she, working, the, her, identity, about, culture\n",
            "men: life, one, this, to, just, would, understanding, have, on, much\n",
            "nurse: practitioner, affiliates, specialists, collaborates, nursing, hospitals, diverse, experiences, honors, graduated\n",
            "doctor: fixing, college, completed, crowns, implant, provided, from, dental, member, tooth\n",
            "engineer: software, engineering, computer, technical, technology, industry, electrical, systems, senior, worked\n",
            "teacher: teachers, education, elementary, schools, teaching, curriculum, students, taught, literacy, mathematics\n",
            "dietitian: nutrition, registered, with, who, she, cooperates, clinical, groups, practitioner, medical\n",
            "\n",
            "\n"
          ]
        },
        {
          "metadata": {
            "tags": null
          },
          "name": "stderr",
          "output_type": "stream",
          "text": [
            "31028it [02:06, 227.38it/s]"
          ]
        },
        {
          "metadata": {
            "tags": null
          },
          "name": "stdout",
          "output_type": "stream",
          "text": [
            "| epoch   3 | 31000/70832 batches | loss    1.625 \n",
            "women: women’s, gender, living, she, working, the, her, identity, about, culture\n",
            "men: life, one, this, to, just, would, understanding, have, on, much\n",
            "nurse: practitioner, affiliates, specialists, collaborates, nursing, hospitals, diverse, experiences, honors, graduated\n",
            "doctor: fixing, college, completed, crowns, implant, provided, from, dental, member, tooth\n",
            "engineer: software, engineering, computer, technical, technology, industry, electrical, systems, senior, worked\n",
            "teacher: teachers, education, elementary, schools, teaching, curriculum, students, taught, literacy, mathematics\n",
            "dietitian: nutrition, registered, with, who, she, cooperates, clinical, groups, practitioner, medical\n",
            "\n",
            "\n"
          ]
        },
        {
          "metadata": {
            "tags": null
          },
          "name": "stderr",
          "output_type": "stream",
          "text": [
            "31519it [02:08, 226.24it/s]"
          ]
        },
        {
          "metadata": {
            "tags": null
          },
          "name": "stdout",
          "output_type": "stream",
          "text": [
            "| epoch   3 | 31500/70832 batches | loss    1.621 \n",
            "women: women’s, gender, living, she, working, the, her, identity, and, about\n",
            "men: life, one, this, to, just, would, understanding, on, have, much\n",
            "nurse: practitioner, affiliates, specialists, collaborates, nursing, hospitals, diverse, experiences, honors, graduated\n",
            "doctor: fixing, college, completed, crowns, implant, provided, from, dental, member, tooth\n",
            "engineer: software, engineering, computer, technical, technology, industry, electrical, systems, senior, worked\n",
            "teacher: teachers, education, elementary, schools, teaching, curriculum, students, taught, literacy, mathematics\n",
            "dietitian: nutrition, registered, with, who, she, cooperates, clinical, groups, practitioner, medical\n",
            "\n",
            "\n"
          ]
        },
        {
          "metadata": {
            "tags": null
          },
          "name": "stderr",
          "output_type": "stream",
          "text": [
            "32027it [02:10, 226.86it/s]"
          ]
        },
        {
          "metadata": {
            "tags": null
          },
          "name": "stdout",
          "output_type": "stream",
          "text": [
            "| epoch   3 | 32000/70832 batches | loss    1.620 \n",
            "women: women’s, gender, living, she, working, the, her, identity, about, and\n",
            "men: life, one, this, to, just, would, on, understanding, have, much\n",
            "nurse: practitioner, affiliates, specialists, collaborates, nursing, hospitals, diverse, experiences, honors, graduated\n",
            "doctor: fixing, college, completed, crowns, implant, provided, from, dental, member, tooth\n",
            "engineer: software, engineering, computer, technical, technology, industry, electrical, systems, senior, worked\n",
            "teacher: teachers, education, elementary, schools, teaching, curriculum, students, taught, literacy, mathematics\n",
            "dietitian: nutrition, registered, with, who, she, cooperates, clinical, groups, practitioner, medical\n",
            "\n",
            "\n"
          ]
        },
        {
          "metadata": {
            "tags": null
          },
          "name": "stderr",
          "output_type": "stream",
          "text": [
            "32516it [02:11, 229.27it/s]"
          ]
        },
        {
          "metadata": {
            "tags": null
          },
          "name": "stdout",
          "output_type": "stream",
          "text": [
            "| epoch   3 | 32500/70832 batches | loss    1.623 \n",
            "women: women’s, gender, living, she, working, the, her, identity, about, which\n",
            "men: life, one, this, to, just, would, understanding, on, have, much\n",
            "nurse: practitioner, affiliates, specialists, collaborates, nursing, hospitals, diverse, experiences, honors, graduated\n",
            "doctor: fixing, college, completed, crowns, implant, provided, from, dental, member, tooth\n",
            "engineer: software, engineering, computer, technical, technology, industry, electrical, systems, worked, senior\n",
            "teacher: teachers, education, elementary, schools, teaching, curriculum, students, taught, literacy, mathematics\n",
            "dietitian: nutrition, registered, with, who, she, cooperates, clinical, groups, practitioner, medical\n",
            "\n",
            "\n"
          ]
        },
        {
          "metadata": {
            "tags": null
          },
          "name": "stderr",
          "output_type": "stream",
          "text": [
            "33012it [02:13, 233.39it/s]"
          ]
        },
        {
          "metadata": {
            "tags": null
          },
          "name": "stdout",
          "output_type": "stream",
          "text": [
            "| epoch   3 | 33000/70832 batches | loss    1.622 \n",
            "women: women’s, gender, living, she, working, the, her, identity, about, culture\n",
            "men: life, one, this, to, just, would, understanding, on, have, much\n",
            "nurse: practitioner, affiliates, specialists, collaborates, nursing, hospitals, diverse, experiences, honors, graduated\n",
            "doctor: fixing, college, completed, crowns, implant, provided, from, dental, member, tooth\n",
            "engineer: software, engineering, computer, technical, technology, industry, electrical, systems, worked, senior\n",
            "teacher: teachers, education, elementary, schools, teaching, curriculum, students, taught, literacy, mathematics\n",
            "dietitian: nutrition, registered, with, who, she, cooperates, clinical, practitioner, groups, medical\n",
            "\n",
            "\n"
          ]
        },
        {
          "metadata": {
            "tags": null
          },
          "name": "stderr",
          "output_type": "stream",
          "text": [
            "33533it [02:15, 224.33it/s]"
          ]
        },
        {
          "metadata": {
            "tags": null
          },
          "name": "stdout",
          "output_type": "stream",
          "text": [
            "| epoch   3 | 33500/70832 batches | loss    1.616 \n",
            "women: women’s, gender, living, she, working, the, her, identity, about, culture\n",
            "men: life, one, this, to, just, would, understanding, on, have, much\n",
            "nurse: practitioner, affiliates, specialists, collaborates, nursing, hospitals, diverse, experiences, honors, graduated\n",
            "doctor: fixing, college, completed, crowns, implant, provided, from, dental, member, tooth\n",
            "engineer: software, engineering, computer, technical, technology, industry, electrical, systems, worked, senior\n",
            "teacher: teachers, education, elementary, schools, teaching, curriculum, students, taught, literacy, mathematics\n",
            "dietitian: nutrition, registered, with, who, she, cooperates, clinical, practitioner, groups, medical\n",
            "\n",
            "\n"
          ]
        },
        {
          "metadata": {
            "tags": null
          },
          "name": "stderr",
          "output_type": "stream",
          "text": [
            "34010it [02:17, 220.54it/s]"
          ]
        },
        {
          "metadata": {
            "tags": null
          },
          "name": "stdout",
          "output_type": "stream",
          "text": [
            "| epoch   3 | 34000/70832 batches | loss    1.622 \n",
            "women: women’s, gender, living, she, working, the, her, identity, culture, about\n",
            "men: life, one, this, to, just, would, understanding, on, have, much\n",
            "nurse: practitioner, affiliates, specialists, collaborates, nursing, hospitals, diverse, experiences, honors, graduated\n",
            "doctor: fixing, college, completed, crowns, implant, provided, from, dental, member, tooth\n",
            "engineer: software, engineering, computer, technical, technology, industry, electrical, systems, senior, worked\n",
            "teacher: teachers, education, elementary, schools, teaching, curriculum, students, taught, literacy, mathematics\n",
            "dietitian: nutrition, registered, with, who, she, cooperates, clinical, practitioner, groups, medical\n",
            "\n",
            "\n"
          ]
        },
        {
          "metadata": {
            "tags": null
          },
          "name": "stderr",
          "output_type": "stream",
          "text": [
            "34528it [02:19, 231.10it/s]"
          ]
        },
        {
          "metadata": {
            "tags": null
          },
          "name": "stdout",
          "output_type": "stream",
          "text": [
            "| epoch   3 | 34500/70832 batches | loss    1.613 \n",
            "women: women’s, gender, living, she, working, the, her, identity, culture, about\n",
            "men: life, one, this, to, just, would, understanding, on, have, much\n",
            "nurse: practitioner, affiliates, specialists, collaborates, nursing, hospitals, diverse, experiences, honors, graduated\n",
            "doctor: fixing, college, completed, crowns, implant, provided, from, dental, member, tooth\n",
            "engineer: software, engineering, computer, technical, technology, industry, electrical, systems, senior, worked\n",
            "teacher: teachers, education, elementary, schools, teaching, curriculum, students, taught, literacy, mathematics\n",
            "dietitian: nutrition, registered, with, who, she, cooperates, clinical, practitioner, groups, medical\n",
            "\n",
            "\n"
          ]
        },
        {
          "metadata": {
            "tags": null
          },
          "name": "stderr",
          "output_type": "stream",
          "text": [
            "35031it [02:21, 216.22it/s]"
          ]
        },
        {
          "metadata": {
            "tags": null
          },
          "name": "stdout",
          "output_type": "stream",
          "text": [
            "| epoch   3 | 35000/70832 batches | loss    1.624 \n",
            "women: women’s, gender, living, she, working, the, her, identity, culture, about\n",
            "men: life, one, this, to, just, would, understanding, on, have, much\n",
            "nurse: practitioner, affiliates, specialists, collaborates, nursing, hospitals, diverse, experiences, honors, graduated\n",
            "doctor: fixing, college, completed, crowns, implant, provided, from, dental, member, tooth\n",
            "engineer: software, engineering, computer, technical, technology, industry, electrical, systems, worked, senior\n",
            "teacher: teachers, education, elementary, schools, teaching, curriculum, students, taught, literacy, mathematics\n",
            "dietitian: nutrition, registered, with, who, she, cooperates, clinical, groups, practitioner, medical\n",
            "\n",
            "\n"
          ]
        },
        {
          "metadata": {
            "tags": null
          },
          "name": "stderr",
          "output_type": "stream",
          "text": [
            "35530it [02:23, 231.50it/s]"
          ]
        },
        {
          "metadata": {
            "tags": null
          },
          "name": "stdout",
          "output_type": "stream",
          "text": [
            "| epoch   3 | 35500/70832 batches | loss    1.626 \n",
            "women: women’s, gender, living, she, working, the, her, identity, culture, about\n",
            "men: life, one, this, to, just, would, understanding, on, have, much\n",
            "nurse: practitioner, affiliates, specialists, collaborates, nursing, hospitals, diverse, experiences, honors, graduated\n",
            "doctor: fixing, college, completed, crowns, implant, provided, from, dental, member, tooth\n",
            "engineer: software, engineering, computer, technical, technology, industry, electrical, systems, senior, worked\n",
            "teacher: teachers, education, elementary, schools, teaching, curriculum, students, taught, literacy, mathematics\n",
            "dietitian: nutrition, registered, with, who, she, cooperates, clinical, groups, practitioner, medical\n",
            "\n",
            "\n"
          ]
        },
        {
          "metadata": {
            "tags": null
          },
          "name": "stderr",
          "output_type": "stream",
          "text": [
            "36027it [02:25, 231.18it/s]"
          ]
        },
        {
          "metadata": {
            "tags": null
          },
          "name": "stdout",
          "output_type": "stream",
          "text": [
            "| epoch   3 | 36000/70832 batches | loss    1.624 \n",
            "women: women’s, gender, living, she, working, the, her, identity, about, and\n",
            "men: life, one, this, to, just, would, on, understanding, have, much\n",
            "nurse: practitioner, affiliates, specialists, collaborates, nursing, hospitals, diverse, experiences, honors, graduated\n",
            "doctor: fixing, college, completed, crowns, implant, provided, from, dental, member, tooth\n",
            "engineer: software, engineering, computer, technical, technology, industry, electrical, systems, worked, senior\n",
            "teacher: teachers, education, elementary, schools, teaching, curriculum, students, taught, literacy, mathematics\n",
            "dietitian: nutrition, registered, with, who, she, cooperates, clinical, groups, practitioner, medical\n",
            "\n",
            "\n"
          ]
        },
        {
          "metadata": {
            "tags": null
          },
          "name": "stderr",
          "output_type": "stream",
          "text": [
            "36521it [02:27, 224.13it/s]"
          ]
        },
        {
          "metadata": {
            "tags": null
          },
          "name": "stdout",
          "output_type": "stream",
          "text": [
            "| epoch   3 | 36500/70832 batches | loss    1.624 \n",
            "women: women’s, gender, living, she, working, the, her, identity, culture, and\n",
            "men: life, one, this, to, just, would, on, understanding, have, much\n",
            "nurse: practitioner, affiliates, specialists, collaborates, nursing, hospitals, diverse, experiences, honors, graduated\n",
            "doctor: fixing, college, completed, crowns, implant, provided, from, dental, member, tooth\n",
            "engineer: software, engineering, computer, technical, technology, industry, electrical, systems, worked, senior\n",
            "teacher: teachers, education, elementary, schools, teaching, curriculum, students, taught, literacy, mathematics\n",
            "dietitian: nutrition, registered, with, who, she, cooperates, clinical, practitioner, groups, medical\n",
            "\n",
            "\n"
          ]
        },
        {
          "metadata": {
            "tags": null
          },
          "name": "stderr",
          "output_type": "stream",
          "text": [
            "37023it [02:29, 228.76it/s]"
          ]
        },
        {
          "metadata": {
            "tags": null
          },
          "name": "stdout",
          "output_type": "stream",
          "text": [
            "| epoch   3 | 37000/70832 batches | loss    1.627 \n",
            "women: women’s, gender, living, she, working, the, her, identity, culture, and\n",
            "men: life, one, this, to, just, would, on, understanding, have, much\n",
            "nurse: practitioner, affiliates, specialists, collaborates, nursing, hospitals, diverse, experiences, honors, graduated\n",
            "doctor: fixing, college, completed, crowns, implant, provided, from, dental, member, tooth\n",
            "engineer: software, engineering, computer, technical, technology, industry, electrical, systems, worked, senior\n",
            "teacher: teachers, education, elementary, schools, teaching, curriculum, students, taught, literacy, mathematics\n",
            "dietitian: nutrition, registered, with, who, she, cooperates, clinical, practitioner, groups, medical\n",
            "\n",
            "\n"
          ]
        },
        {
          "metadata": {
            "tags": null
          },
          "name": "stderr",
          "output_type": "stream",
          "text": [
            "37533it [02:31, 225.89it/s]"
          ]
        },
        {
          "metadata": {
            "tags": null
          },
          "name": "stdout",
          "output_type": "stream",
          "text": [
            "| epoch   3 | 37500/70832 batches | loss    1.624 \n",
            "women: women’s, gender, living, she, working, the, her, identity, culture, about\n",
            "men: life, one, this, to, just, would, on, understanding, have, much\n",
            "nurse: practitioner, affiliates, specialists, collaborates, nursing, hospitals, diverse, experiences, honors, graduated\n",
            "doctor: fixing, college, completed, crowns, implant, provided, from, dental, member, tooth\n",
            "engineer: software, engineering, computer, technical, technology, industry, electrical, systems, worked, senior\n",
            "teacher: teachers, education, elementary, schools, teaching, curriculum, students, taught, literacy, mathematics\n",
            "dietitian: nutrition, registered, with, who, she, cooperates, clinical, practitioner, groups, medical\n",
            "\n",
            "\n"
          ]
        },
        {
          "metadata": {
            "tags": null
          },
          "name": "stderr",
          "output_type": "stream",
          "text": [
            "38019it [02:33, 231.69it/s]"
          ]
        },
        {
          "metadata": {
            "tags": null
          },
          "name": "stdout",
          "output_type": "stream",
          "text": [
            "| epoch   3 | 38000/70832 batches | loss    1.623 \n",
            "women: women’s, gender, living, she, working, the, her, identity, and, culture\n",
            "men: life, one, this, to, just, would, on, understanding, have, much\n",
            "nurse: practitioner, affiliates, specialists, collaborates, nursing, hospitals, diverse, experiences, honors, graduated\n",
            "doctor: fixing, college, completed, crowns, implant, provided, from, dental, member, tooth\n",
            "engineer: software, engineering, computer, technical, technology, industry, electrical, systems, worked, senior\n",
            "teacher: teachers, education, elementary, schools, teaching, curriculum, students, taught, literacy, mathematics\n",
            "dietitian: nutrition, registered, with, who, she, cooperates, clinical, practitioner, groups, medical\n",
            "\n",
            "\n"
          ]
        },
        {
          "metadata": {
            "tags": null
          },
          "name": "stderr",
          "output_type": "stream",
          "text": [
            "38510it [02:35, 233.15it/s]"
          ]
        },
        {
          "metadata": {
            "tags": null
          },
          "name": "stdout",
          "output_type": "stream",
          "text": [
            "| epoch   3 | 38500/70832 batches | loss    1.620 \n",
            "women: women’s, gender, living, she, working, the, her, identity, and, culture\n",
            "men: life, one, this, to, just, would, on, understanding, have, much\n",
            "nurse: practitioner, affiliates, specialists, collaborates, nursing, hospitals, diverse, experiences, honors, graduated\n",
            "doctor: fixing, college, completed, crowns, implant, provided, from, dental, member, tooth\n",
            "engineer: software, engineering, computer, technical, technology, electrical, industry, systems, worked, senior\n",
            "teacher: teachers, education, elementary, schools, teaching, curriculum, students, taught, literacy, mathematics\n",
            "dietitian: nutrition, registered, with, who, she, cooperates, clinical, practitioner, groups, medical\n",
            "\n",
            "\n"
          ]
        },
        {
          "metadata": {
            "tags": null
          },
          "name": "stderr",
          "output_type": "stream",
          "text": [
            "39032it [02:37, 232.93it/s]"
          ]
        },
        {
          "metadata": {
            "tags": null
          },
          "name": "stdout",
          "output_type": "stream",
          "text": [
            "| epoch   3 | 39000/70832 batches | loss    1.619 \n",
            "women: women’s, gender, living, she, working, the, her, identity, and, culture\n",
            "men: life, one, this, to, just, would, on, understanding, have, much\n",
            "nurse: practitioner, affiliates, specialists, collaborates, nursing, hospitals, diverse, experiences, honors, graduated\n",
            "doctor: fixing, college, completed, crowns, implant, provided, from, dental, member, tooth\n",
            "engineer: software, engineering, computer, technical, technology, electrical, industry, systems, worked, senior\n",
            "teacher: teachers, education, elementary, schools, teaching, curriculum, students, taught, literacy, mathematics\n",
            "dietitian: nutrition, registered, with, who, she, cooperates, clinical, practitioner, groups, medical\n",
            "\n",
            "\n"
          ]
        },
        {
          "metadata": {
            "tags": null
          },
          "name": "stderr",
          "output_type": "stream",
          "text": [
            "39525it [02:39, 224.39it/s]"
          ]
        },
        {
          "metadata": {
            "tags": null
          },
          "name": "stdout",
          "output_type": "stream",
          "text": [
            "| epoch   3 | 39500/70832 batches | loss    1.628 \n",
            "women: women’s, gender, living, she, the, working, her, identity, culture, about\n",
            "men: life, one, this, to, just, would, on, understanding, have, much\n",
            "nurse: practitioner, affiliates, specialists, collaborates, nursing, hospitals, diverse, experiences, honors, graduated\n",
            "doctor: fixing, college, completed, crowns, implant, provided, from, dental, member, tooth\n",
            "engineer: software, engineering, computer, technical, technology, industry, electrical, systems, worked, senior\n",
            "teacher: teachers, education, elementary, schools, teaching, curriculum, students, taught, literacy, mathematics\n",
            "dietitian: nutrition, registered, with, who, she, cooperates, clinical, practitioner, groups, medical\n",
            "\n",
            "\n"
          ]
        },
        {
          "metadata": {
            "tags": null
          },
          "name": "stderr",
          "output_type": "stream",
          "text": [
            "40018it [02:41, 210.12it/s]"
          ]
        },
        {
          "metadata": {
            "tags": null
          },
          "name": "stdout",
          "output_type": "stream",
          "text": [
            "| epoch   3 | 40000/70832 batches | loss    1.627 \n",
            "women: women’s, gender, living, she, working, the, her, identity, culture, about\n",
            "men: life, one, this, to, just, would, on, understanding, have, much\n",
            "nurse: practitioner, affiliates, specialists, collaborates, nursing, hospitals, diverse, experiences, honors, graduated\n",
            "doctor: fixing, college, completed, crowns, implant, provided, from, dental, member, tooth\n",
            "engineer: software, engineering, computer, technical, technology, industry, electrical, systems, worked, senior\n",
            "teacher: teachers, education, elementary, schools, teaching, curriculum, students, taught, literacy, mathematics\n",
            "dietitian: nutrition, registered, with, she, who, cooperates, clinical, practitioner, groups, medical\n",
            "\n",
            "\n"
          ]
        },
        {
          "metadata": {
            "tags": null
          },
          "name": "stderr",
          "output_type": "stream",
          "text": [
            "40517it [02:43, 227.90it/s]"
          ]
        },
        {
          "metadata": {
            "tags": null
          },
          "name": "stdout",
          "output_type": "stream",
          "text": [
            "| epoch   3 | 40500/70832 batches | loss    1.626 \n",
            "women: women’s, gender, living, she, working, the, her, identity, and, culture\n",
            "men: life, one, this, to, just, would, on, understanding, have, much\n",
            "nurse: practitioner, affiliates, specialists, collaborates, nursing, hospitals, diverse, experiences, honors, graduated\n",
            "doctor: fixing, college, completed, crowns, implant, provided, from, dental, member, tooth\n",
            "engineer: software, engineering, computer, technical, technology, industry, electrical, systems, worked, senior\n",
            "teacher: teachers, education, elementary, schools, teaching, curriculum, students, taught, literacy, mathematics\n",
            "dietitian: nutrition, registered, with, she, who, cooperates, clinical, practitioner, groups, medical\n",
            "\n",
            "\n"
          ]
        },
        {
          "metadata": {
            "tags": null
          },
          "name": "stderr",
          "output_type": "stream",
          "text": [
            "41014it [02:45, 231.25it/s]"
          ]
        },
        {
          "metadata": {
            "tags": null
          },
          "name": "stdout",
          "output_type": "stream",
          "text": [
            "| epoch   3 | 41000/70832 batches | loss    1.614 \n",
            "women: women’s, gender, living, she, working, the, her, identity, and, culture\n",
            "men: life, one, this, to, just, would, on, understanding, have, much\n",
            "nurse: practitioner, affiliates, specialists, collaborates, nursing, hospitals, diverse, experiences, honors, graduated\n",
            "doctor: fixing, college, completed, crowns, implant, provided, from, dental, member, tooth\n",
            "engineer: software, engineering, computer, technical, technology, industry, electrical, systems, worked, senior\n",
            "teacher: teachers, education, elementary, schools, teaching, curriculum, students, taught, literacy, mathematics\n",
            "dietitian: nutrition, registered, with, who, she, cooperates, clinical, practitioner, groups, medical\n",
            "\n",
            "\n"
          ]
        },
        {
          "metadata": {
            "tags": null
          },
          "name": "stderr",
          "output_type": "stream",
          "text": [
            "41515it [02:46, 233.71it/s]"
          ]
        },
        {
          "metadata": {
            "tags": null
          },
          "name": "stdout",
          "output_type": "stream",
          "text": [
            "| epoch   3 | 41500/70832 batches | loss    1.620 \n",
            "women: women’s, gender, living, she, working, the, her, identity, and, culture\n",
            "men: life, one, this, to, just, would, on, understanding, have, much\n",
            "nurse: practitioner, affiliates, specialists, collaborates, nursing, hospitals, diverse, experiences, honors, graduated\n",
            "doctor: fixing, college, completed, crowns, implant, provided, from, dental, member, tooth\n",
            "engineer: software, engineering, computer, technical, technology, industry, electrical, systems, worked, senior\n",
            "teacher: teachers, education, elementary, schools, teaching, curriculum, students, taught, literacy, mathematics\n",
            "dietitian: nutrition, registered, with, who, she, cooperates, clinical, practitioner, groups, medical\n",
            "\n",
            "\n"
          ]
        },
        {
          "metadata": {
            "tags": null
          },
          "name": "stderr",
          "output_type": "stream",
          "text": [
            "42028it [02:49, 221.84it/s]"
          ]
        },
        {
          "metadata": {
            "tags": null
          },
          "name": "stdout",
          "output_type": "stream",
          "text": [
            "| epoch   3 | 42000/70832 batches | loss    1.627 \n",
            "women: women’s, gender, living, she, working, the, her, identity, and, culture\n",
            "men: life, one, this, to, just, would, on, understanding, have, much\n",
            "nurse: practitioner, affiliates, specialists, collaborates, nursing, hospitals, diverse, experiences, honors, graduated\n",
            "doctor: fixing, college, completed, crowns, implant, provided, from, dental, member, tooth\n",
            "engineer: software, engineering, computer, technical, technology, industry, electrical, systems, worked, senior\n",
            "teacher: teachers, education, elementary, schools, teaching, curriculum, students, taught, literacy, mathematics\n",
            "dietitian: nutrition, registered, with, who, she, cooperates, clinical, practitioner, groups, medical\n",
            "\n",
            "\n"
          ]
        },
        {
          "metadata": {
            "tags": null
          },
          "name": "stderr",
          "output_type": "stream",
          "text": [
            "42526it [02:50, 231.00it/s]"
          ]
        },
        {
          "metadata": {
            "tags": null
          },
          "name": "stdout",
          "output_type": "stream",
          "text": [
            "| epoch   3 | 42500/70832 batches | loss    1.623 \n",
            "women: women’s, gender, living, she, working, the, her, identity, and, culture\n",
            "men: life, one, this, to, just, would, on, understanding, have, much\n",
            "nurse: practitioner, affiliates, specialists, collaborates, nursing, hospitals, diverse, experiences, honors, graduated\n",
            "doctor: fixing, college, completed, crowns, implant, provided, from, dental, member, tooth\n",
            "engineer: software, engineering, computer, technical, technology, industry, electrical, systems, worked, senior\n",
            "teacher: teachers, education, elementary, schools, teaching, curriculum, students, taught, literacy, mathematics\n",
            "dietitian: nutrition, registered, with, she, who, cooperates, clinical, practitioner, groups, medical\n",
            "\n",
            "\n"
          ]
        },
        {
          "metadata": {
            "tags": null
          },
          "name": "stderr",
          "output_type": "stream",
          "text": [
            "43026it [02:52, 214.06it/s]"
          ]
        },
        {
          "metadata": {
            "tags": null
          },
          "name": "stdout",
          "output_type": "stream",
          "text": [
            "| epoch   3 | 43000/70832 batches | loss    1.623 \n",
            "women: women’s, gender, living, she, working, the, her, identity, and, culture\n",
            "men: life, one, this, to, just, would, on, understanding, have, much\n",
            "nurse: practitioner, affiliates, specialists, collaborates, nursing, hospitals, diverse, experiences, honors, graduated\n",
            "doctor: fixing, college, completed, crowns, implant, provided, from, dental, member, tooth\n",
            "engineer: software, engineering, computer, technical, technology, industry, electrical, systems, worked, senior\n",
            "teacher: teachers, education, elementary, schools, teaching, curriculum, students, taught, literacy, mathematics\n",
            "dietitian: nutrition, registered, with, she, who, cooperates, clinical, practitioner, groups, medical\n",
            "\n",
            "\n"
          ]
        },
        {
          "metadata": {
            "tags": null
          },
          "name": "stderr",
          "output_type": "stream",
          "text": [
            "43528it [02:54, 230.38it/s]"
          ]
        },
        {
          "metadata": {
            "tags": null
          },
          "name": "stdout",
          "output_type": "stream",
          "text": [
            "| epoch   3 | 43500/70832 batches | loss    1.619 \n",
            "women: women’s, gender, living, she, working, the, her, identity, and, culture\n",
            "men: life, one, this, to, just, would, understanding, have, on, much\n",
            "nurse: practitioner, affiliates, specialists, collaborates, nursing, hospitals, diverse, experiences, honors, graduated\n",
            "doctor: fixing, college, completed, crowns, implant, provided, from, dental, member, tooth\n",
            "engineer: software, engineering, computer, technical, technology, industry, electrical, systems, worked, senior\n",
            "teacher: teachers, education, elementary, schools, teaching, curriculum, students, taught, literacy, mathematics\n",
            "dietitian: nutrition, registered, with, who, she, cooperates, clinical, practitioner, groups, medical\n",
            "\n",
            "\n"
          ]
        },
        {
          "metadata": {
            "tags": null
          },
          "name": "stderr",
          "output_type": "stream",
          "text": [
            "44019it [02:56, 227.75it/s]"
          ]
        },
        {
          "metadata": {
            "tags": null
          },
          "name": "stdout",
          "output_type": "stream",
          "text": [
            "| epoch   3 | 44000/70832 batches | loss    1.621 \n",
            "women: women’s, gender, living, she, working, the, her, identity, and, culture\n",
            "men: life, one, this, to, just, would, understanding, have, on, much\n",
            "nurse: practitioner, affiliates, specialists, collaborates, nursing, hospitals, diverse, experiences, honors, graduated\n",
            "doctor: fixing, college, completed, crowns, implant, provided, from, dental, member, tooth\n",
            "engineer: software, engineering, computer, technical, technology, industry, electrical, systems, worked, senior\n",
            "teacher: teachers, education, elementary, schools, teaching, curriculum, students, taught, literacy, mathematics\n",
            "dietitian: nutrition, registered, with, who, she, cooperates, clinical, practitioner, groups, medical\n",
            "\n",
            "\n"
          ]
        },
        {
          "metadata": {
            "tags": null
          },
          "name": "stderr",
          "output_type": "stream",
          "text": [
            "44520it [02:58, 231.46it/s]"
          ]
        },
        {
          "metadata": {
            "tags": null
          },
          "name": "stdout",
          "output_type": "stream",
          "text": [
            "| epoch   3 | 44500/70832 batches | loss    1.624 \n",
            "women: women’s, gender, living, she, working, the, her, identity, culture, which\n",
            "men: life, one, this, to, just, would, understanding, have, on, much\n",
            "nurse: practitioner, affiliates, specialists, collaborates, nursing, hospitals, diverse, experiences, honors, graduated\n",
            "doctor: fixing, college, completed, crowns, implant, provided, from, dental, member, tooth\n",
            "engineer: software, engineering, computer, technical, technology, industry, electrical, systems, worked, senior\n",
            "teacher: teachers, education, elementary, schools, teaching, curriculum, students, taught, literacy, mathematics\n",
            "dietitian: nutrition, registered, with, who, she, cooperates, clinical, practitioner, groups, medical\n",
            "\n",
            "\n"
          ]
        },
        {
          "metadata": {
            "tags": null
          },
          "name": "stderr",
          "output_type": "stream",
          "text": [
            "45023it [03:00, 223.50it/s]"
          ]
        },
        {
          "metadata": {
            "tags": null
          },
          "name": "stdout",
          "output_type": "stream",
          "text": [
            "| epoch   3 | 45000/70832 batches | loss    1.625 \n",
            "women: women’s, gender, living, she, working, the, her, identity, culture, and\n",
            "men: life, one, this, to, just, would, understanding, on, have, much\n",
            "nurse: practitioner, affiliates, specialists, collaborates, nursing, hospitals, diverse, experiences, honors, graduated\n",
            "doctor: fixing, college, completed, crowns, implant, provided, from, dental, member, tooth\n",
            "engineer: software, engineering, computer, technical, technology, industry, electrical, systems, worked, senior\n",
            "teacher: teachers, education, elementary, schools, teaching, curriculum, students, taught, literacy, mathematics\n",
            "dietitian: nutrition, registered, with, who, she, cooperates, clinical, practitioner, groups, medical\n",
            "\n",
            "\n"
          ]
        },
        {
          "metadata": {
            "tags": null
          },
          "name": "stderr",
          "output_type": "stream",
          "text": [
            "45534it [03:02, 236.86it/s]"
          ]
        },
        {
          "metadata": {
            "tags": null
          },
          "name": "stdout",
          "output_type": "stream",
          "text": [
            "| epoch   3 | 45500/70832 batches | loss    1.622 \n",
            "women: women’s, gender, living, she, working, the, her, identity, culture, which\n",
            "men: life, one, this, to, just, would, understanding, have, on, much\n",
            "nurse: practitioner, affiliates, specialists, collaborates, nursing, hospitals, diverse, experiences, honors, graduated\n",
            "doctor: fixing, college, completed, crowns, implant, provided, from, dental, member, tooth\n",
            "engineer: software, engineering, computer, technical, technology, industry, electrical, systems, worked, senior\n",
            "teacher: teachers, education, elementary, schools, teaching, curriculum, students, taught, literacy, mathematics\n",
            "dietitian: nutrition, registered, with, who, she, cooperates, clinical, practitioner, groups, medical\n",
            "\n",
            "\n"
          ]
        },
        {
          "metadata": {
            "tags": null
          },
          "name": "stderr",
          "output_type": "stream",
          "text": [
            "46031it [03:04, 233.30it/s]"
          ]
        },
        {
          "metadata": {
            "tags": null
          },
          "name": "stdout",
          "output_type": "stream",
          "text": [
            "| epoch   3 | 46000/70832 batches | loss    1.624 \n",
            "women: women’s, gender, living, she, working, the, her, identity, culture, which\n",
            "men: life, one, this, to, just, would, understanding, have, on, much\n",
            "nurse: practitioner, affiliates, specialists, collaborates, nursing, hospitals, diverse, experiences, honors, graduated\n",
            "doctor: fixing, college, completed, crowns, implant, provided, from, dental, member, tooth\n",
            "engineer: software, engineering, computer, technical, technology, industry, electrical, systems, worked, senior\n",
            "teacher: teachers, education, elementary, schools, teaching, curriculum, students, taught, literacy, mathematics\n",
            "dietitian: nutrition, registered, with, who, she, cooperates, clinical, practitioner, groups, medical\n",
            "\n",
            "\n"
          ]
        },
        {
          "metadata": {
            "tags": null
          },
          "name": "stderr",
          "output_type": "stream",
          "text": [
            "46527it [03:06, 231.38it/s]"
          ]
        },
        {
          "metadata": {
            "tags": null
          },
          "name": "stdout",
          "output_type": "stream",
          "text": [
            "| epoch   3 | 46500/70832 batches | loss    1.627 \n",
            "women: women’s, gender, living, she, working, the, her, identity, culture, which\n",
            "men: life, one, this, to, just, would, have, understanding, on, much\n",
            "nurse: practitioner, affiliates, specialists, collaborates, nursing, hospitals, diverse, experiences, honors, graduated\n",
            "doctor: fixing, college, completed, crowns, implant, provided, from, dental, member, tooth\n",
            "engineer: software, engineering, computer, technical, technology, industry, electrical, systems, worked, senior\n",
            "teacher: teachers, education, elementary, schools, teaching, curriculum, students, taught, literacy, mathematics\n",
            "dietitian: nutrition, registered, with, she, who, cooperates, clinical, practitioner, groups, medical\n",
            "\n",
            "\n"
          ]
        },
        {
          "metadata": {
            "tags": null
          },
          "name": "stderr",
          "output_type": "stream",
          "text": [
            "47027it [03:08, 225.34it/s]"
          ]
        },
        {
          "metadata": {
            "tags": null
          },
          "name": "stdout",
          "output_type": "stream",
          "text": [
            "| epoch   3 | 47000/70832 batches | loss    1.623 \n",
            "women: women’s, gender, living, she, working, the, her, identity, culture, which\n",
            "men: life, one, this, to, just, would, have, understanding, on, much\n",
            "nurse: practitioner, affiliates, specialists, collaborates, nursing, hospitals, diverse, experiences, honors, graduated\n",
            "doctor: fixing, college, completed, crowns, implant, provided, from, dental, member, tooth\n",
            "engineer: software, engineering, computer, technical, technology, industry, electrical, systems, worked, senior\n",
            "teacher: teachers, education, elementary, schools, teaching, curriculum, students, taught, literacy, mathematics\n",
            "dietitian: nutrition, registered, with, she, who, cooperates, clinical, practitioner, groups, medical\n",
            "\n",
            "\n"
          ]
        },
        {
          "metadata": {
            "tags": null
          },
          "name": "stderr",
          "output_type": "stream",
          "text": [
            "47526it [03:10, 224.82it/s]"
          ]
        },
        {
          "metadata": {
            "tags": null
          },
          "name": "stdout",
          "output_type": "stream",
          "text": [
            "| epoch   3 | 47500/70832 batches | loss    1.620 \n",
            "women: women’s, gender, living, she, working, the, her, identity, culture, and\n",
            "men: life, one, this, to, just, would, have, understanding, on, much\n",
            "nurse: practitioner, affiliates, specialists, collaborates, nursing, hospitals, diverse, experiences, honors, graduated\n",
            "doctor: fixing, college, completed, crowns, implant, provided, from, dental, member, tooth\n",
            "engineer: software, engineering, computer, technical, technology, industry, electrical, systems, worked, senior\n",
            "teacher: teachers, education, elementary, schools, teaching, curriculum, students, taught, literacy, mathematics\n",
            "dietitian: nutrition, registered, with, she, who, cooperates, clinical, practitioner, groups, medical\n",
            "\n",
            "\n"
          ]
        },
        {
          "metadata": {
            "tags": null
          },
          "name": "stderr",
          "output_type": "stream",
          "text": [
            "48023it [03:12, 225.47it/s]"
          ]
        },
        {
          "metadata": {
            "tags": null
          },
          "name": "stdout",
          "output_type": "stream",
          "text": [
            "| epoch   3 | 48000/70832 batches | loss    1.622 \n",
            "women: women’s, gender, living, she, working, the, her, identity, culture, which\n",
            "men: life, one, this, to, just, would, have, understanding, on, much\n",
            "nurse: practitioner, affiliates, specialists, collaborates, nursing, hospitals, diverse, experiences, honors, graduated\n",
            "doctor: fixing, college, completed, crowns, implant, provided, from, dental, member, tooth\n",
            "engineer: software, engineering, computer, technical, technology, industry, electrical, systems, worked, senior\n",
            "teacher: teachers, education, elementary, schools, teaching, curriculum, students, taught, literacy, mathematics\n",
            "dietitian: nutrition, registered, with, she, who, cooperates, clinical, practitioner, groups, medical\n",
            "\n",
            "\n"
          ]
        },
        {
          "metadata": {
            "tags": null
          },
          "name": "stderr",
          "output_type": "stream",
          "text": [
            "48525it [03:14, 228.03it/s]"
          ]
        },
        {
          "metadata": {
            "tags": null
          },
          "name": "stdout",
          "output_type": "stream",
          "text": [
            "| epoch   3 | 48500/70832 batches | loss    1.619 \n",
            "women: women’s, gender, living, she, the, working, her, identity, culture, and\n",
            "men: life, one, this, to, just, would, understanding, have, on, much\n",
            "nurse: practitioner, affiliates, specialists, collaborates, nursing, hospitals, diverse, experiences, honors, graduated\n",
            "doctor: fixing, college, completed, crowns, implant, provided, from, dental, member, tooth\n",
            "engineer: software, engineering, computer, technical, technology, industry, electrical, systems, worked, senior\n",
            "teacher: teachers, education, elementary, schools, teaching, curriculum, students, taught, literacy, mathematics\n",
            "dietitian: nutrition, registered, with, she, who, cooperates, clinical, practitioner, groups, medical\n",
            "\n",
            "\n"
          ]
        },
        {
          "metadata": {
            "tags": null
          },
          "name": "stderr",
          "output_type": "stream",
          "text": [
            "49017it [03:16, 229.53it/s]"
          ]
        },
        {
          "metadata": {
            "tags": null
          },
          "name": "stdout",
          "output_type": "stream",
          "text": [
            "| epoch   3 | 49000/70832 batches | loss    1.622 \n",
            "women: women’s, gender, living, she, working, the, her, identity, and, culture\n",
            "men: life, one, this, to, just, would, understanding, have, on, much\n",
            "nurse: practitioner, affiliates, specialists, collaborates, nursing, hospitals, diverse, experiences, honors, graduated\n",
            "doctor: fixing, college, completed, crowns, implant, provided, from, dental, member, tooth\n",
            "engineer: software, engineering, computer, technical, technology, industry, electrical, systems, worked, senior\n",
            "teacher: teachers, education, elementary, schools, teaching, curriculum, students, taught, literacy, mathematics\n",
            "dietitian: nutrition, registered, with, she, who, cooperates, clinical, practitioner, groups, medical\n",
            "\n",
            "\n"
          ]
        },
        {
          "metadata": {
            "tags": null
          },
          "name": "stderr",
          "output_type": "stream",
          "text": [
            "49515it [03:18, 235.89it/s]"
          ]
        },
        {
          "metadata": {
            "tags": null
          },
          "name": "stdout",
          "output_type": "stream",
          "text": [
            "| epoch   3 | 49500/70832 batches | loss    1.624 \n",
            "women: women’s, gender, living, she, working, the, her, identity, and, culture\n",
            "men: life, one, this, to, just, would, have, understanding, on, much\n",
            "nurse: practitioner, affiliates, specialists, collaborates, nursing, hospitals, diverse, experiences, honors, graduated\n",
            "doctor: fixing, college, completed, crowns, implant, provided, from, dental, member, tooth\n",
            "engineer: software, engineering, computer, technical, technology, industry, electrical, systems, worked, senior\n",
            "teacher: teachers, education, elementary, schools, teaching, curriculum, students, taught, literacy, mathematics\n",
            "dietitian: nutrition, registered, with, she, who, cooperates, clinical, practitioner, groups, medical\n",
            "\n",
            "\n"
          ]
        },
        {
          "metadata": {
            "tags": null
          },
          "name": "stderr",
          "output_type": "stream",
          "text": [
            "50029it [03:20, 232.24it/s]"
          ]
        },
        {
          "metadata": {
            "tags": null
          },
          "name": "stdout",
          "output_type": "stream",
          "text": [
            "| epoch   3 | 50000/70832 batches | loss    1.617 \n",
            "women: women’s, gender, living, she, working, the, her, identity, and, culture\n",
            "men: life, one, this, to, just, would, have, understanding, on, much\n",
            "nurse: practitioner, affiliates, specialists, collaborates, nursing, hospitals, diverse, experiences, honors, graduated\n",
            "doctor: fixing, college, completed, crowns, implant, provided, from, dental, member, tooth\n",
            "engineer: software, engineering, computer, technical, technology, industry, electrical, systems, worked, senior\n",
            "teacher: teachers, education, elementary, schools, teaching, curriculum, students, taught, literacy, mathematics\n",
            "dietitian: nutrition, registered, with, she, who, cooperates, clinical, practitioner, groups, medical\n",
            "\n",
            "\n"
          ]
        },
        {
          "metadata": {
            "tags": null
          },
          "name": "stderr",
          "output_type": "stream",
          "text": [
            "50529it [03:22, 226.95it/s]"
          ]
        },
        {
          "metadata": {
            "tags": null
          },
          "name": "stdout",
          "output_type": "stream",
          "text": [
            "| epoch   3 | 50500/70832 batches | loss    1.626 \n",
            "women: women’s, gender, living, she, working, the, her, and, identity, culture\n",
            "men: life, one, this, to, just, would, understanding, have, on, much\n",
            "nurse: practitioner, affiliates, specialists, collaborates, nursing, hospitals, diverse, experiences, honors, graduated\n",
            "doctor: fixing, college, completed, crowns, implant, provided, from, dental, member, tooth\n",
            "engineer: software, engineering, computer, technical, technology, industry, electrical, systems, worked, senior\n",
            "teacher: teachers, education, elementary, schools, teaching, curriculum, students, taught, literacy, mathematics\n",
            "dietitian: nutrition, registered, with, she, who, cooperates, clinical, practitioner, groups, medical\n",
            "\n",
            "\n"
          ]
        },
        {
          "metadata": {
            "tags": null
          },
          "name": "stderr",
          "output_type": "stream",
          "text": [
            "51027it [03:24, 232.69it/s]"
          ]
        },
        {
          "metadata": {
            "tags": null
          },
          "name": "stdout",
          "output_type": "stream",
          "text": [
            "| epoch   3 | 51000/70832 batches | loss    1.621 \n",
            "women: women’s, gender, living, the, she, working, her, and, identity, culture\n",
            "men: life, one, this, to, just, would, understanding, have, on, much\n",
            "nurse: practitioner, affiliates, specialists, collaborates, nursing, hospitals, diverse, experiences, honors, graduated\n",
            "doctor: fixing, college, completed, crowns, implant, provided, from, dental, member, tooth\n",
            "engineer: software, engineering, computer, technical, technology, industry, electrical, systems, worked, senior\n",
            "teacher: teachers, education, elementary, schools, teaching, curriculum, students, taught, literacy, mathematics\n",
            "dietitian: nutrition, registered, with, she, who, cooperates, clinical, practitioner, groups, medical\n",
            "\n",
            "\n"
          ]
        },
        {
          "metadata": {
            "tags": null
          },
          "name": "stderr",
          "output_type": "stream",
          "text": [
            "51524it [03:26, 217.71it/s]"
          ]
        },
        {
          "metadata": {
            "tags": null
          },
          "name": "stdout",
          "output_type": "stream",
          "text": [
            "| epoch   3 | 51500/70832 batches | loss    1.620 \n",
            "women: women’s, gender, living, she, working, the, her, and, identity, culture\n",
            "men: life, one, this, to, just, would, understanding, have, on, much\n",
            "nurse: practitioner, affiliates, specialists, collaborates, nursing, hospitals, diverse, experiences, honors, graduated\n",
            "doctor: fixing, college, completed, crowns, implant, provided, from, dental, member, tooth\n",
            "engineer: software, engineering, computer, technical, technology, industry, electrical, systems, worked, senior\n",
            "teacher: teachers, education, elementary, schools, teaching, curriculum, students, taught, literacy, mathematics\n",
            "dietitian: nutrition, registered, with, she, who, cooperates, clinical, practitioner, groups, medical\n",
            "\n",
            "\n"
          ]
        },
        {
          "metadata": {
            "tags": null
          },
          "name": "stderr",
          "output_type": "stream",
          "text": [
            "52028it [03:28, 224.74it/s]"
          ]
        },
        {
          "metadata": {
            "tags": null
          },
          "name": "stdout",
          "output_type": "stream",
          "text": [
            "| epoch   3 | 52000/70832 batches | loss    1.621 \n",
            "women: women’s, gender, living, she, working, the, her, and, identity, culture\n",
            "men: life, one, this, to, just, would, understanding, have, on, much\n",
            "nurse: practitioner, affiliates, specialists, collaborates, nursing, hospitals, diverse, experiences, honors, graduated\n",
            "doctor: fixing, college, completed, crowns, implant, provided, from, dental, member, tooth\n",
            "engineer: software, engineering, computer, technical, technology, industry, electrical, systems, worked, senior\n",
            "teacher: teachers, education, elementary, schools, teaching, curriculum, students, taught, literacy, mathematics\n",
            "dietitian: nutrition, registered, with, she, who, cooperates, clinical, practitioner, groups, medical\n",
            "\n",
            "\n"
          ]
        },
        {
          "metadata": {
            "tags": null
          },
          "name": "stderr",
          "output_type": "stream",
          "text": [
            "52526it [03:30, 216.92it/s]"
          ]
        },
        {
          "metadata": {
            "tags": null
          },
          "name": "stdout",
          "output_type": "stream",
          "text": [
            "| epoch   3 | 52500/70832 batches | loss    1.616 \n",
            "women: women’s, gender, living, she, working, the, her, and, identity, culture\n",
            "men: life, one, this, to, just, would, understanding, have, on, much\n",
            "nurse: practitioner, affiliates, specialists, collaborates, nursing, hospitals, diverse, experiences, honors, graduated\n",
            "doctor: fixing, college, completed, crowns, implant, provided, from, dental, member, tooth\n",
            "engineer: software, engineering, computer, technical, technology, industry, electrical, systems, worked, senior\n",
            "teacher: teachers, education, elementary, schools, teaching, curriculum, students, taught, literacy, mathematics\n",
            "dietitian: nutrition, registered, with, she, who, cooperates, clinical, practitioner, groups, medical\n",
            "\n",
            "\n"
          ]
        },
        {
          "metadata": {
            "tags": null
          },
          "name": "stderr",
          "output_type": "stream",
          "text": [
            "53027it [03:32, 225.39it/s]"
          ]
        },
        {
          "metadata": {
            "tags": null
          },
          "name": "stdout",
          "output_type": "stream",
          "text": [
            "| epoch   3 | 53000/70832 batches | loss    1.618 \n",
            "women: women’s, gender, living, she, working, the, her, and, identity, culture\n",
            "men: life, one, this, to, just, would, understanding, have, on, much\n",
            "nurse: practitioner, affiliates, specialists, collaborates, nursing, hospitals, diverse, experiences, honors, graduated\n",
            "doctor: fixing, college, completed, crowns, implant, provided, from, dental, member, tooth\n",
            "engineer: software, engineering, computer, technical, technology, industry, electrical, systems, worked, senior\n",
            "teacher: teachers, education, elementary, schools, teaching, curriculum, students, taught, literacy, mathematics\n",
            "dietitian: nutrition, registered, with, she, who, cooperates, clinical, practitioner, groups, medical\n",
            "\n",
            "\n"
          ]
        },
        {
          "metadata": {
            "tags": null
          },
          "name": "stderr",
          "output_type": "stream",
          "text": [
            "53526it [03:33, 228.35it/s]"
          ]
        },
        {
          "metadata": {
            "tags": null
          },
          "name": "stdout",
          "output_type": "stream",
          "text": [
            "| epoch   3 | 53500/70832 batches | loss    1.621 \n",
            "women: women’s, gender, living, she, working, the, her, and, identity, culture\n",
            "men: life, one, this, to, just, would, understanding, have, on, much\n",
            "nurse: practitioner, affiliates, specialists, collaborates, nursing, hospitals, diverse, experiences, honors, graduated\n",
            "doctor: fixing, college, completed, crowns, implant, provided, from, member, dental, tooth\n",
            "engineer: software, engineering, computer, technical, technology, industry, electrical, systems, worked, senior\n",
            "teacher: teachers, education, elementary, schools, teaching, curriculum, students, taught, literacy, mathematics\n",
            "dietitian: nutrition, registered, with, she, who, cooperates, clinical, practitioner, groups, medical\n",
            "\n",
            "\n"
          ]
        },
        {
          "metadata": {
            "tags": null
          },
          "name": "stderr",
          "output_type": "stream",
          "text": [
            "54024it [03:35, 223.83it/s]"
          ]
        },
        {
          "metadata": {
            "tags": null
          },
          "name": "stdout",
          "output_type": "stream",
          "text": [
            "| epoch   3 | 54000/70832 batches | loss    1.619 \n",
            "women: women’s, gender, living, she, working, the, her, and, identity, culture\n",
            "men: life, one, this, to, just, would, understanding, have, on, much\n",
            "nurse: practitioner, affiliates, specialists, collaborates, nursing, hospitals, diverse, experiences, honors, graduated\n",
            "doctor: fixing, college, completed, crowns, implant, provided, from, member, dental, tooth\n",
            "engineer: software, engineering, computer, technical, technology, industry, electrical, systems, worked, senior\n",
            "teacher: teachers, education, elementary, schools, teaching, curriculum, students, taught, literacy, mathematics\n",
            "dietitian: nutrition, registered, with, she, who, cooperates, clinical, practitioner, groups, medical\n",
            "\n",
            "\n"
          ]
        },
        {
          "metadata": {
            "tags": null
          },
          "name": "stderr",
          "output_type": "stream",
          "text": [
            "54508it [03:37, 220.28it/s]"
          ]
        },
        {
          "metadata": {
            "tags": null
          },
          "name": "stdout",
          "output_type": "stream",
          "text": [
            "| epoch   3 | 54500/70832 batches | loss    1.621 \n",
            "women: women’s, gender, living, she, working, the, her, and, identity, culture\n",
            "men: life, one, this, to, just, would, understanding, have, on, much\n",
            "nurse: practitioner, affiliates, specialists, collaborates, nursing, hospitals, diverse, experiences, honors, graduated\n",
            "doctor: fixing, college, completed, crowns, implant, provided, from, member, dental, tooth\n",
            "engineer: software, engineering, computer, technical, technology, electrical, industry, systems, worked, senior\n",
            "teacher: teachers, education, elementary, schools, teaching, curriculum, students, taught, literacy, mathematics\n",
            "dietitian: nutrition, registered, with, she, who, cooperates, clinical, practitioner, groups, medical\n",
            "\n",
            "\n"
          ]
        },
        {
          "metadata": {
            "tags": null
          },
          "name": "stderr",
          "output_type": "stream",
          "text": [
            "55022it [03:39, 218.14it/s]"
          ]
        },
        {
          "metadata": {
            "tags": null
          },
          "name": "stdout",
          "output_type": "stream",
          "text": [
            "| epoch   3 | 55000/70832 batches | loss    1.620 \n",
            "women: women’s, gender, living, she, working, the, her, and, identity, culture\n",
            "men: life, this, one, to, just, would, understanding, have, on, much\n",
            "nurse: practitioner, affiliates, specialists, collaborates, nursing, hospitals, diverse, experiences, honors, graduated\n",
            "doctor: fixing, college, completed, crowns, implant, provided, from, member, dental, tooth\n",
            "engineer: software, engineering, computer, technical, technology, industry, electrical, systems, worked, senior\n",
            "teacher: teachers, education, elementary, schools, teaching, curriculum, students, taught, literacy, mathematics\n",
            "dietitian: nutrition, registered, with, who, she, cooperates, clinical, practitioner, groups, medical\n",
            "\n",
            "\n"
          ]
        },
        {
          "metadata": {
            "tags": null
          },
          "name": "stderr",
          "output_type": "stream",
          "text": [
            "55523it [03:41, 228.97it/s]"
          ]
        },
        {
          "metadata": {
            "tags": null
          },
          "name": "stdout",
          "output_type": "stream",
          "text": [
            "| epoch   3 | 55500/70832 batches | loss    1.622 \n",
            "women: women’s, gender, living, she, working, the, her, and, identity, culture\n",
            "men: life, this, one, to, just, would, understanding, have, on, much\n",
            "nurse: practitioner, affiliates, specialists, collaborates, nursing, hospitals, diverse, experiences, honors, graduated\n",
            "doctor: fixing, college, completed, crowns, implant, provided, from, member, dental, tooth\n",
            "engineer: software, engineering, computer, technical, technology, industry, electrical, systems, worked, senior\n",
            "teacher: teachers, education, elementary, schools, teaching, curriculum, students, taught, literacy, mathematics\n",
            "dietitian: nutrition, registered, with, who, she, cooperates, clinical, practitioner, groups, medical\n",
            "\n",
            "\n"
          ]
        },
        {
          "metadata": {
            "tags": null
          },
          "name": "stderr",
          "output_type": "stream",
          "text": [
            "56017it [03:43, 229.37it/s]"
          ]
        },
        {
          "metadata": {
            "tags": null
          },
          "name": "stdout",
          "output_type": "stream",
          "text": [
            "| epoch   3 | 56000/70832 batches | loss    1.615 \n",
            "women: women’s, gender, living, she, working, the, her, and, identity, culture\n",
            "men: life, this, one, to, just, would, understanding, have, on, much\n",
            "nurse: practitioner, affiliates, specialists, collaborates, nursing, hospitals, diverse, experiences, honors, graduated\n",
            "doctor: fixing, college, completed, crowns, implant, provided, from, member, dental, tooth\n",
            "engineer: software, engineering, computer, technical, technology, industry, electrical, systems, worked, senior\n",
            "teacher: teachers, education, elementary, schools, teaching, curriculum, students, taught, literacy, mathematics\n",
            "dietitian: nutrition, registered, with, who, she, cooperates, clinical, practitioner, groups, medical\n",
            "\n",
            "\n"
          ]
        },
        {
          "metadata": {
            "tags": null
          },
          "name": "stderr",
          "output_type": "stream",
          "text": [
            "56529it [03:45, 229.31it/s]"
          ]
        },
        {
          "metadata": {
            "tags": null
          },
          "name": "stdout",
          "output_type": "stream",
          "text": [
            "| epoch   3 | 56500/70832 batches | loss    1.619 \n",
            "women: women’s, gender, living, working, she, the, her, and, identity, culture\n",
            "men: life, this, one, to, just, would, understanding, have, on, much\n",
            "nurse: practitioner, affiliates, specialists, collaborates, nursing, hospitals, diverse, experiences, honors, graduated\n",
            "doctor: fixing, college, completed, crowns, implant, provided, from, member, dental, tooth\n",
            "engineer: software, engineering, computer, technical, technology, industry, electrical, systems, worked, senior\n",
            "teacher: teachers, education, elementary, schools, teaching, curriculum, students, taught, literacy, mathematics\n",
            "dietitian: nutrition, registered, with, who, she, cooperates, clinical, practitioner, groups, medical\n",
            "\n",
            "\n"
          ]
        },
        {
          "metadata": {
            "tags": null
          },
          "name": "stderr",
          "output_type": "stream",
          "text": [
            "57022it [03:47, 219.14it/s]"
          ]
        },
        {
          "metadata": {
            "tags": null
          },
          "name": "stdout",
          "output_type": "stream",
          "text": [
            "| epoch   3 | 57000/70832 batches | loss    1.624 \n",
            "women: women’s, gender, living, she, working, the, her, and, identity, culture\n",
            "men: life, this, one, to, just, would, understanding, on, have, much\n",
            "nurse: practitioner, affiliates, specialists, collaborates, nursing, hospitals, diverse, experiences, honors, graduated\n",
            "doctor: fixing, college, completed, crowns, implant, provided, from, member, dental, tooth\n",
            "engineer: software, engineering, computer, technical, technology, industry, electrical, systems, worked, senior\n",
            "teacher: teachers, education, elementary, schools, teaching, curriculum, students, taught, literacy, mathematics\n",
            "dietitian: nutrition, registered, with, who, she, cooperates, clinical, practitioner, groups, medical\n",
            "\n",
            "\n"
          ]
        },
        {
          "metadata": {
            "tags": null
          },
          "name": "stderr",
          "output_type": "stream",
          "text": [
            "57535it [03:49, 229.19it/s]"
          ]
        },
        {
          "metadata": {
            "tags": null
          },
          "name": "stdout",
          "output_type": "stream",
          "text": [
            "| epoch   3 | 57500/70832 batches | loss    1.620 \n",
            "women: women’s, gender, living, she, working, the, her, and, identity, culture\n",
            "men: life, this, one, to, just, would, understanding, have, on, much\n",
            "nurse: practitioner, affiliates, specialists, collaborates, nursing, hospitals, diverse, experiences, honors, graduated\n",
            "doctor: fixing, college, completed, crowns, implant, provided, from, member, dental, tooth\n",
            "engineer: software, engineering, computer, technical, technology, industry, electrical, systems, worked, senior\n",
            "teacher: teachers, education, elementary, schools, teaching, curriculum, students, taught, literacy, mathematics\n",
            "dietitian: nutrition, registered, with, who, she, cooperates, clinical, practitioner, groups, medical\n",
            "\n",
            "\n"
          ]
        },
        {
          "metadata": {
            "tags": null
          },
          "name": "stderr",
          "output_type": "stream",
          "text": [
            "58028it [03:51, 231.60it/s]"
          ]
        },
        {
          "metadata": {
            "tags": null
          },
          "name": "stdout",
          "output_type": "stream",
          "text": [
            "| epoch   3 | 58000/70832 batches | loss    1.618 \n",
            "women: women’s, gender, living, she, working, the, her, and, identity, culture\n",
            "men: life, this, one, to, just, would, understanding, on, have, much\n",
            "nurse: practitioner, affiliates, specialists, collaborates, nursing, hospitals, diverse, experiences, honors, graduated\n",
            "doctor: fixing, college, completed, crowns, implant, provided, from, member, dental, tooth\n",
            "engineer: software, engineering, computer, technical, technology, industry, electrical, systems, worked, senior\n",
            "teacher: teachers, education, elementary, schools, teaching, curriculum, students, taught, literacy, mathematics\n",
            "dietitian: nutrition, registered, with, who, she, cooperates, clinical, practitioner, groups, medical\n",
            "\n",
            "\n"
          ]
        },
        {
          "metadata": {
            "tags": null
          },
          "name": "stderr",
          "output_type": "stream",
          "text": [
            "58524it [03:53, 226.49it/s]"
          ]
        },
        {
          "metadata": {
            "tags": null
          },
          "name": "stdout",
          "output_type": "stream",
          "text": [
            "| epoch   3 | 58500/70832 batches | loss    1.620 \n",
            "women: women’s, gender, living, she, working, the, her, and, identity, culture\n",
            "men: life, this, one, to, just, would, understanding, have, on, much\n",
            "nurse: practitioner, affiliates, specialists, collaborates, nursing, hospitals, diverse, experiences, honors, graduated\n",
            "doctor: fixing, college, completed, crowns, implant, provided, from, member, dental, tooth\n",
            "engineer: software, engineering, computer, technical, technology, industry, electrical, systems, worked, senior\n",
            "teacher: teachers, education, elementary, schools, teaching, curriculum, students, taught, literacy, mathematics\n",
            "dietitian: nutrition, registered, with, who, she, cooperates, clinical, practitioner, groups, medical\n",
            "\n",
            "\n"
          ]
        },
        {
          "metadata": {
            "tags": null
          },
          "name": "stderr",
          "output_type": "stream",
          "text": [
            "59025it [03:55, 224.75it/s]"
          ]
        },
        {
          "metadata": {
            "tags": null
          },
          "name": "stdout",
          "output_type": "stream",
          "text": [
            "| epoch   3 | 59000/70832 batches | loss    1.624 \n",
            "women: women’s, gender, living, she, working, the, her, and, identity, culture\n",
            "men: life, this, one, to, just, would, understanding, on, have, much\n",
            "nurse: practitioner, affiliates, specialists, collaborates, nursing, hospitals, diverse, experiences, honors, graduated\n",
            "doctor: fixing, college, completed, crowns, implant, provided, from, member, dental, tooth\n",
            "engineer: software, engineering, computer, technical, technology, industry, electrical, systems, worked, senior\n",
            "teacher: teachers, education, elementary, schools, teaching, curriculum, students, taught, literacy, mathematics\n",
            "dietitian: nutrition, registered, with, who, she, cooperates, clinical, practitioner, groups, medical\n",
            "\n",
            "\n"
          ]
        },
        {
          "metadata": {
            "tags": null
          },
          "name": "stderr",
          "output_type": "stream",
          "text": [
            "59523it [03:57, 223.18it/s]"
          ]
        },
        {
          "metadata": {
            "tags": null
          },
          "name": "stdout",
          "output_type": "stream",
          "text": [
            "| epoch   3 | 59500/70832 batches | loss    1.623 \n",
            "women: women’s, gender, living, she, working, the, her, and, identity, culture\n",
            "men: life, this, one, to, just, would, understanding, have, on, much\n",
            "nurse: practitioner, affiliates, specialists, collaborates, nursing, hospitals, diverse, experiences, honors, graduated\n",
            "doctor: fixing, college, completed, crowns, implant, provided, from, member, dental, tooth\n",
            "engineer: software, engineering, computer, technical, technology, industry, electrical, systems, worked, senior\n",
            "teacher: teachers, education, elementary, schools, teaching, curriculum, students, taught, literacy, mathematics\n",
            "dietitian: nutrition, registered, with, she, who, cooperates, clinical, practitioner, groups, medical\n",
            "\n",
            "\n"
          ]
        },
        {
          "metadata": {
            "tags": null
          },
          "name": "stderr",
          "output_type": "stream",
          "text": [
            "60016it [03:59, 234.43it/s]"
          ]
        },
        {
          "metadata": {
            "tags": null
          },
          "name": "stdout",
          "output_type": "stream",
          "text": [
            "| epoch   3 | 60000/70832 batches | loss    1.629 \n",
            "women: women’s, gender, living, she, working, the, her, and, identity, culture\n",
            "men: life, this, one, to, just, would, understanding, on, have, much\n",
            "nurse: practitioner, affiliates, specialists, collaborates, nursing, hospitals, diverse, experiences, honors, graduated\n",
            "doctor: fixing, college, completed, crowns, implant, provided, from, member, dental, tooth\n",
            "engineer: software, engineering, computer, technical, technology, industry, electrical, systems, worked, senior\n",
            "teacher: teachers, education, elementary, schools, teaching, curriculum, students, taught, literacy, mathematics\n",
            "dietitian: nutrition, registered, with, she, who, cooperates, clinical, practitioner, groups, medical\n",
            "\n",
            "\n"
          ]
        },
        {
          "metadata": {
            "tags": null
          },
          "name": "stderr",
          "output_type": "stream",
          "text": [
            "60528it [04:01, 216.50it/s]"
          ]
        },
        {
          "metadata": {
            "tags": null
          },
          "name": "stdout",
          "output_type": "stream",
          "text": [
            "| epoch   3 | 60500/70832 batches | loss    1.625 \n",
            "women: women’s, gender, living, she, working, the, her, and, identity, culture\n",
            "men: life, one, this, to, just, would, understanding, on, have, much\n",
            "nurse: practitioner, affiliates, specialists, collaborates, nursing, hospitals, diverse, experiences, honors, graduated\n",
            "doctor: fixing, college, completed, crowns, implant, provided, from, member, dental, tooth\n",
            "engineer: software, engineering, computer, technical, technology, electrical, industry, systems, worked, senior\n",
            "teacher: teachers, education, elementary, schools, teaching, curriculum, students, taught, literacy, mathematics\n",
            "dietitian: nutrition, registered, with, she, who, cooperates, clinical, practitioner, groups, medical\n",
            "\n",
            "\n"
          ]
        },
        {
          "metadata": {
            "tags": null
          },
          "name": "stderr",
          "output_type": "stream",
          "text": [
            "61025it [04:03, 221.93it/s]"
          ]
        },
        {
          "metadata": {
            "tags": null
          },
          "name": "stdout",
          "output_type": "stream",
          "text": [
            "| epoch   3 | 61000/70832 batches | loss    1.624 \n",
            "women: women’s, gender, living, she, working, the, her, and, identity, culture\n",
            "men: life, this, one, to, just, would, on, understanding, have, much\n",
            "nurse: practitioner, affiliates, specialists, collaborates, nursing, hospitals, diverse, experiences, honors, graduated\n",
            "doctor: fixing, college, completed, crowns, implant, provided, from, member, dental, tooth\n",
            "engineer: software, engineering, computer, technical, technology, industry, electrical, systems, worked, senior\n",
            "teacher: teachers, education, elementary, schools, teaching, curriculum, students, taught, literacy, mathematics\n",
            "dietitian: nutrition, registered, with, she, who, cooperates, clinical, practitioner, groups, medical\n",
            "\n",
            "\n"
          ]
        },
        {
          "metadata": {
            "tags": null
          },
          "name": "stderr",
          "output_type": "stream",
          "text": [
            "61524it [04:05, 227.08it/s]"
          ]
        },
        {
          "metadata": {
            "tags": null
          },
          "name": "stdout",
          "output_type": "stream",
          "text": [
            "| epoch   3 | 61500/70832 batches | loss    1.619 \n",
            "women: women’s, gender, living, she, working, the, her, and, identity, culture\n",
            "men: life, this, one, to, just, would, on, understanding, have, much\n",
            "nurse: practitioner, affiliates, specialists, collaborates, nursing, hospitals, diverse, experiences, honors, graduated\n",
            "doctor: fixing, college, completed, crowns, implant, provided, from, member, dental, tooth\n",
            "engineer: software, engineering, computer, technical, technology, industry, electrical, systems, worked, senior\n",
            "teacher: teachers, education, elementary, schools, teaching, curriculum, students, taught, literacy, mathematics\n",
            "dietitian: nutrition, registered, with, she, who, cooperates, clinical, practitioner, groups, medical\n",
            "\n",
            "\n"
          ]
        },
        {
          "metadata": {
            "tags": null
          },
          "name": "stderr",
          "output_type": "stream",
          "text": [
            "62018it [04:07, 204.54it/s]"
          ]
        },
        {
          "metadata": {
            "tags": null
          },
          "name": "stdout",
          "output_type": "stream",
          "text": [
            "| epoch   3 | 62000/70832 batches | loss    1.619 \n",
            "women: women’s, gender, living, she, working, the, and, her, identity, culture\n",
            "men: life, this, one, to, just, would, on, understanding, have, much\n",
            "nurse: practitioner, affiliates, specialists, collaborates, nursing, hospitals, diverse, experiences, honors, graduated\n",
            "doctor: fixing, college, completed, crowns, implant, provided, from, member, dental, tooth\n",
            "engineer: software, engineering, computer, technical, technology, electrical, industry, systems, worked, senior\n",
            "teacher: teachers, education, elementary, schools, teaching, curriculum, students, taught, literacy, mathematics\n",
            "dietitian: nutrition, registered, with, who, she, cooperates, clinical, practitioner, groups, medical\n",
            "\n",
            "\n"
          ]
        },
        {
          "metadata": {
            "tags": null
          },
          "name": "stderr",
          "output_type": "stream",
          "text": [
            "62535it [04:09, 232.08it/s]"
          ]
        },
        {
          "metadata": {
            "tags": null
          },
          "name": "stdout",
          "output_type": "stream",
          "text": [
            "| epoch   3 | 62500/70832 batches | loss    1.630 \n",
            "women: women’s, gender, living, she, working, the, her, and, identity, culture\n",
            "men: life, this, one, to, just, would, on, understanding, have, much\n",
            "nurse: practitioner, affiliates, specialists, collaborates, nursing, hospitals, diverse, experiences, honors, graduated\n",
            "doctor: fixing, college, completed, crowns, implant, provided, member, from, dental, tooth\n",
            "engineer: software, engineering, computer, technical, technology, industry, electrical, systems, worked, senior\n",
            "teacher: teachers, education, elementary, schools, teaching, curriculum, students, taught, literacy, mathematics\n",
            "dietitian: nutrition, registered, with, who, she, cooperates, clinical, practitioner, groups, medical\n",
            "\n",
            "\n"
          ]
        },
        {
          "metadata": {
            "tags": null
          },
          "name": "stderr",
          "output_type": "stream",
          "text": [
            "63032it [04:11, 231.32it/s]"
          ]
        },
        {
          "metadata": {
            "tags": null
          },
          "name": "stdout",
          "output_type": "stream",
          "text": [
            "| epoch   3 | 63000/70832 batches | loss    1.620 \n",
            "women: women’s, gender, living, she, working, the, and, her, identity, culture\n",
            "men: life, this, one, to, just, would, on, understanding, have, much\n",
            "nurse: practitioner, affiliates, specialists, collaborates, nursing, hospitals, diverse, experiences, honors, graduated\n",
            "doctor: fixing, college, completed, crowns, implant, provided, member, from, dental, tooth\n",
            "engineer: software, engineering, computer, technical, technology, industry, electrical, systems, worked, senior\n",
            "teacher: teachers, education, elementary, schools, teaching, curriculum, students, taught, literacy, mathematics\n",
            "dietitian: nutrition, registered, with, she, who, cooperates, clinical, practitioner, groups, medical\n",
            "\n",
            "\n"
          ]
        },
        {
          "metadata": {
            "tags": null
          },
          "name": "stderr",
          "output_type": "stream",
          "text": [
            "63528it [04:12, 221.77it/s]"
          ]
        },
        {
          "metadata": {
            "tags": null
          },
          "name": "stdout",
          "output_type": "stream",
          "text": [
            "| epoch   3 | 63500/70832 batches | loss    1.619 \n",
            "women: women’s, gender, living, she, working, the, her, and, identity, culture\n",
            "men: life, this, one, to, just, would, on, understanding, have, much\n",
            "nurse: practitioner, affiliates, specialists, collaborates, nursing, hospitals, diverse, experiences, honors, graduated\n",
            "doctor: fixing, college, completed, crowns, implant, provided, from, member, dental, tooth\n",
            "engineer: software, engineering, computer, technical, technology, industry, electrical, systems, worked, senior\n",
            "teacher: teachers, education, elementary, schools, teaching, curriculum, students, taught, literacy, mathematics\n",
            "dietitian: nutrition, registered, with, who, she, cooperates, clinical, practitioner, groups, medical\n",
            "\n",
            "\n"
          ]
        },
        {
          "metadata": {
            "tags": null
          },
          "name": "stderr",
          "output_type": "stream",
          "text": [
            "64025it [04:14, 221.73it/s]"
          ]
        },
        {
          "metadata": {
            "tags": null
          },
          "name": "stdout",
          "output_type": "stream",
          "text": [
            "| epoch   3 | 64000/70832 batches | loss    1.625 \n",
            "women: women’s, gender, living, she, working, the, her, and, identity, culture\n",
            "men: life, this, one, to, just, would, on, understanding, have, much\n",
            "nurse: practitioner, affiliates, specialists, collaborates, nursing, hospitals, diverse, experiences, honors, graduated\n",
            "doctor: fixing, college, completed, crowns, implant, provided, from, member, dental, tooth\n",
            "engineer: software, engineering, computer, technical, technology, industry, electrical, systems, worked, senior\n",
            "teacher: teachers, education, elementary, schools, teaching, curriculum, students, taught, literacy, mathematics\n",
            "dietitian: nutrition, registered, with, who, she, cooperates, clinical, practitioner, groups, medical\n",
            "\n",
            "\n"
          ]
        },
        {
          "metadata": {
            "tags": null
          },
          "name": "stderr",
          "output_type": "stream",
          "text": [
            "64528it [04:16, 219.65it/s]"
          ]
        },
        {
          "metadata": {
            "tags": null
          },
          "name": "stdout",
          "output_type": "stream",
          "text": [
            "| epoch   3 | 64500/70832 batches | loss    1.625 \n",
            "women: women’s, gender, living, she, working, the, her, and, identity, culture\n",
            "men: life, this, one, to, just, would, on, understanding, have, much\n",
            "nurse: practitioner, affiliates, specialists, collaborates, nursing, hospitals, diverse, experiences, honors, graduated\n",
            "doctor: fixing, college, completed, crowns, implant, provided, from, member, dental, tooth\n",
            "engineer: software, engineering, computer, technical, technology, industry, electrical, systems, worked, senior\n",
            "teacher: teachers, education, elementary, schools, teaching, curriculum, students, taught, literacy, mathematics\n",
            "dietitian: nutrition, registered, with, who, she, cooperates, clinical, practitioner, groups, medical\n",
            "\n",
            "\n"
          ]
        },
        {
          "metadata": {
            "tags": null
          },
          "name": "stderr",
          "output_type": "stream",
          "text": [
            "65021it [04:18, 229.34it/s]"
          ]
        },
        {
          "metadata": {
            "tags": null
          },
          "name": "stdout",
          "output_type": "stream",
          "text": [
            "| epoch   3 | 65000/70832 batches | loss    1.622 \n",
            "women: women’s, gender, living, she, working, the, her, and, identity, culture\n",
            "men: life, this, one, to, just, would, on, understanding, have, much\n",
            "nurse: practitioner, affiliates, specialists, collaborates, nursing, hospitals, diverse, experiences, honors, graduated\n",
            "doctor: fixing, college, completed, crowns, implant, provided, from, member, dental, tooth\n",
            "engineer: software, engineering, computer, technical, technology, industry, electrical, systems, worked, senior\n",
            "teacher: teachers, education, elementary, schools, teaching, curriculum, students, taught, literacy, mathematics\n",
            "dietitian: nutrition, registered, with, who, she, cooperates, clinical, practitioner, groups, medical\n",
            "\n",
            "\n"
          ]
        },
        {
          "metadata": {
            "tags": null
          },
          "name": "stderr",
          "output_type": "stream",
          "text": [
            "65523it [04:20, 230.21it/s]"
          ]
        },
        {
          "metadata": {
            "tags": null
          },
          "name": "stdout",
          "output_type": "stream",
          "text": [
            "| epoch   3 | 65500/70832 batches | loss    1.621 \n",
            "women: women’s, gender, living, she, the, working, her, and, identity, culture\n",
            "men: life, this, one, to, just, would, on, understanding, have, much\n",
            "nurse: practitioner, affiliates, specialists, collaborates, nursing, hospitals, diverse, experiences, honors, graduated\n",
            "doctor: fixing, college, completed, crowns, implant, provided, from, member, dental, tooth\n",
            "engineer: software, engineering, computer, technical, technology, industry, electrical, systems, worked, senior\n",
            "teacher: teachers, education, elementary, schools, teaching, curriculum, students, taught, literacy, mathematics\n",
            "dietitian: nutrition, registered, with, who, she, cooperates, clinical, practitioner, groups, medical\n",
            "\n",
            "\n"
          ]
        },
        {
          "metadata": {
            "tags": null
          },
          "name": "stderr",
          "output_type": "stream",
          "text": [
            "66033it [04:22, 229.02it/s]"
          ]
        },
        {
          "metadata": {
            "tags": null
          },
          "name": "stdout",
          "output_type": "stream",
          "text": [
            "| epoch   3 | 66000/70832 batches | loss    1.622 \n",
            "women: women’s, gender, living, she, working, the, her, and, identity, culture\n",
            "men: life, this, one, to, just, would, on, understanding, have, much\n",
            "nurse: practitioner, affiliates, specialists, collaborates, nursing, hospitals, diverse, experiences, honors, graduated\n",
            "doctor: fixing, college, completed, crowns, implant, provided, from, member, dental, tooth\n",
            "engineer: software, engineering, computer, technical, technology, electrical, industry, systems, worked, senior\n",
            "teacher: teachers, education, elementary, schools, teaching, curriculum, students, taught, literacy, mathematics\n",
            "dietitian: nutrition, registered, with, who, she, cooperates, clinical, practitioner, groups, medical\n",
            "\n",
            "\n"
          ]
        },
        {
          "metadata": {
            "tags": null
          },
          "name": "stderr",
          "output_type": "stream",
          "text": [
            "66524it [04:24, 225.04it/s]"
          ]
        },
        {
          "metadata": {
            "tags": null
          },
          "name": "stdout",
          "output_type": "stream",
          "text": [
            "| epoch   3 | 66500/70832 batches | loss    1.625 \n",
            "women: women’s, gender, living, she, working, the, her, and, identity, culture\n",
            "men: life, this, one, to, just, would, on, understanding, have, much\n",
            "nurse: practitioner, affiliates, specialists, collaborates, nursing, hospitals, diverse, experiences, honors, graduated\n",
            "doctor: fixing, college, completed, crowns, implant, provided, from, member, dental, tooth\n",
            "engineer: software, engineering, computer, technical, technology, electrical, industry, systems, worked, senior\n",
            "teacher: teachers, education, elementary, schools, teaching, curriculum, students, taught, literacy, mathematics\n",
            "dietitian: nutrition, registered, with, she, who, cooperates, clinical, practitioner, groups, medical\n",
            "\n",
            "\n"
          ]
        },
        {
          "metadata": {
            "tags": null
          },
          "name": "stderr",
          "output_type": "stream",
          "text": [
            "67033it [04:26, 223.83it/s]"
          ]
        },
        {
          "metadata": {
            "tags": null
          },
          "name": "stdout",
          "output_type": "stream",
          "text": [
            "| epoch   3 | 67000/70832 batches | loss    1.623 \n",
            "women: women’s, gender, living, she, working, the, her, and, identity, culture\n",
            "men: life, this, one, to, just, would, on, understanding, have, much\n",
            "nurse: practitioner, affiliates, specialists, collaborates, nursing, hospitals, diverse, experiences, honors, graduated\n",
            "doctor: fixing, college, completed, crowns, implant, provided, from, member, dental, tooth\n",
            "engineer: software, engineering, computer, technical, technology, industry, electrical, systems, worked, senior\n",
            "teacher: teachers, education, elementary, schools, teaching, curriculum, students, taught, literacy, mathematics\n",
            "dietitian: nutrition, registered, with, who, she, cooperates, clinical, practitioner, groups, medical\n",
            "\n",
            "\n"
          ]
        },
        {
          "metadata": {
            "tags": null
          },
          "name": "stderr",
          "output_type": "stream",
          "text": [
            "67520it [04:28, 209.75it/s]"
          ]
        },
        {
          "metadata": {
            "tags": null
          },
          "name": "stdout",
          "output_type": "stream",
          "text": [
            "| epoch   3 | 67500/70832 batches | loss    1.625 \n",
            "women: women’s, gender, living, she, the, working, her, and, identity, culture\n",
            "men: life, this, one, to, just, would, on, understanding, have, much\n",
            "nurse: practitioner, affiliates, specialists, collaborates, nursing, hospitals, diverse, experiences, honors, graduated\n",
            "doctor: fixing, college, completed, crowns, implant, provided, from, member, dental, tooth\n",
            "engineer: software, engineering, computer, technical, technology, industry, electrical, systems, worked, senior\n",
            "teacher: teachers, education, elementary, schools, teaching, curriculum, students, taught, literacy, mathematics\n",
            "dietitian: nutrition, registered, with, who, she, cooperates, clinical, practitioner, groups, medical\n",
            "\n",
            "\n"
          ]
        },
        {
          "metadata": {
            "tags": null
          },
          "name": "stderr",
          "output_type": "stream",
          "text": [
            "68020it [04:30, 228.21it/s]"
          ]
        },
        {
          "metadata": {
            "tags": null
          },
          "name": "stdout",
          "output_type": "stream",
          "text": [
            "| epoch   3 | 68000/70832 batches | loss    1.626 \n",
            "women: women’s, gender, living, the, she, working, her, and, identity, culture\n",
            "men: life, this, one, to, just, would, on, understanding, have, much\n",
            "nurse: practitioner, affiliates, specialists, collaborates, nursing, hospitals, diverse, experiences, honors, graduated\n",
            "doctor: fixing, college, completed, crowns, implant, provided, from, member, dental, tooth\n",
            "engineer: software, engineering, computer, technical, technology, industry, electrical, systems, worked, senior\n",
            "teacher: teachers, education, elementary, schools, teaching, curriculum, students, taught, literacy, mathematics\n",
            "dietitian: nutrition, registered, with, who, she, cooperates, clinical, practitioner, groups, medical\n",
            "\n",
            "\n"
          ]
        },
        {
          "metadata": {
            "tags": null
          },
          "name": "stderr",
          "output_type": "stream",
          "text": [
            "68513it [04:32, 235.40it/s]"
          ]
        },
        {
          "metadata": {
            "tags": null
          },
          "name": "stdout",
          "output_type": "stream",
          "text": [
            "| epoch   3 | 68500/70832 batches | loss    1.624 \n",
            "women: women’s, gender, living, she, the, working, her, and, identity, culture\n",
            "men: life, this, one, to, just, would, on, understanding, have, much\n",
            "nurse: practitioner, affiliates, specialists, collaborates, nursing, hospitals, diverse, experiences, honors, graduated\n",
            "doctor: fixing, college, completed, crowns, implant, provided, from, member, dental, tooth\n",
            "engineer: software, engineering, computer, technical, technology, industry, electrical, systems, worked, senior\n",
            "teacher: teachers, education, elementary, schools, teaching, curriculum, students, taught, literacy, mathematics\n",
            "dietitian: nutrition, registered, with, who, she, cooperates, clinical, practitioner, groups, medical\n",
            "\n",
            "\n"
          ]
        },
        {
          "metadata": {
            "tags": null
          },
          "name": "stderr",
          "output_type": "stream",
          "text": [
            "69010it [04:34, 195.24it/s]"
          ]
        },
        {
          "metadata": {
            "tags": null
          },
          "name": "stdout",
          "output_type": "stream",
          "text": [
            "| epoch   3 | 69000/70832 batches | loss    1.626 \n",
            "women: women’s, gender, living, the, she, working, her, and, identity, culture\n",
            "men: life, this, one, to, just, would, on, understanding, have, much\n",
            "nurse: practitioner, affiliates, specialists, collaborates, nursing, hospitals, diverse, experiences, honors, graduated\n",
            "doctor: fixing, college, completed, crowns, implant, provided, from, member, dental, tooth\n",
            "engineer: software, engineering, computer, technical, technology, industry, electrical, systems, worked, senior\n",
            "teacher: teachers, education, elementary, schools, teaching, curriculum, students, taught, literacy, mathematics\n",
            "dietitian: nutrition, registered, with, who, she, cooperates, clinical, practitioner, groups, medical\n",
            "\n",
            "\n"
          ]
        },
        {
          "metadata": {
            "tags": null
          },
          "name": "stderr",
          "output_type": "stream",
          "text": [
            "69518it [04:36, 228.06it/s]"
          ]
        },
        {
          "metadata": {
            "tags": null
          },
          "name": "stdout",
          "output_type": "stream",
          "text": [
            "| epoch   3 | 69500/70832 batches | loss    1.624 \n",
            "women: women’s, gender, living, the, she, working, her, and, identity, culture\n",
            "men: life, this, one, to, just, would, on, understanding, have, much\n",
            "nurse: practitioner, affiliates, specialists, collaborates, nursing, hospitals, diverse, experiences, honors, graduated\n",
            "doctor: fixing, college, completed, crowns, implant, provided, from, member, dental, tooth\n",
            "engineer: software, engineering, computer, technical, technology, industry, electrical, systems, worked, senior\n",
            "teacher: teachers, education, elementary, schools, teaching, curriculum, students, taught, literacy, mathematics\n",
            "dietitian: nutrition, registered, with, who, she, cooperates, clinical, practitioner, groups, medical\n",
            "\n",
            "\n"
          ]
        },
        {
          "metadata": {
            "tags": null
          },
          "name": "stderr",
          "output_type": "stream",
          "text": [
            "70013it [04:38, 231.58it/s]"
          ]
        },
        {
          "metadata": {
            "tags": null
          },
          "name": "stdout",
          "output_type": "stream",
          "text": [
            "| epoch   3 | 70000/70832 batches | loss    1.621 \n",
            "women: women’s, gender, living, the, she, working, and, her, identity, culture\n",
            "men: life, this, one, to, just, would, on, understanding, have, much\n",
            "nurse: practitioner, affiliates, specialists, collaborates, nursing, hospitals, diverse, experiences, honors, graduated\n",
            "doctor: fixing, college, completed, crowns, implant, provided, from, member, dental, tooth\n",
            "engineer: software, engineering, computer, technical, technology, electrical, industry, systems, worked, senior\n",
            "teacher: teachers, education, elementary, schools, teaching, curriculum, students, taught, literacy, mathematics\n",
            "dietitian: nutrition, registered, with, who, she, cooperates, clinical, practitioner, groups, medical\n",
            "\n",
            "\n"
          ]
        },
        {
          "metadata": {
            "tags": null
          },
          "name": "stderr",
          "output_type": "stream",
          "text": [
            "70524it [04:40, 222.20it/s]"
          ]
        },
        {
          "metadata": {
            "tags": null
          },
          "name": "stdout",
          "output_type": "stream",
          "text": [
            "| epoch   3 | 70500/70832 batches | loss    1.618 \n",
            "women: women’s, gender, living, the, she, working, her, and, identity, culture\n",
            "men: life, this, one, to, just, would, on, understanding, have, much\n",
            "nurse: practitioner, affiliates, specialists, collaborates, nursing, hospitals, diverse, experiences, honors, graduated\n",
            "doctor: fixing, college, completed, crowns, implant, provided, from, member, dental, tooth\n",
            "engineer: software, engineering, computer, technical, technology, electrical, industry, systems, worked, senior\n",
            "teacher: teachers, education, elementary, schools, teaching, curriculum, students, taught, literacy, mathematics\n",
            "dietitian: nutrition, registered, with, who, she, cooperates, clinical, practitioner, groups, medical\n",
            "\n",
            "\n"
          ]
        },
        {
          "metadata": {
            "tags": null
          },
          "name": "stderr",
          "output_type": "stream",
          "text": [
            "70832it [04:43, 249.76it/s]\n",
            "1it [00:01,  1.83s/it]"
          ]
        },
        {
          "metadata": {
            "tags": null
          },
          "name": "stdout",
          "output_type": "stream",
          "text": [
            "| epoch   4 |     0/70832 batches | loss    1.579 \n",
            "women: women’s, gender, living, the, she, working, her, and, identity, culture\n",
            "men: life, this, one, to, just, would, on, understanding, have, much\n",
            "nurse: practitioner, affiliates, specialists, collaborates, nursing, hospitals, diverse, experiences, honors, graduated\n",
            "doctor: fixing, college, completed, crowns, implant, provided, from, member, dental, tooth\n",
            "engineer: software, engineering, computer, technical, technology, electrical, industry, systems, worked, senior\n",
            "teacher: teachers, education, elementary, schools, teaching, curriculum, students, taught, literacy, mathematics\n",
            "dietitian: nutrition, registered, with, who, she, cooperates, clinical, practitioner, groups, medical\n",
            "\n",
            "\n"
          ]
        },
        {
          "metadata": {
            "tags": null
          },
          "name": "stderr",
          "output_type": "stream",
          "text": [
            "535it [00:04, 229.30it/s]"
          ]
        },
        {
          "metadata": {
            "tags": null
          },
          "name": "stdout",
          "output_type": "stream",
          "text": [
            "| epoch   4 |   500/70832 batches | loss    1.618 \n",
            "women: women’s, gender, living, the, she, working, her, and, identity, culture\n",
            "men: life, this, one, to, just, would, on, understanding, have, much\n",
            "nurse: practitioner, affiliates, specialists, collaborates, nursing, hospitals, diverse, experiences, honors, graduated\n",
            "doctor: fixing, college, completed, crowns, implant, provided, from, member, dental, tooth\n",
            "engineer: software, engineering, computer, technical, technology, electrical, industry, systems, worked, senior\n",
            "teacher: teachers, education, elementary, schools, teaching, curriculum, students, taught, literacy, mathematics\n",
            "dietitian: nutrition, registered, with, who, she, cooperates, clinical, practitioner, groups, medical\n",
            "\n",
            "\n"
          ]
        },
        {
          "metadata": {
            "tags": null
          },
          "name": "stderr",
          "output_type": "stream",
          "text": [
            "1032it [00:06, 229.86it/s]"
          ]
        },
        {
          "metadata": {
            "tags": null
          },
          "name": "stdout",
          "output_type": "stream",
          "text": [
            "| epoch   4 |  1000/70832 batches | loss    1.613 \n",
            "women: women’s, gender, living, the, she, working, her, and, identity, culture\n",
            "men: life, this, one, to, just, would, on, understanding, have, much\n",
            "nurse: practitioner, affiliates, specialists, collaborates, nursing, hospitals, diverse, experiences, honors, graduated\n",
            "doctor: fixing, college, completed, crowns, implant, provided, from, member, dental, tooth\n",
            "engineer: software, engineering, computer, technical, technology, electrical, industry, systems, worked, senior\n",
            "teacher: teachers, education, elementary, schools, teaching, curriculum, students, taught, literacy, mathematics\n",
            "dietitian: nutrition, registered, with, who, she, cooperates, clinical, practitioner, groups, medical\n",
            "\n",
            "\n"
          ]
        },
        {
          "metadata": {
            "tags": null
          },
          "name": "stderr",
          "output_type": "stream",
          "text": [
            "1523it [00:07, 228.91it/s]"
          ]
        },
        {
          "metadata": {
            "tags": null
          },
          "name": "stdout",
          "output_type": "stream",
          "text": [
            "| epoch   4 |  1500/70832 batches | loss    1.624 \n",
            "women: women’s, gender, living, the, she, working, her, and, identity, culture\n",
            "men: life, this, one, to, just, would, on, understanding, have, much\n",
            "nurse: practitioner, affiliates, specialists, collaborates, nursing, hospitals, diverse, experiences, honors, graduated\n",
            "doctor: fixing, college, completed, crowns, implant, provided, from, member, dental, tooth\n",
            "engineer: software, engineering, computer, technical, technology, electrical, industry, systems, worked, senior\n",
            "teacher: teachers, education, elementary, schools, teaching, curriculum, students, taught, literacy, mathematics\n",
            "dietitian: nutrition, registered, with, who, she, cooperates, clinical, practitioner, groups, medical\n",
            "\n",
            "\n"
          ]
        },
        {
          "metadata": {
            "tags": null
          },
          "name": "stderr",
          "output_type": "stream",
          "text": [
            "2015it [00:09, 232.83it/s]"
          ]
        },
        {
          "metadata": {
            "tags": null
          },
          "name": "stdout",
          "output_type": "stream",
          "text": [
            "| epoch   4 |  2000/70832 batches | loss    1.618 \n",
            "women: women’s, gender, living, the, she, working, her, and, identity, culture\n",
            "men: life, this, one, to, just, would, on, understanding, have, much\n",
            "nurse: practitioner, affiliates, specialists, collaborates, nursing, hospitals, diverse, experiences, honors, graduated\n",
            "doctor: fixing, college, completed, crowns, implant, provided, from, member, dental, tooth\n",
            "engineer: software, engineering, computer, technical, technology, electrical, industry, systems, worked, senior\n",
            "teacher: teachers, education, elementary, schools, teaching, curriculum, students, taught, literacy, mathematics\n",
            "dietitian: nutrition, registered, with, who, she, cooperates, clinical, practitioner, groups, medical\n",
            "\n",
            "\n"
          ]
        },
        {
          "metadata": {
            "tags": null
          },
          "name": "stderr",
          "output_type": "stream",
          "text": [
            "2515it [00:11, 234.46it/s]"
          ]
        },
        {
          "metadata": {
            "tags": null
          },
          "name": "stdout",
          "output_type": "stream",
          "text": [
            "| epoch   4 |  2500/70832 batches | loss    1.617 \n",
            "women: women’s, gender, living, the, she, working, her, and, identity, culture\n",
            "men: life, this, one, to, just, would, on, understanding, have, much\n",
            "nurse: practitioner, affiliates, specialists, collaborates, nursing, hospitals, diverse, experiences, honors, graduated\n",
            "doctor: fixing, college, completed, crowns, implant, provided, from, member, dental, tooth\n",
            "engineer: software, engineering, computer, technical, technology, electrical, industry, systems, worked, senior\n",
            "teacher: teachers, education, elementary, schools, teaching, curriculum, students, taught, literacy, mathematics\n",
            "dietitian: nutrition, registered, with, who, she, cooperates, clinical, practitioner, groups, medical\n",
            "\n",
            "\n"
          ]
        },
        {
          "metadata": {
            "tags": null
          },
          "name": "stderr",
          "output_type": "stream",
          "text": [
            "3027it [00:13, 220.87it/s]"
          ]
        },
        {
          "metadata": {
            "tags": null
          },
          "name": "stdout",
          "output_type": "stream",
          "text": [
            "| epoch   4 |  3000/70832 batches | loss    1.623 \n",
            "women: women’s, gender, living, the, she, working, her, and, identity, culture\n",
            "men: life, this, one, to, just, would, on, understanding, have, much\n",
            "nurse: practitioner, affiliates, specialists, collaborates, nursing, hospitals, diverse, experiences, honors, graduated\n",
            "doctor: fixing, college, completed, crowns, implant, provided, from, member, dental, tooth\n",
            "engineer: software, engineering, computer, technical, technology, electrical, industry, systems, worked, senior\n",
            "teacher: teachers, education, elementary, schools, teaching, curriculum, students, taught, literacy, mathematics\n",
            "dietitian: nutrition, registered, with, who, she, cooperates, clinical, practitioner, groups, medical\n",
            "\n",
            "\n"
          ]
        },
        {
          "metadata": {
            "tags": null
          },
          "name": "stderr",
          "output_type": "stream",
          "text": [
            "3528it [00:15, 234.63it/s]"
          ]
        },
        {
          "metadata": {
            "tags": null
          },
          "name": "stdout",
          "output_type": "stream",
          "text": [
            "| epoch   4 |  3500/70832 batches | loss    1.624 \n",
            "women: women’s, gender, living, the, she, working, her, and, identity, culture\n",
            "men: life, this, one, to, just, would, on, understanding, have, much\n",
            "nurse: practitioner, affiliates, specialists, collaborates, nursing, hospitals, diverse, experiences, honors, graduated\n",
            "doctor: fixing, college, completed, crowns, implant, provided, from, member, dental, tooth\n",
            "engineer: software, engineering, computer, technical, technology, electrical, industry, systems, worked, senior\n",
            "teacher: teachers, education, elementary, schools, teaching, curriculum, students, taught, literacy, mathematics\n",
            "dietitian: nutrition, registered, with, who, she, cooperates, clinical, practitioner, groups, medical\n",
            "\n",
            "\n"
          ]
        },
        {
          "metadata": {
            "tags": null
          },
          "name": "stderr",
          "output_type": "stream",
          "text": [
            "4014it [00:17, 233.38it/s]"
          ]
        },
        {
          "metadata": {
            "tags": null
          },
          "name": "stdout",
          "output_type": "stream",
          "text": [
            "| epoch   4 |  4000/70832 batches | loss    1.620 \n",
            "women: women’s, gender, living, the, she, working, her, and, identity, culture\n",
            "men: life, this, one, to, just, would, on, understanding, have, much\n",
            "nurse: practitioner, affiliates, specialists, collaborates, nursing, hospitals, diverse, experiences, honors, graduated\n",
            "doctor: fixing, college, completed, crowns, implant, provided, from, member, dental, tooth\n",
            "engineer: software, engineering, computer, technical, technology, electrical, industry, systems, worked, senior\n",
            "teacher: teachers, education, elementary, schools, teaching, curriculum, students, taught, literacy, mathematics\n",
            "dietitian: nutrition, registered, with, who, she, cooperates, clinical, practitioner, groups, medical\n",
            "\n",
            "\n"
          ]
        },
        {
          "metadata": {
            "tags": null
          },
          "name": "stderr",
          "output_type": "stream",
          "text": [
            "4531it [00:19, 218.15it/s]"
          ]
        },
        {
          "metadata": {
            "tags": null
          },
          "name": "stdout",
          "output_type": "stream",
          "text": [
            "| epoch   4 |  4500/70832 batches | loss    1.621 \n",
            "women: women’s, gender, living, the, she, working, her, and, identity, culture\n",
            "men: life, this, one, to, just, would, on, understanding, have, much\n",
            "nurse: practitioner, affiliates, specialists, collaborates, nursing, hospitals, diverse, experiences, honors, graduated\n",
            "doctor: fixing, college, completed, crowns, implant, provided, from, member, dental, tooth\n",
            "engineer: software, engineering, computer, technical, technology, electrical, industry, systems, worked, senior\n",
            "teacher: teachers, education, elementary, schools, teaching, curriculum, students, taught, literacy, mathematics\n",
            "dietitian: nutrition, registered, with, who, she, cooperates, clinical, practitioner, groups, medical\n",
            "\n",
            "\n"
          ]
        },
        {
          "metadata": {
            "tags": null
          },
          "name": "stderr",
          "output_type": "stream",
          "text": [
            "5027it [00:21, 220.20it/s]"
          ]
        },
        {
          "metadata": {
            "tags": null
          },
          "name": "stdout",
          "output_type": "stream",
          "text": [
            "| epoch   4 |  5000/70832 batches | loss    1.617 \n",
            "women: women’s, gender, living, the, she, working, her, and, identity, culture\n",
            "men: life, this, one, to, just, would, on, understanding, have, much\n",
            "nurse: practitioner, affiliates, specialists, collaborates, nursing, hospitals, diverse, experiences, honors, graduated\n",
            "doctor: fixing, college, completed, crowns, implant, provided, from, member, dental, tooth\n",
            "engineer: software, engineering, computer, technical, technology, electrical, industry, systems, worked, senior\n",
            "teacher: teachers, education, elementary, schools, teaching, curriculum, students, taught, literacy, mathematics\n",
            "dietitian: nutrition, registered, with, who, she, cooperates, clinical, practitioner, groups, medical\n",
            "\n",
            "\n"
          ]
        },
        {
          "metadata": {
            "tags": null
          },
          "name": "stderr",
          "output_type": "stream",
          "text": [
            "5523it [00:23, 225.16it/s]"
          ]
        },
        {
          "metadata": {
            "tags": null
          },
          "name": "stdout",
          "output_type": "stream",
          "text": [
            "| epoch   4 |  5500/70832 batches | loss    1.619 \n",
            "women: women’s, gender, living, the, she, working, her, and, identity, culture\n",
            "men: life, this, one, to, just, would, on, understanding, have, much\n",
            "nurse: practitioner, affiliates, specialists, collaborates, nursing, hospitals, diverse, experiences, honors, graduated\n",
            "doctor: fixing, college, completed, crowns, implant, provided, from, member, dental, tooth\n",
            "engineer: software, engineering, computer, technical, technology, electrical, industry, systems, worked, senior\n",
            "teacher: teachers, education, elementary, schools, teaching, curriculum, students, taught, literacy, mathematics\n",
            "dietitian: nutrition, registered, with, who, she, cooperates, clinical, practitioner, groups, medical\n",
            "\n",
            "\n"
          ]
        },
        {
          "metadata": {
            "tags": null
          },
          "name": "stderr",
          "output_type": "stream",
          "text": [
            "6023it [00:25, 221.48it/s]"
          ]
        },
        {
          "metadata": {
            "tags": null
          },
          "name": "stdout",
          "output_type": "stream",
          "text": [
            "| epoch   4 |  6000/70832 batches | loss    1.618 \n",
            "women: women’s, gender, living, the, she, working, her, and, identity, culture\n",
            "men: life, this, one, to, just, would, on, understanding, have, much\n",
            "nurse: practitioner, affiliates, specialists, collaborates, nursing, hospitals, diverse, experiences, honors, graduated\n",
            "doctor: fixing, college, completed, crowns, implant, provided, from, member, dental, tooth\n",
            "engineer: software, engineering, computer, technical, technology, electrical, industry, systems, worked, senior\n",
            "teacher: teachers, education, elementary, schools, teaching, curriculum, students, taught, literacy, mathematics\n",
            "dietitian: nutrition, registered, with, who, she, cooperates, clinical, practitioner, groups, medical\n",
            "\n",
            "\n"
          ]
        },
        {
          "metadata": {
            "tags": null
          },
          "name": "stderr",
          "output_type": "stream",
          "text": [
            "6514it [00:27, 216.91it/s]"
          ]
        },
        {
          "metadata": {
            "tags": null
          },
          "name": "stdout",
          "output_type": "stream",
          "text": [
            "| epoch   4 |  6500/70832 batches | loss    1.613 \n",
            "women: women’s, gender, living, the, she, working, her, and, identity, culture\n",
            "men: life, this, one, to, just, would, on, understanding, have, much\n",
            "nurse: practitioner, affiliates, specialists, collaborates, nursing, hospitals, diverse, experiences, honors, graduated\n",
            "doctor: fixing, college, completed, crowns, implant, provided, from, member, dental, tooth\n",
            "engineer: software, engineering, computer, technical, technology, electrical, industry, systems, worked, senior\n",
            "teacher: teachers, education, elementary, schools, teaching, curriculum, students, taught, literacy, mathematics\n",
            "dietitian: nutrition, registered, with, who, she, cooperates, clinical, practitioner, groups, medical\n",
            "\n",
            "\n"
          ]
        },
        {
          "metadata": {
            "tags": null
          },
          "name": "stderr",
          "output_type": "stream",
          "text": [
            "7035it [00:29, 235.07it/s]"
          ]
        },
        {
          "metadata": {
            "tags": null
          },
          "name": "stdout",
          "output_type": "stream",
          "text": [
            "| epoch   4 |  7000/70832 batches | loss    1.620 \n",
            "women: women’s, gender, living, the, she, working, her, and, identity, culture\n",
            "men: life, this, one, to, just, would, on, understanding, have, much\n",
            "nurse: practitioner, affiliates, specialists, collaborates, nursing, hospitals, diverse, experiences, honors, graduated\n",
            "doctor: fixing, college, completed, crowns, implant, provided, from, member, dental, tooth\n",
            "engineer: software, engineering, computer, technical, technology, electrical, industry, systems, worked, senior\n",
            "teacher: teachers, education, elementary, schools, teaching, curriculum, students, taught, literacy, mathematics\n",
            "dietitian: nutrition, registered, with, who, she, cooperates, clinical, practitioner, groups, medical\n",
            "\n",
            "\n"
          ]
        },
        {
          "metadata": {
            "tags": null
          },
          "name": "stderr",
          "output_type": "stream",
          "text": [
            "7526it [00:31, 231.45it/s]"
          ]
        },
        {
          "metadata": {
            "tags": null
          },
          "name": "stdout",
          "output_type": "stream",
          "text": [
            "| epoch   4 |  7500/70832 batches | loss    1.619 \n",
            "women: women’s, gender, living, the, she, working, her, and, identity, culture\n",
            "men: life, this, one, to, just, would, on, understanding, have, much\n",
            "nurse: practitioner, affiliates, specialists, collaborates, nursing, hospitals, diverse, experiences, honors, graduated\n",
            "doctor: fixing, college, completed, crowns, implant, provided, from, member, dental, tooth\n",
            "engineer: software, engineering, computer, technical, technology, electrical, industry, systems, worked, senior\n",
            "teacher: teachers, education, elementary, schools, teaching, curriculum, students, taught, literacy, mathematics\n",
            "dietitian: nutrition, registered, with, who, she, cooperates, clinical, practitioner, groups, medical\n",
            "\n",
            "\n"
          ]
        },
        {
          "metadata": {
            "tags": null
          },
          "name": "stderr",
          "output_type": "stream",
          "text": [
            "8027it [00:33, 221.76it/s]"
          ]
        },
        {
          "metadata": {
            "tags": null
          },
          "name": "stdout",
          "output_type": "stream",
          "text": [
            "| epoch   4 |  8000/70832 batches | loss    1.615 \n",
            "women: women’s, gender, living, the, she, working, her, and, identity, culture\n",
            "men: life, this, one, to, just, would, on, understanding, have, much\n",
            "nurse: practitioner, affiliates, specialists, collaborates, nursing, hospitals, diverse, experiences, honors, graduated\n",
            "doctor: fixing, college, completed, crowns, implant, provided, from, member, dental, tooth\n",
            "engineer: software, engineering, computer, technical, technology, electrical, industry, systems, worked, senior\n",
            "teacher: teachers, education, elementary, schools, teaching, curriculum, students, taught, literacy, mathematics\n",
            "dietitian: nutrition, registered, with, who, she, cooperates, clinical, practitioner, groups, medical\n",
            "\n",
            "\n"
          ]
        },
        {
          "metadata": {
            "tags": null
          },
          "name": "stderr",
          "output_type": "stream",
          "text": [
            "8526it [00:35, 214.84it/s]"
          ]
        },
        {
          "metadata": {
            "tags": null
          },
          "name": "stdout",
          "output_type": "stream",
          "text": [
            "| epoch   4 |  8500/70832 batches | loss    1.620 \n",
            "women: women’s, gender, living, the, she, working, her, and, identity, culture\n",
            "men: life, this, one, to, just, would, on, understanding, have, much\n",
            "nurse: practitioner, affiliates, specialists, collaborates, nursing, hospitals, diverse, experiences, honors, graduated\n",
            "doctor: fixing, college, completed, crowns, implant, provided, from, member, dental, tooth\n",
            "engineer: software, engineering, computer, technical, technology, electrical, industry, systems, worked, senior\n",
            "teacher: teachers, education, elementary, schools, teaching, curriculum, students, taught, literacy, mathematics\n",
            "dietitian: nutrition, registered, with, who, she, cooperates, clinical, practitioner, groups, medical\n",
            "\n",
            "\n"
          ]
        },
        {
          "metadata": {
            "tags": null
          },
          "name": "stderr",
          "output_type": "stream",
          "text": [
            "9014it [00:37, 207.23it/s]"
          ]
        },
        {
          "metadata": {
            "tags": null
          },
          "name": "stdout",
          "output_type": "stream",
          "text": [
            "| epoch   4 |  9000/70832 batches | loss    1.617 \n",
            "women: women’s, gender, living, the, she, working, her, and, identity, culture\n",
            "men: life, this, one, to, just, would, on, understanding, have, much\n",
            "nurse: practitioner, affiliates, specialists, collaborates, nursing, hospitals, diverse, experiences, honors, graduated\n",
            "doctor: fixing, college, completed, crowns, implant, provided, from, member, dental, tooth\n",
            "engineer: software, engineering, computer, technical, technology, electrical, industry, systems, worked, senior\n",
            "teacher: teachers, education, elementary, schools, teaching, curriculum, students, taught, literacy, mathematics\n",
            "dietitian: nutrition, registered, with, who, she, cooperates, clinical, practitioner, groups, medical\n",
            "\n",
            "\n"
          ]
        },
        {
          "metadata": {
            "tags": null
          },
          "name": "stderr",
          "output_type": "stream",
          "text": [
            "9510it [00:39, 233.68it/s]"
          ]
        },
        {
          "metadata": {
            "tags": null
          },
          "name": "stdout",
          "output_type": "stream",
          "text": [
            "| epoch   4 |  9500/70832 batches | loss    1.624 \n",
            "women: women’s, gender, living, the, she, working, her, and, identity, culture\n",
            "men: life, this, one, to, just, would, on, understanding, have, much\n",
            "nurse: practitioner, affiliates, specialists, collaborates, nursing, hospitals, diverse, experiences, honors, graduated\n",
            "doctor: fixing, college, completed, crowns, implant, provided, from, member, dental, tooth\n",
            "engineer: software, engineering, computer, technical, technology, electrical, industry, systems, worked, senior\n",
            "teacher: teachers, education, elementary, schools, teaching, curriculum, students, taught, literacy, mathematics\n",
            "dietitian: nutrition, registered, with, who, she, cooperates, clinical, practitioner, groups, medical\n",
            "\n",
            "\n"
          ]
        },
        {
          "metadata": {
            "tags": null
          },
          "name": "stderr",
          "output_type": "stream",
          "text": [
            "10015it [00:41, 222.39it/s]"
          ]
        },
        {
          "metadata": {
            "tags": null
          },
          "name": "stdout",
          "output_type": "stream",
          "text": [
            "| epoch   4 | 10000/70832 batches | loss    1.620 \n",
            "women: women’s, gender, living, the, she, working, her, and, identity, culture\n",
            "men: life, this, one, to, just, would, on, understanding, have, much\n",
            "nurse: practitioner, affiliates, specialists, collaborates, nursing, hospitals, diverse, experiences, honors, graduated\n",
            "doctor: fixing, college, completed, crowns, implant, provided, from, member, dental, tooth\n",
            "engineer: software, engineering, computer, technical, technology, electrical, industry, systems, worked, senior\n",
            "teacher: teachers, education, elementary, schools, teaching, curriculum, students, taught, literacy, mathematics\n",
            "dietitian: nutrition, registered, with, who, she, cooperates, clinical, practitioner, groups, medical\n",
            "\n",
            "\n"
          ]
        },
        {
          "metadata": {
            "tags": null
          },
          "name": "stderr",
          "output_type": "stream",
          "text": [
            "10516it [00:43, 234.15it/s]"
          ]
        },
        {
          "metadata": {
            "tags": null
          },
          "name": "stdout",
          "output_type": "stream",
          "text": [
            "| epoch   4 | 10500/70832 batches | loss    1.621 \n",
            "women: women’s, gender, living, the, she, working, her, and, identity, culture\n",
            "men: life, this, one, to, just, would, on, understanding, have, much\n",
            "nurse: practitioner, affiliates, specialists, collaborates, nursing, hospitals, diverse, experiences, honors, graduated\n",
            "doctor: fixing, college, completed, crowns, implant, provided, from, member, dental, tooth\n",
            "engineer: software, engineering, computer, technical, technology, electrical, industry, systems, worked, senior\n",
            "teacher: teachers, education, elementary, schools, teaching, curriculum, students, taught, literacy, mathematics\n",
            "dietitian: nutrition, registered, with, who, she, cooperates, clinical, practitioner, groups, medical\n",
            "\n",
            "\n"
          ]
        },
        {
          "metadata": {
            "tags": null
          },
          "name": "stderr",
          "output_type": "stream",
          "text": [
            "11016it [00:45, 226.59it/s]"
          ]
        },
        {
          "metadata": {
            "tags": null
          },
          "name": "stdout",
          "output_type": "stream",
          "text": [
            "| epoch   4 | 11000/70832 batches | loss    1.623 \n",
            "women: women’s, gender, living, the, she, working, her, and, identity, culture\n",
            "men: life, this, one, to, just, would, on, understanding, have, much\n",
            "nurse: practitioner, affiliates, specialists, collaborates, nursing, hospitals, diverse, experiences, honors, graduated\n",
            "doctor: fixing, college, completed, crowns, implant, provided, from, member, dental, tooth\n",
            "engineer: software, engineering, computer, technical, technology, electrical, industry, systems, worked, senior\n",
            "teacher: teachers, education, elementary, schools, teaching, curriculum, students, taught, literacy, mathematics\n",
            "dietitian: nutrition, registered, with, who, she, cooperates, clinical, practitioner, groups, medical\n",
            "\n",
            "\n"
          ]
        },
        {
          "metadata": {
            "tags": null
          },
          "name": "stderr",
          "output_type": "stream",
          "text": [
            "11518it [00:46, 231.01it/s]"
          ]
        },
        {
          "metadata": {
            "tags": null
          },
          "name": "stdout",
          "output_type": "stream",
          "text": [
            "| epoch   4 | 11500/70832 batches | loss    1.621 \n",
            "women: women’s, gender, living, the, she, working, her, and, identity, culture\n",
            "men: life, this, one, to, just, would, on, understanding, have, much\n",
            "nurse: practitioner, affiliates, specialists, collaborates, nursing, hospitals, diverse, experiences, honors, graduated\n",
            "doctor: fixing, college, completed, crowns, implant, provided, from, member, dental, tooth\n",
            "engineer: software, engineering, computer, technical, technology, electrical, industry, systems, worked, senior\n",
            "teacher: teachers, education, elementary, schools, teaching, curriculum, students, taught, literacy, mathematics\n",
            "dietitian: nutrition, registered, with, who, she, cooperates, clinical, practitioner, groups, medical\n",
            "\n",
            "\n"
          ]
        },
        {
          "metadata": {
            "tags": null
          },
          "name": "stderr",
          "output_type": "stream",
          "text": [
            "12034it [00:48, 224.52it/s]"
          ]
        },
        {
          "metadata": {
            "tags": null
          },
          "name": "stdout",
          "output_type": "stream",
          "text": [
            "| epoch   4 | 12000/70832 batches | loss    1.621 \n",
            "women: women’s, gender, living, the, she, working, her, and, identity, culture\n",
            "men: life, this, one, to, just, would, on, understanding, have, much\n",
            "nurse: practitioner, affiliates, specialists, collaborates, nursing, hospitals, diverse, experiences, honors, graduated\n",
            "doctor: fixing, college, completed, crowns, implant, provided, from, member, dental, tooth\n",
            "engineer: software, engineering, computer, technical, technology, electrical, industry, systems, worked, senior\n",
            "teacher: teachers, education, elementary, schools, teaching, curriculum, students, taught, literacy, mathematics\n",
            "dietitian: nutrition, registered, with, who, she, cooperates, clinical, practitioner, groups, medical\n",
            "\n",
            "\n"
          ]
        },
        {
          "metadata": {
            "tags": null
          },
          "name": "stderr",
          "output_type": "stream",
          "text": [
            "12521it [00:50, 224.05it/s]"
          ]
        },
        {
          "metadata": {
            "tags": null
          },
          "name": "stdout",
          "output_type": "stream",
          "text": [
            "| epoch   4 | 12500/70832 batches | loss    1.620 \n",
            "women: women’s, gender, living, the, she, working, her, and, identity, culture\n",
            "men: life, this, one, to, just, would, on, understanding, have, much\n",
            "nurse: practitioner, affiliates, specialists, collaborates, nursing, hospitals, diverse, experiences, honors, graduated\n",
            "doctor: fixing, college, completed, crowns, implant, provided, from, member, dental, tooth\n",
            "engineer: software, engineering, computer, technical, technology, electrical, industry, systems, worked, senior\n",
            "teacher: teachers, education, elementary, schools, teaching, curriculum, students, taught, literacy, mathematics\n",
            "dietitian: nutrition, registered, with, who, she, cooperates, clinical, practitioner, groups, medical\n",
            "\n",
            "\n"
          ]
        },
        {
          "metadata": {
            "tags": null
          },
          "name": "stderr",
          "output_type": "stream",
          "text": [
            "13035it [00:52, 231.57it/s]"
          ]
        },
        {
          "metadata": {
            "tags": null
          },
          "name": "stdout",
          "output_type": "stream",
          "text": [
            "| epoch   4 | 13000/70832 batches | loss    1.618 \n",
            "women: women’s, gender, living, the, she, working, her, and, identity, culture\n",
            "men: life, this, one, to, just, would, on, understanding, have, much\n",
            "nurse: practitioner, affiliates, specialists, collaborates, nursing, hospitals, diverse, experiences, honors, graduated\n",
            "doctor: fixing, college, completed, crowns, implant, provided, from, member, dental, tooth\n",
            "engineer: software, engineering, computer, technical, technology, electrical, industry, systems, worked, senior\n",
            "teacher: teachers, education, elementary, schools, teaching, curriculum, students, taught, literacy, mathematics\n",
            "dietitian: nutrition, registered, with, who, she, cooperates, clinical, practitioner, groups, medical\n",
            "\n",
            "\n"
          ]
        },
        {
          "metadata": {
            "tags": null
          },
          "name": "stderr",
          "output_type": "stream",
          "text": [
            "13517it [00:54, 229.97it/s]"
          ]
        },
        {
          "metadata": {
            "tags": null
          },
          "name": "stdout",
          "output_type": "stream",
          "text": [
            "| epoch   4 | 13500/70832 batches | loss    1.618 \n",
            "women: women’s, gender, living, the, she, working, her, and, identity, culture\n",
            "men: life, this, one, to, just, would, on, understanding, have, much\n",
            "nurse: practitioner, affiliates, specialists, collaborates, nursing, hospitals, diverse, experiences, honors, graduated\n",
            "doctor: fixing, college, completed, crowns, implant, provided, from, member, dental, tooth\n",
            "engineer: software, engineering, computer, technical, technology, electrical, industry, systems, worked, senior\n",
            "teacher: teachers, education, elementary, schools, teaching, curriculum, students, taught, literacy, mathematics\n",
            "dietitian: nutrition, registered, with, who, she, cooperates, clinical, practitioner, groups, medical\n",
            "\n",
            "\n"
          ]
        },
        {
          "metadata": {
            "tags": null
          },
          "name": "stderr",
          "output_type": "stream",
          "text": [
            "14026it [00:56, 216.89it/s]"
          ]
        },
        {
          "metadata": {
            "tags": null
          },
          "name": "stdout",
          "output_type": "stream",
          "text": [
            "| epoch   4 | 14000/70832 batches | loss    1.625 \n",
            "women: women’s, gender, living, the, she, working, her, and, identity, culture\n",
            "men: life, this, one, to, just, would, on, understanding, have, much\n",
            "nurse: practitioner, affiliates, specialists, collaborates, nursing, hospitals, diverse, experiences, honors, graduated\n",
            "doctor: fixing, college, completed, crowns, implant, provided, from, member, dental, tooth\n",
            "engineer: software, engineering, computer, technical, technology, electrical, industry, systems, worked, senior\n",
            "teacher: teachers, education, elementary, schools, teaching, curriculum, students, taught, literacy, mathematics\n",
            "dietitian: nutrition, registered, with, who, she, cooperates, clinical, practitioner, groups, medical\n",
            "\n",
            "\n"
          ]
        },
        {
          "metadata": {
            "tags": null
          },
          "name": "stderr",
          "output_type": "stream",
          "text": [
            "14517it [00:58, 229.76it/s]"
          ]
        },
        {
          "metadata": {
            "tags": null
          },
          "name": "stdout",
          "output_type": "stream",
          "text": [
            "| epoch   4 | 14500/70832 batches | loss    1.619 \n",
            "women: women’s, gender, living, the, she, working, her, and, identity, culture\n",
            "men: life, this, one, to, just, would, on, understanding, have, much\n",
            "nurse: practitioner, affiliates, specialists, collaborates, nursing, hospitals, diverse, experiences, honors, graduated\n",
            "doctor: fixing, college, completed, crowns, implant, provided, from, member, dental, tooth\n",
            "engineer: software, engineering, computer, technical, technology, electrical, industry, systems, worked, senior\n",
            "teacher: teachers, education, elementary, schools, teaching, curriculum, students, taught, literacy, mathematics\n",
            "dietitian: nutrition, registered, with, who, she, cooperates, clinical, practitioner, groups, medical\n",
            "\n",
            "\n"
          ]
        },
        {
          "metadata": {
            "tags": null
          },
          "name": "stderr",
          "output_type": "stream",
          "text": [
            "15024it [01:00, 226.14it/s]"
          ]
        },
        {
          "metadata": {
            "tags": null
          },
          "name": "stdout",
          "output_type": "stream",
          "text": [
            "| epoch   4 | 15000/70832 batches | loss    1.623 \n",
            "women: women’s, gender, living, the, she, working, her, and, identity, culture\n",
            "men: life, this, one, to, just, would, on, understanding, have, much\n",
            "nurse: practitioner, affiliates, specialists, collaborates, nursing, hospitals, diverse, experiences, honors, graduated\n",
            "doctor: fixing, college, completed, crowns, implant, provided, from, member, dental, tooth\n",
            "engineer: software, engineering, computer, technical, technology, electrical, industry, systems, worked, senior\n",
            "teacher: teachers, education, elementary, schools, teaching, curriculum, students, taught, literacy, mathematics\n",
            "dietitian: nutrition, registered, with, who, she, cooperates, clinical, practitioner, groups, medical\n",
            "\n",
            "\n"
          ]
        },
        {
          "metadata": {
            "tags": null
          },
          "name": "stderr",
          "output_type": "stream",
          "text": [
            "15522it [01:02, 229.68it/s]"
          ]
        },
        {
          "metadata": {
            "tags": null
          },
          "name": "stdout",
          "output_type": "stream",
          "text": [
            "| epoch   4 | 15500/70832 batches | loss    1.618 \n",
            "women: women’s, gender, living, the, she, working, her, and, identity, culture\n",
            "men: life, this, one, to, just, would, on, understanding, have, much\n",
            "nurse: practitioner, affiliates, specialists, collaborates, nursing, hospitals, diverse, experiences, honors, graduated\n",
            "doctor: fixing, college, completed, crowns, implant, provided, from, member, dental, tooth\n",
            "engineer: software, engineering, computer, technical, technology, electrical, industry, systems, worked, senior\n",
            "teacher: teachers, education, elementary, schools, teaching, curriculum, students, taught, literacy, mathematics\n",
            "dietitian: nutrition, registered, with, who, she, cooperates, clinical, practitioner, groups, medical\n",
            "\n",
            "\n"
          ]
        },
        {
          "metadata": {
            "tags": null
          },
          "name": "stderr",
          "output_type": "stream",
          "text": [
            "16027it [01:04, 215.53it/s]"
          ]
        },
        {
          "metadata": {
            "tags": null
          },
          "name": "stdout",
          "output_type": "stream",
          "text": [
            "| epoch   4 | 16000/70832 batches | loss    1.617 \n",
            "women: women’s, gender, living, the, she, working, her, and, identity, culture\n",
            "men: life, this, one, to, just, would, on, understanding, have, much\n",
            "nurse: practitioner, affiliates, specialists, collaborates, nursing, hospitals, diverse, experiences, honors, graduated\n",
            "doctor: fixing, college, completed, crowns, implant, provided, from, member, dental, tooth\n",
            "engineer: software, engineering, computer, technical, technology, electrical, industry, systems, worked, senior\n",
            "teacher: teachers, education, elementary, schools, teaching, curriculum, students, taught, literacy, mathematics\n",
            "dietitian: nutrition, registered, with, who, she, cooperates, clinical, practitioner, groups, medical\n",
            "\n",
            "\n"
          ]
        },
        {
          "metadata": {
            "tags": null
          },
          "name": "stderr",
          "output_type": "stream",
          "text": [
            "16534it [01:06, 238.21it/s]"
          ]
        },
        {
          "metadata": {
            "tags": null
          },
          "name": "stdout",
          "output_type": "stream",
          "text": [
            "| epoch   4 | 16500/70832 batches | loss    1.622 \n",
            "women: women’s, gender, living, the, she, working, her, and, identity, culture\n",
            "men: life, this, one, to, just, would, on, understanding, have, much\n",
            "nurse: practitioner, affiliates, specialists, collaborates, nursing, hospitals, diverse, experiences, honors, graduated\n",
            "doctor: fixing, college, completed, crowns, implant, provided, from, member, dental, tooth\n",
            "engineer: software, engineering, computer, technical, technology, electrical, industry, systems, worked, senior\n",
            "teacher: teachers, education, elementary, schools, teaching, curriculum, students, taught, literacy, mathematics\n",
            "dietitian: nutrition, registered, with, who, she, cooperates, clinical, practitioner, groups, medical\n",
            "\n",
            "\n"
          ]
        },
        {
          "metadata": {
            "tags": null
          },
          "name": "stderr",
          "output_type": "stream",
          "text": [
            "17033it [01:08, 232.74it/s]"
          ]
        },
        {
          "metadata": {
            "tags": null
          },
          "name": "stdout",
          "output_type": "stream",
          "text": [
            "| epoch   4 | 17000/70832 batches | loss    1.621 \n",
            "women: women’s, gender, living, the, she, working, her, and, identity, culture\n",
            "men: life, this, one, to, just, would, on, understanding, have, much\n",
            "nurse: practitioner, affiliates, specialists, collaborates, nursing, hospitals, diverse, experiences, honors, graduated\n",
            "doctor: fixing, college, completed, crowns, implant, provided, from, member, dental, tooth\n",
            "engineer: software, engineering, computer, technical, technology, electrical, industry, systems, worked, senior\n",
            "teacher: teachers, education, elementary, schools, teaching, curriculum, students, taught, literacy, mathematics\n",
            "dietitian: nutrition, registered, with, who, she, cooperates, clinical, practitioner, groups, medical\n",
            "\n",
            "\n"
          ]
        },
        {
          "metadata": {
            "tags": null
          },
          "name": "stderr",
          "output_type": "stream",
          "text": [
            "17518it [01:10, 194.88it/s]"
          ]
        },
        {
          "metadata": {
            "tags": null
          },
          "name": "stdout",
          "output_type": "stream",
          "text": [
            "| epoch   4 | 17500/70832 batches | loss    1.621 \n",
            "women: women’s, gender, living, the, she, working, her, and, identity, culture\n",
            "men: life, this, one, to, just, would, on, understanding, have, much\n",
            "nurse: practitioner, affiliates, specialists, collaborates, nursing, hospitals, diverse, experiences, honors, graduated\n",
            "doctor: fixing, college, completed, crowns, implant, provided, from, member, dental, tooth\n",
            "engineer: software, engineering, computer, technical, technology, electrical, industry, systems, worked, senior\n",
            "teacher: teachers, education, elementary, schools, teaching, curriculum, students, taught, literacy, mathematics\n",
            "dietitian: nutrition, registered, with, who, she, cooperates, clinical, practitioner, groups, medical\n",
            "\n",
            "\n"
          ]
        },
        {
          "metadata": {
            "tags": null
          },
          "name": "stderr",
          "output_type": "stream",
          "text": [
            "18014it [01:12, 235.63it/s]"
          ]
        },
        {
          "metadata": {
            "tags": null
          },
          "name": "stdout",
          "output_type": "stream",
          "text": [
            "| epoch   4 | 18000/70832 batches | loss    1.617 \n",
            "women: women’s, gender, living, the, she, working, her, and, identity, culture\n",
            "men: life, this, one, to, just, would, on, understanding, have, much\n",
            "nurse: practitioner, affiliates, specialists, collaborates, nursing, hospitals, diverse, experiences, honors, graduated\n",
            "doctor: fixing, college, completed, crowns, implant, provided, from, member, dental, tooth\n",
            "engineer: software, engineering, computer, technical, technology, electrical, industry, systems, worked, senior\n",
            "teacher: teachers, education, elementary, schools, teaching, curriculum, students, taught, literacy, mathematics\n",
            "dietitian: nutrition, registered, with, who, she, cooperates, clinical, practitioner, groups, medical\n",
            "\n",
            "\n"
          ]
        },
        {
          "metadata": {
            "tags": null
          },
          "name": "stderr",
          "output_type": "stream",
          "text": [
            "18525it [01:14, 217.44it/s]"
          ]
        },
        {
          "metadata": {
            "tags": null
          },
          "name": "stdout",
          "output_type": "stream",
          "text": [
            "| epoch   4 | 18500/70832 batches | loss    1.624 \n",
            "women: women’s, gender, living, the, she, working, her, and, identity, culture\n",
            "men: life, this, one, to, just, would, on, understanding, have, much\n",
            "nurse: practitioner, affiliates, specialists, collaborates, nursing, hospitals, diverse, experiences, honors, graduated\n",
            "doctor: fixing, college, completed, crowns, implant, provided, from, member, dental, tooth\n",
            "engineer: software, engineering, computer, technical, technology, electrical, industry, systems, worked, senior\n",
            "teacher: teachers, education, elementary, schools, teaching, curriculum, students, taught, literacy, mathematics\n",
            "dietitian: nutrition, registered, with, who, she, cooperates, clinical, practitioner, groups, medical\n",
            "\n",
            "\n"
          ]
        },
        {
          "metadata": {
            "tags": null
          },
          "name": "stderr",
          "output_type": "stream",
          "text": [
            "19037it [01:16, 230.65it/s]"
          ]
        },
        {
          "metadata": {
            "tags": null
          },
          "name": "stdout",
          "output_type": "stream",
          "text": [
            "| epoch   4 | 19000/70832 batches | loss    1.620 \n",
            "women: women’s, gender, living, the, she, working, her, and, identity, culture\n",
            "men: life, this, one, to, just, would, on, understanding, have, much\n",
            "nurse: practitioner, affiliates, specialists, collaborates, nursing, hospitals, diverse, experiences, honors, graduated\n",
            "doctor: fixing, college, completed, crowns, implant, provided, from, member, dental, tooth\n",
            "engineer: software, engineering, computer, technical, technology, electrical, industry, systems, worked, senior\n",
            "teacher: teachers, education, elementary, schools, teaching, curriculum, students, taught, literacy, mathematics\n",
            "dietitian: nutrition, registered, with, who, she, cooperates, clinical, practitioner, groups, medical\n",
            "\n",
            "\n"
          ]
        },
        {
          "metadata": {
            "tags": null
          },
          "name": "stderr",
          "output_type": "stream",
          "text": [
            "19529it [01:18, 231.98it/s]"
          ]
        },
        {
          "metadata": {
            "tags": null
          },
          "name": "stdout",
          "output_type": "stream",
          "text": [
            "| epoch   4 | 19500/70832 batches | loss    1.616 \n",
            "women: women’s, gender, living, the, she, working, her, and, identity, culture\n",
            "men: life, this, one, to, just, would, on, understanding, have, much\n",
            "nurse: practitioner, affiliates, specialists, collaborates, nursing, hospitals, diverse, experiences, honors, graduated\n",
            "doctor: fixing, college, completed, crowns, implant, provided, from, member, dental, tooth\n",
            "engineer: software, engineering, computer, technical, technology, electrical, industry, systems, worked, senior\n",
            "teacher: teachers, education, elementary, schools, teaching, curriculum, students, taught, literacy, mathematics\n",
            "dietitian: nutrition, registered, with, who, she, cooperates, clinical, practitioner, groups, medical\n",
            "\n",
            "\n"
          ]
        },
        {
          "metadata": {
            "tags": null
          },
          "name": "stderr",
          "output_type": "stream",
          "text": [
            "20028it [01:20, 228.29it/s]"
          ]
        },
        {
          "metadata": {
            "tags": null
          },
          "name": "stdout",
          "output_type": "stream",
          "text": [
            "| epoch   4 | 20000/70832 batches | loss    1.618 \n",
            "women: women’s, gender, living, the, she, working, her, and, identity, culture\n",
            "men: life, this, one, to, just, would, on, understanding, have, much\n",
            "nurse: practitioner, affiliates, specialists, collaborates, nursing, hospitals, diverse, experiences, honors, graduated\n",
            "doctor: fixing, college, completed, crowns, implant, provided, from, member, dental, tooth\n",
            "engineer: software, engineering, computer, technical, technology, electrical, industry, systems, worked, senior\n",
            "teacher: teachers, education, elementary, schools, teaching, curriculum, students, taught, literacy, mathematics\n",
            "dietitian: nutrition, registered, with, who, she, cooperates, clinical, practitioner, groups, medical\n",
            "\n",
            "\n"
          ]
        },
        {
          "metadata": {
            "tags": null
          },
          "name": "stderr",
          "output_type": "stream",
          "text": [
            "20520it [01:22, 208.57it/s]"
          ]
        },
        {
          "metadata": {
            "tags": null
          },
          "name": "stdout",
          "output_type": "stream",
          "text": [
            "| epoch   4 | 20500/70832 batches | loss    1.619 \n",
            "women: women’s, gender, living, the, she, working, her, and, identity, culture\n",
            "men: life, this, one, to, just, would, on, understanding, have, much\n",
            "nurse: practitioner, affiliates, specialists, collaborates, nursing, hospitals, diverse, experiences, honors, graduated\n",
            "doctor: fixing, college, completed, crowns, implant, provided, from, member, dental, tooth\n",
            "engineer: software, engineering, computer, technical, technology, electrical, industry, systems, worked, senior\n",
            "teacher: teachers, education, elementary, schools, teaching, curriculum, students, taught, literacy, mathematics\n",
            "dietitian: nutrition, registered, with, who, she, cooperates, clinical, practitioner, groups, medical\n",
            "\n",
            "\n"
          ]
        },
        {
          "metadata": {
            "tags": null
          },
          "name": "stderr",
          "output_type": "stream",
          "text": [
            "21022it [01:24, 225.16it/s]"
          ]
        },
        {
          "metadata": {
            "tags": null
          },
          "name": "stdout",
          "output_type": "stream",
          "text": [
            "| epoch   4 | 21000/70832 batches | loss    1.619 \n",
            "women: women’s, gender, living, the, she, working, her, and, identity, culture\n",
            "men: life, this, one, to, just, would, on, understanding, have, much\n",
            "nurse: practitioner, affiliates, specialists, collaborates, nursing, hospitals, diverse, experiences, honors, graduated\n",
            "doctor: fixing, college, completed, crowns, implant, provided, from, member, dental, tooth\n",
            "engineer: software, engineering, computer, technical, technology, electrical, industry, systems, worked, senior\n",
            "teacher: teachers, education, elementary, schools, teaching, curriculum, students, taught, literacy, mathematics\n",
            "dietitian: nutrition, registered, with, who, she, cooperates, clinical, practitioner, groups, medical\n",
            "\n",
            "\n"
          ]
        },
        {
          "metadata": {
            "tags": null
          },
          "name": "stderr",
          "output_type": "stream",
          "text": [
            "21521it [01:26, 227.86it/s]"
          ]
        },
        {
          "metadata": {
            "tags": null
          },
          "name": "stdout",
          "output_type": "stream",
          "text": [
            "| epoch   4 | 21500/70832 batches | loss    1.620 \n",
            "women: women’s, gender, living, the, she, working, her, and, identity, culture\n",
            "men: life, this, one, to, just, would, on, understanding, have, much\n",
            "nurse: practitioner, affiliates, specialists, collaborates, nursing, hospitals, diverse, experiences, honors, graduated\n",
            "doctor: fixing, college, completed, crowns, implant, provided, from, member, dental, tooth\n",
            "engineer: software, engineering, computer, technical, technology, electrical, industry, systems, worked, senior\n",
            "teacher: teachers, education, elementary, schools, teaching, curriculum, students, taught, literacy, mathematics\n",
            "dietitian: nutrition, registered, with, who, she, cooperates, clinical, practitioner, groups, medical\n",
            "\n",
            "\n"
          ]
        },
        {
          "metadata": {
            "tags": null
          },
          "name": "stderr",
          "output_type": "stream",
          "text": [
            "22022it [01:28, 223.62it/s]"
          ]
        },
        {
          "metadata": {
            "tags": null
          },
          "name": "stdout",
          "output_type": "stream",
          "text": [
            "| epoch   4 | 22000/70832 batches | loss    1.618 \n",
            "women: women’s, gender, living, the, she, working, her, and, identity, culture\n",
            "men: life, this, one, to, just, would, on, understanding, have, much\n",
            "nurse: practitioner, affiliates, specialists, collaborates, nursing, hospitals, diverse, experiences, honors, graduated\n",
            "doctor: fixing, college, completed, crowns, implant, provided, from, member, dental, tooth\n",
            "engineer: software, engineering, computer, technical, technology, electrical, industry, systems, worked, senior\n",
            "teacher: teachers, education, elementary, schools, teaching, curriculum, students, taught, literacy, mathematics\n",
            "dietitian: nutrition, registered, with, who, she, cooperates, clinical, practitioner, groups, medical\n",
            "\n",
            "\n"
          ]
        },
        {
          "metadata": {
            "tags": null
          },
          "name": "stderr",
          "output_type": "stream",
          "text": [
            "22522it [01:30, 225.41it/s]"
          ]
        },
        {
          "metadata": {
            "tags": null
          },
          "name": "stdout",
          "output_type": "stream",
          "text": [
            "| epoch   4 | 22500/70832 batches | loss    1.620 \n",
            "women: women’s, gender, living, the, she, working, her, and, identity, culture\n",
            "men: life, this, one, to, just, would, on, understanding, have, much\n",
            "nurse: practitioner, affiliates, specialists, collaborates, nursing, hospitals, diverse, experiences, honors, graduated\n",
            "doctor: fixing, college, completed, crowns, implant, provided, from, member, dental, tooth\n",
            "engineer: software, engineering, computer, technical, technology, electrical, industry, systems, worked, senior\n",
            "teacher: teachers, education, elementary, schools, teaching, curriculum, students, taught, literacy, mathematics\n",
            "dietitian: nutrition, registered, with, who, she, cooperates, clinical, practitioner, groups, medical\n",
            "\n",
            "\n"
          ]
        },
        {
          "metadata": {
            "tags": null
          },
          "name": "stderr",
          "output_type": "stream",
          "text": [
            "23025it [01:32, 223.57it/s]"
          ]
        },
        {
          "metadata": {
            "tags": null
          },
          "name": "stdout",
          "output_type": "stream",
          "text": [
            "| epoch   4 | 23000/70832 batches | loss    1.621 \n",
            "women: women’s, gender, living, the, she, working, her, and, identity, culture\n",
            "men: life, this, one, to, just, would, on, understanding, have, much\n",
            "nurse: practitioner, affiliates, specialists, collaborates, nursing, hospitals, diverse, experiences, honors, graduated\n",
            "doctor: fixing, college, completed, crowns, implant, provided, from, member, dental, tooth\n",
            "engineer: software, engineering, computer, technical, technology, electrical, industry, systems, worked, senior\n",
            "teacher: teachers, education, elementary, schools, teaching, curriculum, students, taught, literacy, mathematics\n",
            "dietitian: nutrition, registered, with, who, she, cooperates, clinical, practitioner, groups, medical\n",
            "\n",
            "\n"
          ]
        },
        {
          "metadata": {
            "tags": null
          },
          "name": "stderr",
          "output_type": "stream",
          "text": [
            "23521it [01:34, 209.48it/s]"
          ]
        },
        {
          "metadata": {
            "tags": null
          },
          "name": "stdout",
          "output_type": "stream",
          "text": [
            "| epoch   4 | 23500/70832 batches | loss    1.619 \n",
            "women: women’s, gender, living, the, she, working, her, and, identity, culture\n",
            "men: life, this, one, to, just, would, on, understanding, have, much\n",
            "nurse: practitioner, affiliates, specialists, collaborates, nursing, hospitals, diverse, experiences, honors, graduated\n",
            "doctor: fixing, college, completed, crowns, implant, provided, from, member, dental, tooth\n",
            "engineer: software, engineering, computer, technical, technology, electrical, industry, systems, worked, senior\n",
            "teacher: teachers, education, elementary, schools, teaching, curriculum, students, taught, literacy, mathematics\n",
            "dietitian: nutrition, registered, with, who, she, cooperates, clinical, practitioner, groups, medical\n",
            "\n",
            "\n"
          ]
        },
        {
          "metadata": {
            "tags": null
          },
          "name": "stderr",
          "output_type": "stream",
          "text": [
            "24019it [01:36, 226.64it/s]"
          ]
        },
        {
          "metadata": {
            "tags": null
          },
          "name": "stdout",
          "output_type": "stream",
          "text": [
            "| epoch   4 | 24000/70832 batches | loss    1.622 \n",
            "women: women’s, gender, living, the, she, working, her, and, identity, culture\n",
            "men: life, this, one, to, just, would, on, understanding, have, much\n",
            "nurse: practitioner, affiliates, specialists, collaborates, nursing, hospitals, diverse, experiences, honors, graduated\n",
            "doctor: fixing, college, completed, crowns, implant, provided, from, member, dental, tooth\n",
            "engineer: software, engineering, computer, technical, technology, electrical, industry, systems, worked, senior\n",
            "teacher: teachers, education, elementary, schools, teaching, curriculum, students, taught, literacy, mathematics\n",
            "dietitian: nutrition, registered, with, who, she, cooperates, clinical, practitioner, groups, medical\n",
            "\n",
            "\n"
          ]
        },
        {
          "metadata": {
            "tags": null
          },
          "name": "stderr",
          "output_type": "stream",
          "text": [
            "24519it [01:37, 230.93it/s]"
          ]
        },
        {
          "metadata": {
            "tags": null
          },
          "name": "stdout",
          "output_type": "stream",
          "text": [
            "| epoch   4 | 24500/70832 batches | loss    1.624 \n",
            "women: women’s, gender, living, the, she, working, her, and, identity, culture\n",
            "men: life, this, one, to, just, would, on, understanding, have, much\n",
            "nurse: practitioner, affiliates, specialists, collaborates, nursing, hospitals, diverse, experiences, honors, graduated\n",
            "doctor: fixing, college, completed, crowns, implant, provided, from, member, dental, tooth\n",
            "engineer: software, engineering, computer, technical, technology, electrical, industry, systems, worked, senior\n",
            "teacher: teachers, education, elementary, schools, teaching, curriculum, students, taught, literacy, mathematics\n",
            "dietitian: nutrition, registered, with, who, she, cooperates, clinical, practitioner, groups, medical\n",
            "\n",
            "\n"
          ]
        },
        {
          "metadata": {
            "tags": null
          },
          "name": "stderr",
          "output_type": "stream",
          "text": [
            "25009it [01:39, 229.53it/s]"
          ]
        },
        {
          "metadata": {
            "tags": null
          },
          "name": "stdout",
          "output_type": "stream",
          "text": [
            "| epoch   4 | 25000/70832 batches | loss    1.621 \n",
            "women: women’s, gender, living, the, she, working, her, and, identity, culture\n",
            "men: life, this, one, to, just, would, on, understanding, have, much\n",
            "nurse: practitioner, affiliates, specialists, collaborates, nursing, hospitals, diverse, experiences, honors, graduated\n",
            "doctor: fixing, college, completed, crowns, implant, provided, from, member, dental, tooth\n",
            "engineer: software, engineering, computer, technical, technology, electrical, industry, systems, worked, senior\n",
            "teacher: teachers, education, elementary, schools, teaching, curriculum, students, taught, literacy, mathematics\n",
            "dietitian: nutrition, registered, with, who, she, cooperates, clinical, practitioner, groups, medical\n",
            "\n",
            "\n"
          ]
        },
        {
          "metadata": {
            "tags": null
          },
          "name": "stderr",
          "output_type": "stream",
          "text": [
            "25532it [01:41, 231.28it/s]"
          ]
        },
        {
          "metadata": {
            "tags": null
          },
          "name": "stdout",
          "output_type": "stream",
          "text": [
            "| epoch   4 | 25500/70832 batches | loss    1.622 \n",
            "women: women’s, gender, living, the, she, working, her, and, identity, culture\n",
            "men: life, this, one, to, just, would, on, understanding, have, much\n",
            "nurse: practitioner, affiliates, specialists, collaborates, nursing, hospitals, diverse, experiences, honors, graduated\n",
            "doctor: fixing, college, completed, crowns, implant, provided, from, member, dental, tooth\n",
            "engineer: software, engineering, computer, technical, technology, electrical, industry, systems, worked, senior\n",
            "teacher: teachers, education, elementary, schools, teaching, curriculum, students, taught, literacy, mathematics\n",
            "dietitian: nutrition, registered, with, who, she, cooperates, clinical, practitioner, groups, medical\n",
            "\n",
            "\n"
          ]
        },
        {
          "output_type": "stream",
          "name": "stderr",
          "text": [
            "26016it [01:43, 225.52it/s]"
          ]
        },
        {
          "output_type": "stream",
          "name": "stdout",
          "text": [
            "| epoch   4 | 26000/70832 batches | loss    1.621 \n",
            "women: women’s, gender, living, the, she, working, her, and, identity, culture\n",
            "men: life, this, one, to, just, would, on, understanding, have, much\n",
            "nurse: practitioner, affiliates, specialists, collaborates, nursing, hospitals, diverse, experiences, honors, graduated\n",
            "doctor: fixing, college, completed, crowns, implant, provided, from, member, dental, tooth\n",
            "engineer: software, engineering, computer, technical, technology, electrical, industry, systems, worked, senior\n",
            "teacher: teachers, education, elementary, schools, teaching, curriculum, students, taught, literacy, mathematics\n",
            "dietitian: nutrition, registered, with, who, she, cooperates, clinical, practitioner, groups, medical\n",
            "\n",
            "\n"
          ]
        },
        {
          "output_type": "stream",
          "name": "stderr",
          "text": [
            "26529it [01:45, 226.58it/s]"
          ]
        },
        {
          "output_type": "stream",
          "name": "stdout",
          "text": [
            "| epoch   4 | 26500/70832 batches | loss    1.628 \n",
            "women: women’s, gender, living, the, she, working, her, and, identity, culture\n",
            "men: life, this, one, to, just, would, on, understanding, have, much\n",
            "nurse: practitioner, affiliates, specialists, collaborates, nursing, hospitals, diverse, experiences, honors, graduated\n",
            "doctor: fixing, college, completed, crowns, implant, provided, from, member, dental, tooth\n",
            "engineer: software, engineering, computer, technical, technology, electrical, industry, systems, worked, senior\n",
            "teacher: teachers, education, elementary, schools, teaching, curriculum, students, taught, literacy, mathematics\n",
            "dietitian: nutrition, registered, with, who, she, cooperates, clinical, practitioner, groups, medical\n",
            "\n",
            "\n"
          ]
        },
        {
          "output_type": "stream",
          "name": "stderr",
          "text": [
            "27037it [01:47, 230.57it/s]"
          ]
        },
        {
          "output_type": "stream",
          "name": "stdout",
          "text": [
            "| epoch   4 | 27000/70832 batches | loss    1.622 \n",
            "women: women’s, gender, living, the, she, working, her, and, identity, culture\n",
            "men: life, this, one, to, just, would, on, understanding, have, much\n",
            "nurse: practitioner, affiliates, specialists, collaborates, nursing, hospitals, diverse, experiences, honors, graduated\n",
            "doctor: fixing, college, completed, crowns, implant, provided, from, member, dental, tooth\n",
            "engineer: software, engineering, computer, technical, technology, electrical, industry, systems, worked, senior\n",
            "teacher: teachers, education, elementary, schools, teaching, curriculum, students, taught, literacy, mathematics\n",
            "dietitian: nutrition, registered, with, who, she, cooperates, clinical, practitioner, groups, medical\n",
            "\n",
            "\n"
          ]
        },
        {
          "output_type": "stream",
          "name": "stderr",
          "text": [
            "27526it [01:49, 227.18it/s]"
          ]
        },
        {
          "output_type": "stream",
          "name": "stdout",
          "text": [
            "| epoch   4 | 27500/70832 batches | loss    1.623 \n",
            "women: women’s, gender, living, the, she, working, her, and, identity, culture\n",
            "men: life, this, one, to, just, would, on, understanding, have, much\n",
            "nurse: practitioner, affiliates, specialists, collaborates, nursing, hospitals, diverse, experiences, honors, graduated\n",
            "doctor: fixing, college, completed, crowns, implant, provided, from, member, dental, tooth\n",
            "engineer: software, engineering, computer, technical, technology, electrical, industry, systems, worked, senior\n",
            "teacher: teachers, education, elementary, schools, teaching, curriculum, students, taught, literacy, mathematics\n",
            "dietitian: nutrition, registered, with, who, she, cooperates, clinical, practitioner, groups, medical\n",
            "\n",
            "\n"
          ]
        },
        {
          "output_type": "stream",
          "name": "stderr",
          "text": [
            "28014it [01:51, 231.05it/s]"
          ]
        },
        {
          "output_type": "stream",
          "name": "stdout",
          "text": [
            "| epoch   4 | 28000/70832 batches | loss    1.617 \n",
            "women: women’s, gender, living, the, she, working, her, and, identity, culture\n",
            "men: life, this, one, to, just, would, on, understanding, have, much\n",
            "nurse: practitioner, affiliates, specialists, collaborates, nursing, hospitals, diverse, experiences, honors, graduated\n",
            "doctor: fixing, college, completed, crowns, implant, provided, from, member, dental, tooth\n",
            "engineer: software, engineering, computer, technical, technology, electrical, industry, systems, worked, senior\n",
            "teacher: teachers, education, elementary, schools, teaching, curriculum, students, taught, literacy, mathematics\n",
            "dietitian: nutrition, registered, with, who, she, cooperates, clinical, practitioner, groups, medical\n",
            "\n",
            "\n"
          ]
        },
        {
          "output_type": "stream",
          "name": "stderr",
          "text": [
            "28520it [01:53, 195.53it/s]"
          ]
        },
        {
          "output_type": "stream",
          "name": "stdout",
          "text": [
            "| epoch   4 | 28500/70832 batches | loss    1.620 \n",
            "women: women’s, gender, living, the, she, working, her, and, identity, culture\n",
            "men: life, this, one, to, just, would, on, understanding, have, much\n",
            "nurse: practitioner, affiliates, specialists, collaborates, nursing, hospitals, diverse, experiences, honors, graduated\n",
            "doctor: fixing, college, completed, crowns, implant, provided, from, member, dental, tooth\n",
            "engineer: software, engineering, computer, technical, technology, electrical, industry, systems, worked, senior\n",
            "teacher: teachers, education, elementary, schools, teaching, curriculum, students, taught, literacy, mathematics\n",
            "dietitian: nutrition, registered, with, who, she, cooperates, clinical, practitioner, groups, medical\n",
            "\n",
            "\n"
          ]
        },
        {
          "output_type": "stream",
          "name": "stderr",
          "text": [
            "29021it [01:55, 229.01it/s]"
          ]
        },
        {
          "output_type": "stream",
          "name": "stdout",
          "text": [
            "| epoch   4 | 29000/70832 batches | loss    1.623 \n",
            "women: women’s, gender, living, the, she, working, her, and, identity, culture\n",
            "men: life, this, one, to, just, would, on, understanding, have, much\n",
            "nurse: practitioner, affiliates, specialists, collaborates, nursing, hospitals, diverse, experiences, honors, graduated\n",
            "doctor: fixing, college, completed, crowns, implant, provided, from, member, dental, tooth\n",
            "engineer: software, engineering, computer, technical, technology, electrical, industry, systems, worked, senior\n",
            "teacher: teachers, education, elementary, schools, teaching, curriculum, students, taught, literacy, mathematics\n",
            "dietitian: nutrition, registered, with, who, she, cooperates, clinical, practitioner, groups, medical\n",
            "\n",
            "\n"
          ]
        },
        {
          "output_type": "stream",
          "name": "stderr",
          "text": [
            "29535it [01:57, 229.18it/s]"
          ]
        },
        {
          "output_type": "stream",
          "name": "stdout",
          "text": [
            "| epoch   4 | 29500/70832 batches | loss    1.624 \n",
            "women: women’s, gender, living, the, she, working, her, and, identity, culture\n",
            "men: life, this, one, to, just, would, on, understanding, have, much\n",
            "nurse: practitioner, affiliates, specialists, collaborates, nursing, hospitals, diverse, experiences, honors, graduated\n",
            "doctor: fixing, college, completed, crowns, implant, provided, from, member, dental, tooth\n",
            "engineer: software, engineering, computer, technical, technology, electrical, industry, systems, worked, senior\n",
            "teacher: teachers, education, elementary, schools, teaching, curriculum, students, taught, literacy, mathematics\n",
            "dietitian: nutrition, registered, with, who, she, cooperates, clinical, practitioner, groups, medical\n",
            "\n",
            "\n"
          ]
        },
        {
          "output_type": "stream",
          "name": "stderr",
          "text": [
            "30029it [01:59, 234.97it/s]"
          ]
        },
        {
          "output_type": "stream",
          "name": "stdout",
          "text": [
            "| epoch   4 | 30000/70832 batches | loss    1.624 \n",
            "women: women’s, gender, living, the, she, working, her, and, identity, culture\n",
            "men: life, this, one, to, just, would, on, understanding, have, much\n",
            "nurse: practitioner, affiliates, specialists, collaborates, nursing, hospitals, diverse, experiences, honors, graduated\n",
            "doctor: fixing, college, completed, crowns, implant, provided, from, member, dental, tooth\n",
            "engineer: software, engineering, computer, technical, technology, electrical, industry, systems, worked, senior\n",
            "teacher: teachers, education, elementary, schools, teaching, curriculum, students, taught, literacy, mathematics\n",
            "dietitian: nutrition, registered, with, who, she, cooperates, clinical, practitioner, groups, medical\n",
            "\n",
            "\n"
          ]
        },
        {
          "output_type": "stream",
          "name": "stderr",
          "text": [
            "30521it [02:01, 223.21it/s]"
          ]
        },
        {
          "output_type": "stream",
          "name": "stdout",
          "text": [
            "| epoch   4 | 30500/70832 batches | loss    1.621 \n",
            "women: women’s, gender, living, the, she, working, her, and, identity, culture\n",
            "men: life, this, one, to, just, would, on, understanding, have, much\n",
            "nurse: practitioner, affiliates, specialists, collaborates, nursing, hospitals, diverse, experiences, honors, graduated\n",
            "doctor: fixing, college, completed, crowns, implant, provided, from, member, dental, tooth\n",
            "engineer: software, engineering, computer, technical, technology, electrical, industry, systems, worked, senior\n",
            "teacher: teachers, education, elementary, schools, teaching, curriculum, students, taught, literacy, mathematics\n",
            "dietitian: nutrition, registered, with, who, she, cooperates, clinical, practitioner, groups, medical\n",
            "\n",
            "\n"
          ]
        },
        {
          "output_type": "stream",
          "name": "stderr",
          "text": [
            "31013it [02:03, 231.23it/s]"
          ]
        },
        {
          "output_type": "stream",
          "name": "stdout",
          "text": [
            "| epoch   4 | 31000/70832 batches | loss    1.625 \n",
            "women: women’s, gender, living, the, she, working, her, and, identity, culture\n",
            "men: life, this, one, to, just, would, on, understanding, have, much\n",
            "nurse: practitioner, affiliates, specialists, collaborates, nursing, hospitals, diverse, experiences, honors, graduated\n",
            "doctor: fixing, college, completed, crowns, implant, provided, from, member, dental, tooth\n",
            "engineer: software, engineering, computer, technical, technology, electrical, industry, systems, worked, senior\n",
            "teacher: teachers, education, elementary, schools, teaching, curriculum, students, taught, literacy, mathematics\n",
            "dietitian: nutrition, registered, with, who, she, cooperates, clinical, practitioner, groups, medical\n",
            "\n",
            "\n"
          ]
        },
        {
          "output_type": "stream",
          "name": "stderr",
          "text": [
            "31527it [02:05, 229.50it/s]"
          ]
        },
        {
          "output_type": "stream",
          "name": "stdout",
          "text": [
            "| epoch   4 | 31500/70832 batches | loss    1.617 \n",
            "women: women’s, gender, living, the, she, working, her, and, identity, culture\n",
            "men: life, this, one, to, just, would, on, understanding, have, much\n",
            "nurse: practitioner, affiliates, specialists, collaborates, nursing, hospitals, diverse, experiences, honors, graduated\n",
            "doctor: fixing, college, completed, crowns, implant, provided, from, member, dental, tooth\n",
            "engineer: software, engineering, computer, technical, technology, electrical, industry, systems, worked, senior\n",
            "teacher: teachers, education, elementary, schools, teaching, curriculum, students, taught, literacy, mathematics\n",
            "dietitian: nutrition, registered, with, who, she, cooperates, clinical, practitioner, groups, medical\n",
            "\n",
            "\n"
          ]
        },
        {
          "output_type": "stream",
          "name": "stderr",
          "text": [
            "32025it [02:07, 219.93it/s]"
          ]
        },
        {
          "output_type": "stream",
          "name": "stdout",
          "text": [
            "| epoch   4 | 32000/70832 batches | loss    1.622 \n",
            "women: women’s, gender, living, the, she, working, her, and, identity, culture\n",
            "men: life, this, one, to, just, would, on, understanding, have, much\n",
            "nurse: practitioner, affiliates, specialists, collaborates, nursing, hospitals, diverse, experiences, honors, graduated\n",
            "doctor: fixing, college, completed, crowns, implant, provided, from, member, dental, tooth\n",
            "engineer: software, engineering, computer, technical, technology, electrical, industry, systems, worked, senior\n",
            "teacher: teachers, education, elementary, schools, teaching, curriculum, students, taught, literacy, mathematics\n",
            "dietitian: nutrition, registered, with, who, she, cooperates, clinical, practitioner, groups, medical\n",
            "\n",
            "\n"
          ]
        },
        {
          "output_type": "stream",
          "name": "stderr",
          "text": [
            "32523it [02:09, 225.52it/s]"
          ]
        },
        {
          "output_type": "stream",
          "name": "stdout",
          "text": [
            "| epoch   4 | 32500/70832 batches | loss    1.625 \n",
            "women: women’s, gender, living, the, she, working, her, and, identity, culture\n",
            "men: life, this, one, to, just, would, on, understanding, have, much\n",
            "nurse: practitioner, affiliates, specialists, collaborates, nursing, hospitals, diverse, experiences, honors, graduated\n",
            "doctor: fixing, college, completed, crowns, implant, provided, from, member, dental, tooth\n",
            "engineer: software, engineering, computer, technical, technology, electrical, industry, systems, worked, senior\n",
            "teacher: teachers, education, elementary, schools, teaching, curriculum, students, taught, literacy, mathematics\n",
            "dietitian: nutrition, registered, with, who, she, cooperates, clinical, practitioner, groups, medical\n",
            "\n",
            "\n"
          ]
        },
        {
          "output_type": "stream",
          "name": "stderr",
          "text": [
            "33017it [02:11, 228.95it/s]"
          ]
        },
        {
          "output_type": "stream",
          "name": "stdout",
          "text": [
            "| epoch   4 | 33000/70832 batches | loss    1.623 \n",
            "women: women’s, gender, living, the, she, working, her, and, identity, culture\n",
            "men: life, this, one, to, just, would, on, understanding, have, much\n",
            "nurse: practitioner, affiliates, specialists, collaborates, nursing, hospitals, diverse, experiences, honors, graduated\n",
            "doctor: fixing, college, completed, crowns, implant, provided, from, member, dental, tooth\n",
            "engineer: software, engineering, computer, technical, technology, electrical, industry, systems, worked, senior\n",
            "teacher: teachers, education, elementary, schools, teaching, curriculum, students, taught, literacy, mathematics\n",
            "dietitian: nutrition, registered, with, who, she, cooperates, clinical, practitioner, groups, medical\n",
            "\n",
            "\n"
          ]
        },
        {
          "output_type": "stream",
          "name": "stderr",
          "text": [
            "33533it [02:15, 214.02it/s]"
          ]
        },
        {
          "output_type": "stream",
          "name": "stdout",
          "text": [
            "| epoch   4 | 33500/70832 batches | loss    1.629 \n",
            "women: women’s, gender, living, the, she, working, her, and, identity, culture\n",
            "men: life, this, one, to, just, would, on, understanding, have, much\n",
            "nurse: practitioner, affiliates, specialists, collaborates, nursing, hospitals, diverse, experiences, honors, graduated\n",
            "doctor: fixing, college, completed, crowns, implant, provided, from, member, dental, tooth\n",
            "engineer: software, engineering, computer, technical, technology, electrical, industry, systems, worked, senior\n",
            "teacher: teachers, education, elementary, schools, teaching, curriculum, students, taught, literacy, mathematics\n",
            "dietitian: nutrition, registered, with, who, she, cooperates, clinical, practitioner, groups, medical\n",
            "\n",
            "\n"
          ]
        },
        {
          "output_type": "stream",
          "name": "stderr",
          "text": [
            "34020it [02:17, 219.00it/s]"
          ]
        },
        {
          "output_type": "stream",
          "name": "stdout",
          "text": [
            "| epoch   4 | 34000/70832 batches | loss    1.617 \n",
            "women: women’s, gender, living, the, she, working, her, and, identity, culture\n",
            "men: life, this, one, to, just, would, on, understanding, have, much\n",
            "nurse: practitioner, affiliates, specialists, collaborates, nursing, hospitals, diverse, experiences, honors, graduated\n",
            "doctor: fixing, college, completed, crowns, implant, provided, from, member, dental, tooth\n",
            "engineer: software, engineering, computer, technical, technology, electrical, industry, systems, worked, senior\n",
            "teacher: teachers, education, elementary, schools, teaching, curriculum, students, taught, literacy, mathematics\n",
            "dietitian: nutrition, registered, with, who, she, cooperates, clinical, practitioner, groups, medical\n",
            "\n",
            "\n"
          ]
        },
        {
          "output_type": "stream",
          "name": "stderr",
          "text": [
            "34509it [02:19, 235.27it/s]"
          ]
        },
        {
          "output_type": "stream",
          "name": "stdout",
          "text": [
            "| epoch   4 | 34500/70832 batches | loss    1.619 \n",
            "women: women’s, gender, living, the, she, working, her, and, identity, culture\n",
            "men: life, this, one, to, just, would, on, understanding, have, much\n",
            "nurse: practitioner, affiliates, specialists, collaborates, nursing, hospitals, diverse, experiences, honors, graduated\n",
            "doctor: fixing, college, completed, crowns, implant, provided, from, member, dental, tooth\n",
            "engineer: software, engineering, computer, technical, technology, electrical, industry, systems, worked, senior\n",
            "teacher: teachers, education, elementary, schools, teaching, curriculum, students, taught, literacy, mathematics\n",
            "dietitian: nutrition, registered, with, who, she, cooperates, clinical, practitioner, groups, medical\n",
            "\n",
            "\n"
          ]
        },
        {
          "output_type": "stream",
          "name": "stderr",
          "text": [
            "35028it [02:21, 230.88it/s]"
          ]
        },
        {
          "output_type": "stream",
          "name": "stdout",
          "text": [
            "| epoch   4 | 35000/70832 batches | loss    1.618 \n",
            "women: women’s, gender, living, the, she, working, her, and, identity, culture\n",
            "men: life, this, one, to, just, would, on, understanding, have, much\n",
            "nurse: practitioner, affiliates, specialists, collaborates, nursing, hospitals, diverse, experiences, honors, graduated\n",
            "doctor: fixing, college, completed, crowns, implant, provided, from, member, dental, tooth\n",
            "engineer: software, engineering, computer, technical, technology, electrical, industry, systems, worked, senior\n",
            "teacher: teachers, education, elementary, schools, teaching, curriculum, students, taught, literacy, mathematics\n",
            "dietitian: nutrition, registered, with, who, she, cooperates, clinical, practitioner, groups, medical\n",
            "\n",
            "\n"
          ]
        },
        {
          "output_type": "stream",
          "name": "stderr",
          "text": [
            "35526it [02:23, 224.48it/s]"
          ]
        },
        {
          "output_type": "stream",
          "name": "stdout",
          "text": [
            "| epoch   4 | 35500/70832 batches | loss    1.623 \n",
            "women: women’s, gender, living, the, she, working, her, and, identity, culture\n",
            "men: life, this, one, to, just, would, on, understanding, have, much\n",
            "nurse: practitioner, affiliates, specialists, collaborates, nursing, hospitals, diverse, experiences, honors, graduated\n",
            "doctor: fixing, college, completed, crowns, implant, provided, from, member, dental, tooth\n",
            "engineer: software, engineering, computer, technical, technology, electrical, industry, systems, worked, senior\n",
            "teacher: teachers, education, elementary, schools, teaching, curriculum, students, taught, literacy, mathematics\n",
            "dietitian: nutrition, registered, with, who, she, cooperates, clinical, practitioner, groups, medical\n",
            "\n",
            "\n"
          ]
        },
        {
          "output_type": "stream",
          "name": "stderr",
          "text": [
            "36023it [02:25, 227.23it/s]"
          ]
        },
        {
          "output_type": "stream",
          "name": "stdout",
          "text": [
            "| epoch   4 | 36000/70832 batches | loss    1.625 \n",
            "women: women’s, gender, living, the, she, working, her, and, identity, culture\n",
            "men: life, this, one, to, just, would, on, understanding, have, much\n",
            "nurse: practitioner, affiliates, specialists, collaborates, nursing, hospitals, diverse, experiences, honors, graduated\n",
            "doctor: fixing, college, completed, crowns, implant, provided, from, member, dental, tooth\n",
            "engineer: software, engineering, computer, technical, technology, electrical, industry, systems, worked, senior\n",
            "teacher: teachers, education, elementary, schools, teaching, curriculum, students, taught, literacy, mathematics\n",
            "dietitian: nutrition, registered, with, who, she, cooperates, clinical, practitioner, groups, medical\n",
            "\n",
            "\n"
          ]
        },
        {
          "output_type": "stream",
          "name": "stderr",
          "text": [
            "36526it [02:27, 223.59it/s]"
          ]
        },
        {
          "output_type": "stream",
          "name": "stdout",
          "text": [
            "| epoch   4 | 36500/70832 batches | loss    1.625 \n",
            "women: women’s, gender, living, the, she, working, her, and, identity, culture\n",
            "men: life, this, one, to, just, would, on, understanding, have, much\n",
            "nurse: practitioner, affiliates, specialists, collaborates, nursing, hospitals, diverse, experiences, honors, graduated\n",
            "doctor: fixing, college, completed, crowns, implant, provided, from, member, dental, tooth\n",
            "engineer: software, engineering, computer, technical, technology, electrical, industry, systems, worked, senior\n",
            "teacher: teachers, education, elementary, schools, teaching, curriculum, students, taught, literacy, mathematics\n",
            "dietitian: nutrition, registered, with, who, she, cooperates, clinical, practitioner, groups, medical\n",
            "\n",
            "\n"
          ]
        },
        {
          "output_type": "stream",
          "name": "stderr",
          "text": [
            "37026it [02:29, 221.95it/s]"
          ]
        },
        {
          "output_type": "stream",
          "name": "stdout",
          "text": [
            "| epoch   4 | 37000/70832 batches | loss    1.624 \n",
            "women: women’s, gender, living, the, she, working, her, and, identity, culture\n",
            "men: life, this, one, to, just, would, on, understanding, have, much\n",
            "nurse: practitioner, affiliates, specialists, collaborates, nursing, hospitals, diverse, experiences, honors, graduated\n",
            "doctor: fixing, college, completed, crowns, implant, provided, from, member, dental, tooth\n",
            "engineer: software, engineering, computer, technical, technology, electrical, industry, systems, worked, senior\n",
            "teacher: teachers, education, elementary, schools, teaching, curriculum, students, taught, literacy, mathematics\n",
            "dietitian: nutrition, registered, with, who, she, cooperates, clinical, practitioner, groups, medical\n",
            "\n",
            "\n"
          ]
        },
        {
          "output_type": "stream",
          "name": "stderr",
          "text": [
            "37514it [02:31, 211.03it/s]"
          ]
        },
        {
          "output_type": "stream",
          "name": "stdout",
          "text": [
            "| epoch   4 | 37500/70832 batches | loss    1.622 \n",
            "women: women’s, gender, living, the, she, working, her, and, identity, culture\n",
            "men: life, this, one, to, just, would, on, understanding, have, much\n",
            "nurse: practitioner, affiliates, specialists, collaborates, nursing, hospitals, diverse, experiences, honors, graduated\n",
            "doctor: fixing, college, completed, crowns, implant, provided, from, member, dental, tooth\n",
            "engineer: software, engineering, computer, technical, technology, electrical, industry, systems, worked, senior\n",
            "teacher: teachers, education, elementary, schools, teaching, curriculum, students, taught, literacy, mathematics\n",
            "dietitian: nutrition, registered, with, who, she, cooperates, clinical, practitioner, groups, medical\n",
            "\n",
            "\n"
          ]
        },
        {
          "output_type": "stream",
          "name": "stderr",
          "text": [
            "38035it [02:33, 232.61it/s]"
          ]
        },
        {
          "output_type": "stream",
          "name": "stdout",
          "text": [
            "| epoch   4 | 38000/70832 batches | loss    1.622 \n",
            "women: women’s, gender, living, the, she, working, her, and, identity, culture\n",
            "men: life, this, one, to, just, would, on, understanding, have, much\n",
            "nurse: practitioner, affiliates, specialists, collaborates, nursing, hospitals, diverse, experiences, honors, graduated\n",
            "doctor: fixing, college, completed, crowns, implant, provided, from, member, dental, tooth\n",
            "engineer: software, engineering, computer, technical, technology, electrical, industry, systems, worked, senior\n",
            "teacher: teachers, education, elementary, schools, teaching, curriculum, students, taught, literacy, mathematics\n",
            "dietitian: nutrition, registered, with, who, she, cooperates, clinical, practitioner, groups, medical\n",
            "\n",
            "\n"
          ]
        },
        {
          "output_type": "stream",
          "name": "stderr",
          "text": [
            "38533it [02:35, 234.41it/s]"
          ]
        },
        {
          "output_type": "stream",
          "name": "stdout",
          "text": [
            "| epoch   4 | 38500/70832 batches | loss    1.622 \n",
            "women: women’s, gender, living, the, she, working, her, and, identity, culture\n",
            "men: life, this, one, to, just, would, on, understanding, have, much\n",
            "nurse: practitioner, affiliates, specialists, collaborates, nursing, hospitals, diverse, experiences, honors, graduated\n",
            "doctor: fixing, college, completed, crowns, implant, provided, from, member, dental, tooth\n",
            "engineer: software, engineering, computer, technical, technology, electrical, industry, systems, worked, senior\n",
            "teacher: teachers, education, elementary, schools, teaching, curriculum, students, taught, literacy, mathematics\n",
            "dietitian: nutrition, registered, with, who, she, cooperates, clinical, practitioner, groups, medical\n",
            "\n",
            "\n"
          ]
        },
        {
          "output_type": "stream",
          "name": "stderr",
          "text": [
            "39021it [02:36, 224.05it/s]"
          ]
        },
        {
          "output_type": "stream",
          "name": "stdout",
          "text": [
            "| epoch   4 | 39000/70832 batches | loss    1.620 \n",
            "women: women’s, gender, living, the, she, working, her, and, identity, culture\n",
            "men: life, this, one, to, just, would, on, understanding, have, much\n",
            "nurse: practitioner, affiliates, specialists, collaborates, nursing, hospitals, diverse, experiences, honors, graduated\n",
            "doctor: fixing, college, completed, crowns, implant, provided, from, member, dental, tooth\n",
            "engineer: software, engineering, computer, technical, technology, electrical, industry, systems, worked, senior\n",
            "teacher: teachers, education, elementary, schools, teaching, curriculum, students, taught, literacy, mathematics\n",
            "dietitian: nutrition, registered, with, who, she, cooperates, clinical, practitioner, groups, medical\n",
            "\n",
            "\n"
          ]
        },
        {
          "output_type": "stream",
          "name": "stderr",
          "text": [
            "39512it [02:38, 236.22it/s]"
          ]
        },
        {
          "output_type": "stream",
          "name": "stdout",
          "text": [
            "| epoch   4 | 39500/70832 batches | loss    1.620 \n",
            "women: women’s, gender, living, the, she, working, her, and, identity, culture\n",
            "men: life, this, one, to, just, would, on, understanding, have, much\n",
            "nurse: practitioner, affiliates, specialists, collaborates, nursing, hospitals, diverse, experiences, honors, graduated\n",
            "doctor: fixing, college, completed, crowns, implant, provided, from, member, dental, tooth\n",
            "engineer: software, engineering, computer, technical, technology, electrical, industry, systems, worked, senior\n",
            "teacher: teachers, education, elementary, schools, teaching, curriculum, students, taught, literacy, mathematics\n",
            "dietitian: nutrition, registered, with, who, she, cooperates, clinical, practitioner, groups, medical\n",
            "\n",
            "\n"
          ]
        },
        {
          "output_type": "stream",
          "name": "stderr",
          "text": [
            "40011it [02:40, 233.98it/s]"
          ]
        },
        {
          "output_type": "stream",
          "name": "stdout",
          "text": [
            "| epoch   4 | 40000/70832 batches | loss    1.619 \n",
            "women: women’s, gender, living, the, she, working, her, and, identity, culture\n",
            "men: life, this, one, to, just, would, on, understanding, have, much\n",
            "nurse: practitioner, affiliates, specialists, collaborates, nursing, hospitals, diverse, experiences, honors, graduated\n",
            "doctor: fixing, college, completed, crowns, implant, provided, from, member, dental, tooth\n",
            "engineer: software, engineering, computer, technical, technology, electrical, industry, systems, worked, senior\n",
            "teacher: teachers, education, elementary, schools, teaching, curriculum, students, taught, literacy, mathematics\n",
            "dietitian: nutrition, registered, with, who, she, cooperates, clinical, practitioner, groups, medical\n",
            "\n",
            "\n"
          ]
        },
        {
          "output_type": "stream",
          "name": "stderr",
          "text": [
            "40525it [02:42, 221.55it/s]"
          ]
        },
        {
          "output_type": "stream",
          "name": "stdout",
          "text": [
            "| epoch   4 | 40500/70832 batches | loss    1.618 \n",
            "women: women’s, gender, living, the, she, working, her, and, identity, culture\n",
            "men: life, this, one, to, just, would, on, understanding, have, much\n",
            "nurse: practitioner, affiliates, specialists, collaborates, nursing, hospitals, diverse, experiences, honors, graduated\n",
            "doctor: fixing, college, completed, crowns, implant, provided, from, member, dental, tooth\n",
            "engineer: software, engineering, computer, technical, technology, electrical, industry, systems, worked, senior\n",
            "teacher: teachers, education, elementary, schools, teaching, curriculum, students, taught, literacy, mathematics\n",
            "dietitian: nutrition, registered, with, who, she, cooperates, clinical, practitioner, groups, medical\n",
            "\n",
            "\n"
          ]
        },
        {
          "output_type": "stream",
          "name": "stderr",
          "text": [
            "41018it [02:44, 227.64it/s]"
          ]
        },
        {
          "output_type": "stream",
          "name": "stdout",
          "text": [
            "| epoch   4 | 41000/70832 batches | loss    1.616 \n",
            "women: women’s, gender, living, the, she, working, her, and, identity, culture\n",
            "men: life, this, one, to, just, would, on, understanding, have, much\n",
            "nurse: practitioner, affiliates, specialists, collaborates, nursing, hospitals, diverse, experiences, honors, graduated\n",
            "doctor: fixing, college, completed, crowns, implant, provided, from, member, dental, tooth\n",
            "engineer: software, engineering, computer, technical, technology, electrical, industry, systems, worked, senior\n",
            "teacher: teachers, education, elementary, schools, teaching, curriculum, students, taught, literacy, mathematics\n",
            "dietitian: nutrition, registered, with, who, she, cooperates, clinical, practitioner, groups, medical\n",
            "\n",
            "\n"
          ]
        },
        {
          "output_type": "stream",
          "name": "stderr",
          "text": [
            "41511it [02:46, 228.21it/s]"
          ]
        },
        {
          "output_type": "stream",
          "name": "stdout",
          "text": [
            "| epoch   4 | 41500/70832 batches | loss    1.614 \n",
            "women: women’s, gender, living, the, she, working, her, and, identity, culture\n",
            "men: life, this, one, to, just, would, on, understanding, have, much\n",
            "nurse: practitioner, affiliates, specialists, collaborates, nursing, hospitals, diverse, experiences, honors, graduated\n",
            "doctor: fixing, college, completed, crowns, implant, provided, from, member, dental, tooth\n",
            "engineer: software, engineering, computer, technical, technology, electrical, industry, systems, worked, senior\n",
            "teacher: teachers, education, elementary, schools, teaching, curriculum, students, taught, literacy, mathematics\n",
            "dietitian: nutrition, registered, with, who, she, cooperates, clinical, practitioner, groups, medical\n",
            "\n",
            "\n"
          ]
        },
        {
          "output_type": "stream",
          "name": "stderr",
          "text": [
            "42033it [02:48, 226.56it/s]"
          ]
        },
        {
          "output_type": "stream",
          "name": "stdout",
          "text": [
            "| epoch   4 | 42000/70832 batches | loss    1.622 \n",
            "women: women’s, gender, living, the, she, working, her, and, identity, culture\n",
            "men: life, this, one, to, just, would, on, understanding, have, much\n",
            "nurse: practitioner, affiliates, specialists, collaborates, nursing, hospitals, diverse, experiences, honors, graduated\n",
            "doctor: fixing, college, completed, crowns, implant, provided, from, member, dental, tooth\n",
            "engineer: software, engineering, computer, technical, technology, electrical, industry, systems, worked, senior\n",
            "teacher: teachers, education, elementary, schools, teaching, curriculum, students, taught, literacy, mathematics\n",
            "dietitian: nutrition, registered, with, who, she, cooperates, clinical, practitioner, groups, medical\n",
            "\n",
            "\n"
          ]
        },
        {
          "output_type": "stream",
          "name": "stderr",
          "text": [
            "42525it [02:50, 224.47it/s]"
          ]
        },
        {
          "output_type": "stream",
          "name": "stdout",
          "text": [
            "| epoch   4 | 42500/70832 batches | loss    1.618 \n",
            "women: women’s, gender, living, the, she, working, her, and, identity, culture\n",
            "men: life, this, one, to, just, would, on, understanding, have, much\n",
            "nurse: practitioner, affiliates, specialists, collaborates, nursing, hospitals, diverse, experiences, honors, graduated\n",
            "doctor: fixing, college, completed, crowns, implant, provided, from, member, dental, tooth\n",
            "engineer: software, engineering, computer, technical, technology, electrical, industry, systems, worked, senior\n",
            "teacher: teachers, education, elementary, schools, teaching, curriculum, students, taught, literacy, mathematics\n",
            "dietitian: nutrition, registered, with, who, she, cooperates, clinical, practitioner, groups, medical\n",
            "\n",
            "\n"
          ]
        },
        {
          "output_type": "stream",
          "name": "stderr",
          "text": [
            "43017it [02:52, 229.29it/s]"
          ]
        },
        {
          "output_type": "stream",
          "name": "stdout",
          "text": [
            "| epoch   4 | 43000/70832 batches | loss    1.623 \n",
            "women: women’s, gender, living, the, she, working, her, and, identity, culture\n",
            "men: life, this, one, to, just, would, on, understanding, have, much\n",
            "nurse: practitioner, affiliates, specialists, collaborates, nursing, hospitals, diverse, experiences, honors, graduated\n",
            "doctor: fixing, college, completed, crowns, implant, provided, from, member, dental, tooth\n",
            "engineer: software, engineering, computer, technical, technology, electrical, industry, systems, worked, senior\n",
            "teacher: teachers, education, elementary, schools, teaching, curriculum, students, taught, literacy, mathematics\n",
            "dietitian: nutrition, registered, with, who, she, cooperates, clinical, practitioner, groups, medical\n",
            "\n",
            "\n"
          ]
        },
        {
          "output_type": "stream",
          "name": "stderr",
          "text": [
            "43531it [02:54, 211.66it/s]"
          ]
        },
        {
          "output_type": "stream",
          "name": "stdout",
          "text": [
            "| epoch   4 | 43500/70832 batches | loss    1.618 \n",
            "women: women’s, gender, living, the, she, working, her, and, identity, culture\n",
            "men: life, this, one, to, just, would, on, understanding, have, much\n",
            "nurse: practitioner, affiliates, specialists, collaborates, nursing, hospitals, diverse, experiences, honors, graduated\n",
            "doctor: fixing, college, completed, crowns, implant, provided, from, member, dental, tooth\n",
            "engineer: software, engineering, computer, technical, technology, electrical, industry, systems, worked, senior\n",
            "teacher: teachers, education, elementary, schools, teaching, curriculum, students, taught, literacy, mathematics\n",
            "dietitian: nutrition, registered, with, who, she, cooperates, clinical, practitioner, groups, medical\n",
            "\n",
            "\n"
          ]
        },
        {
          "output_type": "stream",
          "name": "stderr",
          "text": [
            "44017it [02:56, 230.65it/s]"
          ]
        },
        {
          "output_type": "stream",
          "name": "stdout",
          "text": [
            "| epoch   4 | 44000/70832 batches | loss    1.623 \n",
            "women: women’s, gender, living, the, she, working, her, and, identity, culture\n",
            "men: life, this, one, to, just, would, on, understanding, have, much\n",
            "nurse: practitioner, affiliates, specialists, collaborates, nursing, hospitals, diverse, experiences, honors, graduated\n",
            "doctor: fixing, college, completed, crowns, implant, provided, from, member, dental, tooth\n",
            "engineer: software, engineering, computer, technical, technology, electrical, industry, systems, worked, senior\n",
            "teacher: teachers, education, elementary, schools, teaching, curriculum, students, taught, literacy, mathematics\n",
            "dietitian: nutrition, registered, with, who, she, cooperates, clinical, practitioner, groups, medical\n",
            "\n",
            "\n"
          ]
        },
        {
          "output_type": "stream",
          "name": "stderr",
          "text": [
            "44518it [02:58, 231.92it/s]"
          ]
        },
        {
          "output_type": "stream",
          "name": "stdout",
          "text": [
            "| epoch   4 | 44500/70832 batches | loss    1.620 \n",
            "women: women’s, gender, living, the, she, working, her, and, identity, culture\n",
            "men: life, this, one, to, just, would, on, understanding, have, much\n",
            "nurse: practitioner, affiliates, specialists, collaborates, nursing, hospitals, diverse, experiences, honors, graduated\n",
            "doctor: fixing, college, completed, crowns, implant, provided, from, member, dental, tooth\n",
            "engineer: software, engineering, computer, technical, technology, electrical, industry, systems, worked, senior\n",
            "teacher: teachers, education, elementary, schools, teaching, curriculum, students, taught, literacy, mathematics\n",
            "dietitian: nutrition, registered, with, who, she, cooperates, clinical, practitioner, groups, medical\n",
            "\n",
            "\n"
          ]
        },
        {
          "output_type": "stream",
          "name": "stderr",
          "text": [
            "45016it [03:00, 231.18it/s]"
          ]
        },
        {
          "output_type": "stream",
          "name": "stdout",
          "text": [
            "| epoch   4 | 45000/70832 batches | loss    1.617 \n",
            "women: women’s, gender, living, the, she, working, her, and, identity, culture\n",
            "men: life, this, one, to, just, would, on, understanding, have, much\n",
            "nurse: practitioner, affiliates, specialists, collaborates, nursing, hospitals, diverse, experiences, honors, graduated\n",
            "doctor: fixing, college, completed, crowns, implant, provided, from, member, dental, tooth\n",
            "engineer: software, engineering, computer, technical, technology, electrical, industry, systems, worked, senior\n",
            "teacher: teachers, education, elementary, schools, teaching, curriculum, students, taught, literacy, mathematics\n",
            "dietitian: nutrition, registered, with, who, she, cooperates, clinical, practitioner, groups, medical\n",
            "\n",
            "\n"
          ]
        },
        {
          "output_type": "stream",
          "name": "stderr",
          "text": [
            "45513it [03:02, 233.69it/s]"
          ]
        },
        {
          "output_type": "stream",
          "name": "stdout",
          "text": [
            "| epoch   4 | 45500/70832 batches | loss    1.620 \n",
            "women: women’s, gender, living, the, she, working, her, and, identity, culture\n",
            "men: life, this, one, to, just, would, on, understanding, have, much\n",
            "nurse: practitioner, affiliates, specialists, collaborates, nursing, hospitals, diverse, experiences, honors, graduated\n",
            "doctor: fixing, college, completed, crowns, implant, provided, from, member, dental, tooth\n",
            "engineer: software, engineering, computer, technical, technology, electrical, industry, systems, worked, senior\n",
            "teacher: teachers, education, elementary, schools, teaching, curriculum, students, taught, literacy, mathematics\n",
            "dietitian: nutrition, registered, with, who, she, cooperates, clinical, practitioner, groups, medical\n",
            "\n",
            "\n"
          ]
        },
        {
          "output_type": "stream",
          "name": "stderr",
          "text": [
            "46008it [03:04, 226.90it/s]"
          ]
        },
        {
          "output_type": "stream",
          "name": "stdout",
          "text": [
            "| epoch   4 | 46000/70832 batches | loss    1.620 \n",
            "women: women’s, gender, living, the, she, working, her, and, identity, culture\n",
            "men: life, this, one, to, just, would, on, understanding, have, much\n",
            "nurse: practitioner, affiliates, specialists, collaborates, nursing, hospitals, diverse, experiences, honors, graduated\n",
            "doctor: fixing, college, completed, crowns, implant, provided, from, member, dental, tooth\n",
            "engineer: software, engineering, computer, technical, technology, electrical, industry, systems, worked, senior\n",
            "teacher: teachers, education, elementary, schools, teaching, curriculum, students, taught, literacy, mathematics\n",
            "dietitian: nutrition, registered, with, who, she, cooperates, clinical, practitioner, groups, medical\n",
            "\n",
            "\n"
          ]
        },
        {
          "output_type": "stream",
          "name": "stderr",
          "text": [
            "46525it [03:06, 226.80it/s]"
          ]
        },
        {
          "output_type": "stream",
          "name": "stdout",
          "text": [
            "| epoch   4 | 46500/70832 batches | loss    1.615 \n",
            "women: women’s, gender, living, the, she, working, her, and, identity, culture\n",
            "men: life, this, one, to, just, would, on, understanding, have, much\n",
            "nurse: practitioner, affiliates, specialists, collaborates, nursing, hospitals, diverse, experiences, honors, graduated\n",
            "doctor: fixing, college, completed, crowns, implant, provided, from, member, dental, tooth\n",
            "engineer: software, engineering, computer, technical, technology, electrical, industry, systems, worked, senior\n",
            "teacher: teachers, education, elementary, schools, teaching, curriculum, students, taught, literacy, mathematics\n",
            "dietitian: nutrition, registered, with, who, she, cooperates, clinical, practitioner, groups, medical\n",
            "\n",
            "\n"
          ]
        },
        {
          "output_type": "stream",
          "name": "stderr",
          "text": [
            "47013it [03:08, 231.98it/s]"
          ]
        },
        {
          "output_type": "stream",
          "name": "stdout",
          "text": [
            "| epoch   4 | 47000/70832 batches | loss    1.618 \n",
            "women: women’s, gender, living, the, she, working, her, and, identity, culture\n",
            "men: life, this, one, to, just, would, on, understanding, have, much\n",
            "nurse: practitioner, affiliates, specialists, collaborates, nursing, hospitals, diverse, experiences, honors, graduated\n",
            "doctor: fixing, college, completed, crowns, implant, provided, from, member, dental, tooth\n",
            "engineer: software, engineering, computer, technical, technology, electrical, industry, systems, worked, senior\n",
            "teacher: teachers, education, elementary, schools, teaching, curriculum, students, taught, literacy, mathematics\n",
            "dietitian: nutrition, registered, with, who, she, cooperates, clinical, practitioner, groups, medical\n",
            "\n",
            "\n"
          ]
        },
        {
          "output_type": "stream",
          "name": "stderr",
          "text": [
            "47517it [03:10, 234.19it/s]"
          ]
        },
        {
          "output_type": "stream",
          "name": "stdout",
          "text": [
            "| epoch   4 | 47500/70832 batches | loss    1.620 \n",
            "women: women’s, gender, living, the, she, working, her, and, identity, culture\n",
            "men: life, this, one, to, just, would, on, understanding, have, much\n",
            "nurse: practitioner, affiliates, specialists, collaborates, nursing, hospitals, diverse, experiences, honors, graduated\n",
            "doctor: fixing, college, completed, crowns, implant, provided, from, member, dental, tooth\n",
            "engineer: software, engineering, computer, technical, technology, electrical, industry, systems, worked, senior\n",
            "teacher: teachers, education, elementary, schools, teaching, curriculum, students, taught, literacy, mathematics\n",
            "dietitian: nutrition, registered, with, who, she, cooperates, clinical, practitioner, groups, medical\n",
            "\n",
            "\n"
          ]
        },
        {
          "output_type": "stream",
          "name": "stderr",
          "text": [
            "48013it [03:11, 235.15it/s]"
          ]
        },
        {
          "output_type": "stream",
          "name": "stdout",
          "text": [
            "| epoch   4 | 48000/70832 batches | loss    1.621 \n",
            "women: women’s, gender, living, the, she, working, her, and, identity, culture\n",
            "men: life, this, one, to, just, would, on, understanding, have, much\n",
            "nurse: practitioner, affiliates, specialists, collaborates, nursing, hospitals, diverse, experiences, honors, graduated\n",
            "doctor: fixing, college, completed, crowns, implant, provided, from, member, dental, tooth\n",
            "engineer: software, engineering, computer, technical, technology, electrical, industry, systems, worked, senior\n",
            "teacher: teachers, education, elementary, schools, teaching, curriculum, students, taught, literacy, mathematics\n",
            "dietitian: nutrition, registered, with, who, she, cooperates, clinical, practitioner, groups, medical\n",
            "\n",
            "\n"
          ]
        },
        {
          "output_type": "stream",
          "name": "stderr",
          "text": [
            "48534it [03:13, 235.13it/s]"
          ]
        },
        {
          "output_type": "stream",
          "name": "stdout",
          "text": [
            "| epoch   4 | 48500/70832 batches | loss    1.618 \n",
            "women: women’s, gender, living, the, she, working, her, and, identity, culture\n",
            "men: life, this, one, to, just, would, on, understanding, have, much\n",
            "nurse: practitioner, affiliates, specialists, collaborates, nursing, hospitals, diverse, experiences, honors, graduated\n",
            "doctor: fixing, college, completed, crowns, implant, provided, from, member, dental, tooth\n",
            "engineer: software, engineering, computer, technical, technology, electrical, industry, systems, worked, senior\n",
            "teacher: teachers, education, elementary, schools, teaching, curriculum, students, taught, literacy, mathematics\n",
            "dietitian: nutrition, registered, with, who, she, cooperates, clinical, practitioner, groups, medical\n",
            "\n",
            "\n"
          ]
        },
        {
          "output_type": "stream",
          "name": "stderr",
          "text": [
            "49023it [03:15, 209.92it/s]"
          ]
        },
        {
          "output_type": "stream",
          "name": "stdout",
          "text": [
            "| epoch   4 | 49000/70832 batches | loss    1.618 \n",
            "women: women’s, gender, living, the, she, working, her, and, identity, culture\n",
            "men: life, this, one, to, just, would, on, understanding, have, much\n",
            "nurse: practitioner, affiliates, specialists, collaborates, nursing, hospitals, diverse, experiences, honors, graduated\n",
            "doctor: fixing, college, completed, crowns, implant, provided, from, member, dental, tooth\n",
            "engineer: software, engineering, computer, technical, technology, electrical, industry, systems, worked, senior\n",
            "teacher: teachers, education, elementary, schools, teaching, curriculum, students, taught, literacy, mathematics\n",
            "dietitian: nutrition, registered, with, who, she, cooperates, clinical, practitioner, groups, medical\n",
            "\n",
            "\n"
          ]
        },
        {
          "output_type": "stream",
          "name": "stderr",
          "text": [
            "49521it [03:17, 225.44it/s]"
          ]
        },
        {
          "output_type": "stream",
          "name": "stdout",
          "text": [
            "| epoch   4 | 49500/70832 batches | loss    1.617 \n",
            "women: women’s, gender, living, the, she, working, her, and, identity, culture\n",
            "men: life, this, one, to, just, would, on, understanding, have, much\n",
            "nurse: practitioner, affiliates, specialists, collaborates, nursing, hospitals, diverse, experiences, honors, graduated\n",
            "doctor: fixing, college, completed, crowns, implant, provided, from, member, dental, tooth\n",
            "engineer: software, engineering, computer, technical, technology, electrical, industry, systems, worked, senior\n",
            "teacher: teachers, education, elementary, schools, teaching, curriculum, students, taught, literacy, mathematics\n",
            "dietitian: nutrition, registered, with, who, she, cooperates, clinical, practitioner, groups, medical\n",
            "\n",
            "\n"
          ]
        },
        {
          "output_type": "stream",
          "name": "stderr",
          "text": [
            "50034it [03:19, 227.06it/s]"
          ]
        },
        {
          "output_type": "stream",
          "name": "stdout",
          "text": [
            "| epoch   4 | 50000/70832 batches | loss    1.624 \n",
            "women: women’s, gender, living, the, she, working, her, and, identity, culture\n",
            "men: life, this, one, to, just, would, on, understanding, have, much\n",
            "nurse: practitioner, affiliates, specialists, collaborates, nursing, hospitals, diverse, experiences, honors, graduated\n",
            "doctor: fixing, college, completed, crowns, implant, provided, from, member, dental, tooth\n",
            "engineer: software, engineering, computer, technical, technology, electrical, industry, systems, worked, senior\n",
            "teacher: teachers, education, elementary, schools, teaching, curriculum, students, taught, literacy, mathematics\n",
            "dietitian: nutrition, registered, with, who, she, cooperates, clinical, practitioner, groups, medical\n",
            "\n",
            "\n"
          ]
        },
        {
          "output_type": "stream",
          "name": "stderr",
          "text": [
            "50529it [03:21, 231.42it/s]"
          ]
        },
        {
          "output_type": "stream",
          "name": "stdout",
          "text": [
            "| epoch   4 | 50500/70832 batches | loss    1.624 \n",
            "women: women’s, gender, living, the, she, working, her, and, identity, culture\n",
            "men: life, this, one, to, just, would, on, understanding, have, much\n",
            "nurse: practitioner, affiliates, specialists, collaborates, nursing, hospitals, diverse, experiences, honors, graduated\n",
            "doctor: fixing, college, completed, crowns, implant, provided, from, member, dental, tooth\n",
            "engineer: software, engineering, computer, technical, technology, electrical, industry, systems, worked, senior\n",
            "teacher: teachers, education, elementary, schools, teaching, curriculum, students, taught, literacy, mathematics\n",
            "dietitian: nutrition, registered, with, who, she, cooperates, clinical, practitioner, groups, medical\n",
            "\n",
            "\n"
          ]
        },
        {
          "output_type": "stream",
          "name": "stderr",
          "text": [
            "51027it [03:23, 229.32it/s]"
          ]
        },
        {
          "output_type": "stream",
          "name": "stdout",
          "text": [
            "| epoch   4 | 51000/70832 batches | loss    1.621 \n",
            "women: women’s, gender, living, she, the, working, her, and, identity, culture\n",
            "men: life, this, one, to, just, would, on, understanding, have, much\n",
            "nurse: practitioner, affiliates, specialists, collaborates, nursing, hospitals, diverse, experiences, honors, graduated\n",
            "doctor: fixing, college, completed, crowns, implant, provided, from, member, dental, tooth\n",
            "engineer: software, engineering, computer, technical, technology, electrical, industry, systems, worked, senior\n",
            "teacher: teachers, education, elementary, schools, teaching, curriculum, students, taught, literacy, mathematics\n",
            "dietitian: nutrition, registered, with, who, she, cooperates, clinical, practitioner, groups, medical\n",
            "\n",
            "\n"
          ]
        },
        {
          "output_type": "stream",
          "name": "stderr",
          "text": [
            "51516it [03:25, 215.98it/s]"
          ]
        },
        {
          "output_type": "stream",
          "name": "stdout",
          "text": [
            "| epoch   4 | 51500/70832 batches | loss    1.624 \n",
            "women: women’s, gender, living, she, the, working, her, and, identity, culture\n",
            "men: life, this, one, to, just, would, on, understanding, have, much\n",
            "nurse: practitioner, affiliates, specialists, collaborates, nursing, hospitals, diverse, experiences, honors, graduated\n",
            "doctor: fixing, college, completed, crowns, implant, provided, from, member, dental, tooth\n",
            "engineer: software, engineering, computer, technical, technology, electrical, industry, systems, worked, senior\n",
            "teacher: teachers, education, elementary, schools, teaching, curriculum, students, taught, literacy, mathematics\n",
            "dietitian: nutrition, registered, with, who, she, cooperates, clinical, practitioner, groups, medical\n",
            "\n",
            "\n"
          ]
        },
        {
          "output_type": "stream",
          "name": "stderr",
          "text": [
            "52028it [03:27, 211.98it/s]"
          ]
        },
        {
          "output_type": "stream",
          "name": "stdout",
          "text": [
            "| epoch   4 | 52000/70832 batches | loss    1.615 \n",
            "women: women’s, gender, living, she, the, working, her, and, identity, culture\n",
            "men: life, this, one, to, just, would, on, understanding, have, much\n",
            "nurse: practitioner, affiliates, specialists, collaborates, nursing, hospitals, diverse, experiences, honors, graduated\n",
            "doctor: fixing, college, completed, crowns, implant, provided, from, member, dental, tooth\n",
            "engineer: software, engineering, computer, technical, technology, electrical, industry, systems, worked, senior\n",
            "teacher: teachers, education, elementary, schools, teaching, curriculum, students, taught, literacy, mathematics\n",
            "dietitian: nutrition, registered, with, who, she, cooperates, clinical, practitioner, groups, medical\n",
            "\n",
            "\n"
          ]
        },
        {
          "output_type": "stream",
          "name": "stderr",
          "text": [
            "52526it [03:29, 225.50it/s]"
          ]
        },
        {
          "output_type": "stream",
          "name": "stdout",
          "text": [
            "| epoch   4 | 52500/70832 batches | loss    1.619 \n",
            "women: women’s, gender, living, she, the, working, her, and, identity, culture\n",
            "men: life, this, one, to, just, would, on, understanding, have, much\n",
            "nurse: practitioner, affiliates, specialists, collaborates, nursing, hospitals, diverse, experiences, honors, graduated\n",
            "doctor: fixing, college, completed, crowns, implant, provided, from, member, dental, tooth\n",
            "engineer: software, engineering, computer, technical, technology, electrical, industry, systems, worked, senior\n",
            "teacher: teachers, education, elementary, schools, teaching, curriculum, students, taught, literacy, mathematics\n",
            "dietitian: nutrition, registered, with, who, she, cooperates, clinical, practitioner, groups, medical\n",
            "\n",
            "\n"
          ]
        },
        {
          "output_type": "stream",
          "name": "stderr",
          "text": [
            "53028it [03:31, 229.17it/s]"
          ]
        },
        {
          "output_type": "stream",
          "name": "stdout",
          "text": [
            "| epoch   4 | 53000/70832 batches | loss    1.620 \n",
            "women: women’s, gender, living, she, the, working, her, and, identity, culture\n",
            "men: life, this, one, to, just, would, on, understanding, have, much\n",
            "nurse: practitioner, affiliates, specialists, collaborates, nursing, hospitals, diverse, experiences, honors, graduated\n",
            "doctor: fixing, college, completed, crowns, implant, provided, from, member, dental, tooth\n",
            "engineer: software, engineering, computer, technical, technology, electrical, industry, systems, worked, senior\n",
            "teacher: teachers, education, elementary, schools, teaching, curriculum, students, taught, literacy, mathematics\n",
            "dietitian: nutrition, registered, with, who, she, cooperates, clinical, practitioner, groups, medical\n",
            "\n",
            "\n"
          ]
        },
        {
          "output_type": "stream",
          "name": "stderr",
          "text": [
            "53523it [03:33, 225.89it/s]"
          ]
        },
        {
          "output_type": "stream",
          "name": "stdout",
          "text": [
            "| epoch   4 | 53500/70832 batches | loss    1.629 \n",
            "women: women’s, gender, living, she, the, working, her, and, identity, culture\n",
            "men: life, this, one, to, just, would, on, understanding, have, much\n",
            "nurse: practitioner, affiliates, specialists, collaborates, nursing, hospitals, diverse, experiences, honors, graduated\n",
            "doctor: fixing, college, completed, crowns, implant, provided, from, member, dental, tooth\n",
            "engineer: software, engineering, computer, technical, technology, electrical, industry, systems, worked, senior\n",
            "teacher: teachers, education, elementary, schools, teaching, curriculum, students, taught, literacy, mathematics\n",
            "dietitian: nutrition, registered, with, who, she, cooperates, clinical, practitioner, groups, medical\n",
            "\n",
            "\n"
          ]
        },
        {
          "output_type": "stream",
          "name": "stderr",
          "text": [
            "54021it [03:35, 224.57it/s]"
          ]
        },
        {
          "output_type": "stream",
          "name": "stdout",
          "text": [
            "| epoch   4 | 54000/70832 batches | loss    1.617 \n",
            "women: women’s, gender, living, she, the, working, her, and, identity, culture\n",
            "men: life, this, one, to, just, would, on, understanding, have, much\n",
            "nurse: practitioner, affiliates, specialists, collaborates, nursing, hospitals, diverse, experiences, honors, graduated\n",
            "doctor: fixing, college, completed, crowns, implant, provided, from, member, dental, tooth\n",
            "engineer: software, engineering, computer, technical, technology, electrical, industry, systems, worked, senior\n",
            "teacher: teachers, education, elementary, schools, teaching, curriculum, students, taught, literacy, mathematics\n",
            "dietitian: nutrition, registered, with, who, she, cooperates, clinical, practitioner, groups, medical\n",
            "\n",
            "\n"
          ]
        },
        {
          "output_type": "stream",
          "name": "stderr",
          "text": [
            "54519it [03:37, 228.29it/s]"
          ]
        },
        {
          "output_type": "stream",
          "name": "stdout",
          "text": [
            "| epoch   4 | 54500/70832 batches | loss    1.622 \n",
            "women: women’s, gender, living, the, she, working, her, and, identity, culture\n",
            "men: life, this, one, to, just, would, on, understanding, have, much\n",
            "nurse: practitioner, affiliates, specialists, collaborates, nursing, hospitals, diverse, experiences, honors, graduated\n",
            "doctor: fixing, college, completed, crowns, implant, provided, from, member, dental, tooth\n",
            "engineer: software, engineering, computer, technical, technology, electrical, industry, systems, worked, senior\n",
            "teacher: teachers, education, elementary, schools, teaching, curriculum, students, taught, literacy, mathematics\n",
            "dietitian: nutrition, registered, with, who, she, cooperates, clinical, practitioner, groups, medical\n",
            "\n",
            "\n"
          ]
        },
        {
          "output_type": "stream",
          "name": "stderr",
          "text": [
            "55013it [03:39, 225.67it/s]"
          ]
        },
        {
          "output_type": "stream",
          "name": "stdout",
          "text": [
            "| epoch   4 | 55000/70832 batches | loss    1.625 \n",
            "women: women’s, gender, living, she, the, working, her, and, identity, culture\n",
            "men: life, this, one, to, just, would, on, understanding, have, much\n",
            "nurse: practitioner, affiliates, specialists, collaborates, nursing, hospitals, diverse, experiences, honors, graduated\n",
            "doctor: fixing, college, completed, crowns, implant, provided, from, member, dental, tooth\n",
            "engineer: software, engineering, computer, technical, technology, electrical, industry, systems, worked, senior\n",
            "teacher: teachers, education, elementary, schools, teaching, curriculum, students, taught, literacy, mathematics\n",
            "dietitian: nutrition, registered, with, who, she, cooperates, clinical, practitioner, groups, medical\n",
            "\n",
            "\n"
          ]
        },
        {
          "output_type": "stream",
          "name": "stderr",
          "text": [
            "55530it [03:41, 228.56it/s]"
          ]
        },
        {
          "output_type": "stream",
          "name": "stdout",
          "text": [
            "| epoch   4 | 55500/70832 batches | loss    1.622 \n",
            "women: women’s, gender, living, she, the, working, her, identity, and, culture\n",
            "men: life, this, one, to, just, would, on, understanding, have, much\n",
            "nurse: practitioner, affiliates, specialists, collaborates, nursing, hospitals, diverse, experiences, honors, graduated\n",
            "doctor: fixing, college, completed, crowns, implant, provided, from, member, dental, tooth\n",
            "engineer: software, engineering, computer, technical, technology, electrical, industry, systems, worked, senior\n",
            "teacher: teachers, education, elementary, schools, teaching, curriculum, students, taught, literacy, mathematics\n",
            "dietitian: nutrition, registered, with, who, she, cooperates, clinical, practitioner, groups, medical\n",
            "\n",
            "\n"
          ]
        },
        {
          "output_type": "stream",
          "name": "stderr",
          "text": [
            "56027it [03:43, 229.85it/s]"
          ]
        },
        {
          "output_type": "stream",
          "name": "stdout",
          "text": [
            "| epoch   4 | 56000/70832 batches | loss    1.617 \n",
            "women: women’s, gender, living, she, the, working, her, identity, and, culture\n",
            "men: life, this, one, to, just, would, on, understanding, have, much\n",
            "nurse: practitioner, affiliates, specialists, collaborates, nursing, hospitals, diverse, experiences, honors, graduated\n",
            "doctor: fixing, college, completed, crowns, implant, provided, from, member, dental, tooth\n",
            "engineer: software, engineering, computer, technical, technology, electrical, industry, systems, worked, senior\n",
            "teacher: teachers, education, elementary, schools, teaching, curriculum, students, taught, literacy, mathematics\n",
            "dietitian: nutrition, registered, with, who, she, cooperates, clinical, practitioner, groups, medical\n",
            "\n",
            "\n"
          ]
        },
        {
          "output_type": "stream",
          "name": "stderr",
          "text": [
            "56523it [03:45, 224.33it/s]"
          ]
        },
        {
          "output_type": "stream",
          "name": "stdout",
          "text": [
            "| epoch   4 | 56500/70832 batches | loss    1.623 \n",
            "women: women’s, gender, living, she, the, working, her, identity, and, culture\n",
            "men: life, this, one, to, just, would, on, understanding, have, much\n",
            "nurse: practitioner, affiliates, specialists, collaborates, nursing, hospitals, diverse, experiences, honors, graduated\n",
            "doctor: fixing, college, completed, crowns, implant, provided, from, member, dental, tooth\n",
            "engineer: software, engineering, computer, technical, technology, electrical, industry, systems, worked, senior\n",
            "teacher: teachers, education, elementary, schools, teaching, curriculum, students, taught, literacy, mathematics\n",
            "dietitian: nutrition, registered, with, who, she, cooperates, clinical, practitioner, groups, medical\n",
            "\n",
            "\n"
          ]
        },
        {
          "output_type": "stream",
          "name": "stderr",
          "text": [
            "57021it [03:46, 216.97it/s]"
          ]
        },
        {
          "output_type": "stream",
          "name": "stdout",
          "text": [
            "| epoch   4 | 57000/70832 batches | loss    1.620 \n",
            "women: women’s, gender, living, she, the, working, her, identity, and, culture\n",
            "men: life, this, one, to, just, would, on, understanding, have, much\n",
            "nurse: practitioner, affiliates, specialists, collaborates, nursing, hospitals, diverse, experiences, honors, graduated\n",
            "doctor: fixing, college, completed, crowns, implant, provided, from, member, dental, tooth\n",
            "engineer: software, engineering, computer, technical, technology, electrical, industry, systems, worked, senior\n",
            "teacher: teachers, education, elementary, schools, teaching, curriculum, students, taught, literacy, mathematics\n",
            "dietitian: nutrition, registered, with, who, she, cooperates, clinical, practitioner, groups, medical\n",
            "\n",
            "\n"
          ]
        },
        {
          "output_type": "stream",
          "name": "stderr",
          "text": [
            "57519it [03:48, 226.25it/s]"
          ]
        },
        {
          "output_type": "stream",
          "name": "stdout",
          "text": [
            "| epoch   4 | 57500/70832 batches | loss    1.622 \n",
            "women: women’s, gender, living, she, the, working, her, identity, and, culture\n",
            "men: life, this, one, to, just, would, on, understanding, have, much\n",
            "nurse: practitioner, affiliates, specialists, collaborates, nursing, hospitals, diverse, experiences, honors, graduated\n",
            "doctor: fixing, college, completed, crowns, implant, provided, from, member, dental, tooth\n",
            "engineer: software, engineering, computer, technical, technology, electrical, industry, systems, worked, senior\n",
            "teacher: teachers, education, elementary, schools, teaching, curriculum, students, taught, literacy, mathematics\n",
            "dietitian: nutrition, registered, with, who, she, cooperates, clinical, practitioner, groups, medical\n",
            "\n",
            "\n"
          ]
        },
        {
          "output_type": "stream",
          "name": "stderr",
          "text": [
            "58036it [03:50, 232.84it/s]"
          ]
        },
        {
          "output_type": "stream",
          "name": "stdout",
          "text": [
            "| epoch   4 | 58000/70832 batches | loss    1.622 \n",
            "women: women’s, gender, living, she, the, working, her, identity, and, culture\n",
            "men: life, this, one, to, just, would, on, understanding, have, much\n",
            "nurse: practitioner, affiliates, specialists, collaborates, nursing, hospitals, diverse, experiences, honors, graduated\n",
            "doctor: fixing, college, completed, crowns, implant, provided, from, member, dental, tooth\n",
            "engineer: software, engineering, computer, technical, technology, electrical, industry, systems, worked, senior\n",
            "teacher: teachers, education, elementary, schools, teaching, curriculum, students, taught, literacy, mathematics\n",
            "dietitian: nutrition, registered, with, who, she, cooperates, clinical, practitioner, groups, medical\n",
            "\n",
            "\n"
          ]
        },
        {
          "output_type": "stream",
          "name": "stderr",
          "text": [
            "58523it [03:52, 222.71it/s]"
          ]
        },
        {
          "output_type": "stream",
          "name": "stdout",
          "text": [
            "| epoch   4 | 58500/70832 batches | loss    1.625 \n",
            "women: women’s, gender, living, she, the, working, her, identity, and, culture\n",
            "men: life, this, one, to, just, would, on, understanding, have, much\n",
            "nurse: practitioner, affiliates, specialists, collaborates, nursing, hospitals, diverse, experiences, honors, graduated\n",
            "doctor: fixing, college, completed, crowns, implant, provided, from, member, dental, tooth\n",
            "engineer: software, engineering, computer, technical, technology, electrical, industry, systems, worked, senior\n",
            "teacher: teachers, education, elementary, schools, teaching, curriculum, students, taught, literacy, mathematics\n",
            "dietitian: nutrition, registered, with, who, she, cooperates, clinical, practitioner, groups, medical\n",
            "\n",
            "\n"
          ]
        },
        {
          "output_type": "stream",
          "name": "stderr",
          "text": [
            "59031it [03:54, 228.29it/s]"
          ]
        },
        {
          "output_type": "stream",
          "name": "stdout",
          "text": [
            "| epoch   4 | 59000/70832 batches | loss    1.625 \n",
            "women: women’s, gender, living, the, she, working, her, identity, and, culture\n",
            "men: life, this, one, to, just, would, on, understanding, have, much\n",
            "nurse: practitioner, affiliates, specialists, collaborates, nursing, hospitals, diverse, experiences, honors, graduated\n",
            "doctor: fixing, college, completed, crowns, implant, provided, from, member, dental, tooth\n",
            "engineer: software, engineering, computer, technical, technology, electrical, industry, systems, worked, senior\n",
            "teacher: teachers, education, elementary, schools, teaching, curriculum, students, taught, literacy, mathematics\n",
            "dietitian: nutrition, registered, with, who, she, cooperates, clinical, practitioner, groups, medical\n",
            "\n",
            "\n"
          ]
        },
        {
          "output_type": "stream",
          "name": "stderr",
          "text": [
            "59525it [03:56, 217.86it/s]"
          ]
        },
        {
          "output_type": "stream",
          "name": "stdout",
          "text": [
            "| epoch   4 | 59500/70832 batches | loss    1.619 \n",
            "women: women’s, gender, living, the, she, working, her, identity, and, culture\n",
            "men: life, this, one, to, just, would, on, understanding, have, much\n",
            "nurse: practitioner, affiliates, specialists, collaborates, nursing, hospitals, diverse, experiences, honors, graduated\n",
            "doctor: fixing, college, completed, crowns, implant, provided, from, member, dental, tooth\n",
            "engineer: software, engineering, computer, technical, technology, electrical, industry, systems, worked, senior\n",
            "teacher: teachers, education, elementary, schools, teaching, curriculum, students, taught, literacy, mathematics\n",
            "dietitian: nutrition, registered, with, who, she, cooperates, clinical, practitioner, groups, medical\n",
            "\n",
            "\n"
          ]
        },
        {
          "output_type": "stream",
          "name": "stderr",
          "text": [
            "60024it [03:58, 228.24it/s]"
          ]
        },
        {
          "output_type": "stream",
          "name": "stdout",
          "text": [
            "| epoch   4 | 60000/70832 batches | loss    1.613 \n",
            "women: women’s, gender, living, the, she, working, her, identity, and, culture\n",
            "men: life, this, one, to, just, would, on, understanding, have, much\n",
            "nurse: practitioner, affiliates, specialists, collaborates, nursing, hospitals, diverse, experiences, honors, graduated\n",
            "doctor: fixing, college, completed, crowns, implant, provided, from, member, dental, tooth\n",
            "engineer: software, engineering, computer, technical, technology, electrical, industry, systems, worked, senior\n",
            "teacher: teachers, education, elementary, schools, teaching, curriculum, students, taught, literacy, mathematics\n",
            "dietitian: nutrition, registered, with, who, she, cooperates, clinical, practitioner, groups, medical\n",
            "\n",
            "\n"
          ]
        },
        {
          "output_type": "stream",
          "name": "stderr",
          "text": [
            "60525it [04:00, 222.47it/s]"
          ]
        },
        {
          "output_type": "stream",
          "name": "stdout",
          "text": [
            "| epoch   4 | 60500/70832 batches | loss    1.621 \n",
            "women: women’s, gender, living, she, the, working, her, identity, and, culture\n",
            "men: life, this, one, to, just, would, on, understanding, have, much\n",
            "nurse: practitioner, affiliates, specialists, collaborates, nursing, hospitals, diverse, experiences, honors, graduated\n",
            "doctor: fixing, college, completed, crowns, implant, provided, from, member, dental, tooth\n",
            "engineer: software, engineering, computer, technical, technology, electrical, industry, systems, worked, senior\n",
            "teacher: teachers, education, elementary, schools, teaching, curriculum, students, taught, literacy, mathematics\n",
            "dietitian: nutrition, registered, with, who, she, cooperates, clinical, practitioner, groups, medical\n",
            "\n",
            "\n"
          ]
        },
        {
          "output_type": "stream",
          "name": "stderr",
          "text": [
            "61014it [04:02, 234.29it/s]"
          ]
        },
        {
          "output_type": "stream",
          "name": "stdout",
          "text": [
            "| epoch   4 | 61000/70832 batches | loss    1.623 \n",
            "women: women’s, gender, living, she, the, working, her, identity, and, culture\n",
            "men: life, this, one, to, just, would, on, understanding, have, much\n",
            "nurse: practitioner, affiliates, specialists, collaborates, nursing, hospitals, diverse, experiences, honors, graduated\n",
            "doctor: fixing, college, completed, crowns, implant, provided, from, member, dental, tooth\n",
            "engineer: software, engineering, computer, technical, technology, electrical, industry, systems, worked, senior\n",
            "teacher: teachers, education, elementary, schools, teaching, curriculum, students, taught, literacy, mathematics\n",
            "dietitian: nutrition, registered, with, who, she, cooperates, clinical, practitioner, groups, medical\n",
            "\n",
            "\n"
          ]
        },
        {
          "output_type": "stream",
          "name": "stderr",
          "text": [
            "61513it [04:04, 230.08it/s]"
          ]
        },
        {
          "output_type": "stream",
          "name": "stdout",
          "text": [
            "| epoch   4 | 61500/70832 batches | loss    1.627 \n",
            "women: women’s, gender, living, she, the, working, her, identity, and, culture\n",
            "men: life, this, one, to, just, would, on, understanding, have, much\n",
            "nurse: practitioner, affiliates, specialists, collaborates, nursing, hospitals, diverse, experiences, honors, graduated\n",
            "doctor: fixing, college, completed, crowns, implant, provided, from, member, dental, tooth\n",
            "engineer: software, engineering, computer, technical, technology, electrical, industry, systems, worked, senior\n",
            "teacher: teachers, education, elementary, schools, teaching, curriculum, students, taught, literacy, mathematics\n",
            "dietitian: nutrition, registered, with, who, she, cooperates, clinical, practitioner, groups, medical\n",
            "\n",
            "\n"
          ]
        },
        {
          "output_type": "stream",
          "name": "stderr",
          "text": [
            "62033it [04:06, 224.92it/s]"
          ]
        },
        {
          "output_type": "stream",
          "name": "stdout",
          "text": [
            "| epoch   4 | 62000/70832 batches | loss    1.616 \n",
            "women: women’s, gender, living, she, the, working, her, identity, and, culture\n",
            "men: life, this, one, to, just, would, on, understanding, have, much\n",
            "nurse: practitioner, affiliates, specialists, collaborates, nursing, hospitals, diverse, experiences, honors, graduated\n",
            "doctor: fixing, college, completed, crowns, implant, provided, from, member, dental, tooth\n",
            "engineer: software, engineering, computer, technical, technology, electrical, industry, systems, worked, senior\n",
            "teacher: teachers, education, elementary, schools, teaching, curriculum, students, taught, literacy, mathematics\n",
            "dietitian: nutrition, registered, with, who, she, cooperates, clinical, practitioner, groups, medical\n",
            "\n",
            "\n"
          ]
        },
        {
          "output_type": "stream",
          "name": "stderr",
          "text": [
            "62520it [04:08, 213.52it/s]"
          ]
        },
        {
          "output_type": "stream",
          "name": "stdout",
          "text": [
            "| epoch   4 | 62500/70832 batches | loss    1.626 \n",
            "women: women’s, gender, living, she, the, working, her, identity, and, culture\n",
            "men: life, this, one, to, just, would, on, understanding, have, much\n",
            "nurse: practitioner, affiliates, specialists, collaborates, nursing, hospitals, diverse, experiences, honors, graduated\n",
            "doctor: fixing, college, completed, crowns, implant, provided, from, member, dental, tooth\n",
            "engineer: software, engineering, computer, technical, technology, electrical, industry, systems, worked, senior\n",
            "teacher: teachers, education, elementary, schools, teaching, curriculum, students, taught, literacy, mathematics\n",
            "dietitian: nutrition, registered, with, who, she, cooperates, clinical, practitioner, groups, medical\n",
            "\n",
            "\n"
          ]
        },
        {
          "output_type": "stream",
          "name": "stderr",
          "text": [
            "63029it [04:10, 229.49it/s]"
          ]
        },
        {
          "output_type": "stream",
          "name": "stdout",
          "text": [
            "| epoch   4 | 63000/70832 batches | loss    1.622 \n",
            "women: women’s, gender, living, she, the, working, her, identity, and, culture\n",
            "men: life, this, one, to, just, would, on, understanding, have, much\n",
            "nurse: practitioner, affiliates, specialists, collaborates, nursing, hospitals, diverse, experiences, honors, graduated\n",
            "doctor: fixing, college, completed, crowns, implant, provided, from, member, dental, tooth\n",
            "engineer: software, engineering, computer, technical, technology, electrical, industry, systems, worked, senior\n",
            "teacher: teachers, education, elementary, schools, teaching, curriculum, students, taught, literacy, mathematics\n",
            "dietitian: nutrition, registered, with, who, she, cooperates, clinical, practitioner, groups, medical\n",
            "\n",
            "\n"
          ]
        },
        {
          "output_type": "stream",
          "name": "stderr",
          "text": [
            "63516it [04:12, 219.48it/s]"
          ]
        },
        {
          "output_type": "stream",
          "name": "stdout",
          "text": [
            "| epoch   4 | 63500/70832 batches | loss    1.618 \n",
            "women: women’s, gender, living, she, the, working, her, identity, and, culture\n",
            "men: life, this, one, to, just, would, on, understanding, have, much\n",
            "nurse: practitioner, affiliates, specialists, collaborates, nursing, hospitals, diverse, experiences, honors, graduated\n",
            "doctor: fixing, college, completed, crowns, implant, provided, from, member, dental, tooth\n",
            "engineer: software, engineering, computer, technical, technology, electrical, industry, systems, worked, senior\n",
            "teacher: teachers, education, elementary, schools, teaching, curriculum, students, taught, literacy, mathematics\n",
            "dietitian: nutrition, registered, with, who, she, cooperates, clinical, practitioner, groups, medical\n",
            "\n",
            "\n"
          ]
        },
        {
          "output_type": "stream",
          "name": "stderr",
          "text": [
            "64032it [04:14, 226.32it/s]"
          ]
        },
        {
          "output_type": "stream",
          "name": "stdout",
          "text": [
            "| epoch   4 | 64000/70832 batches | loss    1.618 \n",
            "women: women’s, gender, living, she, the, working, her, identity, and, culture\n",
            "men: life, this, one, to, just, would, on, understanding, have, much\n",
            "nurse: practitioner, affiliates, specialists, collaborates, nursing, hospitals, diverse, experiences, honors, graduated\n",
            "doctor: fixing, college, completed, crowns, implant, provided, from, member, dental, tooth\n",
            "engineer: software, engineering, computer, technical, technology, electrical, industry, systems, worked, senior\n",
            "teacher: teachers, education, elementary, schools, teaching, curriculum, students, taught, literacy, mathematics\n",
            "dietitian: nutrition, registered, with, who, she, cooperates, clinical, practitioner, groups, medical\n",
            "\n",
            "\n"
          ]
        },
        {
          "output_type": "stream",
          "name": "stderr",
          "text": [
            "64516it [04:16, 220.08it/s]"
          ]
        },
        {
          "output_type": "stream",
          "name": "stdout",
          "text": [
            "| epoch   4 | 64500/70832 batches | loss    1.623 \n",
            "women: women’s, gender, living, she, the, working, her, identity, and, culture\n",
            "men: life, this, one, to, just, would, on, understanding, have, much\n",
            "nurse: practitioner, affiliates, specialists, collaborates, nursing, hospitals, diverse, experiences, honors, graduated\n",
            "doctor: fixing, college, completed, crowns, implant, provided, from, member, dental, tooth\n",
            "engineer: software, engineering, computer, technical, technology, electrical, industry, systems, worked, senior\n",
            "teacher: teachers, education, elementary, schools, teaching, curriculum, students, taught, literacy, mathematics\n",
            "dietitian: nutrition, registered, with, who, she, cooperates, clinical, practitioner, groups, medical\n",
            "\n",
            "\n"
          ]
        },
        {
          "output_type": "stream",
          "name": "stderr",
          "text": [
            "65028it [04:18, 229.21it/s]"
          ]
        },
        {
          "output_type": "stream",
          "name": "stdout",
          "text": [
            "| epoch   4 | 65000/70832 batches | loss    1.619 \n",
            "women: women’s, gender, living, she, the, working, her, identity, and, culture\n",
            "men: life, this, one, to, just, would, on, understanding, have, much\n",
            "nurse: practitioner, affiliates, specialists, collaborates, nursing, hospitals, diverse, experiences, honors, graduated\n",
            "doctor: fixing, college, completed, crowns, implant, provided, from, member, dental, tooth\n",
            "engineer: software, engineering, computer, technical, technology, electrical, industry, systems, worked, senior\n",
            "teacher: teachers, education, elementary, schools, teaching, curriculum, students, taught, literacy, mathematics\n",
            "dietitian: nutrition, registered, with, who, she, cooperates, clinical, practitioner, groups, medical\n",
            "\n",
            "\n"
          ]
        },
        {
          "output_type": "stream",
          "name": "stderr",
          "text": [
            "65525it [04:20, 217.89it/s]"
          ]
        },
        {
          "output_type": "stream",
          "name": "stdout",
          "text": [
            "| epoch   4 | 65500/70832 batches | loss    1.626 \n",
            "women: women’s, gender, living, she, the, working, her, identity, and, culture\n",
            "men: life, this, one, to, just, would, on, understanding, have, much\n",
            "nurse: practitioner, affiliates, specialists, collaborates, nursing, hospitals, diverse, experiences, honors, graduated\n",
            "doctor: fixing, college, completed, crowns, implant, provided, from, member, dental, tooth\n",
            "engineer: software, engineering, computer, technical, technology, electrical, industry, systems, worked, senior\n",
            "teacher: teachers, education, elementary, schools, teaching, curriculum, students, taught, literacy, mathematics\n",
            "dietitian: nutrition, registered, with, who, she, cooperates, clinical, practitioner, groups, medical\n",
            "\n",
            "\n"
          ]
        },
        {
          "output_type": "stream",
          "name": "stderr",
          "text": [
            "66024it [04:22, 227.26it/s]"
          ]
        },
        {
          "output_type": "stream",
          "name": "stdout",
          "text": [
            "| epoch   4 | 66000/70832 batches | loss    1.620 \n",
            "women: women’s, gender, living, she, the, working, her, identity, and, culture\n",
            "men: life, this, one, to, just, would, on, understanding, have, much\n",
            "nurse: practitioner, affiliates, specialists, collaborates, nursing, hospitals, diverse, experiences, honors, graduated\n",
            "doctor: fixing, college, completed, crowns, implant, provided, from, member, dental, tooth\n",
            "engineer: software, engineering, computer, technical, technology, electrical, industry, systems, worked, senior\n",
            "teacher: teachers, education, elementary, schools, teaching, curriculum, students, taught, literacy, mathematics\n",
            "dietitian: nutrition, registered, with, who, she, cooperates, clinical, practitioner, groups, medical\n",
            "\n",
            "\n"
          ]
        },
        {
          "output_type": "stream",
          "name": "stderr",
          "text": [
            "66535it [04:24, 229.46it/s]"
          ]
        },
        {
          "output_type": "stream",
          "name": "stdout",
          "text": [
            "| epoch   4 | 66500/70832 batches | loss    1.623 \n",
            "women: women’s, gender, living, she, the, working, her, identity, and, culture\n",
            "men: life, this, one, to, just, would, on, understanding, have, much\n",
            "nurse: practitioner, affiliates, specialists, collaborates, nursing, hospitals, diverse, experiences, honors, graduated\n",
            "doctor: fixing, college, completed, crowns, implant, provided, from, member, dental, tooth\n",
            "engineer: software, engineering, computer, technical, technology, electrical, industry, systems, worked, senior\n",
            "teacher: teachers, education, elementary, schools, teaching, curriculum, students, taught, literacy, mathematics\n",
            "dietitian: nutrition, registered, with, who, she, cooperates, clinical, practitioner, groups, medical\n",
            "\n",
            "\n"
          ]
        },
        {
          "output_type": "stream",
          "name": "stderr",
          "text": [
            "67024it [04:26, 216.61it/s]"
          ]
        },
        {
          "output_type": "stream",
          "name": "stdout",
          "text": [
            "| epoch   4 | 67000/70832 batches | loss    1.621 \n",
            "women: women’s, gender, living, she, the, working, her, identity, and, culture\n",
            "men: life, this, one, to, just, would, on, understanding, have, much\n",
            "nurse: practitioner, affiliates, specialists, collaborates, nursing, hospitals, diverse, experiences, honors, graduated\n",
            "doctor: fixing, college, completed, crowns, implant, provided, from, member, dental, tooth\n",
            "engineer: software, engineering, computer, technical, technology, electrical, industry, systems, worked, senior\n",
            "teacher: teachers, education, elementary, schools, teaching, curriculum, students, taught, literacy, mathematics\n",
            "dietitian: nutrition, registered, with, who, she, cooperates, clinical, practitioner, groups, medical\n",
            "\n",
            "\n"
          ]
        },
        {
          "output_type": "stream",
          "name": "stderr",
          "text": [
            "67513it [04:28, 227.71it/s]"
          ]
        },
        {
          "output_type": "stream",
          "name": "stdout",
          "text": [
            "| epoch   4 | 67500/70832 batches | loss    1.617 \n",
            "women: women’s, gender, living, she, the, working, her, identity, and, culture\n",
            "men: life, this, one, to, just, would, on, understanding, have, much\n",
            "nurse: practitioner, affiliates, specialists, collaborates, nursing, hospitals, diverse, experiences, honors, graduated\n",
            "doctor: fixing, college, completed, crowns, implant, provided, from, member, dental, tooth\n",
            "engineer: software, engineering, computer, technical, technology, electrical, industry, systems, worked, senior\n",
            "teacher: teachers, education, elementary, schools, teaching, curriculum, students, taught, literacy, mathematics\n",
            "dietitian: nutrition, registered, with, who, she, cooperates, clinical, practitioner, groups, medical\n",
            "\n",
            "\n"
          ]
        },
        {
          "output_type": "stream",
          "name": "stderr",
          "text": [
            "68026it [04:30, 229.91it/s]"
          ]
        },
        {
          "output_type": "stream",
          "name": "stdout",
          "text": [
            "| epoch   4 | 68000/70832 batches | loss    1.620 \n",
            "women: women’s, gender, living, she, the, working, her, identity, and, culture\n",
            "men: life, this, one, to, just, would, on, understanding, have, much\n",
            "nurse: practitioner, affiliates, specialists, collaborates, nursing, hospitals, diverse, experiences, honors, graduated\n",
            "doctor: fixing, college, completed, crowns, implant, provided, from, member, dental, tooth\n",
            "engineer: software, engineering, computer, technical, technology, electrical, industry, systems, worked, senior\n",
            "teacher: teachers, education, elementary, schools, teaching, curriculum, students, taught, literacy, mathematics\n",
            "dietitian: nutrition, registered, with, who, she, cooperates, clinical, practitioner, groups, medical\n",
            "\n",
            "\n"
          ]
        },
        {
          "output_type": "stream",
          "name": "stderr",
          "text": [
            "68522it [04:32, 218.90it/s]"
          ]
        },
        {
          "output_type": "stream",
          "name": "stdout",
          "text": [
            "| epoch   4 | 68500/70832 batches | loss    1.621 \n",
            "women: women’s, gender, living, she, the, working, her, identity, and, culture\n",
            "men: life, this, one, to, just, would, on, understanding, have, much\n",
            "nurse: practitioner, affiliates, specialists, collaborates, nursing, hospitals, diverse, experiences, honors, graduated\n",
            "doctor: fixing, college, completed, crowns, implant, provided, from, member, dental, tooth\n",
            "engineer: software, engineering, computer, technical, technology, electrical, industry, systems, worked, senior\n",
            "teacher: teachers, education, elementary, schools, teaching, curriculum, students, taught, literacy, mathematics\n",
            "dietitian: nutrition, registered, with, who, she, cooperates, clinical, practitioner, groups, medical\n",
            "\n",
            "\n"
          ]
        },
        {
          "output_type": "stream",
          "name": "stderr",
          "text": [
            "69035it [04:34, 230.07it/s]"
          ]
        },
        {
          "output_type": "stream",
          "name": "stdout",
          "text": [
            "| epoch   4 | 69000/70832 batches | loss    1.617 \n",
            "women: women’s, gender, living, she, the, working, her, identity, and, culture\n",
            "men: life, this, one, to, just, would, on, understanding, have, much\n",
            "nurse: practitioner, affiliates, specialists, collaborates, nursing, hospitals, diverse, experiences, honors, graduated\n",
            "doctor: fixing, college, completed, crowns, implant, provided, from, member, dental, tooth\n",
            "engineer: software, engineering, computer, technical, technology, electrical, industry, systems, worked, senior\n",
            "teacher: teachers, education, elementary, schools, teaching, curriculum, students, taught, literacy, mathematics\n",
            "dietitian: nutrition, registered, with, who, she, cooperates, clinical, practitioner, groups, medical\n",
            "\n",
            "\n"
          ]
        },
        {
          "output_type": "stream",
          "name": "stderr",
          "text": [
            "69531it [04:36, 233.63it/s]"
          ]
        },
        {
          "output_type": "stream",
          "name": "stdout",
          "text": [
            "| epoch   4 | 69500/70832 batches | loss    1.623 \n",
            "women: women’s, gender, living, she, the, working, her, identity, and, culture\n",
            "men: life, this, one, to, just, would, on, understanding, have, much\n",
            "nurse: practitioner, affiliates, specialists, collaborates, nursing, hospitals, diverse, experiences, honors, graduated\n",
            "doctor: fixing, college, completed, crowns, implant, provided, from, member, dental, tooth\n",
            "engineer: software, engineering, computer, technical, technology, electrical, industry, systems, worked, senior\n",
            "teacher: teachers, education, elementary, schools, teaching, curriculum, students, taught, literacy, mathematics\n",
            "dietitian: nutrition, registered, with, who, she, cooperates, clinical, practitioner, groups, medical\n",
            "\n",
            "\n"
          ]
        },
        {
          "output_type": "stream",
          "name": "stderr",
          "text": [
            "70026it [04:38, 215.72it/s]"
          ]
        },
        {
          "output_type": "stream",
          "name": "stdout",
          "text": [
            "| epoch   4 | 70000/70832 batches | loss    1.616 \n",
            "women: women’s, gender, living, she, the, working, her, identity, and, culture\n",
            "men: life, this, one, to, just, would, on, understanding, have, much\n",
            "nurse: practitioner, affiliates, specialists, collaborates, nursing, hospitals, diverse, experiences, honors, graduated\n",
            "doctor: fixing, college, completed, crowns, implant, provided, from, member, dental, tooth\n",
            "engineer: software, engineering, computer, technical, technology, electrical, industry, systems, worked, senior\n",
            "teacher: teachers, education, elementary, schools, teaching, curriculum, students, taught, literacy, mathematics\n",
            "dietitian: nutrition, registered, with, who, she, cooperates, clinical, practitioner, groups, medical\n",
            "\n",
            "\n"
          ]
        },
        {
          "output_type": "stream",
          "name": "stderr",
          "text": [
            "70523it [04:40, 214.70it/s]"
          ]
        },
        {
          "output_type": "stream",
          "name": "stdout",
          "text": [
            "| epoch   4 | 70500/70832 batches | loss    1.616 \n",
            "women: women’s, gender, living, she, the, working, her, identity, and, culture\n",
            "men: life, this, one, to, just, would, on, understanding, have, much\n",
            "nurse: practitioner, affiliates, specialists, collaborates, nursing, hospitals, diverse, experiences, honors, graduated\n",
            "doctor: fixing, college, completed, crowns, implant, provided, from, member, dental, tooth\n",
            "engineer: software, engineering, computer, technical, technology, electrical, industry, systems, worked, senior\n",
            "teacher: teachers, education, elementary, schools, teaching, curriculum, students, taught, literacy, mathematics\n",
            "dietitian: nutrition, registered, with, who, she, cooperates, clinical, practitioner, groups, medical\n",
            "\n",
            "\n"
          ]
        },
        {
          "output_type": "stream",
          "name": "stderr",
          "text": [
            "70832it [04:43, 250.04it/s]\n",
            "1it [00:01,  1.91s/it]"
          ]
        },
        {
          "output_type": "stream",
          "name": "stdout",
          "text": [
            "| epoch   5 |     0/70832 batches | loss    1.679 \n",
            "women: women’s, gender, living, she, the, working, her, identity, and, culture\n",
            "men: life, this, one, to, just, would, on, understanding, have, much\n",
            "nurse: practitioner, affiliates, specialists, collaborates, nursing, hospitals, diverse, experiences, honors, graduated\n",
            "doctor: fixing, college, completed, crowns, implant, provided, from, member, dental, tooth\n",
            "engineer: software, engineering, computer, technical, technology, electrical, industry, systems, worked, senior\n",
            "teacher: teachers, education, elementary, schools, teaching, curriculum, students, taught, literacy, mathematics\n",
            "dietitian: nutrition, registered, with, who, she, cooperates, clinical, practitioner, groups, medical\n",
            "\n",
            "\n"
          ]
        },
        {
          "output_type": "stream",
          "name": "stderr",
          "text": [
            "526it [00:04, 228.40it/s]"
          ]
        },
        {
          "output_type": "stream",
          "name": "stdout",
          "text": [
            "| epoch   5 |   500/70832 batches | loss    1.617 \n",
            "women: women’s, gender, living, she, the, working, her, identity, and, culture\n",
            "men: life, this, one, to, just, would, on, understanding, have, much\n",
            "nurse: practitioner, affiliates, specialists, collaborates, nursing, hospitals, diverse, experiences, honors, graduated\n",
            "doctor: fixing, college, completed, crowns, implant, provided, from, member, dental, tooth\n",
            "engineer: software, engineering, computer, technical, technology, electrical, industry, systems, worked, senior\n",
            "teacher: teachers, education, elementary, schools, teaching, curriculum, students, taught, literacy, mathematics\n",
            "dietitian: nutrition, registered, with, who, she, cooperates, clinical, practitioner, groups, medical\n",
            "\n",
            "\n"
          ]
        },
        {
          "output_type": "stream",
          "name": "stderr",
          "text": [
            "1016it [00:06, 219.95it/s]"
          ]
        },
        {
          "output_type": "stream",
          "name": "stdout",
          "text": [
            "| epoch   5 |  1000/70832 batches | loss    1.619 \n",
            "women: women’s, gender, living, she, the, working, her, identity, and, culture\n",
            "men: life, this, one, to, just, would, on, understanding, have, much\n",
            "nurse: practitioner, affiliates, specialists, collaborates, nursing, hospitals, diverse, experiences, honors, graduated\n",
            "doctor: fixing, college, completed, crowns, implant, provided, from, member, dental, tooth\n",
            "engineer: software, engineering, computer, technical, technology, electrical, industry, systems, worked, senior\n",
            "teacher: teachers, education, elementary, schools, teaching, curriculum, students, taught, literacy, mathematics\n",
            "dietitian: nutrition, registered, with, who, she, cooperates, clinical, practitioner, groups, medical\n",
            "\n",
            "\n"
          ]
        },
        {
          "output_type": "stream",
          "name": "stderr",
          "text": [
            "1513it [00:07, 232.95it/s]"
          ]
        },
        {
          "output_type": "stream",
          "name": "stdout",
          "text": [
            "| epoch   5 |  1500/70832 batches | loss    1.623 \n",
            "women: women’s, gender, living, she, the, working, her, identity, and, culture\n",
            "men: life, this, one, to, just, would, on, understanding, have, much\n",
            "nurse: practitioner, affiliates, specialists, collaborates, nursing, hospitals, diverse, experiences, honors, graduated\n",
            "doctor: fixing, college, completed, crowns, implant, provided, from, member, dental, tooth\n",
            "engineer: software, engineering, computer, technical, technology, electrical, industry, systems, worked, senior\n",
            "teacher: teachers, education, elementary, schools, teaching, curriculum, students, taught, literacy, mathematics\n",
            "dietitian: nutrition, registered, with, who, she, cooperates, clinical, practitioner, groups, medical\n",
            "\n",
            "\n"
          ]
        },
        {
          "output_type": "stream",
          "name": "stderr",
          "text": [
            "2033it [00:09, 223.37it/s]"
          ]
        },
        {
          "output_type": "stream",
          "name": "stdout",
          "text": [
            "| epoch   5 |  2000/70832 batches | loss    1.616 \n",
            "women: women’s, gender, living, she, the, working, her, identity, and, culture\n",
            "men: life, this, one, to, just, would, on, understanding, have, much\n",
            "nurse: practitioner, affiliates, specialists, collaborates, nursing, hospitals, diverse, experiences, honors, graduated\n",
            "doctor: fixing, college, completed, crowns, implant, provided, from, member, dental, tooth\n",
            "engineer: software, engineering, computer, technical, technology, electrical, industry, systems, worked, senior\n",
            "teacher: teachers, education, elementary, schools, teaching, curriculum, students, taught, literacy, mathematics\n",
            "dietitian: nutrition, registered, with, who, she, cooperates, clinical, practitioner, groups, medical\n",
            "\n",
            "\n"
          ]
        },
        {
          "output_type": "stream",
          "name": "stderr",
          "text": [
            "2522it [00:11, 224.32it/s]"
          ]
        },
        {
          "output_type": "stream",
          "name": "stdout",
          "text": [
            "| epoch   5 |  2500/70832 batches | loss    1.612 \n",
            "women: women’s, gender, living, she, the, working, her, identity, and, culture\n",
            "men: life, this, one, to, just, would, on, understanding, have, much\n",
            "nurse: practitioner, affiliates, specialists, collaborates, nursing, hospitals, diverse, experiences, honors, graduated\n",
            "doctor: fixing, college, completed, crowns, implant, provided, from, member, dental, tooth\n",
            "engineer: software, engineering, computer, technical, technology, electrical, industry, systems, worked, senior\n",
            "teacher: teachers, education, elementary, schools, teaching, curriculum, students, taught, literacy, mathematics\n",
            "dietitian: nutrition, registered, with, who, she, cooperates, clinical, practitioner, groups, medical\n",
            "\n",
            "\n"
          ]
        },
        {
          "output_type": "stream",
          "name": "stderr",
          "text": [
            "3017it [00:13, 198.60it/s]"
          ]
        },
        {
          "output_type": "stream",
          "name": "stdout",
          "text": [
            "| epoch   5 |  3000/70832 batches | loss    1.619 \n",
            "women: women’s, gender, living, she, the, working, her, identity, and, culture\n",
            "men: life, this, one, to, just, would, on, understanding, have, much\n",
            "nurse: practitioner, affiliates, specialists, collaborates, nursing, hospitals, diverse, experiences, honors, graduated\n",
            "doctor: fixing, college, completed, crowns, implant, provided, from, member, dental, tooth\n",
            "engineer: software, engineering, computer, technical, technology, electrical, industry, systems, worked, senior\n",
            "teacher: teachers, education, elementary, schools, teaching, curriculum, students, taught, literacy, mathematics\n",
            "dietitian: nutrition, registered, with, who, she, cooperates, clinical, practitioner, groups, medical\n",
            "\n",
            "\n"
          ]
        },
        {
          "output_type": "stream",
          "name": "stderr",
          "text": [
            "3527it [00:15, 217.25it/s]"
          ]
        },
        {
          "output_type": "stream",
          "name": "stdout",
          "text": [
            "| epoch   5 |  3500/70832 batches | loss    1.625 \n",
            "women: women’s, gender, living, she, the, working, her, identity, and, culture\n",
            "men: life, this, one, to, just, would, on, understanding, have, much\n",
            "nurse: practitioner, affiliates, specialists, collaborates, nursing, hospitals, diverse, experiences, honors, graduated\n",
            "doctor: fixing, college, completed, crowns, implant, provided, from, member, dental, tooth\n",
            "engineer: software, engineering, computer, technical, technology, electrical, industry, systems, worked, senior\n",
            "teacher: teachers, education, elementary, schools, teaching, curriculum, students, taught, literacy, mathematics\n",
            "dietitian: nutrition, registered, with, who, she, cooperates, clinical, practitioner, groups, medical\n",
            "\n",
            "\n"
          ]
        },
        {
          "output_type": "stream",
          "name": "stderr",
          "text": [
            "4019it [00:17, 222.51it/s]"
          ]
        },
        {
          "output_type": "stream",
          "name": "stdout",
          "text": [
            "| epoch   5 |  4000/70832 batches | loss    1.624 \n",
            "women: women’s, gender, living, she, the, working, her, identity, and, culture\n",
            "men: life, this, one, to, just, would, on, understanding, have, much\n",
            "nurse: practitioner, affiliates, specialists, collaborates, nursing, hospitals, diverse, experiences, honors, graduated\n",
            "doctor: fixing, college, completed, crowns, implant, provided, from, member, dental, tooth\n",
            "engineer: software, engineering, computer, technical, technology, electrical, industry, systems, worked, senior\n",
            "teacher: teachers, education, elementary, schools, teaching, curriculum, students, taught, literacy, mathematics\n",
            "dietitian: nutrition, registered, with, who, she, cooperates, clinical, practitioner, groups, medical\n",
            "\n",
            "\n"
          ]
        },
        {
          "output_type": "stream",
          "name": "stderr",
          "text": [
            "4526it [00:19, 221.84it/s]"
          ]
        },
        {
          "output_type": "stream",
          "name": "stdout",
          "text": [
            "| epoch   5 |  4500/70832 batches | loss    1.617 \n",
            "women: women’s, gender, living, she, the, working, her, identity, and, culture\n",
            "men: life, this, one, to, just, would, on, understanding, have, much\n",
            "nurse: practitioner, affiliates, specialists, collaborates, nursing, hospitals, diverse, experiences, honors, graduated\n",
            "doctor: fixing, college, completed, crowns, implant, provided, from, member, dental, tooth\n",
            "engineer: software, engineering, computer, technical, technology, electrical, industry, systems, worked, senior\n",
            "teacher: teachers, education, elementary, schools, teaching, curriculum, students, taught, literacy, mathematics\n",
            "dietitian: nutrition, registered, with, who, she, cooperates, clinical, practitioner, groups, medical\n",
            "\n",
            "\n"
          ]
        },
        {
          "output_type": "stream",
          "name": "stderr",
          "text": [
            "5030it [00:21, 212.19it/s]"
          ]
        },
        {
          "output_type": "stream",
          "name": "stdout",
          "text": [
            "| epoch   5 |  5000/70832 batches | loss    1.617 \n",
            "women: women’s, gender, living, she, the, working, her, identity, and, culture\n",
            "men: life, this, one, to, just, would, on, understanding, have, much\n",
            "nurse: practitioner, affiliates, specialists, collaborates, nursing, hospitals, diverse, experiences, honors, graduated\n",
            "doctor: fixing, college, completed, crowns, implant, provided, from, member, dental, tooth\n",
            "engineer: software, engineering, computer, technical, technology, electrical, industry, systems, worked, senior\n",
            "teacher: teachers, education, elementary, schools, teaching, curriculum, students, taught, literacy, mathematics\n",
            "dietitian: nutrition, registered, with, who, she, cooperates, clinical, practitioner, groups, medical\n",
            "\n",
            "\n"
          ]
        },
        {
          "output_type": "stream",
          "name": "stderr",
          "text": [
            "5527it [00:23, 226.42it/s]"
          ]
        },
        {
          "output_type": "stream",
          "name": "stdout",
          "text": [
            "| epoch   5 |  5500/70832 batches | loss    1.621 \n",
            "women: women’s, gender, living, she, the, working, her, identity, and, culture\n",
            "men: life, this, one, to, just, would, on, understanding, have, much\n",
            "nurse: practitioner, affiliates, specialists, collaborates, nursing, hospitals, diverse, experiences, honors, graduated\n",
            "doctor: fixing, college, completed, crowns, implant, provided, from, member, dental, tooth\n",
            "engineer: software, engineering, computer, technical, technology, electrical, industry, systems, worked, senior\n",
            "teacher: teachers, education, elementary, schools, teaching, curriculum, students, taught, literacy, mathematics\n",
            "dietitian: nutrition, registered, with, who, she, cooperates, clinical, practitioner, groups, medical\n",
            "\n",
            "\n"
          ]
        },
        {
          "output_type": "stream",
          "name": "stderr",
          "text": [
            "6010it [00:25, 213.89it/s]"
          ]
        },
        {
          "output_type": "stream",
          "name": "stdout",
          "text": [
            "| epoch   5 |  6000/70832 batches | loss    1.626 \n",
            "women: women’s, gender, living, she, the, working, her, identity, and, culture\n",
            "men: life, this, one, to, just, would, on, understanding, have, much\n",
            "nurse: practitioner, affiliates, specialists, collaborates, nursing, hospitals, diverse, experiences, honors, graduated\n",
            "doctor: fixing, college, completed, crowns, implant, provided, from, member, dental, tooth\n",
            "engineer: software, engineering, computer, technical, technology, electrical, industry, systems, worked, senior\n",
            "teacher: teachers, education, elementary, schools, teaching, curriculum, students, taught, literacy, mathematics\n",
            "dietitian: nutrition, registered, with, who, she, cooperates, clinical, practitioner, groups, medical\n",
            "\n",
            "\n"
          ]
        },
        {
          "output_type": "stream",
          "name": "stderr",
          "text": [
            "6530it [00:27, 232.29it/s]"
          ]
        },
        {
          "output_type": "stream",
          "name": "stdout",
          "text": [
            "| epoch   5 |  6500/70832 batches | loss    1.620 \n",
            "women: women’s, gender, living, she, the, working, her, identity, and, culture\n",
            "men: life, this, one, to, just, would, on, understanding, have, much\n",
            "nurse: practitioner, affiliates, specialists, collaborates, nursing, hospitals, diverse, experiences, honors, graduated\n",
            "doctor: fixing, college, completed, crowns, implant, provided, from, member, dental, tooth\n",
            "engineer: software, engineering, computer, technical, technology, electrical, industry, systems, worked, senior\n",
            "teacher: teachers, education, elementary, schools, teaching, curriculum, students, taught, literacy, mathematics\n",
            "dietitian: nutrition, registered, with, who, she, cooperates, clinical, practitioner, groups, medical\n",
            "\n",
            "\n"
          ]
        },
        {
          "output_type": "stream",
          "name": "stderr",
          "text": [
            "7020it [00:29, 217.24it/s]"
          ]
        },
        {
          "output_type": "stream",
          "name": "stdout",
          "text": [
            "| epoch   5 |  7000/70832 batches | loss    1.618 \n",
            "women: women’s, gender, living, she, the, working, her, identity, and, culture\n",
            "men: life, this, one, to, just, would, on, understanding, have, much\n",
            "nurse: practitioner, affiliates, specialists, collaborates, nursing, hospitals, diverse, experiences, honors, graduated\n",
            "doctor: fixing, college, completed, crowns, implant, provided, from, member, dental, tooth\n",
            "engineer: software, engineering, computer, technical, technology, electrical, industry, systems, worked, senior\n",
            "teacher: teachers, education, elementary, schools, teaching, curriculum, students, taught, literacy, mathematics\n",
            "dietitian: nutrition, registered, with, who, she, cooperates, clinical, practitioner, groups, medical\n",
            "\n",
            "\n"
          ]
        },
        {
          "output_type": "stream",
          "name": "stderr",
          "text": [
            "7534it [00:31, 227.53it/s]"
          ]
        },
        {
          "output_type": "stream",
          "name": "stdout",
          "text": [
            "| epoch   5 |  7500/70832 batches | loss    1.614 \n",
            "women: women’s, gender, living, she, the, working, her, identity, and, culture\n",
            "men: life, this, one, to, just, would, on, understanding, have, much\n",
            "nurse: practitioner, affiliates, specialists, collaborates, nursing, hospitals, diverse, experiences, honors, graduated\n",
            "doctor: fixing, college, completed, crowns, implant, provided, from, member, dental, tooth\n",
            "engineer: software, engineering, computer, technical, technology, electrical, industry, systems, worked, senior\n",
            "teacher: teachers, education, elementary, schools, teaching, curriculum, students, taught, literacy, mathematics\n",
            "dietitian: nutrition, registered, with, who, she, cooperates, clinical, practitioner, groups, medical\n",
            "\n",
            "\n"
          ]
        },
        {
          "output_type": "stream",
          "name": "stderr",
          "text": [
            "8030it [00:33, 233.60it/s]"
          ]
        },
        {
          "output_type": "stream",
          "name": "stdout",
          "text": [
            "| epoch   5 |  8000/70832 batches | loss    1.619 \n",
            "women: women’s, gender, living, she, the, working, her, identity, and, culture\n",
            "men: life, this, one, to, just, would, on, understanding, have, much\n",
            "nurse: practitioner, affiliates, specialists, collaborates, nursing, hospitals, diverse, experiences, honors, graduated\n",
            "doctor: fixing, college, completed, crowns, implant, provided, from, member, dental, tooth\n",
            "engineer: software, engineering, computer, technical, technology, electrical, industry, systems, worked, senior\n",
            "teacher: teachers, education, elementary, schools, teaching, curriculum, students, taught, literacy, mathematics\n",
            "dietitian: nutrition, registered, with, who, she, cooperates, clinical, practitioner, groups, medical\n",
            "\n",
            "\n"
          ]
        },
        {
          "output_type": "stream",
          "name": "stderr",
          "text": [
            "8524it [00:35, 223.00it/s]"
          ]
        },
        {
          "output_type": "stream",
          "name": "stdout",
          "text": [
            "| epoch   5 |  8500/70832 batches | loss    1.620 \n",
            "women: women’s, gender, living, she, the, working, her, identity, and, culture\n",
            "men: life, this, one, to, just, would, on, understanding, have, much\n",
            "nurse: practitioner, affiliates, specialists, collaborates, nursing, hospitals, diverse, experiences, honors, graduated\n",
            "doctor: fixing, college, completed, crowns, implant, provided, from, member, dental, tooth\n",
            "engineer: software, engineering, computer, technical, technology, electrical, industry, systems, worked, senior\n",
            "teacher: teachers, education, elementary, schools, teaching, curriculum, students, taught, literacy, mathematics\n",
            "dietitian: nutrition, registered, with, who, she, cooperates, clinical, practitioner, groups, medical\n",
            "\n",
            "\n"
          ]
        },
        {
          "output_type": "stream",
          "name": "stderr",
          "text": [
            "9035it [00:37, 229.79it/s]"
          ]
        },
        {
          "output_type": "stream",
          "name": "stdout",
          "text": [
            "| epoch   5 |  9000/70832 batches | loss    1.621 \n",
            "women: women’s, gender, living, she, the, working, her, identity, and, culture\n",
            "men: life, this, one, to, just, would, on, understanding, have, much\n",
            "nurse: practitioner, affiliates, specialists, collaborates, nursing, hospitals, diverse, experiences, honors, graduated\n",
            "doctor: fixing, college, completed, crowns, implant, provided, from, member, dental, tooth\n",
            "engineer: software, engineering, computer, technical, technology, electrical, industry, systems, worked, senior\n",
            "teacher: teachers, education, elementary, schools, teaching, curriculum, students, taught, literacy, mathematics\n",
            "dietitian: nutrition, registered, with, who, she, cooperates, clinical, practitioner, groups, medical\n",
            "\n",
            "\n"
          ]
        },
        {
          "output_type": "stream",
          "name": "stderr",
          "text": [
            "9527it [00:39, 226.61it/s]"
          ]
        },
        {
          "output_type": "stream",
          "name": "stdout",
          "text": [
            "| epoch   5 |  9500/70832 batches | loss    1.622 \n",
            "women: women’s, gender, living, she, the, working, her, identity, and, culture\n",
            "men: life, this, one, to, just, would, on, understanding, have, much\n",
            "nurse: practitioner, affiliates, specialists, collaborates, nursing, hospitals, diverse, experiences, honors, graduated\n",
            "doctor: fixing, college, completed, crowns, implant, provided, from, member, dental, tooth\n",
            "engineer: software, engineering, computer, technical, technology, electrical, industry, systems, worked, senior\n",
            "teacher: teachers, education, elementary, schools, teaching, curriculum, students, taught, literacy, mathematics\n",
            "dietitian: nutrition, registered, with, who, she, cooperates, clinical, practitioner, groups, medical\n",
            "\n",
            "\n"
          ]
        },
        {
          "output_type": "stream",
          "name": "stderr",
          "text": [
            "10020it [00:41, 228.67it/s]"
          ]
        },
        {
          "output_type": "stream",
          "name": "stdout",
          "text": [
            "| epoch   5 | 10000/70832 batches | loss    1.622 \n",
            "women: women’s, gender, living, she, the, working, her, identity, and, culture\n",
            "men: life, this, one, to, just, would, on, understanding, have, much\n",
            "nurse: practitioner, affiliates, specialists, collaborates, nursing, hospitals, diverse, experiences, honors, graduated\n",
            "doctor: fixing, college, completed, crowns, implant, provided, from, member, dental, tooth\n",
            "engineer: software, engineering, computer, technical, technology, electrical, industry, systems, worked, senior\n",
            "teacher: teachers, education, elementary, schools, teaching, curriculum, students, taught, literacy, mathematics\n",
            "dietitian: nutrition, registered, with, who, she, cooperates, clinical, practitioner, groups, medical\n",
            "\n",
            "\n"
          ]
        },
        {
          "output_type": "stream",
          "name": "stderr",
          "text": [
            "10521it [00:43, 227.03it/s]"
          ]
        },
        {
          "output_type": "stream",
          "name": "stdout",
          "text": [
            "| epoch   5 | 10500/70832 batches | loss    1.622 \n",
            "women: women’s, gender, living, she, the, working, her, identity, and, culture\n",
            "men: life, this, one, to, just, would, on, understanding, have, much\n",
            "nurse: practitioner, affiliates, specialists, collaborates, nursing, hospitals, diverse, experiences, honors, graduated\n",
            "doctor: fixing, college, completed, crowns, implant, provided, from, member, dental, tooth\n",
            "engineer: software, engineering, computer, technical, technology, electrical, industry, systems, worked, senior\n",
            "teacher: teachers, education, elementary, schools, teaching, curriculum, students, taught, literacy, mathematics\n",
            "dietitian: nutrition, registered, with, who, she, cooperates, clinical, practitioner, groups, medical\n",
            "\n",
            "\n"
          ]
        },
        {
          "output_type": "stream",
          "name": "stderr",
          "text": [
            "11021it [00:45, 222.92it/s]"
          ]
        },
        {
          "output_type": "stream",
          "name": "stdout",
          "text": [
            "| epoch   5 | 11000/70832 batches | loss    1.622 \n",
            "women: women’s, gender, living, she, the, working, her, identity, and, culture\n",
            "men: life, this, one, to, just, would, on, understanding, have, much\n",
            "nurse: practitioner, affiliates, specialists, collaborates, nursing, hospitals, diverse, experiences, honors, graduated\n",
            "doctor: fixing, college, completed, crowns, implant, provided, from, member, dental, tooth\n",
            "engineer: software, engineering, computer, technical, technology, electrical, industry, systems, worked, senior\n",
            "teacher: teachers, education, elementary, schools, teaching, curriculum, students, taught, literacy, mathematics\n",
            "dietitian: nutrition, registered, with, who, she, cooperates, clinical, practitioner, groups, medical\n",
            "\n",
            "\n"
          ]
        },
        {
          "output_type": "stream",
          "name": "stderr",
          "text": [
            "11517it [00:47, 232.76it/s]"
          ]
        },
        {
          "output_type": "stream",
          "name": "stdout",
          "text": [
            "| epoch   5 | 11500/70832 batches | loss    1.616 \n",
            "women: women’s, gender, living, she, the, working, her, identity, and, culture\n",
            "men: life, this, one, to, just, would, on, understanding, have, much\n",
            "nurse: practitioner, affiliates, specialists, collaborates, nursing, hospitals, diverse, experiences, honors, graduated\n",
            "doctor: fixing, college, completed, crowns, implant, provided, from, member, dental, tooth\n",
            "engineer: software, engineering, computer, technical, technology, electrical, industry, systems, worked, senior\n",
            "teacher: teachers, education, elementary, schools, teaching, curriculum, students, taught, literacy, mathematics\n",
            "dietitian: nutrition, registered, with, who, she, cooperates, clinical, practitioner, groups, medical\n",
            "\n",
            "\n"
          ]
        },
        {
          "output_type": "stream",
          "name": "stderr",
          "text": [
            "12033it [00:49, 229.00it/s]"
          ]
        },
        {
          "output_type": "stream",
          "name": "stdout",
          "text": [
            "| epoch   5 | 12000/70832 batches | loss    1.614 \n",
            "women: women’s, gender, living, she, the, working, her, identity, and, culture\n",
            "men: life, this, one, to, just, would, on, understanding, have, much\n",
            "nurse: practitioner, affiliates, specialists, collaborates, nursing, hospitals, diverse, experiences, honors, graduated\n",
            "doctor: fixing, college, completed, crowns, implant, provided, from, member, dental, tooth\n",
            "engineer: software, engineering, computer, technical, technology, electrical, industry, systems, worked, senior\n",
            "teacher: teachers, education, elementary, schools, teaching, curriculum, students, taught, literacy, mathematics\n",
            "dietitian: nutrition, registered, with, who, she, cooperates, clinical, practitioner, groups, medical\n",
            "\n",
            "\n"
          ]
        },
        {
          "output_type": "stream",
          "name": "stderr",
          "text": [
            "12521it [00:51, 216.18it/s]"
          ]
        },
        {
          "output_type": "stream",
          "name": "stdout",
          "text": [
            "| epoch   5 | 12500/70832 batches | loss    1.624 \n",
            "women: women’s, gender, living, she, the, working, her, identity, and, culture\n",
            "men: life, this, one, to, just, would, on, understanding, have, much\n",
            "nurse: practitioner, affiliates, specialists, collaborates, nursing, hospitals, diverse, experiences, honors, graduated\n",
            "doctor: fixing, college, completed, crowns, implant, provided, from, member, dental, tooth\n",
            "engineer: software, engineering, computer, technical, technology, electrical, industry, systems, worked, senior\n",
            "teacher: teachers, education, elementary, schools, teaching, curriculum, students, taught, literacy, mathematics\n",
            "dietitian: nutrition, registered, with, who, she, cooperates, clinical, practitioner, groups, medical\n",
            "\n",
            "\n"
          ]
        },
        {
          "output_type": "stream",
          "name": "stderr",
          "text": [
            "13016it [00:52, 231.36it/s]"
          ]
        },
        {
          "output_type": "stream",
          "name": "stdout",
          "text": [
            "| epoch   5 | 13000/70832 batches | loss    1.620 \n",
            "women: women’s, gender, living, she, the, working, her, identity, and, culture\n",
            "men: life, this, one, to, just, would, on, understanding, have, much\n",
            "nurse: practitioner, affiliates, specialists, collaborates, nursing, hospitals, diverse, experiences, honors, graduated\n",
            "doctor: fixing, college, completed, crowns, implant, provided, from, member, dental, tooth\n",
            "engineer: software, engineering, computer, technical, technology, electrical, industry, systems, worked, senior\n",
            "teacher: teachers, education, elementary, schools, teaching, curriculum, students, taught, literacy, mathematics\n",
            "dietitian: nutrition, registered, with, who, she, cooperates, clinical, practitioner, groups, medical\n",
            "\n",
            "\n"
          ]
        },
        {
          "output_type": "stream",
          "name": "stderr",
          "text": [
            "13529it [00:54, 229.68it/s]"
          ]
        },
        {
          "output_type": "stream",
          "name": "stdout",
          "text": [
            "| epoch   5 | 13500/70832 batches | loss    1.624 \n",
            "women: women’s, gender, living, she, the, working, her, identity, and, culture\n",
            "men: life, this, one, to, just, would, on, understanding, have, much\n",
            "nurse: practitioner, affiliates, specialists, collaborates, nursing, hospitals, diverse, experiences, honors, graduated\n",
            "doctor: fixing, college, completed, crowns, implant, provided, from, member, dental, tooth\n",
            "engineer: software, engineering, computer, technical, technology, electrical, industry, systems, worked, senior\n",
            "teacher: teachers, education, elementary, schools, teaching, curriculum, students, taught, literacy, mathematics\n",
            "dietitian: nutrition, registered, with, who, she, cooperates, clinical, practitioner, groups, medical\n",
            "\n",
            "\n"
          ]
        },
        {
          "output_type": "stream",
          "name": "stderr",
          "text": [
            "14026it [00:56, 228.66it/s]"
          ]
        },
        {
          "output_type": "stream",
          "name": "stdout",
          "text": [
            "| epoch   5 | 14000/70832 batches | loss    1.621 \n",
            "women: women’s, gender, living, she, the, working, her, identity, and, culture\n",
            "men: life, this, one, to, just, would, on, understanding, have, much\n",
            "nurse: practitioner, affiliates, specialists, collaborates, nursing, hospitals, diverse, experiences, honors, graduated\n",
            "doctor: fixing, college, completed, crowns, implant, provided, from, member, dental, tooth\n",
            "engineer: software, engineering, computer, technical, technology, electrical, industry, systems, worked, senior\n",
            "teacher: teachers, education, elementary, schools, teaching, curriculum, students, taught, literacy, mathematics\n",
            "dietitian: nutrition, registered, with, who, she, cooperates, clinical, practitioner, groups, medical\n",
            "\n",
            "\n"
          ]
        },
        {
          "output_type": "stream",
          "name": "stderr",
          "text": [
            "14523it [00:58, 216.98it/s]"
          ]
        },
        {
          "output_type": "stream",
          "name": "stdout",
          "text": [
            "| epoch   5 | 14500/70832 batches | loss    1.618 \n",
            "women: women’s, gender, living, she, the, working, her, identity, and, culture\n",
            "men: life, this, one, to, just, would, on, understanding, have, much\n",
            "nurse: practitioner, affiliates, specialists, collaborates, nursing, hospitals, diverse, experiences, honors, graduated\n",
            "doctor: fixing, college, completed, crowns, implant, provided, from, member, dental, tooth\n",
            "engineer: software, engineering, computer, technical, technology, electrical, industry, systems, worked, senior\n",
            "teacher: teachers, education, elementary, schools, teaching, curriculum, students, taught, literacy, mathematics\n",
            "dietitian: nutrition, registered, with, who, she, cooperates, clinical, practitioner, groups, medical\n",
            "\n",
            "\n"
          ]
        },
        {
          "output_type": "stream",
          "name": "stderr",
          "text": [
            "15015it [01:00, 222.85it/s]"
          ]
        },
        {
          "output_type": "stream",
          "name": "stdout",
          "text": [
            "| epoch   5 | 15000/70832 batches | loss    1.622 \n",
            "women: women’s, gender, living, she, the, working, her, identity, and, culture\n",
            "men: life, this, one, to, just, would, on, understanding, have, much\n",
            "nurse: practitioner, affiliates, specialists, collaborates, nursing, hospitals, diverse, experiences, honors, graduated\n",
            "doctor: fixing, college, completed, crowns, implant, provided, from, member, dental, tooth\n",
            "engineer: software, engineering, computer, technical, technology, electrical, industry, systems, worked, senior\n",
            "teacher: teachers, education, elementary, schools, teaching, curriculum, students, taught, literacy, mathematics\n",
            "dietitian: nutrition, registered, with, who, she, cooperates, clinical, practitioner, groups, medical\n",
            "\n",
            "\n"
          ]
        },
        {
          "output_type": "stream",
          "name": "stderr",
          "text": [
            "15514it [01:02, 234.85it/s]"
          ]
        },
        {
          "output_type": "stream",
          "name": "stdout",
          "text": [
            "| epoch   5 | 15500/70832 batches | loss    1.615 \n",
            "women: women’s, gender, living, she, the, working, her, identity, and, culture\n",
            "men: life, this, one, to, just, would, on, understanding, have, much\n",
            "nurse: practitioner, affiliates, specialists, collaborates, nursing, hospitals, diverse, experiences, honors, graduated\n",
            "doctor: fixing, college, completed, crowns, implant, provided, from, member, dental, tooth\n",
            "engineer: software, engineering, computer, technical, technology, electrical, industry, systems, worked, senior\n",
            "teacher: teachers, education, elementary, schools, teaching, curriculum, students, taught, literacy, mathematics\n",
            "dietitian: nutrition, registered, with, who, she, cooperates, clinical, practitioner, groups, medical\n",
            "\n",
            "\n"
          ]
        },
        {
          "output_type": "stream",
          "name": "stderr",
          "text": [
            "16016it [01:04, 218.18it/s]"
          ]
        },
        {
          "output_type": "stream",
          "name": "stdout",
          "text": [
            "| epoch   5 | 16000/70832 batches | loss    1.619 \n",
            "women: women’s, gender, living, she, the, working, her, identity, and, culture\n",
            "men: life, this, one, to, just, would, on, understanding, have, much\n",
            "nurse: practitioner, affiliates, specialists, collaborates, nursing, hospitals, diverse, experiences, honors, graduated\n",
            "doctor: fixing, college, completed, crowns, implant, provided, from, member, dental, tooth\n",
            "engineer: software, engineering, computer, technical, technology, electrical, industry, systems, worked, senior\n",
            "teacher: teachers, education, elementary, schools, teaching, curriculum, students, taught, literacy, mathematics\n",
            "dietitian: nutrition, registered, with, who, she, cooperates, clinical, practitioner, groups, medical\n",
            "\n",
            "\n"
          ]
        },
        {
          "output_type": "stream",
          "name": "stderr",
          "text": [
            "16528it [01:06, 229.86it/s]"
          ]
        },
        {
          "output_type": "stream",
          "name": "stdout",
          "text": [
            "| epoch   5 | 16500/70832 batches | loss    1.622 \n",
            "women: women’s, gender, living, she, the, working, her, identity, and, culture\n",
            "men: life, this, one, to, just, would, on, understanding, have, much\n",
            "nurse: practitioner, affiliates, specialists, collaborates, nursing, hospitals, diverse, experiences, honors, graduated\n",
            "doctor: fixing, college, completed, crowns, implant, provided, from, member, dental, tooth\n",
            "engineer: software, engineering, computer, technical, technology, electrical, industry, systems, worked, senior\n",
            "teacher: teachers, education, elementary, schools, teaching, curriculum, students, taught, literacy, mathematics\n",
            "dietitian: nutrition, registered, with, who, she, cooperates, clinical, practitioner, groups, medical\n",
            "\n",
            "\n"
          ]
        },
        {
          "output_type": "stream",
          "name": "stderr",
          "text": [
            "17025it [01:08, 223.70it/s]"
          ]
        },
        {
          "output_type": "stream",
          "name": "stdout",
          "text": [
            "| epoch   5 | 17000/70832 batches | loss    1.617 \n",
            "women: women’s, gender, living, she, the, working, her, identity, and, culture\n",
            "men: life, this, one, to, just, would, on, understanding, have, much\n",
            "nurse: practitioner, affiliates, specialists, collaborates, nursing, hospitals, diverse, experiences, honors, graduated\n",
            "doctor: fixing, college, completed, crowns, implant, provided, from, member, dental, tooth\n",
            "engineer: software, engineering, computer, technical, technology, electrical, industry, systems, worked, senior\n",
            "teacher: teachers, education, elementary, schools, teaching, curriculum, students, taught, literacy, mathematics\n",
            "dietitian: nutrition, registered, with, who, she, cooperates, clinical, practitioner, groups, medical\n",
            "\n",
            "\n"
          ]
        },
        {
          "output_type": "stream",
          "name": "stderr",
          "text": [
            "17521it [01:10, 204.76it/s]"
          ]
        },
        {
          "output_type": "stream",
          "name": "stdout",
          "text": [
            "| epoch   5 | 17500/70832 batches | loss    1.621 \n",
            "women: women’s, gender, living, she, the, working, her, identity, and, culture\n",
            "men: life, this, one, to, just, would, on, understanding, have, much\n",
            "nurse: practitioner, affiliates, specialists, collaborates, nursing, hospitals, diverse, experiences, honors, graduated\n",
            "doctor: fixing, college, completed, crowns, implant, provided, from, member, dental, tooth\n",
            "engineer: software, engineering, computer, technical, technology, electrical, industry, systems, worked, senior\n",
            "teacher: teachers, education, elementary, schools, teaching, curriculum, students, taught, literacy, mathematics\n",
            "dietitian: nutrition, registered, with, who, she, cooperates, clinical, practitioner, groups, medical\n",
            "\n",
            "\n"
          ]
        },
        {
          "output_type": "stream",
          "name": "stderr",
          "text": [
            "18020it [01:12, 227.62it/s]"
          ]
        },
        {
          "output_type": "stream",
          "name": "stdout",
          "text": [
            "| epoch   5 | 18000/70832 batches | loss    1.623 \n",
            "women: women’s, gender, living, she, the, working, her, identity, and, culture\n",
            "men: life, this, one, to, just, would, on, understanding, have, much\n",
            "nurse: practitioner, affiliates, specialists, collaborates, nursing, hospitals, diverse, experiences, honors, graduated\n",
            "doctor: fixing, college, completed, crowns, implant, provided, from, member, dental, tooth\n",
            "engineer: software, engineering, computer, technical, technology, electrical, industry, systems, worked, senior\n",
            "teacher: teachers, education, elementary, schools, teaching, curriculum, students, taught, literacy, mathematics\n",
            "dietitian: nutrition, registered, with, who, she, cooperates, clinical, practitioner, groups, medical\n",
            "\n",
            "\n"
          ]
        },
        {
          "output_type": "stream",
          "name": "stderr",
          "text": [
            "18518it [01:14, 231.84it/s]"
          ]
        },
        {
          "output_type": "stream",
          "name": "stdout",
          "text": [
            "| epoch   5 | 18500/70832 batches | loss    1.621 \n",
            "women: women’s, gender, living, she, the, working, her, identity, and, culture\n",
            "men: life, this, one, to, just, would, on, understanding, have, much\n",
            "nurse: practitioner, affiliates, specialists, collaborates, nursing, hospitals, diverse, experiences, honors, graduated\n",
            "doctor: fixing, college, completed, crowns, implant, provided, from, member, dental, tooth\n",
            "engineer: software, engineering, computer, technical, technology, electrical, industry, systems, worked, senior\n",
            "teacher: teachers, education, elementary, schools, teaching, curriculum, students, taught, literacy, mathematics\n",
            "dietitian: nutrition, registered, with, who, she, cooperates, clinical, practitioner, groups, medical\n",
            "\n",
            "\n"
          ]
        },
        {
          "output_type": "stream",
          "name": "stderr",
          "text": [
            "19033it [01:16, 235.20it/s]"
          ]
        },
        {
          "output_type": "stream",
          "name": "stdout",
          "text": [
            "| epoch   5 | 19000/70832 batches | loss    1.616 \n",
            "women: women’s, gender, living, she, the, working, her, identity, and, culture\n",
            "men: life, this, one, to, just, would, on, understanding, have, much\n",
            "nurse: practitioner, affiliates, specialists, collaborates, nursing, hospitals, diverse, experiences, honors, graduated\n",
            "doctor: fixing, college, completed, crowns, implant, provided, from, member, dental, tooth\n",
            "engineer: software, engineering, computer, technical, technology, electrical, industry, systems, worked, senior\n",
            "teacher: teachers, education, elementary, schools, teaching, curriculum, students, taught, literacy, mathematics\n",
            "dietitian: nutrition, registered, with, who, she, cooperates, clinical, practitioner, groups, medical\n",
            "\n",
            "\n"
          ]
        },
        {
          "output_type": "stream",
          "name": "stderr",
          "text": [
            "19530it [01:18, 227.60it/s]"
          ]
        },
        {
          "output_type": "stream",
          "name": "stdout",
          "text": [
            "| epoch   5 | 19500/70832 batches | loss    1.620 \n",
            "women: women’s, gender, living, she, the, working, her, identity, and, culture\n",
            "men: life, this, one, to, just, would, on, understanding, have, much\n",
            "nurse: practitioner, affiliates, specialists, collaborates, nursing, hospitals, diverse, experiences, honors, graduated\n",
            "doctor: fixing, college, completed, crowns, implant, provided, from, member, dental, tooth\n",
            "engineer: software, engineering, computer, technical, technology, electrical, industry, systems, worked, senior\n",
            "teacher: teachers, education, elementary, schools, teaching, curriculum, students, taught, literacy, mathematics\n",
            "dietitian: nutrition, registered, with, who, she, cooperates, clinical, practitioner, groups, medical\n",
            "\n",
            "\n"
          ]
        },
        {
          "output_type": "stream",
          "name": "stderr",
          "text": [
            "20015it [01:20, 229.08it/s]"
          ]
        },
        {
          "output_type": "stream",
          "name": "stdout",
          "text": [
            "| epoch   5 | 20000/70832 batches | loss    1.618 \n",
            "women: women’s, gender, living, she, the, working, her, identity, and, culture\n",
            "men: life, this, one, to, just, would, on, understanding, have, much\n",
            "nurse: practitioner, affiliates, specialists, collaborates, nursing, hospitals, diverse, experiences, honors, graduated\n",
            "doctor: fixing, college, completed, crowns, implant, provided, from, member, dental, tooth\n",
            "engineer: software, engineering, computer, technical, technology, electrical, industry, systems, worked, senior\n",
            "teacher: teachers, education, elementary, schools, teaching, curriculum, students, taught, literacy, mathematics\n",
            "dietitian: nutrition, registered, with, who, she, cooperates, clinical, practitioner, groups, medical\n",
            "\n",
            "\n"
          ]
        },
        {
          "output_type": "stream",
          "name": "stderr",
          "text": [
            "20532it [01:22, 228.65it/s]"
          ]
        },
        {
          "output_type": "stream",
          "name": "stdout",
          "text": [
            "| epoch   5 | 20500/70832 batches | loss    1.619 \n",
            "women: women’s, gender, living, she, the, working, her, identity, and, culture\n",
            "men: life, this, one, to, just, would, on, understanding, have, much\n",
            "nurse: practitioner, affiliates, specialists, collaborates, nursing, hospitals, diverse, experiences, honors, graduated\n",
            "doctor: fixing, college, completed, crowns, implant, provided, from, member, dental, tooth\n",
            "engineer: software, engineering, computer, technical, technology, electrical, industry, systems, worked, senior\n",
            "teacher: teachers, education, elementary, schools, teaching, curriculum, students, taught, literacy, mathematics\n",
            "dietitian: nutrition, registered, with, who, she, cooperates, clinical, practitioner, groups, medical\n",
            "\n",
            "\n"
          ]
        },
        {
          "output_type": "stream",
          "name": "stderr",
          "text": [
            "21025it [01:24, 218.51it/s]"
          ]
        },
        {
          "output_type": "stream",
          "name": "stdout",
          "text": [
            "| epoch   5 | 21000/70832 batches | loss    1.619 \n",
            "women: women’s, gender, living, she, the, working, her, identity, and, culture\n",
            "men: life, this, one, to, just, would, on, understanding, have, much\n",
            "nurse: practitioner, affiliates, specialists, collaborates, nursing, hospitals, diverse, experiences, honors, graduated\n",
            "doctor: fixing, college, completed, crowns, implant, provided, from, member, dental, tooth\n",
            "engineer: software, engineering, computer, technical, technology, electrical, industry, systems, worked, senior\n",
            "teacher: teachers, education, elementary, schools, teaching, curriculum, students, taught, literacy, mathematics\n",
            "dietitian: nutrition, registered, with, who, she, cooperates, clinical, practitioner, groups, medical\n",
            "\n",
            "\n"
          ]
        },
        {
          "output_type": "stream",
          "name": "stderr",
          "text": [
            "21525it [01:26, 226.50it/s]"
          ]
        },
        {
          "output_type": "stream",
          "name": "stdout",
          "text": [
            "| epoch   5 | 21500/70832 batches | loss    1.619 \n",
            "women: women’s, gender, living, she, the, working, her, identity, and, culture\n",
            "men: life, this, one, to, just, would, on, understanding, have, much\n",
            "nurse: practitioner, affiliates, specialists, collaborates, nursing, hospitals, diverse, experiences, honors, graduated\n",
            "doctor: fixing, college, completed, crowns, implant, provided, from, member, dental, tooth\n",
            "engineer: software, engineering, computer, technical, technology, electrical, industry, systems, worked, senior\n",
            "teacher: teachers, education, elementary, schools, teaching, curriculum, students, taught, literacy, mathematics\n",
            "dietitian: nutrition, registered, with, who, she, cooperates, clinical, practitioner, groups, medical\n",
            "\n",
            "\n"
          ]
        },
        {
          "output_type": "stream",
          "name": "stderr",
          "text": [
            "22014it [01:28, 226.80it/s]"
          ]
        },
        {
          "output_type": "stream",
          "name": "stdout",
          "text": [
            "| epoch   5 | 22000/70832 batches | loss    1.626 \n",
            "women: women’s, gender, living, she, the, working, her, identity, and, culture\n",
            "men: life, this, one, to, just, would, on, understanding, have, much\n",
            "nurse: practitioner, affiliates, specialists, collaborates, nursing, hospitals, diverse, experiences, honors, graduated\n",
            "doctor: fixing, college, completed, crowns, implant, provided, from, member, dental, tooth\n",
            "engineer: software, engineering, computer, technical, technology, electrical, industry, systems, worked, senior\n",
            "teacher: teachers, education, elementary, schools, teaching, curriculum, students, taught, literacy, mathematics\n",
            "dietitian: nutrition, registered, with, who, she, cooperates, clinical, practitioner, groups, medical\n",
            "\n",
            "\n"
          ]
        },
        {
          "output_type": "stream",
          "name": "stderr",
          "text": [
            "22526it [01:30, 223.09it/s]"
          ]
        },
        {
          "output_type": "stream",
          "name": "stdout",
          "text": [
            "| epoch   5 | 22500/70832 batches | loss    1.624 \n",
            "women: women’s, gender, living, she, the, working, her, identity, and, culture\n",
            "men: life, this, one, to, just, would, on, understanding, have, much\n",
            "nurse: practitioner, affiliates, specialists, collaborates, nursing, hospitals, diverse, experiences, honors, graduated\n",
            "doctor: fixing, college, completed, crowns, implant, provided, from, member, dental, tooth\n",
            "engineer: software, engineering, computer, technical, technology, electrical, industry, systems, worked, senior\n",
            "teacher: teachers, education, elementary, schools, teaching, curriculum, students, taught, literacy, mathematics\n",
            "dietitian: nutrition, registered, with, who, she, cooperates, clinical, practitioner, groups, medical\n",
            "\n",
            "\n"
          ]
        },
        {
          "output_type": "stream",
          "name": "stderr",
          "text": [
            "23027it [01:31, 218.19it/s]"
          ]
        },
        {
          "output_type": "stream",
          "name": "stdout",
          "text": [
            "| epoch   5 | 23000/70832 batches | loss    1.624 \n",
            "women: women’s, gender, living, she, the, working, her, identity, and, culture\n",
            "men: life, this, one, to, just, would, on, understanding, have, much\n",
            "nurse: practitioner, affiliates, specialists, collaborates, nursing, hospitals, diverse, experiences, honors, graduated\n",
            "doctor: fixing, college, completed, crowns, implant, provided, from, member, dental, tooth\n",
            "engineer: software, engineering, computer, technical, technology, electrical, industry, systems, worked, senior\n",
            "teacher: teachers, education, elementary, schools, teaching, curriculum, students, taught, literacy, mathematics\n",
            "dietitian: nutrition, registered, with, who, she, cooperates, clinical, practitioner, groups, medical\n",
            "\n",
            "\n"
          ]
        },
        {
          "output_type": "stream",
          "name": "stderr",
          "text": [
            "23517it [01:33, 221.43it/s]"
          ]
        },
        {
          "output_type": "stream",
          "name": "stdout",
          "text": [
            "| epoch   5 | 23500/70832 batches | loss    1.620 \n",
            "women: women’s, gender, living, she, the, working, her, identity, and, culture\n",
            "men: life, this, one, to, just, would, on, understanding, have, much\n",
            "nurse: practitioner, affiliates, specialists, collaborates, nursing, hospitals, diverse, experiences, honors, graduated\n",
            "doctor: fixing, college, completed, crowns, implant, provided, from, member, dental, tooth\n",
            "engineer: software, engineering, computer, technical, technology, electrical, industry, systems, worked, senior\n",
            "teacher: teachers, education, elementary, schools, teaching, curriculum, students, taught, literacy, mathematics\n",
            "dietitian: nutrition, registered, with, who, she, cooperates, clinical, practitioner, groups, medical\n",
            "\n",
            "\n"
          ]
        },
        {
          "output_type": "stream",
          "name": "stderr",
          "text": [
            "24011it [01:35, 228.55it/s]"
          ]
        },
        {
          "output_type": "stream",
          "name": "stdout",
          "text": [
            "| epoch   5 | 24000/70832 batches | loss    1.615 \n",
            "women: women’s, gender, living, she, the, working, her, identity, and, culture\n",
            "men: life, this, one, to, just, would, on, understanding, have, much\n",
            "nurse: practitioner, affiliates, specialists, collaborates, nursing, hospitals, diverse, experiences, honors, graduated\n",
            "doctor: fixing, college, completed, crowns, implant, provided, from, member, dental, tooth\n",
            "engineer: software, engineering, computer, technical, technology, electrical, industry, systems, worked, senior\n",
            "teacher: teachers, education, elementary, schools, teaching, curriculum, students, taught, literacy, mathematics\n",
            "dietitian: nutrition, registered, with, who, she, cooperates, clinical, practitioner, groups, medical\n",
            "\n",
            "\n"
          ]
        },
        {
          "output_type": "stream",
          "name": "stderr",
          "text": [
            "24527it [01:37, 215.23it/s]"
          ]
        },
        {
          "output_type": "stream",
          "name": "stdout",
          "text": [
            "| epoch   5 | 24500/70832 batches | loss    1.621 \n",
            "women: women’s, gender, living, she, the, working, her, identity, and, culture\n",
            "men: life, this, one, to, just, would, on, understanding, have, much\n",
            "nurse: practitioner, affiliates, specialists, collaborates, nursing, hospitals, diverse, experiences, honors, graduated\n",
            "doctor: fixing, college, completed, crowns, implant, provided, from, member, dental, tooth\n",
            "engineer: software, engineering, computer, technical, technology, electrical, industry, systems, worked, senior\n",
            "teacher: teachers, education, elementary, schools, teaching, curriculum, students, taught, literacy, mathematics\n",
            "dietitian: nutrition, registered, with, who, she, cooperates, clinical, practitioner, groups, medical\n",
            "\n",
            "\n"
          ]
        },
        {
          "output_type": "stream",
          "name": "stderr",
          "text": [
            "25021it [01:39, 227.27it/s]"
          ]
        },
        {
          "output_type": "stream",
          "name": "stdout",
          "text": [
            "| epoch   5 | 25000/70832 batches | loss    1.621 \n",
            "women: women’s, gender, living, she, the, working, her, identity, and, culture\n",
            "men: life, this, one, to, just, would, on, understanding, have, much\n",
            "nurse: practitioner, affiliates, specialists, collaborates, nursing, hospitals, diverse, experiences, honors, graduated\n",
            "doctor: fixing, college, completed, crowns, implant, provided, from, member, dental, tooth\n",
            "engineer: software, engineering, computer, technical, technology, electrical, industry, systems, worked, senior\n",
            "teacher: teachers, education, elementary, schools, teaching, curriculum, students, taught, literacy, mathematics\n",
            "dietitian: nutrition, registered, with, who, she, cooperates, clinical, practitioner, groups, medical\n",
            "\n",
            "\n"
          ]
        },
        {
          "output_type": "stream",
          "name": "stderr",
          "text": [
            "25521it [01:41, 228.83it/s]"
          ]
        },
        {
          "output_type": "stream",
          "name": "stdout",
          "text": [
            "| epoch   5 | 25500/70832 batches | loss    1.616 \n",
            "women: women’s, gender, living, she, the, working, her, identity, and, culture\n",
            "men: life, this, one, to, just, would, on, understanding, have, much\n",
            "nurse: practitioner, affiliates, specialists, collaborates, nursing, hospitals, diverse, experiences, honors, graduated\n",
            "doctor: fixing, college, completed, crowns, implant, provided, from, member, dental, tooth\n",
            "engineer: software, engineering, computer, technical, technology, electrical, industry, systems, worked, senior\n",
            "teacher: teachers, education, elementary, schools, teaching, curriculum, students, taught, literacy, mathematics\n",
            "dietitian: nutrition, registered, with, who, she, cooperates, clinical, practitioner, groups, medical\n",
            "\n",
            "\n"
          ]
        },
        {
          "output_type": "stream",
          "name": "stderr",
          "text": [
            "26019it [01:43, 224.13it/s]"
          ]
        },
        {
          "output_type": "stream",
          "name": "stdout",
          "text": [
            "| epoch   5 | 26000/70832 batches | loss    1.620 \n",
            "women: women’s, gender, living, she, the, working, her, identity, and, culture\n",
            "men: life, this, one, to, just, would, on, understanding, have, much\n",
            "nurse: practitioner, affiliates, specialists, collaborates, nursing, hospitals, diverse, experiences, honors, graduated\n",
            "doctor: fixing, college, completed, crowns, implant, provided, from, member, dental, tooth\n",
            "engineer: software, engineering, computer, technical, technology, electrical, industry, systems, worked, senior\n",
            "teacher: teachers, education, elementary, schools, teaching, curriculum, students, taught, literacy, mathematics\n",
            "dietitian: nutrition, registered, with, who, she, cooperates, clinical, practitioner, groups, medical\n",
            "\n",
            "\n"
          ]
        },
        {
          "output_type": "stream",
          "name": "stderr",
          "text": [
            "26526it [01:45, 230.11it/s]"
          ]
        },
        {
          "output_type": "stream",
          "name": "stdout",
          "text": [
            "| epoch   5 | 26500/70832 batches | loss    1.613 \n",
            "women: women’s, gender, living, she, the, working, her, identity, and, culture\n",
            "men: life, this, one, to, just, would, on, understanding, have, much\n",
            "nurse: practitioner, affiliates, specialists, collaborates, nursing, hospitals, diverse, experiences, honors, graduated\n",
            "doctor: fixing, college, completed, crowns, implant, provided, from, member, dental, tooth\n",
            "engineer: software, engineering, computer, technical, technology, electrical, industry, systems, worked, senior\n",
            "teacher: teachers, education, elementary, schools, teaching, curriculum, students, taught, literacy, mathematics\n",
            "dietitian: nutrition, registered, with, who, she, cooperates, clinical, practitioner, groups, medical\n",
            "\n",
            "\n"
          ]
        },
        {
          "output_type": "stream",
          "name": "stderr",
          "text": [
            "27017it [01:47, 227.12it/s]"
          ]
        },
        {
          "output_type": "stream",
          "name": "stdout",
          "text": [
            "| epoch   5 | 27000/70832 batches | loss    1.624 \n",
            "women: women’s, gender, living, she, the, working, her, identity, and, culture\n",
            "men: life, this, one, to, just, would, on, understanding, have, much\n",
            "nurse: practitioner, affiliates, specialists, collaborates, nursing, hospitals, diverse, experiences, honors, graduated\n",
            "doctor: fixing, college, completed, crowns, implant, provided, from, member, dental, tooth\n",
            "engineer: software, engineering, computer, technical, technology, electrical, industry, systems, worked, senior\n",
            "teacher: teachers, education, elementary, schools, teaching, curriculum, students, taught, literacy, mathematics\n",
            "dietitian: nutrition, registered, with, who, she, cooperates, clinical, practitioner, groups, medical\n",
            "\n",
            "\n"
          ]
        },
        {
          "output_type": "stream",
          "name": "stderr",
          "text": [
            "27532it [01:49, 227.04it/s]"
          ]
        },
        {
          "output_type": "stream",
          "name": "stdout",
          "text": [
            "| epoch   5 | 27500/70832 batches | loss    1.623 \n",
            "women: women’s, gender, living, she, the, working, her, identity, and, culture\n",
            "men: life, this, one, to, just, would, on, understanding, have, much\n",
            "nurse: practitioner, affiliates, specialists, collaborates, nursing, hospitals, diverse, experiences, honors, graduated\n",
            "doctor: fixing, college, completed, crowns, implant, provided, from, member, dental, tooth\n",
            "engineer: software, engineering, computer, technical, technology, electrical, industry, systems, worked, senior\n",
            "teacher: teachers, education, elementary, schools, teaching, curriculum, students, taught, literacy, mathematics\n",
            "dietitian: nutrition, registered, with, who, she, cooperates, clinical, practitioner, groups, medical\n",
            "\n",
            "\n"
          ]
        },
        {
          "output_type": "stream",
          "name": "stderr",
          "text": [
            "28033it [01:51, 233.35it/s]"
          ]
        },
        {
          "output_type": "stream",
          "name": "stdout",
          "text": [
            "| epoch   5 | 28000/70832 batches | loss    1.614 \n",
            "women: women’s, gender, living, she, the, working, her, identity, and, culture\n",
            "men: life, this, one, to, just, would, on, understanding, have, much\n",
            "nurse: practitioner, affiliates, specialists, collaborates, nursing, hospitals, diverse, experiences, honors, graduated\n",
            "doctor: fixing, college, completed, crowns, implant, provided, from, member, dental, tooth\n",
            "engineer: software, engineering, computer, technical, technology, electrical, industry, systems, worked, senior\n",
            "teacher: teachers, education, elementary, schools, teaching, curriculum, students, taught, literacy, mathematics\n",
            "dietitian: nutrition, registered, with, who, she, cooperates, clinical, practitioner, groups, medical\n",
            "\n",
            "\n"
          ]
        },
        {
          "output_type": "stream",
          "name": "stderr",
          "text": [
            "28523it [01:53, 219.98it/s]"
          ]
        },
        {
          "output_type": "stream",
          "name": "stdout",
          "text": [
            "| epoch   5 | 28500/70832 batches | loss    1.618 \n",
            "women: women’s, gender, living, she, the, working, her, identity, and, culture\n",
            "men: life, this, one, to, just, would, on, understanding, have, much\n",
            "nurse: practitioner, affiliates, specialists, collaborates, nursing, hospitals, diverse, experiences, honors, graduated\n",
            "doctor: fixing, college, completed, crowns, implant, provided, from, member, dental, tooth\n",
            "engineer: software, engineering, computer, technical, technology, electrical, industry, systems, worked, senior\n",
            "teacher: teachers, education, elementary, schools, teaching, curriculum, students, taught, literacy, mathematics\n",
            "dietitian: nutrition, registered, with, who, she, cooperates, clinical, practitioner, groups, medical\n",
            "\n",
            "\n"
          ]
        },
        {
          "output_type": "stream",
          "name": "stderr",
          "text": [
            "29008it [01:55, 214.27it/s]"
          ]
        },
        {
          "output_type": "stream",
          "name": "stdout",
          "text": [
            "| epoch   5 | 29000/70832 batches | loss    1.618 \n",
            "women: women’s, gender, living, she, the, working, her, identity, and, culture\n",
            "men: life, this, one, to, just, would, on, understanding, have, much\n",
            "nurse: practitioner, affiliates, specialists, collaborates, nursing, hospitals, diverse, experiences, honors, graduated\n",
            "doctor: fixing, college, completed, crowns, implant, provided, from, member, dental, tooth\n",
            "engineer: software, engineering, computer, technical, technology, electrical, industry, systems, worked, senior\n",
            "teacher: teachers, education, elementary, schools, teaching, curriculum, students, taught, literacy, mathematics\n",
            "dietitian: nutrition, registered, with, who, she, cooperates, clinical, practitioner, groups, medical\n",
            "\n",
            "\n"
          ]
        },
        {
          "output_type": "stream",
          "name": "stderr",
          "text": [
            "29516it [01:57, 206.91it/s]"
          ]
        },
        {
          "output_type": "stream",
          "name": "stdout",
          "text": [
            "| epoch   5 | 29500/70832 batches | loss    1.621 \n",
            "women: women’s, gender, living, she, the, working, her, identity, and, culture\n",
            "men: life, this, one, to, just, would, on, understanding, have, much\n",
            "nurse: practitioner, affiliates, specialists, collaborates, nursing, hospitals, diverse, experiences, honors, graduated\n",
            "doctor: fixing, college, completed, crowns, implant, provided, from, member, dental, tooth\n",
            "engineer: software, engineering, computer, technical, technology, electrical, industry, systems, worked, senior\n",
            "teacher: teachers, education, elementary, schools, teaching, curriculum, students, taught, literacy, mathematics\n",
            "dietitian: nutrition, registered, with, who, she, cooperates, clinical, practitioner, groups, medical\n",
            "\n",
            "\n"
          ]
        },
        {
          "output_type": "stream",
          "name": "stderr",
          "text": [
            "30023it [01:59, 221.75it/s]"
          ]
        },
        {
          "output_type": "stream",
          "name": "stdout",
          "text": [
            "| epoch   5 | 30000/70832 batches | loss    1.620 \n",
            "women: women’s, gender, living, she, the, working, her, identity, and, culture\n",
            "men: life, this, one, to, just, would, on, understanding, have, much\n",
            "nurse: practitioner, affiliates, specialists, collaborates, nursing, hospitals, diverse, experiences, honors, graduated\n",
            "doctor: fixing, college, completed, crowns, implant, provided, from, member, dental, tooth\n",
            "engineer: software, engineering, computer, technical, technology, electrical, industry, systems, worked, senior\n",
            "teacher: teachers, education, elementary, schools, teaching, curriculum, students, taught, literacy, mathematics\n",
            "dietitian: nutrition, registered, with, who, she, cooperates, clinical, practitioner, groups, medical\n",
            "\n",
            "\n"
          ]
        },
        {
          "output_type": "stream",
          "name": "stderr",
          "text": [
            "30522it [02:01, 224.20it/s]"
          ]
        },
        {
          "output_type": "stream",
          "name": "stdout",
          "text": [
            "| epoch   5 | 30500/70832 batches | loss    1.630 \n",
            "women: women’s, gender, living, she, the, working, her, identity, and, culture\n",
            "men: life, this, one, to, just, would, on, understanding, have, much\n",
            "nurse: practitioner, affiliates, specialists, collaborates, nursing, hospitals, diverse, experiences, honors, graduated\n",
            "doctor: fixing, college, completed, crowns, implant, provided, from, member, dental, tooth\n",
            "engineer: software, engineering, computer, technical, technology, electrical, industry, systems, worked, senior\n",
            "teacher: teachers, education, elementary, schools, teaching, curriculum, students, taught, literacy, mathematics\n",
            "dietitian: nutrition, registered, with, who, she, cooperates, clinical, practitioner, groups, medical\n",
            "\n",
            "\n"
          ]
        },
        {
          "output_type": "stream",
          "name": "stderr",
          "text": [
            "31023it [02:03, 188.45it/s]"
          ]
        },
        {
          "output_type": "stream",
          "name": "stdout",
          "text": [
            "| epoch   5 | 31000/70832 batches | loss    1.614 \n",
            "women: women’s, gender, living, she, the, working, her, identity, and, culture\n",
            "men: life, this, one, to, just, would, on, understanding, have, much\n",
            "nurse: practitioner, affiliates, specialists, collaborates, nursing, hospitals, diverse, experiences, honors, graduated\n",
            "doctor: fixing, college, completed, crowns, implant, provided, from, member, dental, tooth\n",
            "engineer: software, engineering, computer, technical, technology, electrical, industry, systems, worked, senior\n",
            "teacher: teachers, education, elementary, schools, teaching, curriculum, students, taught, literacy, mathematics\n",
            "dietitian: nutrition, registered, with, who, she, cooperates, clinical, practitioner, groups, medical\n",
            "\n",
            "\n"
          ]
        },
        {
          "output_type": "stream",
          "name": "stderr",
          "text": [
            "31518it [02:05, 231.82it/s]"
          ]
        },
        {
          "output_type": "stream",
          "name": "stdout",
          "text": [
            "| epoch   5 | 31500/70832 batches | loss    1.615 \n",
            "women: women’s, gender, living, she, the, working, her, identity, and, culture\n",
            "men: life, this, one, to, just, would, on, understanding, have, much\n",
            "nurse: practitioner, affiliates, specialists, collaborates, nursing, hospitals, diverse, experiences, honors, graduated\n",
            "doctor: fixing, college, completed, crowns, implant, provided, from, member, dental, tooth\n",
            "engineer: software, engineering, computer, technical, technology, electrical, industry, systems, worked, senior\n",
            "teacher: teachers, education, elementary, schools, teaching, curriculum, students, taught, literacy, mathematics\n",
            "dietitian: nutrition, registered, with, who, she, cooperates, clinical, practitioner, groups, medical\n",
            "\n",
            "\n"
          ]
        },
        {
          "output_type": "stream",
          "name": "stderr",
          "text": [
            "32014it [02:07, 201.15it/s]"
          ]
        },
        {
          "output_type": "stream",
          "name": "stdout",
          "text": [
            "| epoch   5 | 32000/70832 batches | loss    1.615 \n",
            "women: women’s, gender, living, she, the, working, her, identity, and, culture\n",
            "men: life, this, one, to, just, would, on, understanding, have, much\n",
            "nurse: practitioner, affiliates, specialists, collaborates, nursing, hospitals, diverse, experiences, honors, graduated\n",
            "doctor: fixing, college, completed, crowns, implant, provided, from, member, dental, tooth\n",
            "engineer: software, engineering, computer, technical, technology, electrical, industry, systems, worked, senior\n",
            "teacher: teachers, education, elementary, schools, teaching, curriculum, students, taught, literacy, mathematics\n",
            "dietitian: nutrition, registered, with, who, she, cooperates, clinical, practitioner, groups, medical\n",
            "\n",
            "\n"
          ]
        },
        {
          "output_type": "stream",
          "name": "stderr",
          "text": [
            "32520it [02:09, 203.14it/s]"
          ]
        },
        {
          "output_type": "stream",
          "name": "stdout",
          "text": [
            "| epoch   5 | 32500/70832 batches | loss    1.615 \n",
            "women: women’s, gender, living, she, the, working, her, identity, and, culture\n",
            "men: life, this, one, to, just, would, on, understanding, have, much\n",
            "nurse: practitioner, affiliates, specialists, collaborates, nursing, hospitals, diverse, experiences, honors, graduated\n",
            "doctor: fixing, college, completed, crowns, implant, provided, from, member, dental, tooth\n",
            "engineer: software, engineering, computer, technical, technology, electrical, industry, systems, worked, senior\n",
            "teacher: teachers, education, elementary, schools, teaching, curriculum, students, taught, literacy, mathematics\n",
            "dietitian: nutrition, registered, with, who, she, cooperates, clinical, practitioner, groups, medical\n",
            "\n",
            "\n"
          ]
        },
        {
          "output_type": "stream",
          "name": "stderr",
          "text": [
            "33029it [02:11, 227.72it/s]"
          ]
        },
        {
          "output_type": "stream",
          "name": "stdout",
          "text": [
            "| epoch   5 | 33000/70832 batches | loss    1.624 \n",
            "women: women’s, gender, living, she, the, working, her, identity, and, culture\n",
            "men: life, this, one, to, just, would, on, understanding, have, much\n",
            "nurse: practitioner, affiliates, specialists, collaborates, nursing, hospitals, diverse, experiences, honors, graduated\n",
            "doctor: fixing, college, completed, crowns, implant, provided, from, member, dental, tooth\n",
            "engineer: software, engineering, computer, technical, technology, electrical, industry, systems, worked, senior\n",
            "teacher: teachers, education, elementary, schools, teaching, curriculum, students, taught, literacy, mathematics\n",
            "dietitian: nutrition, registered, with, who, she, cooperates, clinical, practitioner, groups, medical\n",
            "\n",
            "\n"
          ]
        },
        {
          "output_type": "stream",
          "name": "stderr",
          "text": [
            "33515it [02:13, 224.28it/s]"
          ]
        },
        {
          "output_type": "stream",
          "name": "stdout",
          "text": [
            "| epoch   5 | 33500/70832 batches | loss    1.621 \n",
            "women: women’s, gender, living, she, the, working, her, identity, and, culture\n",
            "men: life, this, one, to, just, would, on, understanding, have, much\n",
            "nurse: practitioner, affiliates, specialists, collaborates, nursing, hospitals, diverse, experiences, honors, graduated\n",
            "doctor: fixing, college, completed, crowns, implant, provided, from, member, dental, tooth\n",
            "engineer: software, engineering, computer, technical, technology, electrical, industry, systems, worked, senior\n",
            "teacher: teachers, education, elementary, schools, teaching, curriculum, students, taught, literacy, mathematics\n",
            "dietitian: nutrition, registered, with, who, she, cooperates, clinical, practitioner, groups, medical\n",
            "\n",
            "\n"
          ]
        },
        {
          "output_type": "stream",
          "name": "stderr",
          "text": [
            "34027it [02:15, 223.75it/s]"
          ]
        },
        {
          "output_type": "stream",
          "name": "stdout",
          "text": [
            "| epoch   5 | 34000/70832 batches | loss    1.614 \n",
            "women: women’s, gender, living, she, the, working, her, identity, and, culture\n",
            "men: life, this, one, to, just, would, on, understanding, have, much\n",
            "nurse: practitioner, affiliates, specialists, collaborates, nursing, hospitals, diverse, experiences, honors, graduated\n",
            "doctor: fixing, college, completed, crowns, implant, provided, from, member, dental, tooth\n",
            "engineer: software, engineering, computer, technical, technology, electrical, industry, systems, worked, senior\n",
            "teacher: teachers, education, elementary, schools, teaching, curriculum, students, taught, literacy, mathematics\n",
            "dietitian: nutrition, registered, with, who, she, cooperates, clinical, practitioner, groups, medical\n",
            "\n",
            "\n"
          ]
        },
        {
          "output_type": "stream",
          "name": "stderr",
          "text": [
            "34522it [02:17, 224.90it/s]"
          ]
        },
        {
          "output_type": "stream",
          "name": "stdout",
          "text": [
            "| epoch   5 | 34500/70832 batches | loss    1.624 \n",
            "women: women’s, gender, living, she, the, working, her, identity, and, culture\n",
            "men: life, this, one, to, just, would, on, understanding, have, much\n",
            "nurse: practitioner, affiliates, specialists, collaborates, nursing, hospitals, diverse, experiences, honors, graduated\n",
            "doctor: fixing, college, completed, crowns, implant, provided, from, member, dental, tooth\n",
            "engineer: software, engineering, computer, technical, technology, electrical, industry, systems, worked, senior\n",
            "teacher: teachers, education, elementary, schools, teaching, curriculum, students, taught, literacy, mathematics\n",
            "dietitian: nutrition, registered, with, who, she, cooperates, clinical, practitioner, groups, medical\n",
            "\n",
            "\n"
          ]
        },
        {
          "output_type": "stream",
          "name": "stderr",
          "text": [
            "35032it [02:19, 218.35it/s]"
          ]
        },
        {
          "output_type": "stream",
          "name": "stdout",
          "text": [
            "| epoch   5 | 35000/70832 batches | loss    1.622 \n",
            "women: women’s, gender, living, she, the, working, her, identity, and, culture\n",
            "men: life, this, one, to, just, would, on, understanding, have, much\n",
            "nurse: practitioner, affiliates, specialists, collaborates, nursing, hospitals, diverse, experiences, honors, graduated\n",
            "doctor: fixing, college, completed, crowns, implant, provided, from, member, dental, tooth\n",
            "engineer: software, engineering, computer, technical, technology, electrical, industry, systems, worked, senior\n",
            "teacher: teachers, education, elementary, schools, teaching, curriculum, students, taught, literacy, mathematics\n",
            "dietitian: nutrition, registered, with, who, she, cooperates, clinical, practitioner, groups, medical\n",
            "\n",
            "\n"
          ]
        },
        {
          "output_type": "stream",
          "name": "stderr",
          "text": [
            "35530it [02:21, 225.83it/s]"
          ]
        },
        {
          "output_type": "stream",
          "name": "stdout",
          "text": [
            "| epoch   5 | 35500/70832 batches | loss    1.621 \n",
            "women: women’s, gender, living, she, the, working, her, identity, and, culture\n",
            "men: life, this, one, to, just, would, on, understanding, have, much\n",
            "nurse: practitioner, affiliates, specialists, collaborates, nursing, hospitals, diverse, experiences, honors, graduated\n",
            "doctor: fixing, college, completed, crowns, implant, provided, from, member, dental, tooth\n",
            "engineer: software, engineering, computer, technical, technology, electrical, industry, systems, worked, senior\n",
            "teacher: teachers, education, elementary, schools, teaching, curriculum, students, taught, literacy, mathematics\n",
            "dietitian: nutrition, registered, with, who, she, cooperates, clinical, practitioner, groups, medical\n",
            "\n",
            "\n"
          ]
        },
        {
          "output_type": "stream",
          "name": "stderr",
          "text": [
            "36017it [02:23, 214.24it/s]"
          ]
        },
        {
          "output_type": "stream",
          "name": "stdout",
          "text": [
            "| epoch   5 | 36000/70832 batches | loss    1.624 \n",
            "women: women’s, gender, living, she, the, working, her, identity, and, culture\n",
            "men: life, this, one, to, just, would, on, understanding, have, much\n",
            "nurse: practitioner, affiliates, specialists, collaborates, nursing, hospitals, diverse, experiences, honors, graduated\n",
            "doctor: fixing, college, completed, crowns, implant, provided, from, member, dental, tooth\n",
            "engineer: software, engineering, computer, technical, technology, electrical, industry, systems, worked, senior\n",
            "teacher: teachers, education, elementary, schools, teaching, curriculum, students, taught, literacy, mathematics\n",
            "dietitian: nutrition, registered, with, who, she, cooperates, clinical, practitioner, groups, medical\n",
            "\n",
            "\n"
          ]
        },
        {
          "output_type": "stream",
          "name": "stderr",
          "text": [
            "36534it [02:25, 225.70it/s]"
          ]
        },
        {
          "output_type": "stream",
          "name": "stdout",
          "text": [
            "| epoch   5 | 36500/70832 batches | loss    1.621 \n",
            "women: women’s, gender, living, she, the, working, her, identity, and, culture\n",
            "men: life, this, one, to, just, would, on, understanding, have, much\n",
            "nurse: practitioner, affiliates, specialists, collaborates, nursing, hospitals, diverse, experiences, honors, graduated\n",
            "doctor: fixing, college, completed, crowns, implant, provided, from, member, dental, tooth\n",
            "engineer: software, engineering, computer, technical, technology, electrical, industry, systems, worked, senior\n",
            "teacher: teachers, education, elementary, schools, teaching, curriculum, students, taught, literacy, mathematics\n",
            "dietitian: nutrition, registered, with, who, she, cooperates, clinical, practitioner, groups, medical\n",
            "\n",
            "\n"
          ]
        },
        {
          "output_type": "stream",
          "name": "stderr",
          "text": [
            "37017it [02:27, 208.61it/s]"
          ]
        },
        {
          "output_type": "stream",
          "name": "stdout",
          "text": [
            "| epoch   5 | 37000/70832 batches | loss    1.618 \n",
            "women: women’s, gender, living, she, the, working, her, identity, and, culture\n",
            "men: life, this, one, to, just, would, on, understanding, have, much\n",
            "nurse: practitioner, affiliates, specialists, collaborates, nursing, hospitals, diverse, experiences, honors, graduated\n",
            "doctor: fixing, college, completed, crowns, implant, provided, from, member, dental, tooth\n",
            "engineer: software, engineering, computer, technical, technology, electrical, industry, systems, worked, senior\n",
            "teacher: teachers, education, elementary, schools, teaching, curriculum, students, taught, literacy, mathematics\n",
            "dietitian: nutrition, registered, with, who, she, cooperates, clinical, practitioner, groups, medical\n",
            "\n",
            "\n"
          ]
        },
        {
          "output_type": "stream",
          "name": "stderr",
          "text": [
            "37528it [02:29, 227.02it/s]"
          ]
        },
        {
          "output_type": "stream",
          "name": "stdout",
          "text": [
            "| epoch   5 | 37500/70832 batches | loss    1.621 \n",
            "women: women’s, gender, living, she, the, working, her, identity, and, culture\n",
            "men: life, this, one, to, just, would, on, understanding, have, much\n",
            "nurse: practitioner, affiliates, specialists, collaborates, nursing, hospitals, diverse, experiences, honors, graduated\n",
            "doctor: fixing, college, completed, crowns, implant, provided, from, member, dental, tooth\n",
            "engineer: software, engineering, computer, technical, technology, electrical, industry, systems, worked, senior\n",
            "teacher: teachers, education, elementary, schools, teaching, curriculum, students, taught, literacy, mathematics\n",
            "dietitian: nutrition, registered, with, who, she, cooperates, clinical, practitioner, groups, medical\n",
            "\n",
            "\n"
          ]
        },
        {
          "output_type": "stream",
          "name": "stderr",
          "text": [
            "38015it [02:31, 230.61it/s]"
          ]
        },
        {
          "output_type": "stream",
          "name": "stdout",
          "text": [
            "| epoch   5 | 38000/70832 batches | loss    1.618 \n",
            "women: women’s, gender, living, she, the, working, her, identity, and, culture\n",
            "men: life, this, one, to, just, would, on, understanding, have, much\n",
            "nurse: practitioner, affiliates, specialists, collaborates, nursing, hospitals, diverse, experiences, honors, graduated\n",
            "doctor: fixing, college, completed, crowns, implant, provided, from, member, dental, tooth\n",
            "engineer: software, engineering, computer, technical, technology, electrical, industry, systems, worked, senior\n",
            "teacher: teachers, education, elementary, schools, teaching, curriculum, students, taught, literacy, mathematics\n",
            "dietitian: nutrition, registered, with, who, she, cooperates, clinical, practitioner, groups, medical\n",
            "\n",
            "\n"
          ]
        },
        {
          "output_type": "stream",
          "name": "stderr",
          "text": [
            "38527it [02:33, 217.17it/s]"
          ]
        },
        {
          "output_type": "stream",
          "name": "stdout",
          "text": [
            "| epoch   5 | 38500/70832 batches | loss    1.625 \n",
            "women: women’s, gender, living, she, the, working, her, identity, and, culture\n",
            "men: life, this, one, to, just, would, on, understanding, have, much\n",
            "nurse: practitioner, affiliates, specialists, collaborates, nursing, hospitals, diverse, experiences, honors, graduated\n",
            "doctor: fixing, college, completed, crowns, implant, provided, from, member, dental, tooth\n",
            "engineer: software, engineering, computer, technical, technology, electrical, industry, systems, worked, senior\n",
            "teacher: teachers, education, elementary, schools, teaching, curriculum, students, taught, literacy, mathematics\n",
            "dietitian: nutrition, registered, with, who, she, cooperates, clinical, practitioner, groups, medical\n",
            "\n",
            "\n"
          ]
        },
        {
          "output_type": "stream",
          "name": "stderr",
          "text": [
            "39022it [02:35, 228.25it/s]"
          ]
        },
        {
          "output_type": "stream",
          "name": "stdout",
          "text": [
            "| epoch   5 | 39000/70832 batches | loss    1.625 \n",
            "women: women’s, gender, living, she, the, working, her, identity, and, culture\n",
            "men: life, this, one, to, just, would, on, understanding, have, much\n",
            "nurse: practitioner, affiliates, specialists, collaborates, nursing, hospitals, diverse, experiences, honors, graduated\n",
            "doctor: fixing, college, completed, crowns, implant, provided, from, member, dental, tooth\n",
            "engineer: software, engineering, computer, technical, technology, electrical, industry, systems, worked, senior\n",
            "teacher: teachers, education, elementary, schools, teaching, curriculum, students, taught, literacy, mathematics\n",
            "dietitian: nutrition, registered, with, who, she, cooperates, clinical, practitioner, groups, medical\n",
            "\n",
            "\n"
          ]
        },
        {
          "output_type": "stream",
          "name": "stderr",
          "text": [
            "39517it [02:36, 224.71it/s]"
          ]
        },
        {
          "output_type": "stream",
          "name": "stdout",
          "text": [
            "| epoch   5 | 39500/70832 batches | loss    1.620 \n",
            "women: women’s, gender, living, she, the, working, her, identity, and, culture\n",
            "men: life, this, one, to, just, would, on, understanding, have, much\n",
            "nurse: practitioner, affiliates, specialists, collaborates, nursing, hospitals, diverse, experiences, honors, graduated\n",
            "doctor: fixing, college, completed, crowns, implant, provided, from, member, dental, tooth\n",
            "engineer: software, engineering, computer, technical, technology, electrical, industry, systems, worked, senior\n",
            "teacher: teachers, education, elementary, schools, teaching, curriculum, students, taught, literacy, mathematics\n",
            "dietitian: nutrition, registered, with, who, she, cooperates, clinical, practitioner, groups, medical\n",
            "\n",
            "\n"
          ]
        },
        {
          "output_type": "stream",
          "name": "stderr",
          "text": [
            "40029it [02:41, 143.78it/s]"
          ]
        },
        {
          "output_type": "stream",
          "name": "stdout",
          "text": [
            "| epoch   5 | 40000/70832 batches | loss    1.624 \n",
            "women: women’s, gender, living, she, the, working, her, identity, and, culture\n",
            "men: life, this, one, to, just, would, on, understanding, have, much\n",
            "nurse: practitioner, affiliates, specialists, collaborates, nursing, hospitals, diverse, experiences, honors, graduated\n",
            "doctor: fixing, college, completed, crowns, implant, provided, from, member, dental, tooth\n",
            "engineer: software, engineering, computer, technical, technology, electrical, industry, systems, worked, senior\n",
            "teacher: teachers, education, elementary, schools, teaching, curriculum, students, taught, literacy, mathematics\n",
            "dietitian: nutrition, registered, with, who, she, cooperates, clinical, practitioner, groups, medical\n",
            "\n",
            "\n"
          ]
        },
        {
          "output_type": "stream",
          "name": "stderr",
          "text": [
            "40518it [02:43, 224.60it/s]"
          ]
        },
        {
          "output_type": "stream",
          "name": "stdout",
          "text": [
            "| epoch   5 | 40500/70832 batches | loss    1.622 \n",
            "women: women’s, gender, living, she, the, working, her, identity, and, culture\n",
            "men: life, this, one, to, just, would, on, understanding, have, much\n",
            "nurse: practitioner, affiliates, specialists, collaborates, nursing, hospitals, diverse, experiences, honors, graduated\n",
            "doctor: fixing, college, completed, crowns, implant, provided, from, member, dental, tooth\n",
            "engineer: software, engineering, computer, technical, technology, electrical, industry, systems, worked, senior\n",
            "teacher: teachers, education, elementary, schools, teaching, curriculum, students, taught, literacy, mathematics\n",
            "dietitian: nutrition, registered, with, who, she, cooperates, clinical, practitioner, groups, medical\n",
            "\n",
            "\n"
          ]
        },
        {
          "output_type": "stream",
          "name": "stderr",
          "text": [
            "41016it [02:45, 234.00it/s]"
          ]
        },
        {
          "output_type": "stream",
          "name": "stdout",
          "text": [
            "| epoch   5 | 41000/70832 batches | loss    1.618 \n",
            "women: women’s, gender, living, she, the, working, her, identity, and, culture\n",
            "men: life, this, one, to, just, would, on, understanding, have, much\n",
            "nurse: practitioner, affiliates, specialists, collaborates, nursing, hospitals, diverse, experiences, honors, graduated\n",
            "doctor: fixing, college, completed, crowns, implant, provided, from, member, dental, tooth\n",
            "engineer: software, engineering, computer, technical, technology, electrical, industry, systems, worked, senior\n",
            "teacher: teachers, education, elementary, schools, teaching, curriculum, students, taught, literacy, mathematics\n",
            "dietitian: nutrition, registered, with, who, she, cooperates, clinical, practitioner, groups, medical\n",
            "\n",
            "\n"
          ]
        },
        {
          "output_type": "stream",
          "name": "stderr",
          "text": [
            "41531it [02:47, 227.57it/s]"
          ]
        },
        {
          "output_type": "stream",
          "name": "stdout",
          "text": [
            "| epoch   5 | 41500/70832 batches | loss    1.622 \n",
            "women: women’s, gender, living, she, the, working, her, identity, and, culture\n",
            "men: life, this, one, to, just, would, on, understanding, have, much\n",
            "nurse: practitioner, affiliates, specialists, collaborates, nursing, hospitals, diverse, experiences, honors, graduated\n",
            "doctor: fixing, college, completed, crowns, implant, provided, from, member, dental, tooth\n",
            "engineer: software, engineering, computer, technical, technology, electrical, industry, systems, worked, senior\n",
            "teacher: teachers, education, elementary, schools, teaching, curriculum, students, taught, literacy, mathematics\n",
            "dietitian: nutrition, registered, with, who, she, cooperates, clinical, practitioner, groups, medical\n",
            "\n",
            "\n"
          ]
        },
        {
          "output_type": "stream",
          "name": "stderr",
          "text": [
            "42017it [02:49, 229.95it/s]"
          ]
        },
        {
          "output_type": "stream",
          "name": "stdout",
          "text": [
            "| epoch   5 | 42000/70832 batches | loss    1.620 \n",
            "women: women’s, gender, living, she, the, working, her, identity, and, culture\n",
            "men: life, this, one, to, just, would, on, understanding, have, much\n",
            "nurse: practitioner, affiliates, specialists, collaborates, nursing, hospitals, diverse, experiences, honors, graduated\n",
            "doctor: fixing, college, completed, crowns, implant, provided, from, member, dental, tooth\n",
            "engineer: software, engineering, computer, technical, technology, electrical, industry, systems, worked, senior\n",
            "teacher: teachers, education, elementary, schools, teaching, curriculum, students, taught, literacy, mathematics\n",
            "dietitian: nutrition, registered, with, who, she, cooperates, clinical, practitioner, groups, medical\n",
            "\n",
            "\n"
          ]
        },
        {
          "output_type": "stream",
          "name": "stderr",
          "text": [
            "42532it [02:51, 226.64it/s]"
          ]
        },
        {
          "output_type": "stream",
          "name": "stdout",
          "text": [
            "| epoch   5 | 42500/70832 batches | loss    1.619 \n",
            "women: women’s, gender, living, she, the, working, her, identity, and, culture\n",
            "men: life, this, one, to, just, would, on, understanding, have, much\n",
            "nurse: practitioner, affiliates, specialists, collaborates, nursing, hospitals, diverse, experiences, honors, graduated\n",
            "doctor: fixing, college, completed, crowns, implant, provided, from, member, dental, tooth\n",
            "engineer: software, engineering, computer, technical, technology, electrical, industry, systems, worked, senior\n",
            "teacher: teachers, education, elementary, schools, teaching, curriculum, students, taught, literacy, mathematics\n",
            "dietitian: nutrition, registered, with, who, she, cooperates, clinical, practitioner, groups, medical\n",
            "\n",
            "\n"
          ]
        },
        {
          "output_type": "stream",
          "name": "stderr",
          "text": [
            "43032it [02:53, 221.55it/s]"
          ]
        },
        {
          "output_type": "stream",
          "name": "stdout",
          "text": [
            "| epoch   5 | 43000/70832 batches | loss    1.621 \n",
            "women: women’s, gender, living, she, the, working, her, identity, and, culture\n",
            "men: life, this, one, to, just, would, on, understanding, have, much\n",
            "nurse: practitioner, affiliates, specialists, collaborates, nursing, hospitals, diverse, experiences, honors, graduated\n",
            "doctor: fixing, college, completed, crowns, implant, provided, from, member, dental, tooth\n",
            "engineer: software, engineering, computer, technical, technology, electrical, industry, systems, worked, senior\n",
            "teacher: teachers, education, elementary, schools, teaching, curriculum, students, taught, literacy, mathematics\n",
            "dietitian: nutrition, registered, with, who, she, cooperates, clinical, practitioner, groups, medical\n",
            "\n",
            "\n"
          ]
        },
        {
          "output_type": "stream",
          "name": "stderr",
          "text": [
            "43528it [02:55, 234.82it/s]"
          ]
        },
        {
          "output_type": "stream",
          "name": "stdout",
          "text": [
            "| epoch   5 | 43500/70832 batches | loss    1.620 \n",
            "women: women’s, gender, living, she, the, working, her, identity, and, culture\n",
            "men: life, this, one, to, just, would, on, understanding, have, much\n",
            "nurse: practitioner, affiliates, specialists, collaborates, nursing, hospitals, diverse, experiences, honors, graduated\n",
            "doctor: fixing, college, completed, crowns, implant, provided, from, member, dental, tooth\n",
            "engineer: software, engineering, computer, technical, technology, electrical, industry, systems, worked, senior\n",
            "teacher: teachers, education, elementary, schools, teaching, curriculum, students, taught, literacy, mathematics\n",
            "dietitian: nutrition, registered, with, who, she, cooperates, clinical, practitioner, groups, medical\n",
            "\n",
            "\n"
          ]
        },
        {
          "output_type": "stream",
          "name": "stderr",
          "text": [
            "44016it [02:57, 226.81it/s]"
          ]
        },
        {
          "output_type": "stream",
          "name": "stdout",
          "text": [
            "| epoch   5 | 44000/70832 batches | loss    1.618 \n",
            "women: women’s, gender, living, she, the, working, her, identity, and, culture\n",
            "men: life, this, one, to, just, would, on, understanding, have, much\n",
            "nurse: practitioner, affiliates, specialists, collaborates, nursing, hospitals, diverse, experiences, honors, graduated\n",
            "doctor: fixing, college, completed, crowns, implant, provided, from, member, dental, tooth\n",
            "engineer: software, engineering, computer, technical, technology, electrical, industry, systems, worked, senior\n",
            "teacher: teachers, education, elementary, schools, teaching, curriculum, students, taught, literacy, mathematics\n",
            "dietitian: nutrition, registered, with, who, she, cooperates, clinical, practitioner, groups, medical\n",
            "\n",
            "\n"
          ]
        },
        {
          "output_type": "stream",
          "name": "stderr",
          "text": [
            "44528it [02:59, 229.24it/s]"
          ]
        },
        {
          "output_type": "stream",
          "name": "stdout",
          "text": [
            "| epoch   5 | 44500/70832 batches | loss    1.626 \n",
            "women: women’s, gender, living, she, the, working, her, identity, and, culture\n",
            "men: life, this, one, to, just, would, on, understanding, have, much\n",
            "nurse: practitioner, affiliates, specialists, collaborates, nursing, hospitals, diverse, experiences, honors, graduated\n",
            "doctor: fixing, college, completed, crowns, implant, provided, from, member, dental, tooth\n",
            "engineer: software, engineering, computer, technical, technology, electrical, industry, systems, worked, senior\n",
            "teacher: teachers, education, elementary, schools, teaching, curriculum, students, taught, literacy, mathematics\n",
            "dietitian: nutrition, registered, with, who, she, cooperates, clinical, practitioner, groups, medical\n",
            "\n",
            "\n"
          ]
        },
        {
          "output_type": "stream",
          "name": "stderr",
          "text": [
            "45021it [03:01, 217.13it/s]"
          ]
        },
        {
          "output_type": "stream",
          "name": "stdout",
          "text": [
            "| epoch   5 | 45000/70832 batches | loss    1.619 \n",
            "women: women’s, gender, living, she, the, working, her, identity, and, culture\n",
            "men: life, this, one, to, just, would, on, understanding, have, much\n",
            "nurse: practitioner, affiliates, specialists, collaborates, nursing, hospitals, diverse, experiences, honors, graduated\n",
            "doctor: fixing, college, completed, crowns, implant, provided, from, member, dental, tooth\n",
            "engineer: software, engineering, computer, technical, technology, electrical, industry, systems, worked, senior\n",
            "teacher: teachers, education, elementary, schools, teaching, curriculum, students, taught, literacy, mathematics\n",
            "dietitian: nutrition, registered, with, who, she, cooperates, clinical, practitioner, groups, medical\n",
            "\n",
            "\n"
          ]
        },
        {
          "output_type": "stream",
          "name": "stderr",
          "text": [
            "45527it [03:03, 213.54it/s]"
          ]
        },
        {
          "output_type": "stream",
          "name": "stdout",
          "text": [
            "| epoch   5 | 45500/70832 batches | loss    1.616 \n",
            "women: women’s, gender, living, she, the, working, her, identity, and, culture\n",
            "men: life, this, one, to, just, would, on, understanding, have, much\n",
            "nurse: practitioner, affiliates, specialists, collaborates, nursing, hospitals, diverse, experiences, honors, graduated\n",
            "doctor: fixing, college, completed, crowns, implant, provided, from, member, dental, tooth\n",
            "engineer: software, engineering, computer, technical, technology, electrical, industry, systems, worked, senior\n",
            "teacher: teachers, education, elementary, schools, teaching, curriculum, students, taught, literacy, mathematics\n",
            "dietitian: nutrition, registered, with, who, she, cooperates, clinical, practitioner, groups, medical\n",
            "\n",
            "\n"
          ]
        },
        {
          "output_type": "stream",
          "name": "stderr",
          "text": [
            "46023it [03:05, 219.35it/s]"
          ]
        },
        {
          "output_type": "stream",
          "name": "stdout",
          "text": [
            "| epoch   5 | 46000/70832 batches | loss    1.621 \n",
            "women: women’s, gender, living, she, the, working, her, identity, and, culture\n",
            "men: life, this, one, to, just, would, on, understanding, have, much\n",
            "nurse: practitioner, affiliates, specialists, collaborates, nursing, hospitals, diverse, experiences, honors, graduated\n",
            "doctor: fixing, college, completed, crowns, implant, provided, from, member, dental, tooth\n",
            "engineer: software, engineering, computer, technical, technology, electrical, industry, systems, worked, senior\n",
            "teacher: teachers, education, elementary, schools, teaching, curriculum, students, taught, literacy, mathematics\n",
            "dietitian: nutrition, registered, with, who, she, cooperates, clinical, practitioner, groups, medical\n",
            "\n",
            "\n"
          ]
        },
        {
          "output_type": "stream",
          "name": "stderr",
          "text": [
            "46517it [03:06, 216.32it/s]"
          ]
        },
        {
          "output_type": "stream",
          "name": "stdout",
          "text": [
            "| epoch   5 | 46500/70832 batches | loss    1.613 \n",
            "women: women’s, gender, living, she, the, working, her, identity, and, culture\n",
            "men: life, this, one, to, just, would, on, understanding, have, much\n",
            "nurse: practitioner, affiliates, specialists, collaborates, nursing, hospitals, diverse, experiences, honors, graduated\n",
            "doctor: fixing, college, completed, crowns, implant, provided, from, member, dental, tooth\n",
            "engineer: software, engineering, computer, technical, technology, electrical, industry, systems, worked, senior\n",
            "teacher: teachers, education, elementary, schools, teaching, curriculum, students, taught, literacy, mathematics\n",
            "dietitian: nutrition, registered, with, who, she, cooperates, clinical, practitioner, groups, medical\n",
            "\n",
            "\n"
          ]
        },
        {
          "output_type": "stream",
          "name": "stderr",
          "text": [
            "47027it [03:08, 229.72it/s]"
          ]
        },
        {
          "output_type": "stream",
          "name": "stdout",
          "text": [
            "| epoch   5 | 47000/70832 batches | loss    1.625 \n",
            "women: women’s, gender, living, she, the, working, her, identity, and, culture\n",
            "men: life, this, one, to, just, would, on, understanding, have, much\n",
            "nurse: practitioner, affiliates, specialists, collaborates, nursing, hospitals, diverse, experiences, honors, graduated\n",
            "doctor: fixing, college, completed, crowns, implant, provided, from, member, dental, tooth\n",
            "engineer: software, engineering, computer, technical, technology, electrical, industry, systems, worked, senior\n",
            "teacher: teachers, education, elementary, schools, teaching, curriculum, students, taught, literacy, mathematics\n",
            "dietitian: nutrition, registered, with, who, she, cooperates, clinical, practitioner, groups, medical\n",
            "\n",
            "\n"
          ]
        },
        {
          "output_type": "stream",
          "name": "stderr",
          "text": [
            "47528it [03:10, 218.34it/s]"
          ]
        },
        {
          "output_type": "stream",
          "name": "stdout",
          "text": [
            "| epoch   5 | 47500/70832 batches | loss    1.620 \n",
            "women: women’s, gender, living, she, the, working, her, identity, and, culture\n",
            "men: life, this, one, to, just, would, on, understanding, have, much\n",
            "nurse: practitioner, affiliates, specialists, collaborates, nursing, hospitals, diverse, experiences, honors, graduated\n",
            "doctor: fixing, college, completed, crowns, implant, provided, from, member, dental, tooth\n",
            "engineer: software, engineering, computer, technical, technology, electrical, industry, systems, worked, senior\n",
            "teacher: teachers, education, elementary, schools, teaching, curriculum, students, taught, literacy, mathematics\n",
            "dietitian: nutrition, registered, with, who, she, cooperates, clinical, practitioner, groups, medical\n",
            "\n",
            "\n"
          ]
        },
        {
          "output_type": "stream",
          "name": "stderr",
          "text": [
            "48011it [03:12, 228.74it/s]"
          ]
        },
        {
          "output_type": "stream",
          "name": "stdout",
          "text": [
            "| epoch   5 | 48000/70832 batches | loss    1.621 \n",
            "women: women’s, gender, living, she, the, working, her, identity, and, culture\n",
            "men: life, this, one, to, just, would, on, understanding, have, much\n",
            "nurse: practitioner, affiliates, specialists, collaborates, nursing, hospitals, diverse, experiences, honors, graduated\n",
            "doctor: fixing, college, completed, crowns, implant, provided, from, member, dental, tooth\n",
            "engineer: software, engineering, computer, technical, technology, electrical, industry, systems, worked, senior\n",
            "teacher: teachers, education, elementary, schools, teaching, curriculum, students, taught, literacy, mathematics\n",
            "dietitian: nutrition, registered, with, who, she, cooperates, clinical, practitioner, groups, medical\n",
            "\n",
            "\n"
          ]
        },
        {
          "output_type": "stream",
          "name": "stderr",
          "text": [
            "48532it [03:14, 231.07it/s]"
          ]
        },
        {
          "output_type": "stream",
          "name": "stdout",
          "text": [
            "| epoch   5 | 48500/70832 batches | loss    1.622 \n",
            "women: women’s, gender, living, she, the, working, her, identity, and, culture\n",
            "men: life, this, one, to, just, would, on, understanding, have, much\n",
            "nurse: practitioner, affiliates, specialists, collaborates, nursing, hospitals, diverse, experiences, honors, graduated\n",
            "doctor: fixing, college, completed, crowns, implant, provided, from, member, dental, tooth\n",
            "engineer: software, engineering, computer, technical, technology, electrical, industry, systems, worked, senior\n",
            "teacher: teachers, education, elementary, schools, teaching, curriculum, students, taught, literacy, mathematics\n",
            "dietitian: nutrition, registered, with, who, she, cooperates, clinical, practitioner, groups, medical\n",
            "\n",
            "\n"
          ]
        },
        {
          "output_type": "stream",
          "name": "stderr",
          "text": [
            "49027it [03:16, 212.32it/s]"
          ]
        },
        {
          "output_type": "stream",
          "name": "stdout",
          "text": [
            "| epoch   5 | 49000/70832 batches | loss    1.616 \n",
            "women: women’s, gender, living, she, the, working, her, identity, and, culture\n",
            "men: life, this, one, to, just, would, on, understanding, have, much\n",
            "nurse: practitioner, affiliates, specialists, collaborates, nursing, hospitals, diverse, experiences, honors, graduated\n",
            "doctor: fixing, college, completed, crowns, implant, provided, from, member, dental, tooth\n",
            "engineer: software, engineering, computer, technical, technology, electrical, industry, systems, worked, senior\n",
            "teacher: teachers, education, elementary, schools, teaching, curriculum, students, taught, literacy, mathematics\n",
            "dietitian: nutrition, registered, with, who, she, cooperates, clinical, practitioner, groups, medical\n",
            "\n",
            "\n"
          ]
        },
        {
          "output_type": "stream",
          "name": "stderr",
          "text": [
            "49513it [03:18, 228.24it/s]"
          ]
        },
        {
          "output_type": "stream",
          "name": "stdout",
          "text": [
            "| epoch   5 | 49500/70832 batches | loss    1.625 \n",
            "women: women’s, gender, living, she, the, working, her, identity, and, culture\n",
            "men: life, this, one, to, just, would, on, understanding, have, much\n",
            "nurse: practitioner, affiliates, specialists, collaborates, nursing, hospitals, diverse, experiences, honors, graduated\n",
            "doctor: fixing, college, completed, crowns, implant, provided, from, member, dental, tooth\n",
            "engineer: software, engineering, computer, technical, technology, electrical, industry, systems, worked, senior\n",
            "teacher: teachers, education, elementary, schools, teaching, curriculum, students, taught, literacy, mathematics\n",
            "dietitian: nutrition, registered, with, who, she, cooperates, clinical, practitioner, groups, medical\n",
            "\n",
            "\n"
          ]
        },
        {
          "output_type": "stream",
          "name": "stderr",
          "text": [
            "50031it [03:20, 232.34it/s]"
          ]
        },
        {
          "output_type": "stream",
          "name": "stdout",
          "text": [
            "| epoch   5 | 50000/70832 batches | loss    1.624 \n",
            "women: women’s, gender, living, she, the, working, her, identity, and, culture\n",
            "men: life, this, one, to, just, would, on, understanding, have, much\n",
            "nurse: practitioner, affiliates, specialists, collaborates, nursing, hospitals, diverse, experiences, honors, graduated\n",
            "doctor: fixing, college, completed, crowns, implant, provided, from, member, dental, tooth\n",
            "engineer: software, engineering, computer, technical, technology, electrical, industry, systems, worked, senior\n",
            "teacher: teachers, education, elementary, schools, teaching, curriculum, students, taught, literacy, mathematics\n",
            "dietitian: nutrition, registered, with, who, she, cooperates, clinical, practitioner, groups, medical\n",
            "\n",
            "\n"
          ]
        },
        {
          "output_type": "stream",
          "name": "stderr",
          "text": [
            "50516it [03:22, 221.76it/s]"
          ]
        },
        {
          "output_type": "stream",
          "name": "stdout",
          "text": [
            "| epoch   5 | 50500/70832 batches | loss    1.626 \n",
            "women: women’s, gender, living, she, the, working, her, identity, and, culture\n",
            "men: life, this, one, to, just, would, on, understanding, have, much\n",
            "nurse: practitioner, affiliates, specialists, collaborates, nursing, hospitals, diverse, experiences, honors, graduated\n",
            "doctor: fixing, college, completed, crowns, implant, provided, from, member, dental, tooth\n",
            "engineer: software, engineering, computer, technical, technology, electrical, industry, systems, worked, senior\n",
            "teacher: teachers, education, elementary, schools, teaching, curriculum, students, taught, literacy, mathematics\n",
            "dietitian: nutrition, registered, with, who, she, cooperates, clinical, practitioner, groups, medical\n",
            "\n",
            "\n"
          ]
        },
        {
          "output_type": "stream",
          "name": "stderr",
          "text": [
            "51024it [03:24, 221.39it/s]"
          ]
        },
        {
          "output_type": "stream",
          "name": "stdout",
          "text": [
            "| epoch   5 | 51000/70832 batches | loss    1.620 \n",
            "women: women’s, gender, living, she, the, working, her, identity, and, culture\n",
            "men: life, this, one, to, just, would, on, understanding, have, much\n",
            "nurse: practitioner, affiliates, specialists, collaborates, nursing, hospitals, diverse, experiences, honors, graduated\n",
            "doctor: fixing, college, completed, crowns, implant, provided, from, member, dental, tooth\n",
            "engineer: software, engineering, computer, technical, technology, electrical, industry, systems, worked, senior\n",
            "teacher: teachers, education, elementary, schools, teaching, curriculum, students, taught, literacy, mathematics\n",
            "dietitian: nutrition, registered, with, who, she, cooperates, clinical, practitioner, groups, medical\n",
            "\n",
            "\n"
          ]
        },
        {
          "output_type": "stream",
          "name": "stderr",
          "text": [
            "51532it [03:27, 208.88it/s]"
          ]
        },
        {
          "output_type": "stream",
          "name": "stdout",
          "text": [
            "| epoch   5 | 51500/70832 batches | loss    1.622 \n",
            "women: women’s, gender, living, she, the, working, her, identity, and, culture\n",
            "men: life, this, one, to, just, would, on, understanding, have, much\n",
            "nurse: practitioner, affiliates, specialists, collaborates, nursing, hospitals, diverse, experiences, honors, graduated\n",
            "doctor: fixing, college, completed, crowns, implant, provided, from, member, dental, tooth\n",
            "engineer: software, engineering, computer, technical, technology, electrical, industry, systems, worked, senior\n",
            "teacher: teachers, education, elementary, schools, teaching, curriculum, students, taught, literacy, mathematics\n",
            "dietitian: nutrition, registered, with, who, she, cooperates, clinical, practitioner, groups, medical\n",
            "\n",
            "\n"
          ]
        },
        {
          "output_type": "stream",
          "name": "stderr",
          "text": [
            "52020it [03:29, 225.40it/s]"
          ]
        },
        {
          "output_type": "stream",
          "name": "stdout",
          "text": [
            "| epoch   5 | 52000/70832 batches | loss    1.622 \n",
            "women: women’s, gender, living, she, the, working, her, identity, and, culture\n",
            "men: life, this, one, to, just, would, on, understanding, have, much\n",
            "nurse: practitioner, affiliates, specialists, collaborates, nursing, hospitals, diverse, experiences, honors, graduated\n",
            "doctor: fixing, college, completed, crowns, implant, provided, from, member, dental, tooth\n",
            "engineer: software, engineering, computer, technical, technology, electrical, industry, systems, worked, senior\n",
            "teacher: teachers, education, elementary, schools, teaching, curriculum, students, taught, literacy, mathematics\n",
            "dietitian: nutrition, registered, with, who, she, cooperates, clinical, practitioner, groups, medical\n",
            "\n",
            "\n"
          ]
        },
        {
          "output_type": "stream",
          "name": "stderr",
          "text": [
            "52514it [03:30, 211.53it/s]"
          ]
        },
        {
          "output_type": "stream",
          "name": "stdout",
          "text": [
            "| epoch   5 | 52500/70832 batches | loss    1.617 \n",
            "women: women’s, gender, living, she, the, working, her, identity, and, culture\n",
            "men: life, this, one, to, just, would, on, understanding, have, much\n",
            "nurse: practitioner, affiliates, specialists, collaborates, nursing, hospitals, diverse, experiences, honors, graduated\n",
            "doctor: fixing, college, completed, crowns, implant, provided, from, member, dental, tooth\n",
            "engineer: software, engineering, computer, technical, technology, electrical, industry, systems, worked, senior\n",
            "teacher: teachers, education, elementary, schools, teaching, curriculum, students, taught, literacy, mathematics\n",
            "dietitian: nutrition, registered, with, who, she, cooperates, clinical, practitioner, groups, medical\n",
            "\n",
            "\n"
          ]
        },
        {
          "output_type": "stream",
          "name": "stderr",
          "text": [
            "53017it [03:33, 208.44it/s]"
          ]
        },
        {
          "output_type": "stream",
          "name": "stdout",
          "text": [
            "| epoch   5 | 53000/70832 batches | loss    1.625 \n",
            "women: women’s, gender, living, she, the, working, her, identity, and, culture\n",
            "men: life, this, one, to, just, would, on, understanding, have, much\n",
            "nurse: practitioner, affiliates, specialists, collaborates, nursing, hospitals, diverse, experiences, honors, graduated\n",
            "doctor: fixing, college, completed, crowns, implant, provided, from, member, dental, tooth\n",
            "engineer: software, engineering, computer, technical, technology, electrical, industry, systems, worked, senior\n",
            "teacher: teachers, education, elementary, schools, teaching, curriculum, students, taught, literacy, mathematics\n",
            "dietitian: nutrition, registered, with, who, she, cooperates, clinical, practitioner, groups, medical\n",
            "\n",
            "\n"
          ]
        },
        {
          "output_type": "stream",
          "name": "stderr",
          "text": [
            "53514it [03:34, 225.21it/s]"
          ]
        },
        {
          "output_type": "stream",
          "name": "stdout",
          "text": [
            "| epoch   5 | 53500/70832 batches | loss    1.616 \n",
            "women: women’s, gender, living, she, the, working, her, identity, and, culture\n",
            "men: life, this, one, to, just, would, on, understanding, have, much\n",
            "nurse: practitioner, affiliates, specialists, collaborates, nursing, hospitals, diverse, experiences, honors, graduated\n",
            "doctor: fixing, college, completed, crowns, implant, provided, from, member, dental, tooth\n",
            "engineer: software, engineering, computer, technical, technology, electrical, industry, systems, worked, senior\n",
            "teacher: teachers, education, elementary, schools, teaching, curriculum, students, taught, literacy, mathematics\n",
            "dietitian: nutrition, registered, with, who, she, cooperates, clinical, practitioner, groups, medical\n",
            "\n",
            "\n"
          ]
        },
        {
          "output_type": "stream",
          "name": "stderr",
          "text": [
            "54026it [03:36, 227.45it/s]"
          ]
        },
        {
          "output_type": "stream",
          "name": "stdout",
          "text": [
            "| epoch   5 | 54000/70832 batches | loss    1.620 \n",
            "women: women’s, gender, living, she, the, working, her, identity, and, culture\n",
            "men: life, this, one, to, just, would, on, understanding, have, much\n",
            "nurse: practitioner, affiliates, specialists, collaborates, nursing, hospitals, diverse, experiences, honors, graduated\n",
            "doctor: fixing, college, completed, crowns, implant, provided, from, member, dental, tooth\n",
            "engineer: software, engineering, computer, technical, technology, electrical, industry, systems, worked, senior\n",
            "teacher: teachers, education, elementary, schools, teaching, curriculum, students, taught, literacy, mathematics\n",
            "dietitian: nutrition, registered, with, who, she, cooperates, clinical, practitioner, groups, medical\n",
            "\n",
            "\n"
          ]
        },
        {
          "output_type": "stream",
          "name": "stderr",
          "text": [
            "54532it [03:38, 230.74it/s]"
          ]
        },
        {
          "output_type": "stream",
          "name": "stdout",
          "text": [
            "| epoch   5 | 54500/70832 batches | loss    1.625 \n",
            "women: women’s, gender, living, she, the, working, her, identity, and, culture\n",
            "men: life, this, one, to, just, would, on, understanding, have, much\n",
            "nurse: practitioner, affiliates, specialists, collaborates, nursing, hospitals, diverse, experiences, honors, graduated\n",
            "doctor: fixing, college, completed, crowns, implant, provided, from, member, dental, tooth\n",
            "engineer: software, engineering, computer, technical, technology, electrical, industry, systems, worked, senior\n",
            "teacher: teachers, education, elementary, schools, teaching, curriculum, students, taught, literacy, mathematics\n",
            "dietitian: nutrition, registered, with, who, she, cooperates, clinical, practitioner, groups, medical\n",
            "\n",
            "\n"
          ]
        },
        {
          "output_type": "stream",
          "name": "stderr",
          "text": [
            "55027it [03:40, 221.25it/s]"
          ]
        },
        {
          "output_type": "stream",
          "name": "stdout",
          "text": [
            "| epoch   5 | 55000/70832 batches | loss    1.619 \n",
            "women: women’s, gender, living, she, the, working, her, identity, and, culture\n",
            "men: life, this, one, to, just, would, on, understanding, have, much\n",
            "nurse: practitioner, affiliates, specialists, collaborates, nursing, hospitals, diverse, experiences, honors, graduated\n",
            "doctor: fixing, college, completed, crowns, implant, provided, from, member, dental, tooth\n",
            "engineer: software, engineering, computer, technical, technology, electrical, industry, systems, worked, senior\n",
            "teacher: teachers, education, elementary, schools, teaching, curriculum, students, taught, literacy, mathematics\n",
            "dietitian: nutrition, registered, with, who, she, cooperates, clinical, practitioner, groups, medical\n",
            "\n",
            "\n"
          ]
        },
        {
          "output_type": "stream",
          "name": "stderr",
          "text": [
            "55518it [03:42, 224.83it/s]"
          ]
        },
        {
          "output_type": "stream",
          "name": "stdout",
          "text": [
            "| epoch   5 | 55500/70832 batches | loss    1.616 \n",
            "women: women’s, gender, living, she, the, working, her, identity, and, culture\n",
            "men: life, this, one, to, just, would, on, understanding, have, much\n",
            "nurse: practitioner, affiliates, specialists, collaborates, nursing, hospitals, diverse, experiences, honors, graduated\n",
            "doctor: fixing, college, completed, crowns, implant, provided, from, member, dental, tooth\n",
            "engineer: software, engineering, computer, technical, technology, electrical, industry, systems, worked, senior\n",
            "teacher: teachers, education, elementary, schools, teaching, curriculum, students, taught, literacy, mathematics\n",
            "dietitian: nutrition, registered, with, who, she, cooperates, clinical, practitioner, groups, medical\n",
            "\n",
            "\n"
          ]
        },
        {
          "output_type": "stream",
          "name": "stderr",
          "text": [
            "56016it [03:44, 234.04it/s]"
          ]
        },
        {
          "output_type": "stream",
          "name": "stdout",
          "text": [
            "| epoch   5 | 56000/70832 batches | loss    1.627 \n",
            "women: women’s, gender, living, she, the, working, her, identity, and, culture\n",
            "men: life, this, one, to, just, would, on, understanding, have, much\n",
            "nurse: practitioner, affiliates, specialists, collaborates, nursing, hospitals, diverse, experiences, honors, graduated\n",
            "doctor: fixing, college, completed, crowns, implant, provided, from, member, dental, tooth\n",
            "engineer: software, engineering, computer, technical, technology, electrical, industry, systems, worked, senior\n",
            "teacher: teachers, education, elementary, schools, teaching, curriculum, students, taught, literacy, mathematics\n",
            "dietitian: nutrition, registered, with, who, she, cooperates, clinical, practitioner, groups, medical\n",
            "\n",
            "\n"
          ]
        },
        {
          "output_type": "stream",
          "name": "stderr",
          "text": [
            "56527it [03:46, 212.09it/s]"
          ]
        },
        {
          "output_type": "stream",
          "name": "stdout",
          "text": [
            "| epoch   5 | 56500/70832 batches | loss    1.618 \n",
            "women: women’s, gender, living, she, the, working, her, identity, and, culture\n",
            "men: life, this, one, to, just, would, on, understanding, have, much\n",
            "nurse: practitioner, affiliates, specialists, collaborates, nursing, hospitals, diverse, experiences, honors, graduated\n",
            "doctor: fixing, college, completed, crowns, implant, provided, from, member, dental, tooth\n",
            "engineer: software, engineering, computer, technical, technology, electrical, industry, systems, worked, senior\n",
            "teacher: teachers, education, elementary, schools, teaching, curriculum, students, taught, literacy, mathematics\n",
            "dietitian: nutrition, registered, with, who, she, cooperates, clinical, practitioner, groups, medical\n",
            "\n",
            "\n"
          ]
        },
        {
          "output_type": "stream",
          "name": "stderr",
          "text": [
            "57011it [03:48, 217.91it/s]"
          ]
        },
        {
          "output_type": "stream",
          "name": "stdout",
          "text": [
            "| epoch   5 | 57000/70832 batches | loss    1.619 \n",
            "women: women’s, gender, living, she, the, working, her, identity, and, culture\n",
            "men: life, this, one, to, just, would, on, understanding, have, much\n",
            "nurse: practitioner, affiliates, specialists, collaborates, nursing, hospitals, diverse, experiences, honors, graduated\n",
            "doctor: fixing, college, completed, crowns, implant, provided, from, member, dental, tooth\n",
            "engineer: software, engineering, computer, technical, technology, electrical, industry, systems, worked, senior\n",
            "teacher: teachers, education, elementary, schools, teaching, curriculum, students, taught, literacy, mathematics\n",
            "dietitian: nutrition, registered, with, who, she, cooperates, clinical, practitioner, groups, medical\n",
            "\n",
            "\n"
          ]
        },
        {
          "output_type": "stream",
          "name": "stderr",
          "text": [
            "57512it [03:50, 191.59it/s]"
          ]
        },
        {
          "output_type": "stream",
          "name": "stdout",
          "text": [
            "| epoch   5 | 57500/70832 batches | loss    1.619 \n",
            "women: women’s, gender, living, she, the, working, her, identity, and, culture\n",
            "men: life, this, one, to, just, would, on, understanding, have, much\n",
            "nurse: practitioner, affiliates, specialists, collaborates, nursing, hospitals, diverse, experiences, honors, graduated\n",
            "doctor: fixing, college, completed, crowns, implant, provided, from, member, dental, tooth\n",
            "engineer: software, engineering, computer, technical, technology, electrical, industry, systems, worked, senior\n",
            "teacher: teachers, education, elementary, schools, teaching, curriculum, students, taught, literacy, mathematics\n",
            "dietitian: nutrition, registered, with, who, she, cooperates, clinical, practitioner, groups, medical\n",
            "\n",
            "\n"
          ]
        },
        {
          "output_type": "stream",
          "name": "stderr",
          "text": [
            "58027it [03:52, 219.33it/s]"
          ]
        },
        {
          "output_type": "stream",
          "name": "stdout",
          "text": [
            "| epoch   5 | 58000/70832 batches | loss    1.624 \n",
            "women: women’s, gender, living, she, the, working, her, identity, and, culture\n",
            "men: life, this, one, to, just, would, on, understanding, have, much\n",
            "nurse: practitioner, affiliates, specialists, collaborates, nursing, hospitals, diverse, experiences, honors, graduated\n",
            "doctor: fixing, college, completed, crowns, implant, provided, from, member, dental, tooth\n",
            "engineer: software, engineering, computer, technical, technology, electrical, industry, systems, worked, senior\n",
            "teacher: teachers, education, elementary, schools, teaching, curriculum, students, taught, literacy, mathematics\n",
            "dietitian: nutrition, registered, with, who, she, cooperates, clinical, practitioner, groups, medical\n",
            "\n",
            "\n"
          ]
        },
        {
          "output_type": "stream",
          "name": "stderr",
          "text": [
            "58520it [03:54, 225.50it/s]"
          ]
        },
        {
          "output_type": "stream",
          "name": "stdout",
          "text": [
            "| epoch   5 | 58500/70832 batches | loss    1.624 \n",
            "women: women’s, gender, living, she, the, working, her, identity, and, culture\n",
            "men: life, this, one, to, just, would, on, understanding, have, much\n",
            "nurse: practitioner, affiliates, specialists, collaborates, nursing, hospitals, diverse, experiences, honors, graduated\n",
            "doctor: fixing, college, completed, crowns, implant, provided, from, member, dental, tooth\n",
            "engineer: software, engineering, computer, technical, technology, electrical, industry, systems, worked, senior\n",
            "teacher: teachers, education, elementary, schools, teaching, curriculum, students, taught, literacy, mathematics\n",
            "dietitian: nutrition, registered, with, who, she, cooperates, clinical, practitioner, groups, medical\n",
            "\n",
            "\n"
          ]
        },
        {
          "output_type": "stream",
          "name": "stderr",
          "text": [
            "59032it [03:56, 227.12it/s]"
          ]
        },
        {
          "output_type": "stream",
          "name": "stdout",
          "text": [
            "| epoch   5 | 59000/70832 batches | loss    1.621 \n",
            "women: women’s, gender, living, she, the, working, her, identity, and, culture\n",
            "men: life, this, one, to, just, would, on, understanding, have, much\n",
            "nurse: practitioner, affiliates, specialists, collaborates, nursing, hospitals, diverse, experiences, honors, graduated\n",
            "doctor: fixing, college, completed, crowns, implant, provided, from, member, dental, tooth\n",
            "engineer: software, engineering, computer, technical, technology, electrical, industry, systems, worked, senior\n",
            "teacher: teachers, education, elementary, schools, teaching, curriculum, students, taught, literacy, mathematics\n",
            "dietitian: nutrition, registered, with, who, she, cooperates, clinical, practitioner, groups, medical\n",
            "\n",
            "\n"
          ]
        },
        {
          "output_type": "stream",
          "name": "stderr",
          "text": [
            "59523it [03:58, 196.30it/s]"
          ]
        },
        {
          "output_type": "stream",
          "name": "stdout",
          "text": [
            "| epoch   5 | 59500/70832 batches | loss    1.620 \n",
            "women: women’s, gender, living, she, the, working, her, identity, and, culture\n",
            "men: life, this, one, to, just, would, on, understanding, have, much\n",
            "nurse: practitioner, affiliates, specialists, collaborates, nursing, hospitals, diverse, experiences, honors, graduated\n",
            "doctor: fixing, college, completed, crowns, implant, provided, from, member, dental, tooth\n",
            "engineer: software, engineering, computer, technical, technology, electrical, industry, systems, worked, senior\n",
            "teacher: teachers, education, elementary, schools, teaching, curriculum, students, taught, literacy, mathematics\n",
            "dietitian: nutrition, registered, with, who, she, cooperates, clinical, practitioner, groups, medical\n",
            "\n",
            "\n"
          ]
        },
        {
          "output_type": "stream",
          "name": "stderr",
          "text": [
            "60025it [04:00, 205.82it/s]"
          ]
        },
        {
          "output_type": "stream",
          "name": "stdout",
          "text": [
            "| epoch   5 | 60000/70832 batches | loss    1.616 \n",
            "women: women’s, gender, living, she, the, working, her, identity, and, culture\n",
            "men: life, this, one, to, just, would, on, understanding, have, much\n",
            "nurse: practitioner, affiliates, specialists, collaborates, nursing, hospitals, diverse, experiences, honors, graduated\n",
            "doctor: fixing, college, completed, crowns, implant, provided, from, member, dental, tooth\n",
            "engineer: software, engineering, computer, technical, technology, electrical, industry, systems, worked, senior\n",
            "teacher: teachers, education, elementary, schools, teaching, curriculum, students, taught, literacy, mathematics\n",
            "dietitian: nutrition, registered, with, who, she, cooperates, clinical, practitioner, groups, medical\n",
            "\n",
            "\n"
          ]
        },
        {
          "output_type": "stream",
          "name": "stderr",
          "text": [
            "60516it [04:02, 228.03it/s]"
          ]
        },
        {
          "output_type": "stream",
          "name": "stdout",
          "text": [
            "| epoch   5 | 60500/70832 batches | loss    1.617 \n",
            "women: women’s, gender, living, she, the, working, her, identity, and, culture\n",
            "men: life, this, one, to, just, would, on, understanding, have, much\n",
            "nurse: practitioner, affiliates, specialists, collaborates, nursing, hospitals, diverse, experiences, honors, graduated\n",
            "doctor: fixing, college, completed, crowns, implant, provided, from, member, dental, tooth\n",
            "engineer: software, engineering, computer, technical, technology, electrical, industry, systems, worked, senior\n",
            "teacher: teachers, education, elementary, schools, teaching, curriculum, students, taught, literacy, mathematics\n",
            "dietitian: nutrition, registered, with, who, she, cooperates, clinical, practitioner, groups, medical\n",
            "\n",
            "\n"
          ]
        },
        {
          "output_type": "stream",
          "name": "stderr",
          "text": [
            "61010it [04:04, 231.25it/s]"
          ]
        },
        {
          "output_type": "stream",
          "name": "stdout",
          "text": [
            "| epoch   5 | 61000/70832 batches | loss    1.619 \n",
            "women: women’s, gender, living, she, the, working, her, identity, and, culture\n",
            "men: life, this, one, to, just, would, on, understanding, have, much\n",
            "nurse: practitioner, affiliates, specialists, collaborates, nursing, hospitals, diverse, experiences, honors, graduated\n",
            "doctor: fixing, college, completed, crowns, implant, provided, from, member, dental, tooth\n",
            "engineer: software, engineering, computer, technical, technology, electrical, industry, systems, worked, senior\n",
            "teacher: teachers, education, elementary, schools, teaching, curriculum, students, taught, literacy, mathematics\n",
            "dietitian: nutrition, registered, with, who, she, cooperates, clinical, practitioner, groups, medical\n",
            "\n",
            "\n"
          ]
        },
        {
          "output_type": "stream",
          "name": "stderr",
          "text": [
            "61532it [04:06, 227.28it/s]"
          ]
        },
        {
          "output_type": "stream",
          "name": "stdout",
          "text": [
            "| epoch   5 | 61500/70832 batches | loss    1.619 \n",
            "women: women’s, gender, living, she, the, working, her, identity, and, culture\n",
            "men: life, this, one, to, just, would, on, understanding, have, much\n",
            "nurse: practitioner, affiliates, specialists, collaborates, nursing, hospitals, diverse, experiences, honors, graduated\n",
            "doctor: fixing, college, completed, crowns, implant, provided, from, member, dental, tooth\n",
            "engineer: software, engineering, computer, technical, technology, electrical, industry, systems, worked, senior\n",
            "teacher: teachers, education, elementary, schools, teaching, curriculum, students, taught, literacy, mathematics\n",
            "dietitian: nutrition, registered, with, who, she, cooperates, clinical, practitioner, groups, medical\n",
            "\n",
            "\n"
          ]
        },
        {
          "output_type": "stream",
          "name": "stderr",
          "text": [
            "62022it [04:08, 225.11it/s]"
          ]
        },
        {
          "output_type": "stream",
          "name": "stdout",
          "text": [
            "| epoch   5 | 62000/70832 batches | loss    1.625 \n",
            "women: women’s, gender, living, she, the, working, her, identity, and, culture\n",
            "men: life, this, one, to, just, would, on, understanding, have, much\n",
            "nurse: practitioner, affiliates, specialists, collaborates, nursing, hospitals, diverse, experiences, honors, graduated\n",
            "doctor: fixing, college, completed, crowns, implant, provided, from, member, dental, tooth\n",
            "engineer: software, engineering, computer, technical, technology, electrical, industry, systems, worked, senior\n",
            "teacher: teachers, education, elementary, schools, teaching, curriculum, students, taught, literacy, mathematics\n",
            "dietitian: nutrition, registered, with, who, she, cooperates, clinical, practitioner, groups, medical\n",
            "\n",
            "\n"
          ]
        },
        {
          "output_type": "stream",
          "name": "stderr",
          "text": [
            "62517it [04:10, 224.36it/s]"
          ]
        },
        {
          "output_type": "stream",
          "name": "stdout",
          "text": [
            "| epoch   5 | 62500/70832 batches | loss    1.621 \n",
            "women: women’s, gender, living, she, the, working, her, identity, and, culture\n",
            "men: life, this, one, to, just, would, on, understanding, have, much\n",
            "nurse: practitioner, affiliates, specialists, collaborates, nursing, hospitals, diverse, experiences, honors, graduated\n",
            "doctor: fixing, college, completed, crowns, implant, provided, from, member, dental, tooth\n",
            "engineer: software, engineering, computer, technical, technology, electrical, industry, systems, worked, senior\n",
            "teacher: teachers, education, elementary, schools, teaching, curriculum, students, taught, literacy, mathematics\n",
            "dietitian: nutrition, registered, with, who, she, cooperates, clinical, practitioner, groups, medical\n",
            "\n",
            "\n"
          ]
        },
        {
          "output_type": "stream",
          "name": "stderr",
          "text": [
            "63017it [04:12, 223.37it/s]"
          ]
        },
        {
          "output_type": "stream",
          "name": "stdout",
          "text": [
            "| epoch   5 | 63000/70832 batches | loss    1.626 \n",
            "women: women’s, gender, living, she, the, working, her, identity, and, culture\n",
            "men: life, this, one, to, just, would, on, understanding, have, much\n",
            "nurse: practitioner, affiliates, specialists, collaborates, nursing, hospitals, diverse, experiences, honors, graduated\n",
            "doctor: fixing, college, completed, crowns, implant, provided, from, member, dental, tooth\n",
            "engineer: software, engineering, computer, technical, technology, electrical, industry, systems, worked, senior\n",
            "teacher: teachers, education, elementary, schools, teaching, curriculum, students, taught, literacy, mathematics\n",
            "dietitian: nutrition, registered, with, who, she, cooperates, clinical, practitioner, groups, medical\n",
            "\n",
            "\n"
          ]
        },
        {
          "output_type": "stream",
          "name": "stderr",
          "text": [
            "63529it [04:14, 225.25it/s]"
          ]
        },
        {
          "output_type": "stream",
          "name": "stdout",
          "text": [
            "| epoch   5 | 63500/70832 batches | loss    1.622 \n",
            "women: women’s, gender, living, she, the, working, her, identity, and, culture\n",
            "men: life, this, one, to, just, would, on, understanding, have, much\n",
            "nurse: practitioner, affiliates, specialists, collaborates, nursing, hospitals, diverse, experiences, honors, graduated\n",
            "doctor: fixing, college, completed, crowns, implant, provided, from, member, dental, tooth\n",
            "engineer: software, engineering, computer, technical, technology, electrical, industry, systems, worked, senior\n",
            "teacher: teachers, education, elementary, schools, teaching, curriculum, students, taught, literacy, mathematics\n",
            "dietitian: nutrition, registered, with, who, she, cooperates, clinical, practitioner, groups, medical\n",
            "\n",
            "\n"
          ]
        },
        {
          "output_type": "stream",
          "name": "stderr",
          "text": [
            "64024it [04:16, 218.30it/s]"
          ]
        },
        {
          "output_type": "stream",
          "name": "stdout",
          "text": [
            "| epoch   5 | 64000/70832 batches | loss    1.619 \n",
            "women: women’s, gender, living, she, the, working, her, identity, and, culture\n",
            "men: life, this, one, to, just, would, on, understanding, have, much\n",
            "nurse: practitioner, affiliates, specialists, collaborates, nursing, hospitals, diverse, experiences, honors, graduated\n",
            "doctor: fixing, college, completed, crowns, implant, provided, from, member, dental, tooth\n",
            "engineer: software, engineering, computer, technical, technology, electrical, industry, systems, worked, senior\n",
            "teacher: teachers, education, elementary, schools, teaching, curriculum, students, taught, literacy, mathematics\n",
            "dietitian: nutrition, registered, with, who, she, cooperates, clinical, practitioner, groups, medical\n",
            "\n",
            "\n"
          ]
        },
        {
          "output_type": "stream",
          "name": "stderr",
          "text": [
            "64521it [04:18, 228.88it/s]"
          ]
        },
        {
          "output_type": "stream",
          "name": "stdout",
          "text": [
            "| epoch   5 | 64500/70832 batches | loss    1.624 \n",
            "women: women’s, gender, living, she, the, working, her, identity, and, culture\n",
            "men: life, this, one, to, just, would, on, understanding, have, much\n",
            "nurse: practitioner, affiliates, specialists, collaborates, nursing, hospitals, diverse, experiences, honors, graduated\n",
            "doctor: fixing, college, completed, crowns, implant, provided, from, member, dental, tooth\n",
            "engineer: software, engineering, computer, technical, technology, electrical, industry, systems, worked, senior\n",
            "teacher: teachers, education, elementary, schools, teaching, curriculum, students, taught, literacy, mathematics\n",
            "dietitian: nutrition, registered, with, who, she, cooperates, clinical, practitioner, groups, medical\n",
            "\n",
            "\n"
          ]
        },
        {
          "output_type": "stream",
          "name": "stderr",
          "text": [
            "65034it [04:20, 224.83it/s]"
          ]
        },
        {
          "output_type": "stream",
          "name": "stdout",
          "text": [
            "| epoch   5 | 65000/70832 batches | loss    1.620 \n",
            "women: women’s, gender, living, she, the, working, her, identity, and, culture\n",
            "men: life, this, one, to, just, would, on, understanding, have, much\n",
            "nurse: practitioner, affiliates, specialists, collaborates, nursing, hospitals, diverse, experiences, honors, graduated\n",
            "doctor: fixing, college, completed, crowns, implant, provided, from, member, dental, tooth\n",
            "engineer: software, engineering, computer, technical, technology, electrical, industry, systems, worked, senior\n",
            "teacher: teachers, education, elementary, schools, teaching, curriculum, students, taught, literacy, mathematics\n",
            "dietitian: nutrition, registered, with, who, she, cooperates, clinical, practitioner, groups, medical\n",
            "\n",
            "\n"
          ]
        },
        {
          "output_type": "stream",
          "name": "stderr",
          "text": [
            "65522it [04:22, 222.37it/s]"
          ]
        },
        {
          "output_type": "stream",
          "name": "stdout",
          "text": [
            "| epoch   5 | 65500/70832 batches | loss    1.623 \n",
            "women: women’s, gender, living, she, the, working, her, identity, and, culture\n",
            "men: life, this, one, to, just, would, on, understanding, have, much\n",
            "nurse: practitioner, affiliates, specialists, collaborates, nursing, hospitals, diverse, experiences, honors, graduated\n",
            "doctor: fixing, college, completed, crowns, implant, provided, from, member, dental, tooth\n",
            "engineer: software, engineering, computer, technical, technology, electrical, industry, systems, worked, senior\n",
            "teacher: teachers, education, elementary, schools, teaching, curriculum, students, taught, literacy, mathematics\n",
            "dietitian: nutrition, registered, with, who, she, cooperates, clinical, practitioner, groups, medical\n",
            "\n",
            "\n"
          ]
        },
        {
          "output_type": "stream",
          "name": "stderr",
          "text": [
            "66015it [04:24, 231.99it/s]"
          ]
        },
        {
          "output_type": "stream",
          "name": "stdout",
          "text": [
            "| epoch   5 | 66000/70832 batches | loss    1.617 \n",
            "women: women’s, gender, living, she, the, working, her, identity, and, culture\n",
            "men: life, this, one, to, just, would, on, understanding, have, much\n",
            "nurse: practitioner, affiliates, specialists, collaborates, nursing, hospitals, diverse, experiences, honors, graduated\n",
            "doctor: fixing, college, completed, crowns, implant, provided, from, member, dental, tooth\n",
            "engineer: software, engineering, computer, technical, technology, electrical, industry, systems, worked, senior\n",
            "teacher: teachers, education, elementary, schools, teaching, curriculum, students, taught, literacy, mathematics\n",
            "dietitian: nutrition, registered, with, who, she, cooperates, clinical, practitioner, groups, medical\n",
            "\n",
            "\n"
          ]
        },
        {
          "output_type": "stream",
          "name": "stderr",
          "text": [
            "66527it [04:26, 225.23it/s]"
          ]
        },
        {
          "output_type": "stream",
          "name": "stdout",
          "text": [
            "| epoch   5 | 66500/70832 batches | loss    1.620 \n",
            "women: women’s, gender, living, she, the, working, her, identity, and, culture\n",
            "men: life, this, one, to, just, would, on, understanding, have, much\n",
            "nurse: practitioner, affiliates, specialists, collaborates, nursing, hospitals, diverse, experiences, honors, graduated\n",
            "doctor: fixing, college, completed, crowns, implant, provided, from, member, dental, tooth\n",
            "engineer: software, engineering, computer, technical, technology, electrical, industry, systems, worked, senior\n",
            "teacher: teachers, education, elementary, schools, teaching, curriculum, students, taught, literacy, mathematics\n",
            "dietitian: nutrition, registered, with, who, she, cooperates, clinical, practitioner, groups, medical\n",
            "\n",
            "\n"
          ]
        },
        {
          "output_type": "stream",
          "name": "stderr",
          "text": [
            "67021it [04:28, 230.38it/s]"
          ]
        },
        {
          "output_type": "stream",
          "name": "stdout",
          "text": [
            "| epoch   5 | 67000/70832 batches | loss    1.621 \n",
            "women: women’s, gender, living, she, the, working, her, identity, and, culture\n",
            "men: life, this, one, to, just, would, on, understanding, have, much\n",
            "nurse: practitioner, affiliates, specialists, collaborates, nursing, hospitals, diverse, experiences, honors, graduated\n",
            "doctor: fixing, college, completed, crowns, implant, provided, from, member, dental, tooth\n",
            "engineer: software, engineering, computer, technical, technology, electrical, industry, systems, worked, senior\n",
            "teacher: teachers, education, elementary, schools, teaching, curriculum, students, taught, literacy, mathematics\n",
            "dietitian: nutrition, registered, with, who, she, cooperates, clinical, practitioner, groups, medical\n",
            "\n",
            "\n"
          ]
        },
        {
          "output_type": "stream",
          "name": "stderr",
          "text": [
            "67519it [04:30, 214.94it/s]"
          ]
        },
        {
          "output_type": "stream",
          "name": "stdout",
          "text": [
            "| epoch   5 | 67500/70832 batches | loss    1.624 \n",
            "women: women’s, gender, living, she, the, working, her, identity, and, culture\n",
            "men: life, this, one, to, just, would, on, understanding, have, much\n",
            "nurse: practitioner, affiliates, specialists, collaborates, nursing, hospitals, diverse, experiences, honors, graduated\n",
            "doctor: fixing, college, completed, crowns, implant, provided, from, member, dental, tooth\n",
            "engineer: software, engineering, computer, technical, technology, electrical, industry, systems, worked, senior\n",
            "teacher: teachers, education, elementary, schools, teaching, curriculum, students, taught, literacy, mathematics\n",
            "dietitian: nutrition, registered, with, who, she, cooperates, clinical, practitioner, groups, medical\n",
            "\n",
            "\n"
          ]
        },
        {
          "output_type": "stream",
          "name": "stderr",
          "text": [
            "68029it [04:32, 226.59it/s]"
          ]
        },
        {
          "output_type": "stream",
          "name": "stdout",
          "text": [
            "| epoch   5 | 68000/70832 batches | loss    1.624 \n",
            "women: women’s, gender, living, she, the, working, her, identity, and, culture\n",
            "men: life, this, one, to, just, would, on, understanding, have, much\n",
            "nurse: practitioner, affiliates, specialists, collaborates, nursing, hospitals, diverse, experiences, honors, graduated\n",
            "doctor: fixing, college, completed, crowns, implant, provided, from, member, dental, tooth\n",
            "engineer: software, engineering, computer, technical, technology, electrical, industry, systems, worked, senior\n",
            "teacher: teachers, education, elementary, schools, teaching, curriculum, students, taught, literacy, mathematics\n",
            "dietitian: nutrition, registered, with, who, she, cooperates, clinical, practitioner, groups, medical\n",
            "\n",
            "\n"
          ]
        },
        {
          "output_type": "stream",
          "name": "stderr",
          "text": [
            "68522it [04:34, 207.10it/s]"
          ]
        },
        {
          "output_type": "stream",
          "name": "stdout",
          "text": [
            "| epoch   5 | 68500/70832 batches | loss    1.622 \n",
            "women: women’s, gender, living, she, the, working, her, identity, and, culture\n",
            "men: life, this, one, to, just, would, on, understanding, have, much\n",
            "nurse: practitioner, affiliates, specialists, collaborates, nursing, hospitals, diverse, experiences, honors, graduated\n",
            "doctor: fixing, college, completed, crowns, implant, provided, from, member, dental, tooth\n",
            "engineer: software, engineering, computer, technical, technology, electrical, industry, systems, worked, senior\n",
            "teacher: teachers, education, elementary, schools, teaching, curriculum, students, taught, literacy, mathematics\n",
            "dietitian: nutrition, registered, with, who, she, cooperates, clinical, practitioner, groups, medical\n",
            "\n",
            "\n"
          ]
        },
        {
          "output_type": "stream",
          "name": "stderr",
          "text": [
            "69015it [04:36, 231.63it/s]"
          ]
        },
        {
          "output_type": "stream",
          "name": "stdout",
          "text": [
            "| epoch   5 | 69000/70832 batches | loss    1.617 \n",
            "women: women’s, gender, living, she, the, working, her, identity, and, culture\n",
            "men: life, this, one, to, just, would, on, understanding, have, much\n",
            "nurse: practitioner, affiliates, specialists, collaborates, nursing, hospitals, diverse, experiences, honors, graduated\n",
            "doctor: fixing, college, completed, crowns, implant, provided, from, member, dental, tooth\n",
            "engineer: software, engineering, computer, technical, technology, electrical, industry, systems, worked, senior\n",
            "teacher: teachers, education, elementary, schools, teaching, curriculum, students, taught, literacy, mathematics\n",
            "dietitian: nutrition, registered, with, who, she, cooperates, clinical, practitioner, groups, medical\n",
            "\n",
            "\n"
          ]
        },
        {
          "output_type": "stream",
          "name": "stderr",
          "text": [
            "69526it [04:38, 212.48it/s]"
          ]
        },
        {
          "output_type": "stream",
          "name": "stdout",
          "text": [
            "| epoch   5 | 69500/70832 batches | loss    1.622 \n",
            "women: women’s, gender, living, she, the, working, her, identity, and, culture\n",
            "men: life, this, one, to, just, would, on, understanding, have, much\n",
            "nurse: practitioner, affiliates, specialists, collaborates, nursing, hospitals, diverse, experiences, honors, graduated\n",
            "doctor: fixing, college, completed, crowns, implant, provided, from, member, dental, tooth\n",
            "engineer: software, engineering, computer, technical, technology, electrical, industry, systems, worked, senior\n",
            "teacher: teachers, education, elementary, schools, teaching, curriculum, students, taught, literacy, mathematics\n",
            "dietitian: nutrition, registered, with, who, she, cooperates, clinical, practitioner, groups, medical\n",
            "\n",
            "\n"
          ]
        },
        {
          "output_type": "stream",
          "name": "stderr",
          "text": [
            "70032it [04:40, 221.29it/s]"
          ]
        },
        {
          "output_type": "stream",
          "name": "stdout",
          "text": [
            "| epoch   5 | 70000/70832 batches | loss    1.619 \n",
            "women: women’s, gender, living, she, the, working, her, identity, and, culture\n",
            "men: life, this, one, to, just, would, on, understanding, have, much\n",
            "nurse: practitioner, affiliates, specialists, collaborates, nursing, hospitals, diverse, experiences, honors, graduated\n",
            "doctor: fixing, college, completed, crowns, implant, provided, from, member, dental, tooth\n",
            "engineer: software, engineering, computer, technical, technology, electrical, industry, systems, worked, senior\n",
            "teacher: teachers, education, elementary, schools, teaching, curriculum, students, taught, literacy, mathematics\n",
            "dietitian: nutrition, registered, with, who, she, cooperates, clinical, practitioner, groups, medical\n",
            "\n",
            "\n"
          ]
        },
        {
          "output_type": "stream",
          "name": "stderr",
          "text": [
            "70516it [04:42, 215.71it/s]"
          ]
        },
        {
          "output_type": "stream",
          "name": "stdout",
          "text": [
            "| epoch   5 | 70500/70832 batches | loss    1.620 \n",
            "women: women’s, gender, living, she, the, working, her, identity, and, culture\n",
            "men: life, this, one, to, just, would, on, understanding, have, much\n",
            "nurse: practitioner, affiliates, specialists, collaborates, nursing, hospitals, diverse, experiences, honors, graduated\n",
            "doctor: fixing, college, completed, crowns, implant, provided, from, member, dental, tooth\n",
            "engineer: software, engineering, computer, technical, technology, electrical, industry, systems, worked, senior\n",
            "teacher: teachers, education, elementary, schools, teaching, curriculum, students, taught, literacy, mathematics\n",
            "dietitian: nutrition, registered, with, who, she, cooperates, clinical, practitioner, groups, medical\n",
            "\n",
            "\n"
          ]
        },
        {
          "output_type": "stream",
          "name": "stderr",
          "text": [
            "70832it [04:45, 248.18it/s]\n"
          ]
        }
      ],
      "source": [
        "for epoch in range(1, NUM_EPOCHS + 1):\n",
        "    epoch_start_time = time.time()\n",
        "\n",
        "    train(train_dl, model, optimizer, epoch)\n",
        "    # We have a learning rate scheduler here\n",
        "    # Basically, given the state of the optimizer, this lowers the learning rate in a smart way\n",
        "    scheduler.step()"
      ]
    },
    {
      "cell_type": "code",
      "execution_count": null,
      "metadata": {
        "colab": {
          "base_uri": "https://localhost:8080/"
        },
        "id": "Kp37SWQ14T5n",
        "outputId": "ed2cf711-a7d5-450b-c226-b6f26dbe1856"
      },
      "outputs": [
        {
          "output_type": "stream",
          "name": "stdout",
          "text": [
            "Similarity between nurse and average female-related words: 0.41467038\n",
            "Similarity between nurse and average male-related words: 0.29863068\n"
          ]
        }
      ],
      "source": [
        "# Define the words and their embeddings\n",
        "female_words = ['woman', 'girl', 'female', 'she', 'her', 'daughter', 'mother', 'wife', 'mrs', 'miss']\n",
        "male_words = ['man', 'boy', 'male', 'he', 'him', 'his', 'son', 'father', 'husband', 'sir', 'mr']\n",
        "word = 'nurse'\n",
        "\n",
        "# Get the embeddings of the female-related words and nurse\n",
        "female_embeddings = [model.A.weight[stoi[word]].detach().cpu().numpy() for word in female_words]\n",
        "embedding = model.A.weight[stoi[word]].detach().cpu().numpy()\n",
        "\n",
        "# Get the embeddings of the male-related words and nurse\n",
        "male_embeddings = [model.A.weight[stoi[word]].detach().cpu().numpy() for word in male_words]\n",
        "\n",
        "# Calculate the average embedding for female-related words\n",
        "avg_female_embedding = np.mean(female_embeddings, axis=0)\n",
        "\n",
        "# Calculate the average embedding for male-related words\n",
        "avg_male_embedding = np.mean(male_embeddings, axis=0)\n",
        "\n",
        "# Calculate cosine similarity between nurse and average female embedding\n",
        "similarity_female = np.dot(embedding, avg_female_embedding) / (\n",
        "    np.linalg.norm(embedding) * np.linalg.norm(avg_female_embedding)\n",
        ")\n",
        "\n",
        "# Calculate cosine similarity between nurse and average male embedding\n",
        "similarity_male = np.dot(embedding, avg_male_embedding) / (\n",
        "    np.linalg.norm(embedding) * np.linalg.norm(avg_male_embedding)\n",
        ")\n",
        "\n",
        "print(f\"Similarity between {word} and average female-related words:\", similarity_female)\n",
        "print(f\"Similarity between {word} and average male-related words:\", similarity_male)"
      ]
    },
    {
      "cell_type": "code",
      "execution_count": null,
      "metadata": {
        "colab": {
          "base_uri": "https://localhost:8080/"
        },
        "id": "idt3IvY15Ndt",
        "outputId": "a44ac46b-f85a-47cc-a607-bffbe6a50fa8"
      },
      "outputs": [
        {
          "output_type": "stream",
          "name": "stdout",
          "text": [
            "Similarity between doctor and average female-related words: 0.36279586\n",
            "Similarity between doctor and average male-related words: 0.40767568\n"
          ]
        }
      ],
      "source": [
        "# Define the words and their embeddings\n",
        "female_words = ['woman', 'girl', 'female', 'she', 'her', 'daughter', 'mother', 'wife', 'mrs', 'miss']\n",
        "male_words = ['man', 'boy', 'male', 'he', 'him', 'his', 'son', 'father', 'husband', 'sir', 'mr']\n",
        "word = 'doctor'\n",
        "\n",
        "# Get the embeddings of the female-related words and nurse\n",
        "female_embeddings = [model.A.weight[stoi[word]].detach().cpu().numpy() for word in female_words]\n",
        "embedding = model.A.weight[stoi[word]].detach().cpu().numpy()\n",
        "\n",
        "# Get the embeddings of the male-related words and nurse\n",
        "male_embeddings = [model.A.weight[stoi[word]].detach().cpu().numpy() for word in male_words]\n",
        "\n",
        "# Calculate the average embedding for female-related words\n",
        "avg_female_embedding = np.mean(female_embeddings, axis=0)\n",
        "\n",
        "# Calculate the average embedding for male-related words\n",
        "avg_male_embedding = np.mean(male_embeddings, axis=0)\n",
        "\n",
        "# Calculate cosine similarity between nurse and average female embedding\n",
        "similarity_female = np.dot(embedding, avg_female_embedding) / (\n",
        "    np.linalg.norm(embedding) * np.linalg.norm(avg_female_embedding)\n",
        ")\n",
        "\n",
        "# Calculate cosine similarity between nurse and average male embedding\n",
        "similarity_male = np.dot(embedding, avg_male_embedding) / (\n",
        "    np.linalg.norm(embedding) * np.linalg.norm(avg_male_embedding)\n",
        ")\n",
        "\n",
        "print(f\"Similarity between {word} and average female-related words:\", similarity_female)\n",
        "print(f\"Similarity between {word} and average male-related words:\", similarity_male)"
      ]
    },
    {
      "cell_type": "code",
      "execution_count": null,
      "metadata": {
        "colab": {
          "base_uri": "https://localhost:8080/"
        },
        "id": "0lKu99_fhMSO",
        "outputId": "71c31472-460c-403f-8ae2-20cf516bc292"
      },
      "outputs": [
        {
          "output_type": "stream",
          "name": "stdout",
          "text": [
            "Similarity between teacher and average female-related words: 0.37856683\n",
            "Similarity between teacher and average male-related words: 0.38392717\n"
          ]
        }
      ],
      "source": [
        "# Define the words and their embeddings\n",
        "female_words = ['woman', 'girl', 'female', 'she', 'her', 'daughter', 'mother', 'wife', 'mrs', 'miss']\n",
        "male_words = ['man', 'boy', 'male', 'he', 'him', 'his', 'son', 'father', 'husband', 'sir', 'mr']\n",
        "word = 'teacher'\n",
        "\n",
        "# Get the embeddings of the female-related words and nurse\n",
        "female_embeddings = [model.A.weight[stoi[word]].detach().cpu().numpy() for word in female_words]\n",
        "embedding = model.A.weight[stoi[word]].detach().cpu().numpy()\n",
        "\n",
        "# Get the embeddings of the male-related words and nurse\n",
        "male_embeddings = [model.A.weight[stoi[word]].detach().cpu().numpy() for word in male_words]\n",
        "\n",
        "# Calculate the average embedding for female-related words\n",
        "avg_female_embedding = np.mean(female_embeddings, axis=0)\n",
        "\n",
        "# Calculate the average embedding for male-related words\n",
        "avg_male_embedding = np.mean(male_embeddings, axis=0)\n",
        "\n",
        "# Calculate cosine similarity between nurse and average female embedding\n",
        "similarity_female = np.dot(embedding, avg_female_embedding) / (\n",
        "    np.linalg.norm(embedding) * np.linalg.norm(avg_female_embedding)\n",
        ")\n",
        "\n",
        "# Calculate cosine similarity between nurse and average male embedding\n",
        "similarity_male = np.dot(embedding, avg_male_embedding) / (\n",
        "    np.linalg.norm(embedding) * np.linalg.norm(avg_male_embedding)\n",
        ")\n",
        "\n",
        "print(f\"Similarity between {word} and average female-related words:\", similarity_female)\n",
        "print(f\"Similarity between {word} and average male-related words:\", similarity_male)"
      ]
    },
    {
      "cell_type": "code",
      "execution_count": null,
      "metadata": {
        "colab": {
          "base_uri": "https://localhost:8080/"
        },
        "id": "xCCeScbKhO93",
        "outputId": "33571f96-9ad0-471f-b1fa-21984469bd92"
      },
      "outputs": [
        {
          "output_type": "stream",
          "name": "stdout",
          "text": [
            "Similarity between professor and average female-related words: 0.37137228\n",
            "Similarity between professor and average male-related words: 0.40970427\n"
          ]
        }
      ],
      "source": [
        "# Define the words and their embeddings\n",
        "female_words = ['woman', 'girl', 'female', 'she', 'her', 'daughter', 'mother', 'wife', 'mrs', 'miss']\n",
        "male_words = ['man', 'boy', 'male', 'he', 'him', 'his', 'son', 'father', 'husband', 'sir', 'mr']\n",
        "word = 'professor'\n",
        "\n",
        "# Get the embeddings of the female-related words and nurse\n",
        "female_embeddings = [model.A.weight[stoi[word]].detach().cpu().numpy() for word in female_words]\n",
        "embedding = model.A.weight[stoi[word]].detach().cpu().numpy()\n",
        "\n",
        "# Get the embeddings of the male-related words and nurse\n",
        "male_embeddings = [model.A.weight[stoi[word]].detach().cpu().numpy() for word in male_words]\n",
        "\n",
        "# Calculate the average embedding for female-related words\n",
        "avg_female_embedding = np.mean(female_embeddings, axis=0)\n",
        "\n",
        "# Calculate the average embedding for male-related words\n",
        "avg_male_embedding = np.mean(male_embeddings, axis=0)\n",
        "\n",
        "# Calculate cosine similarity between nurse and average female embedding\n",
        "similarity_female = np.dot(embedding, avg_female_embedding) / (\n",
        "    np.linalg.norm(embedding) * np.linalg.norm(avg_female_embedding)\n",
        ")\n",
        "\n",
        "# Calculate cosine similarity between nurse and average male embedding\n",
        "similarity_male = np.dot(embedding, avg_male_embedding) / (\n",
        "    np.linalg.norm(embedding) * np.linalg.norm(avg_male_embedding)\n",
        ")\n",
        "\n",
        "print(f\"Similarity between {word} and average female-related words:\", similarity_female)\n",
        "print(f\"Similarity between {word} and average male-related words:\", similarity_male)"
      ]
    },
    {
      "cell_type": "code",
      "execution_count": null,
      "metadata": {
        "colab": {
          "base_uri": "https://localhost:8080/"
        },
        "id": "H25hwIvrhScb",
        "outputId": "52d0fd74-e7c9-45f0-f906-89b85a5b228f"
      },
      "outputs": [
        {
          "output_type": "stream",
          "name": "stdout",
          "text": [
            "Similarity between engineer and average female-related words: 0.31288597\n",
            "Similarity between engineer and average male-related words: 0.4081571\n"
          ]
        }
      ],
      "source": [
        "# Define the words and their embeddings\n",
        "female_words = ['woman', 'girl', 'female', 'she', 'her', 'daughter', 'mother', 'wife', 'mrs', 'miss']\n",
        "male_words = ['man', 'boy', 'male', 'he', 'him', 'his', 'son', 'father', 'husband', 'sir', 'mr']\n",
        "word = 'engineer'\n",
        "\n",
        "# Get the embeddings of the female-related words and nurse\n",
        "female_embeddings = [model.A.weight[stoi[word]].detach().cpu().numpy() for word in female_words]\n",
        "embedding = model.A.weight[stoi[word]].detach().cpu().numpy()\n",
        "\n",
        "# Get the embeddings of the male-related words and nurse\n",
        "male_embeddings = [model.A.weight[stoi[word]].detach().cpu().numpy() for word in male_words]\n",
        "\n",
        "# Calculate the average embedding for female-related words\n",
        "avg_female_embedding = np.mean(female_embeddings, axis=0)\n",
        "\n",
        "# Calculate the average embedding for male-related words\n",
        "avg_male_embedding = np.mean(male_embeddings, axis=0)\n",
        "\n",
        "# Calculate cosine similarity between nurse and average female embedding\n",
        "similarity_female = np.dot(embedding, avg_female_embedding) / (\n",
        "    np.linalg.norm(embedding) * np.linalg.norm(avg_female_embedding)\n",
        ")\n",
        "\n",
        "# Calculate cosine similarity between nurse and average male embedding\n",
        "similarity_male = np.dot(embedding, avg_male_embedding) / (\n",
        "    np.linalg.norm(embedding) * np.linalg.norm(avg_male_embedding)\n",
        ")\n",
        "\n",
        "print(f\"Similarity between {word} and average female-related words:\", similarity_female)\n",
        "print(f\"Similarity between {word} and average male-related words:\", similarity_male)"
      ]
    },
    {
      "cell_type": "code",
      "execution_count": null,
      "metadata": {
        "colab": {
          "base_uri": "https://localhost:8080/"
        },
        "id": "DDNaGtdqhWUJ",
        "outputId": "67c52f4b-28e0-4ed5-969d-25d0faacf378"
      },
      "outputs": [
        {
          "output_type": "stream",
          "name": "stdout",
          "text": [
            "Similarity between journalist and average female-related words: 0.4494792\n",
            "Similarity between journalist and average male-related words: 0.43392816\n"
          ]
        }
      ],
      "source": [
        "# Define the words and their embeddings\n",
        "female_words = ['woman', 'girl', 'female', 'she', 'her', 'daughter', 'mother', 'wife', 'mrs', 'miss']\n",
        "male_words = ['man', 'boy', 'male', 'he', 'him', 'his', 'son', 'father', 'husband', 'sir', 'mr']\n",
        "word = 'journalist'\n",
        "\n",
        "# Get the embeddings of the female-related words and nurse\n",
        "female_embeddings = [model.A.weight[stoi[word]].detach().cpu().numpy() for word in female_words]\n",
        "embedding = model.A.weight[stoi[word]].detach().cpu().numpy()\n",
        "\n",
        "# Get the embeddings of the male-related words and nurse\n",
        "male_embeddings = [model.A.weight[stoi[word]].detach().cpu().numpy() for word in male_words]\n",
        "\n",
        "# Calculate the average embedding for female-related words\n",
        "avg_female_embedding = np.mean(female_embeddings, axis=0)\n",
        "\n",
        "# Calculate the average embedding for male-related words\n",
        "avg_male_embedding = np.mean(male_embeddings, axis=0)\n",
        "\n",
        "# Calculate cosine similarity between nurse and average female embedding\n",
        "similarity_female = np.dot(embedding, avg_female_embedding) / (\n",
        "    np.linalg.norm(embedding) * np.linalg.norm(avg_female_embedding)\n",
        ")\n",
        "\n",
        "# Calculate cosine similarity between nurse and average male embedding\n",
        "similarity_male = np.dot(embedding, avg_male_embedding) / (\n",
        "    np.linalg.norm(embedding) * np.linalg.norm(avg_male_embedding)\n",
        ")\n",
        "\n",
        "print(f\"Similarity between {word} and average female-related words:\", similarity_female)\n",
        "print(f\"Similarity between {word} and average male-related words:\", similarity_male)"
      ]
    },
    {
      "cell_type": "code",
      "execution_count": null,
      "metadata": {
        "colab": {
          "base_uri": "https://localhost:8080/"
        },
        "id": "pLungq2jh9pH",
        "outputId": "1d466219-91b2-43bb-8524-c339ccd0e327"
      },
      "outputs": [
        {
          "output_type": "stream",
          "name": "stdout",
          "text": [
            "Similarity between dietitian and average female-related words: 0.40576953\n",
            "Similarity between dietitian and average male-related words: 0.3457339\n"
          ]
        }
      ],
      "source": [
        "# Define the words and their embeddings\n",
        "female_words = ['woman', 'girl', 'female', 'she', 'her', 'daughter', 'mother', 'wife', 'mrs', 'miss']\n",
        "male_words = ['man', 'boy', 'male', 'he', 'him', 'his', 'son', 'father', 'husband', 'sir', 'mr']\n",
        "word = 'dietitian'\n",
        "\n",
        "# Get the embeddings of the female-related words and nurse\n",
        "female_embeddings = [model.A.weight[stoi[word]].detach().cpu().numpy() for word in female_words]\n",
        "embedding = model.A.weight[stoi[word]].detach().cpu().numpy()\n",
        "\n",
        "# Get the embeddings of the male-related words and nurse\n",
        "male_embeddings = [model.A.weight[stoi[word]].detach().cpu().numpy() for word in male_words]\n",
        "\n",
        "# Calculate the average embedding for female-related words\n",
        "avg_female_embedding = np.mean(female_embeddings, axis=0)\n",
        "\n",
        "# Calculate the average embedding for male-related words\n",
        "avg_male_embedding = np.mean(male_embeddings, axis=0)\n",
        "\n",
        "# Calculate cosine similarity between nurse and average female embedding\n",
        "similarity_female = np.dot(embedding, avg_female_embedding) / (\n",
        "    np.linalg.norm(embedding) * np.linalg.norm(avg_female_embedding)\n",
        ")\n",
        "\n",
        "# Calculate cosine similarity between nurse and average male embedding\n",
        "similarity_male = np.dot(embedding, avg_male_embedding) / (\n",
        "    np.linalg.norm(embedding) * np.linalg.norm(avg_male_embedding)\n",
        ")\n",
        "\n",
        "print(f\"Similarity between {word} and average female-related words:\", similarity_female)\n",
        "print(f\"Similarity between {word} and average male-related words:\", similarity_male)"
      ]
    },
    {
      "cell_type": "code",
      "execution_count": null,
      "metadata": {
        "colab": {
          "base_uri": "https://localhost:8080/"
        },
        "id": "qxlSdLNOiGq-",
        "outputId": "7a7e8ece-5eee-4f4a-c129-1c60185b0bab"
      },
      "outputs": [
        {
          "output_type": "stream",
          "name": "stdout",
          "text": [
            "Similarity between dentist and average female-related words: 0.3524153\n",
            "Similarity between dentist and average male-related words: 0.3453057\n"
          ]
        }
      ],
      "source": [
        "# Define the words and their embeddings\n",
        "female_words = ['woman', 'girl', 'female', 'she', 'her', 'daughter', 'mother', 'wife', 'mrs', 'miss']\n",
        "male_words = ['man', 'boy', 'male', 'he', 'him', 'his', 'son', 'father', 'husband', 'sir', 'mr']\n",
        "word = 'dentist'\n",
        "\n",
        "# Get the embeddings of the female-related words and nurse\n",
        "female_embeddings = [model.A.weight[stoi[word]].detach().cpu().numpy() for word in female_words]\n",
        "embedding = model.A.weight[stoi[word]].detach().cpu().numpy()\n",
        "\n",
        "# Get the embeddings of the male-related words and nurse\n",
        "male_embeddings = [model.A.weight[stoi[word]].detach().cpu().numpy() for word in male_words]\n",
        "\n",
        "# Calculate the average embedding for female-related words\n",
        "avg_female_embedding = np.mean(female_embeddings, axis=0)\n",
        "\n",
        "# Calculate the average embedding for male-related words\n",
        "avg_male_embedding = np.mean(male_embeddings, axis=0)\n",
        "\n",
        "# Calculate cosine similarity between nurse and average female embedding\n",
        "similarity_female = np.dot(embedding, avg_female_embedding) / (\n",
        "    np.linalg.norm(embedding) * np.linalg.norm(avg_female_embedding)\n",
        ")\n",
        "\n",
        "# Calculate cosine similarity between nurse and average male embedding\n",
        "similarity_male = np.dot(embedding, avg_male_embedding) / (\n",
        "    np.linalg.norm(embedding) * np.linalg.norm(avg_male_embedding)\n",
        ")\n",
        "\n",
        "print(f\"Similarity between {word} and average female-related words:\", similarity_female)\n",
        "print(f\"Similarity between {word} and average male-related words:\", similarity_male)"
      ]
    }
  ],
  "metadata": {
    "accelerator": "GPU",
    "colab": {
      "gpuType": "L4",
      "machine_shape": "hm",
      "provenance": []
    },
    "kernelspec": {
      "display_name": "Python 3",
      "name": "python3"
    },
    "language_info": {
      "name": "python"
    }
  },
  "nbformat": 4,
  "nbformat_minor": 0
}